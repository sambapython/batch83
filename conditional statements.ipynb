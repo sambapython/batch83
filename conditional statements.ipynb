{
 "cells": [
  {
   "cell_type": "code",
   "execution_count": 1,
   "metadata": {},
   "outputs": [
    {
     "name": "stdout",
     "output_type": "stream",
     "text": [
      "a is big\n",
      "b is big\n"
     ]
    }
   ],
   "source": [
    "a=10\n",
    "b=20\n",
    "print(\"a is big\")\n",
    "print(\"b is big\")"
   ]
  },
  {
   "cell_type": "code",
   "execution_count": 2,
   "metadata": {},
   "outputs": [
    {
     "name": "stdout",
     "output_type": "stream",
     "text": [
      "a is big\n",
      "b is big\n"
     ]
    }
   ],
   "source": [
    "a=100\n",
    "b=20\n",
    "print(\"a is big\")\n",
    "print(\"b is big\")"
   ]
  },
  {
   "cell_type": "code",
   "execution_count": 3,
   "metadata": {},
   "outputs": [
    {
     "name": "stdout",
     "output_type": "stream",
     "text": [
      "a is big\n"
     ]
    }
   ],
   "source": [
    "a=100\n",
    "b=20\n",
    "if True:\n",
    "    print(\"a is big\")\n",
    "else:\n",
    "    print(\"b is big\")"
   ]
  },
  {
   "cell_type": "code",
   "execution_count": 4,
   "metadata": {},
   "outputs": [
    {
     "name": "stdout",
     "output_type": "stream",
     "text": [
      "b is big\n"
     ]
    }
   ],
   "source": [
    "a=100\n",
    "b=200\n",
    "if False:\n",
    "    print(\"a is big\")\n",
    "else:\n",
    "    print(\"b is big\")"
   ]
  },
  {
   "cell_type": "code",
   "execution_count": 5,
   "metadata": {},
   "outputs": [
    {
     "name": "stdout",
     "output_type": "stream",
     "text": [
      "a is big\n"
     ]
    }
   ],
   "source": [
    "a=1\n",
    "b=2\n",
    "if a<b:#1<2:True\n",
    "    print(\"a is big\")\n",
    "else:\n",
    "    print(\"b is big\")"
   ]
  },
  {
   "cell_type": "code",
   "execution_count": 6,
   "metadata": {},
   "outputs": [
    {
     "name": "stdout",
     "output_type": "stream",
     "text": [
      "b is big\n"
     ]
    }
   ],
   "source": [
    "a=10\n",
    "b=2\n",
    "if a<b:#1<2:True\n",
    "    print(\"a is big\")\n",
    "else:\n",
    "    print(\"b is big\")"
   ]
  },
  {
   "cell_type": "code",
   "execution_count": 7,
   "metadata": {},
   "outputs": [
    {
     "name": "stdout",
     "output_type": "stream",
     "text": [
      "a is big\n"
     ]
    }
   ],
   "source": [
    "a=10\n",
    "b=2\n",
    "if a<b:#1<2:True\n",
    "    print(\"b is big\")\n",
    "else:\n",
    "    print(\"a is big\")"
   ]
  },
  {
   "cell_type": "code",
   "execution_count": 8,
   "metadata": {},
   "outputs": [
    {
     "name": "stdout",
     "output_type": "stream",
     "text": [
      "a is big\n"
     ]
    }
   ],
   "source": [
    "a=10\n",
    "b=2\n",
    "if a<b:#10<2:false\n",
    "    print(\"b is big\")\n",
    "else:\n",
    "    print(\"a is big\")"
   ]
  },
  {
   "cell_type": "code",
   "execution_count": 9,
   "metadata": {},
   "outputs": [
    {
     "name": "stdout",
     "output_type": "stream",
     "text": [
      "b is big\n"
     ]
    }
   ],
   "source": [
    "a=10\n",
    "b=20\n",
    "if a<b:#10<20:True\n",
    "    print(\"b is big\")\n",
    "else:\n",
    "    print(\"a is big\")"
   ]
  },
  {
   "cell_type": "code",
   "execution_count": 10,
   "metadata": {},
   "outputs": [
    {
     "name": "stdout",
     "output_type": "stream",
     "text": [
      "enter a string:python\n",
      "6\n"
     ]
    }
   ],
   "source": [
    "s=input(\"enter a string:\")\n",
    "print(len(s))"
   ]
  },
  {
   "cell_type": "code",
   "execution_count": 11,
   "metadata": {},
   "outputs": [
    {
     "name": "stdout",
     "output_type": "stream",
     "text": [
      "enter a string:\n",
      "0\n"
     ]
    }
   ],
   "source": [
    "s=input(\"enter a string:\")\n",
    "print(len(s))"
   ]
  },
  {
   "cell_type": "code",
   "execution_count": 12,
   "metadata": {},
   "outputs": [
    {
     "name": "stdout",
     "output_type": "stream",
     "text": [
      "0\n"
     ]
    }
   ],
   "source": [
    "s=\"\"\n",
    "print(len(s))"
   ]
  },
  {
   "cell_type": "code",
   "execution_count": 13,
   "metadata": {},
   "outputs": [
    {
     "name": "stdout",
     "output_type": "stream",
     "text": [
      "enter a string:\n",
      "invalid string\n"
     ]
    }
   ],
   "source": [
    "s=input(\"enter a string:\")\n",
    "if len(s)==0:\n",
    "    print(\"invalid string\")\n",
    "else:\n",
    "    print(len(s))"
   ]
  },
  {
   "cell_type": "code",
   "execution_count": 14,
   "metadata": {},
   "outputs": [
    {
     "name": "stdout",
     "output_type": "stream",
     "text": [
      "enter a string:asfa434qwrwq\n",
      "12\n"
     ]
    }
   ],
   "source": [
    "s=input(\"enter a string:\")\n",
    "if len(s)==0:\n",
    "    print(\"invalid string\")\n",
    "else:\n",
    "    print(len(s))"
   ]
  },
  {
   "cell_type": "code",
   "execution_count": 15,
   "metadata": {},
   "outputs": [
    {
     "name": "stdout",
     "output_type": "stream",
     "text": [
      "False\n"
     ]
    }
   ],
   "source": [
    "s=\"\"\n",
    "print(bool(s))"
   ]
  },
  {
   "cell_type": "code",
   "execution_count": 16,
   "metadata": {},
   "outputs": [
    {
     "name": "stdout",
     "output_type": "stream",
     "text": [
      "True\n"
     ]
    }
   ],
   "source": [
    "s=\"assdsad\"\n",
    "print(bool(s))"
   ]
  },
  {
   "cell_type": "code",
   "execution_count": 17,
   "metadata": {},
   "outputs": [
    {
     "name": "stdout",
     "output_type": "stream",
     "text": [
      "enter a string:assdreqwr23544\n",
      "14\n"
     ]
    }
   ],
   "source": [
    "s=input(\"enter a string:\")\n",
    "if bool(s):\n",
    "    print(len(s))\n",
    "else:\n",
    "    print(\"invalid string\")"
   ]
  },
  {
   "cell_type": "code",
   "execution_count": 18,
   "metadata": {},
   "outputs": [
    {
     "name": "stdout",
     "output_type": "stream",
     "text": [
      "enter a string:\n",
      "invalid string\n"
     ]
    }
   ],
   "source": [
    "s=input(\"enter a string:\")\n",
    "if bool(s):\n",
    "    print(len(s))\n",
    "else:\n",
    "    print(\"invalid string\")"
   ]
  },
  {
   "cell_type": "code",
   "execution_count": 19,
   "metadata": {},
   "outputs": [
    {
     "name": "stdout",
     "output_type": "stream",
     "text": [
      "enter a string:\n",
      "invalid string\n"
     ]
    }
   ],
   "source": [
    "s=input(\"enter a string:\")\n",
    "if s:#bool(s)\n",
    "    print(len(s))\n",
    "else:\n",
    "    print(\"invalid string\")"
   ]
  },
  {
   "cell_type": "code",
   "execution_count": 20,
   "metadata": {},
   "outputs": [
    {
     "name": "stdout",
     "output_type": "stream",
     "text": [
      "enter a string:python\n",
      "6\n"
     ]
    }
   ],
   "source": [
    "s=input(\"enter a string:\")\n",
    "if s:#bool(s)\n",
    "    print(len(s))\n",
    "else:\n",
    "    print(\"invalid string\")"
   ]
  },
  {
   "cell_type": "code",
   "execution_count": 21,
   "metadata": {},
   "outputs": [
    {
     "data": {
      "text/plain": [
       "97"
      ]
     },
     "execution_count": 21,
     "metadata": {},
     "output_type": "execute_result"
    }
   ],
   "source": [
    "ord(\"a\")"
   ]
  },
  {
   "cell_type": "code",
   "execution_count": 22,
   "metadata": {},
   "outputs": [
    {
     "data": {
      "text/plain": [
       "122"
      ]
     },
     "execution_count": 22,
     "metadata": {},
     "output_type": "execute_result"
    }
   ],
   "source": [
    "ord(\"z\")"
   ]
  },
  {
   "cell_type": "code",
   "execution_count": 23,
   "metadata": {},
   "outputs": [
    {
     "data": {
      "text/plain": [
       "False"
      ]
     },
     "execution_count": 23,
     "metadata": {},
     "output_type": "execute_result"
    }
   ],
   "source": [
    "s=\"D\"\n",
    "ord(s)>=ord(\"a\") and ord(s)<=ord(\"z\")"
   ]
  },
  {
   "cell_type": "code",
   "execution_count": 24,
   "metadata": {},
   "outputs": [
    {
     "data": {
      "text/plain": [
       "True"
      ]
     },
     "execution_count": 24,
     "metadata": {},
     "output_type": "execute_result"
    }
   ],
   "source": [
    "s=\"s\"\n",
    "ord(s)>=ord(\"a\") and ord(s)<=ord(\"z\")"
   ]
  },
  {
   "cell_type": "code",
   "execution_count": 25,
   "metadata": {},
   "outputs": [
    {
     "name": "stdout",
     "output_type": "stream",
     "text": [
      "\u0018\n"
     ]
    }
   ],
   "source": [
    "asc_number=24\n",
    "print(chr(asc_number))\n"
   ]
  },
  {
   "cell_type": "code",
   "execution_count": 26,
   "metadata": {},
   "outputs": [
    {
     "name": "stdout",
     "output_type": "stream",
     "text": [
      "z\n"
     ]
    }
   ],
   "source": [
    "asc_number=122\n",
    "print(chr(asc_number))\n"
   ]
  },
  {
   "cell_type": "code",
   "execution_count": 27,
   "metadata": {},
   "outputs": [
    {
     "name": "stdout",
     "output_type": "stream",
     "text": [
      "enter a string:python\n",
      "6\n"
     ]
    }
   ],
   "source": [
    "s=input(\"enter a string:\")\n",
    "res = len(s) if s else \"Invalid string\"\n",
    "print(res)"
   ]
  },
  {
   "cell_type": "code",
   "execution_count": 28,
   "metadata": {},
   "outputs": [
    {
     "name": "stdout",
     "output_type": "stream",
     "text": [
      "enter a string:\n",
      "Invalid string\n"
     ]
    }
   ],
   "source": [
    "s=input(\"enter a string:\")\n",
    "res = len(s) if s else \"Invalid string\"\n",
    "print(res)"
   ]
  },
  {
   "cell_type": "code",
   "execution_count": 29,
   "metadata": {},
   "outputs": [
    {
     "name": "stdout",
     "output_type": "stream",
     "text": [
      "ODD\n"
     ]
    }
   ],
   "source": [
    "number=23\n",
    "if number%2==0:\n",
    "    print(\"EVEN\")\n",
    "else:\n",
    "    print(\"ODD\")"
   ]
  },
  {
   "cell_type": "code",
   "execution_count": 30,
   "metadata": {},
   "outputs": [
    {
     "name": "stdout",
     "output_type": "stream",
     "text": [
      "EVEN\n"
     ]
    }
   ],
   "source": [
    "number=24\n",
    "if number%2==0:\n",
    "    print(\"EVEN\")\n",
    "else:\n",
    "    print(\"ODD\")"
   ]
  },
  {
   "cell_type": "code",
   "execution_count": 31,
   "metadata": {},
   "outputs": [
    {
     "name": "stdout",
     "output_type": "stream",
     "text": [
      "EVEN\n"
     ]
    }
   ],
   "source": [
    "number=24\n",
    "print(\"EVEN\" if number%2==0 else \"ODD\")"
   ]
  },
  {
   "cell_type": "code",
   "execution_count": 32,
   "metadata": {},
   "outputs": [
    {
     "name": "stdout",
     "output_type": "stream",
     "text": [
      "ODD\n"
     ]
    }
   ],
   "source": [
    "number=23\n",
    "print(\"EVEN\" if number%2==0 else \"ODD\")"
   ]
  },
  {
   "cell_type": "code",
   "execution_count": 33,
   "metadata": {},
   "outputs": [
    {
     "name": "stdout",
     "output_type": "stream",
     "text": [
      "Enter number:24\n"
     ]
    },
    {
     "ename": "TypeError",
     "evalue": "not all arguments converted during string formatting",
     "output_type": "error",
     "traceback": [
      "\u001b[1;31m---------------------------------------------------------------------------\u001b[0m",
      "\u001b[1;31mTypeError\u001b[0m                                 Traceback (most recent call last)",
      "\u001b[1;32m<ipython-input-33-038b7155e7ef>\u001b[0m in \u001b[0;36m<module>\u001b[1;34m\u001b[0m\n\u001b[0;32m      1\u001b[0m \u001b[0mnumber\u001b[0m\u001b[1;33m=\u001b[0m\u001b[0minput\u001b[0m\u001b[1;33m(\u001b[0m\u001b[1;34m\"Enter number:\"\u001b[0m\u001b[1;33m)\u001b[0m\u001b[1;33m\u001b[0m\u001b[1;33m\u001b[0m\u001b[0m\n\u001b[1;32m----> 2\u001b[1;33m \u001b[0mprint\u001b[0m\u001b[1;33m(\u001b[0m\u001b[1;34m\"EVEN\"\u001b[0m \u001b[1;32mif\u001b[0m \u001b[0mnumber\u001b[0m\u001b[1;33m%\u001b[0m\u001b[1;36m2\u001b[0m\u001b[1;33m==\u001b[0m\u001b[1;36m0\u001b[0m \u001b[1;32melse\u001b[0m \u001b[1;34m\"ODD\"\u001b[0m\u001b[1;33m)\u001b[0m\u001b[1;33m\u001b[0m\u001b[1;33m\u001b[0m\u001b[0m\n\u001b[0m",
      "\u001b[1;31mTypeError\u001b[0m: not all arguments converted during string formatting"
     ]
    }
   ],
   "source": [
    "number=input(\"Enter number:\")\n",
    "print(\"EVEN\" if number%2==0 else \"ODD\")"
   ]
  },
  {
   "cell_type": "code",
   "execution_count": 34,
   "metadata": {},
   "outputs": [
    {
     "ename": "TypeError",
     "evalue": "not all arguments converted during string formatting",
     "output_type": "error",
     "traceback": [
      "\u001b[1;31m---------------------------------------------------------------------------\u001b[0m",
      "\u001b[1;31mTypeError\u001b[0m                                 Traceback (most recent call last)",
      "\u001b[1;32m<ipython-input-34-17c145203075>\u001b[0m in \u001b[0;36m<module>\u001b[1;34m\u001b[0m\n\u001b[1;32m----> 1\u001b[1;33m \u001b[1;34m\"24\"\u001b[0m\u001b[1;33m%\u001b[0m\u001b[1;36m2\u001b[0m\u001b[1;33m\u001b[0m\u001b[1;33m\u001b[0m\u001b[0m\n\u001b[0m",
      "\u001b[1;31mTypeError\u001b[0m: not all arguments converted during string formatting"
     ]
    }
   ],
   "source": [
    "\"24\"%2"
   ]
  },
  {
   "cell_type": "code",
   "execution_count": 35,
   "metadata": {},
   "outputs": [
    {
     "name": "stdout",
     "output_type": "stream",
     "text": [
      "Enter number:12\n",
      "EVEN\n"
     ]
    }
   ],
   "source": [
    "number=int(input(\"Enter number:\"))\n",
    "print(\"EVEN\" if number%2==0 else \"ODD\")"
   ]
  },
  {
   "cell_type": "code",
   "execution_count": 36,
   "metadata": {},
   "outputs": [
    {
     "name": "stdout",
     "output_type": "stream",
     "text": [
      "Enter number:12.34\n"
     ]
    },
    {
     "ename": "ValueError",
     "evalue": "invalid literal for int() with base 10: '12.34'",
     "output_type": "error",
     "traceback": [
      "\u001b[1;31m---------------------------------------------------------------------------\u001b[0m",
      "\u001b[1;31mValueError\u001b[0m                                Traceback (most recent call last)",
      "\u001b[1;32m<ipython-input-36-ccb79daa57ad>\u001b[0m in \u001b[0;36m<module>\u001b[1;34m\u001b[0m\n\u001b[1;32m----> 1\u001b[1;33m \u001b[0mnumber\u001b[0m\u001b[1;33m=\u001b[0m\u001b[0mint\u001b[0m\u001b[1;33m(\u001b[0m\u001b[0minput\u001b[0m\u001b[1;33m(\u001b[0m\u001b[1;34m\"Enter number:\"\u001b[0m\u001b[1;33m)\u001b[0m\u001b[1;33m)\u001b[0m\u001b[1;33m\u001b[0m\u001b[1;33m\u001b[0m\u001b[0m\n\u001b[0m\u001b[0;32m      2\u001b[0m \u001b[0mprint\u001b[0m\u001b[1;33m(\u001b[0m\u001b[1;34m\"EVEN\"\u001b[0m \u001b[1;32mif\u001b[0m \u001b[0mnumber\u001b[0m\u001b[1;33m%\u001b[0m\u001b[1;36m2\u001b[0m\u001b[1;33m==\u001b[0m\u001b[1;36m0\u001b[0m \u001b[1;32melse\u001b[0m \u001b[1;34m\"ODD\"\u001b[0m\u001b[1;33m)\u001b[0m\u001b[1;33m\u001b[0m\u001b[1;33m\u001b[0m\u001b[0m\n",
      "\u001b[1;31mValueError\u001b[0m: invalid literal for int() with base 10: '12.34'"
     ]
    }
   ],
   "source": [
    "number=int(input(\"Enter number:\"))\n",
    "print(\"EVEN\" if number%2==0 else \"ODD\")"
   ]
  },
  {
   "cell_type": "code",
   "execution_count": 37,
   "metadata": {},
   "outputs": [
    {
     "name": "stdout",
     "output_type": "stream",
     "text": [
      "Enter number:23.45\n",
      "ODD\n"
     ]
    }
   ],
   "source": [
    "number=float(input(\"Enter number:\"))\n",
    "number = int(number)\n",
    "print(\"EVEN\" if number%2==0 else \"ODD\")"
   ]
  },
  {
   "cell_type": "code",
   "execution_count": 38,
   "metadata": {},
   "outputs": [
    {
     "name": "stdout",
     "output_type": "stream",
     "text": [
      "Enter number:24.56\n",
      "EVEN\n"
     ]
    }
   ],
   "source": [
    "number=float(input(\"Enter number:\"))\n",
    "number = int(number)\n",
    "print(\"EVEN\" if number%2==0 else \"ODD\")"
   ]
  },
  {
   "cell_type": "code",
   "execution_count": 1,
   "metadata": {},
   "outputs": [
    {
     "name": "stdout",
     "output_type": "stream",
     "text": [
      "else block started\n",
      "ODD\n",
      "else block ended\n",
      "End\n"
     ]
    }
   ],
   "source": [
    "number=23\n",
    "if number%2==0:\n",
    "    print(\"if block started\")\n",
    "    print(\"EVEN\")\n",
    "    print(\"if block ended\")\n",
    "else:\n",
    "    print(\"else block started\")\n",
    "    print(\"ODD\")\n",
    "    print(\"else block ended\")\n",
    "print(\"End\")"
   ]
  },
  {
   "cell_type": "code",
   "execution_count": 2,
   "metadata": {},
   "outputs": [
    {
     "name": "stdout",
     "output_type": "stream",
     "text": [
      "else block started\n",
      "ODD\n",
      "else block ended\n",
      "End\n"
     ]
    }
   ],
   "source": [
    "number=23\n",
    "if number%2==0:\n",
    "    print(\"if block started\")\n",
    "    print(\"EVEN\")\n",
    "    print(\"if block ended\")\n",
    "else:\n",
    " print(\"else block started\")\n",
    " print(\"ODD\")\n",
    " print(\"else block ended\")\n",
    "print(\"End\")"
   ]
  },
  {
   "cell_type": "code",
   "execution_count": 3,
   "metadata": {},
   "outputs": [
    {
     "ename": "IndentationError",
     "evalue": "unexpected indent (<ipython-input-3-537533c524bd>, line 8)",
     "output_type": "error",
     "traceback": [
      "\u001b[1;36m  File \u001b[1;32m\"<ipython-input-3-537533c524bd>\"\u001b[1;36m, line \u001b[1;32m8\u001b[0m\n\u001b[1;33m    print(\"ODD\")\u001b[0m\n\u001b[1;37m    ^\u001b[0m\n\u001b[1;31mIndentationError\u001b[0m\u001b[1;31m:\u001b[0m unexpected indent\n"
     ]
    }
   ],
   "source": [
    "number=23\n",
    "if number%2==0:\n",
    "    print(\"if block started\")\n",
    "    print(\"EVEN\")\n",
    "    print(\"if block ended\")\n",
    "else:\n",
    " print(\"else block started\")\n",
    "    print(\"ODD\")\n",
    "    print(\"else block ended\")\n",
    "print(\"End\")"
   ]
  },
  {
   "cell_type": "code",
   "execution_count": 4,
   "metadata": {},
   "outputs": [
    {
     "name": "stdout",
     "output_type": "stream",
     "text": [
      "if block started\n",
      "EVEN\n",
      "if block ended\n",
      "ODD\n",
      "else block ended\n",
      "End\n"
     ]
    }
   ],
   "source": [
    "number=24\n",
    "if number%2==0:#True\n",
    "    print(\"if block started\")\n",
    "    print(\"EVEN\")\n",
    "    print(\"if block ended\")\n",
    "else:\n",
    " print(\"else block started\")\n",
    "print(\"ODD\")\n",
    "print(\"else block ended\")\n",
    "print(\"End\")"
   ]
  },
  {
   "cell_type": "code",
   "execution_count": 5,
   "metadata": {},
   "outputs": [
    {
     "data": {
      "text/plain": [
       "12.0"
      ]
     },
     "execution_count": 5,
     "metadata": {},
     "output_type": "execute_result"
    }
   ],
   "source": [
    "24/2"
   ]
  },
  {
   "cell_type": "code",
   "execution_count": 6,
   "metadata": {},
   "outputs": [
    {
     "data": {
      "text/plain": [
       "0"
      ]
     },
     "execution_count": 6,
     "metadata": {},
     "output_type": "execute_result"
    }
   ],
   "source": [
    "24%2"
   ]
  },
  {
   "cell_type": "code",
   "execution_count": 7,
   "metadata": {},
   "outputs": [
    {
     "ename": "SyntaxError",
     "evalue": "invalid syntax (<ipython-input-7-be81054ba45f>, line 6)",
     "output_type": "error",
     "traceback": [
      "\u001b[1;36m  File \u001b[1;32m\"<ipython-input-7-be81054ba45f>\"\u001b[1;36m, line \u001b[1;32m6\u001b[0m\n\u001b[1;33m    else:\u001b[0m\n\u001b[1;37m    ^\u001b[0m\n\u001b[1;31mSyntaxError\u001b[0m\u001b[1;31m:\u001b[0m invalid syntax\n"
     ]
    }
   ],
   "source": [
    "number=24\n",
    "if number%2==0:#True\n",
    "    print(\"if block started\")\n",
    "    print(\"EVEN\")\n",
    "print(\"if block ended\")\n",
    "else:\n",
    " print(\"else block started\")\n",
    "print(\"ODD\")\n",
    "print(\"else block ended\")\n",
    "print(\"End\")"
   ]
  },
  {
   "cell_type": "code",
   "execution_count": 8,
   "metadata": {},
   "outputs": [
    {
     "name": "stdout",
     "output_type": "stream",
     "text": [
      "if block started\n",
      "EVEN\n",
      "if block ended\n",
      "ODD\n",
      "else block ended\n",
      "End\n"
     ]
    }
   ],
   "source": [
    "number=24\n",
    "if number%2==0:#True\n",
    "    print(\"if block started\")\n",
    "    print(\"EVEN\")\n",
    "print(\"if block ended\")\n",
    "\n",
    "print(\"ODD\")\n",
    "print(\"else block ended\")\n",
    "print(\"End\")"
   ]
  },
  {
   "cell_type": "code",
   "execution_count": 9,
   "metadata": {},
   "outputs": [
    {
     "name": "stdout",
     "output_type": "stream",
     "text": [
      "if block started\n",
      "EVEN\n",
      "if block ended\n",
      "ODD\n",
      "else block ended\n",
      "End\n"
     ]
    }
   ],
   "source": [
    "number=24\n",
    "if number%2==0:#True\n",
    "    print(\"if block started\")\n",
    "    print(\"EVEN\")\n",
    "print(\"if block ended\")\n",
    "\n",
    "print(\"ODD\")\n",
    "print(\"else block ended\")\n",
    "print(\"End\")"
   ]
  },
  {
   "cell_type": "code",
   "execution_count": 10,
   "metadata": {},
   "outputs": [
    {
     "name": "stdout",
     "output_type": "stream",
     "text": [
      "Menu\n",
      "\t1.women\n",
      "\t2.men\n",
      "\t3.Kids\n"
     ]
    }
   ],
   "source": [
    "\"\"\"\n",
    "Menu\n",
    "    1.women\n",
    "    2.men\n",
    "    3.kids\n",
    "    Enter an option:2\n",
    "    \n",
    "    output: goto third floor, can buy men cloth\n",
    "    enter option:1\n",
    "    output: goto first floor, can buy women cloth\n",
    "    \n",
    "\"\"\"\n",
    "print(\"Menu\\n\\t1.women\\n\\t2.men\\n\\t3.Kids\")"
   ]
  },
  {
   "cell_type": "code",
   "execution_count": 11,
   "metadata": {},
   "outputs": [
    {
     "name": "stdout",
     "output_type": "stream",
     "text": [
      "Menu\n",
      "\t1.women\n",
      "\t2.men\n",
      "\t3.Kids\n",
      "Enter an option:2\n"
     ]
    }
   ],
   "source": [
    "\"\"\"\n",
    "Menu\n",
    "    1.women\n",
    "    2.men\n",
    "    3.kids\n",
    "    Enter an option:2\n",
    "    \n",
    "    output: goto third floor, can buy men cloth\n",
    "    enter option:1\n",
    "    output: goto first floor, can buy women cloth\n",
    "    \n",
    "\"\"\"\n",
    "print(\"Menu\\n\\t1.women\\n\\t2.men\\n\\t3.Kids\")\n",
    "opt = input(\"Enter an option:\")\n",
    "if opt == 1:#False\n",
    "    print(\"goto first floor, can buy women cloth\")\n",
    "if opt == 2:#False\n",
    "    print(\"goto third floor, can buy men cloth\")\n",
    "if opt == 3:#False\n",
    "    print(\"goto first floor, can buy kids cloth\")"
   ]
  },
  {
   "cell_type": "code",
   "execution_count": 12,
   "metadata": {},
   "outputs": [
    {
     "name": "stdout",
     "output_type": "stream",
     "text": [
      "Menu\n",
      "\t1.women\n",
      "\t2.men\n",
      "\t3.Kids\n",
      "Enter an option:2\n",
      "goto third floor, can buy men cloth\n"
     ]
    }
   ],
   "source": [
    "\"\"\"\n",
    "Menu\n",
    "    1.women\n",
    "    2.men\n",
    "    3.kids\n",
    "    Enter an option:2\n",
    "    \n",
    "    output: goto third floor, can buy men cloth\n",
    "    enter option:1\n",
    "    output: goto first floor, can buy women cloth\n",
    "    \n",
    "\"\"\"\n",
    "print(\"Menu\\n\\t1.women\\n\\t2.men\\n\\t3.Kids\")\n",
    "opt = input(\"Enter an option:\")\n",
    "if opt == \"1\":#False\n",
    "    print(\"goto first floor, can buy women cloth\")\n",
    "if opt == \"2\":#False\n",
    "    print(\"goto third floor, can buy men cloth\")\n",
    "if opt == \"3\":#False\n",
    "    print(\"goto first floor, can buy kids cloth\")"
   ]
  },
  {
   "cell_type": "code",
   "execution_count": 13,
   "metadata": {},
   "outputs": [
    {
     "data": {
      "text/plain": [
       "False"
      ]
     },
     "execution_count": 13,
     "metadata": {},
     "output_type": "execute_result"
    }
   ],
   "source": [
    "2==\"2\""
   ]
  },
  {
   "cell_type": "code",
   "execution_count": 14,
   "metadata": {},
   "outputs": [
    {
     "name": "stdout",
     "output_type": "stream",
     "text": [
      "Menu\n",
      "\t1.women\n",
      "\t2.men\n",
      "\t3.Kids\n",
      "Enter an option:4\n"
     ]
    }
   ],
   "source": [
    "\"\"\"\n",
    "Menu\n",
    "    1.women\n",
    "    2.men\n",
    "    3.kids\n",
    "    Enter an option:2\n",
    "    \n",
    "    output: goto third floor, can buy men cloth\n",
    "    enter option:1\n",
    "    output: goto first floor, can buy women cloth\n",
    "    \n",
    "\"\"\"\n",
    "print(\"Menu\\n\\t1.women\\n\\t2.men\\n\\t3.Kids\")\n",
    "opt = input(\"Enter an option:\")\n",
    "if opt == \"1\":\n",
    "    print(\"goto first floor, can buy women cloth\")\n",
    "if opt == \"2\":\n",
    "    print(\"goto third floor, can buy men cloth\")\n",
    "if opt == \"3\":\n",
    "    print(\"goto first floor, can buy kids cloth\")"
   ]
  },
  {
   "cell_type": "code",
   "execution_count": 15,
   "metadata": {},
   "outputs": [
    {
     "name": "stdout",
     "output_type": "stream",
     "text": [
      "Menu\n",
      "\t1.women\n",
      "\t2.men\n",
      "\t3.Kids\n",
      "Enter an option:5\n",
      "END\n"
     ]
    }
   ],
   "source": [
    "\"\"\"\n",
    "Menu\n",
    "    1.women\n",
    "    2.men\n",
    "    3.kids\n",
    "    Enter an option:2\n",
    "    \n",
    "    output: goto third floor, can buy men cloth\n",
    "    enter option:1\n",
    "    output: goto first floor, can buy women cloth\n",
    "    \n",
    "\"\"\"\n",
    "print(\"Menu\\n\\t1.women\\n\\t2.men\\n\\t3.Kids\")\n",
    "opt = input(\"Enter an option:\")\n",
    "if opt == \"1\":\n",
    "    print(\"goto first floor, can buy women cloth\")\n",
    "if opt == \"2\":\n",
    "    print(\"goto third floor, can buy men cloth\")\n",
    "if opt == \"3\":\n",
    "    print(\"goto first floor, can buy kids cloth\")\n",
    "print(\"END\")"
   ]
  },
  {
   "cell_type": "code",
   "execution_count": 16,
   "metadata": {},
   "outputs": [
    {
     "name": "stdout",
     "output_type": "stream",
     "text": [
      "Menu\n",
      "\t1.women\n",
      "\t2.men\n",
      "\t3.Kids\n",
      "Enter an option:13\n",
      "END\n"
     ]
    }
   ],
   "source": [
    "\"\"\"\n",
    "Menu\n",
    "    1.women\n",
    "    2.men\n",
    "    3.kids\n",
    "    Enter an option:2\n",
    "    \n",
    "    output: goto third floor, can buy men cloth\n",
    "    enter option:1\n",
    "    output: goto first floor, can buy women cloth\n",
    "    \n",
    "\"\"\"\n",
    "print(\"Menu\\n\\t1.women\\n\\t2.men\\n\\t3.Kids\")\n",
    "opt = input(\"Enter an option:\")\n",
    "if opt>\"3\":\n",
    "    print(\"we are not serving this option\")\n",
    "if opt == \"1\":\n",
    "    print(\"goto first floor, can buy women cloth\")\n",
    "if opt == \"2\":\n",
    "    print(\"goto third floor, can buy men cloth\")\n",
    "if opt == \"3\":\n",
    "    print(\"goto first floor, can buy kids cloth\")\n",
    "print(\"END\")"
   ]
  },
  {
   "cell_type": "code",
   "execution_count": 17,
   "metadata": {},
   "outputs": [
    {
     "data": {
      "text/plain": [
       "False"
      ]
     },
     "execution_count": 17,
     "metadata": {},
     "output_type": "execute_result"
    }
   ],
   "source": [
    "\"13\">\"3\""
   ]
  },
  {
   "cell_type": "code",
   "execution_count": 18,
   "metadata": {},
   "outputs": [
    {
     "data": {
      "text/plain": [
       "True"
      ]
     },
     "execution_count": 18,
     "metadata": {},
     "output_type": "execute_result"
    }
   ],
   "source": [
    "13>3"
   ]
  },
  {
   "cell_type": "code",
   "execution_count": 19,
   "metadata": {},
   "outputs": [
    {
     "name": "stdout",
     "output_type": "stream",
     "text": [
      "Menu\n",
      "\t1.women\n",
      "\t2.men\n",
      "\t3.Kids\n",
      "Enter an option:4\n",
      "we are not serving this option now.\n",
      "END\n"
     ]
    }
   ],
   "source": [
    "\"\"\"\n",
    "Menu\n",
    "    1.women\n",
    "    2.men\n",
    "    3.kids\n",
    "    Enter an option:2\n",
    "    \n",
    "    output: goto third floor, can buy men cloth\n",
    "    enter option:1\n",
    "    output: goto first floor, can buy women cloth\n",
    "    \n",
    "\"\"\"\n",
    "print(\"Menu\\n\\t1.women\\n\\t2.men\\n\\t3.Kids\")\n",
    "opt = input(\"Enter an option:\")\n",
    "if opt == \"1\":\n",
    "    print(\"goto first floor, can buy women cloth\")\n",
    "if opt == \"2\":\n",
    "    print(\"goto third floor, can buy men cloth\")\n",
    "if opt == \"3\":\n",
    "    print(\"goto first floor, can buy kids cloth\")\n",
    "else:\n",
    "    print(\"we are not serving this option now.\")\n",
    "print(\"END\")"
   ]
  },
  {
   "cell_type": "code",
   "execution_count": 20,
   "metadata": {},
   "outputs": [
    {
     "name": "stdout",
     "output_type": "stream",
     "text": [
      "Menu\n",
      "\t1.women\n",
      "\t2.men\n",
      "\t3.Kids\n",
      "Enter an option:2\n",
      "goto third floor, can buy men cloth\n",
      "we are not serving this option now.\n",
      "END\n"
     ]
    }
   ],
   "source": [
    "\"\"\"\n",
    "Menu\n",
    "    1.women\n",
    "    2.men\n",
    "    3.kids\n",
    "    Enter an option:2\n",
    "    \n",
    "    output: goto third floor, can buy men cloth\n",
    "    enter option:1\n",
    "    output: goto first floor, can buy women cloth\n",
    "    \n",
    "\"\"\"\n",
    "print(\"Menu\\n\\t1.women\\n\\t2.men\\n\\t3.Kids\")\n",
    "opt = input(\"Enter an option:\")\n",
    "if opt == \"1\":\n",
    "    print(\"goto first floor, can buy women cloth\")\n",
    "if opt == \"2\":\n",
    "    print(\"goto third floor, can buy men cloth\")\n",
    "if opt == \"3\":#False\n",
    "    print(\"goto first floor, can buy kids cloth\")\n",
    "else:\n",
    "    print(\"we are not serving this option now.\")\n",
    "print(\"END\")"
   ]
  },
  {
   "cell_type": "code",
   "execution_count": 21,
   "metadata": {},
   "outputs": [
    {
     "name": "stdout",
     "output_type": "stream",
     "text": [
      "Menu\n",
      "\t1.women\n",
      "\t2.men\n",
      "\t3.Kids\n",
      "Enter an option:1\n",
      "goto first floor, can buy women cloth\n",
      "END\n"
     ]
    }
   ],
   "source": [
    "\"\"\"\n",
    "Menu\n",
    "    1.women\n",
    "    2.men\n",
    "    3.kids\n",
    "    Enter an option:2\n",
    "    \n",
    "    output: goto third floor, can buy men cloth\n",
    "    enter option:1\n",
    "    output: goto first floor, can buy women cloth\n",
    "    \n",
    "\"\"\"\n",
    "print(\"Menu\\n\\t1.women\\n\\t2.men\\n\\t3.Kids\")\n",
    "opt = input(\"Enter an option:\")\n",
    "if opt == \"1\":#True\n",
    "    print(\"goto first floor, can buy women cloth\")\n",
    "elif opt == \"2\":\n",
    "    print(\"goto third floor, can buy men cloth\")\n",
    "elif opt == \"3\":\n",
    "    print(\"goto first floor, can buy kids cloth\")\n",
    "else:\n",
    "    print(\"we are not serving this option now.\")\n",
    "print(\"END\")"
   ]
  },
  {
   "cell_type": "code",
   "execution_count": 22,
   "metadata": {},
   "outputs": [
    {
     "name": "stdout",
     "output_type": "stream",
     "text": [
      "Menu\n",
      "\t1.women\n",
      "\t2.men\n",
      "\t3.Kids\n",
      "Enter an option:2\n",
      "goto third floor, can buy men cloth\n",
      "END\n"
     ]
    }
   ],
   "source": [
    "\"\"\"\n",
    "Menu\n",
    "    1.women\n",
    "    2.men\n",
    "    3.kids\n",
    "    Enter an option:2\n",
    "    \n",
    "    output: goto third floor, can buy men cloth\n",
    "    enter option:1\n",
    "    output: goto first floor, can buy women cloth\n",
    "    \n",
    "\"\"\"\n",
    "print(\"Menu\\n\\t1.women\\n\\t2.men\\n\\t3.Kids\")\n",
    "opt = input(\"Enter an option:\")\n",
    "if opt == \"1\":#False\n",
    "    print(\"goto first floor, can buy women cloth\")\n",
    "elif opt == \"2\":#True\n",
    "    print(\"goto third floor, can buy men cloth\")\n",
    "elif opt == \"3\":\n",
    "    print(\"goto first floor, can buy kids cloth\")\n",
    "else:\n",
    "    print(\"we are not serving this option now.\")\n",
    "print(\"END\")"
   ]
  },
  {
   "cell_type": "code",
   "execution_count": 23,
   "metadata": {},
   "outputs": [
    {
     "name": "stdout",
     "output_type": "stream",
     "text": [
      "Menu\n",
      "\t1.women\n",
      "\t2.men\n",
      "\t3.Kids\n",
      "Enter an option:3\n",
      "goto first floor, can buy kids cloth\n",
      "END\n"
     ]
    }
   ],
   "source": [
    "\"\"\"\n",
    "Menu\n",
    "    1.women\n",
    "    2.men\n",
    "    3.kids\n",
    "    Enter an option:2\n",
    "    \n",
    "    output: goto third floor, can buy men cloth\n",
    "    enter option:1\n",
    "    output: goto first floor, can buy women cloth\n",
    "    \n",
    "\"\"\"\n",
    "print(\"Menu\\n\\t1.women\\n\\t2.men\\n\\t3.Kids\")\n",
    "opt = input(\"Enter an option:\")\n",
    "if opt == \"1\":#False\n",
    "    print(\"goto first floor, can buy women cloth\")\n",
    "elif opt == \"2\":#False\n",
    "    print(\"goto third floor, can buy men cloth\")\n",
    "elif opt == \"3\":#True\n",
    "    print(\"goto first floor, can buy kids cloth\")\n",
    "else:\n",
    "    print(\"we are not serving this option now.\")\n",
    "print(\"END\")"
   ]
  },
  {
   "cell_type": "code",
   "execution_count": 24,
   "metadata": {},
   "outputs": [
    {
     "name": "stdout",
     "output_type": "stream",
     "text": [
      "Menu\n",
      "\t1.women\n",
      "\t2.men\n",
      "\t3.Kids\n",
      "Enter an option:5\n",
      "we are not serving this option now.\n",
      "END\n"
     ]
    }
   ],
   "source": [
    "\"\"\"\n",
    "Menu\n",
    "    1.women\n",
    "    2.men\n",
    "    3.kids\n",
    "    Enter an option:2\n",
    "    \n",
    "    output: goto third floor, can buy men cloth\n",
    "    enter option:1\n",
    "    output: goto first floor, can buy women cloth\n",
    "    \n",
    "\"\"\"\n",
    "print(\"Menu\\n\\t1.women\\n\\t2.men\\n\\t3.Kids\")\n",
    "opt = input(\"Enter an option:\")\n",
    "if opt == \"1\":#False\n",
    "    print(\"goto first floor, can buy women cloth\")\n",
    "elif opt == \"2\":#False\n",
    "    print(\"goto third floor, can buy men cloth\")\n",
    "elif opt == \"3\":#False\n",
    "    print(\"goto first floor, can buy kids cloth\")\n",
    "else:\n",
    "    print(\"we are not serving this option now.\")\n",
    "print(\"END\")"
   ]
  },
  {
   "cell_type": "code",
   "execution_count": 25,
   "metadata": {},
   "outputs": [
    {
     "ename": "ValueError",
     "evalue": "invalid literal for int() with base 10: 'd'",
     "output_type": "error",
     "traceback": [
      "\u001b[1;31m---------------------------------------------------------------------------\u001b[0m",
      "\u001b[1;31mValueError\u001b[0m                                Traceback (most recent call last)",
      "\u001b[1;32m<ipython-input-25-713625bad8c1>\u001b[0m in \u001b[0;36m<module>\u001b[1;34m\u001b[0m\n\u001b[0;32m      1\u001b[0m \u001b[0ms\u001b[0m\u001b[1;33m=\u001b[0m\u001b[1;34m\"d\"\u001b[0m\u001b[1;33m\u001b[0m\u001b[1;33m\u001b[0m\u001b[0m\n\u001b[1;32m----> 2\u001b[1;33m \u001b[0mprint\u001b[0m\u001b[1;33m(\u001b[0m\u001b[0mint\u001b[0m\u001b[1;33m(\u001b[0m\u001b[0ms\u001b[0m\u001b[1;33m)\u001b[0m\u001b[1;33m)\u001b[0m\u001b[1;33m\u001b[0m\u001b[1;33m\u001b[0m\u001b[0m\n\u001b[0m",
      "\u001b[1;31mValueError\u001b[0m: invalid literal for int() with base 10: 'd'"
     ]
    }
   ],
   "source": [
    "s=\"d\"\n",
    "print(int(s))"
   ]
  },
  {
   "cell_type": "code",
   "execution_count": 27,
   "metadata": {},
   "outputs": [
    {
     "name": "stdout",
     "output_type": "stream",
     "text": [
      "3\n"
     ]
    }
   ],
   "source": [
    "s=\"1\"\n",
    "s1=\"2\"\n",
    "s=int(s)\n",
    "s1=int(s1)\n",
    "print(s+s1)"
   ]
  },
  {
   "cell_type": "code",
   "execution_count": 28,
   "metadata": {},
   "outputs": [
    {
     "ename": "ValueError",
     "evalue": "invalid literal for int() with base 10: 'b'",
     "output_type": "error",
     "traceback": [
      "\u001b[1;31m---------------------------------------------------------------------------\u001b[0m",
      "\u001b[1;31mValueError\u001b[0m                                Traceback (most recent call last)",
      "\u001b[1;32m<ipython-input-28-8ad8709aae9e>\u001b[0m in \u001b[0;36m<module>\u001b[1;34m\u001b[0m\n\u001b[0;32m      2\u001b[0m \u001b[0ms1\u001b[0m\u001b[1;33m=\u001b[0m\u001b[1;34m\"b\"\u001b[0m\u001b[1;33m\u001b[0m\u001b[1;33m\u001b[0m\u001b[0m\n\u001b[0;32m      3\u001b[0m \u001b[0ms\u001b[0m\u001b[1;33m=\u001b[0m\u001b[0mint\u001b[0m\u001b[1;33m(\u001b[0m\u001b[0ms\u001b[0m\u001b[1;33m)\u001b[0m\u001b[1;33m\u001b[0m\u001b[1;33m\u001b[0m\u001b[0m\n\u001b[1;32m----> 4\u001b[1;33m \u001b[0ms1\u001b[0m\u001b[1;33m=\u001b[0m\u001b[0mint\u001b[0m\u001b[1;33m(\u001b[0m\u001b[0ms1\u001b[0m\u001b[1;33m)\u001b[0m\u001b[1;33m\u001b[0m\u001b[1;33m\u001b[0m\u001b[0m\n\u001b[0m\u001b[0;32m      5\u001b[0m \u001b[0mprint\u001b[0m\u001b[1;33m(\u001b[0m\u001b[0ms\u001b[0m\u001b[1;33m+\u001b[0m\u001b[0ms1\u001b[0m\u001b[1;33m)\u001b[0m\u001b[1;33m\u001b[0m\u001b[1;33m\u001b[0m\u001b[0m\n",
      "\u001b[1;31mValueError\u001b[0m: invalid literal for int() with base 10: 'b'"
     ]
    }
   ],
   "source": [
    "s=\"1\"\n",
    "s1=\"b\"\n",
    "s=int(s)\n",
    "s1=int(s1)\n",
    "print(s+s1)"
   ]
  },
  {
   "cell_type": "code",
   "execution_count": 29,
   "metadata": {},
   "outputs": [
    {
     "name": "stdout",
     "output_type": "stream",
     "text": [
      "enter a value:2\n",
      "enter b vlaue:d\n"
     ]
    }
   ],
   "source": [
    "a=input(\"enter a value:\")\n",
    "b=input(\"enter b vlaue:\")\n",
    "if len(a)==1 and len(b)==1:\n",
    "    pass\n",
    "else:\n",
    "    print(\"expecting only one digit numbers.\")"
   ]
  },
  {
   "cell_type": "code",
   "execution_count": 30,
   "metadata": {},
   "outputs": [
    {
     "name": "stdout",
     "output_type": "stream",
     "text": [
      "enter a value:12\n",
      "enter b vlaue:4e\n",
      "expecting only one digit numbers.\n"
     ]
    }
   ],
   "source": [
    "a=input(\"enter a value:\")\n",
    "b=input(\"enter b vlaue:\")\n",
    "if len(a)==1 and len(b)==1:\n",
    "    pass\n",
    "else:\n",
    "    print(\"expecting only one digit numbers.\")"
   ]
  },
  {
   "cell_type": "code",
   "execution_count": 31,
   "metadata": {},
   "outputs": [
    {
     "name": "stdout",
     "output_type": "stream",
     "text": [
      "enter a value:2\n",
      "enter b vlaue:w3\n",
      "expecting only one digit numbers.\n"
     ]
    }
   ],
   "source": [
    "a=input(\"enter a value:\")\n",
    "b=input(\"enter b vlaue:\")\n",
    "if len(a)==1 and len(b)==1:\n",
    "    pass\n",
    "else:\n",
    "    print(\"expecting only one digit numbers.\")"
   ]
  },
  {
   "cell_type": "code",
   "execution_count": null,
   "metadata": {},
   "outputs": [],
   "source": [
    "a=input(\"enter a value:\")\n",
    "b=input(\"enter b vlaue:\")\n",
    "if len(a)==1 and len(b)==1:\n",
    "    a=int(a)\n",
    "    b=int(b)\n",
    "else:\n",
    "    print(\"expecting only one digit numbers.\")"
   ]
  },
  {
   "cell_type": "code",
   "execution_count": 37,
   "metadata": {},
   "outputs": [
    {
     "name": "stdout",
     "output_type": "stream",
     "text": [
      "Enter a nuber:12\n",
      "12\n"
     ]
    }
   ],
   "source": [
    "a=int(input(\"Enter a nuber:\"))\n",
    "print(a)"
   ]
  },
  {
   "cell_type": "code",
   "execution_count": 38,
   "metadata": {},
   "outputs": [
    {
     "name": "stdout",
     "output_type": "stream",
     "text": [
      "Enter a nuber:12we\n"
     ]
    },
    {
     "ename": "ValueError",
     "evalue": "invalid literal for int() with base 10: '12we'",
     "output_type": "error",
     "traceback": [
      "\u001b[1;31m---------------------------------------------------------------------------\u001b[0m",
      "\u001b[1;31mValueError\u001b[0m                                Traceback (most recent call last)",
      "\u001b[1;32m<ipython-input-38-ae384cbb9b3d>\u001b[0m in \u001b[0;36m<module>\u001b[1;34m\u001b[0m\n\u001b[1;32m----> 1\u001b[1;33m \u001b[0ma\u001b[0m\u001b[1;33m=\u001b[0m\u001b[0mint\u001b[0m\u001b[1;33m(\u001b[0m\u001b[0minput\u001b[0m\u001b[1;33m(\u001b[0m\u001b[1;34m\"Enter a nuber:\"\u001b[0m\u001b[1;33m)\u001b[0m\u001b[1;33m)\u001b[0m\u001b[1;33m\u001b[0m\u001b[1;33m\u001b[0m\u001b[0m\n\u001b[0m\u001b[0;32m      2\u001b[0m \u001b[0mprint\u001b[0m\u001b[1;33m(\u001b[0m\u001b[0ma\u001b[0m\u001b[1;33m)\u001b[0m\u001b[1;33m\u001b[0m\u001b[1;33m\u001b[0m\u001b[0m\n",
      "\u001b[1;31mValueError\u001b[0m: invalid literal for int() with base 10: '12we'"
     ]
    }
   ],
   "source": [
    "a=int(input(\"Enter a nuber:\"))\n",
    "print(a)"
   ]
  },
  {
   "cell_type": "code",
   "execution_count": 32,
   "metadata": {},
   "outputs": [
    {
     "data": {
      "text/plain": [
       "48"
      ]
     },
     "execution_count": 32,
     "metadata": {},
     "output_type": "execute_result"
    }
   ],
   "source": [
    "ord(\"0\")"
   ]
  },
  {
   "cell_type": "code",
   "execution_count": 33,
   "metadata": {},
   "outputs": [
    {
     "data": {
      "text/plain": [
       "57"
      ]
     },
     "execution_count": 33,
     "metadata": {},
     "output_type": "execute_result"
    }
   ],
   "source": [
    "ord(\"9\")"
   ]
  },
  {
   "cell_type": "code",
   "execution_count": 34,
   "metadata": {},
   "outputs": [
    {
     "data": {
      "text/plain": [
       "57"
      ]
     },
     "execution_count": 34,
     "metadata": {},
     "output_type": "execute_result"
    }
   ],
   "source": [
    "48+9"
   ]
  },
  {
   "cell_type": "code",
   "execution_count": 35,
   "metadata": {},
   "outputs": [
    {
     "data": {
      "text/plain": [
       "49"
      ]
     },
     "execution_count": 35,
     "metadata": {},
     "output_type": "execute_result"
    }
   ],
   "source": [
    "ord(\"1\")"
   ]
  },
  {
   "cell_type": "code",
   "execution_count": 36,
   "metadata": {},
   "outputs": [
    {
     "data": {
      "text/plain": [
       "50"
      ]
     },
     "execution_count": 36,
     "metadata": {},
     "output_type": "execute_result"
    }
   ],
   "source": [
    "ord(\"2\")"
   ]
  },
  {
   "cell_type": "code",
   "execution_count": 39,
   "metadata": {},
   "outputs": [
    {
     "data": {
      "text/plain": [
       "True"
      ]
     },
     "execution_count": 39,
     "metadata": {},
     "output_type": "execute_result"
    }
   ],
   "source": [
    "s=\"3\"\n",
    "ord(s)>=ord(\"0\") and ord(s)<=ord(\"9\")"
   ]
  },
  {
   "cell_type": "code",
   "execution_count": 41,
   "metadata": {},
   "outputs": [
    {
     "data": {
      "text/plain": [
       "True"
      ]
     },
     "execution_count": 41,
     "metadata": {},
     "output_type": "execute_result"
    }
   ],
   "source": [
    "s=\"5\"\n",
    "ord(s)>=ord(\"0\") and ord(s)<=ord(\"9\")"
   ]
  },
  {
   "cell_type": "code",
   "execution_count": 42,
   "metadata": {},
   "outputs": [
    {
     "data": {
      "text/plain": [
       "False"
      ]
     },
     "execution_count": 42,
     "metadata": {},
     "output_type": "execute_result"
    }
   ],
   "source": [
    "s=\"@\"\n",
    "ord(s)>=ord(\"0\") and ord(s)<=ord(\"9\")"
   ]
  },
  {
   "cell_type": "code",
   "execution_count": 43,
   "metadata": {},
   "outputs": [
    {
     "data": {
      "text/plain": [
       "False"
      ]
     },
     "execution_count": 43,
     "metadata": {},
     "output_type": "execute_result"
    }
   ],
   "source": [
    "s=\"a\"\n",
    "ord(s)>=ord(\"0\") and ord(s)<=ord(\"9\")"
   ]
  },
  {
   "cell_type": "code",
   "execution_count": 44,
   "metadata": {},
   "outputs": [
    {
     "data": {
      "text/plain": [
       "True"
      ]
     },
     "execution_count": 44,
     "metadata": {},
     "output_type": "execute_result"
    }
   ],
   "source": [
    "s=\"9\"\n",
    "ord(s)>=ord(\"0\") and ord(s)<=ord(\"9\")"
   ]
  },
  {
   "cell_type": "code",
   "execution_count": 45,
   "metadata": {},
   "outputs": [
    {
     "data": {
      "text/plain": [
       "True"
      ]
     },
     "execution_count": 45,
     "metadata": {},
     "output_type": "execute_result"
    }
   ],
   "source": [
    "s=\"0\"\n",
    "ord(s)>=ord(\"0\") and ord(s)<=ord(\"9\")"
   ]
  },
  {
   "cell_type": "code",
   "execution_count": 46,
   "metadata": {},
   "outputs": [
    {
     "data": {
      "text/plain": [
       "True"
      ]
     },
     "execution_count": 46,
     "metadata": {},
     "output_type": "execute_result"
    }
   ],
   "source": [
    "#48-57\n",
    "49 in range(48,57)"
   ]
  },
  {
   "cell_type": "code",
   "execution_count": 47,
   "metadata": {},
   "outputs": [
    {
     "data": {
      "text/plain": [
       "[48, 49, 50, 51, 52, 53, 54, 55, 56]"
      ]
     },
     "execution_count": 47,
     "metadata": {},
     "output_type": "execute_result"
    }
   ],
   "source": [
    "list(range(48,57))"
   ]
  },
  {
   "cell_type": "code",
   "execution_count": 48,
   "metadata": {},
   "outputs": [
    {
     "data": {
      "text/plain": [
       "[48, 49, 50, 51, 52, 53, 54, 55, 56, 57]"
      ]
     },
     "execution_count": 48,
     "metadata": {},
     "output_type": "execute_result"
    }
   ],
   "source": [
    "list(range(48,58))"
   ]
  },
  {
   "cell_type": "code",
   "execution_count": 49,
   "metadata": {},
   "outputs": [
    {
     "name": "stdout",
     "output_type": "stream",
     "text": [
      "enter a value:q\n",
      "enter b vlaue:2\n",
      "expecting 0-9 single digits.\n"
     ]
    }
   ],
   "source": [
    "a=input(\"enter a value:\")\n",
    "b=input(\"enter b vlaue:\")\n",
    "if len(a)==1 and len(b)==1:\n",
    "    ord_a=ord(a)\n",
    "    ord_b=ord(b)\n",
    "    if ord_a in range(48,58) and ord_b in range(48,58):\n",
    "        a=int(a)\n",
    "        b=int(b)\n",
    "        print(a+b)\n",
    "    else:\n",
    "        print(\"expecting 0-9 single digits.\")\n",
    "else:\n",
    "    print(\"expecting only one digit numbers.\")"
   ]
  },
  {
   "cell_type": "code",
   "execution_count": 50,
   "metadata": {},
   "outputs": [
    {
     "name": "stdout",
     "output_type": "stream",
     "text": [
      "enter a value:23\n",
      "enter b vlaue:45\n",
      "expecting only one digit numbers.\n"
     ]
    }
   ],
   "source": [
    "a=input(\"enter a value:\")\n",
    "b=input(\"enter b vlaue:\")\n",
    "if len(a)==1 and len(b)==1:\n",
    "    ord_a=ord(a)\n",
    "    ord_b=ord(b)\n",
    "    if ord_a in range(48,58) and ord_b in range(48,58):\n",
    "        a=int(a)\n",
    "        b=int(b)\n",
    "        print(a+b)\n",
    "    else:\n",
    "        print(\"expecting 0-9 single digits.\")\n",
    "else:\n",
    "    print(\"expecting only one digit numbers.\")"
   ]
  },
  {
   "cell_type": "code",
   "execution_count": null,
   "metadata": {},
   "outputs": [],
   "source": []
  }
 ],
 "metadata": {
  "kernelspec": {
   "display_name": "Python 3",
   "language": "python",
   "name": "python3"
  },
  "language_info": {
   "codemirror_mode": {
    "name": "ipython",
    "version": 3
   },
   "file_extension": ".py",
   "mimetype": "text/x-python",
   "name": "python",
   "nbconvert_exporter": "python",
   "pygments_lexer": "ipython3",
   "version": "3.8.3"
  }
 },
 "nbformat": 4,
 "nbformat_minor": 4
}
