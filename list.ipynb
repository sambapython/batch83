{
 "cells": [
  {
   "cell_type": "code",
   "execution_count": 1,
   "metadata": {},
   "outputs": [
    {
     "name": "stdout",
     "output_type": "stream",
     "text": [
      "[1, 2, 3, 'str1', 1.2, True, None, (1+2j), [1, 2, 3, 4], (1, 2, 3), {1, 2, 3}, {'name': 'jay'}]\n"
     ]
    }
   ],
   "source": [
    "l=[1,2,3,\"str1\",1.2,True,None,1+2j,[1,2,3,4],(1,2,3),{1,2,3,},{\"name\":\"jay\"}]\n",
    "print(l)"
   ]
  },
  {
   "cell_type": "code",
   "execution_count": 2,
   "metadata": {},
   "outputs": [
    {
     "name": "stdout",
     "output_type": "stream",
     "text": [
      "['p', 'y', 't', 'h', 'o', 'n']\n",
      "['apple', 'grape', 'mango']\n",
      "[1, 2, 3]\n"
     ]
    }
   ],
   "source": [
    "s=\"python\"\n",
    "print(list(s))\n",
    "s=\"apple;grape;mango\"\n",
    "print(s.split(\";\"))\n",
    "def fun():\n",
    "    yield 1\n",
    "    yield 2\n",
    "    yield 3\n",
    "print(list(fun()))"
   ]
  },
  {
   "cell_type": "code",
   "execution_count": 3,
   "metadata": {},
   "outputs": [
    {
     "name": "stdout",
     "output_type": "stream",
     "text": [
      "apple\n",
      "banana\n",
      "['banana', 'mango', 'grape', 'orange', 'apple']\n",
      "['apple', 'orange', 'grape']\n",
      "['orange', 'mango']\n"
     ]
    }
   ],
   "source": [
    "l=[\"apple\",\"orange\",\"grape\",\"mango\",\"banana\"]\n",
    "print(l[0])\n",
    "print(l[-1])\n",
    "print(l[::-1])\n",
    "print(l[:3])\n",
    "print(l[1:4:2])"
   ]
  },
  {
   "cell_type": "code",
   "execution_count": 4,
   "metadata": {},
   "outputs": [
    {
     "name": "stdout",
     "output_type": "stream",
     "text": [
      "4\n"
     ]
    }
   ],
   "source": [
    "l=[1,2,3,[10,20,40]]\n",
    "print(len(l))"
   ]
  },
  {
   "cell_type": "code",
   "execution_count": 5,
   "metadata": {},
   "outputs": [
    {
     "name": "stdout",
     "output_type": "stream",
     "text": [
      "6\n"
     ]
    }
   ],
   "source": [
    "l=[1,2,3,[10,20,40],[100,200,[300,400],500],60]\n",
    "print(len(l))"
   ]
  },
  {
   "cell_type": "code",
   "execution_count": 6,
   "metadata": {},
   "outputs": [
    {
     "name": "stdout",
     "output_type": "stream",
     "text": [
      "[10, 20, 40]\n"
     ]
    }
   ],
   "source": [
    "l=[1,2,3,[10,20,40],[100,200,[300,400],500],60]\n",
    "print(l[3])"
   ]
  },
  {
   "cell_type": "code",
   "execution_count": 7,
   "metadata": {},
   "outputs": [
    {
     "name": "stdout",
     "output_type": "stream",
     "text": [
      "20\n"
     ]
    }
   ],
   "source": [
    "l=[1,2,3,[10,20,40],[100,200,[300,400],500],60]\n",
    "print(l[3][1])"
   ]
  },
  {
   "cell_type": "code",
   "execution_count": 8,
   "metadata": {},
   "outputs": [
    {
     "name": "stdout",
     "output_type": "stream",
     "text": [
      "[100, 200, [300, 400], 500]\n"
     ]
    }
   ],
   "source": [
    "l=[1,2,3,[10,20,40],[100,200,[300,400],500],60]\n",
    "print(l[4])"
   ]
  },
  {
   "cell_type": "code",
   "execution_count": 9,
   "metadata": {},
   "outputs": [
    {
     "name": "stdout",
     "output_type": "stream",
     "text": [
      "[300, 400]\n"
     ]
    }
   ],
   "source": [
    "l=[1,2,3,[10,20,40],[100,200,[300,400],500],60]\n",
    "print(l[4][2])"
   ]
  },
  {
   "cell_type": "code",
   "execution_count": 10,
   "metadata": {},
   "outputs": [
    {
     "name": "stdout",
     "output_type": "stream",
     "text": [
      "400\n"
     ]
    }
   ],
   "source": [
    "l=[1,2,3,[10,20,40],[100,200,[300,400],500],60]\n",
    "print(l[4][2][-1])"
   ]
  },
  {
   "cell_type": "code",
   "execution_count": 11,
   "metadata": {},
   "outputs": [
    {
     "name": "stdout",
     "output_type": "stream",
     "text": [
      "[10, 20, 300, 40]\n"
     ]
    }
   ],
   "source": [
    "l=[10,20,30,40]\n",
    "l[2]=300\n",
    "print(l)"
   ]
  },
  {
   "cell_type": "code",
   "execution_count": 12,
   "metadata": {},
   "outputs": [
    {
     "name": "stdout",
     "output_type": "stream",
     "text": [
      "[1000, 2000, 3000, 4000]\n",
      "[1000, 2000, 3000, 4000]\n",
      "[1000, 2000, 3000, 4000]\n",
      "[1000, 2000, 3000, 4000]\n"
     ]
    }
   ],
   "source": [
    "from copy import deepcopy\n",
    "l=[1000,2000,3000,4000,[5000,6000],7000,[8000,9000]]\n",
    "k=l #k and l are refereing the same indexed object in the memory\n",
    "m=l[:]\n",
    "n=l.copy()\n",
    "p=deepcopy(l)\n",
    "print(l)\n",
    "print(k)\n",
    "print(m)\n",
    "print(n)"
   ]
  },
  {
   "cell_type": "code",
   "execution_count": 13,
   "metadata": {},
   "outputs": [
    {
     "name": "stdout",
     "output_type": "stream",
     "text": [
      "[1, 2000, 3000, 4000, [5000, 6000], 7000, [8000, 9000]]\n",
      "[1, 2000, 3000, 4000, [5000, 6000], 7000, [8000, 9000]]\n",
      "[1000, 2000, 3000, 4000, [5000, 6000], 7000, [8000, 9000]]\n",
      "[1000, 2000, 3000, 4000, [5000, 6000], 7000, [8000, 9000]]\n"
     ]
    }
   ],
   "source": [
    "from copy import deepcopy\n",
    "l=[1000,2000,3000,4000,[5000,6000],7000,[8000,9000]]\n",
    "k=l #k and l are refereing the same indexed object in the memory\n",
    "m=l[:]\n",
    "n=l.copy()\n",
    "p=deepcopy(l)\n",
    "l[0]=1\n",
    "print(l)\n",
    "print(k)\n",
    "print(m)\n",
    "print(n)"
   ]
  },
  {
   "cell_type": "code",
   "execution_count": 15,
   "metadata": {},
   "outputs": [
    {
     "name": "stdout",
     "output_type": "stream",
     "text": [
      "[1, 2000, 3000, 4000, [5000, 6], 7000, [8000, 9000]]\n",
      "[1, 2000, 3000, 4000, [5000, 6], 7000, [8000, 9000]]\n",
      "[1000, 2000, 3000, 4000, [5000, 6], 7000, [8000, 9000]]\n",
      "[1000, 2000, 3000, 4000, [5000, 6], 7000, [8000, 9000]]\n",
      "[1000, 2000, 3000, 4000, [5000, 6000], 7000, [8000, 9000]]\n"
     ]
    }
   ],
   "source": [
    "from copy import deepcopy\n",
    "l=[1000,2000,3000,4000,[5000,6000],7000,[8000,9000]]\n",
    "k=l #k and l are refereing the same indexed object in the memory\n",
    "m=l[:]\n",
    "n=l.copy()\n",
    "p=deepcopy(l)\n",
    "l[0]=1\n",
    "l[4][1]=6\n",
    "print(l)\n",
    "print(k)\n",
    "print(m)\n",
    "print(n)\n",
    "print(p)"
   ]
  },
  {
   "cell_type": "code",
   "execution_count": 16,
   "metadata": {},
   "outputs": [
    {
     "name": "stdout",
     "output_type": "stream",
     "text": [
      "[1000, 200, [3000, 4000], (5000, 6000)]\n"
     ]
    }
   ],
   "source": [
    "l=[1000,200,[3000,4000],(5000,6000)]\n",
    "print(l)"
   ]
  },
  {
   "cell_type": "code",
   "execution_count": 17,
   "metadata": {},
   "outputs": [
    {
     "name": "stdout",
     "output_type": "stream",
     "text": [
      "[1000, 200, [3000, 3], (5000, 6000)]\n"
     ]
    }
   ],
   "source": [
    "l=[1000,200,[3000,4000],(5000,6000)]\n",
    "l[2][1]=3\n",
    "print(l)"
   ]
  },
  {
   "cell_type": "code",
   "execution_count": 18,
   "metadata": {},
   "outputs": [
    {
     "name": "stdout",
     "output_type": "stream",
     "text": [
      "[1000, 200, [3000, 3], (5000, 6000)]\n"
     ]
    },
    {
     "ename": "TypeError",
     "evalue": "'tuple' object does not support item assignment",
     "output_type": "error",
     "traceback": [
      "\u001b[1;31m---------------------------------------------------------------------------\u001b[0m",
      "\u001b[1;31mTypeError\u001b[0m                                 Traceback (most recent call last)",
      "\u001b[1;32m<ipython-input-18-0acbe997e992>\u001b[0m in \u001b[0;36m<module>\u001b[1;34m\u001b[0m\n\u001b[0;32m      2\u001b[0m \u001b[0ml\u001b[0m\u001b[1;33m[\u001b[0m\u001b[1;36m2\u001b[0m\u001b[1;33m]\u001b[0m\u001b[1;33m[\u001b[0m\u001b[1;36m1\u001b[0m\u001b[1;33m]\u001b[0m\u001b[1;33m=\u001b[0m\u001b[1;36m3\u001b[0m\u001b[1;33m\u001b[0m\u001b[1;33m\u001b[0m\u001b[0m\n\u001b[0;32m      3\u001b[0m \u001b[0mprint\u001b[0m\u001b[1;33m(\u001b[0m\u001b[0ml\u001b[0m\u001b[1;33m)\u001b[0m\u001b[1;33m\u001b[0m\u001b[1;33m\u001b[0m\u001b[0m\n\u001b[1;32m----> 4\u001b[1;33m \u001b[0ml\u001b[0m\u001b[1;33m[\u001b[0m\u001b[1;36m3\u001b[0m\u001b[1;33m]\u001b[0m\u001b[1;33m[\u001b[0m\u001b[1;36m1\u001b[0m\u001b[1;33m]\u001b[0m\u001b[1;33m=\u001b[0m\u001b[1;36m5\u001b[0m\u001b[1;33m\u001b[0m\u001b[1;33m\u001b[0m\u001b[0m\n\u001b[0m",
      "\u001b[1;31mTypeError\u001b[0m: 'tuple' object does not support item assignment"
     ]
    }
   ],
   "source": [
    "l=[1000,200,[3000,4000],(5000,6000)]\n",
    "l[2][1]=3\n",
    "print(l)\n",
    "l[3][1]=5"
   ]
  },
  {
   "cell_type": "code",
   "execution_count": 19,
   "metadata": {},
   "outputs": [
    {
     "name": "stdout",
     "output_type": "stream",
     "text": [
      "(1000, 2000, [3000, 4000], 5000)\n"
     ]
    }
   ],
   "source": [
    "t=(1000,2000,[3000,4000],5000)\n",
    "print(t)"
   ]
  },
  {
   "cell_type": "code",
   "execution_count": 20,
   "metadata": {},
   "outputs": [
    {
     "name": "stdout",
     "output_type": "stream",
     "text": [
      "(1000, 2000, [3000, 4000], 5000)\n"
     ]
    },
    {
     "ename": "TypeError",
     "evalue": "'tuple' object does not support item assignment",
     "output_type": "error",
     "traceback": [
      "\u001b[1;31m---------------------------------------------------------------------------\u001b[0m",
      "\u001b[1;31mTypeError\u001b[0m                                 Traceback (most recent call last)",
      "\u001b[1;32m<ipython-input-20-26568f8bba40>\u001b[0m in \u001b[0;36m<module>\u001b[1;34m\u001b[0m\n\u001b[0;32m      1\u001b[0m \u001b[0mt\u001b[0m\u001b[1;33m=\u001b[0m\u001b[1;33m(\u001b[0m\u001b[1;36m1000\u001b[0m\u001b[1;33m,\u001b[0m\u001b[1;36m2000\u001b[0m\u001b[1;33m,\u001b[0m\u001b[1;33m[\u001b[0m\u001b[1;36m3000\u001b[0m\u001b[1;33m,\u001b[0m\u001b[1;36m4000\u001b[0m\u001b[1;33m]\u001b[0m\u001b[1;33m,\u001b[0m\u001b[1;36m5000\u001b[0m\u001b[1;33m)\u001b[0m\u001b[1;33m\u001b[0m\u001b[1;33m\u001b[0m\u001b[0m\n\u001b[0;32m      2\u001b[0m \u001b[0mprint\u001b[0m\u001b[1;33m(\u001b[0m\u001b[0mt\u001b[0m\u001b[1;33m)\u001b[0m\u001b[1;33m\u001b[0m\u001b[1;33m\u001b[0m\u001b[0m\n\u001b[1;32m----> 3\u001b[1;33m \u001b[0mt\u001b[0m\u001b[1;33m[\u001b[0m\u001b[1;36m0\u001b[0m\u001b[1;33m]\u001b[0m\u001b[1;33m=\u001b[0m\u001b[1;36m1\u001b[0m\u001b[1;33m\u001b[0m\u001b[1;33m\u001b[0m\u001b[0m\n\u001b[0m\u001b[0;32m      4\u001b[0m \u001b[0mprint\u001b[0m\u001b[1;33m(\u001b[0m\u001b[0mt\u001b[0m\u001b[1;33m)\u001b[0m\u001b[1;33m\u001b[0m\u001b[1;33m\u001b[0m\u001b[0m\n",
      "\u001b[1;31mTypeError\u001b[0m: 'tuple' object does not support item assignment"
     ]
    }
   ],
   "source": [
    "t=(1000,2000,[3000,4000],5000)\n",
    "print(t)\n",
    "t[0]=1\n",
    "print(t)"
   ]
  },
  {
   "cell_type": "code",
   "execution_count": 21,
   "metadata": {},
   "outputs": [
    {
     "name": "stdout",
     "output_type": "stream",
     "text": [
      "(1000, 2000, [3000, 4000], 5000)\n",
      "(1000, 2000, [3000, 4], 5000)\n"
     ]
    }
   ],
   "source": [
    "t=(1000,2000,[3000,4000],5000)\n",
    "print(t)\n",
    "t[2][1]=4\n",
    "print(t)"
   ]
  },
  {
   "cell_type": "code",
   "execution_count": 22,
   "metadata": {},
   "outputs": [
    {
     "name": "stdout",
     "output_type": "stream",
     "text": [
      "(1000, 2000, [3000, 4000], 5000)\n"
     ]
    },
    {
     "ename": "TypeError",
     "evalue": "'tuple' object does not support item assignment",
     "output_type": "error",
     "traceback": [
      "\u001b[1;31m---------------------------------------------------------------------------\u001b[0m",
      "\u001b[1;31mTypeError\u001b[0m                                 Traceback (most recent call last)",
      "\u001b[1;32m<ipython-input-22-3e707b1b1dd1>\u001b[0m in \u001b[0;36m<module>\u001b[1;34m\u001b[0m\n\u001b[0;32m      1\u001b[0m \u001b[0mt\u001b[0m\u001b[1;33m=\u001b[0m\u001b[1;33m(\u001b[0m\u001b[1;36m1000\u001b[0m\u001b[1;33m,\u001b[0m\u001b[1;36m2000\u001b[0m\u001b[1;33m,\u001b[0m\u001b[1;33m[\u001b[0m\u001b[1;36m3000\u001b[0m\u001b[1;33m,\u001b[0m\u001b[1;36m4000\u001b[0m\u001b[1;33m]\u001b[0m\u001b[1;33m,\u001b[0m\u001b[1;36m5000\u001b[0m\u001b[1;33m)\u001b[0m\u001b[1;33m\u001b[0m\u001b[1;33m\u001b[0m\u001b[0m\n\u001b[0;32m      2\u001b[0m \u001b[0mprint\u001b[0m\u001b[1;33m(\u001b[0m\u001b[0mt\u001b[0m\u001b[1;33m)\u001b[0m\u001b[1;33m\u001b[0m\u001b[1;33m\u001b[0m\u001b[0m\n\u001b[1;32m----> 3\u001b[1;33m \u001b[0mt\u001b[0m\u001b[1;33m[\u001b[0m\u001b[1;36m2\u001b[0m\u001b[1;33m]\u001b[0m\u001b[1;33m=\u001b[0m\u001b[1;36m4\u001b[0m\u001b[1;33m\u001b[0m\u001b[1;33m\u001b[0m\u001b[0m\n\u001b[0m\u001b[0;32m      4\u001b[0m \u001b[0mprint\u001b[0m\u001b[1;33m(\u001b[0m\u001b[0mt\u001b[0m\u001b[1;33m)\u001b[0m\u001b[1;33m\u001b[0m\u001b[1;33m\u001b[0m\u001b[0m\n",
      "\u001b[1;31mTypeError\u001b[0m: 'tuple' object does not support item assignment"
     ]
    }
   ],
   "source": [
    "t=(1000,2000,[3000,4000],5000)\n",
    "print(t)\n",
    "t[2]=4\n",
    "print(t)"
   ]
  },
  {
   "cell_type": "code",
   "execution_count": 23,
   "metadata": {},
   "outputs": [
    {
     "name": "stdout",
     "output_type": "stream",
     "text": [
      "(1000, 2000, [3000, 4000], 5000)\n"
     ]
    }
   ],
   "source": [
    "a=[3000,4000]\n",
    "t=(1000,2000,a,5000)\n",
    "print(t)"
   ]
  },
  {
   "cell_type": "code",
   "execution_count": 24,
   "metadata": {},
   "outputs": [
    {
     "name": "stdout",
     "output_type": "stream",
     "text": [
      "(1000, 2000, [3000, 4000, 600], 5000)\n"
     ]
    }
   ],
   "source": [
    "a=[3000,4000]\n",
    "t=(1000,2000,a,5000)\n",
    "a.append(600)\n",
    "print(t)"
   ]
  },
  {
   "cell_type": "code",
   "execution_count": 25,
   "metadata": {},
   "outputs": [],
   "source": [
    "#arithmetic\n",
    "#boolean"
   ]
  },
  {
   "cell_type": "code",
   "execution_count": 26,
   "metadata": {},
   "outputs": [
    {
     "name": "stdout",
     "output_type": "stream",
     "text": [
      "['__add__', '__class__', '__contains__', '__delattr__', '__delitem__', '__dir__', '__doc__', '__eq__', '__format__', '__ge__', '__getattribute__', '__getitem__', '__gt__', '__hash__', '__iadd__', '__imul__', '__init__', '__init_subclass__', '__iter__', '__le__', '__len__', '__lt__', '__mul__', '__ne__', '__new__', '__reduce__', '__reduce_ex__', '__repr__', '__reversed__', '__rmul__', '__setattr__', '__setitem__', '__sizeof__', '__str__', '__subclasshook__', 'append', 'clear', 'copy', 'count', 'extend', 'index', 'insert', 'pop', 'remove', 'reverse', 'sort']\n"
     ]
    }
   ],
   "source": [
    "l=[1000,2000,3000]\n",
    "print(dir(l))"
   ]
  },
  {
   "cell_type": "code",
   "execution_count": 27,
   "metadata": {},
   "outputs": [
    {
     "name": "stdout",
     "output_type": "stream",
     "text": [
      "l= [1000, 2000, 3000, 4000]\n",
      "k= None\n"
     ]
    }
   ],
   "source": [
    "l=[1000,2000,3000]\n",
    "k=l.append(4000)\n",
    "print(\"l=\",l)\n",
    "print(\"k=\",k)"
   ]
  },
  {
   "cell_type": "code",
   "execution_count": 2,
   "metadata": {},
   "outputs": [
    {
     "name": "stdout",
     "output_type": "stream",
     "text": [
      "['__add__', '__class__', '__contains__', '__delattr__', '__delitem__', '__dir__', '__doc__', '__eq__', '__format__', '__ge__', '__getattribute__', '__getitem__', '__gt__', '__hash__', '__iadd__', '__imul__', '__init__', '__init_subclass__', '__iter__', '__le__', '__len__', '__lt__', '__mul__', '__ne__', '__new__', '__reduce__', '__reduce_ex__', '__repr__', '__reversed__', '__rmul__', '__setattr__', '__setitem__', '__sizeof__', '__str__', '__subclasshook__', 'append', 'clear', 'copy', 'count', 'extend', 'index', 'insert', 'pop', 'remove', 'reverse', 'sort']\n"
     ]
    }
   ],
   "source": [
    "l=[1,2,3,4]\n",
    "print(dir(l))"
   ]
  },
  {
   "cell_type": "code",
   "execution_count": 3,
   "metadata": {},
   "outputs": [
    {
     "name": "stdout",
     "output_type": "stream",
     "text": [
      "l= [1000, 2000, 3000, 4000, 5000]\n",
      "k= None\n"
     ]
    }
   ],
   "source": [
    "l=[1000,2000,3000,4000]\n",
    "k=l.append(5000)\n",
    "print(\"l=\",l)\n",
    "print(\"k=\",k)"
   ]
  },
  {
   "cell_type": "code",
   "execution_count": 4,
   "metadata": {},
   "outputs": [
    {
     "name": "stdout",
     "output_type": "stream",
     "text": [
      "l= [1000, 2000, 3000, 4000, 'python']\n",
      "k= None\n"
     ]
    }
   ],
   "source": [
    "l=[1000,2000,3000,4000]\n",
    "k=l.append(\"python\")\n",
    "print(\"l=\",l)\n",
    "print(\"k=\",k)"
   ]
  },
  {
   "cell_type": "code",
   "execution_count": 5,
   "metadata": {},
   "outputs": [
    {
     "name": "stdout",
     "output_type": "stream",
     "text": [
      "l= [1000, 2000, 3000, 4000, 'p', 'y', 't', 'h', 'o', 'n']\n",
      "k= None\n"
     ]
    }
   ],
   "source": [
    "l=[1000,2000,3000,4000]\n",
    "#k=l.extend(\"python\")\n",
    "for i in \"python\":\n",
    "    l.append(i)\n",
    "print(\"l=\",l)\n",
    "print(\"k=\",k)"
   ]
  },
  {
   "cell_type": "code",
   "execution_count": 6,
   "metadata": {},
   "outputs": [
    {
     "name": "stdout",
     "output_type": "stream",
     "text": [
      "l= [1000, 2000, 3000, 4000, 'p', 'y', 't', 'h', 'o', 'n']\n",
      "k= None\n"
     ]
    }
   ],
   "source": [
    "l=[1000,2000,3000,4000]\n",
    "k=l.extend(\"python\")\n",
    "print(\"l=\",l)\n",
    "print(\"k=\",k)"
   ]
  },
  {
   "cell_type": "code",
   "execution_count": 7,
   "metadata": {},
   "outputs": [
    {
     "name": "stdout",
     "output_type": "stream",
     "text": [
      "name\n",
      "age\n",
      "l= [1000, 2000, 3000, 4000, 'name', 'age']\n",
      "k= None\n"
     ]
    }
   ],
   "source": [
    "l=[1000,2000,3000,4000]\n",
    "d={\"name\":\"jay\",\"age\":6}\n",
    "for i in d:\n",
    "    print(i)\n",
    "k=l.extend(d)\n",
    "print(\"l=\",l)\n",
    "print(\"k=\",k)"
   ]
  },
  {
   "cell_type": "code",
   "execution_count": 8,
   "metadata": {},
   "outputs": [
    {
     "ename": "TypeError",
     "evalue": "'int' object is not iterable",
     "output_type": "error",
     "traceback": [
      "\u001b[1;31m---------------------------------------------------------------------------\u001b[0m",
      "\u001b[1;31mTypeError\u001b[0m                                 Traceback (most recent call last)",
      "\u001b[1;32m<ipython-input-8-d50190e16324>\u001b[0m in \u001b[0;36m<module>\u001b[1;34m\u001b[0m\n\u001b[0;32m      1\u001b[0m \u001b[0ml\u001b[0m\u001b[1;33m=\u001b[0m\u001b[1;33m[\u001b[0m\u001b[1;36m1000\u001b[0m\u001b[1;33m,\u001b[0m\u001b[1;36m2000\u001b[0m\u001b[1;33m,\u001b[0m\u001b[1;36m3000\u001b[0m\u001b[1;33m,\u001b[0m\u001b[1;36m4000\u001b[0m\u001b[1;33m]\u001b[0m\u001b[1;33m\u001b[0m\u001b[1;33m\u001b[0m\u001b[0m\n\u001b[1;32m----> 2\u001b[1;33m \u001b[0mk\u001b[0m\u001b[1;33m=\u001b[0m\u001b[0ml\u001b[0m\u001b[1;33m.\u001b[0m\u001b[0mextend\u001b[0m\u001b[1;33m(\u001b[0m\u001b[1;36m5000\u001b[0m\u001b[1;33m)\u001b[0m\u001b[1;33m\u001b[0m\u001b[1;33m\u001b[0m\u001b[0m\n\u001b[0m\u001b[0;32m      3\u001b[0m \u001b[0mprint\u001b[0m\u001b[1;33m(\u001b[0m\u001b[1;34m\"l=\"\u001b[0m\u001b[1;33m,\u001b[0m\u001b[0ml\u001b[0m\u001b[1;33m)\u001b[0m\u001b[1;33m\u001b[0m\u001b[1;33m\u001b[0m\u001b[0m\n\u001b[0;32m      4\u001b[0m \u001b[0mprint\u001b[0m\u001b[1;33m(\u001b[0m\u001b[1;34m\"k=\"\u001b[0m\u001b[1;33m,\u001b[0m\u001b[0mk\u001b[0m\u001b[1;33m)\u001b[0m\u001b[1;33m\u001b[0m\u001b[1;33m\u001b[0m\u001b[0m\n",
      "\u001b[1;31mTypeError\u001b[0m: 'int' object is not iterable"
     ]
    }
   ],
   "source": [
    "l=[1000,2000,3000,4000]\n",
    "k=l.extend(5000)\n",
    "print(\"l=\",l)\n",
    "print(\"k=\",k)"
   ]
  },
  {
   "cell_type": "code",
   "execution_count": 9,
   "metadata": {},
   "outputs": [
    {
     "name": "stdout",
     "output_type": "stream",
     "text": [
      "l= [1000, 2000, 'apple', 3000, 4000]\n",
      "k= None\n"
     ]
    }
   ],
   "source": [
    "l=[1000,2000,3000,4000]\n",
    "k=l.insert(2,\"apple\")\n",
    "print(\"l=\",l)\n",
    "print(\"k=\",k)"
   ]
  },
  {
   "cell_type": "code",
   "execution_count": 10,
   "metadata": {},
   "outputs": [
    {
     "name": "stdout",
     "output_type": "stream",
     "text": [
      "l= [1000, 2000, 3000, 4000, 'apple']\n",
      "k= None\n"
     ]
    }
   ],
   "source": [
    "l=[1000,2000,3000,4000]\n",
    "k=l.insert(20,\"apple\")\n",
    "print(\"l=\",l)\n",
    "print(\"k=\",k)"
   ]
  },
  {
   "cell_type": "code",
   "execution_count": 11,
   "metadata": {},
   "outputs": [
    {
     "name": "stdout",
     "output_type": "stream",
     "text": [
      "l= [1000, 2000, 'apple', 3000, 4000]\n",
      "k= None\n"
     ]
    }
   ],
   "source": [
    "l=[1000,2000,3000,4000]\n",
    "k=l.insert(-2,\"apple\")\n",
    "print(\"l=\",l)\n",
    "print(\"k=\",k)"
   ]
  },
  {
   "cell_type": "code",
   "execution_count": 12,
   "metadata": {},
   "outputs": [
    {
     "name": "stdout",
     "output_type": "stream",
     "text": [
      "[1000, 2000, 2, 4000]\n"
     ]
    }
   ],
   "source": [
    "l=[1000,2000,3000,4000]\n",
    "l[2]=2\n",
    "print(l)"
   ]
  },
  {
   "cell_type": "code",
   "execution_count": 13,
   "metadata": {},
   "outputs": [
    {
     "name": "stdout",
     "output_type": "stream",
     "text": [
      "5\n"
     ]
    }
   ],
   "source": [
    "s=[\"apple\",\"orange\",\"apple\",\"grape\",\"apple\",\"apple\",\"orange\",\"mango\",\"apple\"]\n",
    "print(s.count(\"apple\"))"
   ]
  },
  {
   "cell_type": "code",
   "execution_count": 14,
   "metadata": {},
   "outputs": [
    {
     "name": "stdout",
     "output_type": "stream",
     "text": [
      "s= ['apple', 'orange', 'apple', 'grape', 'apple', 'apple', 'orange', 'mango']\n",
      "k= apple\n"
     ]
    }
   ],
   "source": [
    "s=[\"apple\",\"orange\",\"apple\",\"grape\",\"apple\",\"apple\",\"orange\",\"mango\",\"apple\"]\n",
    "k=s.pop()\n",
    "print(\"s=\",s)\n",
    "print(\"k=\",k)"
   ]
  },
  {
   "cell_type": "code",
   "execution_count": 15,
   "metadata": {},
   "outputs": [
    {
     "ename": "IndexError",
     "evalue": "pop from empty list",
     "output_type": "error",
     "traceback": [
      "\u001b[1;31m---------------------------------------------------------------------------\u001b[0m",
      "\u001b[1;31mIndexError\u001b[0m                                Traceback (most recent call last)",
      "\u001b[1;32m<ipython-input-15-13d5389a0f0b>\u001b[0m in \u001b[0;36m<module>\u001b[1;34m\u001b[0m\n\u001b[0;32m      1\u001b[0m \u001b[0ms\u001b[0m\u001b[1;33m=\u001b[0m\u001b[1;33m[\u001b[0m\u001b[1;33m]\u001b[0m\u001b[1;33m\u001b[0m\u001b[1;33m\u001b[0m\u001b[0m\n\u001b[1;32m----> 2\u001b[1;33m \u001b[0mk\u001b[0m\u001b[1;33m=\u001b[0m\u001b[0ms\u001b[0m\u001b[1;33m.\u001b[0m\u001b[0mpop\u001b[0m\u001b[1;33m(\u001b[0m\u001b[1;33m)\u001b[0m\u001b[1;33m\u001b[0m\u001b[1;33m\u001b[0m\u001b[0m\n\u001b[0m\u001b[0;32m      3\u001b[0m \u001b[0mprint\u001b[0m\u001b[1;33m(\u001b[0m\u001b[1;34m\"s=\"\u001b[0m\u001b[1;33m,\u001b[0m\u001b[0ms\u001b[0m\u001b[1;33m)\u001b[0m\u001b[1;33m\u001b[0m\u001b[1;33m\u001b[0m\u001b[0m\n\u001b[0;32m      4\u001b[0m \u001b[0mprint\u001b[0m\u001b[1;33m(\u001b[0m\u001b[1;34m\"k=\"\u001b[0m\u001b[1;33m,\u001b[0m\u001b[0mk\u001b[0m\u001b[1;33m)\u001b[0m\u001b[1;33m\u001b[0m\u001b[1;33m\u001b[0m\u001b[0m\n",
      "\u001b[1;31mIndexError\u001b[0m: pop from empty list"
     ]
    }
   ],
   "source": [
    "s=[]\n",
    "k=s.pop()\n",
    "print(\"s=\",s)\n",
    "print(\"k=\",k)"
   ]
  },
  {
   "cell_type": "code",
   "execution_count": 16,
   "metadata": {},
   "outputs": [
    {
     "name": "stdout",
     "output_type": "stream",
     "text": [
      "s= ['apple', 'orange', 'apple', 'apple', 'apple', 'orange', 'mango', 'apple']\n",
      "k= grape\n"
     ]
    }
   ],
   "source": [
    "s=[\"apple\",\"orange\",\"apple\",\"grape\",\"apple\",\"apple\",\"orange\",\"mango\",\"apple\"]\n",
    "k=s.pop(3)\n",
    "print(\"s=\",s)\n",
    "print(\"k=\",k)"
   ]
  },
  {
   "cell_type": "code",
   "execution_count": 17,
   "metadata": {},
   "outputs": [
    {
     "ename": "IndexError",
     "evalue": "pop index out of range",
     "output_type": "error",
     "traceback": [
      "\u001b[1;31m---------------------------------------------------------------------------\u001b[0m",
      "\u001b[1;31mIndexError\u001b[0m                                Traceback (most recent call last)",
      "\u001b[1;32m<ipython-input-17-f8eab8a442ee>\u001b[0m in \u001b[0;36m<module>\u001b[1;34m\u001b[0m\n\u001b[0;32m      1\u001b[0m \u001b[0ms\u001b[0m\u001b[1;33m=\u001b[0m\u001b[1;33m[\u001b[0m\u001b[1;34m\"apple\"\u001b[0m\u001b[1;33m,\u001b[0m\u001b[1;34m\"orange\"\u001b[0m\u001b[1;33m,\u001b[0m\u001b[1;34m\"apple\"\u001b[0m\u001b[1;33m,\u001b[0m\u001b[1;34m\"grape\"\u001b[0m\u001b[1;33m,\u001b[0m\u001b[1;34m\"apple\"\u001b[0m\u001b[1;33m,\u001b[0m\u001b[1;34m\"apple\"\u001b[0m\u001b[1;33m,\u001b[0m\u001b[1;34m\"orange\"\u001b[0m\u001b[1;33m,\u001b[0m\u001b[1;34m\"mango\"\u001b[0m\u001b[1;33m,\u001b[0m\u001b[1;34m\"apple\"\u001b[0m\u001b[1;33m]\u001b[0m\u001b[1;33m\u001b[0m\u001b[1;33m\u001b[0m\u001b[0m\n\u001b[1;32m----> 2\u001b[1;33m \u001b[0mk\u001b[0m\u001b[1;33m=\u001b[0m\u001b[0ms\u001b[0m\u001b[1;33m.\u001b[0m\u001b[0mpop\u001b[0m\u001b[1;33m(\u001b[0m\u001b[1;36m30\u001b[0m\u001b[1;33m)\u001b[0m\u001b[1;33m\u001b[0m\u001b[1;33m\u001b[0m\u001b[0m\n\u001b[0m\u001b[0;32m      3\u001b[0m \u001b[0mprint\u001b[0m\u001b[1;33m(\u001b[0m\u001b[1;34m\"s=\"\u001b[0m\u001b[1;33m,\u001b[0m\u001b[0ms\u001b[0m\u001b[1;33m)\u001b[0m\u001b[1;33m\u001b[0m\u001b[1;33m\u001b[0m\u001b[0m\n\u001b[0;32m      4\u001b[0m \u001b[0mprint\u001b[0m\u001b[1;33m(\u001b[0m\u001b[1;34m\"k=\"\u001b[0m\u001b[1;33m,\u001b[0m\u001b[0mk\u001b[0m\u001b[1;33m)\u001b[0m\u001b[1;33m\u001b[0m\u001b[1;33m\u001b[0m\u001b[0m\n",
      "\u001b[1;31mIndexError\u001b[0m: pop index out of range"
     ]
    }
   ],
   "source": [
    "s=[\"apple\",\"orange\",\"apple\",\"grape\",\"apple\",\"apple\",\"orange\",\"mango\",\"apple\"]\n",
    "k=s.pop(30)\n",
    "print(\"s=\",s)\n",
    "print(\"k=\",k)"
   ]
  },
  {
   "cell_type": "code",
   "execution_count": 18,
   "metadata": {},
   "outputs": [
    {
     "ename": "TypeError",
     "evalue": "pop expected at most 1 argument, got 2",
     "output_type": "error",
     "traceback": [
      "\u001b[1;31m---------------------------------------------------------------------------\u001b[0m",
      "\u001b[1;31mTypeError\u001b[0m                                 Traceback (most recent call last)",
      "\u001b[1;32m<ipython-input-18-6ac08e6852ee>\u001b[0m in \u001b[0;36m<module>\u001b[1;34m\u001b[0m\n\u001b[0;32m      1\u001b[0m \u001b[0ms\u001b[0m\u001b[1;33m=\u001b[0m\u001b[1;33m[\u001b[0m\u001b[1;34m\"apple\"\u001b[0m\u001b[1;33m,\u001b[0m\u001b[1;34m\"orange\"\u001b[0m\u001b[1;33m,\u001b[0m\u001b[1;34m\"apple\"\u001b[0m\u001b[1;33m,\u001b[0m\u001b[1;34m\"grape\"\u001b[0m\u001b[1;33m,\u001b[0m\u001b[1;34m\"apple\"\u001b[0m\u001b[1;33m,\u001b[0m\u001b[1;34m\"apple\"\u001b[0m\u001b[1;33m,\u001b[0m\u001b[1;34m\"orange\"\u001b[0m\u001b[1;33m,\u001b[0m\u001b[1;34m\"mango\"\u001b[0m\u001b[1;33m,\u001b[0m\u001b[1;34m\"apple\"\u001b[0m\u001b[1;33m]\u001b[0m\u001b[1;33m\u001b[0m\u001b[1;33m\u001b[0m\u001b[0m\n\u001b[1;32m----> 2\u001b[1;33m \u001b[0mk\u001b[0m\u001b[1;33m=\u001b[0m\u001b[0ms\u001b[0m\u001b[1;33m.\u001b[0m\u001b[0mpop\u001b[0m\u001b[1;33m(\u001b[0m\u001b[1;36m30\u001b[0m\u001b[1;33m,\u001b[0m\u001b[1;32mNone\u001b[0m\u001b[1;33m)\u001b[0m\u001b[1;33m\u001b[0m\u001b[1;33m\u001b[0m\u001b[0m\n\u001b[0m\u001b[0;32m      3\u001b[0m \u001b[0mprint\u001b[0m\u001b[1;33m(\u001b[0m\u001b[1;34m\"s=\"\u001b[0m\u001b[1;33m,\u001b[0m\u001b[0ms\u001b[0m\u001b[1;33m)\u001b[0m\u001b[1;33m\u001b[0m\u001b[1;33m\u001b[0m\u001b[0m\n\u001b[0;32m      4\u001b[0m \u001b[0mprint\u001b[0m\u001b[1;33m(\u001b[0m\u001b[1;34m\"k=\"\u001b[0m\u001b[1;33m,\u001b[0m\u001b[0mk\u001b[0m\u001b[1;33m)\u001b[0m\u001b[1;33m\u001b[0m\u001b[1;33m\u001b[0m\u001b[0m\n",
      "\u001b[1;31mTypeError\u001b[0m: pop expected at most 1 argument, got 2"
     ]
    }
   ],
   "source": [
    "s=[\"apple\",\"orange\",\"apple\",\"grape\",\"apple\",\"apple\",\"orange\",\"mango\",\"apple\"]\n",
    "k=s.pop(30,None)\n",
    "print(\"s=\",s)\n",
    "print(\"k=\",k)"
   ]
  },
  {
   "cell_type": "code",
   "execution_count": 19,
   "metadata": {},
   "outputs": [
    {
     "name": "stdout",
     "output_type": "stream",
     "text": [
      "s= ['orange', 'apple', 'grape', 'apple', 'apple', 'orange', 'mango', 'apple']\n",
      "k= None\n"
     ]
    }
   ],
   "source": [
    "s=[\"apple\",\"orange\",\"apple\",\"grape\",\"apple\",\"apple\",\"orange\",\"mango\",\"apple\"]\n",
    "k=s.remove(\"apple\")\n",
    "print(\"s=\",s)\n",
    "print(\"k=\",k)"
   ]
  },
  {
   "cell_type": "code",
   "execution_count": 20,
   "metadata": {},
   "outputs": [
    {
     "name": "stdout",
     "output_type": "stream",
     "text": [
      "s= ['apple', 'orange', 'apple', 'grape', 'apple', 'apple', 'orange', 'mango', 'apple']\n",
      "k= None\n"
     ]
    }
   ],
   "source": [
    "s=[\"apple\",\"orange\",\"apple\",\"grape\",\"apple\",\"apple\",\"orange\",\"mango\",\"apple\"]\n",
    "k=s.remove?\n",
    "print(\"s=\",s)\n",
    "print(\"k=\",k)"
   ]
  },
  {
   "cell_type": "code",
   "execution_count": 21,
   "metadata": {},
   "outputs": [
    {
     "name": "stdout",
     "output_type": "stream",
     "text": [
      "s= ['apple', 'orange', 'apple', 'grape', 'apple', 'apple', 'orange', 'mango', 'apple']\n",
      "res= ['orange', 'grape', 'orange', 'mango']\n"
     ]
    }
   ],
   "source": [
    "s=[\"apple\",\"orange\",\"apple\",\"grape\",\"apple\",\"apple\",\"orange\",\"mango\",\"apple\"]\n",
    "res=[]\n",
    "for i in s:\n",
    "    if i!=\"apple\":\n",
    "        res.append(i)\n",
    "print(\"s=\",s)\n",
    "print(\"res=\",res)"
   ]
  },
  {
   "cell_type": "code",
   "execution_count": 22,
   "metadata": {},
   "outputs": [
    {
     "name": "stdout",
     "output_type": "stream",
     "text": [
      "0\n"
     ]
    }
   ],
   "source": [
    "s=[\"apple\",\"orange\",\"apple\",\"grape\",\"apple\",\"apple\",\"orange\",\"mango\",\"apple\"]\n",
    "print(s.index(\"apple\"))"
   ]
  },
  {
   "cell_type": "code",
   "execution_count": 23,
   "metadata": {},
   "outputs": [
    {
     "name": "stdout",
     "output_type": "stream",
     "text": [
      "2\n"
     ]
    }
   ],
   "source": [
    "s=[\"apple\",\"orange\",\"apple\",\"grape\",\"apple\",\"apple\",\"orange\",\"mango\",\"apple\"]\n",
    "print(s.index(\"apple\",1))"
   ]
  },
  {
   "cell_type": "code",
   "execution_count": 24,
   "metadata": {},
   "outputs": [
    {
     "name": "stdout",
     "output_type": "stream",
     "text": [
      "4\n"
     ]
    }
   ],
   "source": [
    "s=[\"apple\",\"orange\",\"apple\",\"grape\",\"apple\",\"apple\",\"orange\",\"mango\",\"apple\"]\n",
    "print(s.index(\"apple\",3))"
   ]
  },
  {
   "cell_type": "code",
   "execution_count": 26,
   "metadata": {},
   "outputs": [
    {
     "name": "stdout",
     "output_type": "stream",
     "text": [
      "['orange', 'apple', 'grape', 'apple', 'apple', 'orange', 'mango', 'apple']\n",
      "['orange', 'grape', 'apple', 'apple', 'orange', 'mango', 'apple']\n",
      "['orange', 'grape', 'apple', 'orange', 'mango', 'apple']\n"
     ]
    }
   ],
   "source": [
    "s=[\"apple\",\"orange\",\"apple\",\"grape\",\"apple\",\"apple\",\"orange\",\"mango\",\"apple\"]\n",
    "s.remove(\"apple\")\n",
    "print(s)\n",
    "s.remove(\"apple\")\n",
    "print(s)\n",
    "s.remove(\"apple\")\n",
    "print(s)"
   ]
  },
  {
   "cell_type": "code",
   "execution_count": 27,
   "metadata": {},
   "outputs": [
    {
     "name": "stdout",
     "output_type": "stream",
     "text": [
      "['orange', 'grape', 'orange', 'mango']\n"
     ]
    }
   ],
   "source": [
    "s=[\"apple\",\"orange\",\"apple\",\"grape\",\"apple\",\"apple\",\"orange\",\"mango\",\"apple\"]\n",
    "while s.count(\"apple\") > 0:\n",
    "    s.remove(\"apple\")\n",
    "print(s)"
   ]
  },
  {
   "cell_type": "code",
   "execution_count": 29,
   "metadata": {},
   "outputs": [
    {
     "name": "stdout",
     "output_type": "stream",
     "text": [
      "['orange', 'grape', 'orange', 'mango']\n"
     ]
    }
   ],
   "source": [
    "s=[\"apple\",\"orange\",\"apple\",\"grape\",\"apple\",\"apple\",\"orange\",\"mango\",\"apple\"]\n",
    "for i in range(s.count(\"apple\")):\n",
    "    s.remove(\"apple\")\n",
    "print(s)"
   ]
  },
  {
   "cell_type": "code",
   "execution_count": 30,
   "metadata": {},
   "outputs": [
    {
     "name": "stdout",
     "output_type": "stream",
     "text": [
      "['orange', 'grape', 'apple', 'apple', 'orange', 'mango', 'apple']\n"
     ]
    }
   ],
   "source": [
    "s=[\"apple\",\"orange\",\"apple\",\"grape\",\"apple\",\"apple\",\"orange\",\"mango\",\"apple\"]\n",
    "r_c=0\n",
    "for i in range(s.count(\"apple\")):\n",
    "    if r_c<2:\n",
    "        s.remove(\"apple\")\n",
    "    else:\n",
    "        break\n",
    "    r_c=r_c+1\n",
    "print(s)"
   ]
  },
  {
   "cell_type": "code",
   "execution_count": 31,
   "metadata": {},
   "outputs": [
    {
     "name": "stdout",
     "output_type": "stream",
     "text": [
      "['apple', 'orange', 'apple', 'grape', 'apple', 'apple', 'orange', 'mango', 'apple']\n"
     ]
    }
   ],
   "source": [
    "s=[\"apple\",\"orange\",\"apple\",\"grape\",\"apple\",\"apple\",\"orange\",\"mango\",\"apple\"]\n",
    "r_c=0\n",
    "for i in range(s.count(\"apple\")):\n",
    "    if r_c<2:\n",
    "        s[::-1].remove(\"apple\")\n",
    "    else:\n",
    "        break\n",
    "    r_c=r_c+1\n",
    "print(s)"
   ]
  },
  {
   "cell_type": "code",
   "execution_count": 32,
   "metadata": {},
   "outputs": [
    {
     "name": "stdout",
     "output_type": "stream",
     "text": [
      "['apple', 'orange', 'apple', 'grape', 'apple', 'orange', 'mango']\n"
     ]
    }
   ],
   "source": [
    "s=[\"apple\",\"orange\",\"apple\",\"grape\",\"apple\",\"apple\",\"orange\",\"mango\",\"apple\"]\n",
    "r_c=0\n",
    "s.reverse()\n",
    "for i in range(s.count(\"apple\")):\n",
    "    if r_c<2:\n",
    "        s.remove(\"apple\")\n",
    "    else:\n",
    "        break\n",
    "    r_c=r_c+1\n",
    "s.reverse()\n",
    "print(s)"
   ]
  },
  {
   "cell_type": "code",
   "execution_count": 33,
   "metadata": {},
   "outputs": [
    {
     "name": "stdout",
     "output_type": "stream",
     "text": [
      "['apple', 'orange', 'apple', 'grape', 'apple', 'banana', 'orange', 'mango']\n"
     ]
    }
   ],
   "source": [
    "s=[\"apple\",\"orange\",\"apple\",\"grape\",\"apple\",\"banana\",\"apple\",\"orange\",\"mango\",\"apple\"]\n",
    "r_c=0\n",
    "s.reverse()\n",
    "for i in range(s.count(\"apple\")):\n",
    "    if r_c<2:\n",
    "        s.remove(\"apple\")\n",
    "    else:\n",
    "        break\n",
    "    r_c=r_c+1\n",
    "s.reverse()\n",
    "print(s)"
   ]
  },
  {
   "cell_type": "code",
   "execution_count": 34,
   "metadata": {},
   "outputs": [
    {
     "name": "stdout",
     "output_type": "stream",
     "text": [
      "5\n"
     ]
    }
   ],
   "source": [
    "s=[\"apple\",\"orange\",[\"apple\",\"grape\"],\"apple\",[\"banana\",\"apple\",\"orange\",\"mango\",\"apple\"]]\n",
    "print(len(s))"
   ]
  },
  {
   "cell_type": "code",
   "execution_count": 35,
   "metadata": {},
   "outputs": [
    {
     "name": "stdout",
     "output_type": "stream",
     "text": [
      "[['banana', 'apple', 'orange', 'mango', 'apple'], 'apple', ['apple', 'grape'], 'orange', 'apple']\n"
     ]
    }
   ],
   "source": [
    "s=[\"apple\",\"orange\",[\"apple\",\"grape\"],\"apple\",[\"banana\",\"apple\",\"orange\",\"mango\",\"apple\"]]\n",
    "s.reverse()\n",
    "print(s)"
   ]
  },
  {
   "cell_type": "code",
   "execution_count": 38,
   "metadata": {},
   "outputs": [
    {
     "name": "stdout",
     "output_type": "stream",
     "text": [
      "[['apple', 'mango', 'orange', 'apple', 'banana'], 'apple', ['grape', 'apple'], 'orange', 'apple']\n"
     ]
    }
   ],
   "source": [
    "s=[\"apple\",\"orange\",[\"apple\",\"grape\"],\"apple\",[\"banana\",\"apple\",\"orange\",\"mango\",\"apple\"]]\n",
    "res=[]\n",
    "s.reverse()\n",
    "for i in s:\n",
    "    if isinstance(i, list):\n",
    "        i.reverse()\n",
    "    res.append(i)\n",
    "print(res)"
   ]
  },
  {
   "cell_type": "code",
   "execution_count": 40,
   "metadata": {},
   "outputs": [
    {
     "name": "stdout",
     "output_type": "stream",
     "text": [
      "[1, 2, 3, 4]\n",
      "None\n"
     ]
    }
   ],
   "source": [
    "l=[1,3,2,4]\n",
    "k=l.sort()\n",
    "print(l)\n",
    "print(k)"
   ]
  },
  {
   "cell_type": "code",
   "execution_count": 41,
   "metadata": {},
   "outputs": [
    {
     "name": "stdout",
     "output_type": "stream",
     "text": [
      "[1, 1.2, 2, 3, 4]\n",
      "None\n"
     ]
    }
   ],
   "source": [
    "l=[1,3,2,4,1.2,]\n",
    "k=l.sort()\n",
    "print(l)\n",
    "print(k)"
   ]
  },
  {
   "cell_type": "code",
   "execution_count": 42,
   "metadata": {},
   "outputs": [
    {
     "ename": "TypeError",
     "evalue": "'<' not supported between instances of 'str' and 'int'",
     "output_type": "error",
     "traceback": [
      "\u001b[1;31m---------------------------------------------------------------------------\u001b[0m",
      "\u001b[1;31mTypeError\u001b[0m                                 Traceback (most recent call last)",
      "\u001b[1;32m<ipython-input-42-d48273fa160d>\u001b[0m in \u001b[0;36m<module>\u001b[1;34m\u001b[0m\n\u001b[0;32m      1\u001b[0m \u001b[0ml\u001b[0m\u001b[1;33m=\u001b[0m\u001b[1;33m[\u001b[0m\u001b[1;36m1\u001b[0m\u001b[1;33m,\u001b[0m\u001b[1;36m3\u001b[0m\u001b[1;33m,\u001b[0m\u001b[1;36m2\u001b[0m\u001b[1;33m,\u001b[0m\u001b[1;36m4\u001b[0m\u001b[1;33m,\u001b[0m\u001b[1;36m1.2\u001b[0m\u001b[1;33m,\u001b[0m\u001b[1;34m\"python\"\u001b[0m\u001b[1;33m]\u001b[0m\u001b[1;33m\u001b[0m\u001b[1;33m\u001b[0m\u001b[0m\n\u001b[1;32m----> 2\u001b[1;33m \u001b[0mk\u001b[0m\u001b[1;33m=\u001b[0m\u001b[0ml\u001b[0m\u001b[1;33m.\u001b[0m\u001b[0msort\u001b[0m\u001b[1;33m(\u001b[0m\u001b[1;33m)\u001b[0m\u001b[1;33m\u001b[0m\u001b[1;33m\u001b[0m\u001b[0m\n\u001b[0m\u001b[0;32m      3\u001b[0m \u001b[0mprint\u001b[0m\u001b[1;33m(\u001b[0m\u001b[0ml\u001b[0m\u001b[1;33m)\u001b[0m\u001b[1;33m\u001b[0m\u001b[1;33m\u001b[0m\u001b[0m\n\u001b[0;32m      4\u001b[0m \u001b[0mprint\u001b[0m\u001b[1;33m(\u001b[0m\u001b[0mk\u001b[0m\u001b[1;33m)\u001b[0m\u001b[1;33m\u001b[0m\u001b[1;33m\u001b[0m\u001b[0m\n",
      "\u001b[1;31mTypeError\u001b[0m: '<' not supported between instances of 'str' and 'int'"
     ]
    }
   ],
   "source": [
    "l=[1,3,2,4,1.2,\"python\"]\n",
    "k=l.sort()\n",
    "print(l)\n",
    "print(k)"
   ]
  },
  {
   "cell_type": "code",
   "execution_count": 43,
   "metadata": {},
   "outputs": [
    {
     "name": "stdout",
     "output_type": "stream",
     "text": [
      "[4, 3, 2, 1.2, 1]\n"
     ]
    }
   ],
   "source": [
    "l=[1,3,2,4,1.2]\n",
    "l.sort(reverse=True)\n",
    "print(l)"
   ]
  },
  {
   "cell_type": "code",
   "execution_count": 44,
   "metadata": {},
   "outputs": [
    {
     "name": "stdout",
     "output_type": "stream",
     "text": [
      "1\n",
      "3\n",
      "2\n",
      "4\n",
      "1.2\n",
      "[4, 3, 2, 1.2, 1]\n"
     ]
    }
   ],
   "source": [
    "l=[1,3,2,4,1.2]\n",
    "def fun(x):\n",
    "    print(x)\n",
    "    return x\n",
    "l.sort(reverse=True, key=fun)#fun(1)\n",
    "print(l)"
   ]
  },
  {
   "cell_type": "code",
   "execution_count": 45,
   "metadata": {},
   "outputs": [
    {
     "name": "stdout",
     "output_type": "stream",
     "text": [
      "1\n",
      "3\n",
      "2\n",
      "4\n",
      "1.2\n",
      "[1, 3, 2, 4, 1.2]\n"
     ]
    }
   ],
   "source": [
    "l=[1,3,2,4,1.2]\n",
    "def fun(x):\n",
    "    print(x)\n",
    "    return 0\n",
    "l.sort(reverse=True, key=fun)#fun(1)\n",
    "print(l)"
   ]
  },
  {
   "cell_type": "code",
   "execution_count": 50,
   "metadata": {},
   "outputs": [
    {
     "name": "stdout",
     "output_type": "stream",
     "text": [
      "1\n",
      "it's a string\n",
      "3\n",
      "it's a string\n",
      "2\n",
      "it's a string\n",
      "4\n",
      "it's a string\n",
      "1.2\n",
      "it's a string\n",
      "python\n",
      "it's a string\n",
      "[1, 3, 2, 4, 1.2, 'python']\n"
     ]
    }
   ],
   "source": [
    "l=[1,3,2,4,1.2,\"python\"]\n",
    "def fun(x):\n",
    "    print(x)\n",
    "    if isinstance(i, str):\n",
    "        print(\"it's a string\")\n",
    "        return 0\n",
    "    else:\n",
    "        return x\n",
    "l.sort(reverse=True, key=fun)#fun(1)\n",
    "print(l)"
   ]
  },
  {
   "cell_type": "code",
   "execution_count": 52,
   "metadata": {},
   "outputs": [
    {
     "name": "stdout",
     "output_type": "stream",
     "text": [
      "[4, 3, 2, 1.2, 1, 'python']\n"
     ]
    }
   ],
   "source": [
    "l=[1,3,2,4,1.2,\"python\"]\n",
    "def fun(x):\n",
    "    if isinstance(x, str):\n",
    "        return 0\n",
    "    else:\n",
    "        return x\n",
    "l.sort(reverse=True, key=fun)#fun(1)\n",
    "print(l)"
   ]
  },
  {
   "cell_type": "code",
   "execution_count": 53,
   "metadata": {},
   "outputs": [
    {
     "name": "stdout",
     "output_type": "stream",
     "text": [
      "[4, 3, 2, 1.2, 1, 'cpp', 'c', 'python']\n"
     ]
    }
   ],
   "source": [
    "l=[1,3,\"cpp\",2,4,\"c\",1.2,\"python\"]\n",
    "def fun(x):\n",
    "    if isinstance(x, str):\n",
    "        return 0\n",
    "    else:\n",
    "        return x\n",
    "l.sort(reverse=True, key=fun)#fun(1)\n",
    "print(l)"
   ]
  },
  {
   "cell_type": "code",
   "execution_count": 54,
   "metadata": {},
   "outputs": [
    {
     "name": "stdout",
     "output_type": "stream",
     "text": [
      "['cpp', 'c', 'python', 1, 1.2, 2, 3, 4]\n"
     ]
    }
   ],
   "source": [
    "l=[1,3,\"cpp\",2,4,\"c\",1.2,\"python\"]\n",
    "def fun(x):\n",
    "    if isinstance(x, str):\n",
    "        return 0\n",
    "    else:\n",
    "        return x\n",
    "l.sort(key=fun)#fun(1)\n",
    "print(l)"
   ]
  },
  {
   "cell_type": "code",
   "execution_count": 60,
   "metadata": {},
   "outputs": [
    {
     "name": "stdout",
     "output_type": "stream",
     "text": [
      "['cpp', 4, 'c', 'python', 3, 2, 1.2, 1]\n"
     ]
    }
   ],
   "source": [
    "l=[1,3,\"cpp\",2,4,\"c\",1.2,\"python\"]\n",
    "def max_fun(x):\n",
    "    if isinstance(x, str):\n",
    "        return 0\n",
    "    else:\n",
    "        return x\n",
    "max_element=max(l, key=max_fun)\n",
    "def fun(x):\n",
    "    if isinstance(x, str):\n",
    "        return max_element\n",
    "    else:\n",
    "        return x\n",
    "l.sort(reverse=True, key=fun)#fun(1)\n",
    "print(l)"
   ]
  },
  {
   "cell_type": "code",
   "execution_count": 61,
   "metadata": {},
   "outputs": [
    {
     "name": "stdout",
     "output_type": "stream",
     "text": [
      "['cpp', 'c', 'python', 4, 3, 2, 1.2, 1]\n"
     ]
    }
   ],
   "source": [
    "l=[1,3,\"cpp\",2,4,\"c\",1.2,\"python\"]\n",
    "def max_fun(x):\n",
    "    if isinstance(x, str):\n",
    "        return 0\n",
    "    else:\n",
    "        return x\n",
    "max_element=max(l, key=max_fun)+1\n",
    "def fun(x):\n",
    "    if isinstance(x, str):\n",
    "        return max_element\n",
    "    else:\n",
    "        return x\n",
    "l.sort(reverse=True, key=fun)#fun(1)\n",
    "print(l)"
   ]
  },
  {
   "cell_type": "code",
   "execution_count": 62,
   "metadata": {},
   "outputs": [
    {
     "name": "stdout",
     "output_type": "stream",
     "text": [
      "['c', 'cpp', 'java', 'php', 'python']\n"
     ]
    }
   ],
   "source": [
    "l=[\"java\",\"c\",\"cpp\",\"python\",\"php\"]\n",
    "l.sort()\n",
    "print(l)"
   ]
  },
  {
   "cell_type": "code",
   "execution_count": 63,
   "metadata": {},
   "outputs": [
    {
     "name": "stdout",
     "output_type": "stream",
     "text": [
      "['c', 'cpp', 'php', 'java', 'python']\n"
     ]
    }
   ],
   "source": [
    "l=[\"java\",\"c\",\"cpp\",\"python\",\"php\"]\n",
    "def fun(x):\n",
    "    return len(x)\n",
    "l.sort(key=fun)\n",
    "print(l)"
   ]
  },
  {
   "cell_type": "code",
   "execution_count": 64,
   "metadata": {},
   "outputs": [
    {
     "name": "stdout",
     "output_type": "stream",
     "text": [
      "['c', 'cpp', 'php', 'java', 'python']\n"
     ]
    }
   ],
   "source": [
    "l=[\"java\",\"c\",\"cpp\",\"python\",\"php\"]\n",
    "l.sort(key=lambda x:len(x))#Anonymus functions.\n",
    "print(l)"
   ]
  },
  {
   "cell_type": "code",
   "execution_count": 66,
   "metadata": {},
   "outputs": [
    {
     "name": "stdout",
     "output_type": "stream",
     "text": [
      "<function <lambda> at 0x00000249F1FCDEE0>\n"
     ]
    }
   ],
   "source": [
    "print(lambda x:len(x)(\"python\"))"
   ]
  },
  {
   "cell_type": "code",
   "execution_count": 67,
   "metadata": {},
   "outputs": [
    {
     "ename": "TypeError",
     "evalue": "unsupported operand type(s) for +: 'int' and 'str'",
     "output_type": "error",
     "traceback": [
      "\u001b[1;31m---------------------------------------------------------------------------\u001b[0m",
      "\u001b[1;31mTypeError\u001b[0m                                 Traceback (most recent call last)",
      "\u001b[1;32m<ipython-input-67-42020356ac6a>\u001b[0m in \u001b[0;36m<module>\u001b[1;34m\u001b[0m\n\u001b[0;32m      1\u001b[0m \u001b[0ml\u001b[0m\u001b[1;33m=\u001b[0m\u001b[1;33m[\u001b[0m\u001b[1;36m1\u001b[0m\u001b[1;33m,\u001b[0m\u001b[1;36m2\u001b[0m\u001b[1;33m,\u001b[0m\u001b[1;34m\"3\"\u001b[0m\u001b[1;33m,\u001b[0m\u001b[1;36m4\u001b[0m\u001b[1;33m,\u001b[0m\u001b[1;34m\"5\"\u001b[0m\u001b[1;33m]\u001b[0m\u001b[1;33m\u001b[0m\u001b[1;33m\u001b[0m\u001b[0m\n\u001b[1;32m----> 2\u001b[1;33m \u001b[0msum\u001b[0m\u001b[1;33m(\u001b[0m\u001b[0ml\u001b[0m\u001b[1;33m)\u001b[0m\u001b[1;33m\u001b[0m\u001b[1;33m\u001b[0m\u001b[0m\n\u001b[0m",
      "\u001b[1;31mTypeError\u001b[0m: unsupported operand type(s) for +: 'int' and 'str'"
     ]
    }
   ],
   "source": [
    "l=[1,2,\"3\",4,\"5\"]\n",
    "sum(l)"
   ]
  },
  {
   "cell_type": "code",
   "execution_count": 68,
   "metadata": {},
   "outputs": [
    {
     "data": {
      "text/plain": [
       "15"
      ]
     },
     "execution_count": 68,
     "metadata": {},
     "output_type": "execute_result"
    }
   ],
   "source": [
    "l=[1,2,3,4,5]\n",
    "sum(l)"
   ]
  },
  {
   "cell_type": "code",
   "execution_count": 69,
   "metadata": {},
   "outputs": [
    {
     "ename": "TypeError",
     "evalue": "'key' is an invalid keyword argument for sum()",
     "output_type": "error",
     "traceback": [
      "\u001b[1;31m---------------------------------------------------------------------------\u001b[0m",
      "\u001b[1;31mTypeError\u001b[0m                                 Traceback (most recent call last)",
      "\u001b[1;32m<ipython-input-69-6020541f2db5>\u001b[0m in \u001b[0;36m<module>\u001b[1;34m\u001b[0m\n\u001b[0;32m      1\u001b[0m \u001b[0ml\u001b[0m\u001b[1;33m=\u001b[0m\u001b[1;33m[\u001b[0m\u001b[1;36m1\u001b[0m\u001b[1;33m,\u001b[0m\u001b[1;36m2\u001b[0m\u001b[1;33m,\u001b[0m\u001b[1;34m\"3\"\u001b[0m\u001b[1;33m,\u001b[0m\u001b[1;36m4\u001b[0m\u001b[1;33m,\u001b[0m\u001b[1;34m\"5\"\u001b[0m\u001b[1;33m]\u001b[0m\u001b[1;33m\u001b[0m\u001b[1;33m\u001b[0m\u001b[0m\n\u001b[1;32m----> 2\u001b[1;33m \u001b[0msum\u001b[0m\u001b[1;33m(\u001b[0m\u001b[0ml\u001b[0m\u001b[1;33m,\u001b[0m \u001b[0mkey\u001b[0m\u001b[1;33m=\u001b[0m\u001b[1;32mlambda\u001b[0m \u001b[0mx\u001b[0m\u001b[1;33m:\u001b[0m\u001b[0mint\u001b[0m\u001b[1;33m(\u001b[0m\u001b[0mx\u001b[0m\u001b[1;33m)\u001b[0m\u001b[1;33m)\u001b[0m\u001b[1;33m\u001b[0m\u001b[1;33m\u001b[0m\u001b[0m\n\u001b[0m",
      "\u001b[1;31mTypeError\u001b[0m: 'key' is an invalid keyword argument for sum()"
     ]
    }
   ],
   "source": [
    "l=[1,2,\"3\",4,\"5\"]\n",
    "sum(l, key=lambda x:int(x))"
   ]
  },
  {
   "cell_type": "code",
   "execution_count": 70,
   "metadata": {},
   "outputs": [],
   "source": [
    "sum?"
   ]
  },
  {
   "cell_type": "code",
   "execution_count": 71,
   "metadata": {},
   "outputs": [
    {
     "name": "stdout",
     "output_type": "stream",
     "text": [
      "[1, 2, 3, 4, 5]\n"
     ]
    },
    {
     "data": {
      "text/plain": [
       "15"
      ]
     },
     "execution_count": 71,
     "metadata": {},
     "output_type": "execute_result"
    }
   ],
   "source": [
    "l=[1,2,\"3\",4,\"5\"]\n",
    "res=[]\n",
    "for i in l:\n",
    "    res.append(int(i))\n",
    "print(res)\n",
    "sum(res)"
   ]
  },
  {
   "cell_type": "code",
   "execution_count": null,
   "metadata": {},
   "outputs": [],
   "source": []
  }
 ],
 "metadata": {
  "kernelspec": {
   "display_name": "Python 3",
   "language": "python",
   "name": "python3"
  },
  "language_info": {
   "codemirror_mode": {
    "name": "ipython",
    "version": 3
   },
   "file_extension": ".py",
   "mimetype": "text/x-python",
   "name": "python",
   "nbconvert_exporter": "python",
   "pygments_lexer": "ipython3",
   "version": "3.8.3"
  }
 },
 "nbformat": 4,
 "nbformat_minor": 4
}
