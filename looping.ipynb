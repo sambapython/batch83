{
 "cells": [
  {
   "cell_type": "code",
   "execution_count": 2,
   "metadata": {},
   "outputs": [
    {
     "name": "stdout",
     "output_type": "stream",
     "text": [
      "EVEN\n"
     ]
    }
   ],
   "source": [
    "n=12\n",
    "print(\"EVEN\" if n%2==0 else \"ODD\")"
   ]
  },
  {
   "cell_type": "code",
   "execution_count": 3,
   "metadata": {},
   "outputs": [
    {
     "name": "stdout",
     "output_type": "stream",
     "text": [
      "1\n"
     ]
    }
   ],
   "source": [
    "l=[1,3,5,2,8,10]\n",
    "print(l[0])"
   ]
  },
  {
   "cell_type": "code",
   "execution_count": 4,
   "metadata": {},
   "outputs": [
    {
     "name": "stdout",
     "output_type": "stream",
     "text": [
      "1\n",
      "3\n",
      "5\n",
      "2\n",
      "8\n",
      "10\n"
     ]
    }
   ],
   "source": [
    "l=[1,3,5,2,8,10]\n",
    "print(l[0])\n",
    "print(l[1])\n",
    "print(l[2])\n",
    "print(l[3])\n",
    "print(l[4])\n",
    "print(l[5])"
   ]
  },
  {
   "cell_type": "code",
   "execution_count": 5,
   "metadata": {},
   "outputs": [
    {
     "name": "stdout",
     "output_type": "stream",
     "text": [
      "ODD\n"
     ]
    }
   ],
   "source": [
    "l=[1,3,5,2,8,10]\n",
    "print(\"EVEN\" if l[0]%2==0 else \"ODD\")"
   ]
  },
  {
   "cell_type": "code",
   "execution_count": 6,
   "metadata": {},
   "outputs": [
    {
     "name": "stdout",
     "output_type": "stream",
     "text": [
      "ODD\n",
      "ODD\n",
      "ODD\n",
      "EVEN\n",
      "EVEN\n",
      "EVEN\n"
     ]
    }
   ],
   "source": [
    "l=[1,3,5,2,8,10]\n",
    "print(\"EVEN\" if l[0]%2==0 else \"ODD\")\n",
    "print(\"EVEN\" if l[1]%2==0 else \"ODD\")\n",
    "print(\"EVEN\" if l[2]%2==0 else \"ODD\")\n",
    "print(\"EVEN\" if l[3]%2==0 else \"ODD\")\n",
    "print(\"EVEN\" if l[4]%2==0 else \"ODD\")\n",
    "print(\"EVEN\" if l[5]%2==0 else \"ODD\")"
   ]
  },
  {
   "cell_type": "code",
   "execution_count": 7,
   "metadata": {},
   "outputs": [
    {
     "name": "stdout",
     "output_type": "stream",
     "text": [
      "1\n",
      "3\n",
      "5\n",
      "2\n",
      "8\n",
      "10\n"
     ]
    }
   ],
   "source": [
    "l=[1,3,5,2,8,10]\n",
    "for i in l:\n",
    "    print(i) # here the i is a reference, we can give any."
   ]
  },
  {
   "cell_type": "code",
   "execution_count": 8,
   "metadata": {},
   "outputs": [
    {
     "name": "stdout",
     "output_type": "stream",
     "text": [
      "start\n",
      "iteration started\n",
      "1\n",
      "iteration ended\n",
      "iteration started\n",
      "3\n",
      "iteration ended\n",
      "iteration started\n",
      "5\n",
      "iteration ended\n",
      "iteration started\n",
      "2\n",
      "iteration ended\n",
      "iteration started\n",
      "8\n",
      "iteration ended\n",
      "iteration started\n",
      "10\n",
      "iteration ended\n",
      "end\n"
     ]
    }
   ],
   "source": [
    "print(\"start\")\n",
    "l=[1,3,5,2,8,10]\n",
    "for k in l:#k=1,3,5,2,8,10\n",
    "    print(\"iteration started\")\n",
    "    print(k)#1,3,5,2,8,10\n",
    "    print(\"iteration ended\")\n",
    "print(\"end\")"
   ]
  },
  {
   "cell_type": "code",
   "execution_count": 9,
   "metadata": {},
   "outputs": [
    {
     "name": "stdout",
     "output_type": "stream",
     "text": [
      "start\n",
      "ODD\n",
      "ODD\n",
      "ODD\n",
      "EVEN\n",
      "EVEN\n",
      "EVEN\n",
      "end\n"
     ]
    }
   ],
   "source": [
    "print(\"start\")\n",
    "l=[1,3,5,2,8,10]\n",
    "for j in l:#j=1,3,5,2,8,10\n",
    "    print(\"EVEN\" if j%2==0 else \"ODD\")\n",
    "print(\"end\")"
   ]
  },
  {
   "cell_type": "code",
   "execution_count": 10,
   "metadata": {},
   "outputs": [
    {
     "name": "stdout",
     "output_type": "stream",
     "text": [
      "start\n",
      "ODD\n",
      "ODD\n",
      "EVEN\n",
      "EVEN\n",
      "EVEN\n",
      "ODD\n",
      "end\n"
     ]
    }
   ],
   "source": [
    "print(\"start\")\n",
    "l=[1,5,2,8,10,3]\n",
    "for j in l:#j=1,3,5,2,8,10\n",
    "    print(\"EVEN\" if j%2==0 else \"ODD\")\n",
    "print(\"end\")"
   ]
  },
  {
   "cell_type": "code",
   "execution_count": 11,
   "metadata": {},
   "outputs": [
    {
     "name": "stdout",
     "output_type": "stream",
     "text": [
      "start\n",
      "1-ODD\n",
      "5-ODD\n",
      "2-EVEN\n",
      "8-EVEN\n",
      "10-EVEN\n",
      "3-ODD\n",
      "end\n"
     ]
    }
   ],
   "source": [
    "print(\"start\")\n",
    "l=[1,5,2,8,10,3]\n",
    "for j in l:#j=1,3,5,2,8,10\n",
    "    print(f\"{j}-EVEN\" if j%2==0 else f\"{j}-ODD\")\n",
    "print(\"end\")"
   ]
  },
  {
   "cell_type": "code",
   "execution_count": 12,
   "metadata": {},
   "outputs": [
    {
     "name": "stdout",
     "output_type": "stream",
     "text": [
      "start\n",
      "Even_count: 3 Odd_count: 2\n"
     ]
    }
   ],
   "source": [
    "# find the count of even and odd numbers\n",
    "#[5,2,8,10,3]: Even_count:3, odd_count:2\n",
    "print(\"start\")\n",
    "l=[1,5,2,8,10]\n",
    "e_c=0\n",
    "o_c=0\n",
    "for i in l:#i=1,5,2,8,10\n",
    "    if i%2==0:#1==0:False,1==0:False,0==0:true,0==0:true,0==0:true\n",
    "        e_c = e_c+1#0,0,0+1:1,1+1:2,2+1:3\n",
    "    else:\n",
    "        o_c=o_c+1#0+1:1,1+1:2,2,2,2\n",
    "print(\"Even_count:\",e_c,\"Odd_count:\",o_c)\n"
   ]
  },
  {
   "cell_type": "code",
   "execution_count": 13,
   "metadata": {},
   "outputs": [],
   "source": [
    "l=[-1,5,-2,8,10]\n",
    "#positive_count:3\n",
    "#negative_count:2"
   ]
  },
  {
   "cell_type": "code",
   "execution_count": 14,
   "metadata": {},
   "outputs": [],
   "source": [
    "#l=[-1,5,-2,8,10]\n",
    "#if it has any negative numners then \"YES\" or else \"NO\"\n",
    "#l=[-1,5,-2,8,10]: \"YES\"\n",
    "#l=[1,5,2,8,10]: \"NO\""
   ]
  },
  {
   "cell_type": "code",
   "execution_count": 15,
   "metadata": {},
   "outputs": [
    {
     "data": {
      "text/plain": [
       "1"
      ]
     },
     "execution_count": 15,
     "metadata": {},
     "output_type": "execute_result"
    }
   ],
   "source": [
    "2**0"
   ]
  },
  {
   "cell_type": "code",
   "execution_count": 16,
   "metadata": {},
   "outputs": [
    {
     "name": "stdout",
     "output_type": "stream",
     "text": [
      "0\n",
      "1\n",
      "2\n"
     ]
    }
   ],
   "source": [
    "for i in range(0,3):\n",
    "    print(i)"
   ]
  },
  {
   "cell_type": "code",
   "execution_count": null,
   "metadata": {},
   "outputs": [],
   "source": [
    "import math\n",
    "base = int(input(\"Enter base : \"))#3\n",
    "exponent = int(input(\"Enter exponent : \"))#2\n",
    "power = 0\n",
    "for i in range(0, exponent + 1):#i=0,1,2\n",
    "    power = power * base#0*3=0,0*3=0,\n",
    "\n",
    "print(\"\\nResult\", base, \"^\", exponent, \":\", power)\n"
   ]
  },
  {
   "cell_type": "code",
   "execution_count": 17,
   "metadata": {},
   "outputs": [
    {
     "name": "stdout",
     "output_type": "stream",
     "text": [
      "0\n",
      "1\n",
      "2\n"
     ]
    }
   ],
   "source": [
    "base=3\n",
    "exponent=2\n",
    "for i in range(exponent+1):\n",
    "    print(i)"
   ]
  },
  {
   "cell_type": "code",
   "execution_count": 18,
   "metadata": {},
   "outputs": [
    {
     "name": "stdout",
     "output_type": "stream",
     "text": [
      "1\n",
      "3\n",
      "9\n"
     ]
    }
   ],
   "source": [
    "base=3\n",
    "exponent=2\n",
    "for i in range(exponent+1):\n",
    "    print(base**i)"
   ]
  },
  {
   "cell_type": "code",
   "execution_count": null,
   "metadata": {},
   "outputs": [],
   "source": []
  }
 ],
 "metadata": {
  "kernelspec": {
   "display_name": "Python 3",
   "language": "python",
   "name": "python3"
  },
  "language_info": {
   "codemirror_mode": {
    "name": "ipython",
    "version": 3
   },
   "file_extension": ".py",
   "mimetype": "text/x-python",
   "name": "python",
   "nbconvert_exporter": "python",
   "pygments_lexer": "ipython3",
   "version": "3.8.3"
  }
 },
 "nbformat": 4,
 "nbformat_minor": 4
}
