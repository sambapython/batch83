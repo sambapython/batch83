{
 "cells": [
  {
   "cell_type": "code",
   "execution_count": 2,
   "metadata": {},
   "outputs": [
    {
     "name": "stdout",
     "output_type": "stream",
     "text": [
      "EVEN\n"
     ]
    }
   ],
   "source": [
    "n=12\n",
    "print(\"EVEN\" if n%2==0 else \"ODD\")"
   ]
  },
  {
   "cell_type": "code",
   "execution_count": 3,
   "metadata": {},
   "outputs": [
    {
     "name": "stdout",
     "output_type": "stream",
     "text": [
      "1\n"
     ]
    }
   ],
   "source": [
    "l=[1,3,5,2,8,10]\n",
    "print(l[0])"
   ]
  },
  {
   "cell_type": "code",
   "execution_count": 4,
   "metadata": {},
   "outputs": [
    {
     "name": "stdout",
     "output_type": "stream",
     "text": [
      "1\n",
      "3\n",
      "5\n",
      "2\n",
      "8\n",
      "10\n"
     ]
    }
   ],
   "source": [
    "l=[1,3,5,2,8,10]\n",
    "print(l[0])\n",
    "print(l[1])\n",
    "print(l[2])\n",
    "print(l[3])\n",
    "print(l[4])\n",
    "print(l[5])"
   ]
  },
  {
   "cell_type": "code",
   "execution_count": 5,
   "metadata": {},
   "outputs": [
    {
     "name": "stdout",
     "output_type": "stream",
     "text": [
      "ODD\n"
     ]
    }
   ],
   "source": [
    "l=[1,3,5,2,8,10]\n",
    "print(\"EVEN\" if l[0]%2==0 else \"ODD\")"
   ]
  },
  {
   "cell_type": "code",
   "execution_count": 6,
   "metadata": {},
   "outputs": [
    {
     "name": "stdout",
     "output_type": "stream",
     "text": [
      "ODD\n",
      "ODD\n",
      "ODD\n",
      "EVEN\n",
      "EVEN\n",
      "EVEN\n"
     ]
    }
   ],
   "source": [
    "l=[1,3,5,2,8,10]\n",
    "print(\"EVEN\" if l[0]%2==0 else \"ODD\")\n",
    "print(\"EVEN\" if l[1]%2==0 else \"ODD\")\n",
    "print(\"EVEN\" if l[2]%2==0 else \"ODD\")\n",
    "print(\"EVEN\" if l[3]%2==0 else \"ODD\")\n",
    "print(\"EVEN\" if l[4]%2==0 else \"ODD\")\n",
    "print(\"EVEN\" if l[5]%2==0 else \"ODD\")"
   ]
  },
  {
   "cell_type": "code",
   "execution_count": 7,
   "metadata": {},
   "outputs": [
    {
     "name": "stdout",
     "output_type": "stream",
     "text": [
      "1\n",
      "3\n",
      "5\n",
      "2\n",
      "8\n",
      "10\n"
     ]
    }
   ],
   "source": [
    "l=[1,3,5,2,8,10]\n",
    "for i in l:\n",
    "    print(i) # here the i is a reference, we can give any."
   ]
  },
  {
   "cell_type": "code",
   "execution_count": 8,
   "metadata": {},
   "outputs": [
    {
     "name": "stdout",
     "output_type": "stream",
     "text": [
      "start\n",
      "iteration started\n",
      "1\n",
      "iteration ended\n",
      "iteration started\n",
      "3\n",
      "iteration ended\n",
      "iteration started\n",
      "5\n",
      "iteration ended\n",
      "iteration started\n",
      "2\n",
      "iteration ended\n",
      "iteration started\n",
      "8\n",
      "iteration ended\n",
      "iteration started\n",
      "10\n",
      "iteration ended\n",
      "end\n"
     ]
    }
   ],
   "source": [
    "print(\"start\")\n",
    "l=[1,3,5,2,8,10]\n",
    "for k in l:#k=1,3,5,2,8,10\n",
    "    print(\"iteration started\")\n",
    "    print(k)#1,3,5,2,8,10\n",
    "    print(\"iteration ended\")\n",
    "print(\"end\")"
   ]
  },
  {
   "cell_type": "code",
   "execution_count": 9,
   "metadata": {},
   "outputs": [
    {
     "name": "stdout",
     "output_type": "stream",
     "text": [
      "start\n",
      "ODD\n",
      "ODD\n",
      "ODD\n",
      "EVEN\n",
      "EVEN\n",
      "EVEN\n",
      "end\n"
     ]
    }
   ],
   "source": [
    "print(\"start\")\n",
    "l=[1,3,5,2,8,10]\n",
    "for j in l:#j=1,3,5,2,8,10\n",
    "    print(\"EVEN\" if j%2==0 else \"ODD\")\n",
    "print(\"end\")"
   ]
  },
  {
   "cell_type": "code",
   "execution_count": 10,
   "metadata": {},
   "outputs": [
    {
     "name": "stdout",
     "output_type": "stream",
     "text": [
      "start\n",
      "ODD\n",
      "ODD\n",
      "EVEN\n",
      "EVEN\n",
      "EVEN\n",
      "ODD\n",
      "end\n"
     ]
    }
   ],
   "source": [
    "print(\"start\")\n",
    "l=[1,5,2,8,10,3]\n",
    "for j in l:#j=1,3,5,2,8,10\n",
    "    print(\"EVEN\" if j%2==0 else \"ODD\")\n",
    "print(\"end\")"
   ]
  },
  {
   "cell_type": "code",
   "execution_count": 11,
   "metadata": {},
   "outputs": [
    {
     "name": "stdout",
     "output_type": "stream",
     "text": [
      "start\n",
      "1-ODD\n",
      "5-ODD\n",
      "2-EVEN\n",
      "8-EVEN\n",
      "10-EVEN\n",
      "3-ODD\n",
      "end\n"
     ]
    }
   ],
   "source": [
    "print(\"start\")\n",
    "l=[1,5,2,8,10,3]\n",
    "for j in l:#j=1,3,5,2,8,10\n",
    "    print(f\"{j}-EVEN\" if j%2==0 else f\"{j}-ODD\")\n",
    "print(\"end\")"
   ]
  },
  {
   "cell_type": "code",
   "execution_count": 12,
   "metadata": {},
   "outputs": [
    {
     "name": "stdout",
     "output_type": "stream",
     "text": [
      "start\n",
      "Even_count: 3 Odd_count: 2\n"
     ]
    }
   ],
   "source": [
    "# find the count of even and odd numbers\n",
    "#[5,2,8,10,3]: Even_count:3, odd_count:2\n",
    "print(\"start\")\n",
    "l=[1,5,2,8,10]\n",
    "e_c=0\n",
    "o_c=0\n",
    "for i in l:#i=1,5,2,8,10\n",
    "    if i%2==0:#1==0:False,1==0:False,0==0:true,0==0:true,0==0:true\n",
    "        e_c = e_c+1#0,0,0+1:1,1+1:2,2+1:3\n",
    "    else:\n",
    "        o_c=o_c+1#0+1:1,1+1:2,2,2,2\n",
    "print(\"Even_count:\",e_c,\"Odd_count:\",o_c)\n"
   ]
  },
  {
   "cell_type": "code",
   "execution_count": 13,
   "metadata": {},
   "outputs": [],
   "source": [
    "l=[-1,5,-2,8,10]\n",
    "#positive_count:3\n",
    "#negative_count:2"
   ]
  },
  {
   "cell_type": "code",
   "execution_count": 14,
   "metadata": {},
   "outputs": [],
   "source": [
    "#l=[-1,5,-2,8,10]\n",
    "#if it has any negative numners then \"YES\" or else \"NO\"\n",
    "#l=[-1,5,-2,8,10]: \"YES\"\n",
    "#l=[1,5,2,8,10]: \"NO\""
   ]
  },
  {
   "cell_type": "code",
   "execution_count": 15,
   "metadata": {},
   "outputs": [
    {
     "data": {
      "text/plain": [
       "1"
      ]
     },
     "execution_count": 15,
     "metadata": {},
     "output_type": "execute_result"
    }
   ],
   "source": [
    "2**0"
   ]
  },
  {
   "cell_type": "code",
   "execution_count": 16,
   "metadata": {},
   "outputs": [
    {
     "name": "stdout",
     "output_type": "stream",
     "text": [
      "0\n",
      "1\n",
      "2\n"
     ]
    }
   ],
   "source": [
    "for i in range(0,3):\n",
    "    print(i)"
   ]
  },
  {
   "cell_type": "code",
   "execution_count": null,
   "metadata": {},
   "outputs": [],
   "source": [
    "import math\n",
    "base = int(input(\"Enter base : \"))#3\n",
    "exponent = int(input(\"Enter exponent : \"))#2\n",
    "power = 0\n",
    "for i in range(0, exponent + 1):#i=0,1,2\n",
    "    power = power * base#0*3=0,0*3=0,\n",
    "\n",
    "print(\"\\nResult\", base, \"^\", exponent, \":\", power)\n"
   ]
  },
  {
   "cell_type": "code",
   "execution_count": 17,
   "metadata": {},
   "outputs": [
    {
     "name": "stdout",
     "output_type": "stream",
     "text": [
      "0\n",
      "1\n",
      "2\n"
     ]
    }
   ],
   "source": [
    "base=3\n",
    "exponent=2\n",
    "for i in range(exponent+1):\n",
    "    print(i)"
   ]
  },
  {
   "cell_type": "code",
   "execution_count": 18,
   "metadata": {},
   "outputs": [
    {
     "name": "stdout",
     "output_type": "stream",
     "text": [
      "1\n",
      "3\n",
      "9\n"
     ]
    }
   ],
   "source": [
    "base=3\n",
    "exponent=2\n",
    "for i in range(exponent+1):\n",
    "    print(base**i)"
   ]
  },
  {
   "cell_type": "code",
   "execution_count": 1,
   "metadata": {},
   "outputs": [
    {
     "ename": "TypeError",
     "evalue": "'int' object is not iterable",
     "output_type": "error",
     "traceback": [
      "\u001b[1;31m---------------------------------------------------------------------------\u001b[0m",
      "\u001b[1;31mTypeError\u001b[0m                                 Traceback (most recent call last)",
      "\u001b[1;32m<ipython-input-1-bcddcd506fd8>\u001b[0m in \u001b[0;36m<module>\u001b[1;34m\u001b[0m\n\u001b[1;32m----> 1\u001b[1;33m \u001b[1;32mfor\u001b[0m \u001b[0mi\u001b[0m \u001b[1;32min\u001b[0m \u001b[1;36m100\u001b[0m\u001b[1;33m:\u001b[0m\u001b[1;33m\u001b[0m\u001b[1;33m\u001b[0m\u001b[0m\n\u001b[0m\u001b[0;32m      2\u001b[0m     \u001b[0mprint\u001b[0m\u001b[1;33m(\u001b[0m\u001b[0mi\u001b[0m\u001b[1;33m)\u001b[0m\u001b[1;33m\u001b[0m\u001b[1;33m\u001b[0m\u001b[0m\n",
      "\u001b[1;31mTypeError\u001b[0m: 'int' object is not iterable"
     ]
    }
   ],
   "source": [
    "for i in 100:\n",
    "    print(i)"
   ]
  },
  {
   "cell_type": "code",
   "execution_count": 2,
   "metadata": {},
   "outputs": [
    {
     "ename": "TypeError",
     "evalue": "'float' object is not iterable",
     "output_type": "error",
     "traceback": [
      "\u001b[1;31m---------------------------------------------------------------------------\u001b[0m",
      "\u001b[1;31mTypeError\u001b[0m                                 Traceback (most recent call last)",
      "\u001b[1;32m<ipython-input-2-3f56056944e9>\u001b[0m in \u001b[0;36m<module>\u001b[1;34m\u001b[0m\n\u001b[1;32m----> 1\u001b[1;33m \u001b[1;32mfor\u001b[0m \u001b[0mi\u001b[0m \u001b[1;32min\u001b[0m \u001b[1;36m12.34\u001b[0m\u001b[1;33m:\u001b[0m\u001b[1;33m\u001b[0m\u001b[1;33m\u001b[0m\u001b[0m\n\u001b[0m\u001b[0;32m      2\u001b[0m     \u001b[0mprint\u001b[0m\u001b[1;33m(\u001b[0m\u001b[0mi\u001b[0m\u001b[1;33m)\u001b[0m\u001b[1;33m\u001b[0m\u001b[1;33m\u001b[0m\u001b[0m\n",
      "\u001b[1;31mTypeError\u001b[0m: 'float' object is not iterable"
     ]
    }
   ],
   "source": [
    "for i in 12.34:\n",
    "    print(i)"
   ]
  },
  {
   "cell_type": "code",
   "execution_count": 3,
   "metadata": {},
   "outputs": [
    {
     "ename": "TypeError",
     "evalue": "'NoneType' object is not iterable",
     "output_type": "error",
     "traceback": [
      "\u001b[1;31m---------------------------------------------------------------------------\u001b[0m",
      "\u001b[1;31mTypeError\u001b[0m                                 Traceback (most recent call last)",
      "\u001b[1;32m<ipython-input-3-e311f29bb25f>\u001b[0m in \u001b[0;36m<module>\u001b[1;34m\u001b[0m\n\u001b[1;32m----> 1\u001b[1;33m \u001b[1;32mfor\u001b[0m \u001b[0mi\u001b[0m \u001b[1;32min\u001b[0m \u001b[1;32mNone\u001b[0m\u001b[1;33m:\u001b[0m\u001b[1;33m\u001b[0m\u001b[1;33m\u001b[0m\u001b[0m\n\u001b[0m\u001b[0;32m      2\u001b[0m     \u001b[0mprint\u001b[0m\u001b[1;33m(\u001b[0m\u001b[0mi\u001b[0m\u001b[1;33m)\u001b[0m\u001b[1;33m\u001b[0m\u001b[1;33m\u001b[0m\u001b[0m\n",
      "\u001b[1;31mTypeError\u001b[0m: 'NoneType' object is not iterable"
     ]
    }
   ],
   "source": [
    "for i in None:\n",
    "    print(i)"
   ]
  },
  {
   "cell_type": "code",
   "execution_count": 4,
   "metadata": {},
   "outputs": [
    {
     "ename": "TypeError",
     "evalue": "'bool' object is not iterable",
     "output_type": "error",
     "traceback": [
      "\u001b[1;31m---------------------------------------------------------------------------\u001b[0m",
      "\u001b[1;31mTypeError\u001b[0m                                 Traceback (most recent call last)",
      "\u001b[1;32m<ipython-input-4-425af1773ecf>\u001b[0m in \u001b[0;36m<module>\u001b[1;34m\u001b[0m\n\u001b[1;32m----> 1\u001b[1;33m \u001b[1;32mfor\u001b[0m \u001b[0mi\u001b[0m \u001b[1;32min\u001b[0m \u001b[1;32mTrue\u001b[0m\u001b[1;33m:\u001b[0m\u001b[1;33m\u001b[0m\u001b[1;33m\u001b[0m\u001b[0m\n\u001b[0m\u001b[0;32m      2\u001b[0m     \u001b[0mprint\u001b[0m\u001b[1;33m(\u001b[0m\u001b[0mi\u001b[0m\u001b[1;33m)\u001b[0m\u001b[1;33m\u001b[0m\u001b[1;33m\u001b[0m\u001b[0m\n",
      "\u001b[1;31mTypeError\u001b[0m: 'bool' object is not iterable"
     ]
    }
   ],
   "source": [
    "for i in True:\n",
    "    print(i)"
   ]
  },
  {
   "cell_type": "code",
   "execution_count": 5,
   "metadata": {},
   "outputs": [
    {
     "name": "stdout",
     "output_type": "stream",
     "text": [
      "p\n",
      "y\n",
      "t\n",
      "h\n",
      "9\n",
      "o\n",
      "n\n"
     ]
    }
   ],
   "source": [
    "for i in \"pyth9on\":\n",
    "    print(i)"
   ]
  },
  {
   "cell_type": "code",
   "execution_count": 6,
   "metadata": {},
   "outputs": [
    {
     "name": "stdout",
     "output_type": "stream",
     "text": [
      "1\n",
      "2\n",
      "3\n",
      "4\n"
     ]
    }
   ],
   "source": [
    "for i in [1,2,3,4]:\n",
    "    print(i)"
   ]
  },
  {
   "cell_type": "code",
   "execution_count": 7,
   "metadata": {},
   "outputs": [
    {
     "name": "stdout",
     "output_type": "stream",
     "text": [
      "1\n",
      "2\n",
      "3\n",
      "4\n"
     ]
    }
   ],
   "source": [
    "for i in (1,2,3,4):\n",
    "    print(i)"
   ]
  },
  {
   "cell_type": "code",
   "execution_count": 8,
   "metadata": {},
   "outputs": [
    {
     "name": "stdout",
     "output_type": "stream",
     "text": [
      "name\n",
      "age\n"
     ]
    }
   ],
   "source": [
    "for i in {\"name\":\"jay\",\"age\":5}:\n",
    "    print(i)"
   ]
  },
  {
   "cell_type": "code",
   "execution_count": 9,
   "metadata": {},
   "outputs": [
    {
     "name": "stdout",
     "output_type": "stream",
     "text": [
      "1\n",
      "age\n"
     ]
    }
   ],
   "source": [
    "for i in {1:\"jay\",\"age\":5}:\n",
    "    print(i)"
   ]
  },
  {
   "cell_type": "code",
   "execution_count": 10,
   "metadata": {},
   "outputs": [
    {
     "name": "stdout",
     "output_type": "stream",
     "text": [
      "40\n",
      "10\n",
      "20\n",
      "30\n"
     ]
    }
   ],
   "source": [
    "for i in {10,20,30,40}:\n",
    "    print(i)"
   ]
  },
  {
   "cell_type": "code",
   "execution_count": null,
   "metadata": {},
   "outputs": [],
   "source": [
    "# Does the list contains atleast one negative number\n",
    "#l=[1,2,3,4]#No\n",
    "#l=[1,-2,3,4]#yes"
   ]
  },
  {
   "cell_type": "code",
   "execution_count": 11,
   "metadata": {},
   "outputs": [
    {
     "name": "stdout",
     "output_type": "stream",
     "text": [
      "Enter list:[1,2,3,4]\n",
      "[1,2,3,4] <class 'str'>\n"
     ]
    }
   ],
   "source": [
    "s=input(\"Enter list:\")\n",
    "print(s, type(s))"
   ]
  },
  {
   "cell_type": "code",
   "execution_count": 12,
   "metadata": {},
   "outputs": [
    {
     "name": "stdout",
     "output_type": "stream",
     "text": [
      "0\n"
     ]
    }
   ],
   "source": [
    "l=[1,2,3,4]\n",
    "neg_c=0\n",
    "for i in l:\n",
    "    if i<0:\n",
    "        neg_c=neg_c+1\n",
    "print(neg_c)"
   ]
  },
  {
   "cell_type": "code",
   "execution_count": 13,
   "metadata": {},
   "outputs": [
    {
     "name": "stdout",
     "output_type": "stream",
     "text": [
      "1\n"
     ]
    }
   ],
   "source": [
    "l=[1,2,-3,4]\n",
    "neg_c=0\n",
    "for i in l:\n",
    "    if i<0:\n",
    "        neg_c=neg_c+1\n",
    "print(neg_c)"
   ]
  },
  {
   "cell_type": "code",
   "execution_count": 14,
   "metadata": {},
   "outputs": [
    {
     "name": "stdout",
     "output_type": "stream",
     "text": [
      "YES, it has negative numbers.\n"
     ]
    }
   ],
   "source": [
    "l=[1,2,-3,4]\n",
    "neg_c=0\n",
    "for i in l:\n",
    "    if i<0:\n",
    "        neg_c=neg_c+1\n",
    "if neg_c>0:\n",
    "    print(\"YES, it has negative numbers.\")\n",
    "else:\n",
    "    print(\"NO, it dones not have negative numbers.\")"
   ]
  },
  {
   "cell_type": "code",
   "execution_count": 15,
   "metadata": {},
   "outputs": [
    {
     "name": "stdout",
     "output_type": "stream",
     "text": [
      "NO, it dones not have negative numbers.\n"
     ]
    }
   ],
   "source": [
    "l=[1,2,3,4]\n",
    "neg_c=0\n",
    "for i in l:\n",
    "    if i<0:\n",
    "        neg_c=neg_c+1\n",
    "if neg_c>0:\n",
    "    print(\"YES, it has negative numbers.\")\n",
    "else:\n",
    "    print(\"NO, it dones not have negative numbers.\")"
   ]
  },
  {
   "cell_type": "code",
   "execution_count": 16,
   "metadata": {},
   "outputs": [
    {
     "name": "stdout",
     "output_type": "stream",
     "text": [
      "1\n",
      "-2\n",
      "3\n",
      "4\n",
      "-5\n",
      "YES, it has negative numbers.\n"
     ]
    }
   ],
   "source": [
    "l=[1,-2,3,4,-5]\n",
    "neg_c=0\n",
    "for i in l:\n",
    "    print(i)\n",
    "    if i<0:\n",
    "        neg_c=neg_c+1\n",
    "if neg_c>0:\n",
    "    print(\"YES, it has negative numbers.\")\n",
    "else:\n",
    "    print(\"NO, it dones not have negative numbers.\")"
   ]
  },
  {
   "cell_type": "code",
   "execution_count": 17,
   "metadata": {},
   "outputs": [
    {
     "name": "stdout",
     "output_type": "stream",
     "text": [
      "1\n",
      "-2\n",
      "YES, it has negative numbers.\n"
     ]
    }
   ],
   "source": [
    "l=[1,-2,3,4,-5]\n",
    "neg_c=0\n",
    "for i in l:#i=1,-2\n",
    "    print(i)\n",
    "    if i<0:\n",
    "        neg_c=neg_c+1#0,1\n",
    "        break\n",
    "if neg_c>0:#1>0:True,\n",
    "    print(\"YES, it has negative numbers.\")\n",
    "else:\n",
    "    print(\"NO, it dones not have negative numbers.\")"
   ]
  },
  {
   "cell_type": "code",
   "execution_count": 18,
   "metadata": {},
   "outputs": [
    {
     "name": "stdout",
     "output_type": "stream",
     "text": [
      "start\n",
      "p\n",
      "end\n"
     ]
    }
   ],
   "source": [
    "print(\"start\")\n",
    "for i in \"python\":\n",
    "    print(i)\n",
    "    break\n",
    "print(\"end\")"
   ]
  },
  {
   "cell_type": "code",
   "execution_count": 19,
   "metadata": {},
   "outputs": [
    {
     "name": "stdout",
     "output_type": "stream",
     "text": [
      "start\n",
      "p\n",
      "y\n",
      "t\n",
      "end\n"
     ]
    }
   ],
   "source": [
    "print(\"start\")\n",
    "for i in \"python\":\n",
    "    print(i)\n",
    "    if i==\"t\":\n",
    "        break\n",
    "print(\"end\")"
   ]
  },
  {
   "cell_type": "code",
   "execution_count": 20,
   "metadata": {},
   "outputs": [
    {
     "name": "stdout",
     "output_type": "stream",
     "text": [
      "start\n",
      "p\n",
      "y\n",
      "t\n",
      "h\n",
      "o\n",
      "n\n",
      "end\n"
     ]
    }
   ],
   "source": [
    "print(\"start\")\n",
    "for i in \"python\":\n",
    "    print(i)\n",
    "    if i==\"a\":\n",
    "        break\n",
    "print(\"end\")"
   ]
  },
  {
   "cell_type": "code",
   "execution_count": 21,
   "metadata": {},
   "outputs": [
    {
     "name": "stdout",
     "output_type": "stream",
     "text": [
      "start\n",
      "p\n",
      "iteration ended\n",
      "y\n",
      "iteration ended\n",
      "t\n",
      "end\n"
     ]
    }
   ],
   "source": [
    "print(\"start\")\n",
    "for i in \"python\":\n",
    "    print(i)\n",
    "    if i==\"t\":\n",
    "        break\n",
    "    print(\"iteration ended\")\n",
    "print(\"end\")"
   ]
  },
  {
   "cell_type": "code",
   "execution_count": 23,
   "metadata": {},
   "outputs": [
    {
     "name": "stdout",
     "output_type": "stream",
     "text": [
      "1\n",
      "YES, it has negative numbers.\n"
     ]
    }
   ],
   "source": [
    "l=[1,-2,3,4,-5]\n",
    "neg_c=0\n",
    "for i in l:\n",
    "    if i<0:\n",
    "        neg_c=neg_c+1\n",
    "        break\n",
    "print(neg_c)\n",
    "if neg_c>0:\n",
    "    print(\"YES, it has negative numbers.\")\n",
    "else:\n",
    "    print(\"NO, it dones not have negative numbers.\")"
   ]
  },
  {
   "cell_type": "code",
   "execution_count": 24,
   "metadata": {},
   "outputs": [
    {
     "name": "stdout",
     "output_type": "stream",
     "text": [
      "0\n",
      "NO, it dones not have negative numbers.\n"
     ]
    }
   ],
   "source": [
    "l=[1,-2,3,4,-5]\n",
    "neg_c=0\n",
    "for i in l:\n",
    "    if i<0:\n",
    "        break\n",
    "        neg_c=neg_c+1\n",
    "        \n",
    "print(neg_c)\n",
    "if neg_c>0:\n",
    "    print(\"YES, it has negative numbers.\")\n",
    "else:\n",
    "    print(\"NO, it dones not have negative numbers.\")"
   ]
  },
  {
   "cell_type": "code",
   "execution_count": 25,
   "metadata": {},
   "outputs": [
    {
     "name": "stdout",
     "output_type": "stream",
     "text": [
      "NO, it dones not have negative numbers.\n",
      "YES, it has negative numbers.\n",
      "END\n"
     ]
    }
   ],
   "source": [
    "l=[1,-2,3,4,-5]\n",
    "for i in l:#i=1,-2\n",
    "    if i<0:\n",
    "        print(\"YES, it has negative numbers.\")\n",
    "        break   \n",
    "    else:\n",
    "        print(\"NO, it dones not have negative numbers.\")\n",
    "print(\"END\")"
   ]
  },
  {
   "cell_type": "code",
   "execution_count": 26,
   "metadata": {},
   "outputs": [
    {
     "name": "stdout",
     "output_type": "stream",
     "text": [
      "start\n",
      "p\n",
      "y\n",
      "t\n",
      "h\n",
      "o\n",
      "n\n",
      "this is else\n",
      "end\n"
     ]
    }
   ],
   "source": [
    "print(\"start\")\n",
    "for i in \"python\":\n",
    "    print(i)\n",
    "else:\n",
    "    print(\"this is else\")\n",
    "print(\"end\")"
   ]
  },
  {
   "cell_type": "code",
   "execution_count": 27,
   "metadata": {},
   "outputs": [
    {
     "name": "stdout",
     "output_type": "stream",
     "text": [
      "start\n",
      "p\n",
      "y\n",
      "t\n",
      "h\n",
      "o\n",
      "n\n",
      "this is else\n",
      "end\n"
     ]
    }
   ],
   "source": [
    "print(\"start\")\n",
    "for i in \"python\":\n",
    "    print(i)\n",
    "else:\n",
    "    print(\"this is else\")\n",
    "print(\"end\")"
   ]
  },
  {
   "cell_type": "code",
   "execution_count": 28,
   "metadata": {},
   "outputs": [
    {
     "name": "stdout",
     "output_type": "stream",
     "text": [
      "start\n",
      "p\n",
      "end\n"
     ]
    }
   ],
   "source": [
    "print(\"start\")\n",
    "for i in \"python\":\n",
    "    print(i)\n",
    "    break\n",
    "else:\n",
    "    print(\"this is else\")\n",
    "print(\"end\")"
   ]
  },
  {
   "cell_type": "code",
   "execution_count": 29,
   "metadata": {},
   "outputs": [
    {
     "name": "stdout",
     "output_type": "stream",
     "text": [
      "start\n",
      "p\n",
      "end\n"
     ]
    }
   ],
   "source": [
    "print(\"start\")\n",
    "for i in \"python\":\n",
    "    print(i)\n",
    "    \n",
    "    break\n",
    "else:\n",
    "    print(\"this is else\")\n",
    "print(\"end\")"
   ]
  },
  {
   "cell_type": "code",
   "execution_count": 30,
   "metadata": {},
   "outputs": [
    {
     "name": "stdout",
     "output_type": "stream",
     "text": [
      "start\n",
      "p\n",
      "y\n",
      "t\n",
      "h\n",
      "o\n",
      "n\n",
      "this is else\n",
      "end\n"
     ]
    }
   ],
   "source": [
    "print(\"start\")\n",
    "for i in \"python\":\n",
    "    print(i)\n",
    "    if i==\"a\":\n",
    "        break\n",
    "else:\n",
    "    print(\"this is else\")\n",
    "print(\"end\")"
   ]
  },
  {
   "cell_type": "code",
   "execution_count": 31,
   "metadata": {},
   "outputs": [
    {
     "name": "stdout",
     "output_type": "stream",
     "text": [
      "start\n",
      "p\n",
      "y\n",
      "t\n",
      "h\n",
      "end\n"
     ]
    }
   ],
   "source": [
    "print(\"start\")\n",
    "for i in \"python\":\n",
    "    print(i)\n",
    "    if i==\"h\":\n",
    "        break\n",
    "else:\n",
    "    print(\"this is else\")\n",
    "print(\"end\")"
   ]
  },
  {
   "cell_type": "code",
   "execution_count": 32,
   "metadata": {},
   "outputs": [
    {
     "name": "stdout",
     "output_type": "stream",
     "text": [
      "start\n",
      "p\n",
      "y\n",
      "t\n",
      "h\n",
      "o\n",
      "n\n",
      "end\n"
     ]
    }
   ],
   "source": [
    "print(\"start\")\n",
    "for i in \"python\":\n",
    "    print(i)\n",
    "    if i==\"n\":\n",
    "        break\n",
    "else:\n",
    "    print(\"this is else\")\n",
    "print(\"end\")"
   ]
  },
  {
   "cell_type": "code",
   "execution_count": 33,
   "metadata": {},
   "outputs": [
    {
     "name": "stdout",
     "output_type": "stream",
     "text": [
      "YES, it has negative numbers.\n",
      "END\n"
     ]
    }
   ],
   "source": [
    "l=[1,-2,3,4,-5]\n",
    "for i in l:#i=1,-2\n",
    "    if i<0:\n",
    "        print(\"YES, it has negative numbers.\")\n",
    "        break   \n",
    "else:\n",
    "    print(\"NO, it dones not have negative numbers.\")\n",
    "print(\"END\")"
   ]
  },
  {
   "cell_type": "code",
   "execution_count": 34,
   "metadata": {},
   "outputs": [
    {
     "name": "stdout",
     "output_type": "stream",
     "text": [
      "NO, it dones not have negative numbers.\n",
      "END\n"
     ]
    }
   ],
   "source": [
    "l=[1,2,3,4,5]\n",
    "for i in l:#i=1,2,3,4,5\n",
    "    if i<0:#False,False,False,False,False\n",
    "        print(\"YES, it has negative numbers.\")\n",
    "        break   \n",
    "else:\n",
    "    print(\"NO, it dones not have negative numbers.\")\n",
    "print(\"END\")"
   ]
  },
  {
   "cell_type": "code",
   "execution_count": 35,
   "metadata": {},
   "outputs": [
    {
     "name": "stdout",
     "output_type": "stream",
     "text": [
      "start\n",
      "0\n",
      "end\n"
     ]
    }
   ],
   "source": [
    "print(\"start\")\n",
    "i=0\n",
    "if i<3:#True\n",
    "    print(i)#0\n",
    "    i=i+1#i=1,\n",
    "print(\"end\")"
   ]
  },
  {
   "cell_type": "code",
   "execution_count": 36,
   "metadata": {},
   "outputs": [
    {
     "name": "stdout",
     "output_type": "stream",
     "text": [
      "start\n",
      "0\n",
      "1\n",
      "2\n",
      "end\n"
     ]
    }
   ],
   "source": [
    "print(\"start\")\n",
    "i=0\n",
    "while i<3:#0<3:True,1<3:True,2<3:True,3<3:False\n",
    "    print(i)#0,1,2\n",
    "    i=i+1#i=0+1:1,1+1:2,2+1:3\n",
    "print(\"end\")"
   ]
  },
  {
   "cell_type": "code",
   "execution_count": null,
   "metadata": {},
   "outputs": [],
   "source": [
    "print(\"start\")\n",
    "i=0\n",
    "if i<3:#True\n",
    "    print(i)#0\n",
    "    i=i+1#i=1,\n",
    "print(\"end\")"
   ]
  },
  {
   "cell_type": "code",
   "execution_count": 37,
   "metadata": {},
   "outputs": [
    {
     "name": "stdout",
     "output_type": "stream",
     "text": [
      "0\n",
      "1\n",
      "2\n",
      "3\n",
      "4\n",
      "5\n",
      "6\n",
      "7\n",
      "8\n",
      "9\n"
     ]
    }
   ],
   "source": [
    "for i in range(10):\n",
    "    print(i)"
   ]
  },
  {
   "cell_type": "code",
   "execution_count": null,
   "metadata": {},
   "outputs": [],
   "source": [
    "#while True:\n",
    "    #call the service:\n",
    "    #if connect:\n",
    "        #break\n",
    "    #else:\n",
    "        #sleep(1)"
   ]
  }
 ],
 "metadata": {
  "kernelspec": {
   "display_name": "Python 3",
   "language": "python",
   "name": "python3"
  },
  "language_info": {
   "codemirror_mode": {
    "name": "ipython",
    "version": 3
   },
   "file_extension": ".py",
   "mimetype": "text/x-python",
   "name": "python",
   "nbconvert_exporter": "python",
   "pygments_lexer": "ipython3",
   "version": "3.8.3"
  }
 },
 "nbformat": 4,
 "nbformat_minor": 4
}
