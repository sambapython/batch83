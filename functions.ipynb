{
 "cells": [
  {
   "cell_type": "code",
   "execution_count": 2,
   "metadata": {},
   "outputs": [
    {
     "name": "stdout",
     "output_type": "stream",
     "text": [
      "a=10,b=20\n",
      "result= 30\n",
      "Hyderabad\n",
      "chennai\n",
      "a=100,b=200\n",
      "result= 300\n",
      "Banglore\n",
      "a=1000,b=2000\n",
      "result= 3000\n",
      "Mumbai\n",
      "a=10000,b=20000\n",
      "result= 30000\n"
     ]
    }
   ],
   "source": [
    "a=10\n",
    "b=20\n",
    "print(f\"a={a},b={b}\")\n",
    "res=a+b\n",
    "print(\"result=\",res)\n",
    "print(\"Hyderabad\")\n",
    "print(\"chennai\")\n",
    "a=100\n",
    "b=200\n",
    "print(f\"a={a},b={b}\")\n",
    "res=a+b\n",
    "print(\"result=\",res)\n",
    "print(\"Banglore\")\n",
    "a=1000\n",
    "b=2000\n",
    "print(f\"a={a},b={b}\")\n",
    "res=a+b\n",
    "print(\"result=\",res)\n",
    "print(\"Mumbai\")\n",
    "a=10000\n",
    "b=20000\n",
    "print(f\"a={a},b={b}\")\n",
    "res=a+b\n",
    "print(\"result=\",res)"
   ]
  },
  {
   "cell_type": "code",
   "execution_count": 3,
   "metadata": {},
   "outputs": [
    {
     "name": "stdout",
     "output_type": "stream",
     "text": [
      "a=10,b=20\n",
      "result= 30\n",
      "Hyderabad\n",
      "chennai\n",
      "a=100,b=200\n",
      "result= 300\n",
      "Banglore\n",
      "a=1000,b=2000\n",
      "result= 3000\n",
      "Mumbai\n",
      "a=10000,b=20000\n",
      "result= 30000\n"
     ]
    }
   ],
   "source": [
    "def fun(a,b):\n",
    "    print(f\"a={a},b={b}\")\n",
    "    res=a+b\n",
    "    print(\"result=\",res)\n",
    "fun(10,20)\n",
    "print(\"Hyderabad\")\n",
    "print(\"chennai\")\n",
    "fun(100,200)\n",
    "print(\"Banglore\")\n",
    "fun(1000,2000)\n",
    "print(\"Mumbai\")\n",
    "fun(10000,20000)"
   ]
  },
  {
   "cell_type": "code",
   "execution_count": 4,
   "metadata": {},
   "outputs": [
    {
     "name": "stdout",
     "output_type": "stream",
     "text": [
      "a=10,b=20\n",
      "summation= 30\n",
      "Hyderabad\n",
      "chennai\n",
      "a=100,b=200\n",
      "summation= 300\n",
      "Banglore\n",
      "a=1000,b=2000\n",
      "summation= 3000\n",
      "Mumbai\n",
      "a=10000,b=20000\n",
      "summation= 30000\n"
     ]
    }
   ],
   "source": [
    "def fun(a,b):\n",
    "    print(f\"a={a},b={b}\")\n",
    "    res=a+b\n",
    "    print(\"summation=\",res)\n",
    "fun(10,20)\n",
    "print(\"Hyderabad\")\n",
    "print(\"chennai\")\n",
    "fun(100,200)\n",
    "print(\"Banglore\")\n",
    "fun(1000,2000)\n",
    "print(\"Mumbai\")\n",
    "fun(10000,20000)"
   ]
  },
  {
   "cell_type": "code",
   "execution_count": 5,
   "metadata": {},
   "outputs": [
    {
     "name": "stdout",
     "output_type": "stream",
     "text": [
      "Start\n",
      "End\n"
     ]
    }
   ],
   "source": [
    "print(\"Start\")\n",
    "def fun():\n",
    "    print(\"Hello\")\n",
    "    print(\"HI\")\n",
    "print(\"End\")"
   ]
  },
  {
   "cell_type": "code",
   "execution_count": 6,
   "metadata": {},
   "outputs": [
    {
     "name": "stdout",
     "output_type": "stream",
     "text": [
      "Start\n",
      "End\n",
      "Hello\n",
      "HI\n"
     ]
    }
   ],
   "source": [
    "print(\"Start\")\n",
    "def fun():\n",
    "    print(\"Hello\")\n",
    "    print(\"HI\")\n",
    "print(\"End\")\n",
    "fun()"
   ]
  },
  {
   "cell_type": "code",
   "execution_count": 7,
   "metadata": {},
   "outputs": [
    {
     "name": "stdout",
     "output_type": "stream",
     "text": [
      "Start\n",
      "End\n",
      "Hello\n",
      "HI\n",
      "Hello\n",
      "HI\n"
     ]
    }
   ],
   "source": [
    "print(\"Start\")\n",
    "def fun():\n",
    "    print(\"Hello\")\n",
    "    print(\"HI\")\n",
    "print(\"End\")\n",
    "fun()\n",
    "fun()"
   ]
  },
  {
   "cell_type": "code",
   "execution_count": 8,
   "metadata": {},
   "outputs": [
    {
     "name": "stdout",
     "output_type": "stream",
     "text": [
      "Start\n",
      "End\n",
      "Hello\n",
      "HI\n",
      "Hello\n",
      "HI\n",
      "Hello\n",
      "HI\n"
     ]
    }
   ],
   "source": [
    "print(\"Start\")\n",
    "#function definition\n",
    "def fun():#function signature\n",
    "    #function body\n",
    "    print(\"Hello\")\n",
    "    print(\"HI\")\n",
    "print(\"End\")\n",
    "fun()#function call\n",
    "fun()\n",
    "fun()"
   ]
  },
  {
   "cell_type": "code",
   "execution_count": null,
   "metadata": {},
   "outputs": [],
   "source": []
  }
 ],
 "metadata": {
  "kernelspec": {
   "display_name": "Python 3",
   "language": "python",
   "name": "python3"
  },
  "language_info": {
   "codemirror_mode": {
    "name": "ipython",
    "version": 3
   },
   "file_extension": ".py",
   "mimetype": "text/x-python",
   "name": "python",
   "nbconvert_exporter": "python",
   "pygments_lexer": "ipython3",
   "version": "3.8.3"
  }
 },
 "nbformat": 4,
 "nbformat_minor": 4
}
