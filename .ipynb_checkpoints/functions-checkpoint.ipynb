{
 "cells": [
  {
   "cell_type": "code",
   "execution_count": 2,
   "metadata": {},
   "outputs": [
    {
     "name": "stdout",
     "output_type": "stream",
     "text": [
      "a=10,b=20\n",
      "result= 30\n",
      "Hyderabad\n",
      "chennai\n",
      "a=100,b=200\n",
      "result= 300\n",
      "Banglore\n",
      "a=1000,b=2000\n",
      "result= 3000\n",
      "Mumbai\n",
      "a=10000,b=20000\n",
      "result= 30000\n"
     ]
    }
   ],
   "source": [
    "a=10\n",
    "b=20\n",
    "print(f\"a={a},b={b}\")\n",
    "res=a+b\n",
    "print(\"result=\",res)\n",
    "print(\"Hyderabad\")\n",
    "print(\"chennai\")\n",
    "a=100\n",
    "b=200\n",
    "print(f\"a={a},b={b}\")\n",
    "res=a+b\n",
    "print(\"result=\",res)\n",
    "print(\"Banglore\")\n",
    "a=1000\n",
    "b=2000\n",
    "print(f\"a={a},b={b}\")\n",
    "res=a+b\n",
    "print(\"result=\",res)\n",
    "print(\"Mumbai\")\n",
    "a=10000\n",
    "b=20000\n",
    "print(f\"a={a},b={b}\")\n",
    "res=a+b\n",
    "print(\"result=\",res)"
   ]
  },
  {
   "cell_type": "code",
   "execution_count": 3,
   "metadata": {},
   "outputs": [
    {
     "name": "stdout",
     "output_type": "stream",
     "text": [
      "a=10,b=20\n",
      "result= 30\n",
      "Hyderabad\n",
      "chennai\n",
      "a=100,b=200\n",
      "result= 300\n",
      "Banglore\n",
      "a=1000,b=2000\n",
      "result= 3000\n",
      "Mumbai\n",
      "a=10000,b=20000\n",
      "result= 30000\n"
     ]
    }
   ],
   "source": [
    "def fun(a,b):\n",
    "    print(f\"a={a},b={b}\")\n",
    "    res=a+b\n",
    "    print(\"result=\",res)\n",
    "fun(10,20)\n",
    "print(\"Hyderabad\")\n",
    "print(\"chennai\")\n",
    "fun(100,200)\n",
    "print(\"Banglore\")\n",
    "fun(1000,2000)\n",
    "print(\"Mumbai\")\n",
    "fun(10000,20000)"
   ]
  },
  {
   "cell_type": "code",
   "execution_count": 4,
   "metadata": {},
   "outputs": [
    {
     "name": "stdout",
     "output_type": "stream",
     "text": [
      "a=10,b=20\n",
      "summation= 30\n",
      "Hyderabad\n",
      "chennai\n",
      "a=100,b=200\n",
      "summation= 300\n",
      "Banglore\n",
      "a=1000,b=2000\n",
      "summation= 3000\n",
      "Mumbai\n",
      "a=10000,b=20000\n",
      "summation= 30000\n"
     ]
    }
   ],
   "source": [
    "def fun(a,b):\n",
    "    print(f\"a={a},b={b}\")\n",
    "    res=a+b\n",
    "    print(\"summation=\",res)\n",
    "fun(10,20)\n",
    "print(\"Hyderabad\")\n",
    "print(\"chennai\")\n",
    "fun(100,200)\n",
    "print(\"Banglore\")\n",
    "fun(1000,2000)\n",
    "print(\"Mumbai\")\n",
    "fun(10000,20000)"
   ]
  },
  {
   "cell_type": "code",
   "execution_count": 5,
   "metadata": {},
   "outputs": [
    {
     "name": "stdout",
     "output_type": "stream",
     "text": [
      "Start\n",
      "End\n"
     ]
    }
   ],
   "source": [
    "print(\"Start\")\n",
    "def fun():\n",
    "    print(\"Hello\")\n",
    "    print(\"HI\")\n",
    "print(\"End\")"
   ]
  },
  {
   "cell_type": "code",
   "execution_count": 6,
   "metadata": {},
   "outputs": [
    {
     "name": "stdout",
     "output_type": "stream",
     "text": [
      "Start\n",
      "End\n",
      "Hello\n",
      "HI\n"
     ]
    }
   ],
   "source": [
    "print(\"Start\")\n",
    "def fun():\n",
    "    print(\"Hello\")\n",
    "    print(\"HI\")\n",
    "print(\"End\")\n",
    "fun()"
   ]
  },
  {
   "cell_type": "code",
   "execution_count": 7,
   "metadata": {},
   "outputs": [
    {
     "name": "stdout",
     "output_type": "stream",
     "text": [
      "Start\n",
      "End\n",
      "Hello\n",
      "HI\n",
      "Hello\n",
      "HI\n"
     ]
    }
   ],
   "source": [
    "print(\"Start\")\n",
    "def fun():\n",
    "    print(\"Hello\")\n",
    "    print(\"HI\")\n",
    "print(\"End\")\n",
    "fun()\n",
    "fun()"
   ]
  },
  {
   "cell_type": "code",
   "execution_count": 8,
   "metadata": {},
   "outputs": [
    {
     "name": "stdout",
     "output_type": "stream",
     "text": [
      "Start\n",
      "End\n",
      "Hello\n",
      "HI\n",
      "Hello\n",
      "HI\n",
      "Hello\n",
      "HI\n"
     ]
    }
   ],
   "source": [
    "print(\"Start\")\n",
    "#function definition\n",
    "def fun():#function signature\n",
    "    #function body\n",
    "    print(\"Hello\")\n",
    "    print(\"HI\")\n",
    "print(\"End\")\n",
    "fun()#function call\n",
    "fun()\n",
    "fun()"
   ]
  },
  {
   "cell_type": "code",
   "execution_count": 1,
   "metadata": {},
   "outputs": [
    {
     "name": "stdout",
     "output_type": "stream",
     "text": [
      "x=10, y=20\n",
      "result= 30\n",
      "x=1, y=2\n",
      "result= 3\n",
      "x=100, y=200\n",
      "result= 300\n",
      "x=1000, y=2000\n",
      "result= 3000\n"
     ]
    }
   ],
   "source": [
    "def add(x,y):#x,y are parameters\n",
    "    print(f\"x={x}, y={y}\")\n",
    "    res=x+y\n",
    "    print(\"result=\",res)\n",
    "add(10,20)#10,20 positional arguments.\n",
    "add(1,2)\n",
    "add(100,200)\n",
    "add(1000,2000)"
   ]
  },
  {
   "cell_type": "code",
   "execution_count": 2,
   "metadata": {},
   "outputs": [],
   "source": [
    "#add,sub,mul,div"
   ]
  },
  {
   "cell_type": "code",
   "execution_count": 3,
   "metadata": {},
   "outputs": [
    {
     "ename": "TypeError",
     "evalue": "registration() missing 4 required positional arguments: 'adhar', 'passport', 'weight', and 'height'",
     "output_type": "error",
     "traceback": [
      "\u001b[1;31m---------------------------------------------------------------------------\u001b[0m",
      "\u001b[1;31mTypeError\u001b[0m                                 Traceback (most recent call last)",
      "\u001b[1;32m<ipython-input-3-01b562763d8c>\u001b[0m in \u001b[0;36m<module>\u001b[1;34m\u001b[0m\n\u001b[0;32m      1\u001b[0m \u001b[1;32mdef\u001b[0m \u001b[0mregistration\u001b[0m\u001b[1;33m(\u001b[0m\u001b[0mname\u001b[0m\u001b[1;33m,\u001b[0m\u001b[0mdob\u001b[0m\u001b[1;33m,\u001b[0m\u001b[0mpan\u001b[0m\u001b[1;33m,\u001b[0m\u001b[0madhar\u001b[0m\u001b[1;33m,\u001b[0m\u001b[0mpassport\u001b[0m\u001b[1;33m,\u001b[0m\u001b[0mweight\u001b[0m\u001b[1;33m,\u001b[0m\u001b[0mheight\u001b[0m\u001b[1;33m)\u001b[0m\u001b[1;33m:\u001b[0m\u001b[1;33m\u001b[0m\u001b[1;33m\u001b[0m\u001b[0m\n\u001b[0;32m      2\u001b[0m     \u001b[0mprint\u001b[0m\u001b[1;33m(\u001b[0m\u001b[1;34mf\"name={name}, dob={dob}, pan={pan}, adhar={adhar}, passport={passport}, weight={weight}, height={height}\"\u001b[0m\u001b[1;33m)\u001b[0m\u001b[1;33m\u001b[0m\u001b[1;33m\u001b[0m\u001b[0m\n\u001b[1;32m----> 3\u001b[1;33m \u001b[0mregistration\u001b[0m\u001b[1;33m(\u001b[0m\u001b[1;34m\"jay\"\u001b[0m\u001b[1;33m,\u001b[0m\u001b[1;34m\"2017-FEB-28\"\u001b[0m\u001b[1;33m,\u001b[0m\u001b[1;34m\"pan@1234\"\u001b[0m\u001b[1;33m)\u001b[0m\u001b[1;33m\u001b[0m\u001b[1;33m\u001b[0m\u001b[0m\n\u001b[0m\u001b[0;32m      4\u001b[0m \u001b[1;33m\u001b[0m\u001b[0m\n",
      "\u001b[1;31mTypeError\u001b[0m: registration() missing 4 required positional arguments: 'adhar', 'passport', 'weight', and 'height'"
     ]
    }
   ],
   "source": [
    "def registration(name,dob,pan,adhar,passport,weight,height):\n",
    "    print(f\"name={name}, dob={dob}, pan={pan}, adhar={adhar}, passport={passport}, weight={weight}, height={height}\")\n",
    "registration(\"jay\",\"2017-FEB-28\",\"pan@1234\")\n",
    "    "
   ]
  },
  {
   "cell_type": "code",
   "execution_count": 4,
   "metadata": {},
   "outputs": [
    {
     "name": "stdout",
     "output_type": "stream",
     "text": [
      "name=jay, dob=2017-FEB-28, pan=pan@1234, adhar=, passport=None, weight=1, height=1\n"
     ]
    }
   ],
   "source": [
    "def registration(name,dob,pan,adhar=\"\",passport=None,weight=1,height=1):#default parameters\n",
    "    \"\"\"\n",
    "    name,dob,pan mandatory parameters.\n",
    "    passport,weight,height optional parameters.\n",
    "    \"\"\"\n",
    "    print(f\"name={name}, dob={dob}, pan={pan}, adhar={adhar}, passport={passport}, weight={weight}, height={height}\")\n",
    "registration(\"jay\",\"2017-FEB-28\",\"pan@1234\")\n",
    "    "
   ]
  },
  {
   "cell_type": "code",
   "execution_count": 5,
   "metadata": {},
   "outputs": [
    {
     "name": "stdout",
     "output_type": "stream",
     "text": [
      "name=jay, dob=2017-FEB-28, pan=pan@1234, adhar=adhar@1234, passport=None, weight=1, height=1\n"
     ]
    }
   ],
   "source": [
    "def registration(name,dob,pan,adhar=\"\",passport=None,weight=1,height=1):#default parameters\n",
    "    \"\"\"\n",
    "    name,dob,pan mandatory parameters.\n",
    "    passport,weight,height optional parameters.\n",
    "    \"\"\"\n",
    "    print(f\"name={name}, dob={dob}, pan={pan}, adhar={adhar}, passport={passport}, weight={weight}, height={height}\")\n",
    "registration(\"jay\",\"2017-FEB-28\",\"pan@1234\",\"adhar@1234\")\n",
    "    "
   ]
  },
  {
   "cell_type": "code",
   "execution_count": 6,
   "metadata": {},
   "outputs": [
    {
     "ename": "TypeError",
     "evalue": "registration() missing 1 required positional argument: 'pan'",
     "output_type": "error",
     "traceback": [
      "\u001b[1;31m---------------------------------------------------------------------------\u001b[0m",
      "\u001b[1;31mTypeError\u001b[0m                                 Traceback (most recent call last)",
      "\u001b[1;32m<ipython-input-6-68c55c20b8f3>\u001b[0m in \u001b[0;36m<module>\u001b[1;34m\u001b[0m\n\u001b[0;32m      5\u001b[0m     \"\"\"\n\u001b[0;32m      6\u001b[0m     \u001b[0mprint\u001b[0m\u001b[1;33m(\u001b[0m\u001b[1;34mf\"name={name}, dob={dob}, pan={pan}, adhar={adhar}, passport={passport}, weight={weight}, height={height}\"\u001b[0m\u001b[1;33m)\u001b[0m\u001b[1;33m\u001b[0m\u001b[1;33m\u001b[0m\u001b[0m\n\u001b[1;32m----> 7\u001b[1;33m \u001b[0mregistration\u001b[0m\u001b[1;33m(\u001b[0m\u001b[1;34m\"jay\"\u001b[0m\u001b[1;33m,\u001b[0m\u001b[1;34m\"2017-FEB-28\"\u001b[0m\u001b[1;33m)\u001b[0m\u001b[1;33m\u001b[0m\u001b[1;33m\u001b[0m\u001b[0m\n\u001b[0m\u001b[0;32m      8\u001b[0m \u001b[1;33m\u001b[0m\u001b[0m\n",
      "\u001b[1;31mTypeError\u001b[0m: registration() missing 1 required positional argument: 'pan'"
     ]
    }
   ],
   "source": [
    "def registration(name,dob,pan,adhar=\"\",passport=None,weight=1,height=1):#default parameters\n",
    "    \"\"\"\n",
    "    name,dob,pan mandatory parameters.\n",
    "    passport,weight,height optional parameters.\n",
    "    \"\"\"\n",
    "    print(f\"name={name}, dob={dob}, pan={pan}, adhar={adhar}, passport={passport}, weight={weight}, height={height}\")\n",
    "registration(\"jay\",\"2017-FEB-28\")\n",
    "    "
   ]
  },
  {
   "cell_type": "code",
   "execution_count": 7,
   "metadata": {},
   "outputs": [
    {
     "name": "stdout",
     "output_type": "stream",
     "text": [
      "name=jay, dob=2017-FEB-28, pan=pan@1234, adhar=adhar@1234, passport=passport@1234, weight=weight@124, height=height@1234\n"
     ]
    }
   ],
   "source": [
    "def registration(name,dob,pan,adhar=\"\",passport=None,weight=1,height=1):#default parameters\n",
    "    \"\"\"\n",
    "    name,dob,pan mandatory parameters.\n",
    "    passport,weight,height optional parameters.\n",
    "    \"\"\"\n",
    "    print(f\"name={name}, dob={dob}, pan={pan}, adhar={adhar}, passport={passport}, weight={weight}, height={height}\")\n",
    "registration(\"jay\",\"2017-FEB-28\",\"pan@1234\",\"adhar@1234\",\"passport@1234\",\"weight@124\",\"height@1234\")\n",
    "    "
   ]
  },
  {
   "cell_type": "code",
   "execution_count": 8,
   "metadata": {},
   "outputs": [
    {
     "ename": "TypeError",
     "evalue": "registration() takes from 3 to 7 positional arguments but 9 were given",
     "output_type": "error",
     "traceback": [
      "\u001b[1;31m---------------------------------------------------------------------------\u001b[0m",
      "\u001b[1;31mTypeError\u001b[0m                                 Traceback (most recent call last)",
      "\u001b[1;32m<ipython-input-8-5d2f7e404d74>\u001b[0m in \u001b[0;36m<module>\u001b[1;34m\u001b[0m\n\u001b[0;32m      5\u001b[0m     \"\"\"\n\u001b[0;32m      6\u001b[0m     \u001b[0mprint\u001b[0m\u001b[1;33m(\u001b[0m\u001b[1;34mf\"name={name}, dob={dob}, pan={pan}, adhar={adhar}, passport={passport}, weight={weight}, height={height}\"\u001b[0m\u001b[1;33m)\u001b[0m\u001b[1;33m\u001b[0m\u001b[1;33m\u001b[0m\u001b[0m\n\u001b[1;32m----> 7\u001b[1;33m \u001b[0mregistration\u001b[0m\u001b[1;33m(\u001b[0m\u001b[1;34m\"jay\"\u001b[0m\u001b[1;33m,\u001b[0m\u001b[1;34m\"2017-FEB-28\"\u001b[0m\u001b[1;33m,\u001b[0m\u001b[1;34m\"pan@1234\"\u001b[0m\u001b[1;33m,\u001b[0m\u001b[1;34m\"adhar@1234\"\u001b[0m\u001b[1;33m,\u001b[0m\u001b[1;34m\"passport@1234\"\u001b[0m\u001b[1;33m,\u001b[0m\u001b[1;34m\"weight@124\"\u001b[0m\u001b[1;33m,\u001b[0m\u001b[1;34m\"height@1234\"\u001b[0m\u001b[1;33m,\u001b[0m\u001b[1;36m1\u001b[0m\u001b[1;33m,\u001b[0m\u001b[1;36m2\u001b[0m\u001b[1;33m)\u001b[0m\u001b[1;33m\u001b[0m\u001b[1;33m\u001b[0m\u001b[0m\n\u001b[0m",
      "\u001b[1;31mTypeError\u001b[0m: registration() takes from 3 to 7 positional arguments but 9 were given"
     ]
    }
   ],
   "source": [
    "def registration(name,dob,pan,adhar=\"\",passport=None,weight=1,height=1):#default parameters\n",
    "    \"\"\"\n",
    "    name,dob,pan mandatory parameters.\n",
    "    passport,weight,height optional parameters.\n",
    "    \"\"\"\n",
    "    print(f\"name={name}, dob={dob}, pan={pan}, adhar={adhar}, passport={passport}, weight={weight}, height={height}\")\n",
    "registration(\"jay\",\"2017-FEB-28\",\"pan@1234\",\"adhar@1234\",\"passport@1234\",\"weight@124\",\"height@1234\",1,2)"
   ]
  },
  {
   "cell_type": "code",
   "execution_count": null,
   "metadata": {},
   "outputs": [],
   "source": [
    "#write a add function which takes minimum 2 numbers and maximum five numbers.\n",
    "add(1,2)\n",
    "add(1,2,3)\n",
    "add(1,2,3,4)\n",
    "add(1,2,3,4,5)"
   ]
  },
  {
   "cell_type": "code",
   "execution_count": 9,
   "metadata": {},
   "outputs": [
    {
     "ename": "TypeError",
     "evalue": "registration() takes from 3 to 7 positional arguments but 9 were given",
     "output_type": "error",
     "traceback": [
      "\u001b[1;31m---------------------------------------------------------------------------\u001b[0m",
      "\u001b[1;31mTypeError\u001b[0m                                 Traceback (most recent call last)",
      "\u001b[1;32m<ipython-input-9-94f01636a94b>\u001b[0m in \u001b[0;36m<module>\u001b[1;34m\u001b[0m\n\u001b[0;32m      5\u001b[0m     \"\"\"\n\u001b[0;32m      6\u001b[0m     \u001b[0mprint\u001b[0m\u001b[1;33m(\u001b[0m\u001b[1;34mf\"name={name}, dob={dob}, pan={pan}, adhar={adhar}, passport={passport}, weight={weight}, height={height}\"\u001b[0m\u001b[1;33m)\u001b[0m\u001b[1;33m\u001b[0m\u001b[1;33m\u001b[0m\u001b[0m\n\u001b[1;32m----> 7\u001b[1;33m \u001b[0mregistration\u001b[0m\u001b[1;33m(\u001b[0m\u001b[1;34m\"jay\"\u001b[0m\u001b[1;33m,\u001b[0m\u001b[1;34m\"2017-FEB-28\"\u001b[0m\u001b[1;33m,\u001b[0m\u001b[1;34m\"pan@1234\"\u001b[0m\u001b[1;33m,\u001b[0m\u001b[1;34m\"adhar@1234\"\u001b[0m\u001b[1;33m,\u001b[0m\u001b[1;34m\"passport@1234\"\u001b[0m\u001b[1;33m,\u001b[0m\u001b[1;34m\"weight@124\"\u001b[0m\u001b[1;33m,\u001b[0m\u001b[1;34m\"height@1234\"\u001b[0m\u001b[1;33m,\u001b[0m\u001b[1;36m1\u001b[0m\u001b[1;33m,\u001b[0m\u001b[1;36m2\u001b[0m\u001b[1;33m)\u001b[0m\u001b[1;33m\u001b[0m\u001b[1;33m\u001b[0m\u001b[0m\n\u001b[0m",
      "\u001b[1;31mTypeError\u001b[0m: registration() takes from 3 to 7 positional arguments but 9 were given"
     ]
    }
   ],
   "source": [
    "def registration(name: str,dob: str,pan: str,adhar: str=\"\",passport: str=None,weight: int=1,height: float=1):#default parameters\n",
    "    \"\"\"\n",
    "    name,dob,pan mandatory parameters.\n",
    "    passport,weight,height optional parameters.\n",
    "    \"\"\"\n",
    "    print(f\"name={name}, dob={dob}, pan={pan}, adhar={adhar}, passport={passport}, weight={weight}, height={height}\")\n",
    "registration(\"jay\",\"2017-FEB-28\",\"pan@1234\",\"adhar@1234\",\"passport@1234\",\"weight@124\",\"height@1234\",1,2)"
   ]
  },
  {
   "cell_type": "code",
   "execution_count": 11,
   "metadata": {},
   "outputs": [
    {
     "name": "stdout",
     "output_type": "stream",
     "text": [
      "name=jay, dob=2017-FEB-28, pan=pan@1234, adhar=adhar@1234, passport=passport@1234, weight=weight@124, height=height@1234\n"
     ]
    }
   ],
   "source": [
    "def registration(name: str,dob: str,pan: str,adhar: str=\"\",passport: str=None,weight: int=1,height: float=1):#default parameters\n",
    "    \"\"\"\n",
    "    name,dob,pan mandatory parameters.\n",
    "    passport,weight,height optional parameters.\n",
    "    \"\"\"\n",
    "    print(f\"name={name}, dob={dob}, pan={pan}, adhar={adhar}, passport={passport}, weight={weight}, height={height}\")\n",
    "registration(\"jay\",\"2017-FEB-28\",\"pan@1234\",\"adhar@1234\",\"passport@1234\",\"weight@124\",\"height@1234\")"
   ]
  },
  {
   "cell_type": "code",
   "execution_count": 12,
   "metadata": {},
   "outputs": [],
   "source": [
    "registration?"
   ]
  },
  {
   "cell_type": "code",
   "execution_count": 13,
   "metadata": {},
   "outputs": [
    {
     "name": "stdout",
     "output_type": "stream",
     "text": [
      "Help on function registration in module __main__:\n",
      "\n",
      "registration(name: str, dob: str, pan: str, adhar: str = '', passport: str = None, weight: int = 1, height: float = 1)\n",
      "    name,dob,pan mandatory parameters.\n",
      "    passport,weight,height optional parameters.\n",
      "\n"
     ]
    }
   ],
   "source": [
    "help(registration)"
   ]
  },
  {
   "cell_type": "code",
   "execution_count": 14,
   "metadata": {},
   "outputs": [
    {
     "name": "stdout",
     "output_type": "stream",
     "text": [
      "not a valid data\n"
     ]
    }
   ],
   "source": [
    "def registration(name: str,dob: str,pan: str,adhar: str=\"\",passport: str=None,weight: int=1,height: float=1):\n",
    "    if not isinstance(height, int) or not isinstance(weight, float):\n",
    "        print(\"not a valid data\")\n",
    "    else:\n",
    "        print(f\"name={name}, dob={dob}, pan={pan}, adhar={adhar}, passport={passport}, weight={weight}, height={height}\")\n",
    "registration(\"jay\",\"2017-FEB-28\",\"pan@1234\",\"adhar@1234\",\"passport@1234\",\"weight@124\",\"height@1234\")"
   ]
  },
  {
   "cell_type": "code",
   "execution_count": 15,
   "metadata": {},
   "outputs": [
    {
     "name": "stdout",
     "output_type": "stream",
     "text": [
      "name=jay, dob=2017-FEB-28, pan=pan@1234, adhar=adhar@1234, passport=passport@1234, weight=23.45, height=3.6\n"
     ]
    }
   ],
   "source": [
    "def registration(name: str,dob: str,pan: str,adhar: str=\"\",passport: str=None,weight: float=1,height: float=1):\n",
    "    if not isinstance(height, float) or not isinstance(weight, float):\n",
    "        print(\"not a valid data\")\n",
    "    else:\n",
    "        print(f\"name={name}, dob={dob}, pan={pan}, adhar={adhar}, passport={passport}, weight={weight}, height={height}\")\n",
    "registration(\"jay\",\"2017-FEB-28\",\"pan@1234\",\"adhar@1234\",\"passport@1234\",23.45,3.6)"
   ]
  },
  {
   "cell_type": "code",
   "execution_count": 17,
   "metadata": {},
   "outputs": [
    {
     "name": "stdout",
     "output_type": "stream",
     "text": [
      "name=jay, dob=2017-FEB-28, pan=pan@1234, adhar=23.45, passport=3.6, weight=1.0, height=1.0\n"
     ]
    }
   ],
   "source": [
    "def registration(name: str,dob: str,pan: str,adhar: str=\"\",passport: str=None,weight: float=1.0,height: float=1.0):\n",
    "    if not isinstance(height, float) or not isinstance(weight, float):\n",
    "        print(\"not a valid data\")\n",
    "    else:\n",
    "        print(f\"name={name}, dob={dob}, pan={pan}, adhar={adhar}, passport={passport}, weight={weight}, height={height}\")\n",
    "registration(\"jay\",\"2017-FEB-28\",\"pan@1234\",23.45,3.6)"
   ]
  },
  {
   "cell_type": "code",
   "execution_count": null,
   "metadata": {},
   "outputs": [],
   "source": [
    "def registration(name,dob,pan,adhar=\"\",passport=None,weight=1.0,height=1.0):\n",
    "    if not isinstance(height, float) or not isinstance(weight, float):\n",
    "        print(\"not a valid data\")\n",
    "    else:\n",
    "        print(f\"name={name}, dob={dob}, pan={pan}, adhar={adhar}, passport={passport}, weight={weight}, height={height}\")\n",
    "registration(\"jay\",\"2017-FEB-28\",\"pan@1234\",height=3.6,weight=23.46)\n",
    "#height=3.6,weight=23.46: keyword arguments.\n",
    "#\"jay\",\"2017-FEB-28\",\"pan@1234: positional arguments"
   ]
  },
  {
   "cell_type": "code",
   "execution_count": 18,
   "metadata": {},
   "outputs": [],
   "source": [
    "import pandas"
   ]
  },
  {
   "cell_type": "code",
   "execution_count": 19,
   "metadata": {},
   "outputs": [],
   "source": [
    "pandas.read_csv?"
   ]
  },
  {
   "cell_type": "code",
   "execution_count": 20,
   "metadata": {},
   "outputs": [
    {
     "name": "stdout",
     "output_type": "stream",
     "text": [
      "name=jay, dob=2017-FEB-28, pan=pan@1234, adhar=, passport=None, weight=23.46, height=3.6\n"
     ]
    }
   ],
   "source": [
    "def registration(name,dob,pan,adhar=\"\",passport=None,weight=1.0,height=1.0):\n",
    "    if not isinstance(height, float) or not isinstance(weight, float):\n",
    "        print(\"not a valid data\")\n",
    "    else:\n",
    "        print(f\"name={name}, dob={dob}, pan={pan}, adhar={adhar}, passport={passport}, weight={weight}, height={height}\")\n",
    "registration(name=\"jay\",pan=\"pan@1234\",dob=\"2017-FEB-28\",height=3.6,weight=23.46)\n"
   ]
  },
  {
   "cell_type": "code",
   "execution_count": 21,
   "metadata": {},
   "outputs": [],
   "source": [
    "#def add():\n",
    "#add()\n",
    "#add(1)\n",
    "#add(1,2,3,4,5,6,7,8,9)\n",
    "#add(1,2,3,4,5,6,7,8,9,12,13,14,15,16,17,18)"
   ]
  },
  {
   "cell_type": "code",
   "execution_count": 22,
   "metadata": {},
   "outputs": [
    {
     "name": "stdout",
     "output_type": "stream",
     "text": [
      "() <class 'tuple'>\n",
      "(1, 2) <class 'tuple'>\n"
     ]
    }
   ],
   "source": [
    "def add(*k):#*args\n",
    "    print(k, type(k))\n",
    "add()\n",
    "add(1,2)"
   ]
  },
  {
   "cell_type": "code",
   "execution_count": 23,
   "metadata": {},
   "outputs": [
    {
     "ename": "TypeError",
     "evalue": "add() missing 1 required positional argument: 'k'",
     "output_type": "error",
     "traceback": [
      "\u001b[1;31m---------------------------------------------------------------------------\u001b[0m",
      "\u001b[1;31mTypeError\u001b[0m                                 Traceback (most recent call last)",
      "\u001b[1;32m<ipython-input-23-f25a951608f8>\u001b[0m in \u001b[0;36m<module>\u001b[1;34m\u001b[0m\n\u001b[0;32m      1\u001b[0m \u001b[1;32mdef\u001b[0m \u001b[0madd\u001b[0m\u001b[1;33m(\u001b[0m\u001b[0mk\u001b[0m\u001b[1;33m)\u001b[0m\u001b[1;33m:\u001b[0m\u001b[1;31m#*args\u001b[0m\u001b[1;33m\u001b[0m\u001b[1;33m\u001b[0m\u001b[0m\n\u001b[0;32m      2\u001b[0m     \u001b[0mprint\u001b[0m\u001b[1;33m(\u001b[0m\u001b[0mk\u001b[0m\u001b[1;33m,\u001b[0m \u001b[0mtype\u001b[0m\u001b[1;33m(\u001b[0m\u001b[0mk\u001b[0m\u001b[1;33m)\u001b[0m\u001b[1;33m)\u001b[0m\u001b[1;33m\u001b[0m\u001b[1;33m\u001b[0m\u001b[0m\n\u001b[1;32m----> 3\u001b[1;33m \u001b[0madd\u001b[0m\u001b[1;33m(\u001b[0m\u001b[1;33m)\u001b[0m\u001b[1;33m\u001b[0m\u001b[1;33m\u001b[0m\u001b[0m\n\u001b[0m\u001b[0;32m      4\u001b[0m \u001b[0madd\u001b[0m\u001b[1;33m(\u001b[0m\u001b[1;36m1\u001b[0m\u001b[1;33m,\u001b[0m\u001b[1;36m2\u001b[0m\u001b[1;33m)\u001b[0m\u001b[1;33m\u001b[0m\u001b[1;33m\u001b[0m\u001b[0m\n",
      "\u001b[1;31mTypeError\u001b[0m: add() missing 1 required positional argument: 'k'"
     ]
    }
   ],
   "source": [
    "def add(k):#*args\n",
    "    print(k, type(k))\n",
    "add()\n",
    "add(1,2)"
   ]
  },
  {
   "cell_type": "code",
   "execution_count": 25,
   "metadata": {},
   "outputs": [
    {
     "name": "stdout",
     "output_type": "stream",
     "text": [
      "1 <class 'int'>\n",
      "(1, 2) <class 'tuple'>\n"
     ]
    }
   ],
   "source": [
    "def add(k):#*args\n",
    "    print(k, type(k))\n",
    "add(1)\n",
    "add((1,2))"
   ]
  },
  {
   "cell_type": "code",
   "execution_count": 26,
   "metadata": {},
   "outputs": [
    {
     "name": "stdout",
     "output_type": "stream",
     "text": [
      "() <class 'tuple'>\n",
      "0\n",
      "(1, 2) <class 'tuple'>\n",
      "3\n",
      "(1, 2, 3, 4, 5, 6, 7, 8, 9) <class 'tuple'>\n",
      "45\n",
      "(1, 2, 3, 4, 5, 6, 7, 8, 9, 121, 13, 14, 15, 16, 17, 18, 19) <class 'tuple'>\n",
      "278\n"
     ]
    }
   ],
   "source": [
    "def add(*k):#*args\n",
    "    print(k, type(k))\n",
    "    print(sum(k))\n",
    "add()\n",
    "add(1,2)\n",
    "add(1,2,3,4,5,6,7,8,9)\n",
    "add(1,2,3,4,5,6,7,8,9,121,13,14,15,16,17,18,19)"
   ]
  },
  {
   "cell_type": "code",
   "execution_count": 27,
   "metadata": {},
   "outputs": [
    {
     "ename": "TypeError",
     "evalue": "registration() missing 1 required positional argument: 'pan'",
     "output_type": "error",
     "traceback": [
      "\u001b[1;31m---------------------------------------------------------------------------\u001b[0m",
      "\u001b[1;31mTypeError\u001b[0m                                 Traceback (most recent call last)",
      "\u001b[1;32m<ipython-input-27-faebcd36dea6>\u001b[0m in \u001b[0;36m<module>\u001b[1;34m\u001b[0m\n\u001b[0;32m      4\u001b[0m     \u001b[1;32melse\u001b[0m\u001b[1;33m:\u001b[0m\u001b[1;33m\u001b[0m\u001b[1;33m\u001b[0m\u001b[0m\n\u001b[0;32m      5\u001b[0m         \u001b[0mprint\u001b[0m\u001b[1;33m(\u001b[0m\u001b[1;34mf\"name={name}, dob={dob}, pan={pan}, adhar={adhar}, passport={passport}, weight={weight}, height={height}\"\u001b[0m\u001b[1;33m)\u001b[0m\u001b[1;33m\u001b[0m\u001b[1;33m\u001b[0m\u001b[0m\n\u001b[1;32m----> 6\u001b[1;33m \u001b[0mregistration\u001b[0m\u001b[1;33m(\u001b[0m\u001b[0mname\u001b[0m\u001b[1;33m=\u001b[0m\u001b[1;34m\"jay\"\u001b[0m\u001b[1;33m,\u001b[0m\u001b[0mdob\u001b[0m\u001b[1;33m=\u001b[0m\u001b[1;34m\"2017-FEB-28\"\u001b[0m\u001b[1;33m,\u001b[0m\u001b[0mheight\u001b[0m\u001b[1;33m=\u001b[0m\u001b[1;36m3.6\u001b[0m\u001b[1;33m,\u001b[0m\u001b[0mweight\u001b[0m\u001b[1;33m=\u001b[0m\u001b[1;36m23.46\u001b[0m\u001b[1;33m)\u001b[0m\u001b[1;33m\u001b[0m\u001b[1;33m\u001b[0m\u001b[0m\n\u001b[0m",
      "\u001b[1;31mTypeError\u001b[0m: registration() missing 1 required positional argument: 'pan'"
     ]
    }
   ],
   "source": [
    "def registration(name,dob,pan,adhar=\"\",passport=None,weight=1.0,height=1.0):\n",
    "    if not isinstance(height, float) or not isinstance(weight, float):\n",
    "        print(\"not a valid data\")\n",
    "    else:\n",
    "        print(f\"name={name}, dob={dob}, pan={pan}, adhar={adhar}, passport={passport}, weight={weight}, height={height}\")\n",
    "registration(name=\"jay\",dob=\"2017-FEB-28\",height=3.6,weight=23.46)"
   ]
  },
  {
   "cell_type": "code",
   "execution_count": 28,
   "metadata": {},
   "outputs": [
    {
     "name": "stdout",
     "output_type": "stream",
     "text": [
      "name=jay, dob=2017-FEB-28, pan=pan@1234, adhar=, passport=None, weight=23.46, height=3.6\n"
     ]
    }
   ],
   "source": [
    "def registration(name,dob,pan,adhar=\"\",passport=None,weight=1.0,height=1.0):\n",
    "    if not isinstance(height, float) or not isinstance(weight, float):\n",
    "        print(\"not a valid data\")\n",
    "    else:\n",
    "        print(f\"name={name}, dob={dob}, pan={pan}, adhar={adhar}, passport={passport}, weight={weight}, height={height}\")\n",
    "registration(\"jay\",pan=\"pan@1234\",dob=\"2017-FEB-28\",height=3.6,weight=23.46)"
   ]
  },
  {
   "cell_type": "code",
   "execution_count": 29,
   "metadata": {},
   "outputs": [
    {
     "ename": "TypeError",
     "evalue": "registration() got multiple values for argument 'name'",
     "output_type": "error",
     "traceback": [
      "\u001b[1;31m---------------------------------------------------------------------------\u001b[0m",
      "\u001b[1;31mTypeError\u001b[0m                                 Traceback (most recent call last)",
      "\u001b[1;32m<ipython-input-29-708de58bf2b6>\u001b[0m in \u001b[0;36m<module>\u001b[1;34m\u001b[0m\n\u001b[0;32m      4\u001b[0m     \u001b[1;32melse\u001b[0m\u001b[1;33m:\u001b[0m\u001b[1;33m\u001b[0m\u001b[1;33m\u001b[0m\u001b[0m\n\u001b[0;32m      5\u001b[0m         \u001b[0mprint\u001b[0m\u001b[1;33m(\u001b[0m\u001b[1;34mf\"name={name}, dob={dob}, pan={pan}, adhar={adhar}, passport={passport}, weight={weight}, height={height}\"\u001b[0m\u001b[1;33m)\u001b[0m\u001b[1;33m\u001b[0m\u001b[1;33m\u001b[0m\u001b[0m\n\u001b[1;32m----> 6\u001b[1;33m \u001b[0mregistration\u001b[0m\u001b[1;33m(\u001b[0m\u001b[1;34m\"jay\"\u001b[0m\u001b[1;33m,\u001b[0m\u001b[0mpan\u001b[0m\u001b[1;33m=\u001b[0m\u001b[1;34m\"pan@1234\"\u001b[0m\u001b[1;33m,\u001b[0m\u001b[0mdob\u001b[0m\u001b[1;33m=\u001b[0m\u001b[1;34m\"2017-FEB-28\"\u001b[0m\u001b[1;33m,\u001b[0m\u001b[0mheight\u001b[0m\u001b[1;33m=\u001b[0m\u001b[1;36m3.6\u001b[0m\u001b[1;33m,\u001b[0m\u001b[0mweight\u001b[0m\u001b[1;33m=\u001b[0m\u001b[1;36m23.46\u001b[0m\u001b[1;33m,\u001b[0m\u001b[0mname\u001b[0m\u001b[1;33m=\u001b[0m\u001b[1;34m\"JAYARAM\"\u001b[0m\u001b[1;33m)\u001b[0m\u001b[1;33m\u001b[0m\u001b[1;33m\u001b[0m\u001b[0m\n\u001b[0m",
      "\u001b[1;31mTypeError\u001b[0m: registration() got multiple values for argument 'name'"
     ]
    }
   ],
   "source": [
    "def registration(name,dob,pan,adhar=\"\",passport=None,weight=1.0,height=1.0):\n",
    "    if not isinstance(height, float) or not isinstance(weight, float):\n",
    "        print(\"not a valid data\")\n",
    "    else:\n",
    "        print(f\"name={name}, dob={dob}, pan={pan}, adhar={adhar}, passport={passport}, weight={weight}, height={height}\")\n",
    "registration(\"jay\",pan=\"pan@1234\",dob=\"2017-FEB-28\",height=3.6,weight=23.46,name=\"JAYARAM\")"
   ]
  },
  {
   "cell_type": "code",
   "execution_count": 30,
   "metadata": {},
   "outputs": [
    {
     "ename": "SyntaxError",
     "evalue": "keyword argument repeated (<ipython-input-30-59b8606395b0>, line 6)",
     "output_type": "error",
     "traceback": [
      "\u001b[1;36m  File \u001b[1;32m\"<ipython-input-30-59b8606395b0>\"\u001b[1;36m, line \u001b[1;32m6\u001b[0m\n\u001b[1;33m    registration(name=\"jay\",pan=\"pan@1234\",dob=\"2017-FEB-28\",height=3.6,weight=23.46,name=\"JAYARAM\")\u001b[0m\n\u001b[1;37m                                                                                     ^\u001b[0m\n\u001b[1;31mSyntaxError\u001b[0m\u001b[1;31m:\u001b[0m keyword argument repeated\n"
     ]
    }
   ],
   "source": [
    "def registration(name,dob,pan,adhar=\"\",passport=None,weight=1.0,height=1.0):\n",
    "    if not isinstance(height, float) or not isinstance(weight, float):\n",
    "        print(\"not a valid data\")\n",
    "    else:\n",
    "        print(f\"name={name}, dob={dob}, pan={pan}, adhar={adhar}, passport={passport}, weight={weight}, height={height}\")\n",
    "registration(name=\"jay\",pan=\"pan@1234\",dob=\"2017-FEB-28\",height=3.6,weight=23.46,name=\"JAYARAM\")"
   ]
  },
  {
   "cell_type": "code",
   "execution_count": 31,
   "metadata": {},
   "outputs": [
    {
     "ename": "TypeError",
     "evalue": "registration() got an unexpected keyword argument 'cell'",
     "output_type": "error",
     "traceback": [
      "\u001b[1;31m---------------------------------------------------------------------------\u001b[0m",
      "\u001b[1;31mTypeError\u001b[0m                                 Traceback (most recent call last)",
      "\u001b[1;32m<ipython-input-31-2c43ffa5e1e6>\u001b[0m in \u001b[0;36m<module>\u001b[1;34m\u001b[0m\n\u001b[0;32m      4\u001b[0m     \u001b[1;32melse\u001b[0m\u001b[1;33m:\u001b[0m\u001b[1;33m\u001b[0m\u001b[1;33m\u001b[0m\u001b[0m\n\u001b[0;32m      5\u001b[0m         \u001b[0mprint\u001b[0m\u001b[1;33m(\u001b[0m\u001b[1;34mf\"name={name}, dob={dob}, pan={pan}, adhar={adhar}, passport={passport}, weight={weight}, height={height}\"\u001b[0m\u001b[1;33m)\u001b[0m\u001b[1;33m\u001b[0m\u001b[1;33m\u001b[0m\u001b[0m\n\u001b[1;32m----> 6\u001b[1;33m \u001b[0mregistration\u001b[0m\u001b[1;33m(\u001b[0m\u001b[1;34m\"jay\"\u001b[0m\u001b[1;33m,\u001b[0m\u001b[0mpan\u001b[0m\u001b[1;33m=\u001b[0m\u001b[1;34m\"pan@1234\"\u001b[0m\u001b[1;33m,\u001b[0m\u001b[0mdob\u001b[0m\u001b[1;33m=\u001b[0m\u001b[1;34m\"2017-FEB-28\"\u001b[0m\u001b[1;33m,\u001b[0m\u001b[0mheight\u001b[0m\u001b[1;33m=\u001b[0m\u001b[1;36m3.6\u001b[0m\u001b[1;33m,\u001b[0m\u001b[0mweight\u001b[0m\u001b[1;33m=\u001b[0m\u001b[1;36m23.46\u001b[0m\u001b[1;33m,\u001b[0m\u001b[0mcell\u001b[0m\u001b[1;33m=\u001b[0m\u001b[1;34m\"9676622023\"\u001b[0m\u001b[1;33m,\u001b[0m\u001b[0memail\u001b[0m\u001b[1;33m=\u001b[0m\u001b[1;34m\"jay@gmail.com\"\u001b[0m\u001b[1;33m)\u001b[0m\u001b[1;33m\u001b[0m\u001b[1;33m\u001b[0m\u001b[0m\n\u001b[0m",
      "\u001b[1;31mTypeError\u001b[0m: registration() got an unexpected keyword argument 'cell'"
     ]
    }
   ],
   "source": [
    "def registration(name,dob,pan,adhar=\"\",passport=None,weight=1.0,height=1.0):\n",
    "    if not isinstance(height, float) or not isinstance(weight, float):\n",
    "        print(\"not a valid data\")\n",
    "    else:\n",
    "        print(f\"name={name}, dob={dob}, pan={pan}, adhar={adhar}, passport={passport}, weight={weight}, height={height}\")\n",
    "registration(\"jay\",pan=\"pan@1234\",dob=\"2017-FEB-28\",height=3.6,weight=23.46,cell=\"9676622023\",email=\"jay@gmail.com\")"
   ]
  },
  {
   "cell_type": "code",
   "execution_count": 32,
   "metadata": {},
   "outputs": [
    {
     "ename": "TypeError",
     "evalue": "add() takes 0 positional arguments but 2 were given",
     "output_type": "error",
     "traceback": [
      "\u001b[1;31m---------------------------------------------------------------------------\u001b[0m",
      "\u001b[1;31mTypeError\u001b[0m                                 Traceback (most recent call last)",
      "\u001b[1;32m<ipython-input-32-ef29b49c20f8>\u001b[0m in \u001b[0;36m<module>\u001b[1;34m\u001b[0m\n\u001b[0;32m      1\u001b[0m \u001b[1;32mdef\u001b[0m \u001b[0madd\u001b[0m\u001b[1;33m(\u001b[0m\u001b[1;33m**\u001b[0m\u001b[0mk\u001b[0m\u001b[1;33m)\u001b[0m\u001b[1;33m:\u001b[0m\u001b[1;31m#**kwargs\u001b[0m\u001b[1;33m\u001b[0m\u001b[1;33m\u001b[0m\u001b[0m\n\u001b[0;32m      2\u001b[0m     \u001b[0mprint\u001b[0m\u001b[1;33m(\u001b[0m\u001b[0mk\u001b[0m\u001b[1;33m,\u001b[0m \u001b[0mtype\u001b[0m\u001b[1;33m(\u001b[0m\u001b[0mk\u001b[0m\u001b[1;33m)\u001b[0m\u001b[1;33m)\u001b[0m\u001b[1;33m\u001b[0m\u001b[1;33m\u001b[0m\u001b[0m\n\u001b[1;32m----> 3\u001b[1;33m \u001b[0madd\u001b[0m\u001b[1;33m(\u001b[0m\u001b[1;36m10\u001b[0m\u001b[1;33m,\u001b[0m\u001b[1;36m20\u001b[0m\u001b[1;33m)\u001b[0m\u001b[1;33m\u001b[0m\u001b[1;33m\u001b[0m\u001b[0m\n\u001b[0m",
      "\u001b[1;31mTypeError\u001b[0m: add() takes 0 positional arguments but 2 were given"
     ]
    }
   ],
   "source": [
    "def add(**k):#**kwargs\n",
    "    print(k, type(k))\n",
    "add(10,20)"
   ]
  },
  {
   "cell_type": "code",
   "execution_count": 33,
   "metadata": {},
   "outputs": [
    {
     "name": "stdout",
     "output_type": "stream",
     "text": [
      "{'a': 1, 'b': 2, 'c': 3, 'd': 4} <class 'dict'>\n"
     ]
    }
   ],
   "source": [
    "def add(**k):#**kwargs\n",
    "    print(k, type(k))\n",
    "add(a=1,b=2,c=3,d=4)"
   ]
  },
  {
   "cell_type": "code",
   "execution_count": 34,
   "metadata": {},
   "outputs": [
    {
     "name": "stdout",
     "output_type": "stream",
     "text": [
      "a=10,b=20,c=0,d=0,x=(),k={}\n",
      "a=10,b=20,c=30,d=40,x=(),k={}\n",
      "a=1,b=2,c=3,d=4,x=(5, 6, 7, 8, 9),k={}\n"
     ]
    }
   ],
   "source": [
    "def add(a,b,c=0,d=0,*x,**k):\n",
    "    print(f\"a={a},b={b},c={c},d={d},x={x},k={k}\")\n",
    "add(10,20)\n",
    "add(10,20,30,40)\n",
    "add(1,2,3,4,5,6,7,8,9)"
   ]
  },
  {
   "cell_type": "code",
   "execution_count": 35,
   "metadata": {},
   "outputs": [
    {
     "name": "stdout",
     "output_type": "stream",
     "text": [
      "a=10,b=20,c=0,d=0,x=(),k={}\n",
      "a=10,b=20,c=30,d=40,x=(),k={}\n",
      "a=1,b=2,c=3,d=4,x=(5, 6, 7, 8, 9),k={'e': 10, 'f': 20, 'g': 40}\n"
     ]
    }
   ],
   "source": [
    "def add(a,b,c=0,d=0,*x,**k):\n",
    "    print(f\"a={a},b={b},c={c},d={d},x={x},k={k}\")\n",
    "add(10,20)\n",
    "add(10,20,30,40)\n",
    "add(1,2,3,4,5,6,7,8,9,e=10,f=20,g=40)"
   ]
  },
  {
   "cell_type": "code",
   "execution_count": 36,
   "metadata": {},
   "outputs": [
    {
     "ename": "SyntaxError",
     "evalue": "non-default argument follows default argument (<ipython-input-36-918560655c9d>, line 1)",
     "output_type": "error",
     "traceback": [
      "\u001b[1;36m  File \u001b[1;32m\"<ipython-input-36-918560655c9d>\"\u001b[1;36m, line \u001b[1;32m1\u001b[0m\n\u001b[1;33m    def add(a,b,c=0,d=0,y,*x,**k):\u001b[0m\n\u001b[1;37m            ^\u001b[0m\n\u001b[1;31mSyntaxError\u001b[0m\u001b[1;31m:\u001b[0m non-default argument follows default argument\n"
     ]
    }
   ],
   "source": [
    "def add(a,b,c=0,d=0,y,*x,**k):\n",
    "    print(f\"a={a},b={b},c={c},d={d},x={x},k={k}\")\n",
    "add(10,20)\n",
    "add(10,20,30,40)\n",
    "add(1,2,3,4,5,6,7,8,9,e=10,f=20,g=40)"
   ]
  },
  {
   "cell_type": "code",
   "execution_count": 37,
   "metadata": {},
   "outputs": [
    {
     "name": "stdout",
     "output_type": "stream",
     "text": [
      "a=10,b=20,c=0,d=0,x=(),k={}\n",
      "a=10,b=20,c=0,d=0,x=(30, 40),k={}\n",
      "a=1,b=2,c=0,d=0,x=(3, 4, 5, 6, 7, 8, 9),k={'e': 10, 'f': 20, 'g': 40}\n"
     ]
    }
   ],
   "source": [
    "def add(a,b,*x,c=0,d=0,**k):\n",
    "    print(f\"a={a},b={b},c={c},d={d},x={x},k={k}\")\n",
    "add(10,20)\n",
    "add(10,20,30,40)\n",
    "add(1,2,3,4,5,6,7,8,9,e=10,f=20,g=40)"
   ]
  },
  {
   "cell_type": "code",
   "execution_count": 1,
   "metadata": {},
   "outputs": [
    {
     "name": "stdout",
     "output_type": "stream",
     "text": [
      "res= None\n"
     ]
    }
   ],
   "source": [
    "def add(x,y):\n",
    "    z=x+y\n",
    "res=add(10,20)\n",
    "print(\"res=\",res)"
   ]
  },
  {
   "cell_type": "code",
   "execution_count": 2,
   "metadata": {},
   "outputs": [
    {
     "name": "stdout",
     "output_type": "stream",
     "text": [
      "res= None\n"
     ]
    }
   ],
   "source": [
    "def add(x,y):\n",
    "    z=x+y\n",
    "    a=x-y\n",
    "    b=x*y\n",
    "    c=x/y\n",
    "res=add(10,20)\n",
    "print(\"res=\",res)"
   ]
  },
  {
   "cell_type": "code",
   "execution_count": 3,
   "metadata": {},
   "outputs": [
    {
     "name": "stdout",
     "output_type": "stream",
     "text": [
      "-10 200 0.5 30\n",
      "res= None\n"
     ]
    }
   ],
   "source": [
    "def add(x,y):\n",
    "    z=x+y\n",
    "    a=x-y\n",
    "    b=x*y\n",
    "    c=x/y\n",
    "    print(a,b,c,z)\n",
    "res=add(10,20)\n",
    "print(\"res=\",res)"
   ]
  },
  {
   "cell_type": "code",
   "execution_count": 4,
   "metadata": {},
   "outputs": [
    {
     "name": "stdout",
     "output_type": "stream",
     "text": [
      "-10 200 0.5 30\n",
      "res= HELLO\n"
     ]
    }
   ],
   "source": [
    "def add(x,y):\n",
    "    z=x+y\n",
    "    a=x-y\n",
    "    b=x*y\n",
    "    c=x/y\n",
    "    print(a,b,c,z)\n",
    "    return \"HELLO\"\n",
    "res=add(10,20)\n",
    "print(\"res=\",res)"
   ]
  },
  {
   "cell_type": "code",
   "execution_count": 5,
   "metadata": {},
   "outputs": [
    {
     "name": "stdout",
     "output_type": "stream",
     "text": [
      "-10 200 0.5 30\n",
      "res= -10\n"
     ]
    }
   ],
   "source": [
    "def add(x,y):\n",
    "    z=x+y\n",
    "    a=x-y\n",
    "    b=x*y\n",
    "    c=x/y\n",
    "    print(a,b,c,z)\n",
    "    return a\n",
    "res=add(10,20)\n",
    "print(\"res=\",res)"
   ]
  },
  {
   "cell_type": "code",
   "execution_count": 6,
   "metadata": {},
   "outputs": [
    {
     "name": "stdout",
     "output_type": "stream",
     "text": [
      "-10 200 0.5 30\n",
      "res= (-10, 200, 0.5, 30)\n"
     ]
    }
   ],
   "source": [
    "def add(x,y):\n",
    "    z=x+y\n",
    "    a=x-y\n",
    "    b=x*y\n",
    "    c=x/y\n",
    "    print(a,b,c,z)\n",
    "    return a,b,c,z\n",
    "res=add(10,20)\n",
    "print(\"res=\",res)"
   ]
  },
  {
   "cell_type": "code",
   "execution_count": 7,
   "metadata": {},
   "outputs": [
    {
     "name": "stdout",
     "output_type": "stream",
     "text": [
      "res= (-10, 200, 0.5, 30)\n"
     ]
    }
   ],
   "source": [
    "def add(x,y):\n",
    "    z=x+y\n",
    "    a=x-y\n",
    "    b=x*y\n",
    "    c=x/y\n",
    "    return a,b,c,z\n",
    "res=add(10,20)\n",
    "print(\"res=\",res)"
   ]
  },
  {
   "cell_type": "code",
   "execution_count": 8,
   "metadata": {},
   "outputs": [
    {
     "name": "stdout",
     "output_type": "stream",
     "text": [
      "res= None\n"
     ]
    }
   ],
   "source": [
    "def add(x,y):\n",
    "    z=x+y\n",
    "    a=x-y\n",
    "    b=x*y\n",
    "    c=x/y\n",
    "    #return a,b,c,z\n",
    "res=add(10,20)\n",
    "print(\"res=\",res)"
   ]
  },
  {
   "cell_type": "code",
   "execution_count": null,
   "metadata": {},
   "outputs": [],
   "source": [
    "def fun():\n",
    "    print(\"1\")\n",
    "    return 10\n",
    "    print(\"2\")\n",
    "    print(\"3\")\n",
    "    return 20\n",
    "    print(\"4\")\n",
    "    return 30\n",
    "    print(\"5\")\n",
    "    return 40\n",
    "res=fun()\n",
    "print(\"res=\",res)\n",
    "res1=fun()\n",
    "print(\"res1=\"res1)\n"
   ]
  },
  {
   "cell_type": "code",
   "execution_count": 9,
   "metadata": {},
   "outputs": [
    {
     "name": "stdout",
     "output_type": "stream",
     "text": [
      "z= 30\n",
      "res= None\n"
     ]
    }
   ],
   "source": [
    "def add(x,y):\n",
    "    z=x+y\n",
    "    print(\"z=\",z)\n",
    "res=add(10,20)\n",
    "print(\"res=\",res)"
   ]
  },
  {
   "cell_type": "code",
   "execution_count": 10,
   "metadata": {},
   "outputs": [
    {
     "name": "stdout",
     "output_type": "stream",
     "text": [
      "res= 30\n"
     ]
    }
   ],
   "source": [
    "def add(x,y):\n",
    "    z=x+y\n",
    "    #print(\"z=\",z)\n",
    "    return z\n",
    "res=add(10,20)\n",
    "print(\"res=\",res)"
   ]
  },
  {
   "cell_type": "code",
   "execution_count": 12,
   "metadata": {},
   "outputs": [
    {
     "name": "stdout",
     "output_type": "stream",
     "text": [
      "1\n",
      "res= 10\n",
      "1\n",
      "res1= 10\n",
      "1\n",
      "res2= 10\n",
      "1\n",
      "res3= 10\n"
     ]
    }
   ],
   "source": [
    "def fun():\n",
    "    print(\"1\")\n",
    "    return 10\n",
    "    print(\"2\")\n",
    "    print(\"3\")\n",
    "    return 20\n",
    "    print(\"4\")\n",
    "    return 30\n",
    "    print(\"5\")\n",
    "    return 40\n",
    "res=fun()\n",
    "print(\"res=\",res)\n",
    "res1=fun()\n",
    "print(\"res1=\",res1)\n",
    "res2=fun()\n",
    "print(\"res2=\",res2)\n",
    "res3=fun()\n",
    "print(\"res3=\",res3)"
   ]
  },
  {
   "cell_type": "code",
   "execution_count": 13,
   "metadata": {},
   "outputs": [
    {
     "name": "stdout",
     "output_type": "stream",
     "text": [
      "res= +VE\n",
      "res1= -VE\n"
     ]
    }
   ],
   "source": [
    "#define a function which checks given number if positive or negative. if the given number positive then it has to\n",
    "# return +VE, if the given number is negative then it has to return -VE.\n",
    "def check_number(number):\n",
    "    if number>=0:\n",
    "        return \"+VE\"\n",
    "    else:\n",
    "        return \"-VE\"\n",
    "res=check_number(10)\n",
    "print(\"res=\",res)\n",
    "res1=check_number(-3)\n",
    "print(\"res1=\",res1)"
   ]
  },
  {
   "cell_type": "code",
   "execution_count": null,
   "metadata": {},
   "outputs": [],
   "source": [
    "def fun():\n",
    "    print(\"1\")\n",
    "    yield 10\n",
    "    print(\"2\")\n",
    "    print(\"3\")\n",
    "    yield 20\n",
    "    print(\"4\")\n",
    "    yield 30\n",
    "    print(\"5\")\n",
    "    yield 40\n",
    "res=fun()\n",
    "print(\"res=\",res)\n"
   ]
  },
  {
   "cell_type": "code",
   "execution_count": 14,
   "metadata": {},
   "outputs": [
    {
     "name": "stdout",
     "output_type": "stream",
     "text": [
      "1\n",
      "res= 10\n"
     ]
    }
   ],
   "source": [
    "def fun():\n",
    "    print(\"1\")\n",
    "    return 10\n",
    "res=fun()\n",
    "print(\"res=\",res)"
   ]
  },
  {
   "cell_type": "code",
   "execution_count": 15,
   "metadata": {},
   "outputs": [
    {
     "name": "stdout",
     "output_type": "stream",
     "text": [
      "res= <generator object fun at 0x000001DB116EAF90>\n"
     ]
    }
   ],
   "source": [
    "def fun():\n",
    "    print(\"1\")\n",
    "    yield 10\n",
    "    print(\"2\")\n",
    "    print(\"3\")\n",
    "    yield 20\n",
    "    print(\"4\")\n",
    "    yield 30\n",
    "    print(\"5\")\n",
    "    yield 40\n",
    "res=fun()\n",
    "print(\"res=\",res)"
   ]
  },
  {
   "cell_type": "code",
   "execution_count": 16,
   "metadata": {},
   "outputs": [
    {
     "name": "stdout",
     "output_type": "stream",
     "text": [
      "res= <generator object fun at 0x000001DB11F120B0>\n",
      "1\n",
      "r1= 10\n",
      "2\n",
      "3\n",
      "r2= 20\n"
     ]
    }
   ],
   "source": [
    "def fun():\n",
    "    print(\"1\")\n",
    "    yield 10\n",
    "    print(\"2\")\n",
    "    print(\"3\")\n",
    "    yield 20\n",
    "    print(\"4\")\n",
    "    yield 30\n",
    "    print(\"5\")\n",
    "    yield 40\n",
    "res=fun()\n",
    "print(\"res=\",res)\n",
    "r1=next(res)\n",
    "print(\"r1=\",r1)\n",
    "r2=next(res)\n",
    "print(\"r2=\",r2)"
   ]
  },
  {
   "cell_type": "code",
   "execution_count": 17,
   "metadata": {},
   "outputs": [
    {
     "name": "stdout",
     "output_type": "stream",
     "text": [
      "res= <generator object fun at 0x000001DB11F122E0>\n",
      "1\n",
      "r1= 10\n",
      "2\n",
      "3\n",
      "r2= 20\n",
      "4\n",
      "r3= 30\n"
     ]
    }
   ],
   "source": [
    "def fun():\n",
    "    print(\"1\")\n",
    "    yield 10\n",
    "    print(\"2\")\n",
    "    print(\"3\")\n",
    "    yield 20\n",
    "    print(\"4\")\n",
    "    yield 30\n",
    "    print(\"5\")\n",
    "    yield 40\n",
    "res=fun()\n",
    "print(\"res=\",res)\n",
    "r1=next(res)\n",
    "print(\"r1=\",r1)\n",
    "r2=next(res)\n",
    "print(\"r2=\",r2)\n",
    "r3=next(res)\n",
    "print(\"r3=\",r3)"
   ]
  },
  {
   "cell_type": "code",
   "execution_count": 18,
   "metadata": {},
   "outputs": [
    {
     "name": "stdout",
     "output_type": "stream",
     "text": [
      "res= <generator object fun at 0x000001DB11F125F0>\n",
      "1\n",
      "r1= 10\n",
      "2\n",
      "3\n",
      "r2= 20\n",
      "4\n",
      "r3= 30\n",
      "5\n",
      "r4= 40\n"
     ]
    }
   ],
   "source": [
    "def fun():\n",
    "    print(\"1\")\n",
    "    yield 10\n",
    "    print(\"2\")\n",
    "    print(\"3\")\n",
    "    yield 20\n",
    "    print(\"4\")\n",
    "    yield 30\n",
    "    print(\"5\")\n",
    "    yield 40\n",
    "res=fun()\n",
    "print(\"res=\",res)\n",
    "r1=next(res)\n",
    "print(\"r1=\",r1)\n",
    "r2=next(res)\n",
    "print(\"r2=\",r2)\n",
    "r3=next(res)\n",
    "print(\"r3=\",r3)\n",
    "r4=next(res)\n",
    "print(\"r4=\",r4)"
   ]
  },
  {
   "cell_type": "code",
   "execution_count": 19,
   "metadata": {},
   "outputs": [
    {
     "name": "stdout",
     "output_type": "stream",
     "text": [
      "res= <generator object fun at 0x000001DB11F12200>\n",
      "1\n",
      "r1= 10\n",
      "2\n",
      "3\n",
      "r2= 20\n",
      "4\n",
      "r3= 30\n",
      "5\n",
      "r4= 40\n"
     ]
    },
    {
     "ename": "StopIteration",
     "evalue": "",
     "output_type": "error",
     "traceback": [
      "\u001b[1;31m---------------------------------------------------------------------------\u001b[0m",
      "\u001b[1;31mStopIteration\u001b[0m                             Traceback (most recent call last)",
      "\u001b[1;32m<ipython-input-19-4a3d0d0ac86c>\u001b[0m in \u001b[0;36m<module>\u001b[1;34m\u001b[0m\n\u001b[0;32m     20\u001b[0m \u001b[0mr4\u001b[0m\u001b[1;33m=\u001b[0m\u001b[0mnext\u001b[0m\u001b[1;33m(\u001b[0m\u001b[0mres\u001b[0m\u001b[1;33m)\u001b[0m\u001b[1;33m\u001b[0m\u001b[1;33m\u001b[0m\u001b[0m\n\u001b[0;32m     21\u001b[0m \u001b[0mprint\u001b[0m\u001b[1;33m(\u001b[0m\u001b[1;34m\"r4=\"\u001b[0m\u001b[1;33m,\u001b[0m\u001b[0mr4\u001b[0m\u001b[1;33m)\u001b[0m\u001b[1;33m\u001b[0m\u001b[1;33m\u001b[0m\u001b[0m\n\u001b[1;32m---> 22\u001b[1;33m \u001b[0mr5\u001b[0m\u001b[1;33m=\u001b[0m\u001b[0mnext\u001b[0m\u001b[1;33m(\u001b[0m\u001b[0mres\u001b[0m\u001b[1;33m)\u001b[0m\u001b[1;33m\u001b[0m\u001b[1;33m\u001b[0m\u001b[0m\n\u001b[0m\u001b[0;32m     23\u001b[0m \u001b[0mprint\u001b[0m\u001b[1;33m(\u001b[0m\u001b[1;34m\"r5=\"\u001b[0m\u001b[1;33m,\u001b[0m\u001b[0mr5\u001b[0m\u001b[1;33m)\u001b[0m\u001b[1;33m\u001b[0m\u001b[1;33m\u001b[0m\u001b[0m\n",
      "\u001b[1;31mStopIteration\u001b[0m: "
     ]
    }
   ],
   "source": [
    "def fun():\n",
    "    print(\"1\")\n",
    "    yield 10\n",
    "    print(\"2\")\n",
    "    print(\"3\")\n",
    "    yield 20\n",
    "    print(\"4\")\n",
    "    yield 30\n",
    "    print(\"5\")\n",
    "    yield 40\n",
    "    \n",
    "res=fun()#generator object\n",
    "print(\"res=\",res)\n",
    "r1=next(res)\n",
    "print(\"r1=\",r1)\n",
    "r2=next(res)\n",
    "print(\"r2=\",r2)\n",
    "r3=next(res)\n",
    "print(\"r3=\",r3)\n",
    "r4=next(res)\n",
    "print(\"r4=\",r4)\n",
    "r5=next(res)\n",
    "print(\"r5=\",r5)"
   ]
  },
  {
   "cell_type": "code",
   "execution_count": 20,
   "metadata": {},
   "outputs": [
    {
     "name": "stdout",
     "output_type": "stream",
     "text": [
      "1\n",
      "hello\n",
      "k= 10\n",
      "2\n",
      "3\n",
      "hello\n",
      "k= 20\n",
      "4\n",
      "hello\n",
      "k= 30\n",
      "5\n",
      "hello\n",
      "k= 40\n",
      "DONE\n"
     ]
    }
   ],
   "source": [
    "def fun():\n",
    "    print(\"1\")\n",
    "    yield 10\n",
    "    print(\"2\")\n",
    "    print(\"3\")\n",
    "    yield 20\n",
    "    print(\"4\")\n",
    "    yield 30\n",
    "    print(\"5\")\n",
    "    yield 40\n",
    "    \n",
    "res=fun()#generator object\n",
    "for k in res:#k=next(res),1->10:k=next(res),2,3->20:k=next(res),4->30:k=next(res),5->40:k=next(res):STOP iteration\n",
    "    print(\"hello\")\n",
    "    print(\"k=\",k)\n",
    "print(\"DONE\")"
   ]
  },
  {
   "cell_type": "code",
   "execution_count": 21,
   "metadata": {},
   "outputs": [
    {
     "name": "stdout",
     "output_type": "stream",
     "text": [
      "1\n",
      "2\n",
      "4\n",
      "8\n",
      "9\n"
     ]
    }
   ],
   "source": [
    "l=[1,2,-3,4,-6,8,9]\n",
    "for i in l:\n",
    "    if i>=0:\n",
    "        print(i)\n",
    "\n"
   ]
  },
  {
   "cell_type": "code",
   "execution_count": 22,
   "metadata": {},
   "outputs": [
    {
     "name": "stdout",
     "output_type": "stream",
     "text": [
      "result= [1, 2, 4, 8, 9]\n"
     ]
    }
   ],
   "source": [
    "l=[1,2,-3,4,-6,8,9]\n",
    "def get_positives(l):\n",
    "    res=[]\n",
    "    for i in l:\n",
    "        if i>=0:\n",
    "            res=res+[i]\n",
    "    return res\n",
    "result=get_positives(l)\n",
    "print(\"result=\",result)\n",
    "\n"
   ]
  },
  {
   "cell_type": "code",
   "execution_count": 24,
   "metadata": {},
   "outputs": [
    {
     "name": "stdout",
     "output_type": "stream",
     "text": [
      "result= [1, 2, 4, 8, 9]\n",
      "do something with 1\n",
      "do something with 2\n",
      "do something with 4\n",
      "do something with 8\n",
      "do something with 9\n"
     ]
    }
   ],
   "source": [
    "l=[1,2,-3,4,-6,8,9]\n",
    "def get_positives(l):\n",
    "    res=[]\n",
    "    for i in l:\n",
    "        if i>=0:\n",
    "            res=res+[i]\n",
    "    return res\n",
    "result=get_positives(l)\n",
    "print(\"result=\",result)\n",
    "for k in result:\n",
    "    print(\"do something with %s\"%k)"
   ]
  },
  {
   "cell_type": "code",
   "execution_count": null,
   "metadata": {},
   "outputs": [],
   "source": [
    "l=[1,2,-3,4,-6,8,9]\n",
    "def get_positives(l):\n",
    "    res=[]\n",
    "    for i in l:\n",
    "        if i>=0:\n",
    "            res=res+[i]\n",
    "    return res\n",
    "result=get_positives(l)# it will formt the list with all positive numbers.in this case5 elements will be stored in the list.\n",
    "print(\"result=\",result)\n",
    "for k in result:\n",
    "    \"\"\"\n",
    "    while it is working with the first number:1, the remaining 4 numbers(2,4,8,9) are sitting idle in the memory\n",
    "    lets second iteration.\n",
    "    while it is working with the second number:2, the remaining 4 numbers(1,4,8,9) are sitting idle in the memory\n",
    "    \"\"\"\n",
    "    print(\"do something with %s\"%k)"
   ]
  },
  {
   "cell_type": "code",
   "execution_count": 25,
   "metadata": {},
   "outputs": [
    {
     "name": "stdout",
     "output_type": "stream",
     "text": [
      "1\n",
      "hello\n",
      "k= 10\n",
      "2\n",
      "3\n",
      "hello\n",
      "k= 20\n",
      "4\n",
      "hello\n",
      "k= 30\n",
      "5\n",
      "hello\n",
      "k= 40\n",
      "second time\n",
      "DONE\n"
     ]
    }
   ],
   "source": [
    "def fun():\n",
    "    print(\"1\")\n",
    "    yield 10\n",
    "    print(\"2\")\n",
    "    print(\"3\")\n",
    "    yield 20\n",
    "    print(\"4\")\n",
    "    yield 30\n",
    "    print(\"5\")\n",
    "    yield 40\n",
    "    \n",
    "res=fun()\n",
    "for k in res:\n",
    "    print(\"hello\")\n",
    "    print(\"k=\",k)\n",
    "print(\"second time\")\n",
    "for i in res:\n",
    "    print(\"i=\",i)\n",
    "print(\"DONE\")"
   ]
  },
  {
   "cell_type": "code",
   "execution_count": 26,
   "metadata": {},
   "outputs": [
    {
     "name": "stdout",
     "output_type": "stream",
     "text": [
      "1\n",
      "k= 10\n",
      "2\n",
      "k= 20\n",
      "second time\n",
      "1\n",
      "i= 10\n",
      "2\n",
      "i= 20\n",
      "DONE\n"
     ]
    }
   ],
   "source": [
    "def fun():\n",
    "    print(\"1\")\n",
    "    yield 10\n",
    "    print(\"2\")\n",
    "    yield 20\n",
    "res=fun()\n",
    "for k in res:\n",
    "    print(\"k=\",k)\n",
    "print(\"second time\")\n",
    "res=fun()\n",
    "for i in res:\n",
    "    print(\"i=\",i)\n",
    "print(\"DONE\")"
   ]
  },
  {
   "cell_type": "code",
   "execution_count": 27,
   "metadata": {},
   "outputs": [
    {
     "name": "stdout",
     "output_type": "stream",
     "text": [
      "1\n",
      "k= 10\n",
      "2\n",
      "k= 20\n",
      "second time\n",
      "DONE\n"
     ]
    }
   ],
   "source": [
    "def fun():\n",
    "    print(\"1\")\n",
    "    yield 10\n",
    "    print(\"2\")\n",
    "    yield 20\n",
    "res=fun()\n",
    "for k in res:\n",
    "    print(\"k=\",k)\n",
    "print(\"second time\")\n",
    "for i in res:\n",
    "    print(\"i=\",i)\n",
    "print(\"DONE\")"
   ]
  },
  {
   "cell_type": "code",
   "execution_count": 28,
   "metadata": {},
   "outputs": [
    {
     "name": "stdout",
     "output_type": "stream",
     "text": [
      "1\n",
      "k= 10\n",
      "2\n",
      "k= 20\n",
      "second time\n",
      "DONE\n",
      "res= <generator object fun at 0x000001DB1187B0B0>\n"
     ]
    }
   ],
   "source": [
    "def fun():\n",
    "    print(\"1\")\n",
    "    yield 10\n",
    "    print(\"2\")\n",
    "    yield 20\n",
    "res=fun()\n",
    "for k in res:\n",
    "    print(\"k=\",k)\n",
    "print(\"second time\")\n",
    "for i in res:\n",
    "    print(\"i=\",i)\n",
    "print(\"DONE\")\n",
    "print(\"res=\",res)"
   ]
  },
  {
   "cell_type": "code",
   "execution_count": 29,
   "metadata": {},
   "outputs": [
    {
     "name": "stdout",
     "output_type": "stream",
     "text": [
      "res= <generator object fun at 0x000001DB1187BCF0>\n",
      "1\n",
      "k= 10\n",
      "2\n",
      "k= 20\n",
      "second time\n",
      "DONE\n",
      "res= <generator object fun at 0x000001DB1187BCF0>\n"
     ]
    }
   ],
   "source": [
    "def fun():\n",
    "    print(\"1\")\n",
    "    yield 10\n",
    "    print(\"2\")\n",
    "    yield 20\n",
    "res=fun()\n",
    "print(\"res=\",res)\n",
    "for k in res:\n",
    "    print(\"k=\",k)\n",
    "print(\"second time\")\n",
    "for i in res:\n",
    "    print(\"i=\",i)\n",
    "print(\"DONE\")\n",
    "print(\"res=\",res)"
   ]
  },
  {
   "cell_type": "code",
   "execution_count": 2,
   "metadata": {},
   "outputs": [
    {
     "name": "stdout",
     "output_type": "stream",
     "text": [
      "result= <generator object get_positives at 0x0000015FEED24190>\n",
      "do something with 1\n",
      "done with 1\n",
      "do something with 2\n",
      "done with 2\n",
      "do something with 4\n",
      "done with 4\n",
      "do something with 8\n",
      "done with 8\n",
      "do something with 9\n",
      "done with 9\n"
     ]
    }
   ],
   "source": [
    "l=[1,2,-3,4,-6,8,9]\n",
    "def get_positives(l):\n",
    "    for i in l:\n",
    "        if i>=0:\n",
    "            yield i\n",
    "            print(\"done with %s\"%i)\n",
    "result=get_positives(l)\n",
    "print(\"result=\",result)# genrator object\n",
    "for k in result:\n",
    "    \"\"\"\n",
    "    while it is working with the first number:1, the remaining 4 numbers(2,4,8,9) are sitting idle in the memory\n",
    "    lets second iteration.\n",
    "    while it is working with the second number:2, the remaining 4 numbers(1,4,8,9) are sitting idle in the memory\n",
    "    \"\"\"\n",
    "    print(\"do something with %s\"%k)"
   ]
  },
  {
   "cell_type": "code",
   "execution_count": 3,
   "metadata": {},
   "outputs": [
    {
     "name": "stdout",
     "output_type": "stream",
     "text": [
      "before fun def a=1000,b=2000,c=4000, x=3000\n",
      "after fun def a=1000,b=2000,c=4000, x=3000\n",
      "inside fun a=1,b=2,c=4000, x=10,y=20\n",
      "after fun call a=1000,b=2,c=4000, x=3000\n"
     ]
    }
   ],
   "source": [
    "a=1000\n",
    "b=2000\n",
    "x=3000\n",
    "c=4000\n",
    "print(f\"before fun def a={a},b={b},c={c}, x={x}\")\n",
    "def fun(x,y):\n",
    "    global b\n",
    "    a=1\n",
    "    b=2\n",
    "    print(f\"inside fun a={a},b={b},c={c}, x={x},y={y}\")\n",
    "print(f\"after fun def a={a},b={b},c={c}, x={x}\")\n",
    "fun(10,20)\n",
    "print(f\"after fun call a={a},b={b},c={c}, x={x}\")"
   ]
  },
  {
   "cell_type": "code",
   "execution_count": 4,
   "metadata": {},
   "outputs": [
    {
     "name": "stdout",
     "output_type": "stream",
     "text": [
      "<function fun at 0x0000015FEECFCAF0>\n"
     ]
    }
   ],
   "source": [
    "def fun():\n",
    "    print(\"hello\")\n",
    "print(fun)# not calling a function.."
   ]
  },
  {
   "cell_type": "code",
   "execution_count": 5,
   "metadata": {},
   "outputs": [
    {
     "name": "stdout",
     "output_type": "stream",
     "text": [
      "hello\n",
      "None\n"
     ]
    }
   ],
   "source": [
    "def fun():\n",
    "    print(\"hello\")\n",
    "print(fun())# not calling a function.."
   ]
  },
  {
   "cell_type": "code",
   "execution_count": 6,
   "metadata": {},
   "outputs": [
    {
     "name": "stdout",
     "output_type": "stream",
     "text": [
      "<function fun at 0x0000015FEECFC550> 1511540114768 <class 'function'>\n"
     ]
    }
   ],
   "source": [
    "def fun():\n",
    "    print(\"hello\")\n",
    "print(fun, id(fun), type(fun))# not calling a function.."
   ]
  },
  {
   "cell_type": "code",
   "execution_count": 8,
   "metadata": {},
   "outputs": [
    {
     "name": "stdout",
     "output_type": "stream",
     "text": [
      "a=1, b=2\n"
     ]
    }
   ],
   "source": [
    "a=1\n",
    "b=2\n",
    "def fun():\n",
    "    global b\n",
    "    b=10\n",
    "print(f\"a={a}, b={b}\")"
   ]
  },
  {
   "cell_type": "code",
   "execution_count": 9,
   "metadata": {},
   "outputs": [
    {
     "name": "stdout",
     "output_type": "stream",
     "text": [
      "a=1, b=10\n"
     ]
    }
   ],
   "source": [
    "a=1\n",
    "b=2\n",
    "def fun():\n",
    "    global b\n",
    "    b=10\n",
    "    a=20\n",
    "fun()\n",
    "print(f\"a={a}, b={b}\")"
   ]
  },
  {
   "cell_type": "code",
   "execution_count": 10,
   "metadata": {},
   "outputs": [
    {
     "name": "stdout",
     "output_type": "stream",
     "text": [
      "a=1, b=2000\n"
     ]
    }
   ],
   "source": [
    "a=1\n",
    "b=2\n",
    "def fun():\n",
    "    global b\n",
    "    b=10\n",
    "    a=20\n",
    "    b=2000\n",
    "fun()\n",
    "print(f\"a={a}, b={b}\")"
   ]
  },
  {
   "cell_type": "code",
   "execution_count": 11,
   "metadata": {},
   "outputs": [
    {
     "name": "stdout",
     "output_type": "stream",
     "text": [
      "a=1, b=4000\n"
     ]
    }
   ],
   "source": [
    "a=1\n",
    "b=2\n",
    "def fun():\n",
    "    global b\n",
    "    b=10\n",
    "    a=20\n",
    "    b=2000\n",
    "fun()\n",
    "b=4000\n",
    "print(f\"a={a}, b={b}\")"
   ]
  },
  {
   "cell_type": "code",
   "execution_count": 12,
   "metadata": {},
   "outputs": [
    {
     "name": "stdout",
     "output_type": "stream",
     "text": [
      "a=1, b=2000\n",
      "a=1, b=4000\n"
     ]
    }
   ],
   "source": [
    "a=1\n",
    "b=2\n",
    "def fun():\n",
    "    global b\n",
    "    b=10\n",
    "    a=20\n",
    "    b=2000\n",
    "fun()\n",
    "print(f\"a={a}, b={b}\")\n",
    "b=4000\n",
    "print(f\"a={a}, b={b}\")"
   ]
  },
  {
   "cell_type": "code",
   "execution_count": 13,
   "metadata": {},
   "outputs": [
    {
     "name": "stdout",
     "output_type": "stream",
     "text": [
      "a=1, b=2\n",
      "a=1, b=4000\n"
     ]
    }
   ],
   "source": [
    "a=1\n",
    "b=2\n",
    "def fun():\n",
    "    b=10\n",
    "    a=20\n",
    "    b=2000\n",
    "fun()\n",
    "print(f\"a={a}, b={b}\")\n",
    "b=4000\n",
    "print(f\"a={a}, b={b}\")"
   ]
  },
  {
   "cell_type": "code",
   "execution_count": null,
   "metadata": {},
   "outputs": [],
   "source": [
    "l=[1000,2000,3000]\n",
    "a=1000\n",
    "def fun(k, x):\n",
    "    k[1]=2\n",
    "    x=2000\n",
    "print(f\"before fun call: a={a},l={l}\")\n",
    "fun(l, a)\n",
    "print(f\"after fun call: a={a},l={l}\")"
   ]
  }
 ],
 "metadata": {
  "kernelspec": {
   "display_name": "Python 3",
   "language": "python",
   "name": "python3"
  },
  "language_info": {
   "codemirror_mode": {
    "name": "ipython",
    "version": 3
   },
   "file_extension": ".py",
   "mimetype": "text/x-python",
   "name": "python",
   "nbconvert_exporter": "python",
   "pygments_lexer": "ipython3",
   "version": "3.8.3"
  }
 },
 "nbformat": 4,
 "nbformat_minor": 4
}
