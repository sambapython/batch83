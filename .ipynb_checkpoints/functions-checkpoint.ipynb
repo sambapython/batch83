{
 "cells": [
  {
   "cell_type": "code",
   "execution_count": 2,
   "metadata": {},
   "outputs": [
    {
     "name": "stdout",
     "output_type": "stream",
     "text": [
      "a=10,b=20\n",
      "result= 30\n",
      "Hyderabad\n",
      "chennai\n",
      "a=100,b=200\n",
      "result= 300\n",
      "Banglore\n",
      "a=1000,b=2000\n",
      "result= 3000\n",
      "Mumbai\n",
      "a=10000,b=20000\n",
      "result= 30000\n"
     ]
    }
   ],
   "source": [
    "a=10\n",
    "b=20\n",
    "print(f\"a={a},b={b}\")\n",
    "res=a+b\n",
    "print(\"result=\",res)\n",
    "print(\"Hyderabad\")\n",
    "print(\"chennai\")\n",
    "a=100\n",
    "b=200\n",
    "print(f\"a={a},b={b}\")\n",
    "res=a+b\n",
    "print(\"result=\",res)\n",
    "print(\"Banglore\")\n",
    "a=1000\n",
    "b=2000\n",
    "print(f\"a={a},b={b}\")\n",
    "res=a+b\n",
    "print(\"result=\",res)\n",
    "print(\"Mumbai\")\n",
    "a=10000\n",
    "b=20000\n",
    "print(f\"a={a},b={b}\")\n",
    "res=a+b\n",
    "print(\"result=\",res)"
   ]
  },
  {
   "cell_type": "code",
   "execution_count": 3,
   "metadata": {},
   "outputs": [
    {
     "name": "stdout",
     "output_type": "stream",
     "text": [
      "a=10,b=20\n",
      "result= 30\n",
      "Hyderabad\n",
      "chennai\n",
      "a=100,b=200\n",
      "result= 300\n",
      "Banglore\n",
      "a=1000,b=2000\n",
      "result= 3000\n",
      "Mumbai\n",
      "a=10000,b=20000\n",
      "result= 30000\n"
     ]
    }
   ],
   "source": [
    "def fun(a,b):\n",
    "    print(f\"a={a},b={b}\")\n",
    "    res=a+b\n",
    "    print(\"result=\",res)\n",
    "fun(10,20)\n",
    "print(\"Hyderabad\")\n",
    "print(\"chennai\")\n",
    "fun(100,200)\n",
    "print(\"Banglore\")\n",
    "fun(1000,2000)\n",
    "print(\"Mumbai\")\n",
    "fun(10000,20000)"
   ]
  },
  {
   "cell_type": "code",
   "execution_count": 4,
   "metadata": {},
   "outputs": [
    {
     "name": "stdout",
     "output_type": "stream",
     "text": [
      "a=10,b=20\n",
      "summation= 30\n",
      "Hyderabad\n",
      "chennai\n",
      "a=100,b=200\n",
      "summation= 300\n",
      "Banglore\n",
      "a=1000,b=2000\n",
      "summation= 3000\n",
      "Mumbai\n",
      "a=10000,b=20000\n",
      "summation= 30000\n"
     ]
    }
   ],
   "source": [
    "def fun(a,b):\n",
    "    print(f\"a={a},b={b}\")\n",
    "    res=a+b\n",
    "    print(\"summation=\",res)\n",
    "fun(10,20)\n",
    "print(\"Hyderabad\")\n",
    "print(\"chennai\")\n",
    "fun(100,200)\n",
    "print(\"Banglore\")\n",
    "fun(1000,2000)\n",
    "print(\"Mumbai\")\n",
    "fun(10000,20000)"
   ]
  },
  {
   "cell_type": "code",
   "execution_count": 5,
   "metadata": {},
   "outputs": [
    {
     "name": "stdout",
     "output_type": "stream",
     "text": [
      "Start\n",
      "End\n"
     ]
    }
   ],
   "source": [
    "print(\"Start\")\n",
    "def fun():\n",
    "    print(\"Hello\")\n",
    "    print(\"HI\")\n",
    "print(\"End\")"
   ]
  },
  {
   "cell_type": "code",
   "execution_count": 6,
   "metadata": {},
   "outputs": [
    {
     "name": "stdout",
     "output_type": "stream",
     "text": [
      "Start\n",
      "End\n",
      "Hello\n",
      "HI\n"
     ]
    }
   ],
   "source": [
    "print(\"Start\")\n",
    "def fun():\n",
    "    print(\"Hello\")\n",
    "    print(\"HI\")\n",
    "print(\"End\")\n",
    "fun()"
   ]
  },
  {
   "cell_type": "code",
   "execution_count": 7,
   "metadata": {},
   "outputs": [
    {
     "name": "stdout",
     "output_type": "stream",
     "text": [
      "Start\n",
      "End\n",
      "Hello\n",
      "HI\n",
      "Hello\n",
      "HI\n"
     ]
    }
   ],
   "source": [
    "print(\"Start\")\n",
    "def fun():\n",
    "    print(\"Hello\")\n",
    "    print(\"HI\")\n",
    "print(\"End\")\n",
    "fun()\n",
    "fun()"
   ]
  },
  {
   "cell_type": "code",
   "execution_count": 8,
   "metadata": {},
   "outputs": [
    {
     "name": "stdout",
     "output_type": "stream",
     "text": [
      "Start\n",
      "End\n",
      "Hello\n",
      "HI\n",
      "Hello\n",
      "HI\n",
      "Hello\n",
      "HI\n"
     ]
    }
   ],
   "source": [
    "print(\"Start\")\n",
    "#function definition\n",
    "def fun():#function signature\n",
    "    #function body\n",
    "    print(\"Hello\")\n",
    "    print(\"HI\")\n",
    "print(\"End\")\n",
    "fun()#function call\n",
    "fun()\n",
    "fun()"
   ]
  },
  {
   "cell_type": "code",
   "execution_count": 1,
   "metadata": {},
   "outputs": [
    {
     "name": "stdout",
     "output_type": "stream",
     "text": [
      "x=10, y=20\n",
      "result= 30\n",
      "x=1, y=2\n",
      "result= 3\n",
      "x=100, y=200\n",
      "result= 300\n",
      "x=1000, y=2000\n",
      "result= 3000\n"
     ]
    }
   ],
   "source": [
    "def add(x,y):#x,y are parameters\n",
    "    print(f\"x={x}, y={y}\")\n",
    "    res=x+y\n",
    "    print(\"result=\",res)\n",
    "add(10,20)#10,20 positional arguments.\n",
    "add(1,2)\n",
    "add(100,200)\n",
    "add(1000,2000)"
   ]
  },
  {
   "cell_type": "code",
   "execution_count": 2,
   "metadata": {},
   "outputs": [],
   "source": [
    "#add,sub,mul,div"
   ]
  },
  {
   "cell_type": "code",
   "execution_count": 3,
   "metadata": {},
   "outputs": [
    {
     "ename": "TypeError",
     "evalue": "registration() missing 4 required positional arguments: 'adhar', 'passport', 'weight', and 'height'",
     "output_type": "error",
     "traceback": [
      "\u001b[1;31m---------------------------------------------------------------------------\u001b[0m",
      "\u001b[1;31mTypeError\u001b[0m                                 Traceback (most recent call last)",
      "\u001b[1;32m<ipython-input-3-01b562763d8c>\u001b[0m in \u001b[0;36m<module>\u001b[1;34m\u001b[0m\n\u001b[0;32m      1\u001b[0m \u001b[1;32mdef\u001b[0m \u001b[0mregistration\u001b[0m\u001b[1;33m(\u001b[0m\u001b[0mname\u001b[0m\u001b[1;33m,\u001b[0m\u001b[0mdob\u001b[0m\u001b[1;33m,\u001b[0m\u001b[0mpan\u001b[0m\u001b[1;33m,\u001b[0m\u001b[0madhar\u001b[0m\u001b[1;33m,\u001b[0m\u001b[0mpassport\u001b[0m\u001b[1;33m,\u001b[0m\u001b[0mweight\u001b[0m\u001b[1;33m,\u001b[0m\u001b[0mheight\u001b[0m\u001b[1;33m)\u001b[0m\u001b[1;33m:\u001b[0m\u001b[1;33m\u001b[0m\u001b[1;33m\u001b[0m\u001b[0m\n\u001b[0;32m      2\u001b[0m     \u001b[0mprint\u001b[0m\u001b[1;33m(\u001b[0m\u001b[1;34mf\"name={name}, dob={dob}, pan={pan}, adhar={adhar}, passport={passport}, weight={weight}, height={height}\"\u001b[0m\u001b[1;33m)\u001b[0m\u001b[1;33m\u001b[0m\u001b[1;33m\u001b[0m\u001b[0m\n\u001b[1;32m----> 3\u001b[1;33m \u001b[0mregistration\u001b[0m\u001b[1;33m(\u001b[0m\u001b[1;34m\"jay\"\u001b[0m\u001b[1;33m,\u001b[0m\u001b[1;34m\"2017-FEB-28\"\u001b[0m\u001b[1;33m,\u001b[0m\u001b[1;34m\"pan@1234\"\u001b[0m\u001b[1;33m)\u001b[0m\u001b[1;33m\u001b[0m\u001b[1;33m\u001b[0m\u001b[0m\n\u001b[0m\u001b[0;32m      4\u001b[0m \u001b[1;33m\u001b[0m\u001b[0m\n",
      "\u001b[1;31mTypeError\u001b[0m: registration() missing 4 required positional arguments: 'adhar', 'passport', 'weight', and 'height'"
     ]
    }
   ],
   "source": [
    "def registration(name,dob,pan,adhar,passport,weight,height):\n",
    "    print(f\"name={name}, dob={dob}, pan={pan}, adhar={adhar}, passport={passport}, weight={weight}, height={height}\")\n",
    "registration(\"jay\",\"2017-FEB-28\",\"pan@1234\")\n",
    "    "
   ]
  },
  {
   "cell_type": "code",
   "execution_count": 4,
   "metadata": {},
   "outputs": [
    {
     "name": "stdout",
     "output_type": "stream",
     "text": [
      "name=jay, dob=2017-FEB-28, pan=pan@1234, adhar=, passport=None, weight=1, height=1\n"
     ]
    }
   ],
   "source": [
    "def registration(name,dob,pan,adhar=\"\",passport=None,weight=1,height=1):#default parameters\n",
    "    \"\"\"\n",
    "    name,dob,pan mandatory parameters.\n",
    "    passport,weight,height optional parameters.\n",
    "    \"\"\"\n",
    "    print(f\"name={name}, dob={dob}, pan={pan}, adhar={adhar}, passport={passport}, weight={weight}, height={height}\")\n",
    "registration(\"jay\",\"2017-FEB-28\",\"pan@1234\")\n",
    "    "
   ]
  },
  {
   "cell_type": "code",
   "execution_count": 5,
   "metadata": {},
   "outputs": [
    {
     "name": "stdout",
     "output_type": "stream",
     "text": [
      "name=jay, dob=2017-FEB-28, pan=pan@1234, adhar=adhar@1234, passport=None, weight=1, height=1\n"
     ]
    }
   ],
   "source": [
    "def registration(name,dob,pan,adhar=\"\",passport=None,weight=1,height=1):#default parameters\n",
    "    \"\"\"\n",
    "    name,dob,pan mandatory parameters.\n",
    "    passport,weight,height optional parameters.\n",
    "    \"\"\"\n",
    "    print(f\"name={name}, dob={dob}, pan={pan}, adhar={adhar}, passport={passport}, weight={weight}, height={height}\")\n",
    "registration(\"jay\",\"2017-FEB-28\",\"pan@1234\",\"adhar@1234\")\n",
    "    "
   ]
  },
  {
   "cell_type": "code",
   "execution_count": 6,
   "metadata": {},
   "outputs": [
    {
     "ename": "TypeError",
     "evalue": "registration() missing 1 required positional argument: 'pan'",
     "output_type": "error",
     "traceback": [
      "\u001b[1;31m---------------------------------------------------------------------------\u001b[0m",
      "\u001b[1;31mTypeError\u001b[0m                                 Traceback (most recent call last)",
      "\u001b[1;32m<ipython-input-6-68c55c20b8f3>\u001b[0m in \u001b[0;36m<module>\u001b[1;34m\u001b[0m\n\u001b[0;32m      5\u001b[0m     \"\"\"\n\u001b[0;32m      6\u001b[0m     \u001b[0mprint\u001b[0m\u001b[1;33m(\u001b[0m\u001b[1;34mf\"name={name}, dob={dob}, pan={pan}, adhar={adhar}, passport={passport}, weight={weight}, height={height}\"\u001b[0m\u001b[1;33m)\u001b[0m\u001b[1;33m\u001b[0m\u001b[1;33m\u001b[0m\u001b[0m\n\u001b[1;32m----> 7\u001b[1;33m \u001b[0mregistration\u001b[0m\u001b[1;33m(\u001b[0m\u001b[1;34m\"jay\"\u001b[0m\u001b[1;33m,\u001b[0m\u001b[1;34m\"2017-FEB-28\"\u001b[0m\u001b[1;33m)\u001b[0m\u001b[1;33m\u001b[0m\u001b[1;33m\u001b[0m\u001b[0m\n\u001b[0m\u001b[0;32m      8\u001b[0m \u001b[1;33m\u001b[0m\u001b[0m\n",
      "\u001b[1;31mTypeError\u001b[0m: registration() missing 1 required positional argument: 'pan'"
     ]
    }
   ],
   "source": [
    "def registration(name,dob,pan,adhar=\"\",passport=None,weight=1,height=1):#default parameters\n",
    "    \"\"\"\n",
    "    name,dob,pan mandatory parameters.\n",
    "    passport,weight,height optional parameters.\n",
    "    \"\"\"\n",
    "    print(f\"name={name}, dob={dob}, pan={pan}, adhar={adhar}, passport={passport}, weight={weight}, height={height}\")\n",
    "registration(\"jay\",\"2017-FEB-28\")\n",
    "    "
   ]
  },
  {
   "cell_type": "code",
   "execution_count": 7,
   "metadata": {},
   "outputs": [
    {
     "name": "stdout",
     "output_type": "stream",
     "text": [
      "name=jay, dob=2017-FEB-28, pan=pan@1234, adhar=adhar@1234, passport=passport@1234, weight=weight@124, height=height@1234\n"
     ]
    }
   ],
   "source": [
    "def registration(name,dob,pan,adhar=\"\",passport=None,weight=1,height=1):#default parameters\n",
    "    \"\"\"\n",
    "    name,dob,pan mandatory parameters.\n",
    "    passport,weight,height optional parameters.\n",
    "    \"\"\"\n",
    "    print(f\"name={name}, dob={dob}, pan={pan}, adhar={adhar}, passport={passport}, weight={weight}, height={height}\")\n",
    "registration(\"jay\",\"2017-FEB-28\",\"pan@1234\",\"adhar@1234\",\"passport@1234\",\"weight@124\",\"height@1234\")\n",
    "    "
   ]
  },
  {
   "cell_type": "code",
   "execution_count": 8,
   "metadata": {},
   "outputs": [
    {
     "ename": "TypeError",
     "evalue": "registration() takes from 3 to 7 positional arguments but 9 were given",
     "output_type": "error",
     "traceback": [
      "\u001b[1;31m---------------------------------------------------------------------------\u001b[0m",
      "\u001b[1;31mTypeError\u001b[0m                                 Traceback (most recent call last)",
      "\u001b[1;32m<ipython-input-8-5d2f7e404d74>\u001b[0m in \u001b[0;36m<module>\u001b[1;34m\u001b[0m\n\u001b[0;32m      5\u001b[0m     \"\"\"\n\u001b[0;32m      6\u001b[0m     \u001b[0mprint\u001b[0m\u001b[1;33m(\u001b[0m\u001b[1;34mf\"name={name}, dob={dob}, pan={pan}, adhar={adhar}, passport={passport}, weight={weight}, height={height}\"\u001b[0m\u001b[1;33m)\u001b[0m\u001b[1;33m\u001b[0m\u001b[1;33m\u001b[0m\u001b[0m\n\u001b[1;32m----> 7\u001b[1;33m \u001b[0mregistration\u001b[0m\u001b[1;33m(\u001b[0m\u001b[1;34m\"jay\"\u001b[0m\u001b[1;33m,\u001b[0m\u001b[1;34m\"2017-FEB-28\"\u001b[0m\u001b[1;33m,\u001b[0m\u001b[1;34m\"pan@1234\"\u001b[0m\u001b[1;33m,\u001b[0m\u001b[1;34m\"adhar@1234\"\u001b[0m\u001b[1;33m,\u001b[0m\u001b[1;34m\"passport@1234\"\u001b[0m\u001b[1;33m,\u001b[0m\u001b[1;34m\"weight@124\"\u001b[0m\u001b[1;33m,\u001b[0m\u001b[1;34m\"height@1234\"\u001b[0m\u001b[1;33m,\u001b[0m\u001b[1;36m1\u001b[0m\u001b[1;33m,\u001b[0m\u001b[1;36m2\u001b[0m\u001b[1;33m)\u001b[0m\u001b[1;33m\u001b[0m\u001b[1;33m\u001b[0m\u001b[0m\n\u001b[0m",
      "\u001b[1;31mTypeError\u001b[0m: registration() takes from 3 to 7 positional arguments but 9 were given"
     ]
    }
   ],
   "source": [
    "def registration(name,dob,pan,adhar=\"\",passport=None,weight=1,height=1):#default parameters\n",
    "    \"\"\"\n",
    "    name,dob,pan mandatory parameters.\n",
    "    passport,weight,height optional parameters.\n",
    "    \"\"\"\n",
    "    print(f\"name={name}, dob={dob}, pan={pan}, adhar={adhar}, passport={passport}, weight={weight}, height={height}\")\n",
    "registration(\"jay\",\"2017-FEB-28\",\"pan@1234\",\"adhar@1234\",\"passport@1234\",\"weight@124\",\"height@1234\",1,2)"
   ]
  },
  {
   "cell_type": "code",
   "execution_count": null,
   "metadata": {},
   "outputs": [],
   "source": [
    "#write a add function which takes minimum 2 numbers and maximum five numbers.\n",
    "add(1,2)\n",
    "add(1,2,3)\n",
    "add(1,2,3,4)\n",
    "add(1,2,3,4,5)"
   ]
  },
  {
   "cell_type": "code",
   "execution_count": 9,
   "metadata": {},
   "outputs": [
    {
     "ename": "TypeError",
     "evalue": "registration() takes from 3 to 7 positional arguments but 9 were given",
     "output_type": "error",
     "traceback": [
      "\u001b[1;31m---------------------------------------------------------------------------\u001b[0m",
      "\u001b[1;31mTypeError\u001b[0m                                 Traceback (most recent call last)",
      "\u001b[1;32m<ipython-input-9-94f01636a94b>\u001b[0m in \u001b[0;36m<module>\u001b[1;34m\u001b[0m\n\u001b[0;32m      5\u001b[0m     \"\"\"\n\u001b[0;32m      6\u001b[0m     \u001b[0mprint\u001b[0m\u001b[1;33m(\u001b[0m\u001b[1;34mf\"name={name}, dob={dob}, pan={pan}, adhar={adhar}, passport={passport}, weight={weight}, height={height}\"\u001b[0m\u001b[1;33m)\u001b[0m\u001b[1;33m\u001b[0m\u001b[1;33m\u001b[0m\u001b[0m\n\u001b[1;32m----> 7\u001b[1;33m \u001b[0mregistration\u001b[0m\u001b[1;33m(\u001b[0m\u001b[1;34m\"jay\"\u001b[0m\u001b[1;33m,\u001b[0m\u001b[1;34m\"2017-FEB-28\"\u001b[0m\u001b[1;33m,\u001b[0m\u001b[1;34m\"pan@1234\"\u001b[0m\u001b[1;33m,\u001b[0m\u001b[1;34m\"adhar@1234\"\u001b[0m\u001b[1;33m,\u001b[0m\u001b[1;34m\"passport@1234\"\u001b[0m\u001b[1;33m,\u001b[0m\u001b[1;34m\"weight@124\"\u001b[0m\u001b[1;33m,\u001b[0m\u001b[1;34m\"height@1234\"\u001b[0m\u001b[1;33m,\u001b[0m\u001b[1;36m1\u001b[0m\u001b[1;33m,\u001b[0m\u001b[1;36m2\u001b[0m\u001b[1;33m)\u001b[0m\u001b[1;33m\u001b[0m\u001b[1;33m\u001b[0m\u001b[0m\n\u001b[0m",
      "\u001b[1;31mTypeError\u001b[0m: registration() takes from 3 to 7 positional arguments but 9 were given"
     ]
    }
   ],
   "source": [
    "def registration(name: str,dob: str,pan: str,adhar: str=\"\",passport: str=None,weight: int=1,height: float=1):#default parameters\n",
    "    \"\"\"\n",
    "    name,dob,pan mandatory parameters.\n",
    "    passport,weight,height optional parameters.\n",
    "    \"\"\"\n",
    "    print(f\"name={name}, dob={dob}, pan={pan}, adhar={adhar}, passport={passport}, weight={weight}, height={height}\")\n",
    "registration(\"jay\",\"2017-FEB-28\",\"pan@1234\",\"adhar@1234\",\"passport@1234\",\"weight@124\",\"height@1234\",1,2)"
   ]
  },
  {
   "cell_type": "code",
   "execution_count": 11,
   "metadata": {},
   "outputs": [
    {
     "name": "stdout",
     "output_type": "stream",
     "text": [
      "name=jay, dob=2017-FEB-28, pan=pan@1234, adhar=adhar@1234, passport=passport@1234, weight=weight@124, height=height@1234\n"
     ]
    }
   ],
   "source": [
    "def registration(name: str,dob: str,pan: str,adhar: str=\"\",passport: str=None,weight: int=1,height: float=1):#default parameters\n",
    "    \"\"\"\n",
    "    name,dob,pan mandatory parameters.\n",
    "    passport,weight,height optional parameters.\n",
    "    \"\"\"\n",
    "    print(f\"name={name}, dob={dob}, pan={pan}, adhar={adhar}, passport={passport}, weight={weight}, height={height}\")\n",
    "registration(\"jay\",\"2017-FEB-28\",\"pan@1234\",\"adhar@1234\",\"passport@1234\",\"weight@124\",\"height@1234\")"
   ]
  },
  {
   "cell_type": "code",
   "execution_count": 12,
   "metadata": {},
   "outputs": [],
   "source": [
    "registration?"
   ]
  },
  {
   "cell_type": "code",
   "execution_count": 13,
   "metadata": {},
   "outputs": [
    {
     "name": "stdout",
     "output_type": "stream",
     "text": [
      "Help on function registration in module __main__:\n",
      "\n",
      "registration(name: str, dob: str, pan: str, adhar: str = '', passport: str = None, weight: int = 1, height: float = 1)\n",
      "    name,dob,pan mandatory parameters.\n",
      "    passport,weight,height optional parameters.\n",
      "\n"
     ]
    }
   ],
   "source": [
    "help(registration)"
   ]
  },
  {
   "cell_type": "code",
   "execution_count": 14,
   "metadata": {},
   "outputs": [
    {
     "name": "stdout",
     "output_type": "stream",
     "text": [
      "not a valid data\n"
     ]
    }
   ],
   "source": [
    "def registration(name: str,dob: str,pan: str,adhar: str=\"\",passport: str=None,weight: int=1,height: float=1):\n",
    "    if not isinstance(height, int) or not isinstance(weight, float):\n",
    "        print(\"not a valid data\")\n",
    "    else:\n",
    "        print(f\"name={name}, dob={dob}, pan={pan}, adhar={adhar}, passport={passport}, weight={weight}, height={height}\")\n",
    "registration(\"jay\",\"2017-FEB-28\",\"pan@1234\",\"adhar@1234\",\"passport@1234\",\"weight@124\",\"height@1234\")"
   ]
  },
  {
   "cell_type": "code",
   "execution_count": 15,
   "metadata": {},
   "outputs": [
    {
     "name": "stdout",
     "output_type": "stream",
     "text": [
      "name=jay, dob=2017-FEB-28, pan=pan@1234, adhar=adhar@1234, passport=passport@1234, weight=23.45, height=3.6\n"
     ]
    }
   ],
   "source": [
    "def registration(name: str,dob: str,pan: str,adhar: str=\"\",passport: str=None,weight: float=1,height: float=1):\n",
    "    if not isinstance(height, float) or not isinstance(weight, float):\n",
    "        print(\"not a valid data\")\n",
    "    else:\n",
    "        print(f\"name={name}, dob={dob}, pan={pan}, adhar={adhar}, passport={passport}, weight={weight}, height={height}\")\n",
    "registration(\"jay\",\"2017-FEB-28\",\"pan@1234\",\"adhar@1234\",\"passport@1234\",23.45,3.6)"
   ]
  },
  {
   "cell_type": "code",
   "execution_count": 17,
   "metadata": {},
   "outputs": [
    {
     "name": "stdout",
     "output_type": "stream",
     "text": [
      "name=jay, dob=2017-FEB-28, pan=pan@1234, adhar=23.45, passport=3.6, weight=1.0, height=1.0\n"
     ]
    }
   ],
   "source": [
    "def registration(name: str,dob: str,pan: str,adhar: str=\"\",passport: str=None,weight: float=1.0,height: float=1.0):\n",
    "    if not isinstance(height, float) or not isinstance(weight, float):\n",
    "        print(\"not a valid data\")\n",
    "    else:\n",
    "        print(f\"name={name}, dob={dob}, pan={pan}, adhar={adhar}, passport={passport}, weight={weight}, height={height}\")\n",
    "registration(\"jay\",\"2017-FEB-28\",\"pan@1234\",23.45,3.6)"
   ]
  },
  {
   "cell_type": "code",
   "execution_count": null,
   "metadata": {},
   "outputs": [],
   "source": [
    "def registration(name,dob,pan,adhar=\"\",passport=None,weight=1.0,height=1.0):\n",
    "    if not isinstance(height, float) or not isinstance(weight, float):\n",
    "        print(\"not a valid data\")\n",
    "    else:\n",
    "        print(f\"name={name}, dob={dob}, pan={pan}, adhar={adhar}, passport={passport}, weight={weight}, height={height}\")\n",
    "registration(\"jay\",\"2017-FEB-28\",\"pan@1234\",height=3.6,weight=23.46)\n",
    "#height=3.6,weight=23.46: keyword arguments.\n",
    "#\"jay\",\"2017-FEB-28\",\"pan@1234: positional arguments"
   ]
  }
 ],
 "metadata": {
  "kernelspec": {
   "display_name": "Python 3",
   "language": "python",
   "name": "python3"
  },
  "language_info": {
   "codemirror_mode": {
    "name": "ipython",
    "version": 3
   },
   "file_extension": ".py",
   "mimetype": "text/x-python",
   "name": "python",
   "nbconvert_exporter": "python",
   "pygments_lexer": "ipython3",
   "version": "3.8.3"
  }
 },
 "nbformat": 4,
 "nbformat_minor": 4
}
