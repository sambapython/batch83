{
 "cells": [
  {
   "cell_type": "code",
   "execution_count": 1,
   "metadata": {},
   "outputs": [
    {
     "name": "stdout",
     "output_type": "stream",
     "text": [
      "1000 2889416738192\n",
      "1000 2889416738288\n"
     ]
    }
   ],
   "source": [
    "a=1000\n",
    "b=1000\n",
    "print(a, id(a))\n",
    "print(b, id(b))"
   ]
  },
  {
   "cell_type": "code",
   "execution_count": 2,
   "metadata": {},
   "outputs": [
    {
     "name": "stdout",
     "output_type": "stream",
     "text": [
      "1000 2889416738096\n",
      "1000 2889416738096\n"
     ]
    }
   ],
   "source": [
    "a=b=1000\n",
    "print(a, id(a))\n",
    "print(b, id(b))"
   ]
  },
  {
   "cell_type": "code",
   "execution_count": 3,
   "metadata": {},
   "outputs": [
    {
     "name": "stdout",
     "output_type": "stream",
     "text": [
      "1000 2889416738288\n",
      "1000 2889416738288\n"
     ]
    }
   ],
   "source": [
    "a=1000\n",
    "b=a\n",
    "print(a, id(a))\n",
    "print(b, id(b))"
   ]
  },
  {
   "cell_type": "code",
   "execution_count": null,
   "metadata": {},
   "outputs": [],
   "source": [
    "a=1000\n",
    "b=2000\n",
    "c=a\n",
    "a=3000\n",
    "print(c)"
   ]
  },
  {
   "cell_type": "code",
   "execution_count": 4,
   "metadata": {},
   "outputs": [
    {
     "name": "stdout",
     "output_type": "stream",
     "text": [
      "python\n"
     ]
    }
   ],
   "source": [
    "s=\"python\"\n",
    "s1=\"apple\"\n",
    "s2=s\n",
    "s=\"pot\"\n",
    "print(s2)\n",
    "s2=1234"
   ]
  },
  {
   "cell_type": "code",
   "execution_count": 5,
   "metadata": {},
   "outputs": [
    {
     "name": "stdout",
     "output_type": "stream",
     "text": [
      "p 2889348172272\n",
      "p 2889348172272\n",
      "p 2889348172272\n"
     ]
    }
   ],
   "source": [
    "s=\"python\"\n",
    "s1=\"apple\"\n",
    "print(s[0], id(s[0]))\n",
    "print(s1[1], id(s1[1]))\n",
    "print(s1[2], id(s1[2]))"
   ]
  },
  {
   "cell_type": "code",
   "execution_count": null,
   "metadata": {},
   "outputs": [],
   "source": []
  }
 ],
 "metadata": {
  "kernelspec": {
   "display_name": "Python 3",
   "language": "python",
   "name": "python3"
  },
  "language_info": {
   "codemirror_mode": {
    "name": "ipython",
    "version": 3
   },
   "file_extension": ".py",
   "mimetype": "text/x-python",
   "name": "python",
   "nbconvert_exporter": "python",
   "pygments_lexer": "ipython3",
   "version": "3.8.3"
  }
 },
 "nbformat": 4,
 "nbformat_minor": 4
}
