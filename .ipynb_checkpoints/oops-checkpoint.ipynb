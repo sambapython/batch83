{
 "cells": [
  {
   "cell_type": "code",
   "execution_count": 1,
   "metadata": {},
   "outputs": [
    {
     "name": "stdout",
     "output_type": "stream",
     "text": [
      "this is class\n"
     ]
    }
   ],
   "source": [
    "def fub():\n",
    "    print(\"this is fun\")\n",
    "class Emp:# Camel Case\n",
    "    print(\"this is class\")"
   ]
  },
  {
   "cell_type": "code",
   "execution_count": 2,
   "metadata": {},
   "outputs": [
    {
     "name": "stdout",
     "output_type": "stream",
     "text": [
      "this is class\n",
      "3000\n"
     ]
    }
   ],
   "source": [
    "class Emp:# Camel Case\n",
    "    print(\"this is class\")\n",
    "    x=1000\n",
    "    y=2000\n",
    "    print(x+y)\n",
    "    def get(x):\n",
    "        print(\"this is get\")"
   ]
  },
  {
   "cell_type": "code",
   "execution_count": 4,
   "metadata": {},
   "outputs": [
    {
     "name": "stdout",
     "output_type": "stream",
     "text": [
      "this is class\n",
      "1000\n",
      "2000\n",
      "this is get\n",
      "None\n"
     ]
    }
   ],
   "source": [
    "class Emp:# in stack it will create reference EMP. in heap it will create a object(class object). apart from basic attributes,\n",
    "    # it will add some extra attributes(x,y,get)\n",
    "    print(\"this is class\")\n",
    "    x=1000\n",
    "    y=2000\n",
    "    def get(x):\n",
    "        print(\"this is get\")\n",
    "        \n",
    "# It will create a frame inside the frame it will all the class references: Frame(Emp)[x,y,get]\n",
    "print(Emp.x)\n",
    "print(Emp.y)\n",
    "print(Emp.get(10))\n"
   ]
  },
  {
   "cell_type": "code",
   "execution_count": 5,
   "metadata": {},
   "outputs": [
    {
     "name": "stdout",
     "output_type": "stream",
     "text": [
      "{'name': 'Emp1', 'id': 1, 'sal': 5000}\n",
      "{'name': 'Emp2', 'id': 2, 'sal': 6000}\n"
     ]
    }
   ],
   "source": [
    "class Emp:\n",
    "    pass\n",
    "e1=Emp()# Emp() is a data object, e1 is the reference of the data object.\n",
    "e1.name=\"Emp1\"\n",
    "e1.id=1\n",
    "e1.sal=5000\n",
    "e2=Emp()\n",
    "e2.name=\"Emp2\"\n",
    "e2.id=2\n",
    "e2.sal=6000\n",
    "print(e1.__dict__)\n",
    "print(e2.__dict__)"
   ]
  },
  {
   "cell_type": "code",
   "execution_count": 6,
   "metadata": {},
   "outputs": [
    {
     "name": "stdout",
     "output_type": "stream",
     "text": [
      "{'name': 'Emp1', 'sal': 5000, 'id': 1}\n",
      "{'name': 'Emp2', 'sal': 6000, 'id': 2}\n"
     ]
    }
   ],
   "source": [
    "class Emp:\n",
    "    def set_data(x,e_name,e_id, e_sal):\n",
    "        x.name=e_name\n",
    "        x.sal=e_sal\n",
    "        x.id=e_id\n",
    "        \n",
    "        \n",
    "        \n",
    "e1=Emp()# Emp() is a data object, e1 is the reference of the data object.\n",
    "Emp.set_data(e1,\"Emp1\",1,5000)\n",
    "# e1.name=\"Emp1\"\n",
    "# e1.id=1\n",
    "# e1.sal=5000\n",
    "e2=Emp()\n",
    "Emp.set_data(e2,\"Emp2\",2,6000)\n",
    "# e2.name=\"Emp2\"\n",
    "# e2.id=2\n",
    "# e2.sal=6000\n",
    "print(e1.__dict__)\n",
    "print(e2.__dict__)"
   ]
  },
  {
   "cell_type": "code",
   "execution_count": 8,
   "metadata": {},
   "outputs": [
    {
     "name": "stdout",
     "output_type": "stream",
     "text": [
      "('Emp1', 1, 5000)\n",
      "('Emp2', 2, 6000)\n"
     ]
    }
   ],
   "source": [
    "class Emp:\n",
    "    def set_data(x,e_name,e_id, e_sal):\n",
    "        x.name=e_name\n",
    "        x.sal=e_sal\n",
    "        x.id=e_id\n",
    "    def get(x):\n",
    "        return (x.name,x.id,x.sal)\n",
    "e1=Emp()\n",
    "Emp.set_data(e1,\"Emp1\",1,5000)\n",
    "e2=Emp()\n",
    "Emp.set_data(e2,\"Emp2\",2,6000)\n",
    "print(Emp.get(e1))\n",
    "print(Emp.get(e2))"
   ]
  },
  {
   "cell_type": "code",
   "execution_count": 9,
   "metadata": {},
   "outputs": [
    {
     "name": "stdout",
     "output_type": "stream",
     "text": [
      "('Emp1', 1, 5000)\n",
      "('Emp2', 2, 6000)\n"
     ]
    },
    {
     "ename": "AttributeError",
     "evalue": "'Emp' object has no attribute 'name'",
     "output_type": "error",
     "traceback": [
      "\u001b[1;31m---------------------------------------------------------------------------\u001b[0m",
      "\u001b[1;31mAttributeError\u001b[0m                            Traceback (most recent call last)",
      "\u001b[1;32m<ipython-input-9-d9e139fe2e1a>\u001b[0m in \u001b[0;36m<module>\u001b[1;34m\u001b[0m\n\u001b[0;32m     13\u001b[0m \u001b[0mprint\u001b[0m\u001b[1;33m(\u001b[0m\u001b[0mEmp\u001b[0m\u001b[1;33m.\u001b[0m\u001b[0mget\u001b[0m\u001b[1;33m(\u001b[0m\u001b[0me2\u001b[0m\u001b[1;33m)\u001b[0m\u001b[1;33m)\u001b[0m\u001b[1;33m\u001b[0m\u001b[1;33m\u001b[0m\u001b[0m\n\u001b[0;32m     14\u001b[0m \u001b[0me3\u001b[0m\u001b[1;33m=\u001b[0m\u001b[0mEmp\u001b[0m\u001b[1;33m(\u001b[0m\u001b[1;33m)\u001b[0m\u001b[1;33m\u001b[0m\u001b[1;33m\u001b[0m\u001b[0m\n\u001b[1;32m---> 15\u001b[1;33m \u001b[0mprint\u001b[0m\u001b[1;33m(\u001b[0m\u001b[0mEmp\u001b[0m\u001b[1;33m.\u001b[0m\u001b[0mget\u001b[0m\u001b[1;33m(\u001b[0m\u001b[0me3\u001b[0m\u001b[1;33m)\u001b[0m\u001b[1;33m)\u001b[0m\u001b[1;33m\u001b[0m\u001b[1;33m\u001b[0m\u001b[0m\n\u001b[0m",
      "\u001b[1;32m<ipython-input-9-d9e139fe2e1a>\u001b[0m in \u001b[0;36mget\u001b[1;34m(x)\u001b[0m\n\u001b[0;32m      5\u001b[0m         \u001b[0mx\u001b[0m\u001b[1;33m.\u001b[0m\u001b[0mid\u001b[0m\u001b[1;33m=\u001b[0m\u001b[0me_id\u001b[0m\u001b[1;33m\u001b[0m\u001b[1;33m\u001b[0m\u001b[0m\n\u001b[0;32m      6\u001b[0m     \u001b[1;32mdef\u001b[0m \u001b[0mget\u001b[0m\u001b[1;33m(\u001b[0m\u001b[0mx\u001b[0m\u001b[1;33m)\u001b[0m\u001b[1;33m:\u001b[0m\u001b[1;33m\u001b[0m\u001b[1;33m\u001b[0m\u001b[0m\n\u001b[1;32m----> 7\u001b[1;33m         \u001b[1;32mreturn\u001b[0m \u001b[1;33m(\u001b[0m\u001b[0mx\u001b[0m\u001b[1;33m.\u001b[0m\u001b[0mname\u001b[0m\u001b[1;33m,\u001b[0m\u001b[0mx\u001b[0m\u001b[1;33m.\u001b[0m\u001b[0mid\u001b[0m\u001b[1;33m,\u001b[0m\u001b[0mx\u001b[0m\u001b[1;33m.\u001b[0m\u001b[0msal\u001b[0m\u001b[1;33m)\u001b[0m\u001b[1;33m\u001b[0m\u001b[1;33m\u001b[0m\u001b[0m\n\u001b[0m\u001b[0;32m      8\u001b[0m \u001b[0me1\u001b[0m\u001b[1;33m=\u001b[0m\u001b[0mEmp\u001b[0m\u001b[1;33m(\u001b[0m\u001b[1;33m)\u001b[0m\u001b[1;33m\u001b[0m\u001b[1;33m\u001b[0m\u001b[0m\n\u001b[0;32m      9\u001b[0m \u001b[0mEmp\u001b[0m\u001b[1;33m.\u001b[0m\u001b[0mset_data\u001b[0m\u001b[1;33m(\u001b[0m\u001b[0me1\u001b[0m\u001b[1;33m,\u001b[0m\u001b[1;34m\"Emp1\"\u001b[0m\u001b[1;33m,\u001b[0m\u001b[1;36m1\u001b[0m\u001b[1;33m,\u001b[0m\u001b[1;36m5000\u001b[0m\u001b[1;33m)\u001b[0m\u001b[1;33m\u001b[0m\u001b[1;33m\u001b[0m\u001b[0m\n",
      "\u001b[1;31mAttributeError\u001b[0m: 'Emp' object has no attribute 'name'"
     ]
    }
   ],
   "source": [
    "class Emp:\n",
    "    def set_data(x,e_name,e_id, e_sal):\n",
    "        x.name=e_name\n",
    "        x.sal=e_sal\n",
    "        x.id=e_id\n",
    "    def get(x):\n",
    "        return (x.name,x.id,x.sal)\n",
    "e1=Emp()\n",
    "Emp.set_data(e1,\"Emp1\",1,5000)\n",
    "e2=Emp()\n",
    "Emp.set_data(e2,\"Emp2\",2,6000)\n",
    "print(Emp.get(e1))\n",
    "print(Emp.get(e2))\n",
    "e3=Emp()\n",
    "print(Emp.get(e3))\n"
   ]
  },
  {
   "cell_type": "code",
   "execution_count": 10,
   "metadata": {},
   "outputs": [
    {
     "name": "stdout",
     "output_type": "stream",
     "text": [
      "this is class\n"
     ]
    }
   ],
   "source": [
    "class Emp:\n",
    "    print(\"this is class\")\n",
    "e1=Emp()\n",
    "e2=Emp()"
   ]
  },
  {
   "cell_type": "code",
   "execution_count": 11,
   "metadata": {},
   "outputs": [
    {
     "name": "stdout",
     "output_type": "stream",
     "text": [
      "this is class\n"
     ]
    }
   ],
   "source": [
    "class Emp: \n",
    "    print(\"this is class\")"
   ]
  },
  {
   "cell_type": "code",
   "execution_count": null,
   "metadata": {},
   "outputs": [],
   "source": [
    "#delivery process\n",
    "#delivery_process\n",
    "#DeliveryProcess\n",
    "#DELIVERYPROCESS\n"
   ]
  },
  {
   "cell_type": "code",
   "execution_count": 13,
   "metadata": {},
   "outputs": [
    {
     "name": "stdout",
     "output_type": "stream",
     "text": [
      "this is class\n"
     ]
    }
   ],
   "source": [
    "class Emp:\n",
    "    print(\"this is class\")\n",
    "    def get(x):\n",
    "        print(\"this is get\")\n",
    "e1=Emp()\n",
    "e2=Emp()\n",
    "e3=Emp()"
   ]
  },
  {
   "cell_type": "code",
   "execution_count": 14,
   "metadata": {},
   "outputs": [
    {
     "name": "stdout",
     "output_type": "stream",
     "text": [
      "this is class\n",
      "this is init\n",
      "this is init\n",
      "this is init\n"
     ]
    }
   ],
   "source": [
    "class Emp:\n",
    "    print(\"this is class\")\n",
    "    def get(x):\n",
    "        print(\"this is get\")\n",
    "    def __init__(x):# constructor\n",
    "        print(\"this is init\")\n",
    "e1=Emp()\n",
    "e2=Emp()\n",
    "e3=Emp()"
   ]
  },
  {
   "cell_type": "code",
   "execution_count": 15,
   "metadata": {},
   "outputs": [
    {
     "name": "stdout",
     "output_type": "stream",
     "text": [
      "this is class\n"
     ]
    }
   ],
   "source": [
    "class Emp:\n",
    "    print(\"this is class\")\n",
    "    def get(x):\n",
    "        print(\"this is get\")\n",
    "    def _init__(x):# constructor\n",
    "        print(\"this is init\")\n",
    "e1=Emp()\n",
    "e2=Emp()\n",
    "e3=Emp()"
   ]
  },
  {
   "cell_type": "code",
   "execution_count": 16,
   "metadata": {},
   "outputs": [
    {
     "name": "stdout",
     "output_type": "stream",
     "text": [
      "this is class\n",
      "this is init\n",
      "this is init\n",
      "this is init\n"
     ]
    }
   ],
   "source": [
    "class Emp:\n",
    "    print(\"this is class\")\n",
    "    def get(x):\n",
    "        print(\"this is get\")\n",
    "    def __init__(x):# constructor\n",
    "        print(\"this is init\")\n",
    "e1=Emp()\n",
    "e2=Emp()\n",
    "e3=Emp()"
   ]
  },
  {
   "cell_type": "code",
   "execution_count": 17,
   "metadata": {},
   "outputs": [
    {
     "name": "stdout",
     "output_type": "stream",
     "text": [
      "('Emp1', 1, 5000)\n",
      "('Emp2', 2, 6000)\n",
      "('Emp3', 3, 7000)\n"
     ]
    }
   ],
   "source": [
    "class Emp:\n",
    "    def get(x):\n",
    "        return x.name,x.id,x.sal\n",
    "    def __init__(x,e_name,e_id,e_sal):# constructor\n",
    "        # the data object has two references, 1.e1, 2.x\n",
    "        x.name=e_name\n",
    "        x.id=e_id\n",
    "        x.sal=e_sal\n",
    "e1=Emp(\"Emp1\",1,5000)# Emp.__init__(e1,\"Emp1\",1,5000)\n",
    "e2=Emp(\"Emp2\",2,6000)#  Emp.__init__(e2,\"Emp2\",2,6000)\n",
    "e3=Emp(\"Emp3\",3,7000)# Emp.__init__(e3,\"Emp3\",3,7000)\n",
    "print(Emp.get(e1))\n",
    "print(Emp.get(e2))\n",
    "print(Emp.get(e3))"
   ]
  },
  {
   "cell_type": "code",
   "execution_count": null,
   "metadata": {},
   "outputs": [],
   "source": [
    "a=1000\n",
    "b=2000\n",
    "#fun(a,b)\n",
    "fun(1000,2000)"
   ]
  },
  {
   "cell_type": "code",
   "execution_count": 18,
   "metadata": {},
   "outputs": [
    {
     "name": "stdout",
     "output_type": "stream",
     "text": [
      "('Emp1', 1, 5000)\n",
      "('Emp2', 2, 6000)\n",
      "('Emp3', 3, 7000)\n"
     ]
    }
   ],
   "source": [
    "class Emp:\n",
    "    def get(x):\n",
    "        return x.name,x.id,x.sal\n",
    "    def __init__(x,e_name,e_id,e_sal):# constructor\n",
    "        x.name=e_name\n",
    "        x.id=e_id\n",
    "        x.sal=e_sal\n",
    "e1=Emp(\"Emp1\",1,5000)\n",
    "e2=Emp(\"Emp2\",2,6000)\n",
    "e3=Emp(\"Emp3\",3,7000)\n",
    "print(Emp.get(e1))\n",
    "print(Emp.get(e2))\n",
    "print(Emp.get(e3))"
   ]
  },
  {
   "cell_type": "code",
   "execution_count": 19,
   "metadata": {},
   "outputs": [],
   "source": [
    "class Emp:\n",
    "    def get(x):\n",
    "        return x.name,x.id,x.sal\n",
    "    def __init__(x,e_name,e_id,e_sal):# constructor\n",
    "        x.name=e_name\n",
    "        x.id=e_id\n",
    "        x.sal=e_sal\n",
    "e1=Emp(\"Emp1\",1,5000)\n",
    "e2=Emp(\"Emp2\",2,6000)\n",
    "e3=Emp(\"Emp3\",3,7000)\n"
   ]
  },
  {
   "cell_type": "code",
   "execution_count": 20,
   "metadata": {},
   "outputs": [
    {
     "ename": "TypeError",
     "evalue": "__init__() should return None, not 'str'",
     "output_type": "error",
     "traceback": [
      "\u001b[1;31m---------------------------------------------------------------------------\u001b[0m",
      "\u001b[1;31mTypeError\u001b[0m                                 Traceback (most recent call last)",
      "\u001b[1;32m<ipython-input-20-e2bce22752b2>\u001b[0m in \u001b[0;36m<module>\u001b[1;34m\u001b[0m\n\u001b[0;32m      7\u001b[0m         \u001b[0mx\u001b[0m\u001b[1;33m.\u001b[0m\u001b[0msal\u001b[0m\u001b[1;33m=\u001b[0m\u001b[0me_sal\u001b[0m\u001b[1;33m\u001b[0m\u001b[1;33m\u001b[0m\u001b[0m\n\u001b[0;32m      8\u001b[0m         \u001b[1;32mreturn\u001b[0m \u001b[1;34m\"hello\"\u001b[0m\u001b[1;33m\u001b[0m\u001b[1;33m\u001b[0m\u001b[0m\n\u001b[1;32m----> 9\u001b[1;33m \u001b[0me1\u001b[0m\u001b[1;33m=\u001b[0m\u001b[0mEmp\u001b[0m\u001b[1;33m(\u001b[0m\u001b[1;34m\"Emp1\"\u001b[0m\u001b[1;33m,\u001b[0m\u001b[1;36m1\u001b[0m\u001b[1;33m,\u001b[0m\u001b[1;36m5000\u001b[0m\u001b[1;33m)\u001b[0m\u001b[1;33m\u001b[0m\u001b[1;33m\u001b[0m\u001b[0m\n\u001b[0m\u001b[0;32m     10\u001b[0m \u001b[0me2\u001b[0m\u001b[1;33m=\u001b[0m\u001b[0mEmp\u001b[0m\u001b[1;33m(\u001b[0m\u001b[1;34m\"Emp2\"\u001b[0m\u001b[1;33m,\u001b[0m\u001b[1;36m2\u001b[0m\u001b[1;33m,\u001b[0m\u001b[1;36m6000\u001b[0m\u001b[1;33m)\u001b[0m\u001b[1;33m\u001b[0m\u001b[1;33m\u001b[0m\u001b[0m\n\u001b[0;32m     11\u001b[0m \u001b[0me3\u001b[0m\u001b[1;33m=\u001b[0m\u001b[0mEmp\u001b[0m\u001b[1;33m(\u001b[0m\u001b[1;34m\"Emp3\"\u001b[0m\u001b[1;33m,\u001b[0m\u001b[1;36m3\u001b[0m\u001b[1;33m,\u001b[0m\u001b[1;36m7000\u001b[0m\u001b[1;33m)\u001b[0m\u001b[1;33m\u001b[0m\u001b[1;33m\u001b[0m\u001b[0m\n",
      "\u001b[1;31mTypeError\u001b[0m: __init__() should return None, not 'str'"
     ]
    }
   ],
   "source": [
    "class Emp:\n",
    "    def get(x):\n",
    "        return x.name,x.id,x.sal\n",
    "    def __init__(x,e_name,e_id,e_sal):# constructor\n",
    "        x.name=e_name\n",
    "        x.id=e_id\n",
    "        x.sal=e_sal\n",
    "        return \"hello\"\n",
    "e1=Emp(\"Emp1\",1,5000)\n",
    "e2=Emp(\"Emp2\",2,6000)\n",
    "e3=Emp(\"Emp3\",3,7000)\n"
   ]
  },
  {
   "cell_type": "code",
   "execution_count": 22,
   "metadata": {},
   "outputs": [
    {
     "name": "stdout",
     "output_type": "stream",
     "text": [
      "<__main__.Emp object at 0x000002160EAE56A0>\n"
     ]
    }
   ],
   "source": [
    "class Emp:\n",
    "    def get(x):\n",
    "        return x.name,x.id,x.sal\n",
    "    def __init__(x,e_name,e_id,e_sal):# constructor\n",
    "        x.name=e_name\n",
    "        x.id=e_id\n",
    "        x.sal=e_sal\n",
    "e1=Emp(\"Emp1\",1,5000)\n",
    "e2=Emp(\"Emp2\",2,6000)\n",
    "e3=Emp(\"Emp3\",3,7000)\n",
    "print(e1)"
   ]
  },
  {
   "cell_type": "code",
   "execution_count": 23,
   "metadata": {},
   "outputs": [
    {
     "ename": "TypeError",
     "evalue": "__init__() missing 3 required positional arguments: 'e_name', 'e_id', and 'e_sal'",
     "output_type": "error",
     "traceback": [
      "\u001b[1;31m---------------------------------------------------------------------------\u001b[0m",
      "\u001b[1;31mTypeError\u001b[0m                                 Traceback (most recent call last)",
      "\u001b[1;32m<ipython-input-23-95fe70b9b5ef>\u001b[0m in \u001b[0;36m<module>\u001b[1;34m\u001b[0m\n\u001b[0;32m      9\u001b[0m \u001b[0me2\u001b[0m\u001b[1;33m=\u001b[0m\u001b[0mEmp\u001b[0m\u001b[1;33m(\u001b[0m\u001b[1;34m\"Emp2\"\u001b[0m\u001b[1;33m,\u001b[0m\u001b[1;36m2\u001b[0m\u001b[1;33m,\u001b[0m\u001b[1;36m6000\u001b[0m\u001b[1;33m)\u001b[0m\u001b[1;33m\u001b[0m\u001b[1;33m\u001b[0m\u001b[0m\n\u001b[0;32m     10\u001b[0m \u001b[0me3\u001b[0m\u001b[1;33m=\u001b[0m\u001b[0mEmp\u001b[0m\u001b[1;33m(\u001b[0m\u001b[1;34m\"Emp3\"\u001b[0m\u001b[1;33m,\u001b[0m\u001b[1;36m3\u001b[0m\u001b[1;33m,\u001b[0m\u001b[1;36m7000\u001b[0m\u001b[1;33m)\u001b[0m\u001b[1;33m\u001b[0m\u001b[1;33m\u001b[0m\u001b[0m\n\u001b[1;32m---> 11\u001b[1;33m \u001b[0me4\u001b[0m\u001b[1;33m=\u001b[0m\u001b[0mEmp\u001b[0m\u001b[1;33m(\u001b[0m\u001b[1;33m)\u001b[0m\u001b[1;33m\u001b[0m\u001b[1;33m\u001b[0m\u001b[0m\n\u001b[0m",
      "\u001b[1;31mTypeError\u001b[0m: __init__() missing 3 required positional arguments: 'e_name', 'e_id', and 'e_sal'"
     ]
    }
   ],
   "source": [
    "class Emp:\n",
    "    def get(x):\n",
    "        return x.name,x.id,x.sal\n",
    "    def __init__(x,e_name,e_id,e_sal):# constructor\n",
    "        x.name=e_name\n",
    "        x.id=e_id\n",
    "        x.sal=e_sal\n",
    "e1=Emp(\"Emp1\",1,5000)\n",
    "e2=Emp(\"Emp2\",2,6000)\n",
    "e3=Emp(\"Emp3\",3,7000)\n",
    "e4=Emp()"
   ]
  },
  {
   "cell_type": "code",
   "execution_count": 25,
   "metadata": {},
   "outputs": [
    {
     "name": "stdout",
     "output_type": "stream",
     "text": [
      "('Emp1', 1, 5000)\n",
      "('Emp2', 2, 6000)\n",
      "('Emp3', 3, 7000)\n"
     ]
    }
   ],
   "source": [
    "class Emp:\n",
    "    def get(x):\n",
    "        return x.name,x.id,x.sal\n",
    "    def __init__(x,e_name,e_id,e_sal):# constructor\n",
    "        x.name=e_name\n",
    "        x.id=e_id\n",
    "        x.sal=e_sal\n",
    "e1=Emp(\"Emp1\",1,5000)\n",
    "e2=Emp(\"Emp2\",2,6000)\n",
    "e3=Emp(\"Emp3\",3,7000)\n",
    "print(Emp.get(e1))\n",
    "print(Emp.get(e2))\n",
    "print(Emp.get(e3))"
   ]
  },
  {
   "cell_type": "code",
   "execution_count": 26,
   "metadata": {},
   "outputs": [
    {
     "name": "stdout",
     "output_type": "stream",
     "text": [
      "('Emp1', 1, 5000)\n",
      "('Emp2', 2, 6000)\n",
      "('Emp3', 3, 7000)\n"
     ]
    }
   ],
   "source": [
    "class Emp:\n",
    "    def get(x):\n",
    "        return x.name,x.id,x.sal\n",
    "    def __init__(x,e_name,e_id,e_sal):# constructor\n",
    "        x.name=e_name\n",
    "        x.id=e_id\n",
    "        x.sal=e_sal\n",
    "e1=Emp(\"Emp1\",1,5000)\n",
    "e2=Emp(\"Emp2\",2,6000)\n",
    "e3=Emp(\"Emp3\",3,7000)\n",
    "#print(Emp.get(e1))# reference of class object\n",
    "print(e1.get())#Emp.get(e1)\n",
    "#print(Emp.get(e2))\n",
    "print(e2.get())#Emp.get(e2)\n",
    "#print(Emp.get(e3))\n",
    "print(e3.get())#Emp.get(e3)"
   ]
  },
  {
   "cell_type": "code",
   "execution_count": 27,
   "metadata": {},
   "outputs": [
    {
     "name": "stdout",
     "output_type": "stream",
     "text": [
      "150000\n"
     ]
    }
   ],
   "source": [
    "class Emp:\n",
    "    def get(x):\n",
    "        return x.name,x.id,x.sal\n",
    "    def __init__(x,e_name,e_id,e_sal):# constructor\n",
    "        x.name=e_name\n",
    "        x.id=e_id\n",
    "        x.sal=e_sal\n",
    "    def sal_cal(x):\n",
    "        return x.sal*30\n",
    "        \n",
    "e1=Emp(\"Emp1\",1,5000)\n",
    "e2=Emp(\"Emp2\",2,6000)\n",
    "e3=Emp(\"Emp3\",3,7000)\n",
    "print(e1.sal_cal())#Emp.sal_cal(e1)"
   ]
  },
  {
   "cell_type": "code",
   "execution_count": 29,
   "metadata": {},
   "outputs": [
    {
     "name": "stdout",
     "output_type": "stream",
     "text": [
      "150000\n"
     ]
    }
   ],
   "source": [
    "class Emp:\n",
    "    def __init__(x,e_name,e_id,e_sal):# constructor\n",
    "        x.name=e_name\n",
    "        x.id=e_id\n",
    "        x.sal=e_sal\n",
    "    def sal_cal(x):\n",
    "        return x.sal*30\n",
    "        \n",
    "e1=Emp(\"Emp1\",1,5000)\n",
    "e2=Emp(\"Emp2\",2,6000)\n",
    "e3=Emp(\"Emp3\",3,7000)\n",
    "print(e1.sal_cal())#Emp.sal_cal(e1)"
   ]
  },
  {
   "cell_type": "code",
   "execution_count": 31,
   "metadata": {},
   "outputs": [
    {
     "name": "stdout",
     "output_type": "stream",
     "text": [
      "150000\n",
      "180000\n",
      "210000\n"
     ]
    }
   ],
   "source": [
    "class Emp:\n",
    "    def __init__(x,e_name,e_id,e_sal):# constructor\n",
    "        x.name=e_name\n",
    "        x.id=e_id\n",
    "        x.sal=e_sal\n",
    "    def sal_cal(x):\n",
    "        return x.sal*30\n",
    "        \n",
    "e1=Emp(\"Emp1\",1,5000)\n",
    "e2=Emp(\"Emp2\",2,6000)\n",
    "e3=Emp(\"Emp3\",3,7000)\n",
    "print(e1.sal_cal())#Emp.sal_cal(e1)\n",
    "print(e2.sal_cal())\n",
    "print(e3.sal_cal())"
   ]
  },
  {
   "cell_type": "code",
   "execution_count": 32,
   "metadata": {},
   "outputs": [
    {
     "name": "stdout",
     "output_type": "stream",
     "text": [
      "150000\n",
      "180000\n",
      "210000\n"
     ]
    }
   ],
   "source": [
    "class Emp:\n",
    "    def __init__(self,e_name,e_id,e_sal):# constructor\n",
    "        self.name=e_name\n",
    "        self.id=e_id\n",
    "        self.sal=e_sal\n",
    "    def sal_cal(self):\n",
    "        return self.sal*30\n",
    "        \n",
    "e1=Emp(\"Emp1\",1,5000)\n",
    "e2=Emp(\"Emp2\",2,6000)\n",
    "e3=Emp(\"Emp3\",3,7000)\n",
    "print(e1.sal_cal())#Emp.sal_cal(e1)\n",
    "print(e2.sal_cal())\n",
    "print(e3.sal_cal())"
   ]
  },
  {
   "cell_type": "code",
   "execution_count": 34,
   "metadata": {},
   "outputs": [
    {
     "name": "stdout",
     "output_type": "stream",
     "text": [
      "5000\n",
      "<__main__.Emp object at 0x000002160EB15580>\n",
      "6000\n",
      "<__main__.Emp object at 0x000002160EB15520>\n",
      "7000\n",
      "<__main__.Emp object at 0x000002160EAFFCD0>\n"
     ]
    }
   ],
   "source": [
    "class Emp:\n",
    "    def __init__(e_name,e_id,e_sal,self):# constructor\n",
    "        print(self)\n",
    "        print(e_name)\n",
    "e1=Emp(\"Emp1\",1,5000)\n",
    "e2=Emp(\"Emp2\",2,6000)\n",
    "e3=Emp(\"Emp3\",3,7000)"
   ]
  },
  {
   "cell_type": "code",
   "execution_count": 37,
   "metadata": {},
   "outputs": [
    {
     "name": "stdout",
     "output_type": "stream",
     "text": [
      "25340\n",
      "27340\n"
     ]
    }
   ],
   "source": [
    "#class Product:name,color,cp,disconut,delivery_charges. write a methods to calculate sales price with and without discount.\n",
    "class Product:\n",
    "    def __init__(self,name,color,cp,disconut,delivery_charges):\n",
    "        self.name=name\n",
    "        self.color=color\n",
    "        self.cp=cp\n",
    "        self.discount=disconut\n",
    "        self.delivery_charges=delivery_charges\n",
    "    \n",
    "    def sales_price_without_discount(self):\n",
    "        return self.cp+self.delivery_charges\n",
    "    \n",
    "    def sales_price(self):\n",
    "        return self.cp+self.delivery_charges-self.discount\n",
    "\n",
    "mi_phone = Product(\"MI note7\",\"RED\",27000,2000,340)\n",
    "print(mi_phone.sales_price())\n",
    "print(mi_phone.sales_price_without_discount())"
   ]
  },
  {
   "cell_type": "code",
   "execution_count": null,
   "metadata": {},
   "outputs": [],
   "source": [
    "def get_user(username, password):\n",
    "    q=\"select * from users where username='%s', password='%s'\"%(username, password)\n",
    "    con = db.connect()\n",
    "    cur=con.cursor()\n",
    "    cur.execute(q)\n",
    "    return cur.fetchall()\n",
    "\n",
    "users = get_user(\"user1\",\"pwd1\")\n",
    "print(users)"
   ]
  },
  {
   "cell_type": "code",
   "execution_count": 2,
   "metadata": {},
   "outputs": [
    {
     "name": "stdout",
     "output_type": "stream",
     "text": [
      "creating customer\n",
      "insert into customer(name,address) values('jayaram','Hyderabad')\n"
     ]
    }
   ],
   "source": [
    "#sales.py. installed this from third party vendor.\n",
    "class Customer:\n",
    "    def __init__(self, name, address):\n",
    "        self.name=name\n",
    "        self.address=address\n",
    "        \n",
    "    def create_customer(self):\n",
    "        print(\"creating customer\")\n",
    "        q=\"insert into customer(name,address) values('%s','%s')\"%(self.name, self.address)\n",
    "        print(q)\n",
    "\n",
    "#app.py\n",
    "#from sales import Customer\n",
    "jay=Customer(\"jayaram\",\"Hyderabad\")\n",
    "jay.create_customer()"
   ]
  },
  {
   "cell_type": "code",
   "execution_count": 4,
   "metadata": {},
   "outputs": [
    {
     "name": "stdout",
     "output_type": "stream",
     "text": [
      "creating customer\n",
      "insert into customer(name,address,phone,email) values('jayaram','Hyderabad','9676622025','jay@gmail.com')\n"
     ]
    }
   ],
   "source": [
    "#sales.py. installed this from third party vendor.\n",
    "class Customer:\n",
    "    def __init__(self, name, address, phone, email):\n",
    "        self.name=name\n",
    "        self.address=address\n",
    "        self.email=email\n",
    "        self.phone=phone\n",
    "        \n",
    "    def create_customer(self):\n",
    "        print(\"creating customer\")\n",
    "        q=\"insert into customer(name,address,phone,email) values('%s','%s','%s','%s')\"%(self.name, self.address, self.phone, self.email)\n",
    "        print(q)\n",
    "\n",
    "#app.py\n",
    "#from sales import Customer\n",
    "jay=Customer(\"jayaram\",\"Hyderabad\",\"9676622025\",\"jay@gmail.com\")\n",
    "jay.create_customer()"
   ]
  },
  {
   "cell_type": "code",
   "execution_count": null,
   "metadata": {},
   "outputs": [],
   "source": [
    "#sales.py. v1 installed this from third party vendor.\n",
    "class Customer:\n",
    "    def __init__(self, name, address, phone, email):\n",
    "        self.name=name\n",
    "        self.address=address\n",
    "        self.email=email\n",
    "        self.phone=phone\n",
    "        \n",
    "    def create_customer(self):\n",
    "        print(\"creating customer\")\n",
    "        q=\"insert into customer(name,address,phone,email) values('%s','%s','%s','%s')\"%(self.name, self.address, self.phone,\n",
    "                                                                                        self.email)\n",
    "        print(q)\n",
    "\n",
    "#app.py\n",
    "#from sales import Customer\n",
    "jay=Customer(\"jayaram\",\"Hyderabad\",\"9676622025\",\"jay@gmail.com\")\n",
    "jay.create_customer()\n",
    "# the vendor released a new version v2. we want to install it. what's happen now if I install it. \n",
    "#pip install sales==v2: it will uninstall existing sales and install new sales. what ever the code we written in v1\n",
    "# we lost it."
   ]
  },
  {
   "cell_type": "code",
   "execution_count": 10,
   "metadata": {},
   "outputs": [
    {
     "name": "stdout",
     "output_type": "stream",
     "text": [
      "creating customer\n",
      "insert into customer(name,address, email, phone) values('jayaram','Hyderabad','jay@gmail.com','9676622025')\n"
     ]
    }
   ],
   "source": [
    "#sales.py. installed this from third party vendor.\n",
    "class Customer:\n",
    "    def __init__(self, name, address):\n",
    "        self.name=name\n",
    "        self.address=address\n",
    "        \n",
    "    def get_insert_query(self):\n",
    "        q=\"insert into customer(name,address) values('%s','%s')\"%(self.name, self.address)\n",
    "        return q\n",
    "        \n",
    "    def create_customer(self):\n",
    "        print(\"creating customer\")\n",
    "        q=self.get_insert_query()\n",
    "        print(q)\n",
    "\n",
    "#app.py\n",
    "#from sales import Customer\n",
    "class MyCustomer:\n",
    "    def __init__(self, name, address, email, phone):\n",
    "        self.name=name\n",
    "        self.address=address\n",
    "        self.email=email\n",
    "        self.phone=phone\n",
    "        \n",
    "    def get_insert_query(self):\n",
    "        q=\"insert into customer(name,address, email, phone) values('%s','%s','%s','%s')\"%(self.name, self.address,self.email,self.phone)\n",
    "        return q\n",
    "        \n",
    "    def create_customer(self):\n",
    "        print(\"creating customer\")\n",
    "        q=self.get_insert_query()\n",
    "        print(q)\n",
    "jay=MyCustomer(\"jayaram\",\"Hyderabad\",\"jay@gmail.com\",\"9676622025\")\n",
    "jay.create_customer()"
   ]
  },
  {
   "cell_type": "code",
   "execution_count": 11,
   "metadata": {},
   "outputs": [
    {
     "ename": "AttributeError",
     "evalue": "'MyCustomer' object has no attribute 'create_customer'",
     "output_type": "error",
     "traceback": [
      "\u001b[1;31m---------------------------------------------------------------------------\u001b[0m",
      "\u001b[1;31mAttributeError\u001b[0m                            Traceback (most recent call last)",
      "\u001b[1;32m<ipython-input-11-a68e05506d32>\u001b[0m in \u001b[0;36m<module>\u001b[1;34m\u001b[0m\n\u001b[0;32m     28\u001b[0m \u001b[1;33m\u001b[0m\u001b[0m\n\u001b[0;32m     29\u001b[0m \u001b[0mjay\u001b[0m\u001b[1;33m=\u001b[0m\u001b[0mMyCustomer\u001b[0m\u001b[1;33m(\u001b[0m\u001b[1;34m\"jayaram\"\u001b[0m\u001b[1;33m,\u001b[0m\u001b[1;34m\"Hyderabad\"\u001b[0m\u001b[1;33m,\u001b[0m\u001b[1;34m\"jay@gmail.com\"\u001b[0m\u001b[1;33m,\u001b[0m\u001b[1;34m\"9676622025\"\u001b[0m\u001b[1;33m)\u001b[0m\u001b[1;33m\u001b[0m\u001b[1;33m\u001b[0m\u001b[0m\n\u001b[1;32m---> 30\u001b[1;33m \u001b[0mjay\u001b[0m\u001b[1;33m.\u001b[0m\u001b[0mcreate_customer\u001b[0m\u001b[1;33m(\u001b[0m\u001b[1;33m)\u001b[0m\u001b[1;33m\u001b[0m\u001b[1;33m\u001b[0m\u001b[0m\n\u001b[0m",
      "\u001b[1;31mAttributeError\u001b[0m: 'MyCustomer' object has no attribute 'create_customer'"
     ]
    }
   ],
   "source": [
    "#sales.py. installed this from third party vendor.\n",
    "class Customer:\n",
    "    def __init__(self, name, address):\n",
    "        self.name=name\n",
    "        self.address=address\n",
    "        \n",
    "    def get_insert_query(self):\n",
    "        q=\"insert into customer(name,address) values('%s','%s')\"%(self.name, self.address)\n",
    "        return q\n",
    "        \n",
    "    def create_customer(self):\n",
    "        print(\"creating customer\")\n",
    "        q=self.get_insert_query()\n",
    "        print(q)\n",
    "\n",
    "#app.py\n",
    "#from sales import Customer\n",
    "class MyCustomer:\n",
    "    def __init__(self, name, address, email, phone):\n",
    "        self.name=name\n",
    "        self.address=address\n",
    "        self.email=email\n",
    "        self.phone=phone\n",
    "        \n",
    "    def get_insert_query(self):\n",
    "        q=\"insert into customer(name,address, email, phone) values('%s','%s','%s','%s')\"%(self.name, self.address,self.email,self.phone)\n",
    "        return q\n",
    "        \n",
    "jay=MyCustomer(\"jayaram\",\"Hyderabad\",\"jay@gmail.com\",\"9676622025\")\n",
    "jay.create_customer()"
   ]
  },
  {
   "cell_type": "code",
   "execution_count": 12,
   "metadata": {},
   "outputs": [
    {
     "name": "stdout",
     "output_type": "stream",
     "text": [
      "creating customer\n",
      "insert into customer(name,address, email, phone) values('jayaram','Hyderabad','jay@gmail.com','9676622025')\n"
     ]
    }
   ],
   "source": [
    "#sales.py. installed this from third party vendor.\n",
    "class Customer:\n",
    "    def __init__(self, name, address):\n",
    "        self.name=name\n",
    "        self.address=address\n",
    "        \n",
    "    def get_insert_query(self):\n",
    "        q=\"insert into customer(name,address) values('%s','%s')\"%(self.name, self.address)\n",
    "        return q\n",
    "        \n",
    "    def create_customer(self):\n",
    "        print(\"creating customer\")\n",
    "        q=self.get_insert_query()\n",
    "        print(q)\n",
    "\n",
    "#app.py\n",
    "#from sales import Customer\n",
    "class MyCustomer(Customer):\n",
    "    def __init__(self, name, address, email, phone):\n",
    "        self.name=name\n",
    "        self.address=address\n",
    "        self.email=email\n",
    "        self.phone=phone\n",
    "        \n",
    "    def get_insert_query(self):\n",
    "        q=\"insert into customer(name,address, email, phone) values('%s','%s','%s','%s')\"%(self.name, self.address,self.email,self.phone)\n",
    "        return q\n",
    "        \n",
    "jay=MyCustomer(\"jayaram\",\"Hyderabad\",\"jay@gmail.com\",\"9676622025\")\n",
    "jay.create_customer()"
   ]
  },
  {
   "cell_type": "code",
   "execution_count": null,
   "metadata": {},
   "outputs": [],
   "source": [
    "#sales.py. installed this from third party vendor.\n",
    "class Customer:\n",
    "    def __init__(self, name, address):\n",
    "        self.name=name\n",
    "        self.address=address\n",
    "        \n",
    "    def get_insert_query(self):\n",
    "        q=\"insert into customer(name,address) values('%s','%s')\"%(self.name, self.address)\n",
    "        return q\n",
    "        \n",
    "    def create_customer(self):\n",
    "        print(\"creating customer\")\n",
    "        q=self.get_insert_query()\n",
    "        print(q)\n",
    "\n",
    "#app.py\n",
    "#from sales import Customer\n",
    "class MyCustomer(Customer):\n",
    "    def __init__(self, name, address, email, phone):\n",
    "        self.name=name\n",
    "        self.address=address\n",
    "        self.email=email\n",
    "        self.phone=phone\n",
    "        \n",
    "    def get_insert_query(self):\n",
    "        q=\"insert into customer(name,address, email, phone) values('%s','%s','%s','%s')\"%(self.name, self.address,self.email,self.phone)\n",
    "        return q\n",
    "        \n",
    "jay=MyCustomer(\"jayaram\",\"Hyderabad\",\"jay@gmail.com\",\"9676622025\")\n",
    "jay.create_customer()"
   ]
  },
  {
   "cell_type": "code",
   "execution_count": null,
   "metadata": {},
   "outputs": [],
   "source": [
    "#sales.py. installed this from third party vendor.\n",
    "class Customer:\n",
    "    def __init__(self, name, address):\n",
    "        self.name=name\n",
    "        self.address=address\n",
    "        \n",
    "    def get_insert_query(self):\n",
    "        q=\"insert into customer(name,address) values('%s','%s')\"%(self.name, self.address)\n",
    "        return q\n",
    "        \n",
    "    def create_customer(self):\n",
    "        print(\"creating customer\")\n",
    "        q=self.get_insert_query()\n",
    "        print(q)\n",
    "\n",
    "#app.py\n",
    "#from sales import Customer\n",
    "class MyCustomer(Customer):\n",
    "    def __init__(self, name, address, email, phone):\n",
    "        self.__init__(name,address)# this calls the My customer __init__ method it self. \n",
    "#         self.name=name\n",
    "#         self.address=address\n",
    "        self.email=email\n",
    "        self.phone=phone\n",
    "        \n",
    "    def get_insert_query(self):\n",
    "        q=\"insert into customer(name,address, email, phone) values('%s','%s','%s','%s')\"%(self.name, self.address,self.email,self.phone)\n",
    "        return q\n",
    "        \n",
    "jay=MyCustomer(\"jayaram\",\"Hyderabad\",\"jay@gmail.com\",\"9676622025\")\n",
    "jay.create_customer()"
   ]
  },
  {
   "cell_type": "code",
   "execution_count": 14,
   "metadata": {},
   "outputs": [
    {
     "name": "stdout",
     "output_type": "stream",
     "text": [
      "creating customer\n",
      "insert into customer(name,address, email, phone) values('jayaram','Hyderabad','jay@gmail.com','9676622025')\n"
     ]
    }
   ],
   "source": [
    "#sales.py. installed this from third party vendor.\n",
    "class Customer:\n",
    "    def __init__(self, name, address):\n",
    "        self.name=name\n",
    "        self.address=address\n",
    "        \n",
    "    def get_insert_query(self):\n",
    "        q=\"insert into customer(name,address) values('%s','%s')\"%(self.name, self.address)\n",
    "        return q\n",
    "        \n",
    "    def create_customer(self):\n",
    "        print(\"creating customer\")\n",
    "        q=self.get_insert_query()\n",
    "        print(q)\n",
    "\n",
    "#app.py\n",
    "#from sales import Customer\n",
    "class MyCustomer(Customer):\n",
    "    def __init__(self, name, address, email, phone):\n",
    "        Customer.__init__(self,name, address)\n",
    "        #self.__init__(name,address) \n",
    "#         self.name=name\n",
    "#         self.address=address\n",
    "        self.email=email\n",
    "        self.phone=phone\n",
    "        \n",
    "    def get_insert_query(self):\n",
    "        q=\"insert into customer(name,address, email, phone) values('%s','%s','%s','%s')\"%(self.name, self.address,self.email,self.phone)\n",
    "        return q\n",
    "        \n",
    "jay=MyCustomer(\"jayaram\",\"Hyderabad\",\"jay@gmail.com\",\"9676622025\")\n",
    "jay.create_customer()"
   ]
  },
  {
   "cell_type": "code",
   "execution_count": 15,
   "metadata": {},
   "outputs": [
    {
     "name": "stdout",
     "output_type": "stream",
     "text": [
      "creating customer\n",
      "insert into customer(name,address, email, phone) values('jayaram','Hyderabad','jay@gmail.com','9676622025')\n"
     ]
    }
   ],
   "source": [
    "#sales.py. installed this from third party vendor.\n",
    "class Customer:\n",
    "    def __init__(self, name, address):\n",
    "        self.name=name\n",
    "        self.address=address\n",
    "        \n",
    "    def get_insert_query(self):\n",
    "        q=\"insert into customer(name,address) values('%s','%s')\"%(self.name, self.address)\n",
    "        return q\n",
    "        \n",
    "    def create_customer(self):\n",
    "        print(\"creating customer\")\n",
    "        q=self.get_insert_query()\n",
    "        print(q)\n",
    "\n",
    "#app.py\n",
    "#from sales import Customer\n",
    "class MyCustomer(Customer):\n",
    "    def __init__(self, name, address, email, phone):\n",
    "#         Customer.__init__(self,name, address)\n",
    "        super(MyCustomer, self).__init__(name, address)\n",
    "        #self.__init__(name,address) \n",
    "#         self.name=name\n",
    "#         self.address=address\n",
    "        self.email=email\n",
    "        self.phone=phone\n",
    "        \n",
    "    def get_insert_query(self):\n",
    "        q=\"insert into customer(name,address, email, phone) values('%s','%s','%s','%s')\"%(self.name, self.address,self.email,self.phone)\n",
    "        return q\n",
    "        \n",
    "jay=MyCustomer(\"jayaram\",\"Hyderabad\",\"jay@gmail.com\",\"9676622025\")\n",
    "jay.create_customer()"
   ]
  },
  {
   "cell_type": "code",
   "execution_count": null,
   "metadata": {},
   "outputs": [],
   "source": [
    "class Customer:\n",
    "    def __init__(self, name, address):\n",
    "        self.name=name\n",
    "        self.address=address\n",
    "    def get_insert_query(self):\n",
    "        q=\"insert into customer(name,address) values('%s','%s')\"%(self.name, self.address)\n",
    "        return q\n",
    "    def create_customer(self):\n",
    "        print(\"creating customer\")\n",
    "        q=self.get_insert_query()\n",
    "        print(q)\n",
    "class MyCustomer(Customer):\n",
    "    def __init__(self, name, address, email, phone):\n",
    "        super(MyCustomer, self).__init__(name, address)\n",
    "        self.email=email\n",
    "        self.phone=phone\n",
    "    def get_insert_query(self):\n",
    "        q=\"insert into customer(name,address, email, phone) values('%s','%s','%s','%s')\"%(self.name, self.address,self.email,self.phone)\n",
    "        return q   \n",
    "jay=MyCustomer(\"jayaram\",\"Hyderabad\",\"jay@gmail.com\",\"9676622025\")\n",
    "jay.create_customer()"
   ]
  },
  {
   "cell_type": "code",
   "execution_count": null,
   "metadata": {},
   "outputs": [],
   "source": [
    "#consider that there is a module stock, providing by third party vendor. which has Product class with name color cost price\n",
    "# method sales price.\n",
    "\n",
    "# extend the class with (discount, delivery_charges). write methods for sales price, with discount, without discount."
   ]
  },
  {
   "cell_type": "code",
   "execution_count": 17,
   "metadata": {},
   "outputs": [
    {
     "name": "stdout",
     "output_type": "stream",
     "text": [
      "Khayaathi technologies.\n",
      "Khayaathi technologies.\n"
     ]
    }
   ],
   "source": [
    "class Emp:\n",
    "    company = \"Khayaathi technologies.\"# class object attribute\n",
    "    def __init__(self, name, sal):\n",
    "        self.name=name# data object attribure\n",
    "        self.sal=sal# data object attribute\n",
    "        \n",
    "jay=Emp(\"Jayaram\",5000)\n",
    "print(jay.company)# class object attribute can be access with data object.\n",
    "print(Emp.company)\n"
   ]
  },
  {
   "cell_type": "code",
   "execution_count": 18,
   "metadata": {},
   "outputs": [
    {
     "name": "stdout",
     "output_type": "stream",
     "text": [
      "Khayaathi technologies.\n",
      "Khayaathi technologies.\n"
     ]
    },
    {
     "ename": "AttributeError",
     "evalue": "type object 'Emp' has no attribute 'name'",
     "output_type": "error",
     "traceback": [
      "\u001b[1;31m---------------------------------------------------------------------------\u001b[0m",
      "\u001b[1;31mAttributeError\u001b[0m                            Traceback (most recent call last)",
      "\u001b[1;32m<ipython-input-18-db9c3914c962>\u001b[0m in \u001b[0;36m<module>\u001b[1;34m\u001b[0m\n\u001b[0;32m      8\u001b[0m \u001b[0mprint\u001b[0m\u001b[1;33m(\u001b[0m\u001b[0mjay\u001b[0m\u001b[1;33m.\u001b[0m\u001b[0mcompany\u001b[0m\u001b[1;33m)\u001b[0m\u001b[1;31m# class object attribute can be access with data object.\u001b[0m\u001b[1;33m\u001b[0m\u001b[1;33m\u001b[0m\u001b[0m\n\u001b[0;32m      9\u001b[0m \u001b[0mprint\u001b[0m\u001b[1;33m(\u001b[0m\u001b[0mEmp\u001b[0m\u001b[1;33m.\u001b[0m\u001b[0mcompany\u001b[0m\u001b[1;33m)\u001b[0m\u001b[1;33m\u001b[0m\u001b[1;33m\u001b[0m\u001b[0m\n\u001b[1;32m---> 10\u001b[1;33m \u001b[0mprint\u001b[0m\u001b[1;33m(\u001b[0m\u001b[0mEmp\u001b[0m\u001b[1;33m.\u001b[0m\u001b[0mname\u001b[0m\u001b[1;33m)\u001b[0m\u001b[1;31m# Could not access the data object attribute with class object.\u001b[0m\u001b[1;33m\u001b[0m\u001b[1;33m\u001b[0m\u001b[0m\n\u001b[0m",
      "\u001b[1;31mAttributeError\u001b[0m: type object 'Emp' has no attribute 'name'"
     ]
    }
   ],
   "source": [
    "class Emp:\n",
    "    company = \"Khayaathi technologies.\"# class object attribute\n",
    "    def __init__(self, name, sal):\n",
    "        self.name=name# data object attribure\n",
    "        self.sal=sal# data object attribute\n",
    "        \n",
    "jay=Emp(\"Jayaram\",5000)\n",
    "print(jay.company)# class object attribute can be access with data object.\n",
    "print(Emp.company)\n",
    "print(Emp.name)# Could not access the data object attribute with class object."
   ]
  },
  {
   "cell_type": "code",
   "execution_count": 19,
   "metadata": {},
   "outputs": [
    {
     "name": "stdout",
     "output_type": "stream",
     "text": [
      "Khayaathi technologies.\n",
      "Khayaathi technologies.\n",
      "{'name': 'Jayaram', 'sal': 5000}\n"
     ]
    }
   ],
   "source": [
    "class Emp:\n",
    "    company = \"Khayaathi technologies.\"# class object attribute\n",
    "    def __init__(self, name, sal):\n",
    "        self.name=name# data object attribure\n",
    "        self.sal=sal# data object attribute\n",
    "    def get(self):\n",
    "        return self.__dict__\n",
    "        \n",
    "jay=Emp(\"Jayaram\",5000)\n",
    "print(jay.company)# class object attribute can be access with data object.\n",
    "print(Emp.company)\n",
    "#print(Emp.name)# Could not access the data object attribute with class object.\n",
    "print(jay.get())"
   ]
  },
  {
   "cell_type": "code",
   "execution_count": 20,
   "metadata": {},
   "outputs": [
    {
     "name": "stdout",
     "output_type": "stream",
     "text": [
      "Khayaathi technologies.\n",
      "Khayaathi technologies.\n",
      "{'name': 'Jayaram', 'sal': 5000}\n"
     ]
    }
   ],
   "source": [
    "class Emp:\n",
    "    company = \"Khayaathi technologies.\"\n",
    "    def __init__(self, name, sal):\n",
    "        self.name=name\n",
    "        self.sal=sal\n",
    "    def get(self):\n",
    "        return self.__dict__\n",
    "jay=Emp(\"Jayaram\",5000)\n",
    "print(jay.company)\n",
    "print(Emp.company)\n",
    "print(jay.get())"
   ]
  },
  {
   "cell_type": "code",
   "execution_count": 21,
   "metadata": {},
   "outputs": [
    {
     "name": "stdout",
     "output_type": "stream",
     "text": [
      "<class 'type'>\n"
     ]
    }
   ],
   "source": [
    "print(type(Emp))"
   ]
  },
  {
   "cell_type": "code",
   "execution_count": 22,
   "metadata": {},
   "outputs": [
    {
     "name": "stdout",
     "output_type": "stream",
     "text": [
      "<class '__main__.Emp'>\n"
     ]
    }
   ],
   "source": [
    "print(type(jay))"
   ]
  },
  {
   "cell_type": "code",
   "execution_count": null,
   "metadata": {},
   "outputs": [],
   "source": [
    "class Emp:\n",
    "    company = \"Khayaathi technologies.\"\n",
    "    def __init__(self, name, sal):\n",
    "        self.name=name\n",
    "        self.sal=sal\n",
    "    def get(self):\n",
    "        return self.__dict__\n",
    "jay=Emp(\"Jayaram\",5000)\n",
    "print(jay.company)\n",
    "print(Emp.company)\n",
    "print(jay.get())\n",
    "vedha = Emp(\"vedhanvesh\", 6000)\n",
    "print(Emp.name)\n",
    "print(Emp.sal)"
   ]
  },
  {
   "cell_type": "code",
   "execution_count": 23,
   "metadata": {},
   "outputs": [
    {
     "name": "stdout",
     "output_type": "stream",
     "text": [
      "<class 'int'>\n"
     ]
    }
   ],
   "source": [
    "a=100\n",
    "print(type(a))"
   ]
  },
  {
   "cell_type": "code",
   "execution_count": 24,
   "metadata": {},
   "outputs": [
    {
     "name": "stdout",
     "output_type": "stream",
     "text": [
      "<class '__main__.Emp'>\n"
     ]
    }
   ],
   "source": [
    "print(type(jay))"
   ]
  },
  {
   "cell_type": "code",
   "execution_count": 25,
   "metadata": {},
   "outputs": [
    {
     "name": "stdout",
     "output_type": "stream",
     "text": [
      "3000\n"
     ]
    }
   ],
   "source": [
    "a=1000\n",
    "b=2000\n",
    "print(a+b)"
   ]
  },
  {
   "cell_type": "code",
   "execution_count": 26,
   "metadata": {},
   "outputs": [
    {
     "name": "stdout",
     "output_type": "stream",
     "text": [
      "Khayaathi technologies.\n",
      "Khayaathi technologies.\n",
      "{'name': 'Jayaram', 'sal': 5000}\n"
     ]
    },
    {
     "ename": "TypeError",
     "evalue": "unsupported operand type(s) for +: 'Emp' and 'Emp'",
     "output_type": "error",
     "traceback": [
      "\u001b[1;31m---------------------------------------------------------------------------\u001b[0m",
      "\u001b[1;31mTypeError\u001b[0m                                 Traceback (most recent call last)",
      "\u001b[1;32m<ipython-input-26-3f133f13e7ce>\u001b[0m in \u001b[0;36m<module>\u001b[1;34m\u001b[0m\n\u001b[0;32m     11\u001b[0m \u001b[0mprint\u001b[0m\u001b[1;33m(\u001b[0m\u001b[0mjay\u001b[0m\u001b[1;33m.\u001b[0m\u001b[0mget\u001b[0m\u001b[1;33m(\u001b[0m\u001b[1;33m)\u001b[0m\u001b[1;33m)\u001b[0m\u001b[1;33m\u001b[0m\u001b[1;33m\u001b[0m\u001b[0m\n\u001b[0;32m     12\u001b[0m \u001b[0mvedha\u001b[0m \u001b[1;33m=\u001b[0m \u001b[0mEmp\u001b[0m\u001b[1;33m(\u001b[0m\u001b[1;34m\"vedhanvesh\"\u001b[0m\u001b[1;33m,\u001b[0m \u001b[1;36m6000\u001b[0m\u001b[1;33m)\u001b[0m\u001b[1;33m\u001b[0m\u001b[1;33m\u001b[0m\u001b[0m\n\u001b[1;32m---> 13\u001b[1;33m \u001b[0mprint\u001b[0m\u001b[1;33m(\u001b[0m\u001b[0mjay\u001b[0m\u001b[1;33m+\u001b[0m\u001b[0mvedha\u001b[0m\u001b[1;33m)\u001b[0m\u001b[1;33m\u001b[0m\u001b[1;33m\u001b[0m\u001b[0m\n\u001b[0m",
      "\u001b[1;31mTypeError\u001b[0m: unsupported operand type(s) for +: 'Emp' and 'Emp'"
     ]
    }
   ],
   "source": [
    "class Emp:\n",
    "    company = \"Khayaathi technologies.\"\n",
    "    def __init__(self, name, sal):\n",
    "        self.name=name\n",
    "        self.sal=sal\n",
    "    def get(self):\n",
    "        return self.__dict__\n",
    "jay=Emp(\"Jayaram\",5000)\n",
    "print(jay.company)\n",
    "print(Emp.company)\n",
    "print(jay.get())\n",
    "vedha = Emp(\"vedhanvesh\", 6000)\n",
    "print(jay+vedha)"
   ]
  },
  {
   "cell_type": "code",
   "execution_count": 27,
   "metadata": {},
   "outputs": [
    {
     "ename": "TypeError",
     "evalue": "unsupported operand type(s) for +: 'dict' and 'dict'",
     "output_type": "error",
     "traceback": [
      "\u001b[1;31m---------------------------------------------------------------------------\u001b[0m",
      "\u001b[1;31mTypeError\u001b[0m                                 Traceback (most recent call last)",
      "\u001b[1;32m<ipython-input-27-165804f7beb4>\u001b[0m in \u001b[0;36m<module>\u001b[1;34m\u001b[0m\n\u001b[1;32m----> 1\u001b[1;33m \u001b[1;33m{\u001b[0m\u001b[1;34m\"name\"\u001b[0m\u001b[1;33m:\u001b[0m\u001b[1;34m\"jay\"\u001b[0m\u001b[1;33m}\u001b[0m\u001b[1;33m+\u001b[0m\u001b[1;33m{\u001b[0m\u001b[1;34m\"name\"\u001b[0m\u001b[1;33m:\u001b[0m\u001b[1;34m\"vedha\"\u001b[0m\u001b[1;33m}\u001b[0m\u001b[1;33m\u001b[0m\u001b[1;33m\u001b[0m\u001b[0m\n\u001b[0m",
      "\u001b[1;31mTypeError\u001b[0m: unsupported operand type(s) for +: 'dict' and 'dict'"
     ]
    }
   ],
   "source": [
    "{\"name\":\"jay\"}+{\"name\":\"vedha\"}"
   ]
  },
  {
   "cell_type": "code",
   "execution_count": 28,
   "metadata": {},
   "outputs": [
    {
     "name": "stdout",
     "output_type": "stream",
     "text": [
      "300\n"
     ]
    }
   ],
   "source": [
    "a=100\n",
    "b=200\n",
    "print(a+b)"
   ]
  },
  {
   "cell_type": "code",
   "execution_count": null,
   "metadata": {},
   "outputs": [],
   "source": []
  }
 ],
 "metadata": {
  "kernelspec": {
   "display_name": "Python 3",
   "language": "python",
   "name": "python3"
  },
  "language_info": {
   "codemirror_mode": {
    "name": "ipython",
    "version": 3
   },
   "file_extension": ".py",
   "mimetype": "text/x-python",
   "name": "python",
   "nbconvert_exporter": "python",
   "pygments_lexer": "ipython3",
   "version": "3.8.3"
  }
 },
 "nbformat": 4,
 "nbformat_minor": 4
}
