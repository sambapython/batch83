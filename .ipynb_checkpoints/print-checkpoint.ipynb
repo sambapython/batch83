{
 "cells": [
  {
   "cell_type": "code",
   "execution_count": 1,
   "metadata": {},
   "outputs": [
    {
     "name": "stdout",
     "output_type": "stream",
     "text": [
      "hello\n"
     ]
    }
   ],
   "source": [
    "print(\"hello\")"
   ]
  },
  {
   "cell_type": "code",
   "execution_count": 2,
   "metadata": {},
   "outputs": [
    {
     "name": "stdout",
     "output_type": "stream",
     "text": [
      "hyderbad\n",
      "chennai\n",
      "banglore\n"
     ]
    }
   ],
   "source": [
    "print(\"hyderbad\")\n",
    "print(\"chennai\")\n",
    "print(\"banglore\")"
   ]
  },
  {
   "cell_type": "code",
   "execution_count": 3,
   "metadata": {},
   "outputs": [
    {
     "name": "stdout",
     "output_type": "stream",
     "text": [
      "hyderbad\n",
      "chennai\n",
      "banglore\n"
     ]
    }
   ],
   "source": [
    "print(\"hyderbad\\nchennai\\nbanglore\")"
   ]
  },
  {
   "cell_type": "code",
   "execution_count": 4,
   "metadata": {},
   "outputs": [
    {
     "name": "stdout",
     "output_type": "stream",
     "text": [
      "hyderbad\tchennai\tbanglore\n"
     ]
    }
   ],
   "source": [
    "print(\"hyderbad\\tchennai\\tbanglore\")"
   ]
  },
  {
   "cell_type": "code",
   "execution_count": 5,
   "metadata": {},
   "outputs": [
    {
     "name": "stdout",
     "output_type": "stream",
     "text": [
      "hyderbad\n",
      "chennai\n",
      "banglore\n"
     ]
    }
   ],
   "source": [
    "print(\"hyderbad\")\n",
    "print(\"chennai\")\n",
    "print(\"banglore\")"
   ]
  },
  {
   "cell_type": "code",
   "execution_count": 6,
   "metadata": {},
   "outputs": [
    {
     "name": "stdout",
     "output_type": "stream",
     "text": [
      "hyderbad chennai\n",
      "banglore\n"
     ]
    }
   ],
   "source": [
    "print(\"hyderbad\",end=\" \")\n",
    "print(\"chennai\")# default end=\"\\n\"\n",
    "print(\"banglore\")"
   ]
  },
  {
   "cell_type": "code",
   "execution_count": 7,
   "metadata": {},
   "outputs": [
    {
     "name": "stdout",
     "output_type": "stream",
     "text": [
      "hyderbad chennai banglore\n"
     ]
    }
   ],
   "source": [
    "print(\"hyderbad\",end=\" \")\n",
    "print(\"chennai\",end=\" \")# default end=\"\\n\"\n",
    "print(\"banglore\")"
   ]
  },
  {
   "cell_type": "code",
   "execution_count": 8,
   "metadata": {},
   "outputs": [
    {
     "name": "stdout",
     "output_type": "stream",
     "text": [
      "jay 5.23423 19.283554 2.844654\n"
     ]
    }
   ],
   "source": [
    "name=\"jay\"\n",
    "age=5.23423\n",
    "weight=19.283554\n",
    "height=2.844654\n",
    "print(name,age,weight,height)"
   ]
  },
  {
   "cell_type": "code",
   "execution_count": 9,
   "metadata": {},
   "outputs": [
    {
     "name": "stdout",
     "output_type": "stream",
     "text": [
      "jay;5.23423;19.283554;2.844654\n"
     ]
    }
   ],
   "source": [
    "name=\"jay\"\n",
    "age=5.23423\n",
    "weight=19.283554\n",
    "height=2.844654\n",
    "print(name,age,weight,height,sep=\";\")"
   ]
  },
  {
   "cell_type": "code",
   "execution_count": 10,
   "metadata": {},
   "outputs": [
    {
     "name": "stdout",
     "output_type": "stream",
     "text": [
      "jay=>5.23423=>19.283554=>2.844654\n"
     ]
    }
   ],
   "source": [
    "name=\"jay\"\n",
    "age=5.23423\n",
    "weight=19.283554\n",
    "height=2.844654\n",
    "print(name,age,weight,height,sep=\"=>\")"
   ]
  },
  {
   "cell_type": "code",
   "execution_count": 11,
   "metadata": {},
   "outputs": [
    {
     "name": "stdout",
     "output_type": "stream",
     "text": [
      "jay#$%5.23423#$%19.283554#$%2.844654\n"
     ]
    }
   ],
   "source": [
    "name=\"jay\"\n",
    "age=5.23423\n",
    "weight=19.283554\n",
    "height=2.844654\n",
    "print(name,age,weight,height,sep=\"#$%\")"
   ]
  },
  {
   "cell_type": "code",
   "execution_count": 12,
   "metadata": {},
   "outputs": [
    {
     "name": "stdout",
     "output_type": "stream",
     "text": [
      "the product apple cost is 20 rs\n"
     ]
    }
   ],
   "source": [
    "name=\"apple\"\n",
    "cost=20\n",
    "# the product apple cost is 20rs\n",
    "print(\"the product\",name,\"cost is\",cost,\"rs\")"
   ]
  },
  {
   "cell_type": "code",
   "execution_count": 13,
   "metadata": {
    "scrolled": true
   },
   "outputs": [
    {
     "ename": "TypeError",
     "evalue": "unsupported operand type(s) for +: 'int' and 'str'",
     "output_type": "error",
     "traceback": [
      "\u001b[1;31m---------------------------------------------------------------------------\u001b[0m",
      "\u001b[1;31mTypeError\u001b[0m                                 Traceback (most recent call last)",
      "\u001b[1;32m<ipython-input-13-53854bd2b5b7>\u001b[0m in \u001b[0;36m<module>\u001b[1;34m\u001b[0m\n\u001b[0;32m      2\u001b[0m \u001b[0mcost\u001b[0m\u001b[1;33m=\u001b[0m\u001b[1;36m20\u001b[0m\u001b[1;33m\u001b[0m\u001b[1;33m\u001b[0m\u001b[0m\n\u001b[0;32m      3\u001b[0m \u001b[1;31m# the product apple cost is 20rs\u001b[0m\u001b[1;33m\u001b[0m\u001b[1;33m\u001b[0m\u001b[1;33m\u001b[0m\u001b[0m\n\u001b[1;32m----> 4\u001b[1;33m \u001b[0mprint\u001b[0m\u001b[1;33m(\u001b[0m\u001b[1;34m\"the product\"\u001b[0m\u001b[1;33m,\u001b[0m\u001b[0mname\u001b[0m\u001b[1;33m,\u001b[0m\u001b[1;34m\"cost is\"\u001b[0m\u001b[1;33m,\u001b[0m\u001b[0mcost\u001b[0m\u001b[1;33m+\u001b[0m\u001b[1;34m\"rs\"\u001b[0m\u001b[1;33m)\u001b[0m\u001b[1;33m\u001b[0m\u001b[1;33m\u001b[0m\u001b[0m\n\u001b[0m",
      "\u001b[1;31mTypeError\u001b[0m: unsupported operand type(s) for +: 'int' and 'str'"
     ]
    }
   ],
   "source": [
    "name=\"apple\"\n",
    "cost=20\n",
    "# the product apple cost is 20rs\n",
    "print(\"the product\",name,\"cost is\",cost+\"rs\")"
   ]
  },
  {
   "cell_type": "code",
   "execution_count": 14,
   "metadata": {},
   "outputs": [
    {
     "name": "stdout",
     "output_type": "stream",
     "text": [
      "the product apple cost is 20rs\n"
     ]
    }
   ],
   "source": [
    "name=\"apple\"\n",
    "cost=20\n",
    "# the product apple cost is 20rs\n",
    "print(\"the product\",name,\"cost is\",str(cost)+\"rs\")"
   ]
  },
  {
   "cell_type": "code",
   "execution_count": null,
   "metadata": {},
   "outputs": [],
   "source": [
    "a=input(\"enter a value12324e:\")\n",
    "print(a)"
   ]
  },
  {
   "cell_type": "code",
   "execution_count": 1,
   "metadata": {},
   "outputs": [
    {
     "name": "stdout",
     "output_type": "stream",
     "text": [
      "jayaram in 4 years old. he is\n"
     ]
    }
   ],
   "source": [
    "name=\"jayaram\"\n",
    "age=4\n",
    "height=3.23525\n",
    "weight=19.267899\n",
    "# jayaram in 4 years old. he is 3.23FEET height and 19.27KG weight.\n",
    "print(name,\"in\",age,\"years old. he is\")"
   ]
  },
  {
   "cell_type": "code",
   "execution_count": 2,
   "metadata": {},
   "outputs": [
    {
     "name": "stdout",
     "output_type": "stream",
     "text": [
      "jayaram in 4 years old. he is 3.23525 FEET height and 19.267899 KG weight.\n"
     ]
    }
   ],
   "source": [
    "name=\"jayaram\"\n",
    "age=4\n",
    "height=3.23525\n",
    "weight=19.267899\n",
    "# jayaram in 4 years old. he is 3.23FEET height and 19.27KG weight.\n",
    "print(name,\"in\",age,\"years old. he is\",height,\"FEET height and\",weight,\"KG weight.\")"
   ]
  },
  {
   "cell_type": "code",
   "execution_count": 3,
   "metadata": {},
   "outputs": [
    {
     "name": "stdout",
     "output_type": "stream",
     "text": [
      "jayaram in 4 years old. he is 3.23525FEET height and 19.267899KG weight.\n"
     ]
    }
   ],
   "source": [
    "name=\"jayaram\"\n",
    "age=4\n",
    "height=3.23525\n",
    "weight=19.267899\n",
    "# jayaram in 4 years old. he is 3.23FEET height and 19.27KG weight.\n",
    "print(name,\"in\",age,\"years old. he is\",str(height)+\"FEET height and\",str(weight)+\"KG weight.\")"
   ]
  },
  {
   "cell_type": "code",
   "execution_count": 4,
   "metadata": {},
   "outputs": [
    {
     "name": "stdout",
     "output_type": "stream",
     "text": [
      "jayaram in 4 years old. he is 3.24FEET height and 19.27KG weight.\n"
     ]
    }
   ],
   "source": [
    "name=\"jayaram\"\n",
    "age=4\n",
    "height=3.23525\n",
    "weight=19.267899\n",
    "# jayaram in 4 years old. he is 3.24FEET height and 19.27KG weight.\n",
    "print(name,\"in\",age,\"years old. he is\",str(round(height,2))+\"FEET height and\",str(round(weight,2))+\"KG weight.\")"
   ]
  },
  {
   "cell_type": "code",
   "execution_count": 5,
   "metadata": {},
   "outputs": [
    {
     "name": "stdout",
     "output_type": "stream",
     "text": [
      "jayaram in 4 years old. he is 3.24FEET height and 19.27KG weight.\n",
      "%s in %s years old. ('jayaram', 4)\n"
     ]
    }
   ],
   "source": [
    "name=\"jayaram\"\n",
    "age=4\n",
    "height=3.23525\n",
    "weight=19.267899\n",
    "# jayaram in 4 years old. he is 3.24FEET height and 19.27KG weight.\n",
    "print(name,\"in\",age,\"years old. he is\",str(round(height,2))+\"FEET height and\",str(round(weight,2))+\"KG weight.\")\n",
    "print(\"%s in %s years old.\",(name,age))#format specifiers"
   ]
  },
  {
   "cell_type": "code",
   "execution_count": 6,
   "metadata": {},
   "outputs": [
    {
     "name": "stdout",
     "output_type": "stream",
     "text": [
      "jayaram in 4 years old. he is 3.24FEET height and 19.27KG weight.\n",
      "jayaram in 4 years old.\n"
     ]
    }
   ],
   "source": [
    "name=\"jayaram\"\n",
    "age=4\n",
    "height=3.23525\n",
    "weight=19.267899\n",
    "# jayaram in 4 years old. he is 3.24FEET height and 19.27KG weight.\n",
    "print(name,\"in\",age,\"years old. he is\",str(round(height,2))+\"FEET height and\",str(round(weight,2))+\"KG weight.\")\n",
    "print(\"%s in %s years old.\"%(name,age))#format specifiers"
   ]
  },
  {
   "cell_type": "code",
   "execution_count": 7,
   "metadata": {},
   "outputs": [
    {
     "name": "stdout",
     "output_type": "stream",
     "text": [
      "jayaram in 4 years old. he is 3.24FEET height and 19.27KG weight.\n",
      "jayaram in 4 years old. he is 3.23525FEET height and 19.267899KG weight\n"
     ]
    }
   ],
   "source": [
    "name=\"jayaram\"\n",
    "age=4\n",
    "height=3.23525\n",
    "weight=19.267899\n",
    "# jayaram in 4 years old. he is 3.24FEET height and 19.27KG weight.\n",
    "print(name,\"in\",age,\"years old. he is\",str(round(height,2))+\"FEET height and\",str(round(weight,2))+\"KG weight.\")\n",
    "print(\"%s in %s years old. he is %sFEET height and %sKG weight\"%(name,age, height, weight))#format specifiers"
   ]
  },
  {
   "cell_type": "code",
   "execution_count": 9,
   "metadata": {},
   "outputs": [
    {
     "name": "stdout",
     "output_type": "stream",
     "text": [
      "jayaram in 4 years old. he is 3.24FEET height and 19.27KG weight.\n",
      "jayaram in 4 years old. he is 3.24FEET height and 19.27KG weight.\n"
     ]
    }
   ],
   "source": [
    "name=\"jayaram\"\n",
    "age=4\n",
    "height=3.23525\n",
    "weight=19.267899\n",
    "# jayaram in 4 years old. he is 3.24FEET height and 19.27KG weight.\n",
    "print(name,\"in\",age,\"years old. he is\",str(round(height,2))+\"FEET height and\",str(round(weight,2))+\"KG weight.\")\n",
    "print(\"%s in %s years old. he is %sFEET height and %sKG weight.\"%(name,age, round(height,2), round(weight,2)))#format specifiers"
   ]
  },
  {
   "cell_type": "code",
   "execution_count": 10,
   "metadata": {},
   "outputs": [
    {
     "name": "stdout",
     "output_type": "stream",
     "text": [
      "jayaram in 4 years old. he is 3.24FEET height and 19.27KG weight.\n",
      "jayaram in 4 years old. he is 3.23525FEET height and 19.267899KG weight.\n"
     ]
    }
   ],
   "source": [
    "name=\"jayaram\"\n",
    "age=4\n",
    "height=3.23525\n",
    "weight=19.267899\n",
    "# jayaram in 4 years old. he is 3.24FEET height and 19.27KG weight.\n",
    "print(name,\"in\",age,\"years old. he is\",str(round(height,2))+\"FEET height and\",str(round(weight,2))+\"KG weight.\")\n",
    "print(\"%s in %s years old. he is %sFEET height and %sKG weight.\"%(name,age, height, weight))#format specifiers"
   ]
  },
  {
   "cell_type": "code",
   "execution_count": 11,
   "metadata": {},
   "outputs": [
    {
     "name": "stdout",
     "output_type": "stream",
     "text": [
      "jayaram in 4 years old. he is 3.24FEET height and 19.27KG weight.\n",
      "jayaram in 4 years old. he is 3.23525FEET height and 19.267899KG weight.\n",
      "jayaram in 4 years old. he is 3.235250FEET height and 19.267899KG weight.\n"
     ]
    }
   ],
   "source": [
    "name=\"jayaram\"\n",
    "age=4\n",
    "height=3.23525\n",
    "weight=19.267899\n",
    "# jayaram in 4 years old. he is 3.24FEET height and 19.27KG weight.\n",
    "print(name,\"in\",age,\"years old. he is\",str(round(height,2))+\"FEET height and\",str(round(weight,2))+\"KG weight.\")\n",
    "print(\"%s in %s years old. he is %sFEET height and %sKG weight.\"%(name,age, height, weight))#format specifiers\n",
    "print(\"%s in %s years old. he is %fFEET height and %fKG weight.\"%(name,age, height, weight))#format specifiers"
   ]
  },
  {
   "cell_type": "code",
   "execution_count": 12,
   "metadata": {},
   "outputs": [
    {
     "name": "stdout",
     "output_type": "stream",
     "text": [
      "jayaram in 4 years old. he is 3.24FEET height and 19.27KG weight.\n",
      "jayaram in 4 years old. he is 3.23525FEET height and 19.267899KG weight.\n",
      "jayaram in 4 years old. he is 3.235250FEET height and 19.267899KG weight.\n",
      "jayaram in 4 years old. he is 3.24FEET height and 19.27KG weight.\n"
     ]
    }
   ],
   "source": [
    "name=\"jayaram\"\n",
    "age=4\n",
    "height=3.23525\n",
    "weight=19.267899\n",
    "# jayaram in 4 years old. he is 3.24FEET height and 19.27KG weight.\n",
    "print(name,\"in\",age,\"years old. he is\",str(round(height,2))+\"FEET height and\",str(round(weight,2))+\"KG weight.\")\n",
    "print(\"%s in %s years old. he is %sFEET height and %sKG weight.\"%(name,age, height, weight))#format specifiers\n",
    "print(\"%s in %s years old. he is %fFEET height and %fKG weight.\"%(name,age, height, weight))#format specifiers\n",
    "print(\"%s in %s years old. he is %.2fFEET height and %.2fKG weight.\"%(name,age, height, weight))#format specifiers"
   ]
  },
  {
   "cell_type": "code",
   "execution_count": 13,
   "metadata": {},
   "outputs": [
    {
     "name": "stdout",
     "output_type": "stream",
     "text": [
      "jayaram in 4 years old. he is 3.24FEET height and 19.27KG weight.\n",
      "jayaram in 4 years old. he is 3.24FEET height and 19.27KG weight.\n"
     ]
    }
   ],
   "source": [
    "name=\"jayaram\"\n",
    "age=4\n",
    "height=3.23525\n",
    "weight=19.267899\n",
    "# jayaram in 4 years old. he is 3.24FEET height and 19.27KG weight.\n",
    "print(name,\"in\",age,\"years old. he is\",str(round(height,2))+\"FEET height and\",str(round(weight,2))+\"KG weight.\")\n",
    "print(\"%s in %s years old. he is %.2fFEET height and %.2fKG weight.\"%(name,age, height, weight))#format specifiers"
   ]
  },
  {
   "cell_type": "code",
   "execution_count": 14,
   "metadata": {},
   "outputs": [
    {
     "name": "stdout",
     "output_type": "stream",
     "text": [
      "jayaram in 4 years old. he is 3.24FEET height and 19.27KG weight.\n",
      "jayaram in 4 years old. he is 3.24FEET height and 19.27KG weight.\n",
      "jayaram\n"
     ]
    }
   ],
   "source": [
    "name=\"jayaram\"\n",
    "age=4\n",
    "height=3.23525\n",
    "weight=19.267899\n",
    "# jayaram in 4 years old. he is 3.24FEET height and 19.27KG weight.\n",
    "print(name,\"in\",age,\"years old. he is\",str(round(height,2))+\"FEET height and\",str(round(weight,2))+\"KG weight.\")\n",
    "print(\"%s in %s years old. he is %.2fFEET height and %.2fKG weight.\"%(name,age, height, weight))#format specifiers\n",
    "print(f\"{name}\")     #template strings/ fstrings"
   ]
  },
  {
   "cell_type": "code",
   "execution_count": 15,
   "metadata": {},
   "outputs": [
    {
     "name": "stdout",
     "output_type": "stream",
     "text": [
      "jayaram is 4 years old. he is 3.24FEET height and 19.27KG weight.\n",
      "jayaram is 4 years old. he is 3.24FEET height and 19.27KG weight.\n",
      "jayaram is 4 years old.\n"
     ]
    }
   ],
   "source": [
    "name=\"jayaram\"\n",
    "age=4\n",
    "height=3.23525\n",
    "weight=19.267899\n",
    "# jayaram is 4 years old. he is 3.24FEET height and 19.27KG weight.\n",
    "print(name,\"is\",age,\"years old. he is\",str(round(height,2))+\"FEET height and\",str(round(weight,2))+\"KG weight.\")\n",
    "print(\"%s is %s years old. he is %.2fFEET height and %.2fKG weight.\"%(name,age, height, weight))#format specifiers\n",
    "print(f\"{name} is {age} years old.\")     #template strings/ fstrings"
   ]
  },
  {
   "cell_type": "code",
   "execution_count": 16,
   "metadata": {},
   "outputs": [
    {
     "name": "stdout",
     "output_type": "stream",
     "text": [
      "jayaram is 4 years old. he is 3.24FEET height and 19.27KG weight.\n",
      "jayaram is 4 years old. he is 3.24FEET height and 19.27KG weight.\n",
      "jayaram is 4 years old. he is 3.23525FEET height and 19.267899KG weight\n"
     ]
    }
   ],
   "source": [
    "name=\"jayaram\"\n",
    "age=4\n",
    "height=3.23525\n",
    "weight=19.267899\n",
    "# jayaram is 4 years old. he is 3.24FEET height and 19.27KG weight.\n",
    "print(name,\"is\",age,\"years old. he is\",str(round(height,2))+\"FEET height and\",str(round(weight,2))+\"KG weight.\")\n",
    "print(\"%s is %s years old. he is %.2fFEET height and %.2fKG weight.\"%(name,age, height, weight))#format specifiers\n",
    "print(f\"{name} is {age} years old. he is {height}FEET height and {weight}KG weight\")     #template strings/ fstrings"
   ]
  },
  {
   "cell_type": "code",
   "execution_count": 17,
   "metadata": {},
   "outputs": [
    {
     "name": "stdout",
     "output_type": "stream",
     "text": [
      "jayaram is 4 years old. he is 3.24FEET height and 19.27KG weight.\n",
      "jayaram is 4 years old. he is 3.24FEET height and 19.27KG weight.\n",
      "jayaram is 4 years old. he is 3.24FEET height and 19.27KG weight\n"
     ]
    }
   ],
   "source": [
    "name=\"jayaram\"\n",
    "age=4\n",
    "height=3.23525\n",
    "weight=19.267899\n",
    "# jayaram is 4 years old. he is 3.24FEET height and 19.27KG weight.\n",
    "print(name,\"is\",age,\"years old. he is\",str(round(height,2))+\"FEET height and\",str(round(weight,2))+\"KG weight.\")\n",
    "print(\"%s is %s years old. he is %.2fFEET height and %.2fKG weight.\"%(name,age, height, weight))#format specifiers\n",
    "print(f\"{name} is {age} years old. he is {round(height,2)}FEET height and {round(weight,2)}KG weight\")     #template strings/ fstrings"
   ]
  },
  {
   "cell_type": "code",
   "execution_count": 18,
   "metadata": {},
   "outputs": [
    {
     "name": "stdout",
     "output_type": "stream",
     "text": [
      "jayaram is 4 years old. he is 3.24FEET height and 19.27KG weight.\n",
      "jayaram is 4 years old. he is 3.24FEET height and 19.27KG weight.\n",
      "jayaram is 4 years old. he is 3.235250FEET height and 19.267899KG weight\n"
     ]
    }
   ],
   "source": [
    "name=\"jayaram\"\n",
    "age=4\n",
    "height=3.23525\n",
    "weight=19.267899\n",
    "# jayaram is 4 years old. he is 3.24FEET height and 19.27KG weight.\n",
    "print(name,\"is\",age,\"years old. he is\",str(round(height,2))+\"FEET height and\",str(round(weight,2))+\"KG weight.\")\n",
    "print(\"%s is %s years old. he is %.2fFEET height and %.2fKG weight.\"%(name,age, height, weight))#format specifiers\n",
    "print(f\"{name} is {age} years old. he is {height:f}FEET height and {weight:f}KG weight\")     #template strings/ fstrings"
   ]
  },
  {
   "cell_type": "code",
   "execution_count": 20,
   "metadata": {},
   "outputs": [
    {
     "name": "stdout",
     "output_type": "stream",
     "text": [
      "jayaram is 4 years old. he is 3.24FEET height and 19.27KG weight.\n",
      "jayaram is 4 years old. he is 3.24FEET height and 19.27KG weight.\n",
      "jayaram is 4 years old. he is 3.24FEET height and 19.27KG weight.\n"
     ]
    }
   ],
   "source": [
    "name=\"jayaram\"\n",
    "age=4\n",
    "height=3.23525\n",
    "weight=19.267899\n",
    "# jayaram is 4 years old. he is 3.24FEET height and 19.27KG weight.\n",
    "print(name,\"is\",age,\"years old. he is\",str(round(height,2))+\"FEET height and\",str(round(weight,2))+\"KG weight.\")\n",
    "print(\"%s is %s years old. he is %.2fFEET height and %.2fKG weight.\"%(name,age, height, weight))#format specifiers\n",
    "print(f\"{name} is {age} years old. he is {height:.2f}FEET height and {weight:.2f}KG weight.\")     #template strings/ fstrings"
   ]
  },
  {
   "cell_type": "code",
   "execution_count": 21,
   "metadata": {},
   "outputs": [
    {
     "name": "stdout",
     "output_type": "stream",
     "text": [
      "0b11111001000000001\n",
      "0x1f201\n",
      "0o371001\n"
     ]
    }
   ],
   "source": [
    "number=127489\n",
    "print(bin(number))\n",
    "print(hex(number))\n",
    "print(oct(number))"
   ]
  },
  {
   "cell_type": "code",
   "execution_count": 22,
   "metadata": {},
   "outputs": [
    {
     "ename": "ValueError",
     "evalue": "unsupported format character 'b' (0x62) at index 1",
     "output_type": "error",
     "traceback": [
      "\u001b[1;31m---------------------------------------------------------------------------\u001b[0m",
      "\u001b[1;31mValueError\u001b[0m                                Traceback (most recent call last)",
      "\u001b[1;32m<ipython-input-22-be7a9cb09231>\u001b[0m in \u001b[0;36m<module>\u001b[1;34m\u001b[0m\n\u001b[0;32m      1\u001b[0m \u001b[0mnumber\u001b[0m\u001b[1;33m=\u001b[0m\u001b[1;36m127489\u001b[0m\u001b[1;33m\u001b[0m\u001b[1;33m\u001b[0m\u001b[0m\n\u001b[1;32m----> 2\u001b[1;33m \u001b[0mprint\u001b[0m\u001b[1;33m(\u001b[0m\u001b[1;34m\"%b\"\u001b[0m\u001b[1;33m%\u001b[0m\u001b[0mnumber\u001b[0m\u001b[1;33m)\u001b[0m\u001b[1;33m\u001b[0m\u001b[1;33m\u001b[0m\u001b[0m\n\u001b[0m\u001b[0;32m      3\u001b[0m \u001b[0mprint\u001b[0m\u001b[1;33m(\u001b[0m\u001b[0mhex\u001b[0m\u001b[1;33m(\u001b[0m\u001b[0mnumber\u001b[0m\u001b[1;33m)\u001b[0m\u001b[1;33m)\u001b[0m\u001b[1;33m\u001b[0m\u001b[1;33m\u001b[0m\u001b[0m\n\u001b[0;32m      4\u001b[0m \u001b[0mprint\u001b[0m\u001b[1;33m(\u001b[0m\u001b[0moct\u001b[0m\u001b[1;33m(\u001b[0m\u001b[0mnumber\u001b[0m\u001b[1;33m)\u001b[0m\u001b[1;33m)\u001b[0m\u001b[1;33m\u001b[0m\u001b[1;33m\u001b[0m\u001b[0m\n",
      "\u001b[1;31mValueError\u001b[0m: unsupported format character 'b' (0x62) at index 1"
     ]
    }
   ],
   "source": [
    "number=127489\n",
    "print(\"%b\"%number)\n",
    "print(hex(number))\n",
    "print(oct(number))"
   ]
  },
  {
   "cell_type": "code",
   "execution_count": 23,
   "metadata": {},
   "outputs": [
    {
     "name": "stdout",
     "output_type": "stream",
     "text": [
      "1f201\n",
      "371001\n"
     ]
    }
   ],
   "source": [
    "number=127489\n",
    "#print(\"%b\"%number)\n",
    "print(\"%x\"%number)\n",
    "print(\"%o\"%number)"
   ]
  },
  {
   "cell_type": "code",
   "execution_count": 24,
   "metadata": {},
   "outputs": [
    {
     "name": "stdout",
     "output_type": "stream",
     "text": [
      "sdfsd\n",
      "dsfsdf\n",
      "sdfsd\tsdfsdf\n",
      "sdfsd\tsdfsdf\n",
      "sdfdsf\tfdsd\n"
     ]
    }
   ],
   "source": [
    "print(\"sdfsd\\ndsfsdf\\nsdfsd\\tsdfsdf\\nsdfsd\\tsdfsdf\\nsdfdsf\\tfdsd\")"
   ]
  },
  {
   "cell_type": "code",
   "execution_count": 25,
   "metadata": {},
   "outputs": [
    {
     "name": "stdout",
     "output_type": "stream",
     "text": [
      "sdfsd\\ndsfsdf\\nsdfsd\\tsdfsdf\\nsdfsd\\tsdfsdf\\nsdfdsf\\tfdsd\n"
     ]
    }
   ],
   "source": [
    "print(\"sdfsd\\\\ndsfsdf\\\\nsdfsd\\\\tsdfsdf\\\\nsdfsd\\\\tsdfsdf\\\\nsdfdsf\\\\tfdsd\")"
   ]
  },
  {
   "cell_type": "code",
   "execution_count": 26,
   "metadata": {},
   "outputs": [
    {
     "name": "stdout",
     "output_type": "stream",
     "text": [
      "sdfsd\"\n",
      "\"dsfsdf\"\n",
      "\"sdfsd\\tsdfsdf\\nsdfsd\\tsdfsdf\\nsdfdsf\\tfdsd\n"
     ]
    }
   ],
   "source": [
    "print(\"sdfsd\\\"\\n\\\"dsfsdf\\\"\\n\\\"sdfsd\\\\tsdfsdf\\\\nsdfsd\\\\tsdfsdf\\\\nsdfdsf\\\\tfdsd\")"
   ]
  },
  {
   "cell_type": "code",
   "execution_count": null,
   "metadata": {},
   "outputs": [],
   "source": [
    "print(\"sdfsd\\\\ndsfsdf\\\\nsdfsd\\\\tsdfsdf\\\\nsdfsd\\\\tsdfsdf\\\\nsdfdsf\\\\tfdsd\")"
   ]
  },
  {
   "cell_type": "code",
   "execution_count": 27,
   "metadata": {},
   "outputs": [
    {
     "name": "stdout",
     "output_type": "stream",
     "text": [
      "sdfsd\\ndsfsdf\\nsdfsd\\tsdfsdf\\nsdfsd\\tsdfsdf\\nsdfdsf\\tfdsd\n"
     ]
    }
   ],
   "source": [
    "s=r\"sdfsd\\ndsfsdf\\nsdfsd\\tsdfsdf\\nsdfsd\\tsdfsdf\\nsdfdsf\\tfdsd\"#rawstrings\n",
    "print(s)\n"
   ]
  },
  {
   "cell_type": "code",
   "execution_count": 28,
   "metadata": {},
   "outputs": [
    {
     "name": "stdout",
     "output_type": "stream",
     "text": [
      "sdfsd\n",
      "dsfsdf\n",
      "sdfsd\tsdfsdf\n",
      "sdfsd\tsdfsdf\n",
      "sdfdsf\tfdsd\n"
     ]
    }
   ],
   "source": [
    "a=\"sdfsd\\ndsfsdf\\nsdfsd\\tsdfsdf\\nsdfsd\\tsdfsdf\\nsdfdsf\\tfdsd\"\n",
    "print(a)\n"
   ]
  },
  {
   "cell_type": "code",
   "execution_count": 29,
   "metadata": {},
   "outputs": [
    {
     "name": "stdout",
     "output_type": "stream",
     "text": [
      "sdfsd\\ndsfsdf\\nsdfsd\\tsdfsdf\\nsdfsd\\tsdfsdf\\nsdfdsf\\tfdsd\n"
     ]
    }
   ],
   "source": [
    "a=r\"sdfsd\\ndsfsdf\\nsdfsd\\tsdfsdf\\nsdfsd\\tsdfsdf\\nsdfdsf\\tfdsd\"\n",
    "print(a)"
   ]
  },
  {
   "cell_type": "code",
   "execution_count": 30,
   "metadata": {},
   "outputs": [
    {
     "name": "stdout",
     "output_type": "stream",
     "text": [
      "'sdfsd\\ndsfsdf\\nsdfsd\\tsdfsdf\\nsdfsd\\tsdfsdf\\nsdfdsf\\tfdsd'\n"
     ]
    }
   ],
   "source": [
    "a=\"sdfsd\\ndsfsdf\\nsdfsd\\tsdfsdf\\nsdfsd\\tsdfsdf\\nsdfdsf\\tfdsd\"\n",
    "print(\"%r\"%a)"
   ]
  },
  {
   "cell_type": "code",
   "execution_count": 31,
   "metadata": {},
   "outputs": [
    {
     "name": "stdout",
     "output_type": "stream",
     "text": [
      "sdfsd\n",
      "dsfsdf\n",
      "sdfsd\tsdfsdf\n",
      "sdfsd\tsdfsdf\n",
      "sdfdsf\tfdsd\n"
     ]
    }
   ],
   "source": [
    "a=\"sdfsd\\ndsfsdf\\nsdfsd\\tsdfsdf\\nsdfsd\\tsdfsdf\\nsdfdsf\\tfdsd\"\n",
    "print(\"%s\"%a)"
   ]
  },
  {
   "cell_type": "code",
   "execution_count": 32,
   "metadata": {},
   "outputs": [
    {
     "name": "stdout",
     "output_type": "stream",
     "text": [
      "sdfsd\n",
      "dsfsdf\n",
      "sdfsd\tsdfsdf\n",
      "sdfsd\tsdfsdf\n",
      "sdfdsf\tfdsd\n"
     ]
    }
   ],
   "source": [
    "a=\"sdfsd\\ndsfsdf\\nsdfsd\\tsdfsdf\\nsdfsd\\tsdfsdf\\nsdfdsf\\tfdsd\"\n",
    "print(a)"
   ]
  },
  {
   "cell_type": "code",
   "execution_count": 34,
   "metadata": {},
   "outputs": [
    {
     "name": "stdout",
     "output_type": "stream",
     "text": [
      "jayaram\n"
     ]
    }
   ],
   "source": [
    "name=\"jayaram\"\n",
    "print(\"%s\"%name)"
   ]
  },
  {
   "cell_type": "code",
   "execution_count": 35,
   "metadata": {},
   "outputs": [
    {
     "ename": "ValueError",
     "evalue": "incomplete format",
     "output_type": "error",
     "traceback": [
      "\u001b[1;31m---------------------------------------------------------------------------\u001b[0m",
      "\u001b[1;31mValueError\u001b[0m                                Traceback (most recent call last)",
      "\u001b[1;32m<ipython-input-35-b8812ceb5e9a>\u001b[0m in \u001b[0;36m<module>\u001b[1;34m\u001b[0m\n\u001b[0;32m      1\u001b[0m \u001b[0mname\u001b[0m\u001b[1;33m=\u001b[0m\u001b[1;34m\"jayaram\"\u001b[0m\u001b[1;33m\u001b[0m\u001b[1;33m\u001b[0m\u001b[0m\n\u001b[1;32m----> 2\u001b[1;33m \u001b[0mprint\u001b[0m\u001b[1;33m(\u001b[0m\u001b[1;34m\"%s%\"\u001b[0m\u001b[1;33m%\u001b[0m\u001b[0mname\u001b[0m\u001b[1;33m)\u001b[0m\u001b[1;33m\u001b[0m\u001b[1;33m\u001b[0m\u001b[0m\n\u001b[0m",
      "\u001b[1;31mValueError\u001b[0m: incomplete format"
     ]
    }
   ],
   "source": [
    "name=\"jayaram\"\n",
    "print(\"%s%\"%name)"
   ]
  },
  {
   "cell_type": "code",
   "execution_count": 36,
   "metadata": {},
   "outputs": [
    {
     "name": "stdout",
     "output_type": "stream",
     "text": [
      "jayaram%\n"
     ]
    }
   ],
   "source": [
    "name=\"jayaram\"\n",
    "print(\"%s%%\"%name)"
   ]
  },
  {
   "cell_type": "code",
   "execution_count": 38,
   "metadata": {},
   "outputs": [
    {
     "name": "stdout",
     "output_type": "stream",
     "text": [
      "jayaram\n"
     ]
    }
   ],
   "source": [
    "name=\"jayaram\"\n",
    "print(f\"{name}\")"
   ]
  },
  {
   "cell_type": "code",
   "execution_count": 39,
   "metadata": {},
   "outputs": [
    {
     "ename": "SyntaxError",
     "evalue": "f-string: empty expression not allowed (<ipython-input-39-2f7facff5df3>, line 2)",
     "output_type": "error",
     "traceback": [
      "\u001b[1;36m  File \u001b[1;32m\"<ipython-input-39-2f7facff5df3>\"\u001b[1;36m, line \u001b[1;32m2\u001b[0m\n\u001b[1;33m    print(f\"{name}{}\")\u001b[0m\n\u001b[1;37m          ^\u001b[0m\n\u001b[1;31mSyntaxError\u001b[0m\u001b[1;31m:\u001b[0m f-string: empty expression not allowed\n"
     ]
    }
   ],
   "source": [
    "name=\"jayaram\"\n",
    "print(f\"{name}{}\")"
   ]
  },
  {
   "cell_type": "code",
   "execution_count": 40,
   "metadata": {},
   "outputs": [
    {
     "ename": "SyntaxError",
     "evalue": "f-string expression part cannot include a backslash (<ipython-input-40-13866dee7883>, line 2)",
     "output_type": "error",
     "traceback": [
      "\u001b[1;36m  File \u001b[1;32m\"<ipython-input-40-13866dee7883>\"\u001b[1;36m, line \u001b[1;32m2\u001b[0m\n\u001b[1;33m    print(f\"{name}\\{\\}\")\u001b[0m\n\u001b[1;37m          ^\u001b[0m\n\u001b[1;31mSyntaxError\u001b[0m\u001b[1;31m:\u001b[0m f-string expression part cannot include a backslash\n"
     ]
    }
   ],
   "source": [
    "name=\"jayaram\"\n",
    "print(f\"{name}\\{\\}\")"
   ]
  },
  {
   "cell_type": "code",
   "execution_count": 41,
   "metadata": {},
   "outputs": [
    {
     "name": "stdout",
     "output_type": "stream",
     "text": [
      "jayaram{}\n"
     ]
    }
   ],
   "source": [
    "name=\"jayaram\"\n",
    "print(f\"{name}{{}}\")"
   ]
  },
  {
   "cell_type": "code",
   "execution_count": 42,
   "metadata": {},
   "outputs": [
    {
     "name": "stdout",
     "output_type": "stream",
     "text": [
      "it's good environment we have in \"hyderabad\"\n"
     ]
    }
   ],
   "source": [
    "#it's good environment we have in \"hyderabad\"\n",
    "print(\"it's good environment we have in \\\"hyderabad\\\"\")"
   ]
  },
  {
   "cell_type": "code",
   "execution_count": 43,
   "metadata": {},
   "outputs": [
    {
     "name": "stdout",
     "output_type": "stream",
     "text": [
      "it's good environment we have in \"hyderabad\"\n"
     ]
    }
   ],
   "source": [
    "#it's good environment we have in \"hyderabad\"\n",
    "print('it\\'s good environment we have in \"hyderabad\"')"
   ]
  },
  {
   "cell_type": "code",
   "execution_count": 44,
   "metadata": {},
   "outputs": [
    {
     "ename": "TypeError",
     "evalue": "not enough arguments for format string",
     "output_type": "error",
     "traceback": [
      "\u001b[1;31m---------------------------------------------------------------------------\u001b[0m",
      "\u001b[1;31mTypeError\u001b[0m                                 Traceback (most recent call last)",
      "\u001b[1;32m<ipython-input-44-9d0e38eeae8e>\u001b[0m in \u001b[0;36m<module>\u001b[1;34m\u001b[0m\n\u001b[1;32m----> 1\u001b[1;33m \u001b[0mprint\u001b[0m\u001b[1;33m(\u001b[0m\u001b[1;34m\"%s,%s,%s\"\u001b[0m\u001b[1;33m%\u001b[0m\u001b[1;33m(\u001b[0m\u001b[1;36m1\u001b[0m\u001b[1;33m,\u001b[0m\u001b[1;36m2\u001b[0m\u001b[1;33m)\u001b[0m\u001b[1;33m)\u001b[0m\u001b[1;33m\u001b[0m\u001b[1;33m\u001b[0m\u001b[0m\n\u001b[0m",
      "\u001b[1;31mTypeError\u001b[0m: not enough arguments for format string"
     ]
    }
   ],
   "source": [
    "print(\"%s,%s,%s\"%(1,2))"
   ]
  },
  {
   "cell_type": "code",
   "execution_count": 45,
   "metadata": {},
   "outputs": [
    {
     "name": "stdout",
     "output_type": "stream",
     "text": [
      "1,2,3\n"
     ]
    }
   ],
   "source": [
    "print(\"%s,%s,%s\"%(1,2,3))"
   ]
  },
  {
   "cell_type": "code",
   "execution_count": 47,
   "metadata": {},
   "outputs": [
    {
     "ename": "TypeError",
     "evalue": "not all arguments converted during string formatting",
     "output_type": "error",
     "traceback": [
      "\u001b[1;31m---------------------------------------------------------------------------\u001b[0m",
      "\u001b[1;31mTypeError\u001b[0m                                 Traceback (most recent call last)",
      "\u001b[1;32m<ipython-input-47-2e88dc4cb06d>\u001b[0m in \u001b[0;36m<module>\u001b[1;34m\u001b[0m\n\u001b[1;32m----> 1\u001b[1;33m \u001b[0mprint\u001b[0m\u001b[1;33m(\u001b[0m\u001b[1;34m\"%s,%s\"\u001b[0m\u001b[1;33m%\u001b[0m\u001b[1;33m(\u001b[0m\u001b[1;36m1\u001b[0m\u001b[1;33m,\u001b[0m\u001b[1;36m2\u001b[0m\u001b[1;33m,\u001b[0m\u001b[1;36m3\u001b[0m\u001b[1;33m)\u001b[0m\u001b[1;33m)\u001b[0m\u001b[1;33m\u001b[0m\u001b[1;33m\u001b[0m\u001b[0m\n\u001b[0m",
      "\u001b[1;31mTypeError\u001b[0m: not all arguments converted during string formatting"
     ]
    }
   ],
   "source": [
    "print(\"%s,%s\"%(1,2,3))"
   ]
  },
  {
   "cell_type": "code",
   "execution_count": 48,
   "metadata": {},
   "outputs": [
    {
     "name": "stdout",
     "output_type": "stream",
     "text": [
      "12\n"
     ]
    }
   ],
   "source": [
    "print(\"%d\"%(12.345))"
   ]
  },
  {
   "cell_type": "code",
   "execution_count": null,
   "metadata": {},
   "outputs": [],
   "source": []
  }
 ],
 "metadata": {
  "kernelspec": {
   "display_name": "Python 3",
   "language": "python",
   "name": "python3"
  },
  "language_info": {
   "codemirror_mode": {
    "name": "ipython",
    "version": 3
   },
   "file_extension": ".py",
   "mimetype": "text/x-python",
   "name": "python",
   "nbconvert_exporter": "python",
   "pygments_lexer": "ipython3",
   "version": "3.8.3"
  }
 },
 "nbformat": 4,
 "nbformat_minor": 4
}
