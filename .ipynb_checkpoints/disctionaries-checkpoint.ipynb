{
 "cells": [
  {
   "cell_type": "code",
   "execution_count": 1,
   "metadata": {},
   "outputs": [],
   "source": [
    "person={\"name\":\"jayaram\",\"age\":6,\"weight\":19,\"height\":3.4}\n",
    "address={\"city\":\"Hyderabad\",\"state\":\"TS\",\"country\":\"India\"}"
   ]
  },
  {
   "cell_type": "code",
   "execution_count": 2,
   "metadata": {},
   "outputs": [
    {
     "ename": "TypeError",
     "evalue": "'>' not supported between instances of 'dict' and 'dict'",
     "output_type": "error",
     "traceback": [
      "\u001b[1;31m---------------------------------------------------------------------------\u001b[0m",
      "\u001b[1;31mTypeError\u001b[0m                                 Traceback (most recent call last)",
      "\u001b[1;32m<ipython-input-2-a44f8d26b0ec>\u001b[0m in \u001b[0;36m<module>\u001b[1;34m\u001b[0m\n\u001b[1;32m----> 1\u001b[1;33m \u001b[0mperson\u001b[0m\u001b[1;33m>\u001b[0m\u001b[0maddress\u001b[0m\u001b[1;33m\u001b[0m\u001b[1;33m\u001b[0m\u001b[0m\n\u001b[0m",
      "\u001b[1;31mTypeError\u001b[0m: '>' not supported between instances of 'dict' and 'dict'"
     ]
    }
   ],
   "source": [
    "person>address"
   ]
  },
  {
   "cell_type": "code",
   "execution_count": 3,
   "metadata": {},
   "outputs": [
    {
     "data": {
      "text/plain": [
       "False"
      ]
     },
     "execution_count": 3,
     "metadata": {},
     "output_type": "execute_result"
    }
   ],
   "source": [
    "address == person"
   ]
  },
  {
   "cell_type": "code",
   "execution_count": 4,
   "metadata": {},
   "outputs": [
    {
     "name": "stdout",
     "output_type": "stream",
     "text": [
      "name\n",
      "age\n",
      "weight\n",
      "height\n"
     ]
    }
   ],
   "source": [
    "person={\"name\":\"jayaram\",\"age\":6,\"weight\":19,\"height\":3.4}\n",
    "address={\"city\":\"Hyderabad\",\"state\":\"TS\",\"country\":\"India\"}\n",
    "for i in person:\n",
    "    print(i)"
   ]
  },
  {
   "cell_type": "code",
   "execution_count": 5,
   "metadata": {},
   "outputs": [
    {
     "name": "stdout",
     "output_type": "stream",
     "text": [
      "jayaram\n",
      "6\n",
      "19\n",
      "3.4\n"
     ]
    }
   ],
   "source": [
    "person={\"name\":\"jayaram\",\"age\":6,\"weight\":19,\"height\":3.4}\n",
    "address={\"city\":\"Hyderabad\",\"state\":\"TS\",\"country\":\"India\"}\n",
    "for i in person.values():\n",
    "    print(i)"
   ]
  },
  {
   "cell_type": "code",
   "execution_count": 6,
   "metadata": {},
   "outputs": [
    {
     "name": "stdout",
     "output_type": "stream",
     "text": [
      "('name', 'jayaram')\n",
      "('age', 6)\n",
      "('weight', 19)\n",
      "('height', 3.4)\n"
     ]
    }
   ],
   "source": [
    "person={\"name\":\"jayaram\",\"age\":6,\"weight\":19,\"height\":3.4}\n",
    "address={\"city\":\"Hyderabad\",\"state\":\"TS\",\"country\":\"India\"}\n",
    "for i in person.items():\n",
    "    print(i)"
   ]
  },
  {
   "cell_type": "code",
   "execution_count": 7,
   "metadata": {},
   "outputs": [
    {
     "name": "stdout",
     "output_type": "stream",
     "text": [
      "name jayaram\n",
      "age 6\n",
      "weight 19\n",
      "height 3.4\n"
     ]
    }
   ],
   "source": [
    "person={\"name\":\"jayaram\",\"age\":6,\"weight\":19,\"height\":3.4}\n",
    "address={\"city\":\"Hyderabad\",\"state\":\"TS\",\"country\":\"India\"}\n",
    "for key,val in person.items():\n",
    "    print(key, val)"
   ]
  },
  {
   "cell_type": "code",
   "execution_count": 8,
   "metadata": {},
   "outputs": [
    {
     "name": "stdout",
     "output_type": "stream",
     "text": [
      "{'name': 'jayaram', 'age': 6, 'weight': 19, 'height': 3.4, 'cell': '9676622023'}\n"
     ]
    }
   ],
   "source": [
    "person={\"name\":\"jayaram\",\"age\":6,\"weight\":19,\"height\":3.4}\n",
    "person[\"cell\"]=\"9676622023\"\n",
    "print(person)"
   ]
  },
  {
   "cell_type": "code",
   "execution_count": 9,
   "metadata": {},
   "outputs": [
    {
     "name": "stdout",
     "output_type": "stream",
     "text": [
      "None\n",
      "{'name': 'jayaram', 'age': 6, 'weight': 19, 'height': 3.4, 'cell': '9676622023', 'email': 'sambaodoo@gmail.com'}\n"
     ]
    }
   ],
   "source": [
    "person={\"name\":\"jayaram\",\"age\":6,\"weight\":19,\"height\":3.4}\n",
    "p1 = person.update({\"cell\":\"9676622023\",\"email\":\"sambaodoo@gmail.com\"})\n",
    "print(p1)\n",
    "print(person)"
   ]
  },
  {
   "cell_type": "code",
   "execution_count": 10,
   "metadata": {},
   "outputs": [
    {
     "name": "stdout",
     "output_type": "stream",
     "text": [
      "None\n",
      "{'name': 'JAYARAM', 'age': 6, 'weight': 19, 'height': 3.4, 'cell': '9676622023', 'email': 'sambaodoo@gmail.com'}\n"
     ]
    }
   ],
   "source": [
    "person={\"name\":\"jayaram\",\"age\":6,\"weight\":19,\"height\":3.4}\n",
    "p1 = person.update({\"cell\":\"9676622023\",\"email\":\"sambaodoo@gmail.com\",\"name\":\"JAYARAM\"})\n",
    "print(p1)\n",
    "print(person)"
   ]
  },
  {
   "cell_type": "code",
   "execution_count": 11,
   "metadata": {},
   "outputs": [
    {
     "name": "stdout",
     "output_type": "stream",
     "text": [
      "{'name': 'JAYARAM', 'age': 6, 'weight': 19, 'height': 3.4}\n"
     ]
    }
   ],
   "source": [
    "person={\"name\":\"jayaram\",\"age\":6,\"weight\":19,\"height\":3.4}\n",
    "person[\"name\"]=\"JAYARAM\"\n",
    "print(person)"
   ]
  },
  {
   "cell_type": "code",
   "execution_count": 12,
   "metadata": {},
   "outputs": [
    {
     "name": "stdout",
     "output_type": "stream",
     "text": [
      "{'name': 'JAYARAM', 'age': 6, 'weight': 19, 'height': 3.4, 'NAME': 'JAY'}\n"
     ]
    }
   ],
   "source": [
    "person={\"name\":\"jayaram\",\"age\":6,\"weight\":19,\"height\":3.4,\"NAME\":\"JAY\"}\n",
    "person[\"name\"]=\"JAYARAM\"\n",
    "print(person)"
   ]
  },
  {
   "cell_type": "code",
   "execution_count": 13,
   "metadata": {},
   "outputs": [
    {
     "name": "stdout",
     "output_type": "stream",
     "text": [
      "9676622023\n",
      "{'name': 'jayaram', 'age': 6, 'weight': 19, 'height': 3.4, 'NAME': 'JAY', 'cell': '9676622023'}\n"
     ]
    }
   ],
   "source": [
    "person={\"name\":\"jayaram\",\"age\":6,\"weight\":19,\"height\":3.4,\"NAME\":\"JAY\"}\n",
    "p1=person.setdefault(\"cell\",\"9676622023\")\n",
    "print(p1)\n",
    "print(person)"
   ]
  },
  {
   "cell_type": "code",
   "execution_count": 14,
   "metadata": {},
   "outputs": [
    {
     "name": "stdout",
     "output_type": "stream",
     "text": [
      "jayaram\n",
      "{'name': 'jayaram', 'age': 6, 'weight': 19, 'height': 3.4, 'NAME': 'JAY'}\n"
     ]
    }
   ],
   "source": [
    "person={\"name\":\"jayaram\",\"age\":6,\"weight\":19,\"height\":3.4,\"NAME\":\"JAY\"}\n",
    "p1=person.setdefault(\"name\",\"JAYARAM\")\n",
    "print(p1)\n",
    "print(person)"
   ]
  },
  {
   "cell_type": "code",
   "execution_count": 15,
   "metadata": {},
   "outputs": [
    {
     "name": "stdout",
     "output_type": "stream",
     "text": [
      "None\n",
      "{'name': 'JAYARAM', 'age': 6, 'weight': 19, 'height': 3.4, 'NAME': 'JAY'}\n"
     ]
    }
   ],
   "source": [
    "person={\"name\":\"jayaram\",\"age\":6,\"weight\":19,\"height\":3.4,\"NAME\":\"JAY\"}\n",
    "p1=person.update({\"name\":\"JAYARAM\"})\n",
    "print(p1)\n",
    "print(person)"
   ]
  },
  {
   "cell_type": "code",
   "execution_count": 16,
   "metadata": {},
   "outputs": [
    {
     "name": "stdout",
     "output_type": "stream",
     "text": [
      "jayaram\n",
      "jayaram\n"
     ]
    }
   ],
   "source": [
    "person={\"name\":\"jayaram\",\"age\":6,\"weight\":19,\"height\":3.4}\n",
    "print(person.get(\"name\"))\n",
    "print(person[\"name\"])"
   ]
  },
  {
   "cell_type": "code",
   "execution_count": 17,
   "metadata": {},
   "outputs": [
    {
     "name": "stdout",
     "output_type": "stream",
     "text": [
      "XXXXXXXXX\n"
     ]
    },
    {
     "ename": "KeyError",
     "evalue": "'cell'",
     "output_type": "error",
     "traceback": [
      "\u001b[1;31m---------------------------------------------------------------------------\u001b[0m",
      "\u001b[1;31mKeyError\u001b[0m                                  Traceback (most recent call last)",
      "\u001b[1;32m<ipython-input-17-69c1258e3e37>\u001b[0m in \u001b[0;36m<module>\u001b[1;34m\u001b[0m\n\u001b[0;32m      1\u001b[0m \u001b[0mperson\u001b[0m\u001b[1;33m=\u001b[0m\u001b[1;33m{\u001b[0m\u001b[1;34m\"name\"\u001b[0m\u001b[1;33m:\u001b[0m\u001b[1;34m\"jayaram\"\u001b[0m\u001b[1;33m,\u001b[0m\u001b[1;34m\"age\"\u001b[0m\u001b[1;33m:\u001b[0m\u001b[1;36m6\u001b[0m\u001b[1;33m,\u001b[0m\u001b[1;34m\"weight\"\u001b[0m\u001b[1;33m:\u001b[0m\u001b[1;36m19\u001b[0m\u001b[1;33m,\u001b[0m\u001b[1;34m\"height\"\u001b[0m\u001b[1;33m:\u001b[0m\u001b[1;36m3.4\u001b[0m\u001b[1;33m}\u001b[0m\u001b[1;33m\u001b[0m\u001b[1;33m\u001b[0m\u001b[0m\n\u001b[0;32m      2\u001b[0m \u001b[0mprint\u001b[0m\u001b[1;33m(\u001b[0m\u001b[0mperson\u001b[0m\u001b[1;33m.\u001b[0m\u001b[0mget\u001b[0m\u001b[1;33m(\u001b[0m\u001b[1;34m\"cell\"\u001b[0m\u001b[1;33m,\u001b[0m\u001b[1;34m\"XXXXXXXXX\"\u001b[0m\u001b[1;33m)\u001b[0m\u001b[1;33m)\u001b[0m\u001b[1;33m\u001b[0m\u001b[1;33m\u001b[0m\u001b[0m\n\u001b[1;32m----> 3\u001b[1;33m \u001b[0mprint\u001b[0m\u001b[1;33m(\u001b[0m\u001b[0mperson\u001b[0m\u001b[1;33m[\u001b[0m\u001b[1;34m\"cell\"\u001b[0m\u001b[1;33m]\u001b[0m\u001b[1;33m)\u001b[0m\u001b[1;33m\u001b[0m\u001b[1;33m\u001b[0m\u001b[0m\n\u001b[0m",
      "\u001b[1;31mKeyError\u001b[0m: 'cell'"
     ]
    }
   ],
   "source": [
    "person={\"name\":\"jayaram\",\"age\":6,\"weight\":19,\"height\":3.4}\n",
    "print(person.get(\"cell\",\"XXXXXXXXX\"))\n",
    "print(person[\"cell\"])"
   ]
  },
  {
   "cell_type": "code",
   "execution_count": 18,
   "metadata": {},
   "outputs": [
    {
     "name": "stdout",
     "output_type": "stream",
     "text": [
      "None\n"
     ]
    },
    {
     "ename": "KeyError",
     "evalue": "'cell'",
     "output_type": "error",
     "traceback": [
      "\u001b[1;31m---------------------------------------------------------------------------\u001b[0m",
      "\u001b[1;31mKeyError\u001b[0m                                  Traceback (most recent call last)",
      "\u001b[1;32m<ipython-input-18-2d09a3cfa5bb>\u001b[0m in \u001b[0;36m<module>\u001b[1;34m\u001b[0m\n\u001b[0;32m      1\u001b[0m \u001b[0mperson\u001b[0m\u001b[1;33m=\u001b[0m\u001b[1;33m{\u001b[0m\u001b[1;34m\"name\"\u001b[0m\u001b[1;33m:\u001b[0m\u001b[1;34m\"jayaram\"\u001b[0m\u001b[1;33m,\u001b[0m\u001b[1;34m\"age\"\u001b[0m\u001b[1;33m:\u001b[0m\u001b[1;36m6\u001b[0m\u001b[1;33m,\u001b[0m\u001b[1;34m\"weight\"\u001b[0m\u001b[1;33m:\u001b[0m\u001b[1;36m19\u001b[0m\u001b[1;33m,\u001b[0m\u001b[1;34m\"height\"\u001b[0m\u001b[1;33m:\u001b[0m\u001b[1;36m3.4\u001b[0m\u001b[1;33m}\u001b[0m\u001b[1;33m\u001b[0m\u001b[1;33m\u001b[0m\u001b[0m\n\u001b[0;32m      2\u001b[0m \u001b[0mprint\u001b[0m\u001b[1;33m(\u001b[0m\u001b[0mperson\u001b[0m\u001b[1;33m.\u001b[0m\u001b[0mget\u001b[0m\u001b[1;33m(\u001b[0m\u001b[1;34m\"cell\"\u001b[0m\u001b[1;33m)\u001b[0m\u001b[1;33m)\u001b[0m\u001b[1;33m\u001b[0m\u001b[1;33m\u001b[0m\u001b[0m\n\u001b[1;32m----> 3\u001b[1;33m \u001b[0mprint\u001b[0m\u001b[1;33m(\u001b[0m\u001b[0mperson\u001b[0m\u001b[1;33m[\u001b[0m\u001b[1;34m\"cell\"\u001b[0m\u001b[1;33m]\u001b[0m\u001b[1;33m)\u001b[0m\u001b[1;33m\u001b[0m\u001b[1;33m\u001b[0m\u001b[0m\n\u001b[0m",
      "\u001b[1;31mKeyError\u001b[0m: 'cell'"
     ]
    }
   ],
   "source": [
    "person={\"name\":\"jayaram\",\"age\":6,\"weight\":19,\"height\":3.4}\n",
    "print(person.get(\"cell\"))\n",
    "print(person[\"cell\"])"
   ]
  },
  {
   "cell_type": "code",
   "execution_count": 19,
   "metadata": {},
   "outputs": [
    {
     "ename": "TypeError",
     "evalue": "pop expected at least 1 argument, got 0",
     "output_type": "error",
     "traceback": [
      "\u001b[1;31m---------------------------------------------------------------------------\u001b[0m",
      "\u001b[1;31mTypeError\u001b[0m                                 Traceback (most recent call last)",
      "\u001b[1;32m<ipython-input-19-2b0dfab87a9a>\u001b[0m in \u001b[0;36m<module>\u001b[1;34m\u001b[0m\n\u001b[0;32m      1\u001b[0m \u001b[0mperson\u001b[0m\u001b[1;33m=\u001b[0m\u001b[1;33m{\u001b[0m\u001b[1;34m\"name\"\u001b[0m\u001b[1;33m:\u001b[0m\u001b[1;34m\"jayaram\"\u001b[0m\u001b[1;33m,\u001b[0m\u001b[1;34m\"age\"\u001b[0m\u001b[1;33m:\u001b[0m\u001b[1;36m6\u001b[0m\u001b[1;33m,\u001b[0m\u001b[1;34m\"weight\"\u001b[0m\u001b[1;33m:\u001b[0m\u001b[1;36m19\u001b[0m\u001b[1;33m,\u001b[0m\u001b[1;34m\"height\"\u001b[0m\u001b[1;33m:\u001b[0m\u001b[1;36m3.4\u001b[0m\u001b[1;33m}\u001b[0m\u001b[1;33m\u001b[0m\u001b[1;33m\u001b[0m\u001b[0m\n\u001b[1;32m----> 2\u001b[1;33m \u001b[0mp1\u001b[0m\u001b[1;33m=\u001b[0m\u001b[0mperson\u001b[0m\u001b[1;33m.\u001b[0m\u001b[0mpop\u001b[0m\u001b[1;33m(\u001b[0m\u001b[1;33m)\u001b[0m\u001b[1;33m\u001b[0m\u001b[1;33m\u001b[0m\u001b[0m\n\u001b[0m",
      "\u001b[1;31mTypeError\u001b[0m: pop expected at least 1 argument, got 0"
     ]
    }
   ],
   "source": [
    "person={\"name\":\"jayaram\",\"age\":6,\"weight\":19,\"height\":3.4}\n",
    "p1=person.pop()"
   ]
  },
  {
   "cell_type": "code",
   "execution_count": 20,
   "metadata": {},
   "outputs": [
    {
     "name": "stdout",
     "output_type": "stream",
     "text": [
      "6\n",
      "{'name': 'jayaram', 'weight': 19, 'height': 3.4}\n"
     ]
    }
   ],
   "source": [
    "person={\"name\":\"jayaram\",\"age\":6,\"weight\":19,\"height\":3.4}\n",
    "p1=person.pop(\"age\")\n",
    "print(p1)\n",
    "print(person)"
   ]
  },
  {
   "cell_type": "code",
   "execution_count": 21,
   "metadata": {},
   "outputs": [
    {
     "ename": "KeyError",
     "evalue": "'cell'",
     "output_type": "error",
     "traceback": [
      "\u001b[1;31m---------------------------------------------------------------------------\u001b[0m",
      "\u001b[1;31mKeyError\u001b[0m                                  Traceback (most recent call last)",
      "\u001b[1;32m<ipython-input-21-c8273c4e964f>\u001b[0m in \u001b[0;36m<module>\u001b[1;34m\u001b[0m\n\u001b[0;32m      1\u001b[0m \u001b[0mperson\u001b[0m\u001b[1;33m=\u001b[0m\u001b[1;33m{\u001b[0m\u001b[1;34m\"name\"\u001b[0m\u001b[1;33m:\u001b[0m\u001b[1;34m\"jayaram\"\u001b[0m\u001b[1;33m,\u001b[0m\u001b[1;34m\"age\"\u001b[0m\u001b[1;33m:\u001b[0m\u001b[1;36m6\u001b[0m\u001b[1;33m,\u001b[0m\u001b[1;34m\"weight\"\u001b[0m\u001b[1;33m:\u001b[0m\u001b[1;36m19\u001b[0m\u001b[1;33m,\u001b[0m\u001b[1;34m\"height\"\u001b[0m\u001b[1;33m:\u001b[0m\u001b[1;36m3.4\u001b[0m\u001b[1;33m}\u001b[0m\u001b[1;33m\u001b[0m\u001b[1;33m\u001b[0m\u001b[0m\n\u001b[1;32m----> 2\u001b[1;33m \u001b[0mp1\u001b[0m\u001b[1;33m=\u001b[0m\u001b[0mperson\u001b[0m\u001b[1;33m.\u001b[0m\u001b[0mpop\u001b[0m\u001b[1;33m(\u001b[0m\u001b[1;34m\"cell\"\u001b[0m\u001b[1;33m)\u001b[0m\u001b[1;33m\u001b[0m\u001b[1;33m\u001b[0m\u001b[0m\n\u001b[0m\u001b[0;32m      3\u001b[0m \u001b[0mprint\u001b[0m\u001b[1;33m(\u001b[0m\u001b[0mp1\u001b[0m\u001b[1;33m)\u001b[0m\u001b[1;33m\u001b[0m\u001b[1;33m\u001b[0m\u001b[0m\n\u001b[0;32m      4\u001b[0m \u001b[0mprint\u001b[0m\u001b[1;33m(\u001b[0m\u001b[0mperson\u001b[0m\u001b[1;33m)\u001b[0m\u001b[1;33m\u001b[0m\u001b[1;33m\u001b[0m\u001b[0m\n",
      "\u001b[1;31mKeyError\u001b[0m: 'cell'"
     ]
    }
   ],
   "source": [
    "person={\"name\":\"jayaram\",\"age\":6,\"weight\":19,\"height\":3.4}\n",
    "p1=person.pop(\"cell\")\n",
    "print(p1)\n",
    "print(person)"
   ]
  },
  {
   "cell_type": "code",
   "execution_count": 22,
   "metadata": {},
   "outputs": [
    {
     "name": "stdout",
     "output_type": "stream",
     "text": [
      "XXXXXX\n",
      "{'name': 'jayaram', 'age': 6, 'weight': 19, 'height': 3.4}\n"
     ]
    }
   ],
   "source": [
    "person={\"name\":\"jayaram\",\"age\":6,\"weight\":19,\"height\":3.4}\n",
    "p1=person.pop(\"cell\",\"XXXXXX\")\n",
    "print(p1)\n",
    "print(person)"
   ]
  },
  {
   "cell_type": "code",
   "execution_count": 23,
   "metadata": {},
   "outputs": [
    {
     "name": "stdout",
     "output_type": "stream",
     "text": [
      "('height', 3.4)\n",
      "{'name': 'jayaram', 'age': 6, 'weight': 19}\n"
     ]
    }
   ],
   "source": [
    "person={\"name\":\"jayaram\",\"age\":6,\"weight\":19,\"height\":3.4}\n",
    "p1=person.popitem()\n",
    "print(p1)\n",
    "print(person)"
   ]
  },
  {
   "cell_type": "code",
   "execution_count": 24,
   "metadata": {},
   "outputs": [
    {
     "name": "stdout",
     "output_type": "stream",
     "text": [
      "{'name': 'jayaram', 'age': 6, 'weight': 19, 'height': 3.4} {'name': 'jayaram', 'age': 6, 'weight': 19, 'height': 3.4} {'name': 'jayaram', 'age': 6, 'weight': 19, 'height': 3.4}\n"
     ]
    }
   ],
   "source": [
    "from copy import deepcopy\n",
    "person={\"name\":\"jayaram\",\"age\":6,\"weight\":19,\"height\":3.4}\n",
    "p1=person\n",
    "p2=person.copy()\n",
    "p3=deepcopy(p1)\n",
    "print(p1,p2,p3)"
   ]
  },
  {
   "cell_type": "code",
   "execution_count": 27,
   "metadata": {},
   "outputs": [
    {
     "name": "stdout",
     "output_type": "stream",
     "text": [
      "person: {'name': 'jayaram', 'weight': 19, 'height': 3.4}\n",
      "p1: {'name': 'jayaram', 'weight': 19, 'height': 3.4}\n",
      "{'name': 'jayaram', 'age': 6, 'weight': 19, 'height': 3.4} {'name': 'jayaram', 'age': 6, 'weight': 19, 'height': 3.4}\n"
     ]
    }
   ],
   "source": [
    "from copy import deepcopy\n",
    "person={\"name\":\"jayaram\",\"age\":6,\"weight\":19,\"height\":3.4}\n",
    "p1=person\n",
    "p2=person.copy()\n",
    "p3=deepcopy(p1)\n",
    "# person and p1 are refering the same object in the memory\n",
    "p1.pop(\"age\")\n",
    "print(\"person:\",person)\n",
    "print(\"p1:\",p1)\n",
    "print(p2,p3)"
   ]
  },
  {
   "cell_type": "code",
   "execution_count": 29,
   "metadata": {},
   "outputs": [
    {
     "name": "stdout",
     "output_type": "stream",
     "text": [
      "person: {'name': 'jayaram', 'age': 6, 'weight': 19, 'height': 3.4, 'cells': ['96', '97', '98', '99']}\n",
      "p1: {'name': 'jayaram', 'age': 6, 'weight': 19, 'height': 3.4, 'cells': ['96', '97', '98', '99']}\n",
      "p2: {'name': 'jayaram', 'age': 6, 'weight': 19, 'height': 3.4, 'cells': ['96', '97', '98', '99']}\n",
      "p3 {'name': 'jayaram', 'age': 6, 'weight': 19, 'height': 3.4, 'cells': ['96', '97', '98']}\n"
     ]
    }
   ],
   "source": [
    "from copy import deepcopy\n",
    "person={\"name\":\"jayaram\",\"age\":6,\"weight\":19,\"height\":3.4,\"cells\":[\"96\",\"97\",\"98\"]}\n",
    "p1=person\n",
    "p2=person.copy()\n",
    "p3=deepcopy(p1)\n",
    "# person and p1 are refering the same object in the memory\n",
    "p1[\"cells\"].append(\"99\")\n",
    "print(\"person:\",person)\n",
    "print(\"p1:\",p1)\n",
    "print(\"p2:\",p2)\n",
    "print(\"p3\",p3)\n",
    "#draw the memory organziation diagram and send in the group"
   ]
  },
  {
   "cell_type": "code",
   "execution_count": null,
   "metadata": {},
   "outputs": [],
   "source": []
  }
 ],
 "metadata": {
  "kernelspec": {
   "display_name": "Python 3",
   "language": "python",
   "name": "python3"
  },
  "language_info": {
   "codemirror_mode": {
    "name": "ipython",
    "version": 3
   },
   "file_extension": ".py",
   "mimetype": "text/x-python",
   "name": "python",
   "nbconvert_exporter": "python",
   "pygments_lexer": "ipython3",
   "version": "3.8.3"
  }
 },
 "nbformat": 4,
 "nbformat_minor": 4
}
