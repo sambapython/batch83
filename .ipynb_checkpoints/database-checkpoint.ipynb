{
 "cells": [
  {
   "cell_type": "code",
   "execution_count": 1,
   "metadata": {},
   "outputs": [],
   "source": [
    "import psycopg2"
   ]
  },
  {
   "cell_type": "code",
   "execution_count": 11,
   "metadata": {},
   "outputs": [],
   "source": [
    "con=psycopg2.connect(host=\"localhost\",user=\"postgres\", password=\"root\", port=5432,dbname=\"db83\")"
   ]
  },
  {
   "cell_type": "code",
   "execution_count": 12,
   "metadata": {},
   "outputs": [],
   "source": [
    "cur = con.cursor()"
   ]
  },
  {
   "cell_type": "code",
   "execution_count": 13,
   "metadata": {},
   "outputs": [],
   "source": [
    "query=\"create table goldprices1(date date, cost money)\"\n",
    "cur.execute(query)\n"
   ]
  },
  {
   "cell_type": "code",
   "execution_count": 14,
   "metadata": {},
   "outputs": [],
   "source": [
    "con.commit()"
   ]
  },
  {
   "cell_type": "code",
   "execution_count": 17,
   "metadata": {},
   "outputs": [
    {
     "name": "stdout",
     "output_type": "stream",
     "text": [
      "12/31/1969,35.2,22.24,14.66,12592.44\n",
      "\n"
     ]
    }
   ],
   "source": [
    "f=open(\"gold-prices.csv\",\"r\")\n",
    "f.readline()\n",
    "for row in f:\n",
    "    print(row)\n",
    "    break"
   ]
  },
  {
   "cell_type": "code",
   "execution_count": 18,
   "metadata": {},
   "outputs": [],
   "source": [
    "s=\"12/31/1969\""
   ]
  },
  {
   "cell_type": "code",
   "execution_count": 21,
   "metadata": {},
   "outputs": [],
   "source": [
    "from datetime import date"
   ]
  },
  {
   "cell_type": "code",
   "execution_count": 22,
   "metadata": {},
   "outputs": [
    {
     "name": "stdout",
     "output_type": "stream",
     "text": [
      "['__add__', '__class__', '__delattr__', '__dir__', '__doc__', '__eq__', '__format__', '__ge__', '__getattribute__', '__gt__', '__hash__', '__init__', '__init_subclass__', '__le__', '__lt__', '__ne__', '__new__', '__radd__', '__reduce__', '__reduce_ex__', '__repr__', '__rsub__', '__setattr__', '__sizeof__', '__str__', '__sub__', '__subclasshook__', 'ctime', 'day', 'fromisocalendar', 'fromisoformat', 'fromordinal', 'fromtimestamp', 'isocalendar', 'isoformat', 'isoweekday', 'max', 'min', 'month', 'replace', 'resolution', 'strftime', 'timetuple', 'today', 'toordinal', 'weekday', 'year']\n"
     ]
    }
   ],
   "source": [
    "print(dir(date))"
   ]
  },
  {
   "cell_type": "code",
   "execution_count": 23,
   "metadata": {},
   "outputs": [],
   "source": [
    "date.strftime?"
   ]
  },
  {
   "cell_type": "code",
   "execution_count": 25,
   "metadata": {},
   "outputs": [
    {
     "ename": "TypeError",
     "evalue": "descriptor 'strftime' for 'datetime.date' objects doesn't apply to a 'str' object",
     "output_type": "error",
     "traceback": [
      "\u001b[1;31m---------------------------------------------------------------------------\u001b[0m",
      "\u001b[1;31mTypeError\u001b[0m                                 Traceback (most recent call last)",
      "\u001b[1;32m<ipython-input-25-cc45b94346c3>\u001b[0m in \u001b[0;36m<module>\u001b[1;34m\u001b[0m\n\u001b[0;32m      1\u001b[0m \u001b[0ms\u001b[0m\u001b[1;33m=\u001b[0m\u001b[1;34m\"12/31/1969\"\u001b[0m\u001b[1;33m\u001b[0m\u001b[1;33m\u001b[0m\u001b[0m\n\u001b[1;32m----> 2\u001b[1;33m \u001b[0mdate\u001b[0m\u001b[1;33m.\u001b[0m\u001b[0mstrftime\u001b[0m\u001b[1;33m(\u001b[0m\u001b[0ms\u001b[0m\u001b[1;33m,\u001b[0m\u001b[1;34m\"Y-M-D\"\u001b[0m\u001b[1;33m)\u001b[0m\u001b[1;33m\u001b[0m\u001b[1;33m\u001b[0m\u001b[0m\n\u001b[0m",
      "\u001b[1;31mTypeError\u001b[0m: descriptor 'strftime' for 'datetime.date' objects doesn't apply to a 'str' object"
     ]
    }
   ],
   "source": [
    "s=\"12/31/1969\"\n",
    "date.strftime(s,\"Y-M-D\")"
   ]
  },
  {
   "cell_type": "code",
   "execution_count": 26,
   "metadata": {},
   "outputs": [
    {
     "ename": "TypeError",
     "evalue": "an integer is required (got type str)",
     "output_type": "error",
     "traceback": [
      "\u001b[1;31m---------------------------------------------------------------------------\u001b[0m",
      "\u001b[1;31mTypeError\u001b[0m                                 Traceback (most recent call last)",
      "\u001b[1;32m<ipython-input-26-1b0ad880dc33>\u001b[0m in \u001b[0;36m<module>\u001b[1;34m\u001b[0m\n\u001b[1;32m----> 1\u001b[1;33m \u001b[0mdate\u001b[0m\u001b[1;33m(\u001b[0m\u001b[0ms\u001b[0m\u001b[1;33m)\u001b[0m\u001b[1;33m\u001b[0m\u001b[1;33m\u001b[0m\u001b[0m\n\u001b[0m",
      "\u001b[1;31mTypeError\u001b[0m: an integer is required (got type str)"
     ]
    }
   ],
   "source": [
    "date(s)"
   ]
  },
  {
   "cell_type": "code",
   "execution_count": 27,
   "metadata": {},
   "outputs": [],
   "source": [
    "from datetime import datetime"
   ]
  },
  {
   "cell_type": "code",
   "execution_count": 32,
   "metadata": {},
   "outputs": [],
   "source": [
    "d=datetime.strptime(s,\"%d/%M/%Y\")"
   ]
  },
  {
   "cell_type": "code",
   "execution_count": 33,
   "metadata": {},
   "outputs": [
    {
     "data": {
      "text/plain": [
       "datetime.datetime(1969, 1, 12, 0, 31)"
      ]
     },
     "execution_count": 33,
     "metadata": {},
     "output_type": "execute_result"
    }
   ],
   "source": [
    "d"
   ]
  },
  {
   "cell_type": "code",
   "execution_count": 34,
   "metadata": {},
   "outputs": [
    {
     "data": {
      "text/plain": [
       "'1969-01-12 00:31:00'"
      ]
     },
     "execution_count": 34,
     "metadata": {},
     "output_type": "execute_result"
    }
   ],
   "source": [
    "\"%s\"%d"
   ]
  },
  {
   "cell_type": "code",
   "execution_count": null,
   "metadata": {},
   "outputs": [],
   "source": [
    "from datetime import datetime\n",
    "f=open(\"gold-prices.csv\",\"r\")\n",
    "f.readline()\n",
    "for row in f:\n",
    "    date_str,money,*k=\n",
    "    break"
   ]
  },
  {
   "cell_type": "code",
   "execution_count": 36,
   "metadata": {},
   "outputs": [
    {
     "data": {
      "text/plain": [
       "['12/31/1969', '35.2', '22.24', '14.66', '12592.44']"
      ]
     },
     "execution_count": 36,
     "metadata": {},
     "output_type": "execute_result"
    }
   ],
   "source": [
    "s=\"12/31/1969,35.2,22.24,14.66,12592.44\"\n",
    "s.split(\",\")"
   ]
  },
  {
   "cell_type": "code",
   "execution_count": 37,
   "metadata": {},
   "outputs": [],
   "source": [
    "s=\"12/31/1969,35.2,22.24,14.66,12592.44\"\n",
    "s_l=s.split(\",\")\n",
    "date_str=s_l[0]\n",
    "money=s_l[1]"
   ]
  },
  {
   "cell_type": "code",
   "execution_count": 38,
   "metadata": {},
   "outputs": [
    {
     "name": "stdout",
     "output_type": "stream",
     "text": [
      "12/31/1969\n"
     ]
    }
   ],
   "source": [
    "print(date_str)"
   ]
  },
  {
   "cell_type": "code",
   "execution_count": 39,
   "metadata": {},
   "outputs": [
    {
     "name": "stdout",
     "output_type": "stream",
     "text": [
      "35.2\n"
     ]
    }
   ],
   "source": [
    "print(money)"
   ]
  },
  {
   "cell_type": "code",
   "execution_count": null,
   "metadata": {},
   "outputs": [],
   "source": [
    "s=\"12/31/1969,35.2,22.24,14.66,12592.44\"\n",
    "date_str=s.split(\",\")"
   ]
  },
  {
   "cell_type": "code",
   "execution_count": 40,
   "metadata": {},
   "outputs": [
    {
     "name": "stdout",
     "output_type": "stream",
     "text": [
      "10\n",
      "20\n",
      "30\n"
     ]
    }
   ],
   "source": [
    "l=[10,20,30]\n",
    "a,b,c=l\n",
    "print(a)\n",
    "print(b)\n",
    "print(c)"
   ]
  },
  {
   "cell_type": "code",
   "execution_count": 43,
   "metadata": {},
   "outputs": [
    {
     "name": "stdout",
     "output_type": "stream",
     "text": [
      "10\n",
      "20\n",
      "[30, 40, 50, 60, 70]\n"
     ]
    }
   ],
   "source": [
    "l=[10,20,30,40,50,60,70,]\n",
    "a,b,*_=l\n",
    "print(a)\n",
    "print(b)\n",
    "print(_)"
   ]
  },
  {
   "cell_type": "code",
   "execution_count": 44,
   "metadata": {},
   "outputs": [
    {
     "name": "stdout",
     "output_type": "stream",
     "text": [
      "12/31/1969\n",
      "35.2\n"
     ]
    }
   ],
   "source": [
    "from datetime import datetime\n",
    "f=open(\"gold-prices.csv\",\"r\")\n",
    "f.readline()\n",
    "for row in f:\n",
    "    date_str,money,*_=row.split(\",\")\n",
    "    print(date_str)\n",
    "    print(money)\n",
    "    break"
   ]
  },
  {
   "cell_type": "code",
   "execution_count": 51,
   "metadata": {},
   "outputs": [
    {
     "name": "stdout",
     "output_type": "stream",
     "text": [
      "12/31/1969\n",
      "1969-12-31\n"
     ]
    }
   ],
   "source": [
    "from datetime import datetime\n",
    "f=open(\"gold-prices.csv\",\"r\")\n",
    "f.readline()\n",
    "for row in f:\n",
    "    date_str,money,*_=row.split(\",\")\n",
    "    print(date_str)\n",
    "    date_date = datetime.strptime(date_str,\"%m/%d/%Y\").date()\n",
    "    print(date_date)\n",
    "    break"
   ]
  },
  {
   "cell_type": "code",
   "execution_count": 52,
   "metadata": {},
   "outputs": [
    {
     "name": "stdout",
     "output_type": "stream",
     "text": [
      "12/31/1969\n",
      "insert into goldprices1(date,cost) values('1969-12-31',35.2)\n"
     ]
    }
   ],
   "source": [
    "from datetime import datetime\n",
    "f=open(\"gold-prices.csv\",\"r\")\n",
    "f.readline()\n",
    "for row in f:\n",
    "    date_str,money,*_=row.split(\",\")\n",
    "    print(date_str)\n",
    "    date_date = datetime.strptime(date_str,\"%m/%d/%Y\").date()\n",
    "    query=\"insert into goldprices1(date,cost) values('%s',%s)\"%(date_date,money)\n",
    "    print(query)\n",
    "    break"
   ]
  },
  {
   "cell_type": "code",
   "execution_count": null,
   "metadata": {},
   "outputs": [],
   "source": [
    "from datetime import datetime\n",
    "f=open(\"gold-prices.csv\",\"r\")\n",
    "f.readline()\n",
    "for row in f:\n",
    "    date_str,money,*_=row.split(\",\")\n",
    "    print(date_str)\n",
    "    date_date = datetime.strptime(date_str,\"%m/%d/%Y\").date()\n",
    "    query=\"insert into goldprices1(date,cost) values('%s',%s)\"%(date_date,money)\n",
    "    print(query)\n",
    "    break"
   ]
  },
  {
   "cell_type": "code",
   "execution_count": 53,
   "metadata": {},
   "outputs": [],
   "source": [
    "con.close()"
   ]
  },
  {
   "cell_type": "code",
   "execution_count": 55,
   "metadata": {},
   "outputs": [
    {
     "name": "stdout",
     "output_type": "stream",
     "text": [
      "12/31/1969\n",
      "1/30/1970\n",
      "2/27/1970\n",
      "3/31/1970\n",
      "4/30/1970\n",
      "5/29/1970\n",
      "6/30/1970\n",
      "7/31/1970\n",
      "8/31/1970\n",
      "9/30/1970\n",
      "10/30/1970\n",
      "11/30/1970\n",
      "12/31/1970\n",
      "1/29/1971\n",
      "2/26/1971\n",
      "3/31/1971\n",
      "4/30/1971\n",
      "5/31/1971\n",
      "6/30/1971\n",
      "7/30/1971\n",
      "8/31/1971\n",
      "9/30/1971\n",
      "10/29/1971\n",
      "11/30/1971\n",
      "12/31/1971\n",
      "1/31/1972\n",
      "2/29/1972\n",
      "3/31/1972\n",
      "4/28/1972\n",
      "5/31/1972\n",
      "6/30/1972\n",
      "7/31/1972\n",
      "8/31/1972\n",
      "9/29/1972\n",
      "10/31/1972\n",
      "11/30/1972\n",
      "12/29/1972\n",
      "1/31/1973\n",
      "2/28/1973\n",
      "3/30/1973\n",
      "4/30/1973\n",
      "5/31/1973\n",
      "6/29/1973\n",
      "7/31/1973\n",
      "8/31/1973\n",
      "9/28/1973\n",
      "10/31/1973\n",
      "11/30/1973\n",
      "12/31/1973\n",
      "1/31/1974\n",
      "2/28/1974\n",
      "3/29/1974\n",
      "4/30/1974\n",
      "5/31/1974\n",
      "6/28/1974\n",
      "7/31/1974\n",
      "8/30/1974\n",
      "9/30/1974\n",
      "10/31/1974\n",
      "11/29/1974\n",
      "12/31/1974\n",
      "1/31/1975\n",
      "2/28/1975\n",
      "3/31/1975\n",
      "4/30/1975\n",
      "5/30/1975\n",
      "6/30/1975\n",
      "7/31/1975\n",
      "8/29/1975\n",
      "9/30/1975\n",
      "10/31/1975\n",
      "11/28/1975\n",
      "12/31/1975\n",
      "1/30/1976\n",
      "2/27/1976\n",
      "3/31/1976\n",
      "4/30/1976\n",
      "5/31/1976\n",
      "6/30/1976\n",
      "7/30/1976\n",
      "8/31/1976\n",
      "9/30/1976\n",
      "10/29/1976\n",
      "11/30/1976\n",
      "12/31/1976\n",
      "1/31/1977\n",
      "2/28/1977\n",
      "3/31/1977\n",
      "4/29/1977\n",
      "5/31/1977\n",
      "6/30/1977\n",
      "7/29/1977\n",
      "8/31/1977\n",
      "9/30/1977\n",
      "10/31/1977\n",
      "11/30/1977\n",
      "12/30/1977\n",
      "1/31/1978\n",
      "2/28/1978\n",
      "3/31/1978\n",
      "4/28/1978\n",
      "5/31/1978\n",
      "6/30/1978\n",
      "7/31/1978\n",
      "8/31/1978\n",
      "9/29/1978\n",
      "10/31/1978\n",
      "11/30/1978\n",
      "12/29/1978\n",
      "1/31/1979\n",
      "2/28/1979\n",
      "3/30/1979\n",
      "4/30/1979\n",
      "5/31/1979\n",
      "6/29/1979\n",
      "7/31/1979\n",
      "8/31/1979\n",
      "9/28/1979\n",
      "10/31/1979\n",
      "11/30/1979\n",
      "12/31/1979\n",
      "1/31/1980\n",
      "2/29/1980\n",
      "3/31/1980\n",
      "4/30/1980\n",
      "5/30/1980\n",
      "6/30/1980\n",
      "7/31/1980\n",
      "8/29/1980\n",
      "9/30/1980\n",
      "10/31/1980\n",
      "11/28/1980\n",
      "12/31/1980\n",
      "1/30/1981\n",
      "2/27/1981\n",
      "3/31/1981\n",
      "4/30/1981\n",
      "5/29/1981\n",
      "6/30/1981\n",
      "7/31/1981\n",
      "8/31/1981\n",
      "9/30/1981\n",
      "10/30/1981\n",
      "11/30/1981\n",
      "12/31/1981\n",
      "1/29/1982\n",
      "2/26/1982\n",
      "3/31/1982\n",
      "4/30/1982\n",
      "5/31/1982\n",
      "6/30/1982\n",
      "7/30/1982\n",
      "8/31/1982\n",
      "9/30/1982\n",
      "10/29/1982\n",
      "11/30/1982\n",
      "12/31/1982\n",
      "1/31/1983\n",
      "2/28/1983\n",
      "3/31/1983\n",
      "4/29/1983\n",
      "5/31/1983\n",
      "6/30/1983\n",
      "7/29/1983\n",
      "8/31/1983\n",
      "9/30/1983\n",
      "10/31/1983\n",
      "11/30/1983\n",
      "12/30/1983\n",
      "1/31/1984\n",
      "2/29/1984\n",
      "3/30/1984\n",
      "4/30/1984\n",
      "5/31/1984\n",
      "6/29/1984\n",
      "7/31/1984\n",
      "8/31/1984\n",
      "9/28/1984\n",
      "10/31/1984\n",
      "11/30/1984\n",
      "12/31/1984\n",
      "1/31/1985\n",
      "2/28/1985\n",
      "3/29/1985\n",
      "4/30/1985\n",
      "5/31/1985\n",
      "6/28/1985\n",
      "7/31/1985\n",
      "8/30/1985\n",
      "9/30/1985\n",
      "10/31/1985\n",
      "11/29/1985\n",
      "12/31/1985\n",
      "1/31/1986\n",
      "2/28/1986\n",
      "3/31/1986\n",
      "4/30/1986\n",
      "5/30/1986\n",
      "6/30/1986\n",
      "7/31/1986\n",
      "8/29/1986\n",
      "9/30/1986\n",
      "10/31/1986\n",
      "11/28/1986\n",
      "12/31/1986\n",
      "1/30/1987\n",
      "2/27/1987\n",
      "3/31/1987\n",
      "4/30/1987\n",
      "5/29/1987\n",
      "6/30/1987\n",
      "7/31/1987\n",
      "8/31/1987\n",
      "9/30/1987\n",
      "10/30/1987\n",
      "11/30/1987\n",
      "12/31/1987\n",
      "1/29/1988\n",
      "2/29/1988\n",
      "3/31/1988\n",
      "4/29/1988\n",
      "5/31/1988\n",
      "6/30/1988\n",
      "7/29/1988\n",
      "8/31/1988\n",
      "9/30/1988\n",
      "10/31/1988\n",
      "11/30/1988\n",
      "12/30/1988\n",
      "1/31/1989\n",
      "2/28/1989\n",
      "3/31/1989\n",
      "4/28/1989\n",
      "5/31/1989\n",
      "6/30/1989\n",
      "7/31/1989\n",
      "8/31/1989\n",
      "9/29/1989\n",
      "10/31/1989\n",
      "11/30/1989\n",
      "12/29/1989\n",
      "1/31/1990\n",
      "2/28/1990\n",
      "3/30/1990\n",
      "4/30/1990\n",
      "5/31/1990\n",
      "6/29/1990\n",
      "7/31/1990\n",
      "8/31/1990\n",
      "9/28/1990\n",
      "10/31/1990\n",
      "11/30/1990\n",
      "12/31/1990\n",
      "1/31/1991\n",
      "2/28/1991\n",
      "3/29/1991\n",
      "4/30/1991\n",
      "5/31/1991\n",
      "6/28/1991\n",
      "7/31/1991\n",
      "8/30/1991\n",
      "9/30/1991\n",
      "10/31/1991\n",
      "11/29/1991\n",
      "12/31/1991\n",
      "1/31/1992\n",
      "2/28/1992\n",
      "3/31/1992\n",
      "4/30/1992\n",
      "5/29/1992\n",
      "6/30/1992\n",
      "7/31/1992\n",
      "8/31/1992\n",
      "9/30/1992\n",
      "10/30/1992\n",
      "11/30/1992\n",
      "12/31/1992\n",
      "1/29/1993\n",
      "2/26/1993\n",
      "3/31/1993\n",
      "4/30/1993\n",
      "5/31/1993\n",
      "6/30/1993\n",
      "7/30/1993\n",
      "8/31/1993\n",
      "9/30/1993\n",
      "10/29/1993\n",
      "11/30/1993\n",
      "12/31/1993\n",
      "1/31/1994\n",
      "2/28/1994\n",
      "3/31/1994\n",
      "4/29/1994\n",
      "5/31/1994\n",
      "6/30/1994\n",
      "7/29/1994\n",
      "8/31/1994\n",
      "9/30/1994\n",
      "10/31/1994\n",
      "11/30/1994\n",
      "12/30/1994\n",
      "1/31/1995\n",
      "2/28/1995\n",
      "3/31/1995\n",
      "4/28/1995\n",
      "5/31/1995\n",
      "6/30/1995\n",
      "7/31/1995\n",
      "8/31/1995\n",
      "9/29/1995\n",
      "10/31/1995\n",
      "11/30/1995\n",
      "12/29/1995\n",
      "1/31/1996\n",
      "2/29/1996\n",
      "3/29/1996\n",
      "4/30/1996\n",
      "5/31/1996\n",
      "6/28/1996\n",
      "7/31/1996\n",
      "8/30/1996\n",
      "9/30/1996\n",
      "10/31/1996\n",
      "11/29/1996\n",
      "12/31/1996\n",
      "1/31/1997\n",
      "2/28/1997\n",
      "3/31/1997\n",
      "4/30/1997\n",
      "5/30/1997\n",
      "6/30/1997\n",
      "7/31/1997\n",
      "8/29/1997\n",
      "9/30/1997\n",
      "10/31/1997\n",
      "11/28/1997\n",
      "12/31/1997\n",
      "1/30/1998\n",
      "2/27/1998\n",
      "3/31/1998\n",
      "4/30/1998\n",
      "5/29/1998\n",
      "6/30/1998\n",
      "7/31/1998\n",
      "8/31/1998\n",
      "9/30/1998\n",
      "10/30/1998\n",
      "11/30/1998\n",
      "12/31/1998\n",
      "1/29/1999\n",
      "2/26/1999\n",
      "3/31/1999\n",
      "4/30/1999\n",
      "5/31/1999\n",
      "6/30/1999\n",
      "7/30/1999\n",
      "8/31/1999\n",
      "9/30/1999\n",
      "10/29/1999\n",
      "11/30/1999\n",
      "12/31/1999\n",
      "1/31/2000\n",
      "2/29/2000\n",
      "3/31/2000\n",
      "4/28/2000\n",
      "5/31/2000\n",
      "6/30/2000\n",
      "7/31/2000\n",
      "8/31/2000\n",
      "9/29/2000\n",
      "10/31/2000\n",
      "11/30/2000\n",
      "12/29/2000\n",
      "1/31/2001\n",
      "2/28/2001\n",
      "3/30/2001\n",
      "4/30/2001\n",
      "5/31/2001\n",
      "6/29/2001\n",
      "7/31/2001\n",
      "8/31/2001\n",
      "9/28/2001\n",
      "10/31/2001\n",
      "11/30/2001\n",
      "12/31/2001\n",
      "1/31/2002\n",
      "2/28/2002\n",
      "3/29/2002\n",
      "4/30/2002\n",
      "5/31/2002\n",
      "6/28/2002\n",
      "7/31/2002\n",
      "8/30/2002\n",
      "9/30/2002\n",
      "10/31/2002\n",
      "11/29/2002\n",
      "12/31/2002\n",
      "1/31/2003\n",
      "2/28/2003\n",
      "3/31/2003\n",
      "4/30/2003\n",
      "5/30/2003\n",
      "6/30/2003\n",
      "7/31/2003\n",
      "8/29/2003\n",
      "9/30/2003\n",
      "10/31/2003\n",
      "11/28/2003\n",
      "12/31/2003\n",
      "1/30/2004\n",
      "2/27/2004\n",
      "3/31/2004\n",
      "4/30/2004\n",
      "5/31/2004\n",
      "6/30/2004\n",
      "7/30/2004\n",
      "8/31/2004\n",
      "9/30/2004\n",
      "10/29/2004\n",
      "11/30/2004\n",
      "12/31/2004\n",
      "1/31/2005\n",
      "2/28/2005\n",
      "3/31/2005\n",
      "4/29/2005\n",
      "5/31/2005\n",
      "6/30/2005\n",
      "7/29/2005\n",
      "8/31/2005\n",
      "9/30/2005\n",
      "10/31/2005\n",
      "11/30/2005\n",
      "12/30/2005\n",
      "1/31/2006\n",
      "2/28/2006\n",
      "3/31/2006\n",
      "4/28/2006\n",
      "5/31/2006\n",
      "6/30/2006\n",
      "7/31/2006\n",
      "8/31/2006\n",
      "9/29/2006\n",
      "10/31/2006\n",
      "11/30/2006\n",
      "12/29/2006\n",
      "1/31/2007\n",
      "2/28/2007\n",
      "3/30/2007\n",
      "4/30/2007\n",
      "5/31/2007\n",
      "6/29/2007\n",
      "7/31/2007\n",
      "8/31/2007\n",
      "9/28/2007\n",
      "10/31/2007\n",
      "11/30/2007\n",
      "12/31/2007\n",
      "1/31/2008\n",
      "2/29/2008\n",
      "3/31/2008\n",
      "4/30/2008\n",
      "5/30/2008\n",
      "6/30/2008\n",
      "7/31/2008\n",
      "8/29/2008\n",
      "9/30/2008\n",
      "10/31/2008\n",
      "11/28/2008\n",
      "12/31/2008\n",
      "1/30/2009\n",
      "2/27/2009\n",
      "3/31/2009\n",
      "4/30/2009\n",
      "5/29/2009\n",
      "6/30/2009\n",
      "7/31/2009\n",
      "8/31/2009\n",
      "9/30/2009\n",
      "10/30/2009\n",
      "11/30/2009\n",
      "12/31/2009\n",
      "1/29/2010\n",
      "2/26/2010\n",
      "3/31/2010\n",
      "4/30/2010\n",
      "5/31/2010\n",
      "6/30/2010\n",
      "7/30/2010\n",
      "8/31/2010\n",
      "9/30/2010\n",
      "10/29/2010\n",
      "11/30/2010\n",
      "12/31/2010\n",
      "1/31/2011\n",
      "2/28/2011\n",
      "3/31/2011\n",
      "4/29/2011\n",
      "5/31/2011\n",
      "6/30/2011\n",
      "7/29/2011\n",
      "8/31/2011\n",
      "9/30/2011\n",
      "10/31/2011\n",
      "11/30/2011\n",
      "12/30/2011\n",
      "1/31/2012\n",
      "2/29/2012\n",
      "3/30/2012\n",
      "4/30/2012\n",
      "5/31/2012\n",
      "6/29/2012\n",
      "7/31/2012\n",
      "8/31/2012\n",
      "9/28/2012\n",
      "10/31/2012\n",
      "11/30/2012\n",
      "12/31/2012\n",
      "1/31/2013\n",
      "2/28/2013\n",
      "3/29/2013\n",
      "4/30/2013\n",
      "5/31/2013\n",
      "6/28/2013\n",
      "7/31/2013\n",
      "8/30/2013\n",
      "9/30/2013\n",
      "10/31/2013\n",
      "11/29/2013\n",
      "12/31/2013\n",
      "1/31/2014\n",
      "2/28/2014\n",
      "3/31/2014\n",
      "4/30/2014\n",
      "5/30/2014\n",
      "6/30/2014\n",
      "7/31/2014\n",
      "8/29/2014\n",
      "9/30/2014\n",
      "10/31/2014\n",
      "11/28/2014\n",
      "12/31/2014\n",
      "1/30/2015\n",
      "2/27/2015\n",
      "3/31/2015\n",
      "4/30/2015\n",
      "5/29/2015\n",
      "6/30/2015\n",
      "7/31/2015\n",
      "8/31/2015\n",
      "9/30/2015\n",
      "10/30/2015\n",
      "11/30/2015\n",
      "12/31/2015\n",
      "1/29/2016\n",
      "2/29/2016\n",
      "3/31/2016\n",
      "4/29/2016\n",
      "5/31/2016\n",
      "6/30/2016\n",
      "7/29/2016\n",
      "8/31/2016\n",
      "9/30/2016\n",
      "10/31/2016\n",
      "11/30/2016\n",
      "12/30/2016\n",
      "1/31/2017\n",
      "2/28/2017\n",
      "3/31/2017\n",
      "4/28/2017\n",
      "5/31/2017\n",
      "6/30/2017\n",
      "7/31/2017\n",
      "8/31/2017\n",
      "9/29/2017\n",
      "10/31/2017\n",
      "11/30/2017\n",
      "12/29/2017\n",
      "1/31/2018\n",
      "2/28/2018\n",
      "3/30/2018\n",
      "4/30/2018\n",
      "5/31/2018\n",
      "6/29/2018\n",
      "7/31/2018\n",
      "8/31/2018\n",
      "9/28/2018\n",
      "10/31/2018\n",
      "11/30/2018\n",
      "12/31/2018\n",
      "1/31/2019\n",
      "2/28/2019\n",
      "3/29/2019\n",
      "4/30/2019\n",
      "5/31/2019\n",
      "6/28/2019\n",
      "7/31/2019\n",
      "8/30/2019\n",
      "9/30/2019\n",
      "10/31/2019\n",
      "11/29/2019\n",
      "12/31/2019\n",
      "1/31/2020\n",
      "2/28/2020\n",
      "3/31/2020\n",
      "4/30/2020\n",
      "5/29/2020\n",
      "6/30/2020\n",
      "7/31/2020\n",
      "8/31/2020\n",
      "9/30/2020\n",
      "10/30/2020\n",
      "11/30/2020\n",
      "12/31/2020\n",
      "1/29/2021\n",
      "2/26/2021\n",
      "3/31/2021\n",
      "4/30/2021\n",
      "5/31/2021\n",
      "6/30/2021\n",
      "7/30/2021\n",
      "8/31/2021\n",
      "9/30/2021\n",
      "10/29/2021\n",
      "11/30/2021\n",
      "12/31/2021\n",
      "1/31/2022\n",
      "2/28/2022\n"
     ]
    }
   ],
   "source": [
    "import psycopg2\n",
    "from datetime import datetime\n",
    "\n",
    "con=psycopg2.connect(host=\"localhost\",user=\"postgres\", password=\"root\", port=5432,dbname=\"db83\")\n",
    "cur=con.cursor()\n",
    "f=open(\"gold-prices.csv\",\"r\")\n",
    "f.readline()\n",
    "for row in f:\n",
    "    date_str,money,*_=row.split(\",\")\n",
    "    print(date_str)\n",
    "    date_date = datetime.strptime(date_str,\"%m/%d/%Y\").date()\n",
    "    query=\"insert into goldprices1(date,cost) values('%s',%s)\"%(date_date,money)\n",
    "    cur.execute(query)\n",
    "    con.commit()\n",
    "con.close()\n"
   ]
  },
  {
   "cell_type": "code",
   "execution_count": 58,
   "metadata": {},
   "outputs": [],
   "source": [
    "con=psycopg2.connect(host=\"localhost\",user=\"postgres\", password=\"root\", port=5432,dbname=\"db83\")\n",
    "cur=con.cursor()\n",
    "query=\"update goldprices1 set cost=1764 where date='2021-06-30'\"\n",
    "cur.execute(query)\n",
    "con.commit()"
   ]
  },
  {
   "cell_type": "code",
   "execution_count": 59,
   "metadata": {},
   "outputs": [
    {
     "name": "stdout",
     "output_type": "stream",
     "text": [
      "[(datetime.date(2021, 6, 30), '$1,764.00')]\n"
     ]
    }
   ],
   "source": [
    "query = \"select * from goldprices1 where date='2021-06-30'\"\n",
    "cur.execute(query)\n",
    "print(cur.fetchall())"
   ]
  },
  {
   "cell_type": "code",
   "execution_count": 60,
   "metadata": {},
   "outputs": [
    {
     "name": "stdout",
     "output_type": "stream",
     "text": [
      "[('$1,964.90',)]\n"
     ]
    }
   ],
   "source": [
    "query = \"select max(cost) from goldprices1\"\n",
    "cur.execute(query)\n",
    "print(cur.fetchall())"
   ]
  },
  {
   "cell_type": "code",
   "execution_count": 61,
   "metadata": {},
   "outputs": [
    {
     "name": "stdout",
     "output_type": "stream",
     "text": [
      "[(datetime.date(2020, 7, 31), '$1,964.90')]\n"
     ]
    }
   ],
   "source": [
    "query = \"select * from goldprices1 where cost=(select max(cost) from goldprices1)\"\n",
    "cur.execute(query)\n",
    "print(cur.fetchall())"
   ]
  },
  {
   "cell_type": "code",
   "execution_count": 62,
   "metadata": {},
   "outputs": [
    {
     "name": "stdout",
     "output_type": "stream",
     "text": [
      "[(datetime.date(1970, 1, 30), '$34.99')]\n"
     ]
    }
   ],
   "source": [
    "query = \"select * from goldprices1 where cost=(select min(cost) from goldprices1)\"\n",
    "cur.execute(query)\n",
    "print(cur.fetchall())"
   ]
  },
  {
   "cell_type": "code",
   "execution_count": null,
   "metadata": {},
   "outputs": [],
   "source": [
    "d=[{\"date\":\"2020-07-28\",\"cost\":1966},{\"date\":\"2020-07-28\",\"cost\":1966},]"
   ]
  }
 ],
 "metadata": {
  "kernelspec": {
   "display_name": "Python 3",
   "language": "python",
   "name": "python3"
  },
  "language_info": {
   "codemirror_mode": {
    "name": "ipython",
    "version": 3
   },
   "file_extension": ".py",
   "mimetype": "text/x-python",
   "name": "python",
   "nbconvert_exporter": "python",
   "pygments_lexer": "ipython3",
   "version": "3.8.3"
  }
 },
 "nbformat": 4,
 "nbformat_minor": 4
}
