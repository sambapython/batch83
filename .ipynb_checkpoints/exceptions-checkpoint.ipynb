{
 "cells": [
  {
   "cell_type": "code",
   "execution_count": 1,
   "metadata": {},
   "outputs": [
    {
     "name": "stdout",
     "output_type": "stream",
     "text": [
      "hello\n"
     ]
    },
    {
     "ename": "ZeroDivisionError",
     "evalue": "division by zero",
     "output_type": "error",
     "traceback": [
      "\u001b[1;31m---------------------------------------------------------------------------\u001b[0m",
      "\u001b[1;31mZeroDivisionError\u001b[0m                         Traceback (most recent call last)",
      "\u001b[1;32m<ipython-input-1-36bc79d15dec>\u001b[0m in \u001b[0;36m<module>\u001b[1;34m\u001b[0m\n\u001b[0;32m      1\u001b[0m \u001b[0mprint\u001b[0m\u001b[1;33m(\u001b[0m\u001b[1;34m\"hello\"\u001b[0m\u001b[1;33m)\u001b[0m\u001b[1;33m\u001b[0m\u001b[1;33m\u001b[0m\u001b[0m\n\u001b[1;32m----> 2\u001b[1;33m \u001b[0mprint\u001b[0m\u001b[1;33m(\u001b[0m\u001b[1;36m1\u001b[0m\u001b[1;33m/\u001b[0m\u001b[1;36m0\u001b[0m\u001b[1;33m)\u001b[0m\u001b[1;33m\u001b[0m\u001b[1;33m\u001b[0m\u001b[0m\n\u001b[0m",
      "\u001b[1;31mZeroDivisionError\u001b[0m: division by zero"
     ]
    }
   ],
   "source": [
    "print(\"hello\")\n",
    "print(1/0)"
   ]
  },
  {
   "cell_type": "code",
   "execution_count": 2,
   "metadata": {},
   "outputs": [
    {
     "ename": "SyntaxError",
     "evalue": "EOL while scanning string literal (<ipython-input-2-3a020d35a048>, line 2)",
     "output_type": "error",
     "traceback": [
      "\u001b[1;36m  File \u001b[1;32m\"<ipython-input-2-3a020d35a048>\"\u001b[1;36m, line \u001b[1;32m2\u001b[0m\n\u001b[1;33m    print(\"asdaf)\u001b[0m\n\u001b[1;37m                 ^\u001b[0m\n\u001b[1;31mSyntaxError\u001b[0m\u001b[1;31m:\u001b[0m EOL while scanning string literal\n"
     ]
    }
   ],
   "source": [
    "print(\"hello\")\n",
    "print(\"asdaf)\n",
    "a=1000\n",
    "print(a)"
   ]
  },
  {
   "cell_type": "code",
   "execution_count": 3,
   "metadata": {},
   "outputs": [
    {
     "ename": "ValueError",
     "evalue": "invalid literal for int() with base 10: '12.34'",
     "output_type": "error",
     "traceback": [
      "\u001b[1;31m---------------------------------------------------------------------------\u001b[0m",
      "\u001b[1;31mValueError\u001b[0m                                Traceback (most recent call last)",
      "\u001b[1;32m<ipython-input-3-d096208f9026>\u001b[0m in \u001b[0;36m<module>\u001b[1;34m\u001b[0m\n\u001b[1;32m----> 1\u001b[1;33m \u001b[0mint\u001b[0m\u001b[1;33m(\u001b[0m\u001b[1;34m\"12.34\"\u001b[0m\u001b[1;33m)\u001b[0m\u001b[1;33m\u001b[0m\u001b[1;33m\u001b[0m\u001b[0m\n\u001b[0m",
      "\u001b[1;31mValueError\u001b[0m: invalid literal for int() with base 10: '12.34'"
     ]
    }
   ],
   "source": [
    "int(\"12.34\")"
   ]
  },
  {
   "cell_type": "code",
   "execution_count": 4,
   "metadata": {},
   "outputs": [
    {
     "ename": "FileNotFoundError",
     "evalue": "[Errno 2] No such file or directory: 'data10.txt'",
     "output_type": "error",
     "traceback": [
      "\u001b[1;31m---------------------------------------------------------------------------\u001b[0m",
      "\u001b[1;31mFileNotFoundError\u001b[0m                         Traceback (most recent call last)",
      "\u001b[1;32m<ipython-input-4-00995dfaebe9>\u001b[0m in \u001b[0;36m<module>\u001b[1;34m\u001b[0m\n\u001b[1;32m----> 1\u001b[1;33m \u001b[0mopen\u001b[0m\u001b[1;33m(\u001b[0m\u001b[1;34m\"data10.txt\"\u001b[0m\u001b[1;33m,\u001b[0m\u001b[1;34m\"r\"\u001b[0m\u001b[1;33m)\u001b[0m\u001b[1;33m\u001b[0m\u001b[1;33m\u001b[0m\u001b[0m\n\u001b[0m",
      "\u001b[1;31mFileNotFoundError\u001b[0m: [Errno 2] No such file or directory: 'data10.txt'"
     ]
    }
   ],
   "source": [
    "open(\"data10.txt\",\"r\")"
   ]
  },
  {
   "cell_type": "code",
   "execution_count": 6,
   "metadata": {},
   "outputs": [
    {
     "ename": "ValueError",
     "evalue": "could not convert string to float: 'ddsf'",
     "output_type": "error",
     "traceback": [
      "\u001b[1;31m---------------------------------------------------------------------------\u001b[0m",
      "\u001b[1;31mValueError\u001b[0m                                Traceback (most recent call last)",
      "\u001b[1;32m<ipython-input-6-394c83f66f59>\u001b[0m in \u001b[0;36m<module>\u001b[1;34m\u001b[0m\n\u001b[1;32m----> 1\u001b[1;33m \u001b[0mfloat\u001b[0m\u001b[1;33m(\u001b[0m\u001b[1;34m\"ddsf\"\u001b[0m\u001b[1;33m)\u001b[0m\u001b[1;33m\u001b[0m\u001b[1;33m\u001b[0m\u001b[0m\n\u001b[0m",
      "\u001b[1;31mValueError\u001b[0m: could not convert string to float: 'ddsf'"
     ]
    }
   ],
   "source": [
    "float(\"ddsf\")"
   ]
  },
  {
   "cell_type": "code",
   "execution_count": 8,
   "metadata": {},
   "outputs": [
    {
     "name": "stdout",
     "output_type": "stream",
     "text": [
      "enter a vlaue:12\n",
      "enter b vlaue:6\n",
      "before convertion: a=12, b=6\n",
      "after convertion: a=12, b=6\n",
      "res= 2.0\n",
      "End\n"
     ]
    }
   ],
   "source": [
    "a=input(\"enter a vlaue:\")\n",
    "b=input(\"enter b vlaue:\")\n",
    "print(\"before convertion: a=%s, b=%s\"%(a,b))\n",
    "a=int(a)\n",
    "b=int(b)\n",
    "print(\"after convertion: a=%s, b=%s\"%(a,b))\n",
    "res=a/b\n",
    "print(\"res=\",res)\n",
    "print(\"End\")"
   ]
  },
  {
   "cell_type": "code",
   "execution_count": 9,
   "metadata": {},
   "outputs": [
    {
     "name": "stdout",
     "output_type": "stream",
     "text": [
      "enter a vlaue:12\n",
      "enter b vlaue:6.2\n",
      "before convertion: a=12, b=6.2\n"
     ]
    },
    {
     "ename": "ValueError",
     "evalue": "invalid literal for int() with base 10: '6.2'",
     "output_type": "error",
     "traceback": [
      "\u001b[1;31m---------------------------------------------------------------------------\u001b[0m",
      "\u001b[1;31mValueError\u001b[0m                                Traceback (most recent call last)",
      "\u001b[1;32m<ipython-input-9-8c6bedcd52f1>\u001b[0m in \u001b[0;36m<module>\u001b[1;34m\u001b[0m\n\u001b[0;32m      3\u001b[0m \u001b[0mprint\u001b[0m\u001b[1;33m(\u001b[0m\u001b[1;34m\"before convertion: a=%s, b=%s\"\u001b[0m\u001b[1;33m%\u001b[0m\u001b[1;33m(\u001b[0m\u001b[0ma\u001b[0m\u001b[1;33m,\u001b[0m\u001b[0mb\u001b[0m\u001b[1;33m)\u001b[0m\u001b[1;33m)\u001b[0m\u001b[1;33m\u001b[0m\u001b[1;33m\u001b[0m\u001b[0m\n\u001b[0;32m      4\u001b[0m \u001b[0ma\u001b[0m\u001b[1;33m=\u001b[0m\u001b[0mint\u001b[0m\u001b[1;33m(\u001b[0m\u001b[0ma\u001b[0m\u001b[1;33m)\u001b[0m\u001b[1;33m\u001b[0m\u001b[1;33m\u001b[0m\u001b[0m\n\u001b[1;32m----> 5\u001b[1;33m \u001b[0mb\u001b[0m\u001b[1;33m=\u001b[0m\u001b[0mint\u001b[0m\u001b[1;33m(\u001b[0m\u001b[0mb\u001b[0m\u001b[1;33m)\u001b[0m\u001b[1;33m\u001b[0m\u001b[1;33m\u001b[0m\u001b[0m\n\u001b[0m\u001b[0;32m      6\u001b[0m \u001b[0mprint\u001b[0m\u001b[1;33m(\u001b[0m\u001b[1;34m\"after convertion: a=%s, b=%s\"\u001b[0m\u001b[1;33m%\u001b[0m\u001b[1;33m(\u001b[0m\u001b[0ma\u001b[0m\u001b[1;33m,\u001b[0m\u001b[0mb\u001b[0m\u001b[1;33m)\u001b[0m\u001b[1;33m)\u001b[0m\u001b[1;33m\u001b[0m\u001b[1;33m\u001b[0m\u001b[0m\n\u001b[0;32m      7\u001b[0m \u001b[0mres\u001b[0m\u001b[1;33m=\u001b[0m\u001b[0ma\u001b[0m\u001b[1;33m/\u001b[0m\u001b[0mb\u001b[0m\u001b[1;33m\u001b[0m\u001b[1;33m\u001b[0m\u001b[0m\n",
      "\u001b[1;31mValueError\u001b[0m: invalid literal for int() with base 10: '6.2'"
     ]
    }
   ],
   "source": [
    "a=input(\"enter a vlaue:\")\n",
    "b=input(\"enter b vlaue:\")\n",
    "print(\"before convertion: a=%s, b=%s\"%(a,b))\n",
    "a=int(a)\n",
    "b=int(b)\n",
    "print(\"after convertion: a=%s, b=%s\"%(a,b))\n",
    "res=a/b\n",
    "print(\"res=\",res)\n",
    "print(\"End\")"
   ]
  },
  {
   "cell_type": "code",
   "execution_count": 10,
   "metadata": {},
   "outputs": [
    {
     "name": "stdout",
     "output_type": "stream",
     "text": [
      "enter a vlaue:12\n",
      "enter b vlaue:6.3\n",
      "before convertion: a=12, b=6.3\n",
      "after convertion: a=12.0, b=6.3\n",
      "res= 1.9047619047619049\n",
      "End\n"
     ]
    }
   ],
   "source": [
    "a=input(\"enter a vlaue:\")\n",
    "b=input(\"enter b vlaue:\")\n",
    "print(\"before convertion: a=%s, b=%s\"%(a,b))\n",
    "a=float(a)\n",
    "b=float(b)\n",
    "print(\"after convertion: a=%s, b=%s\"%(a,b))\n",
    "res=a/b\n",
    "print(\"res=\",res)\n",
    "print(\"End\")"
   ]
  },
  {
   "cell_type": "code",
   "execution_count": 11,
   "metadata": {},
   "outputs": [
    {
     "name": "stdout",
     "output_type": "stream",
     "text": [
      "enter a vlaue:we\n",
      "enter b vlaue:rt\n",
      "before convertion: a=we, b=rt\n"
     ]
    },
    {
     "ename": "ValueError",
     "evalue": "could not convert string to float: 'we'",
     "output_type": "error",
     "traceback": [
      "\u001b[1;31m---------------------------------------------------------------------------\u001b[0m",
      "\u001b[1;31mValueError\u001b[0m                                Traceback (most recent call last)",
      "\u001b[1;32m<ipython-input-11-447f1ca2e092>\u001b[0m in \u001b[0;36m<module>\u001b[1;34m\u001b[0m\n\u001b[0;32m      2\u001b[0m \u001b[0mb\u001b[0m\u001b[1;33m=\u001b[0m\u001b[0minput\u001b[0m\u001b[1;33m(\u001b[0m\u001b[1;34m\"enter b vlaue:\"\u001b[0m\u001b[1;33m)\u001b[0m\u001b[1;33m\u001b[0m\u001b[1;33m\u001b[0m\u001b[0m\n\u001b[0;32m      3\u001b[0m \u001b[0mprint\u001b[0m\u001b[1;33m(\u001b[0m\u001b[1;34m\"before convertion: a=%s, b=%s\"\u001b[0m\u001b[1;33m%\u001b[0m\u001b[1;33m(\u001b[0m\u001b[0ma\u001b[0m\u001b[1;33m,\u001b[0m\u001b[0mb\u001b[0m\u001b[1;33m)\u001b[0m\u001b[1;33m)\u001b[0m\u001b[1;33m\u001b[0m\u001b[1;33m\u001b[0m\u001b[0m\n\u001b[1;32m----> 4\u001b[1;33m \u001b[0ma\u001b[0m\u001b[1;33m=\u001b[0m\u001b[0mfloat\u001b[0m\u001b[1;33m(\u001b[0m\u001b[0ma\u001b[0m\u001b[1;33m)\u001b[0m\u001b[1;33m\u001b[0m\u001b[1;33m\u001b[0m\u001b[0m\n\u001b[0m\u001b[0;32m      5\u001b[0m \u001b[0mb\u001b[0m\u001b[1;33m=\u001b[0m\u001b[0mfloat\u001b[0m\u001b[1;33m(\u001b[0m\u001b[0mb\u001b[0m\u001b[1;33m)\u001b[0m\u001b[1;33m\u001b[0m\u001b[1;33m\u001b[0m\u001b[0m\n\u001b[0;32m      6\u001b[0m \u001b[0mprint\u001b[0m\u001b[1;33m(\u001b[0m\u001b[1;34m\"after convertion: a=%s, b=%s\"\u001b[0m\u001b[1;33m%\u001b[0m\u001b[1;33m(\u001b[0m\u001b[0ma\u001b[0m\u001b[1;33m,\u001b[0m\u001b[0mb\u001b[0m\u001b[1;33m)\u001b[0m\u001b[1;33m)\u001b[0m\u001b[1;33m\u001b[0m\u001b[1;33m\u001b[0m\u001b[0m\n",
      "\u001b[1;31mValueError\u001b[0m: could not convert string to float: 'we'"
     ]
    }
   ],
   "source": [
    "a=input(\"enter a vlaue:\")\n",
    "b=input(\"enter b vlaue:\")\n",
    "print(\"before convertion: a=%s, b=%s\"%(a,b))\n",
    "a=float(a)\n",
    "b=float(b)\n",
    "print(\"after convertion: a=%s, b=%s\"%(a,b))\n",
    "res=a/b\n",
    "print(\"res=\",res)\n",
    "print(\"End\")"
   ]
  },
  {
   "cell_type": "code",
   "execution_count": 12,
   "metadata": {},
   "outputs": [
    {
     "name": "stdout",
     "output_type": "stream",
     "text": [
      "enter a vlaue:12\n",
      "enter b vlaue:6\n",
      "before convertion: a=12, b=6\n",
      "after convertion: a=12.0, b=6.0\n",
      "res= 2.0\n",
      "End\n"
     ]
    }
   ],
   "source": [
    "try:\n",
    "    a=input(\"enter a vlaue:\")\n",
    "    b=input(\"enter b vlaue:\")\n",
    "    print(\"before convertion: a=%s, b=%s\"%(a,b))\n",
    "    a=float(a)\n",
    "    b=float(b)\n",
    "    print(\"after convertion: a=%s, b=%s\"%(a,b))\n",
    "    res=a/b\n",
    "    print(\"res=\",res)\n",
    "    print(\"End\")\n",
    "except:\n",
    "    print(\"some issue\")"
   ]
  },
  {
   "cell_type": "code",
   "execution_count": 13,
   "metadata": {},
   "outputs": [
    {
     "name": "stdout",
     "output_type": "stream",
     "text": [
      "enter a vlaue:12\n",
      "enter b vlaue:0\n",
      "before convertion: a=12, b=0\n",
      "after convertion: a=12.0, b=0.0\n",
      "some issue\n"
     ]
    }
   ],
   "source": [
    "try:\n",
    "    a=input(\"enter a vlaue:\")\n",
    "    b=input(\"enter b vlaue:\")\n",
    "    print(\"before convertion: a=%s, b=%s\"%(a,b))\n",
    "    a=float(a)\n",
    "    b=float(b)\n",
    "    print(\"after convertion: a=%s, b=%s\"%(a,b))\n",
    "    res=a/b#ZeroDivisionError\n",
    "    print(\"res=\",res)\n",
    "    print(\"End\")\n",
    "except:\n",
    "    print(\"some issue\")"
   ]
  },
  {
   "cell_type": "code",
   "execution_count": 14,
   "metadata": {},
   "outputs": [
    {
     "name": "stdout",
     "output_type": "stream",
     "text": [
      "enter a vlaue:12\n",
      "enter b vlaue:wer\n",
      "before convertion: a=12, b=wer\n",
      "some issue\n"
     ]
    }
   ],
   "source": [
    "try:\n",
    "    a=input(\"enter a vlaue:\")\n",
    "    b=input(\"enter b vlaue:\")\n",
    "    print(\"before convertion: a=%s, b=%s\"%(a,b))\n",
    "    a=float(a)\n",
    "    b=float(b)\n",
    "    print(\"after convertion: a=%s, b=%s\"%(a,b))\n",
    "    res=a/b#ZeroDivisionError\n",
    "    print(\"res=\",res)\n",
    "    print(\"End\")\n",
    "except:\n",
    "    print(\"some issue\")"
   ]
  },
  {
   "cell_type": "code",
   "execution_count": 15,
   "metadata": {},
   "outputs": [
    {
     "name": "stdout",
     "output_type": "stream",
     "text": [
      "enter a vlaue:12\n",
      "enter b vlaue:6\n",
      "before convertion: a=12, b=6\n",
      "after convertion: a=12.0, b=6.0\n",
      "res= 2.0\n",
      "End\n"
     ]
    }
   ],
   "source": [
    "a=input(\"enter a vlaue:\")\n",
    "b=input(\"enter b vlaue:\")\n",
    "print(\"before convertion: a=%s, b=%s\"%(a,b))\n",
    "try:\n",
    "    a=float(a)\n",
    "    b=float(b)\n",
    "    print(\"after convertion: a=%s, b=%s\"%(a,b))\n",
    "    res=a/b#ZeroDivisionError\n",
    "    print(\"res=\",res)\n",
    "except:\n",
    "    print(\"some issue\")\n",
    "print(\"End\")"
   ]
  },
  {
   "cell_type": "code",
   "execution_count": 16,
   "metadata": {},
   "outputs": [
    {
     "name": "stdout",
     "output_type": "stream",
     "text": [
      "enter a vlaue:qw\n",
      "enter b vlaue:23\n",
      "before convertion: a=qw, b=23\n",
      "some issue\n",
      "End\n"
     ]
    }
   ],
   "source": [
    "a=input(\"enter a vlaue:\")\n",
    "b=input(\"enter b vlaue:\")\n",
    "print(\"before convertion: a=%s, b=%s\"%(a,b))\n",
    "try:\n",
    "    a=float(a)\n",
    "    b=float(b)\n",
    "    print(\"after convertion: a=%s, b=%s\"%(a,b))\n",
    "    res=a/b#ZeroDivisionError\n",
    "    print(\"res=\",res)\n",
    "except:\n",
    "    print(\"some issue\")\n",
    "print(\"End\")"
   ]
  },
  {
   "cell_type": "code",
   "execution_count": 17,
   "metadata": {},
   "outputs": [
    {
     "name": "stdout",
     "output_type": "stream",
     "text": [
      "enter a vlaue:2\n",
      "enter b vlaue:0\n",
      "before convertion: a=2, b=0\n",
      "after convertion: a=2.0, b=0.0\n",
      "some issue\n",
      "End\n"
     ]
    }
   ],
   "source": [
    "a=input(\"enter a vlaue:\")\n",
    "b=input(\"enter b vlaue:\")\n",
    "print(\"before convertion: a=%s, b=%s\"%(a,b))\n",
    "try:\n",
    "    a=float(a)\n",
    "    b=float(b)\n",
    "    print(\"after convertion: a=%s, b=%s\"%(a,b))\n",
    "    res=a/b#ZeroDivisionError\n",
    "    print(\"res=\",res)\n",
    "except:\n",
    "    print(\"some issue\")\n",
    "print(\"End\")"
   ]
  },
  {
   "cell_type": "code",
   "execution_count": 18,
   "metadata": {},
   "outputs": [
    {
     "name": "stdout",
     "output_type": "stream",
     "text": [
      "enter a vlaue:12\n",
      "enter b vlaue:0\n",
      "before convertion: a=12, b=0\n",
      "after convertion: a=12.0, b=0.0\n",
      "some issue\n",
      "ERROR:, float division by zero\n",
      "End\n"
     ]
    }
   ],
   "source": [
    "a=input(\"enter a vlaue:\")\n",
    "b=input(\"enter b vlaue:\")\n",
    "print(\"before convertion: a=%s, b=%s\"%(a,b))\n",
    "try:\n",
    "    a=float(a)\n",
    "    b=float(b)\n",
    "    print(\"after convertion: a=%s, b=%s\"%(a,b))\n",
    "    res=a/b#ZeroDivisionError\n",
    "    print(\"res=\",res)\n",
    "except Exception as err:\n",
    "    print(\"some issue\")\n",
    "    print(\"ERROR:, %s\"%err)\n",
    "print(\"End\")"
   ]
  },
  {
   "cell_type": "code",
   "execution_count": 19,
   "metadata": {},
   "outputs": [
    {
     "name": "stdout",
     "output_type": "stream",
     "text": [
      "enter a vlaue:qw\n",
      "enter b vlaue:23\n",
      "before convertion: a=qw, b=23\n",
      "some issue\n",
      "ERROR: could not convert string to float: 'qw'\n",
      "End\n"
     ]
    }
   ],
   "source": [
    "a=input(\"enter a vlaue:\")\n",
    "b=input(\"enter b vlaue:\")\n",
    "print(\"before convertion: a=%s, b=%s\"%(a,b))\n",
    "try:\n",
    "    a=float(a)#ValueError\n",
    "    b=float(b)\n",
    "    print(\"after convertion: a=%s, b=%s\"%(a,b))\n",
    "    res=a/b#ZeroDivisionError\n",
    "    print(\"res=\",res)\n",
    "except Exception as err:\n",
    "    print(\"some issue\")\n",
    "    print(\"ERROR: %s\"%err)\n",
    "print(\"End\")"
   ]
  },
  {
   "cell_type": "code",
   "execution_count": 20,
   "metadata": {},
   "outputs": [
    {
     "name": "stdout",
     "output_type": "stream",
     "text": [
      "enter a vlaue:12\n",
      "enter b vlaue:6\n",
      "before convertion: a=12, b=6\n",
      "after convertion: a=12.0, b=6.0\n",
      "res= 2.0\n",
      "End\n"
     ]
    }
   ],
   "source": [
    "a=input(\"enter a vlaue:\")\n",
    "b=input(\"enter b vlaue:\")\n",
    "print(\"before convertion: a=%s, b=%s\"%(a,b))\n",
    "try:\n",
    "    a=float(a)#ValueError\n",
    "    b=float(b)\n",
    "    print(\"after convertion: a=%s, b=%s\"%(a,b))\n",
    "    res=a/b#ZeroDivisionError\n",
    "    print(\"res=\",res)\n",
    "except ZeroDivisionError as err:\n",
    "    print(\"ERROR: expecting b!=0\")\n",
    "except ValueError as err:\n",
    "    print(\"ERROR: Expecting only numbers..\")\n",
    "except Exception as err:\n",
    "    print(\"ERROR: %s\"%err)\n",
    "print(\"End\")"
   ]
  },
  {
   "cell_type": "code",
   "execution_count": 21,
   "metadata": {},
   "outputs": [
    {
     "name": "stdout",
     "output_type": "stream",
     "text": [
      "enter a vlaue:12\n",
      "enter b vlaue:0\n",
      "before convertion: a=12, b=0\n",
      "after convertion: a=12.0, b=0.0\n",
      "ERROR: expecting b!=0\n",
      "End\n"
     ]
    }
   ],
   "source": [
    "a=input(\"enter a vlaue:\")\n",
    "b=input(\"enter b vlaue:\")\n",
    "print(\"before convertion: a=%s, b=%s\"%(a,b))\n",
    "try:\n",
    "    a=float(a)#ValueError\n",
    "    b=float(b)\n",
    "    print(\"after convertion: a=%s, b=%s\"%(a,b))\n",
    "    res=a/b#ZeroDivisionError\n",
    "    print(\"res=\",res)\n",
    "except ZeroDivisionError as err:\n",
    "    print(\"ERROR: expecting b!=0\")\n",
    "except ValueError as err:\n",
    "    print(\"ERROR: Expecting only numbers..\")\n",
    "except Exception as err:\n",
    "    print(\"ERROR: %s\"%err)\n",
    "print(\"End\")"
   ]
  },
  {
   "cell_type": "code",
   "execution_count": 22,
   "metadata": {},
   "outputs": [
    {
     "name": "stdout",
     "output_type": "stream",
     "text": [
      "enter a vlaue:we\n",
      "enter b vlaue:we\n",
      "before convertion: a=we, b=we\n",
      "ERROR: Expecting only numbers..\n",
      "End\n"
     ]
    }
   ],
   "source": [
    "a=input(\"enter a vlaue:\")\n",
    "b=input(\"enter b vlaue:\")\n",
    "print(\"before convertion: a=%s, b=%s\"%(a,b))\n",
    "try:\n",
    "    a=float(a)#ValueError\n",
    "    b=float(b)\n",
    "    print(\"after convertion: a=%s, b=%s\"%(a,b))\n",
    "    res=a/b#ZeroDivisionError\n",
    "    print(\"res=\",res)\n",
    "except ZeroDivisionError as err:\n",
    "    print(\"ERROR: expecting b!=0\")\n",
    "except ValueError as err:\n",
    "    print(\"ERROR: Expecting only numbers..\")\n",
    "except Exception as err:\n",
    "    print(a\"ERROR: %s\"%err)\n",
    "except:\n",
    "    print(\"SYSTEM RAISED ERRORS\")\n",
    "print(\"End\")"
   ]
  },
  {
   "cell_type": "code",
   "execution_count": 23,
   "metadata": {},
   "outputs": [
    {
     "name": "stdout",
     "output_type": "stream",
     "text": [
      "enter a vlaue:12\n",
      "enter b vlaue:6\n",
      "before convertion: a=12, b=6\n",
      "after convertion: a=12.0, b=6.0\n",
      "res= 2.0\n",
      "ELSE\n",
      "FINALLY\n",
      "End\n"
     ]
    }
   ],
   "source": [
    "a=input(\"enter a vlaue:\")\n",
    "b=input(\"enter b vlaue:\")\n",
    "print(\"before convertion: a=%s, b=%s\"%(a,b))\n",
    "try:\n",
    "    a=float(a)#ValueError\n",
    "    b=float(b)\n",
    "    print(\"after convertion: a=%s, b=%s\"%(a,b))\n",
    "    res=a/b#ZeroDivisionError\n",
    "    print(\"res=\",res)\n",
    "except:\n",
    "    print(\"SYSTEM RAISED ERRORS\")\n",
    "else:\n",
    "    print(\"ELSE\")\n",
    "finally:\n",
    "    print(\"FINALLY\")\n",
    "print(\"End\")"
   ]
  },
  {
   "cell_type": "code",
   "execution_count": 24,
   "metadata": {},
   "outputs": [
    {
     "name": "stdout",
     "output_type": "stream",
     "text": [
      "enter a vlaue:12\n",
      "enter b vlaue:0\n",
      "before convertion: a=12, b=0\n",
      "after convertion: a=12.0, b=0.0\n",
      "SYSTEM RAISED ERRORS\n",
      "FINALLY\n",
      "End\n"
     ]
    }
   ],
   "source": [
    "a=input(\"enter a vlaue:\")\n",
    "b=input(\"enter b vlaue:\")\n",
    "print(\"before convertion: a=%s, b=%s\"%(a,b))\n",
    "try:\n",
    "    a=float(a)#ValueError\n",
    "    b=float(b)\n",
    "    print(\"after convertion: a=%s, b=%s\"%(a,b))\n",
    "    res=a/b#ZeroDivisionError\n",
    "    print(\"res=\",res)\n",
    "except:\n",
    "    print(\"SYSTEM RAISED ERRORS\")\n",
    "else:\n",
    "    print(\"ELSE\")\n",
    "finally:\n",
    "    print(\"FINALLY\")\n",
    "print(\"End\")"
   ]
  },
  {
   "cell_type": "code",
   "execution_count": 25,
   "metadata": {},
   "outputs": [
    {
     "name": "stdout",
     "output_type": "stream",
     "text": [
      "started\n",
      "try\n",
      "finally\n",
      "main\n",
      "ended\n"
     ]
    }
   ],
   "source": [
    "print(\"started\")\n",
    "try:\n",
    "    print(\"try\")\n",
    "finally:\n",
    "    print(\"finally\")\n",
    "print(\"main\")\n",
    "print(\"ended\")"
   ]
  },
  {
   "cell_type": "code",
   "execution_count": 26,
   "metadata": {},
   "outputs": [
    {
     "name": "stdout",
     "output_type": "stream",
     "text": [
      "started\n",
      "try\n",
      "finally\n"
     ]
    },
    {
     "ename": "ZeroDivisionError",
     "evalue": "division by zero",
     "output_type": "error",
     "traceback": [
      "\u001b[1;31m---------------------------------------------------------------------------\u001b[0m",
      "\u001b[1;31mZeroDivisionError\u001b[0m                         Traceback (most recent call last)",
      "\u001b[1;32m<ipython-input-26-e6d849ac26c2>\u001b[0m in \u001b[0;36m<module>\u001b[1;34m\u001b[0m\n\u001b[0;32m      2\u001b[0m \u001b[1;32mtry\u001b[0m\u001b[1;33m:\u001b[0m\u001b[1;33m\u001b[0m\u001b[1;33m\u001b[0m\u001b[0m\n\u001b[0;32m      3\u001b[0m     \u001b[0mprint\u001b[0m\u001b[1;33m(\u001b[0m\u001b[1;34m\"try\"\u001b[0m\u001b[1;33m)\u001b[0m\u001b[1;33m\u001b[0m\u001b[1;33m\u001b[0m\u001b[0m\n\u001b[1;32m----> 4\u001b[1;33m     \u001b[0mprint\u001b[0m\u001b[1;33m(\u001b[0m\u001b[1;36m1\u001b[0m\u001b[1;33m/\u001b[0m\u001b[1;36m0\u001b[0m\u001b[1;33m)\u001b[0m\u001b[1;33m\u001b[0m\u001b[1;33m\u001b[0m\u001b[0m\n\u001b[0m\u001b[0;32m      5\u001b[0m \u001b[1;32mfinally\u001b[0m\u001b[1;33m:\u001b[0m\u001b[1;33m\u001b[0m\u001b[1;33m\u001b[0m\u001b[0m\n\u001b[0;32m      6\u001b[0m     \u001b[0mprint\u001b[0m\u001b[1;33m(\u001b[0m\u001b[1;34m\"finally\"\u001b[0m\u001b[1;33m)\u001b[0m\u001b[1;33m\u001b[0m\u001b[1;33m\u001b[0m\u001b[0m\n",
      "\u001b[1;31mZeroDivisionError\u001b[0m: division by zero"
     ]
    }
   ],
   "source": [
    "print(\"started\")\n",
    "try:\n",
    "    print(\"try\")\n",
    "    print(1/0)\n",
    "finally:\n",
    "    print(\"finally\")\n",
    "print(\"main\")\n",
    "print(\"ended\")"
   ]
  },
  {
   "cell_type": "code",
   "execution_count": 27,
   "metadata": {},
   "outputs": [
    {
     "name": "stdout",
     "output_type": "stream",
     "text": [
      "try\n",
      "finally\n",
      "res= 30\n"
     ]
    }
   ],
   "source": [
    "def fun():\n",
    "    try:\n",
    "        print(\"try\")\n",
    "        return 10\n",
    "    except:\n",
    "        print(\"except\")\n",
    "        return 20\n",
    "    finally:\n",
    "        print(\"finally\")\n",
    "        return 30\n",
    "    print(\"fun main\")\n",
    "    return 40\n",
    "res=fun()\n",
    "print(\"res=\",res)"
   ]
  },
  {
   "cell_type": "code",
   "execution_count": 28,
   "metadata": {},
   "outputs": [
    {
     "name": "stdout",
     "output_type": "stream",
     "text": [
      "started\n",
      "try\n",
      "10.0\n",
      "finally\n",
      "for main\n",
      "try\n",
      "5.0\n",
      "finally\n",
      "for main\n",
      "try\n",
      "3.3333333333333335\n",
      "finally\n",
      "for main\n",
      "try\n",
      "finally\n"
     ]
    },
    {
     "ename": "ZeroDivisionError",
     "evalue": "division by zero",
     "output_type": "error",
     "traceback": [
      "\u001b[1;31m---------------------------------------------------------------------------\u001b[0m",
      "\u001b[1;31mZeroDivisionError\u001b[0m                         Traceback (most recent call last)",
      "\u001b[1;32m<ipython-input-28-72cd2941dda8>\u001b[0m in \u001b[0;36m<module>\u001b[1;34m\u001b[0m\n\u001b[0;32m      3\u001b[0m     \u001b[1;32mtry\u001b[0m\u001b[1;33m:\u001b[0m\u001b[1;33m\u001b[0m\u001b[1;33m\u001b[0m\u001b[0m\n\u001b[0;32m      4\u001b[0m         \u001b[0mprint\u001b[0m\u001b[1;33m(\u001b[0m\u001b[1;34m\"try\"\u001b[0m\u001b[1;33m)\u001b[0m\u001b[1;33m\u001b[0m\u001b[1;33m\u001b[0m\u001b[0m\n\u001b[1;32m----> 5\u001b[1;33m         \u001b[0mprint\u001b[0m\u001b[1;33m(\u001b[0m\u001b[1;36m10\u001b[0m\u001b[1;33m/\u001b[0m\u001b[0mi\u001b[0m\u001b[1;33m)\u001b[0m\u001b[1;33m\u001b[0m\u001b[1;33m\u001b[0m\u001b[0m\n\u001b[0m\u001b[0;32m      6\u001b[0m     \u001b[1;32mfinally\u001b[0m\u001b[1;33m:\u001b[0m\u001b[1;33m\u001b[0m\u001b[1;33m\u001b[0m\u001b[0m\n\u001b[0;32m      7\u001b[0m         \u001b[0mprint\u001b[0m\u001b[1;33m(\u001b[0m\u001b[1;34m\"finally\"\u001b[0m\u001b[1;33m)\u001b[0m\u001b[1;33m\u001b[0m\u001b[1;33m\u001b[0m\u001b[0m\n",
      "\u001b[1;31mZeroDivisionError\u001b[0m: division by zero"
     ]
    }
   ],
   "source": [
    "print(\"started\")\n",
    "for i in [1,2,3,0,4,5,6]:\n",
    "    try:\n",
    "        print(\"try\")\n",
    "        print(10/i)\n",
    "    finally:\n",
    "        print(\"finally\")\n",
    "    print(\"for main\")\n",
    "print(\"ended\")"
   ]
  },
  {
   "cell_type": "code",
   "execution_count": 29,
   "metadata": {},
   "outputs": [
    {
     "name": "stdout",
     "output_type": "stream",
     "text": [
      "started\n",
      "try\n",
      "finally\n",
      "for main\n",
      "try\n",
      "finally\n",
      "for main\n",
      "try\n",
      "finally\n",
      "ended\n"
     ]
    }
   ],
   "source": [
    "print(\"started\")\n",
    "for i in [1,2,3,0,4,5,6]:\n",
    "    try:\n",
    "        print(\"try\")\n",
    "        if i==3:\n",
    "            break\n",
    "    finally:\n",
    "        print(\"finally\")\n",
    "    print(\"for main\")\n",
    "print(\"ended\")"
   ]
  },
  {
   "cell_type": "code",
   "execution_count": 30,
   "metadata": {},
   "outputs": [
    {
     "ename": "ZeroDivisionError",
     "evalue": "division by zero",
     "output_type": "error",
     "traceback": [
      "\u001b[1;31m---------------------------------------------------------------------------\u001b[0m",
      "\u001b[1;31mZeroDivisionError\u001b[0m                         Traceback (most recent call last)",
      "\u001b[1;32m<ipython-input-30-2fc232d1511a>\u001b[0m in \u001b[0;36m<module>\u001b[1;34m\u001b[0m\n\u001b[1;32m----> 1\u001b[1;33m \u001b[0mprint\u001b[0m\u001b[1;33m(\u001b[0m\u001b[1;36m1\u001b[0m\u001b[1;33m/\u001b[0m\u001b[1;36m0\u001b[0m\u001b[1;33m)\u001b[0m\u001b[1;33m\u001b[0m\u001b[1;33m\u001b[0m\u001b[0m\n\u001b[0m",
      "\u001b[1;31mZeroDivisionError\u001b[0m: division by zero"
     ]
    }
   ],
   "source": [
    "print(1/0)"
   ]
  },
  {
   "cell_type": "code",
   "execution_count": 31,
   "metadata": {},
   "outputs": [
    {
     "name": "stdout",
     "output_type": "stream",
     "text": [
      "enrter name:qwertyuio\n",
      "OK\n"
     ]
    }
   ],
   "source": [
    "class NameValidationError(Exception):\n",
    "    pass\n",
    "name=input(\"enrter name:\")\n",
    "if name.isalnum():\n",
    "    print(\"OK\")\n",
    "else:\n",
    "    raise NameValidationError(\"Expecting only numbers and alphabets in the name \")"
   ]
  },
  {
   "cell_type": "code",
   "execution_count": 32,
   "metadata": {},
   "outputs": [
    {
     "name": "stdout",
     "output_type": "stream",
     "text": [
      "enrter name:qwert12345\n",
      "OK\n"
     ]
    }
   ],
   "source": [
    "class NameValidationError(Exception):\n",
    "    pass\n",
    "name=input(\"enrter name:\")\n",
    "if name.isalnum():\n",
    "    print(\"OK\")\n",
    "else:\n",
    "    raise NameValidationError(\"Expecting only numbers and alphabets in the name \")"
   ]
  },
  {
   "cell_type": "code",
   "execution_count": 33,
   "metadata": {},
   "outputs": [
    {
     "name": "stdout",
     "output_type": "stream",
     "text": [
      "enrter name:wert@#$%\n"
     ]
    },
    {
     "ename": "NameValidationError",
     "evalue": "Expecting only numbers and alphabets in the name ",
     "output_type": "error",
     "traceback": [
      "\u001b[1;31m---------------------------------------------------------------------------\u001b[0m",
      "\u001b[1;31mNameValidationError\u001b[0m                       Traceback (most recent call last)",
      "\u001b[1;32m<ipython-input-33-df09ba2d4c7b>\u001b[0m in \u001b[0;36m<module>\u001b[1;34m\u001b[0m\n\u001b[0;32m      5\u001b[0m     \u001b[0mprint\u001b[0m\u001b[1;33m(\u001b[0m\u001b[1;34m\"OK\"\u001b[0m\u001b[1;33m)\u001b[0m\u001b[1;33m\u001b[0m\u001b[1;33m\u001b[0m\u001b[0m\n\u001b[0;32m      6\u001b[0m \u001b[1;32melse\u001b[0m\u001b[1;33m:\u001b[0m\u001b[1;33m\u001b[0m\u001b[1;33m\u001b[0m\u001b[0m\n\u001b[1;32m----> 7\u001b[1;33m     \u001b[1;32mraise\u001b[0m \u001b[0mNameValidationError\u001b[0m\u001b[1;33m(\u001b[0m\u001b[1;34m\"Expecting only numbers and alphabets in the name \"\u001b[0m\u001b[1;33m)\u001b[0m\u001b[1;33m\u001b[0m\u001b[1;33m\u001b[0m\u001b[0m\n\u001b[0m",
      "\u001b[1;31mNameValidationError\u001b[0m: Expecting only numbers and alphabets in the name "
     ]
    }
   ],
   "source": [
    "class NameValidationError(Exception):\n",
    "    pass\n",
    "name=input(\"enrter name:\")\n",
    "if name.isalnum():\n",
    "    print(\"OK\")\n",
    "else:\n",
    "    raise NameValidationError(\"Expecting only numbers and alphabets in the name \")"
   ]
  },
  {
   "cell_type": "code",
   "execution_count": 35,
   "metadata": {},
   "outputs": [
    {
     "name": "stdout",
     "output_type": "stream",
     "text": [
      "enrter name:wer2#$\n",
      "Expecting only numbers and alphabets in the name \n"
     ]
    }
   ],
   "source": [
    "class NameValidationError(Exception):\n",
    "    pass\n",
    "def validate_name(name):\n",
    "    if name.isalnum():\n",
    "        print(\"OK\")\n",
    "    else:\n",
    "        raise NameValidationError(\"Expecting only numbers and alphabets in the name \")\n",
    "name=input(\"enrter name:\")\n",
    "try:\n",
    "    validate_name(name)\n",
    "except NameValidationError as err:\n",
    "    print(err)\n",
    "    "
   ]
  },
  {
   "cell_type": "code",
   "execution_count": null,
   "metadata": {},
   "outputs": [],
   "source": [
    "import time\n",
    "f=open(\"data.txt\",\"a\")\n",
    "try:\n",
    "    while True:\n",
    "        f.write(\"hello\\n\")\n",
    "        f.flush()\n",
    "        time.sleep(1)\n",
    "except:\n",
    "    f.write(\"except\")\n",
    "    f.close()\n",
    "finally:\n",
    "    f.write(\"finally\")\n",
    "    f.close()"
   ]
  }
 ],
 "metadata": {
  "kernelspec": {
   "display_name": "Python 3",
   "language": "python",
   "name": "python3"
  },
  "language_info": {
   "codemirror_mode": {
    "name": "ipython",
    "version": 3
   },
   "file_extension": ".py",
   "mimetype": "text/x-python",
   "name": "python",
   "nbconvert_exporter": "python",
   "pygments_lexer": "ipython3",
   "version": "3.8.3"
  }
 },
 "nbformat": 4,
 "nbformat_minor": 4
}
