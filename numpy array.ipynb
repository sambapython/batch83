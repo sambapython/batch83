{
 "cells": [
  {
   "cell_type": "code",
   "execution_count": 1,
   "metadata": {},
   "outputs": [],
   "source": [
    "#list and array\n",
    "#array similar kind of data type. i.e all the elements should have only one data type\n",
    "#list can contains multiple datatypes"
   ]
  },
  {
   "cell_type": "code",
   "execution_count": 3,
   "metadata": {},
   "outputs": [
    {
     "name": "stdout",
     "output_type": "stream",
     "text": [
      "0.0019593238830566406\n"
     ]
    }
   ],
   "source": [
    "import time\n",
    "l=[i+10 for i in range(100000)]\n",
    "t1=time.time()\n",
    "res=sum(l)\n",
    "print(time.time()-t1)\n"
   ]
  },
  {
   "cell_type": "code",
   "execution_count": null,
   "metadata": {},
   "outputs": [],
   "source": [
    "import time\n",
    "import numpy as np\n",
    "l=[i+10 for i in range(100000)]\n",
    "t1=time.time()\n",
    "res=sum(l)\n",
    "print(time.time()-t1)"
   ]
  },
  {
   "cell_type": "code",
   "execution_count": 4,
   "metadata": {},
   "outputs": [],
   "source": [
    "import numpy as np"
   ]
  },
  {
   "cell_type": "code",
   "execution_count": 5,
   "metadata": {},
   "outputs": [
    {
     "name": "stdout",
     "output_type": "stream",
     "text": [
      "['ALLOW_THREADS', 'AxisError', 'BUFSIZE', 'CLIP', 'ComplexWarning', 'DataSource', 'ERR_CALL', 'ERR_DEFAULT', 'ERR_IGNORE', 'ERR_LOG', 'ERR_PRINT', 'ERR_RAISE', 'ERR_WARN', 'FLOATING_POINT_SUPPORT', 'FPE_DIVIDEBYZERO', 'FPE_INVALID', 'FPE_OVERFLOW', 'FPE_UNDERFLOW', 'False_', 'Inf', 'Infinity', 'MAXDIMS', 'MAY_SHARE_BOUNDS', 'MAY_SHARE_EXACT', 'MachAr', 'ModuleDeprecationWarning', 'NAN', 'NINF', 'NZERO', 'NaN', 'PINF', 'PZERO', 'RAISE', 'RankWarning', 'SHIFT_DIVIDEBYZERO', 'SHIFT_INVALID', 'SHIFT_OVERFLOW', 'SHIFT_UNDERFLOW', 'ScalarType', 'Tester', 'TooHardError', 'True_', 'UFUNC_BUFSIZE_DEFAULT', 'UFUNC_PYVALS_NAME', 'VisibleDeprecationWarning', 'WRAP', '_NoValue', '_UFUNC_API', '__NUMPY_SETUP__', '__all__', '__builtins__', '__cached__', '__config__', '__dir__', '__doc__', '__file__', '__getattr__', '__git_revision__', '__loader__', '__name__', '__package__', '__path__', '__spec__', '__version__', '_add_newdoc_ufunc', '_distributor_init', '_globals', '_mat', '_pytesttester', 'abs', 'absolute', 'absolute_import', 'add', 'add_docstring', 'add_newdoc', 'add_newdoc_ufunc', 'alen', 'all', 'allclose', 'alltrue', 'amax', 'amin', 'angle', 'any', 'append', 'apply_along_axis', 'apply_over_axes', 'arange', 'arccos', 'arccosh', 'arcsin', 'arcsinh', 'arctan', 'arctan2', 'arctanh', 'argmax', 'argmin', 'argpartition', 'argsort', 'argwhere', 'around', 'array', 'array2string', 'array_equal', 'array_equiv', 'array_repr', 'array_split', 'array_str', 'asanyarray', 'asarray', 'asarray_chkfinite', 'ascontiguousarray', 'asfarray', 'asfortranarray', 'asmatrix', 'asscalar', 'atleast_1d', 'atleast_2d', 'atleast_3d', 'average', 'bartlett', 'base_repr', 'binary_repr', 'bincount', 'bitwise_and', 'bitwise_not', 'bitwise_or', 'bitwise_xor', 'blackman', 'block', 'bmat', 'bool', 'bool8', 'bool_', 'broadcast', 'broadcast_arrays', 'broadcast_to', 'busday_count', 'busday_offset', 'busdaycalendar', 'byte', 'byte_bounds', 'bytes0', 'bytes_', 'c_', 'can_cast', 'cast', 'cbrt', 'cdouble', 'ceil', 'cfloat', 'char', 'character', 'chararray', 'choose', 'clip', 'clongdouble', 'clongfloat', 'column_stack', 'common_type', 'compare_chararrays', 'compat', 'complex', 'complex128', 'complex64', 'complex_', 'complexfloating', 'compress', 'concatenate', 'conj', 'conjugate', 'convolve', 'copy', 'copysign', 'copyto', 'core', 'corrcoef', 'correlate', 'cos', 'cosh', 'count_nonzero', 'cov', 'cross', 'csingle', 'ctypeslib', 'cumprod', 'cumproduct', 'cumsum', 'datetime64', 'datetime_as_string', 'datetime_data', 'deg2rad', 'degrees', 'delete', 'deprecate', 'deprecate_with_doc', 'diag', 'diag_indices', 'diag_indices_from', 'diagflat', 'diagonal', 'diff', 'digitize', 'disp', 'divide', 'division', 'divmod', 'dot', 'double', 'dsplit', 'dstack', 'dtype', 'e', 'ediff1d', 'einsum', 'einsum_path', 'emath', 'empty', 'empty_like', 'equal', 'errstate', 'euler_gamma', 'exp', 'exp2', 'expand_dims', 'expm1', 'extract', 'eye', 'fabs', 'fastCopyAndTranspose', 'fft', 'fill_diagonal', 'find_common_type', 'finfo', 'fix', 'flatiter', 'flatnonzero', 'flexible', 'flip', 'fliplr', 'flipud', 'float', 'float16', 'float32', 'float64', 'float_', 'float_power', 'floating', 'floor', 'floor_divide', 'fmax', 'fmin', 'fmod', 'format_float_positional', 'format_float_scientific', 'format_parser', 'frexp', 'frombuffer', 'fromfile', 'fromfunction', 'fromiter', 'frompyfunc', 'fromregex', 'fromstring', 'full', 'full_like', 'fv', 'gcd', 'generic', 'genfromtxt', 'geomspace', 'get_array_wrap', 'get_include', 'get_printoptions', 'getbufsize', 'geterr', 'geterrcall', 'geterrobj', 'gradient', 'greater', 'greater_equal', 'half', 'hamming', 'hanning', 'heaviside', 'histogram', 'histogram2d', 'histogram_bin_edges', 'histogramdd', 'hsplit', 'hstack', 'hypot', 'i0', 'identity', 'iinfo', 'imag', 'in1d', 'index_exp', 'indices', 'inexact', 'inf', 'info', 'infty', 'inner', 'insert', 'int', 'int0', 'int16', 'int32', 'int64', 'int8', 'int_', 'int_asbuffer', 'intc', 'integer', 'interp', 'intersect1d', 'intp', 'invert', 'ipmt', 'irr', 'is_busday', 'isclose', 'iscomplex', 'iscomplexobj', 'isfinite', 'isfortran', 'isin', 'isinf', 'isnan', 'isnat', 'isneginf', 'isposinf', 'isreal', 'isrealobj', 'isscalar', 'issctype', 'issubclass_', 'issubdtype', 'issubsctype', 'iterable', 'ix_', 'kaiser', 'kron', 'lcm', 'ldexp', 'left_shift', 'less', 'less_equal', 'lexsort', 'lib', 'linalg', 'linspace', 'little_endian', 'load', 'loads', 'loadtxt', 'log', 'log10', 'log1p', 'log2', 'logaddexp', 'logaddexp2', 'logical_and', 'logical_not', 'logical_or', 'logical_xor', 'logspace', 'long', 'longcomplex', 'longdouble', 'longfloat', 'longlong', 'lookfor', 'ma', 'mafromtxt', 'mask_indices', 'mat', 'math', 'matmul', 'matrix', 'matrixlib', 'max', 'maximum', 'maximum_sctype', 'may_share_memory', 'mean', 'median', 'memmap', 'meshgrid', 'mgrid', 'min', 'min_scalar_type', 'minimum', 'mintypecode', 'mirr', 'mod', 'modf', 'moveaxis', 'msort', 'multiply', 'nan', 'nan_to_num', 'nanargmax', 'nanargmin', 'nancumprod', 'nancumsum', 'nanmax', 'nanmean', 'nanmedian', 'nanmin', 'nanpercentile', 'nanprod', 'nanquantile', 'nanstd', 'nansum', 'nanvar', 'nbytes', 'ndarray', 'ndenumerate', 'ndfromtxt', 'ndim', 'ndindex', 'nditer', 'negative', 'nested_iters', 'newaxis', 'nextafter', 'nonzero', 'not_equal', 'nper', 'npv', 'numarray', 'number', 'obj2sctype', 'object', 'object0', 'object_', 'ogrid', 'oldnumeric', 'ones', 'ones_like', 'outer', 'packbits', 'pad', 'partition', 'percentile', 'pi', 'piecewise', 'place', 'pmt', 'poly', 'poly1d', 'polyadd', 'polyder', 'polydiv', 'polyfit', 'polyint', 'polymul', 'polynomial', 'polysub', 'polyval', 'positive', 'power', 'ppmt', 'print_function', 'printoptions', 'prod', 'product', 'promote_types', 'ptp', 'put', 'put_along_axis', 'putmask', 'pv', 'quantile', 'r_', 'rad2deg', 'radians', 'random', 'rate', 'ravel', 'ravel_multi_index', 'real', 'real_if_close', 'rec', 'recarray', 'recfromcsv', 'recfromtxt', 'reciprocal', 'record', 'remainder', 'repeat', 'require', 'reshape', 'resize', 'result_type', 'right_shift', 'rint', 'roll', 'rollaxis', 'roots', 'rot90', 'round', 'round_', 'row_stack', 's_', 'safe_eval', 'save', 'savetxt', 'savez', 'savez_compressed', 'sctype2char', 'sctypeDict', 'sctypeNA', 'sctypes', 'searchsorted', 'select', 'set_numeric_ops', 'set_printoptions', 'set_string_function', 'setbufsize', 'setdiff1d', 'seterr', 'seterrcall', 'seterrobj', 'setxor1d', 'shape', 'shares_memory', 'short', 'show_config', 'sign', 'signbit', 'signedinteger', 'sin', 'sinc', 'single', 'singlecomplex', 'sinh', 'size', 'sometrue', 'sort', 'sort_complex', 'source', 'spacing', 'split', 'sqrt', 'square', 'squeeze', 'stack', 'std', 'str', 'str0', 'str_', 'string_', 'subtract', 'sum', 'swapaxes', 'sys', 'take', 'take_along_axis', 'tan', 'tanh', 'tensordot', 'test', 'testing', 'tile', 'timedelta64', 'trace', 'tracemalloc_domain', 'transpose', 'trapz', 'tri', 'tril', 'tril_indices', 'tril_indices_from', 'trim_zeros', 'triu', 'triu_indices', 'triu_indices_from', 'true_divide', 'trunc', 'typeDict', 'typeNA', 'typecodes', 'typename', 'ubyte', 'ufunc', 'uint', 'uint0', 'uint16', 'uint32', 'uint64', 'uint8', 'uintc', 'uintp', 'ulonglong', 'unicode', 'unicode_', 'union1d', 'unique', 'unpackbits', 'unravel_index', 'unsignedinteger', 'unwrap', 'ushort', 'vander', 'var', 'vdot', 'vectorize', 'version', 'void', 'void0', 'vsplit', 'vstack', 'warnings', 'where', 'who', 'zeros', 'zeros_like']\n"
     ]
    }
   ],
   "source": [
    "print(dir(np))"
   ]
  },
  {
   "cell_type": "code",
   "execution_count": 7,
   "metadata": {},
   "outputs": [
    {
     "name": "stdout",
     "output_type": "stream",
     "text": [
      "0.0\n"
     ]
    }
   ],
   "source": [
    "import time\n",
    "import numpy as np\n",
    "l=[i+10 for i in range(100000)]\n",
    "ar1=np.array(l)\n",
    "t1=time.time()\n",
    "res=np.sum(ar1)\n",
    "print(time.time()-t1)"
   ]
  },
  {
   "cell_type": "code",
   "execution_count": 8,
   "metadata": {},
   "outputs": [
    {
     "name": "stdout",
     "output_type": "stream",
     "text": [
      "0.0019953250885009766\n"
     ]
    }
   ],
   "source": [
    "import time\n",
    "import numpy as np\n",
    "l=[i+10 for i in range(100000)]\n",
    "t1=time.time()\n",
    "res=sum(l)\n",
    "print(time.time()-t1)"
   ]
  },
  {
   "cell_type": "code",
   "execution_count": 15,
   "metadata": {},
   "outputs": [
    {
     "name": "stdout",
     "output_type": "stream",
     "text": [
      "5000950000\n",
      "Wall time: 11 ms\n"
     ]
    }
   ],
   "source": [
    "%%time\n",
    "res=sum(l)\n",
    "print(res)\n",
    "l=[i+10 for i in range(100000)]"
   ]
  },
  {
   "cell_type": "code",
   "execution_count": 22,
   "metadata": {},
   "outputs": [
    {
     "name": "stdout",
     "output_type": "stream",
     "text": [
      "705982704\n",
      "Wall time: 8.99 ms\n"
     ]
    }
   ],
   "source": [
    "%%time\n",
    "ar1=np.array(l)\n",
    "res=np.sum(ar1)\n",
    "print(res)"
   ]
  },
  {
   "cell_type": "code",
   "execution_count": 23,
   "metadata": {},
   "outputs": [
    {
     "ename": "TypeError",
     "evalue": "can only concatenate list (not \"int\") to list",
     "output_type": "error",
     "traceback": [
      "\u001b[1;31m---------------------------------------------------------------------------\u001b[0m",
      "\u001b[1;31mTypeError\u001b[0m                                 Traceback (most recent call last)",
      "\u001b[1;32m<ipython-input-23-cc4274346ff1>\u001b[0m in \u001b[0;36m<module>\u001b[1;34m\u001b[0m\n\u001b[0;32m      1\u001b[0m \u001b[1;31m# vector processing\u001b[0m\u001b[1;33m\u001b[0m\u001b[1;33m\u001b[0m\u001b[1;33m\u001b[0m\u001b[0m\n\u001b[0;32m      2\u001b[0m \u001b[0ml\u001b[0m\u001b[1;33m=\u001b[0m\u001b[1;33m[\u001b[0m\u001b[1;36m1\u001b[0m\u001b[1;33m,\u001b[0m\u001b[1;36m2\u001b[0m\u001b[1;33m,\u001b[0m\u001b[1;36m3\u001b[0m\u001b[1;33m,\u001b[0m\u001b[1;36m4\u001b[0m\u001b[1;33m]\u001b[0m\u001b[1;33m\u001b[0m\u001b[1;33m\u001b[0m\u001b[0m\n\u001b[1;32m----> 3\u001b[1;33m \u001b[0ml\u001b[0m\u001b[1;33m+\u001b[0m\u001b[1;36m10\u001b[0m\u001b[1;33m\u001b[0m\u001b[1;33m\u001b[0m\u001b[0m\n\u001b[0m",
      "\u001b[1;31mTypeError\u001b[0m: can only concatenate list (not \"int\") to list"
     ]
    }
   ],
   "source": [
    "# vector processing\n",
    "l=[1,2,3,4]\n",
    "l+10\n"
   ]
  },
  {
   "cell_type": "code",
   "execution_count": 24,
   "metadata": {},
   "outputs": [
    {
     "data": {
      "text/plain": [
       "array([11, 12, 13, 14])"
      ]
     },
     "execution_count": 24,
     "metadata": {},
     "output_type": "execute_result"
    }
   ],
   "source": [
    "# vector processing\n",
    "l=[1,2,3,4]\n",
    "ar1=np.array(l)\n",
    "ar1+10\n"
   ]
  },
  {
   "cell_type": "code",
   "execution_count": 25,
   "metadata": {},
   "outputs": [
    {
     "name": "stdout",
     "output_type": "stream",
     "text": [
      "[[1, 2, 3, 4], [5, 6, 7, 8], [9, 10, 11, 12]]\n"
     ]
    }
   ],
   "source": [
    "k=[[1,2,3,4],\n",
    "  [5,6,7,8],\n",
    "   [9,10,11,12]\n",
    "  ]\n",
    "print(k)"
   ]
  },
  {
   "cell_type": "code",
   "execution_count": 27,
   "metadata": {},
   "outputs": [
    {
     "name": "stdout",
     "output_type": "stream",
     "text": [
      "[[ 1  2  3  4]\n",
      " [ 5  6  7  8]\n",
      " [ 9 10 11 12]]\n"
     ]
    }
   ],
   "source": [
    "k=[[1,2,3,4],\n",
    "  [5,6,7,8],\n",
    "   [9,10,11,12]\n",
    "  ]\n",
    "ar1 = np.array(k)\n",
    "print(ar1)"
   ]
  },
  {
   "cell_type": "code",
   "execution_count": 28,
   "metadata": {},
   "outputs": [
    {
     "data": {
      "text/plain": [
       "78"
      ]
     },
     "execution_count": 28,
     "metadata": {},
     "output_type": "execute_result"
    }
   ],
   "source": [
    "ar1.sum()"
   ]
  },
  {
   "cell_type": "code",
   "execution_count": 29,
   "metadata": {},
   "outputs": [
    {
     "data": {
      "text/plain": [
       "array([15, 18, 21, 24])"
      ]
     },
     "execution_count": 29,
     "metadata": {},
     "output_type": "execute_result"
    }
   ],
   "source": [
    "ar1.sum(axis=0)#column wise"
   ]
  },
  {
   "cell_type": "code",
   "execution_count": 30,
   "metadata": {},
   "outputs": [
    {
     "data": {
      "text/plain": [
       "array([10, 26, 42])"
      ]
     },
     "execution_count": 30,
     "metadata": {},
     "output_type": "execute_result"
    }
   ],
   "source": [
    "ar1.sum(axis=1)#row wise"
   ]
  },
  {
   "cell_type": "code",
   "execution_count": 31,
   "metadata": {},
   "outputs": [
    {
     "name": "stdout",
     "output_type": "stream",
     "text": [
      "['T', '__abs__', '__add__', '__and__', '__array__', '__array_finalize__', '__array_function__', '__array_interface__', '__array_prepare__', '__array_priority__', '__array_struct__', '__array_ufunc__', '__array_wrap__', '__bool__', '__class__', '__complex__', '__contains__', '__copy__', '__deepcopy__', '__delattr__', '__delitem__', '__dir__', '__divmod__', '__doc__', '__eq__', '__float__', '__floordiv__', '__format__', '__ge__', '__getattribute__', '__getitem__', '__gt__', '__hash__', '__iadd__', '__iand__', '__ifloordiv__', '__ilshift__', '__imatmul__', '__imod__', '__imul__', '__index__', '__init__', '__init_subclass__', '__int__', '__invert__', '__ior__', '__ipow__', '__irshift__', '__isub__', '__iter__', '__itruediv__', '__ixor__', '__le__', '__len__', '__lshift__', '__lt__', '__matmul__', '__mod__', '__mul__', '__ne__', '__neg__', '__new__', '__or__', '__pos__', '__pow__', '__radd__', '__rand__', '__rdivmod__', '__reduce__', '__reduce_ex__', '__repr__', '__rfloordiv__', '__rlshift__', '__rmatmul__', '__rmod__', '__rmul__', '__ror__', '__rpow__', '__rrshift__', '__rshift__', '__rsub__', '__rtruediv__', '__rxor__', '__setattr__', '__setitem__', '__setstate__', '__sizeof__', '__str__', '__sub__', '__subclasshook__', '__truediv__', '__xor__', 'all', 'any', 'argmax', 'argmin', 'argpartition', 'argsort', 'astype', 'base', 'byteswap', 'choose', 'clip', 'compress', 'conj', 'conjugate', 'copy', 'ctypes', 'cumprod', 'cumsum', 'data', 'diagonal', 'dot', 'dtype', 'dump', 'dumps', 'fill', 'flags', 'flat', 'flatten', 'getfield', 'imag', 'item', 'itemset', 'itemsize', 'max', 'mean', 'min', 'nbytes', 'ndim', 'newbyteorder', 'nonzero', 'partition', 'prod', 'ptp', 'put', 'ravel', 'real', 'repeat', 'reshape', 'resize', 'round', 'searchsorted', 'setfield', 'setflags', 'shape', 'size', 'sort', 'squeeze', 'std', 'strides', 'sum', 'swapaxes', 'take', 'tobytes', 'tofile', 'tolist', 'tostring', 'trace', 'transpose', 'var', 'view']\n"
     ]
    }
   ],
   "source": [
    "print(dir(ar1))"
   ]
  },
  {
   "cell_type": "code",
   "execution_count": 32,
   "metadata": {},
   "outputs": [],
   "source": [
    "ar1.flat?"
   ]
  },
  {
   "cell_type": "code",
   "execution_count": 33,
   "metadata": {},
   "outputs": [
    {
     "name": "stdout",
     "output_type": "stream",
     "text": [
      "[[ 1  2  3  4]\n",
      " [ 5  6  7  8]\n",
      " [ 9 10 11 12]]\n"
     ]
    }
   ],
   "source": [
    "k=[[1,2,3,4],\n",
    "  [5,6,7,8],\n",
    "   [9,10,11,12]\n",
    "  ]\n",
    "ar1=np.array(k)\n",
    "print(ar1)"
   ]
  },
  {
   "cell_type": "code",
   "execution_count": 34,
   "metadata": {},
   "outputs": [
    {
     "name": "stdout",
     "output_type": "stream",
     "text": [
      "[0 1 2 3 4 5]\n"
     ]
    }
   ],
   "source": [
    "ar1 =np.arange(6)\n",
    "print(ar1)"
   ]
  },
  {
   "cell_type": "code",
   "execution_count": 35,
   "metadata": {},
   "outputs": [
    {
     "name": "stdout",
     "output_type": "stream",
     "text": [
      "[ 0  1  2  3  4  5  6  7  8  9 10 11]\n"
     ]
    }
   ],
   "source": [
    "ar1 =np.arange(12)\n",
    "print(ar1)"
   ]
  },
  {
   "cell_type": "code",
   "execution_count": 36,
   "metadata": {},
   "outputs": [
    {
     "name": "stdout",
     "output_type": "stream",
     "text": [
      "[ 1  2  3  4  5  6  7  8  9 10 11 12]\n"
     ]
    }
   ],
   "source": [
    "ar1 =np.arange(1,13)\n",
    "print(ar1)"
   ]
  },
  {
   "cell_type": "code",
   "execution_count": 37,
   "metadata": {},
   "outputs": [
    {
     "name": "stdout",
     "output_type": "stream",
     "text": [
      "[[ 1  2  3  4]\n",
      " [ 5  6  7  8]\n",
      " [ 9 10 11 12]]\n"
     ]
    }
   ],
   "source": [
    "ar1 =np.arange(1,13).reshape(3,4)\n",
    "print(ar1)"
   ]
  },
  {
   "cell_type": "code",
   "execution_count": 39,
   "metadata": {},
   "outputs": [
    {
     "name": "stdout",
     "output_type": "stream",
     "text": [
      "[[ 1  2  3  4]\n",
      " [ 5  6  7  8]\n",
      " [ 9 10 11 12]]\n",
      "<numpy.flatiter object at 0x00000224FBE5B020>\n"
     ]
    }
   ],
   "source": [
    "ar1 =np.arange(1,13).reshape(3,4)\n",
    "print(ar1)\n",
    "ar2 = ar1.flat\n",
    "print(ar2)"
   ]
  },
  {
   "cell_type": "code",
   "execution_count": 40,
   "metadata": {},
   "outputs": [
    {
     "name": "stdout",
     "output_type": "stream",
     "text": [
      "[[ 1  2  3  4]\n",
      " [ 5  6  7  8]\n",
      " [ 9 10 11 12]]\n",
      "<numpy.flatiter object at 0x00000224FA6F2670>\n",
      "1\n",
      "2\n",
      "3\n",
      "4\n",
      "5\n",
      "6\n",
      "7\n",
      "8\n",
      "9\n",
      "10\n",
      "11\n",
      "12\n"
     ]
    }
   ],
   "source": [
    "ar1 =np.arange(1,13).reshape(3,4)\n",
    "print(ar1)\n",
    "ar2 = ar1.flat\n",
    "print(ar2)\n",
    "for i in ar2:\n",
    "    print(i)"
   ]
  },
  {
   "cell_type": "code",
   "execution_count": 41,
   "metadata": {},
   "outputs": [
    {
     "name": "stdout",
     "output_type": "stream",
     "text": [
      "[[ 1  2  3  4]\n",
      " [ 5  6  7  8]\n",
      " [ 9 10 11 12]]\n",
      "<numpy.flatiter object at 0x00000224FBE5B020>\n",
      "1\n",
      "2\n",
      "3\n",
      "4\n",
      "5\n",
      "6\n",
      "7\n",
      "8\n",
      "9\n",
      "10\n",
      "11\n",
      "12\n",
      "[1 2 3 4]\n",
      "[5 6 7 8]\n",
      "[ 9 10 11 12]\n"
     ]
    }
   ],
   "source": [
    "ar1 =np.arange(1,13).reshape(3,4)\n",
    "print(ar1)\n",
    "ar2 = ar1.flat\n",
    "print(ar2)\n",
    "for i in ar2:\n",
    "    print(i)\n",
    "for i in ar1:\n",
    "    print(i)"
   ]
  },
  {
   "cell_type": "code",
   "execution_count": 43,
   "metadata": {},
   "outputs": [
    {
     "data": {
      "text/plain": [
       "array([[ 1,  2,  3,  4],\n",
       "       [ 5,  6,  7,  8],\n",
       "       [ 9, 10, 11, 12]])"
      ]
     },
     "execution_count": 43,
     "metadata": {},
     "output_type": "execute_result"
    }
   ],
   "source": [
    "ar1"
   ]
  },
  {
   "cell_type": "code",
   "execution_count": 44,
   "metadata": {},
   "outputs": [],
   "source": [
    "ar1.transpose?"
   ]
  },
  {
   "cell_type": "code",
   "execution_count": 45,
   "metadata": {},
   "outputs": [
    {
     "data": {
      "text/plain": [
       "array([[ 1,  5,  9],\n",
       "       [ 2,  6, 10],\n",
       "       [ 3,  7, 11],\n",
       "       [ 4,  8, 12]])"
      ]
     },
     "execution_count": 45,
     "metadata": {},
     "output_type": "execute_result"
    }
   ],
   "source": [
    "ar1.transpose()"
   ]
  },
  {
   "cell_type": "code",
   "execution_count": 46,
   "metadata": {},
   "outputs": [
    {
     "data": {
      "text/plain": [
       "array([[ 1,  2,  3,  4],\n",
       "       [ 5,  6,  7,  8],\n",
       "       [ 9, 10, 11, 12]])"
      ]
     },
     "execution_count": 46,
     "metadata": {},
     "output_type": "execute_result"
    }
   ],
   "source": [
    "ar1"
   ]
  },
  {
   "cell_type": "code",
   "execution_count": 48,
   "metadata": {},
   "outputs": [
    {
     "data": {
      "text/plain": [
       "(3, 4)"
      ]
     },
     "execution_count": 48,
     "metadata": {},
     "output_type": "execute_result"
    }
   ],
   "source": [
    "ar1.shape"
   ]
  },
  {
   "cell_type": "code",
   "execution_count": 49,
   "metadata": {},
   "outputs": [
    {
     "data": {
      "text/plain": [
       "(4, 3)"
      ]
     },
     "execution_count": 49,
     "metadata": {},
     "output_type": "execute_result"
    }
   ],
   "source": [
    "ar1.transpose().shape"
   ]
  },
  {
   "cell_type": "code",
   "execution_count": 52,
   "metadata": {},
   "outputs": [
    {
     "data": {
      "text/plain": [
       "12"
      ]
     },
     "execution_count": 52,
     "metadata": {},
     "output_type": "execute_result"
    }
   ],
   "source": [
    "ar1.max()"
   ]
  },
  {
   "cell_type": "code",
   "execution_count": 53,
   "metadata": {},
   "outputs": [
    {
     "data": {
      "text/plain": [
       "11"
      ]
     },
     "execution_count": 53,
     "metadata": {},
     "output_type": "execute_result"
    }
   ],
   "source": [
    "ar1.argmax()"
   ]
  },
  {
   "cell_type": "code",
   "execution_count": 54,
   "metadata": {},
   "outputs": [
    {
     "data": {
      "text/plain": [
       "array([[ 1,  2,  3,  4],\n",
       "       [ 5,  6,  7,  8],\n",
       "       [ 9, 10, 11, 12]])"
      ]
     },
     "execution_count": 54,
     "metadata": {},
     "output_type": "execute_result"
    }
   ],
   "source": [
    "ar1"
   ]
  },
  {
   "cell_type": "code",
   "execution_count": 56,
   "metadata": {},
   "outputs": [
    {
     "data": {
      "text/plain": [
       "array([ 1,  6, 11])"
      ]
     },
     "execution_count": 56,
     "metadata": {},
     "output_type": "execute_result"
    }
   ],
   "source": [
    "ar1.diagonal()"
   ]
  },
  {
   "cell_type": "code",
   "execution_count": 57,
   "metadata": {},
   "outputs": [],
   "source": [
    "ar1.diagonal?"
   ]
  },
  {
   "cell_type": "code",
   "execution_count": 59,
   "metadata": {},
   "outputs": [
    {
     "data": {
      "text/plain": [
       "array([ 2,  7, 12])"
      ]
     },
     "execution_count": 59,
     "metadata": {},
     "output_type": "execute_result"
    }
   ],
   "source": [
    "ar1.diagonal(offset=1)"
   ]
  },
  {
   "cell_type": "code",
   "execution_count": 60,
   "metadata": {},
   "outputs": [
    {
     "data": {
      "text/plain": [
       "array([4])"
      ]
     },
     "execution_count": 60,
     "metadata": {},
     "output_type": "execute_result"
    }
   ],
   "source": [
    "ar1.diagonal(offset=3)"
   ]
  },
  {
   "cell_type": "code",
   "execution_count": 61,
   "metadata": {},
   "outputs": [
    {
     "data": {
      "text/plain": [
       "array([3, 8])"
      ]
     },
     "execution_count": 61,
     "metadata": {},
     "output_type": "execute_result"
    }
   ],
   "source": [
    "ar1.diagonal(offset=2)"
   ]
  },
  {
   "cell_type": "code",
   "execution_count": 62,
   "metadata": {},
   "outputs": [
    {
     "data": {
      "text/plain": [
       "array([[ 1,  2,  3,  4],\n",
       "       [ 5,  6,  7,  8],\n",
       "       [ 9, 10, 11, 12]])"
      ]
     },
     "execution_count": 62,
     "metadata": {},
     "output_type": "execute_result"
    }
   ],
   "source": [
    "ar1"
   ]
  },
  {
   "cell_type": "code",
   "execution_count": 64,
   "metadata": {},
   "outputs": [
    {
     "data": {
      "text/plain": [
       "array([ 1,  6, 11])"
      ]
     },
     "execution_count": 64,
     "metadata": {},
     "output_type": "execute_result"
    }
   ],
   "source": [
    "ar1.diagonal(axis1=1,axis2=0)"
   ]
  },
  {
   "cell_type": "code",
   "execution_count": 65,
   "metadata": {},
   "outputs": [
    {
     "name": "stdout",
     "output_type": "stream",
     "text": [
      "[[ 0  2  4  6]\n",
      " [ 8 10 12 14]\n",
      " [16 18 20 22]]\n",
      "[[ 1  3  5  7]\n",
      " [ 9 11 13 15]\n",
      " [17 19 21 23]]\n"
     ]
    }
   ],
   "source": [
    "ar1=np.arange(0,24,2).reshape(3,4)\n",
    "ar2=np.arange(1,25,2).reshape(3,4)\n",
    "print(ar1)\n",
    "print(ar2)"
   ]
  },
  {
   "cell_type": "code",
   "execution_count": 66,
   "metadata": {},
   "outputs": [
    {
     "name": "stdout",
     "output_type": "stream",
     "text": [
      "[[ 0  2  4  6]\n",
      " [ 8 10 12 14]\n",
      " [16 18 20 22]]\n",
      "[[ 1  3  5  7]\n",
      " [ 9 11 13 15]\n",
      " [17 19 21 23]]\n",
      "[[ 1  5  9 13]\n",
      " [17 21 25 29]\n",
      " [33 37 41 45]]\n"
     ]
    }
   ],
   "source": [
    "ar1=np.arange(0,24,2).reshape(3,4)\n",
    "ar2=np.arange(1,25,2).reshape(3,4)\n",
    "print(ar1)\n",
    "print(ar2)\n",
    "print(ar1+ar2)"
   ]
  },
  {
   "cell_type": "code",
   "execution_count": 67,
   "metadata": {},
   "outputs": [
    {
     "name": "stdout",
     "output_type": "stream",
     "text": [
      "[[ 0  2  4  6]\n",
      " [ 8 10 12 14]\n",
      " [16 18 20 22]]\n",
      "[[ 1  3  5  7]\n",
      " [ 9 11 13 15]\n",
      " [17 19 21 23]]\n",
      "[[  0   6  20  42]\n",
      " [ 72 110 156 210]\n",
      " [272 342 420 506]]\n"
     ]
    }
   ],
   "source": [
    "ar1=np.arange(0,24,2).reshape(3,4)\n",
    "ar2=np.arange(1,25,2).reshape(3,4)\n",
    "print(ar1)\n",
    "print(ar2)\n",
    "print(ar1*ar2)"
   ]
  },
  {
   "cell_type": "code",
   "execution_count": 68,
   "metadata": {},
   "outputs": [
    {
     "name": "stdout",
     "output_type": "stream",
     "text": [
      "['T', '__abs__', '__add__', '__and__', '__array__', '__array_finalize__', '__array_function__', '__array_interface__', '__array_prepare__', '__array_priority__', '__array_struct__', '__array_ufunc__', '__array_wrap__', '__bool__', '__class__', '__complex__', '__contains__', '__copy__', '__deepcopy__', '__delattr__', '__delitem__', '__dir__', '__divmod__', '__doc__', '__eq__', '__float__', '__floordiv__', '__format__', '__ge__', '__getattribute__', '__getitem__', '__gt__', '__hash__', '__iadd__', '__iand__', '__ifloordiv__', '__ilshift__', '__imatmul__', '__imod__', '__imul__', '__index__', '__init__', '__init_subclass__', '__int__', '__invert__', '__ior__', '__ipow__', '__irshift__', '__isub__', '__iter__', '__itruediv__', '__ixor__', '__le__', '__len__', '__lshift__', '__lt__', '__matmul__', '__mod__', '__mul__', '__ne__', '__neg__', '__new__', '__or__', '__pos__', '__pow__', '__radd__', '__rand__', '__rdivmod__', '__reduce__', '__reduce_ex__', '__repr__', '__rfloordiv__', '__rlshift__', '__rmatmul__', '__rmod__', '__rmul__', '__ror__', '__rpow__', '__rrshift__', '__rshift__', '__rsub__', '__rtruediv__', '__rxor__', '__setattr__', '__setitem__', '__setstate__', '__sizeof__', '__str__', '__sub__', '__subclasshook__', '__truediv__', '__xor__', 'all', 'any', 'argmax', 'argmin', 'argpartition', 'argsort', 'astype', 'base', 'byteswap', 'choose', 'clip', 'compress', 'conj', 'conjugate', 'copy', 'ctypes', 'cumprod', 'cumsum', 'data', 'diagonal', 'dot', 'dtype', 'dump', 'dumps', 'fill', 'flags', 'flat', 'flatten', 'getfield', 'imag', 'item', 'itemset', 'itemsize', 'max', 'mean', 'min', 'nbytes', 'ndim', 'newbyteorder', 'nonzero', 'partition', 'prod', 'ptp', 'put', 'ravel', 'real', 'repeat', 'reshape', 'resize', 'round', 'searchsorted', 'setfield', 'setflags', 'shape', 'size', 'sort', 'squeeze', 'std', 'strides', 'sum', 'swapaxes', 'take', 'tobytes', 'tofile', 'tolist', 'tostring', 'trace', 'transpose', 'var', 'view']\n"
     ]
    }
   ],
   "source": [
    "print(dir(ar1))"
   ]
  },
  {
   "cell_type": "code",
   "execution_count": 70,
   "metadata": {},
   "outputs": [
    {
     "name": "stdout",
     "output_type": "stream",
     "text": [
      "15\n"
     ]
    }
   ],
   "source": [
    "def fun(x):\n",
    "    if x==0:\n",
    "        return 0\n",
    "    return x+fun(x-1)\n",
    "res=fun(5)#5+fun(4)+fun(3)+fun(2)+fun(1)+fun(0)\n",
    "print(res)    "
   ]
  },
  {
   "cell_type": "code",
   "execution_count": 71,
   "metadata": {},
   "outputs": [],
   "source": [
    "#END CONDITION"
   ]
  },
  {
   "cell_type": "code",
   "execution_count": 72,
   "metadata": {},
   "outputs": [
    {
     "name": "stdout",
     "output_type": "stream",
     "text": [
      "[1, 2, 3, 4, 5, 6]\n"
     ]
    }
   ],
   "source": [
    "l=[1,[2,3],[4,5],6]\n",
    "res=[]\n",
    "for i in l:\n",
    "    if isinstance(i,list):\n",
    "        res.extend(i)\n",
    "    else:\n",
    "        res.append(i)\n",
    "print(res)"
   ]
  },
  {
   "cell_type": "code",
   "execution_count": 73,
   "metadata": {},
   "outputs": [
    {
     "name": "stdout",
     "output_type": "stream",
     "text": [
      "[1, 2, 3, [40, 50, [60, 70, 80]], 4, 5, [6, 7, [8, 9, [10, 11, [12, 13]]]], 6]\n"
     ]
    }
   ],
   "source": [
    "l=[1,[2,3,[40,50,[60,70,80]]],[4,5,[6,7,[8,9,[10,11,[12,13]]]]],6]\n",
    "res=[]\n",
    "for i in l:\n",
    "    if isinstance(i,list):\n",
    "        res.extend(i)\n",
    "    else:\n",
    "        res.append(i)\n",
    "print(res)"
   ]
  },
  {
   "cell_type": "code",
   "execution_count": 76,
   "metadata": {},
   "outputs": [
    {
     "name": "stdout",
     "output_type": "stream",
     "text": [
      "[1, 2, 3, 40, 50, 60, 70, 80, 4, 5, 6, 7, 8, 9, 10, 11, 12, 13, 6]\n"
     ]
    }
   ],
   "source": [
    "res=[]\n",
    "def fun(l):\n",
    "    for i in l:\n",
    "        if not isinstance(i,list):\n",
    "            res.append(i)\n",
    "        else:\n",
    "            fun(i)\n",
    "    return res\n",
    "\n",
    "        \n",
    "l=[1,[2,3,[40,50,[60,70,80]]],[4,5,[6,7,[8,9,[10,11,[12,13]]]]],6]\n",
    "res1 = fun(l)\n",
    "print(res1)"
   ]
  },
  {
   "cell_type": "code",
   "execution_count": 77,
   "metadata": {},
   "outputs": [],
   "source": [
    "# fibonaci"
   ]
  },
  {
   "cell_type": "code",
   "execution_count": 78,
   "metadata": {},
   "outputs": [],
   "source": [
    "# iterate through the files in a folder"
   ]
  },
  {
   "cell_type": "code",
   "execution_count": 79,
   "metadata": {},
   "outputs": [],
   "source": [
    "import os"
   ]
  },
  {
   "cell_type": "code",
   "execution_count": 80,
   "metadata": {},
   "outputs": [
    {
     "name": "stdout",
     "output_type": "stream",
     "text": [
      "['DirEntry', 'F_OK', 'MutableMapping', 'O_APPEND', 'O_BINARY', 'O_CREAT', 'O_EXCL', 'O_NOINHERIT', 'O_RANDOM', 'O_RDONLY', 'O_RDWR', 'O_SEQUENTIAL', 'O_SHORT_LIVED', 'O_TEMPORARY', 'O_TEXT', 'O_TRUNC', 'O_WRONLY', 'P_DETACH', 'P_NOWAIT', 'P_NOWAITO', 'P_OVERLAY', 'P_WAIT', 'PathLike', 'R_OK', 'SEEK_CUR', 'SEEK_END', 'SEEK_SET', 'TMP_MAX', 'W_OK', 'X_OK', '_AddedDllDirectory', '_Environ', '__all__', '__builtins__', '__cached__', '__doc__', '__file__', '__loader__', '__name__', '__package__', '__spec__', '_check_methods', '_execvpe', '_exists', '_exit', '_fspath', '_get_exports_list', '_putenv', '_unsetenv', '_wrap_close', 'abc', 'abort', 'access', 'add_dll_directory', 'altsep', 'chdir', 'chmod', 'close', 'closerange', 'cpu_count', 'curdir', 'defpath', 'device_encoding', 'devnull', 'dup', 'dup2', 'environ', 'error', 'execl', 'execle', 'execlp', 'execlpe', 'execv', 'execve', 'execvp', 'execvpe', 'extsep', 'fdopen', 'fsdecode', 'fsencode', 'fspath', 'fstat', 'fsync', 'ftruncate', 'get_exec_path', 'get_handle_inheritable', 'get_inheritable', 'get_terminal_size', 'getcwd', 'getcwdb', 'getenv', 'getlogin', 'getpid', 'getppid', 'isatty', 'kill', 'linesep', 'link', 'listdir', 'lseek', 'lstat', 'makedirs', 'mkdir', 'name', 'open', 'pardir', 'path', 'pathsep', 'pipe', 'popen', 'putenv', 'read', 'readlink', 'remove', 'removedirs', 'rename', 'renames', 'replace', 'rmdir', 'scandir', 'sep', 'set_handle_inheritable', 'set_inheritable', 'spawnl', 'spawnle', 'spawnv', 'spawnve', 'st', 'startfile', 'stat', 'stat_result', 'statvfs_result', 'strerror', 'supports_bytes_environ', 'supports_dir_fd', 'supports_effective_ids', 'supports_fd', 'supports_follow_symlinks', 'symlink', 'sys', 'system', 'terminal_size', 'times', 'times_result', 'truncate', 'umask', 'uname_result', 'unlink', 'urandom', 'utime', 'waitpid', 'walk', 'write']\n"
     ]
    }
   ],
   "source": [
    "print(dir(os))"
   ]
  },
  {
   "cell_type": "code",
   "execution_count": 81,
   "metadata": {},
   "outputs": [],
   "source": [
    "os.walk?"
   ]
  },
  {
   "cell_type": "code",
   "execution_count": 82,
   "metadata": {},
   "outputs": [],
   "source": [
    "import pandas as pd\n",
    "df = pd.read_csv(\"russia_losses_equipment.csv\")\n"
   ]
  },
  {
   "cell_type": "code",
   "execution_count": 83,
   "metadata": {},
   "outputs": [
    {
     "name": "stdout",
     "output_type": "stream",
     "text": [
      "          date  day  aircraft  helicopter  tank   APC  field artillery  MRL  \\\n",
      "0   2022-02-25    2        10           7    80   516               49    4   \n",
      "1   2022-02-26    3        27          26   146   706               49    4   \n",
      "2   2022-02-27    4        27          26   150   706               50    4   \n",
      "3   2022-02-28    5        29          29   150   816               74   21   \n",
      "4   2022-03-01    6        29          29   198   846               77   24   \n",
      "5   2022-03-02    7        30          31   211   862               85   40   \n",
      "6   2022-03-03    8        30          31   217   900               90   42   \n",
      "7   2022-03-04    9        33          37   251   939              105   50   \n",
      "8   2022-03-05   10        39          40   269   945              105   50   \n",
      "9   2022-03-06   11        44          48   285   985              109   50   \n",
      "10  2022-03-07   12        46          68   290   999              117   50   \n",
      "11  2022-03-08   13        48          80   303  1036              120   56   \n",
      "12  2022-03-09   14        49          81   317  1070              120   56   \n",
      "13  2022-03-10   15        49          81   335  1105              123   56   \n",
      "14  2022-03-11   16        57          83   353  1165              125   58   \n",
      "15  2022-03-12   17        58          83   362  1205              135   62   \n",
      "16  2022-03-13   18        74          86   374  1226              140   62   \n",
      "17  2022-03-14   19        77          90   389  1249              150   64   \n",
      "18  2022-03-15   20        81          95   404  1279              150   64   \n",
      "19  2022-03-16   21        84         108   430  1375              190   70   \n",
      "20  2022-03-17   22        86         108   444  1435              201   72   \n",
      "21  2022-03-18   23        93         112   450  1448              205   72   \n",
      "22  2022-03-19   24        95         115   466  1470              213   72   \n",
      "23  2022-03-20   25        96         118   476  1487              230   74   \n",
      "24  2022-03-21   26        97         121   498  1535              240   80   \n",
      "25  2022-03-22   27        99         123   509  1556              252   80   \n",
      "26  2022-03-23   28       101         124   517  1578              267   80   \n",
      "27  2022-03-24   29       108         124   530  1597              280   82   \n",
      "28  2022-03-25   30       115         125   561  1625              291   90   \n",
      "29  2022-03-26   31       117         127   575  1640              293   91   \n",
      "30  2022-03-27   32       121         127   582  1664              294   93   \n",
      "31  2022-03-28   33       123         127   586  1694              302   95   \n",
      "32  2022-03-29   34       127         129   597  1710              303   96   \n",
      "33  2022-03-30   35       131         131   605  1723              305   96   \n",
      "34  2022-03-31   36       135         131   614  1735              311   96   \n",
      "35  2022-04-01   37       143         131   625  1751              316   96   \n",
      "36  2022-04-02   38       143         134   631  1776              317  100   \n",
      "37  2022-04-03   39       143         134   644  1830              325  105   \n",
      "38  2022-04-04   40       147         134   647  1844              330  107   \n",
      "\n",
      "    military auto  fuel tank  drone  naval ship  anti-aircraft warfare  \\\n",
      "0             100         60      0           2                      0   \n",
      "1             130         60      2           2                      0   \n",
      "2             130         60      2           2                      0   \n",
      "3             291         60      3           2                      5   \n",
      "4             305         60      3           2                      7   \n",
      "5             355         60      3           2                      9   \n",
      "6             374         60      3           2                     11   \n",
      "7             404         60      3           2                     18   \n",
      "8             409         60      3           2                     19   \n",
      "9             447         60      4           2                     21   \n",
      "10            454         60      7           3                     23   \n",
      "11            474         60      7           3                     27   \n",
      "12            482         60      7           3                     28   \n",
      "13            526         60      7           3                     29   \n",
      "14            558         60      7           3                     31   \n",
      "15            585         60      7           3                     33   \n",
      "16            600         60      7           3                     34   \n",
      "17            617         60      8           3                     34   \n",
      "18            640         60      9           3                     36   \n",
      "19            819         60     11           3                     43   \n",
      "20            864         60     11           3                     43   \n",
      "21            879         60     12           3                     43   \n",
      "22            914         60     17           3                     44   \n",
      "23            947         60     21           3                     44   \n",
      "24            969         60     24           3                     45   \n",
      "25           1000         70     35           3                     45   \n",
      "26           1008         70     42           4                     47   \n",
      "27           1033         72     50           4                     47   \n",
      "28           1089         72     53           5                     49   \n",
      "29           1131         73     56           7                     51   \n",
      "30           1144         73     56           7                     52   \n",
      "31           1150         73     66           7                     54   \n",
      "32           1178         73     71           7                     54   \n",
      "33           1184         75     81           7                     54   \n",
      "34           1201         75     83           7                     54   \n",
      "35           1220         76     85           7                     54   \n",
      "36           1236         76     87           7                     54   \n",
      "37           1249         76     89           7                     54   \n",
      "38           1273         76     91           7                     54   \n",
      "\n",
      "    special equipment  mobile SRBM system  \n",
      "0                 NaN                 NaN  \n",
      "1                 NaN                 NaN  \n",
      "2                 NaN                 NaN  \n",
      "3                 NaN                 NaN  \n",
      "4                 NaN                 NaN  \n",
      "5                 NaN                 NaN  \n",
      "6                 NaN                 NaN  \n",
      "7                 NaN                 NaN  \n",
      "8                 NaN                 NaN  \n",
      "9                 NaN                 NaN  \n",
      "10                NaN                 NaN  \n",
      "11                NaN                 NaN  \n",
      "12                NaN                 NaN  \n",
      "13                NaN                 NaN  \n",
      "14                NaN                 NaN  \n",
      "15                NaN                 NaN  \n",
      "16                NaN                 NaN  \n",
      "17                NaN                 NaN  \n",
      "18                NaN                 NaN  \n",
      "19               10.0                 NaN  \n",
      "20               10.0                 NaN  \n",
      "21               11.0                 NaN  \n",
      "22               11.0                 NaN  \n",
      "23               12.0                 NaN  \n",
      "24               13.0                 NaN  \n",
      "25               15.0                 NaN  \n",
      "26               15.0                 NaN  \n",
      "27               16.0                 NaN  \n",
      "28               18.0                 NaN  \n",
      "29               19.0                 2.0  \n",
      "30               21.0                 4.0  \n",
      "31               21.0                 4.0  \n",
      "32               21.0                 4.0  \n",
      "33               21.0                 4.0  \n",
      "34               22.0                 4.0  \n",
      "35               24.0                 4.0  \n",
      "36               24.0                 4.0  \n",
      "37               24.0                 4.0  \n",
      "38               25.0                 4.0  \n"
     ]
    }
   ],
   "source": [
    "print(df)"
   ]
  },
  {
   "cell_type": "code",
   "execution_count": 84,
   "metadata": {},
   "outputs": [
    {
     "data": {
      "text/plain": [
       "3141"
      ]
     },
     "execution_count": 84,
     "metadata": {},
     "output_type": "execute_result"
    }
   ],
   "source": [
    "df.aircraft.sum()"
   ]
  },
  {
   "cell_type": "code",
   "execution_count": 86,
   "metadata": {},
   "outputs": [
    {
     "data": {
      "text/plain": [
       "pandas.core.series.Series"
      ]
     },
     "execution_count": 86,
     "metadata": {},
     "output_type": "execute_result"
    }
   ],
   "source": [
    "type(df.aircraft)"
   ]
  },
  {
   "cell_type": "code",
   "execution_count": 87,
   "metadata": {},
   "outputs": [
    {
     "name": "stdout",
     "output_type": "stream",
     "text": [
      "[10 20 30 40]\n"
     ]
    }
   ],
   "source": [
    "ar1 = np.array([10,20,30,40])\n",
    "print(ar1)"
   ]
  },
  {
   "cell_type": "code",
   "execution_count": 88,
   "metadata": {},
   "outputs": [],
   "source": [
    "import pandas as pd"
   ]
  },
  {
   "cell_type": "code",
   "execution_count": 89,
   "metadata": {},
   "outputs": [
    {
     "data": {
      "text/plain": [
       "pandas.core.series.Series"
      ]
     },
     "execution_count": 89,
     "metadata": {},
     "output_type": "execute_result"
    }
   ],
   "source": [
    "pd.Series"
   ]
  },
  {
   "cell_type": "code",
   "execution_count": 91,
   "metadata": {},
   "outputs": [
    {
     "name": "stdout",
     "output_type": "stream",
     "text": [
      "[10 20 30 40]\n",
      "a    10\n",
      "b    20\n",
      "c    30\n",
      "d    40\n",
      "dtype: int64\n"
     ]
    }
   ],
   "source": [
    "l=[10,20,30,40]\n",
    "ar1=np.array(l)\n",
    "ser = pd.Series(l, index=[\"a\",\"b\",\"c\",\"d\"])\n",
    "print(ar1)\n",
    "print(ser)"
   ]
  },
  {
   "cell_type": "code",
   "execution_count": 92,
   "metadata": {},
   "outputs": [
    {
     "data": {
      "text/plain": [
       "10"
      ]
     },
     "execution_count": 92,
     "metadata": {},
     "output_type": "execute_result"
    }
   ],
   "source": [
    "ser.a"
   ]
  },
  {
   "cell_type": "code",
   "execution_count": 93,
   "metadata": {},
   "outputs": [
    {
     "data": {
      "text/plain": [
       "30"
      ]
     },
     "execution_count": 93,
     "metadata": {},
     "output_type": "execute_result"
    }
   ],
   "source": [
    "ser.c"
   ]
  },
  {
   "cell_type": "code",
   "execution_count": 94,
   "metadata": {},
   "outputs": [
    {
     "data": {
      "text/plain": [
       "10"
      ]
     },
     "execution_count": 94,
     "metadata": {},
     "output_type": "execute_result"
    }
   ],
   "source": [
    "ar1[0]"
   ]
  },
  {
   "cell_type": "code",
   "execution_count": 95,
   "metadata": {},
   "outputs": [
    {
     "data": {
      "text/plain": [
       "40"
      ]
     },
     "execution_count": 95,
     "metadata": {},
     "output_type": "execute_result"
    }
   ],
   "source": [
    "ar1[3]"
   ]
  },
  {
   "cell_type": "code",
   "execution_count": 96,
   "metadata": {},
   "outputs": [
    {
     "name": "stdout",
     "output_type": "stream",
     "text": [
      "          date  day  aircraft  helicopter  tank   APC  field artillery  MRL  \\\n",
      "0   2022-02-25    2        10           7    80   516               49    4   \n",
      "1   2022-02-26    3        27          26   146   706               49    4   \n",
      "2   2022-02-27    4        27          26   150   706               50    4   \n",
      "3   2022-02-28    5        29          29   150   816               74   21   \n",
      "4   2022-03-01    6        29          29   198   846               77   24   \n",
      "5   2022-03-02    7        30          31   211   862               85   40   \n",
      "6   2022-03-03    8        30          31   217   900               90   42   \n",
      "7   2022-03-04    9        33          37   251   939              105   50   \n",
      "8   2022-03-05   10        39          40   269   945              105   50   \n",
      "9   2022-03-06   11        44          48   285   985              109   50   \n",
      "10  2022-03-07   12        46          68   290   999              117   50   \n",
      "11  2022-03-08   13        48          80   303  1036              120   56   \n",
      "12  2022-03-09   14        49          81   317  1070              120   56   \n",
      "13  2022-03-10   15        49          81   335  1105              123   56   \n",
      "14  2022-03-11   16        57          83   353  1165              125   58   \n",
      "15  2022-03-12   17        58          83   362  1205              135   62   \n",
      "16  2022-03-13   18        74          86   374  1226              140   62   \n",
      "17  2022-03-14   19        77          90   389  1249              150   64   \n",
      "18  2022-03-15   20        81          95   404  1279              150   64   \n",
      "19  2022-03-16   21        84         108   430  1375              190   70   \n",
      "20  2022-03-17   22        86         108   444  1435              201   72   \n",
      "21  2022-03-18   23        93         112   450  1448              205   72   \n",
      "22  2022-03-19   24        95         115   466  1470              213   72   \n",
      "23  2022-03-20   25        96         118   476  1487              230   74   \n",
      "24  2022-03-21   26        97         121   498  1535              240   80   \n",
      "25  2022-03-22   27        99         123   509  1556              252   80   \n",
      "26  2022-03-23   28       101         124   517  1578              267   80   \n",
      "27  2022-03-24   29       108         124   530  1597              280   82   \n",
      "28  2022-03-25   30       115         125   561  1625              291   90   \n",
      "29  2022-03-26   31       117         127   575  1640              293   91   \n",
      "30  2022-03-27   32       121         127   582  1664              294   93   \n",
      "31  2022-03-28   33       123         127   586  1694              302   95   \n",
      "32  2022-03-29   34       127         129   597  1710              303   96   \n",
      "33  2022-03-30   35       131         131   605  1723              305   96   \n",
      "34  2022-03-31   36       135         131   614  1735              311   96   \n",
      "35  2022-04-01   37       143         131   625  1751              316   96   \n",
      "36  2022-04-02   38       143         134   631  1776              317  100   \n",
      "37  2022-04-03   39       143         134   644  1830              325  105   \n",
      "38  2022-04-04   40       147         134   647  1844              330  107   \n",
      "\n",
      "    military auto  fuel tank  drone  naval ship  anti-aircraft warfare  \\\n",
      "0             100         60      0           2                      0   \n",
      "1             130         60      2           2                      0   \n",
      "2             130         60      2           2                      0   \n",
      "3             291         60      3           2                      5   \n",
      "4             305         60      3           2                      7   \n",
      "5             355         60      3           2                      9   \n",
      "6             374         60      3           2                     11   \n",
      "7             404         60      3           2                     18   \n",
      "8             409         60      3           2                     19   \n",
      "9             447         60      4           2                     21   \n",
      "10            454         60      7           3                     23   \n",
      "11            474         60      7           3                     27   \n",
      "12            482         60      7           3                     28   \n",
      "13            526         60      7           3                     29   \n",
      "14            558         60      7           3                     31   \n",
      "15            585         60      7           3                     33   \n",
      "16            600         60      7           3                     34   \n",
      "17            617         60      8           3                     34   \n",
      "18            640         60      9           3                     36   \n",
      "19            819         60     11           3                     43   \n",
      "20            864         60     11           3                     43   \n",
      "21            879         60     12           3                     43   \n",
      "22            914         60     17           3                     44   \n",
      "23            947         60     21           3                     44   \n",
      "24            969         60     24           3                     45   \n",
      "25           1000         70     35           3                     45   \n",
      "26           1008         70     42           4                     47   \n",
      "27           1033         72     50           4                     47   \n",
      "28           1089         72     53           5                     49   \n",
      "29           1131         73     56           7                     51   \n",
      "30           1144         73     56           7                     52   \n",
      "31           1150         73     66           7                     54   \n",
      "32           1178         73     71           7                     54   \n",
      "33           1184         75     81           7                     54   \n",
      "34           1201         75     83           7                     54   \n",
      "35           1220         76     85           7                     54   \n",
      "36           1236         76     87           7                     54   \n",
      "37           1249         76     89           7                     54   \n",
      "38           1273         76     91           7                     54   \n",
      "\n",
      "    special equipment  mobile SRBM system  \n",
      "0                 NaN                 NaN  \n",
      "1                 NaN                 NaN  \n",
      "2                 NaN                 NaN  \n",
      "3                 NaN                 NaN  \n",
      "4                 NaN                 NaN  \n",
      "5                 NaN                 NaN  \n",
      "6                 NaN                 NaN  \n",
      "7                 NaN                 NaN  \n",
      "8                 NaN                 NaN  \n",
      "9                 NaN                 NaN  \n",
      "10                NaN                 NaN  \n",
      "11                NaN                 NaN  \n",
      "12                NaN                 NaN  \n",
      "13                NaN                 NaN  \n",
      "14                NaN                 NaN  \n",
      "15                NaN                 NaN  \n",
      "16                NaN                 NaN  \n",
      "17                NaN                 NaN  \n",
      "18                NaN                 NaN  \n",
      "19               10.0                 NaN  \n",
      "20               10.0                 NaN  \n",
      "21               11.0                 NaN  \n",
      "22               11.0                 NaN  \n",
      "23               12.0                 NaN  \n",
      "24               13.0                 NaN  \n",
      "25               15.0                 NaN  \n",
      "26               15.0                 NaN  \n",
      "27               16.0                 NaN  \n",
      "28               18.0                 NaN  \n",
      "29               19.0                 2.0  \n",
      "30               21.0                 4.0  \n",
      "31               21.0                 4.0  \n",
      "32               21.0                 4.0  \n",
      "33               21.0                 4.0  \n",
      "34               22.0                 4.0  \n",
      "35               24.0                 4.0  \n",
      "36               24.0                 4.0  \n",
      "37               24.0                 4.0  \n",
      "38               25.0                 4.0  \n"
     ]
    }
   ],
   "source": [
    "print(df)"
   ]
  },
  {
   "cell_type": "code",
   "execution_count": 97,
   "metadata": {},
   "outputs": [
    {
     "data": {
      "text/plain": [
       "<AxesSubplot:>"
      ]
     },
     "execution_count": 97,
     "metadata": {},
     "output_type": "execute_result"
    },
    {
     "data": {
      "image/png": "[encoded data removed]",
      "text/plain": [
       "<Figure size 432x288 with 1 Axes>"
      ]
     },
     "metadata": {
      "needs_background": "light"
     },
     "output_type": "display_data"
    }
   ],
   "source": [
    "df.aircraft.plot(kind=\"bar\",x=\"date\")"
   ]
  },
  {
   "cell_type": "code",
   "execution_count": 98,
   "metadata": {},
   "outputs": [
    {
     "data": {
      "text/plain": [
       "<AxesSubplot:xlabel='date'>"
      ]
     },
     "execution_count": 98,
     "metadata": {},
     "output_type": "execute_result"
    },
    {
     "data": {
      "image/png": "[encoded data removed]",
      "text/plain": [
       "<Figure size 432x288 with 1 Axes>"
      ]
     },
     "metadata": {
      "needs_background": "light"
     },
     "output_type": "display_data"
    }
   ],
   "source": [
    "df.plot(kind=\"bar\",x=\"date\",y=\"aircraft\")"
   ]
  },
  {
   "cell_type": "code",
   "execution_count": 99,
   "metadata": {},
   "outputs": [
    {
     "name": "stderr",
     "output_type": "stream",
     "text": [
      "c:\\python38\\lib\\site-packages\\pandas\\plotting\\_matplotlib\\core.py:1192: UserWarning: FixedFormatter should only be used together with FixedLocator\n",
      "  ax.set_xticklabels(xticklabels)\n"
     ]
    },
    {
     "data": {
      "text/plain": [
       "<AxesSubplot:xlabel='date'>"
      ]
     },
     "execution_count": 99,
     "metadata": {},
     "output_type": "execute_result"
    },
    {
     "data": {
      "image/png": "[encoded data removed]",
      "text/plain": [
       "<Figure size 432x288 with 1 Axes>"
      ]
     },
     "metadata": {
      "needs_background": "light"
     },
     "output_type": "display_data"
    }
   ],
   "source": [
    "df.plot(kind=\"line\",x=\"date\",y=\"aircraft\")"
   ]
  },
  {
   "cell_type": "code",
   "execution_count": 100,
   "metadata": {},
   "outputs": [],
   "source": [
    "#Knockout.. js module. REACT JS. OJET"
   ]
  },
  {
   "cell_type": "code",
   "execution_count": 101,
   "metadata": {},
   "outputs": [],
   "source": [
    "data={\"data\":{\"x\":df.date,\"y\":df.aircraft}}"
   ]
  },
  {
   "cell_type": "code",
   "execution_count": 102,
   "metadata": {},
   "outputs": [
    {
     "name": "stdout",
     "output_type": "stream",
     "text": [
      "{'data': {'x': 0     2022-02-25\n",
      "1     2022-02-26\n",
      "2     2022-02-27\n",
      "3     2022-02-28\n",
      "4     2022-03-01\n",
      "5     2022-03-02\n",
      "6     2022-03-03\n",
      "7     2022-03-04\n",
      "8     2022-03-05\n",
      "9     2022-03-06\n",
      "10    2022-03-07\n",
      "11    2022-03-08\n",
      "12    2022-03-09\n",
      "13    2022-03-10\n",
      "14    2022-03-11\n",
      "15    2022-03-12\n",
      "16    2022-03-13\n",
      "17    2022-03-14\n",
      "18    2022-03-15\n",
      "19    2022-03-16\n",
      "20    2022-03-17\n",
      "21    2022-03-18\n",
      "22    2022-03-19\n",
      "23    2022-03-20\n",
      "24    2022-03-21\n",
      "25    2022-03-22\n",
      "26    2022-03-23\n",
      "27    2022-03-24\n",
      "28    2022-03-25\n",
      "29    2022-03-26\n",
      "30    2022-03-27\n",
      "31    2022-03-28\n",
      "32    2022-03-29\n",
      "33    2022-03-30\n",
      "34    2022-03-31\n",
      "35    2022-04-01\n",
      "36    2022-04-02\n",
      "37    2022-04-03\n",
      "38    2022-04-04\n",
      "Name: date, dtype: object, 'y': 0      10\n",
      "1      27\n",
      "2      27\n",
      "3      29\n",
      "4      29\n",
      "5      30\n",
      "6      30\n",
      "7      33\n",
      "8      39\n",
      "9      44\n",
      "10     46\n",
      "11     48\n",
      "12     49\n",
      "13     49\n",
      "14     57\n",
      "15     58\n",
      "16     74\n",
      "17     77\n",
      "18     81\n",
      "19     84\n",
      "20     86\n",
      "21     93\n",
      "22     95\n",
      "23     96\n",
      "24     97\n",
      "25     99\n",
      "26    101\n",
      "27    108\n",
      "28    115\n",
      "29    117\n",
      "30    121\n",
      "31    123\n",
      "32    127\n",
      "33    131\n",
      "34    135\n",
      "35    143\n",
      "36    143\n",
      "37    143\n",
      "38    147\n",
      "Name: aircraft, dtype: int64}}\n"
     ]
    }
   ],
   "source": [
    "print(data)"
   ]
  },
  {
   "cell_type": "code",
   "execution_count": 105,
   "metadata": {},
   "outputs": [
    {
     "name": "stdout",
     "output_type": "stream",
     "text": [
      "Object `df.aircraft.sort` not found.\n"
     ]
    }
   ],
   "source": [
    "# methods to prepare the data\n",
    "def get_top_ten_dates_aircrfts_used():\n",
    "    pass\n",
    "df.aircraft.sort?\n",
    "    "
   ]
  },
  {
   "cell_type": "code",
   "execution_count": null,
   "metadata": {},
   "outputs": [],
   "source": []
  }
 ],
 "metadata": {
  "kernelspec": {
   "display_name": "Python 3",
   "language": "python",
   "name": "python3"
  },
  "language_info": {
   "codemirror_mode": {
    "name": "ipython",
    "version": 3
   },
   "file_extension": ".py",
   "mimetype": "text/x-python",
   "name": "python",
   "nbconvert_exporter": "python",
   "pygments_lexer": "ipython3",
   "version": "3.8.3"
  }
 },
 "nbformat": 4,
 "nbformat_minor": 4
}
