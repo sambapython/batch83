{
 "cells": [
  {
   "cell_type": "code",
   "execution_count": 3,
   "metadata": {},
   "outputs": [
    {
     "name": "stdout",
     "output_type": "stream",
     "text": [
      "['id', 'name', 'phone', 'email']\n",
      "['1', 'Spanadana', '9645533245', 'SpanDANA123@gmail.com']\n",
      "['2', 'Harith', '8765566354', 'Harith_23@yahoo.co.in']\n",
      "['3', 'Mounica', '9786655345', 'Monica@gmail.org']\n",
      "['4', 'Pavani', '8794466495', 'pavani@gmail.co.ini']\n"
     ]
    }
   ],
   "source": [
    "data=\"\"\"id,name,phone,email\n",
    "1,Spanadana,9645533245,SpanDANA123@gmail.com\n",
    "2,Harith,8765566354,Harith_23@yahoo.co.in\n",
    "3,Mounica,9786655345,Monica@gmail.org\n",
    "4,Pavani,8794466495,pavani@gmail.co.ini\n",
    "\"\"\"\n",
    "for row in data.splitlines():\n",
    "    print(row.split(\",\"))"
   ]
  },
  {
   "cell_type": "code",
   "execution_count": 4,
   "metadata": {},
   "outputs": [
    {
     "name": "stdout",
     "output_type": "stream",
     "text": [
      "phone\n",
      "9645533245\n",
      "8765566354\n",
      "9786655345\n",
      "8794466495\n"
     ]
    }
   ],
   "source": [
    "data=\"\"\"id,name,phone,email\n",
    "1,Spanadana,9645533245,SpanDANA123@gmail.com\n",
    "2,Harith,8765566354,Harith_23@yahoo.co.in\n",
    "3,Mounica,9786655345,Monica@gmail.org\n",
    "4,Pavani,8794466495,pavani@gmail.co.ini\n",
    "\"\"\"\n",
    "for row in data.splitlines():\n",
    "    print(row.split(\",\")[-2])"
   ]
  },
  {
   "cell_type": "code",
   "execution_count": 5,
   "metadata": {},
   "outputs": [
    {
     "name": "stdout",
     "output_type": "stream",
     "text": [
      "email\n",
      "SpanDANA123@gmail.com\n",
      "Harith_23@yahoo.co.in\n",
      "Monica@gmail.org\n",
      "pavani@gmail.co.ini\n"
     ]
    }
   ],
   "source": [
    "data=\"\"\"id,name,phone,email\n",
    "1,Spanadana,9645533245,SpanDANA123@gmail.com\n",
    "2,Harith,8765566354,Harith_23@yahoo.co.in\n",
    "3,Mounica,9786655345,Monica@gmail.org\n",
    "4,Pavani,8794466495,pavani@gmail.co.ini\n",
    "\"\"\"\n",
    "for row in data.splitlines():\n",
    "    print(row.split(\",\")[-1])"
   ]
  },
  {
   "cell_type": "code",
   "execution_count": 6,
   "metadata": {},
   "outputs": [
    {
     "name": "stdout",
     "output_type": "stream",
     "text": [
      "9645533245\n",
      "Harith_23@yahoo.co.in\n",
      "Monica@gmail.org\n",
      "pavani@gmail.co.ini\n"
     ]
    }
   ],
   "source": [
    "data=\"\"\"SpanDANA123@gmail.com,1,Spanadana,9645533245\n",
    "8765566354,2,Harith,Harith_23@yahoo.co.in\n",
    "Mounica,3,9786655345,Monica@gmail.org\n",
    "4,Pavani,8794466495,pavani@gmail.co.ini\n",
    "\"\"\"\n",
    "for row in data.splitlines():\n",
    "    print(row.split(\",\")[-1])"
   ]
  },
  {
   "cell_type": "code",
   "execution_count": 7,
   "metadata": {},
   "outputs": [
    {
     "name": "stdout",
     "output_type": "stream",
     "text": [
      "[]\n"
     ]
    }
   ],
   "source": [
    "data=\"\"\"SpanDANA123@gmail.com,1,Spanadana,9645533245\n",
    "8765566354,2,Harith,Harith_23@yahoo.co.in\n",
    "Mounica,3,9786655345,Monica@gmail.org\n",
    "4,Pavani,8794466495,pavani@gmail.co.ini\n",
    "\"\"\"\n",
    "import re\n",
    "print(re.findall(\"abc\",data))"
   ]
  },
  {
   "cell_type": "code",
   "execution_count": 8,
   "metadata": {},
   "outputs": [
    {
     "name": "stdout",
     "output_type": "stream",
     "text": [
      "['abc']\n"
     ]
    }
   ],
   "source": [
    "data=\"\"\"SpanDANA123@gmail.com,1,Spanadana,9645533245\n",
    "8765566354,2,Harith,Harith_23@yahoo.co.in\n",
    "Mounica,3,9786655345,Monica@gmail.org\n",
    "4,Pavani,8794466495,pavani@gmail.co.iniabc\n",
    "\"\"\"\n",
    "import re\n",
    "print(re.findall(\"abc\",data))"
   ]
  },
  {
   "cell_type": "code",
   "execution_count": 9,
   "metadata": {},
   "outputs": [
    {
     "name": "stdout",
     "output_type": "stream",
     "text": [
      "['p', 'a', 'n', 'g', 'm', 'a', 'i', 'l', 'c', 'o', 'm', 'p', 'a', 'n', 'a', 'd', 'a', 'n', 'a', 'a', 'r', 'i', 't', 'h', 'a', 'r', 'i', 't', 'h', 'y', 'a', 'h', 'o', 'o', 'c', 'o', 'i', 'n', 'o', 'u', 'n', 'i', 'c', 'a', 'o', 'n', 'i', 'c', 'a', 'g', 'm', 'a', 'i', 'l', 'o', 'r', 'g', 'a', 'v', 'a', 'n', 'i', 'p', 'a', 'v', 'a', 'n', 'i', 'g', 'm', 'a', 'i', 'l', 'c', 'o', 'i', 'n', 'i']\n"
     ]
    }
   ],
   "source": [
    "data=\"\"\"SpanDANA123@gmail.com,1,Spanadana,9645533245\n",
    "8765566354,2,Harith,Harith_23@yahoo.co.in\n",
    "Mounica,3,9786655345,Monica@gmail.org\n",
    "4,Pavani,8794466495,pavani@gmail.co.ini\n",
    "\"\"\"\n",
    "import re\n",
    "print(re.findall(\"[a-z]\",data))"
   ]
  },
  {
   "cell_type": "code",
   "execution_count": 10,
   "metadata": {},
   "outputs": [
    {
     "name": "stdout",
     "output_type": "stream",
     "text": [
      "['S', 'p', 'a', 'n', 'D', 'A', 'N', 'A', 'g', 'm', 'a', 'i', 'l', 'c', 'o', 'm', 'S', 'p', 'a', 'n', 'a', 'd', 'a', 'n', 'a', 'H', 'a', 'r', 'i', 't', 'h', 'H', 'a', 'r', 'i', 't', 'h', '_', 'y', 'a', 'h', 'o', 'o', 'c', 'o', 'i', 'n', 'M', 'o', 'u', 'n', 'i', 'c', 'a', 'M', 'o', 'n', 'i', 'c', 'a', 'g', 'm', 'a', 'i', 'l', 'o', 'r', 'g', 'P', 'a', 'v', 'a', 'n', 'i', 'p', 'a', 'v', 'a', 'n', 'i', 'g', 'm', 'a', 'i', 'l', 'c', 'o', 'i', 'n', 'i']\n"
     ]
    }
   ],
   "source": [
    "data=\"\"\"SpanDANA123@gmail.com,1,Spanadana,9645533245\n",
    "8765566354,2,Harith,Harith_23@yahoo.co.in\n",
    "Mounica,3,9786655345,Monica@gmail.org\n",
    "4,Pavani,8794466495,pavani@gmail.co.ini\n",
    "\"\"\"\n",
    "import re\n",
    "print(re.findall(\"[a-zA-z]\",data))"
   ]
  },
  {
   "cell_type": "code",
   "execution_count": 11,
   "metadata": {},
   "outputs": [
    {
     "name": "stdout",
     "output_type": "stream",
     "text": [
      "['S', 'p', 'a', 'n', 'D', 'A', 'N', 'A', 'g', 'm', 'a', 'i', 'l', 'c', 'o', 'm', 'S', 'p', 'a', 'n', 'a', 'd', 'a', 'n', 'a', 'H', 'a', 'r', 'i', 't', 'h', 'H', 'a', 'r', 'i', 't', 'h', 'y', 'a', 'h', 'o', 'o', 'c', 'o', 'i', 'n', 'M', 'o', 'u', 'n', 'i', 'c', 'a', 'M', 'o', 'n', 'i', 'c', 'a', 'g', 'm', 'a', 'i', 'l', 'o', 'r', 'g', 'P', 'a', 'v', 'a', 'n', 'i', 'p', 'a', 'v', 'a', 'n', 'i', 'g', 'm', 'a', 'i', 'l', 'c', 'o', 'i', 'n', 'i']\n"
     ]
    }
   ],
   "source": [
    "data=\"\"\"SpanDANA123@gmail.com,1,Spanadana,9645533245\n",
    "8765566354,2,Harith,Harith_23@yahoo.co.in\n",
    "Mounica,3,9786655345,Monica@gmail.org\n",
    "4,Pavani,8794466495,pavani@gmail.co.ini\n",
    "\"\"\"\n",
    "import re\n",
    "print(re.findall(\"[a-z]\",data, re.I))"
   ]
  },
  {
   "cell_type": "code",
   "execution_count": 12,
   "metadata": {},
   "outputs": [
    {
     "name": "stdout",
     "output_type": "stream",
     "text": [
      "['1', '2', '3', '1', '9', '6', '4', '5', '5', '3', '3', '2', '4', '5', '8', '7', '6', '5', '5', '6', '6', '3', '5', '4', '2', '2', '3', '3', '9', '7', '8', '6', '6', '5', '5', '3', '4', '5', '4', '8', '7', '9', '4', '4', '6', '6', '4', '9', '5']\n"
     ]
    }
   ],
   "source": [
    "data=\"\"\"SpanDANA123@gmail.com,1,Spanadana,9645533245\n",
    "8765566354,2,Harith,Harith_23@yahoo.co.in\n",
    "Mounica,3,9786655345,Monica@gmail.org\n",
    "4,Pavani,8794466495,pavani@gmail.co.ini\n",
    "\"\"\"\n",
    "import re\n",
    "print(re.findall(\"[0-9]\",data))"
   ]
  },
  {
   "cell_type": "code",
   "execution_count": 13,
   "metadata": {},
   "outputs": [
    {
     "name": "stdout",
     "output_type": "stream",
     "text": [
      "['123', '964', '553', '324', '876', '556', '635', '978', '665', '534', '879', '446', '649']\n"
     ]
    }
   ],
   "source": [
    "data=\"\"\"SpanDANA123@gmail.com,1,Spanadana,9645533245\n",
    "8765566354,2,Harith,Harith_23@yahoo.co.in\n",
    "Mounica,3,9786655345,Monica@gmail.org\n",
    "4,Pavani,8794466495,pavani@gmail.co.ini\n",
    "\"\"\"\n",
    "import re\n",
    "print(re.findall(\"[0-9][0-9][0-9]\",data))"
   ]
  },
  {
   "cell_type": "code",
   "execution_count": 15,
   "metadata": {},
   "outputs": [
    {
     "name": "stdout",
     "output_type": "stream",
     "text": [
      "['123', '964', '553', '324', '876', '556', '635', '978', '665', '534', '879', '446', '649']\n"
     ]
    }
   ],
   "source": [
    "data=\"\"\"SpanDANA123@gmail.com,1,Spanadana,9645533245\n",
    "8765566354,2,Harith,Harith_23@yahoo.co.in\n",
    "Mounica,3,9786655345,Monica@gmail.org\n",
    "4,Pavani,8794466495,pavani@gmail.co.ini\n",
    "\"\"\"\n",
    "import re\n",
    "print(re.findall(\"[0-9]{3}\",data))"
   ]
  },
  {
   "cell_type": "code",
   "execution_count": 16,
   "metadata": {},
   "outputs": [
    {
     "name": "stdout",
     "output_type": "stream",
     "text": [
      "['9645533245', '8765566354', '9786655345', '8794466495']\n"
     ]
    }
   ],
   "source": [
    "data=\"\"\"SpanDANA123@gmail.com,1,Spanadana,9645533245\n",
    "8765566354,2,Harith,Harith_23@yahoo.co.in\n",
    "Mounica,3,9786655345,Monica@gmail.org\n",
    "4,Pavani,8794466495,pavani@gmail.co.ini\n",
    "\"\"\"\n",
    "import re\n",
    "print(re.findall(\"[0-9]{10}\",data))"
   ]
  },
  {
   "cell_type": "code",
   "execution_count": 17,
   "metadata": {},
   "outputs": [
    {
     "name": "stdout",
     "output_type": "stream",
     "text": [
      "['123', '1', '96455', '33245', '87655', '66354', '2', '23', '3', '97866', '55345', '4', '87944', '66495']\n"
     ]
    }
   ],
   "source": [
    "data=\"\"\"SpanDANA123@gmail.com,1,Spanadana,9645533245\n",
    "8765566354,2,Harith,Harith_23@yahoo.co.in\n",
    "Mounica,3,9786655345,Monica@gmail.org\n",
    "4,Pavani,8794466495,pavani@gmail.co.ini\n",
    "\"\"\"\n",
    "import re\n",
    "print(re.findall(\"[0-9]{1,5}\",data))"
   ]
  },
  {
   "cell_type": "code",
   "execution_count": 18,
   "metadata": {},
   "outputs": [
    {
     "name": "stdout",
     "output_type": "stream",
     "text": [
      "['123', '1', '9645533245', '8765566354', '2', '23', '3', '9786655345', '4', '8794466495']\n"
     ]
    }
   ],
   "source": [
    "data=\"\"\"SpanDANA123@gmail.com,1,Spanadana,9645533245\n",
    "8765566354,2,Harith,Harith_23@yahoo.co.in\n",
    "Mounica,3,9786655345,Monica@gmail.org\n",
    "4,Pavani,8794466495,pavani@gmail.co.ini\n",
    "\"\"\"\n",
    "import re\n",
    "print(re.findall(\"[0-9]{1,}\",data))"
   ]
  },
  {
   "cell_type": "code",
   "execution_count": 19,
   "metadata": {},
   "outputs": [
    {
     "name": "stdout",
     "output_type": "stream",
     "text": [
      "['', '', '', '', '', '', '', '', '123', '', '', '', '', '', '', '', '', '', '', '', '1', '', '', '', '', '', '', '', '', '', '', '', '9645533245', '', '8765566354', '', '2', '', '', '', '', '', '', '', '', '', '', '', '', '', '', '', '23', '', '', '', '', '', '', '', '', '', '', '', '', '', '', '', '', '', '', '', '', '', '3', '', '9786655345', '', '', '', '', '', '', '', '', '', '', '', '', '', '', '', '', '', '', '4', '', '', '', '', '', '', '', '', '8794466495', '', '', '', '', '', '', '', '', '', '', '', '', '', '', '', '', '', '', '', '', '', '']\n"
     ]
    }
   ],
   "source": [
    "data=\"\"\"SpanDANA123@gmail.com,1,Spanadana,9645533245\n",
    "8765566354,2,Harith,Harith_23@yahoo.co.in\n",
    "Mounica,3,9786655345,Monica@gmail.org\n",
    "4,Pavani,8794466495,pavani@gmail.co.ini\n",
    "\"\"\"\n",
    "import re\n",
    "print(re.findall(\"[0-9]{0,}\",data))"
   ]
  },
  {
   "cell_type": "code",
   "execution_count": 20,
   "metadata": {},
   "outputs": [
    {
     "name": "stdout",
     "output_type": "stream",
     "text": [
      "['123', '1', '9645533245', '8765566354', '2', '23', '3', '9786655345', '4', '8794466495']\n"
     ]
    }
   ],
   "source": [
    "data=\"\"\"SpanDANA123@gmail.com,1,Spanadana,9645533245\n",
    "8765566354,2,Harith,Harith_23@yahoo.co.in\n",
    "Mounica,3,9786655345,Monica@gmail.org\n",
    "4,Pavani,8794466495,pavani@gmail.co.ini\n",
    "\"\"\"\n",
    "import re\n",
    "print(re.findall(\"[0-9]{1,}\",data))"
   ]
  },
  {
   "cell_type": "code",
   "execution_count": 21,
   "metadata": {},
   "outputs": [
    {
     "name": "stdout",
     "output_type": "stream",
     "text": [
      "['123', '1', '9645533245', '8765566354', '2', '23', '3', '9786655345', '4', '8794466495']\n"
     ]
    }
   ],
   "source": [
    "data=\"\"\"SpanDANA123@gmail.com,1,Spanadana,9645533245\n",
    "8765566354,2,Harith,Harith_23@yahoo.co.in\n",
    "Mounica,3,9786655345,Monica@gmail.org\n",
    "4,Pavani,8794466495,pavani@gmail.co.ini\n",
    "\"\"\"\n",
    "import re\n",
    "print(re.findall(\"[0-9]+\",data))"
   ]
  },
  {
   "cell_type": "code",
   "execution_count": 22,
   "metadata": {},
   "outputs": [
    {
     "name": "stdout",
     "output_type": "stream",
     "text": [
      "['', '', '', '', '', '', '', '', '123', '', '', '', '', '', '', '', '', '', '', '', '1', '', '', '', '', '', '', '', '', '', '', '', '9645533245', '', '8765566354', '', '2', '', '', '', '', '', '', '', '', '', '', '', '', '', '', '', '23', '', '', '', '', '', '', '', '', '', '', '', '', '', '', '', '', '', '', '', '', '', '3', '', '9786655345', '', '', '', '', '', '', '', '', '', '', '', '', '', '', '', '', '', '', '4', '', '', '', '', '', '', '', '', '8794466495', '', '', '', '', '', '', '', '', '', '', '', '', '', '', '', '', '', '', '', '', '', '']\n"
     ]
    }
   ],
   "source": [
    "data=\"\"\"SpanDANA123@gmail.com,1,Spanadana,9645533245\n",
    "8765566354,2,Harith,Harith_23@yahoo.co.in\n",
    "Mounica,3,9786655345,Monica@gmail.org\n",
    "4,Pavani,8794466495,pavani@gmail.co.ini\n",
    "\"\"\"\n",
    "import re\n",
    "print(re.findall(\"[0-9]*\",data))"
   ]
  },
  {
   "cell_type": "code",
   "execution_count": 23,
   "metadata": {},
   "outputs": [
    {
     "name": "stdout",
     "output_type": "stream",
     "text": [
      "['', '', '', '', '', '', '', '', '1', '2', '3', '', '', '', '', '', '', '', '', '', '', '', '1', '', '', '', '', '', '', '', '', '', '', '', '9', '6', '4', '5', '5', '3', '3', '2', '4', '5', '', '8', '7', '6', '5', '5', '6', '6', '3', '5', '4', '', '2', '', '', '', '', '', '', '', '', '', '', '', '', '', '', '', '2', '3', '', '', '', '', '', '', '', '', '', '', '', '', '', '', '', '', '', '', '', '', '', '3', '', '9', '7', '8', '6', '6', '5', '5', '3', '4', '5', '', '', '', '', '', '', '', '', '', '', '', '', '', '', '', '', '', '', '4', '', '', '', '', '', '', '', '', '8', '7', '9', '4', '4', '6', '6', '4', '9', '5', '', '', '', '', '', '', '', '', '', '', '', '', '', '', '', '', '', '', '', '', '', '']\n"
     ]
    }
   ],
   "source": [
    "data=\"\"\"SpanDANA123@gmail.com,1,Spanadana,9645533245\n",
    "8765566354,2,Harith,Harith_23@yahoo.co.in\n",
    "Mounica,3,9786655345,Monica@gmail.org\n",
    "4,Pavani,8794466495,pavani@gmail.co.ini\n",
    "\"\"\"\n",
    "import re\n",
    "print(re.findall(\"[0-9]{0,1}\",data))"
   ]
  },
  {
   "cell_type": "code",
   "execution_count": 24,
   "metadata": {},
   "outputs": [
    {
     "name": "stdout",
     "output_type": "stream",
     "text": [
      "['', '', '', '', '', '', '', '', '1', '2', '3', '', '', '', '', '', '', '', '', '', '', '', '1', '', '', '', '', '', '', '', '', '', '', '', '9', '6', '4', '5', '5', '3', '3', '2', '4', '5', '', '8', '7', '6', '5', '5', '6', '6', '3', '5', '4', '', '2', '', '', '', '', '', '', '', '', '', '', '', '', '', '', '', '2', '3', '', '', '', '', '', '', '', '', '', '', '', '', '', '', '', '', '', '', '', '', '', '3', '', '9', '7', '8', '6', '6', '5', '5', '3', '4', '5', '', '', '', '', '', '', '', '', '', '', '', '', '', '', '', '', '', '', '4', '', '', '', '', '', '', '', '', '8', '7', '9', '4', '4', '6', '6', '4', '9', '5', '', '', '', '', '', '', '', '', '', '', '', '', '', '', '', '', '', '', '', '', '', '']\n"
     ]
    }
   ],
   "source": [
    "data=\"\"\"SpanDANA123@gmail.com,1,Spanadana,9645533245\n",
    "8765566354,2,Harith,Harith_23@yahoo.co.in\n",
    "Mounica,3,9786655345,Monica@gmail.org\n",
    "4,Pavani,8794466495,pavani@gmail.co.ini\n",
    "\"\"\"\n",
    "import re\n",
    "print(re.findall(\"[0-9]?\",data))"
   ]
  },
  {
   "cell_type": "code",
   "execution_count": 25,
   "metadata": {},
   "outputs": [
    {
     "name": "stdout",
     "output_type": "stream",
     "text": [
      "['S', 'p', 'a', 'n', 'D', 'A', 'N', 'A', '1', '2', '3', '@', 'g', 'm', 'a', 'i', 'l', '.', 'c', 'o', 'm', ',', '1', ',', 'S', 'p', 'a', 'n', 'a', 'd', 'a', 'n', 'a', ',', '9', '6', '4', '5', '5', '3', '3', '2', '4', '5', '8', '7', '6', '5', '5', '6', '6', '3', '5', '4', ',', '2', ',', 'H', 'a', 'r', 'i', 't', 'h', ',', 'H', 'a', 'r', 'i', 't', 'h', '_', '2', '3', '@', 'y', 'a', 'h', 'o', 'o', '.', 'c', 'o', '.', 'i', 'n', 'M', 'o', 'u', 'n', 'i', 'c', 'a', ',', '3', ',', '9', '7', '8', '6', '6', '5', '5', '3', '4', '5', ',', 'M', 'o', 'n', 'i', 'c', 'a', '@', 'g', 'm', 'a', 'i', 'l', '.', 'o', 'r', 'g', '4', ',', 'P', 'a', 'v', 'a', 'n', 'i', ',', '8', '7', '9', '4', '4', '6', '6', '4', '9', '5', ',', 'p', 'a', 'v', 'a', 'n', 'i', '@', 'g', 'm', 'a', 'i', 'l', '.', 'c', 'o', '.', 'i', 'n', 'i']\n"
     ]
    }
   ],
   "source": [
    "data=\"\"\"SpanDANA123@gmail.com,1,Spanadana,9645533245\n",
    "8765566354,2,Harith,Harith_23@yahoo.co.in\n",
    "Mounica,3,9786655345,Monica@gmail.org\n",
    "4,Pavani,8794466495,pavani@gmail.co.ini\n",
    "\"\"\"\n",
    "import re\n",
    "print(re.findall(\".\",data))"
   ]
  },
  {
   "cell_type": "code",
   "execution_count": 26,
   "metadata": {},
   "outputs": [
    {
     "name": "stdout",
     "output_type": "stream",
     "text": [
      "['S', 'p', 'a', 'n', 'D', 'A', 'N', 'A', '1', '2', '3', '@', 'g', 'm', 'a', 'i', 'l', '.', 'c', 'o', 'm', ',', '1', ',', 'S', 'p', 'a', 'n', 'a', 'd', 'a', 'n', 'a', ',', '9', '6', '4', '5', '5', '3', '3', '2', '4', '5', '\\n', '8', '7', '6', '5', '5', '6', '6', '3', '5', '4', ',', '2', ',', 'H', 'a', 'r', 'i', 't', 'h', ',', 'H', 'a', 'r', 'i', 't', 'h', '_', '2', '3', '@', 'y', 'a', 'h', 'o', 'o', '.', 'c', 'o', '.', 'i', 'n', '\\n', 'M', 'o', 'u', 'n', 'i', 'c', 'a', ',', '3', ',', '9', '7', '8', '6', '6', '5', '5', '3', '4', '5', ',', 'M', 'o', 'n', 'i', 'c', 'a', '@', 'g', 'm', 'a', 'i', 'l', '.', 'o', 'r', 'g', '\\n', '4', ',', 'P', 'a', 'v', 'a', 'n', 'i', ',', '8', '7', '9', '4', '4', '6', '6', '4', '9', '5', ',', 'p', 'a', 'v', 'a', 'n', 'i', '@', 'g', 'm', 'a', 'i', 'l', '.', 'c', 'o', '.', 'i', 'n', 'i', '\\n']\n"
     ]
    }
   ],
   "source": [
    "data=\"\"\"SpanDANA123@gmail.com,1,Spanadana,9645533245\n",
    "8765566354,2,Harith,Harith_23@yahoo.co.in\n",
    "Mounica,3,9786655345,Monica@gmail.org\n",
    "4,Pavani,8794466495,pavani@gmail.co.ini\n",
    "\"\"\"\n",
    "import re\n",
    "print(re.findall(\".\",data,re.DOTALL))"
   ]
  },
  {
   "cell_type": "code",
   "execution_count": 27,
   "metadata": {},
   "outputs": [
    {
     "name": "stdout",
     "output_type": "stream",
     "text": [
      "['.', '.', '.', '.', '.', '.']\n"
     ]
    }
   ],
   "source": [
    "data=\"\"\"SpanDANA123@gmail.com,1,Spanadana,9645533245\n",
    "8765566354,2,Harith,Harith_23@yahoo.co.in\n",
    "Mounica,3,9786655345,Monica@gmail.org\n",
    "4,Pavani,8794466495,pavani@gmail.co.ini\n",
    "\"\"\"\n",
    "import re\n",
    "print(re.findall(\"\\.\",data,re.DOTALL))"
   ]
  },
  {
   "cell_type": "code",
   "execution_count": 28,
   "metadata": {},
   "outputs": [
    {
     "name": "stdout",
     "output_type": "stream",
     "text": [
      "['.', '.', '.', '.', '.', '.']\n"
     ]
    }
   ],
   "source": [
    "data=\"\"\"SpanDANA123@gmail.com,1,Spanadana,9645533245\n",
    "8765566354,2,Harith,Harith_23@yahoo.co.in\n",
    "Mounica,3,9786655345,Monica@gmail.org\n",
    "4,Pavani,8794466495,pavani@gmail.co.ini\n",
    "\"\"\"\n",
    "import re\n",
    "print(re.findall(\"[.]\",data,re.DOTALL))"
   ]
  },
  {
   "cell_type": "code",
   "execution_count": 29,
   "metadata": {},
   "outputs": [
    {
     "name": "stdout",
     "output_type": "stream",
     "text": [
      "['1', '2', '3', '1', '9', '6', '4', '5', '5', '3', '3', '2', '4', '5', '8', '7', '6', '5', '5', '6', '6', '3', '5', '4', '2', '2', '3', '3', '9', '7', '8', '6', '6', '5', '5', '3', '4', '5', '4', '8', '7', '9', '4', '4', '6', '6', '4', '9', '5']\n"
     ]
    }
   ],
   "source": [
    "data=\"\"\"SpanDANA123@gmail.com,1,Spanadana,9645533245\n",
    "8765566354,2,Harith,Harith_23@yahoo.co.in\n",
    "Mounica,3,9786655345,Monica@gmail.org\n",
    "4,Pavani,8794466495,pavani@gmail.co.ini\n",
    "\"\"\"\n",
    "import re\n",
    "print(re.findall(\"[0-9]\",data,re.DOTALL))"
   ]
  },
  {
   "cell_type": "code",
   "execution_count": 30,
   "metadata": {},
   "outputs": [
    {
     "name": "stdout",
     "output_type": "stream",
     "text": [
      "['S', 'p', 'a', 'n', 'D', 'A', 'N', 'A', '@', 'g', 'm', 'a', 'i', 'l', '.', 'c', 'o', 'm', ',', ',', 'S', 'p', 'a', 'n', 'a', 'd', 'a', 'n', 'a', ',', '\\n', ',', ',', 'H', 'a', 'r', 'i', 't', 'h', ',', 'H', 'a', 'r', 'i', 't', 'h', '_', '@', 'y', 'a', 'h', 'o', 'o', '.', 'c', 'o', '.', 'i', 'n', '\\n', 'M', 'o', 'u', 'n', 'i', 'c', 'a', ',', ',', ',', 'M', 'o', 'n', 'i', 'c', 'a', '@', 'g', 'm', 'a', 'i', 'l', '.', 'o', 'r', 'g', '\\n', ',', 'P', 'a', 'v', 'a', 'n', 'i', ',', ',', 'p', 'a', 'v', 'a', 'n', 'i', '@', 'g', 'm', 'a', 'i', 'l', '.', 'c', 'o', '.', 'i', 'n', 'i', '\\n']\n"
     ]
    }
   ],
   "source": [
    "data=\"\"\"SpanDANA123@gmail.com,1,Spanadana,9645533245\n",
    "8765566354,2,Harith,Harith_23@yahoo.co.in\n",
    "Mounica,3,9786655345,Monica@gmail.org\n",
    "4,Pavani,8794466495,pavani@gmail.co.ini\n",
    "\"\"\"\n",
    "import re\n",
    "print(re.findall(\"[^0-9]\",data,re.DOTALL))"
   ]
  },
  {
   "cell_type": "code",
   "execution_count": 31,
   "metadata": {},
   "outputs": [
    {
     "name": "stdout",
     "output_type": "stream",
     "text": [
      "[]\n"
     ]
    }
   ],
   "source": [
    "data=\"\"\"SpanDANA123@gmail.com,1,Spanadana,9645533245\n",
    "8765566354,2,Harith,Harith_23@yahoo.co.in\n",
    "Mounica,3,9786655345,Monica@gmail.org\n",
    "4,Pavani,8794466495,pavani@gmail.co.ini\n",
    "\"\"\"\n",
    "import re\n",
    "print(re.findall(\"^[0-9]\",data,re.DOTALL))"
   ]
  },
  {
   "cell_type": "code",
   "execution_count": 32,
   "metadata": {},
   "outputs": [
    {
     "name": "stdout",
     "output_type": "stream",
     "text": [
      "['1']\n"
     ]
    }
   ],
   "source": [
    "data=\"\"\"1234SpanDANA123@gmail.com,1,Spanadana,9645533245\n",
    "8765566354,2,Harith,Harith_23@yahoo.co.in\n",
    "Mounica,3,9786655345,Monica@gmail.org\n",
    "4,Pavani,8794466495,pavani@gmail.co.ini\n",
    "\"\"\"\n",
    "import re\n",
    "print(re.findall(\"^[0-9]\",data,re.DOTALL))"
   ]
  },
  {
   "cell_type": "code",
   "execution_count": 33,
   "metadata": {},
   "outputs": [
    {
     "name": "stdout",
     "output_type": "stream",
     "text": [
      "['8', '4']\n"
     ]
    }
   ],
   "source": [
    "data=\"\"\"SpanDANA123@gmail.com,1,Spanadana,9645533245\n",
    "8765566354,2,Harith,Harith_23@yahoo.co.in\n",
    "Mounica,3,9786655345,Monica@gmail.org\n",
    "4,Pavani,8794466495,pavani@gmail.co.ini\n",
    "\"\"\"\n",
    "import re\n",
    "print(re.findall(\"^[0-9]\",data,re.M))"
   ]
  },
  {
   "cell_type": "code",
   "execution_count": 35,
   "metadata": {},
   "outputs": [
    {
     "name": "stdout",
     "output_type": "stream",
     "text": [
      "['@', '.', ',', ',', ',', '\\n', ',', ',', ',', '_', '@', '.', '.', '\\n', ',', ',', ',', '@', '.', '\\n', ',', ',', ',', '@', '.', '.', '\\n']\n"
     ]
    }
   ],
   "source": [
    "data=\"\"\"SpanDANA123@gmail.com,1,Spanadana,9645533245\n",
    "8765566354,2,Harith,Harith_23@yahoo.co.in\n",
    "Mounica,3,9786655345,Monica@gmail.org\n",
    "4,Pavani,8794466495,pavani@gmail.co.ini\n",
    "\"\"\"\n",
    "import re\n",
    "print(re.findall(\"[^0-9a-z]\",data,re.I))"
   ]
  },
  {
   "cell_type": "code",
   "execution_count": 36,
   "metadata": {},
   "outputs": [
    {
     "name": "stdout",
     "output_type": "stream",
     "text": [
      "['1', '2', '3', '1', '9', '6', '4', '5', '5', '3', '3', '2', '4', '5', '8', '7', '6', '5', '5', '6', '6', '3', '5', '4', '2', '2', '3', '3', '9', '7', '8', '6', '6', '5', '5', '3', '4', '5', '4', '8', '7', '9', '4', '4', '6', '6', '4', '9', '5']\n"
     ]
    }
   ],
   "source": [
    "data=\"\"\"SpanDANA123@gmail.com,1,Spanadana,9645533245\n",
    "8765566354,2,Harith,Harith_23@yahoo.co.in\n",
    "Mounica,3,9786655345,Monica@gmail.org\n",
    "4,Pavani,8794466495,pavani@gmail.co.ini\n",
    "\"\"\"\n",
    "import re\n",
    "print(re.findall(\"\\d\",data,re.I))"
   ]
  },
  {
   "cell_type": "code",
   "execution_count": 37,
   "metadata": {},
   "outputs": [
    {
     "name": "stdout",
     "output_type": "stream",
     "text": [
      "['S', 'p', 'a', 'n', 'D', 'A', 'N', 'A', '@', 'g', 'm', 'a', 'i', 'l', '.', 'c', 'o', 'm', ',', ',', 'S', 'p', 'a', 'n', 'a', 'd', 'a', 'n', 'a', ',', '\\n', ',', ',', 'H', 'a', 'r', 'i', 't', 'h', ',', 'H', 'a', 'r', 'i', 't', 'h', '_', '@', 'y', 'a', 'h', 'o', 'o', '.', 'c', 'o', '.', 'i', 'n', '\\n', 'M', 'o', 'u', 'n', 'i', 'c', 'a', ',', ',', ',', 'M', 'o', 'n', 'i', 'c', 'a', '@', 'g', 'm', 'a', 'i', 'l', '.', 'o', 'r', 'g', '\\n', ',', 'P', 'a', 'v', 'a', 'n', 'i', ',', ',', 'p', 'a', 'v', 'a', 'n', 'i', '@', 'g', 'm', 'a', 'i', 'l', '.', 'c', 'o', '.', 'i', 'n', 'i', '\\n']\n"
     ]
    }
   ],
   "source": [
    "data=\"\"\"SpanDANA123@gmail.com,1,Spanadana,9645533245\n",
    "8765566354,2,Harith,Harith_23@yahoo.co.in\n",
    "Mounica,3,9786655345,Monica@gmail.org\n",
    "4,Pavani,8794466495,pavani@gmail.co.ini\n",
    "\"\"\"\n",
    "import re\n",
    "print(re.findall(\"\\D\",data,re.I))"
   ]
  },
  {
   "cell_type": "code",
   "execution_count": 38,
   "metadata": {},
   "outputs": [
    {
     "name": "stdout",
     "output_type": "stream",
     "text": [
      "[]\n"
     ]
    }
   ],
   "source": [
    "data=\"\"\"SpanDANA123@gmail.com,1,Spanadana,9645533245\n",
    "8765566354,2,Harith,Harith_23@yahoo.co.in\n",
    "Mounica,3,9786655345,Monica@gmail.org\n",
    "4,Pavani,8794466495,pavani@gmail.co.in\n",
    "\"\"\"\n",
    "import re\n",
    "print(re.findall(\"[0-9]$\",data))"
   ]
  },
  {
   "cell_type": "code",
   "execution_count": 39,
   "metadata": {},
   "outputs": [
    {
     "name": "stdout",
     "output_type": "stream",
     "text": [
      "['4']\n"
     ]
    }
   ],
   "source": [
    "data=\"\"\"SpanDANA123@gmail.com,1,Spanadana,9645533245\n",
    "8765566354,2,Harith,Harith_23@yahoo.co.in\n",
    "Mounica,3,9786655345,Monica@gmail.org\n",
    "4,Pavani,8794466495,pavani@gmail.co.in1234\n",
    "\"\"\"\n",
    "import re\n",
    "print(re.findall(\"[0-9]$\",data))"
   ]
  },
  {
   "cell_type": "code",
   "execution_count": 40,
   "metadata": {},
   "outputs": [
    {
     "name": "stdout",
     "output_type": "stream",
     "text": [
      "['5', '4']\n"
     ]
    }
   ],
   "source": [
    "data=\"\"\"SpanDANA123@gmail.com,1,Spanadana,9645533245\n",
    "8765566354,2,Harith,Harith_23@yahoo.co.in\n",
    "Mounica,3,9786655345,Monica@gmail.org\n",
    "4,Pavani,8794466495,pavani@gmail.co.in1234\n",
    "\"\"\"\n",
    "import re\n",
    "print(re.findall(\"[0-9]$\",data,re.M))"
   ]
  },
  {
   "cell_type": "code",
   "execution_count": 41,
   "metadata": {},
   "outputs": [
    {
     "name": "stdout",
     "output_type": "stream",
     "text": [
      "['SpanDANA123', 'gmail', 'com', '1', 'Spanadana', '9645533245', '8765566354', '2', 'Harith', 'Harith_23', 'yahoo', 'co', 'in', 'Mounica', '3', '9786655345', 'Monica', 'gmail', 'org', '4', 'Pavani', '8794466495', 'pavani', 'gmail', 'co', 'in1234']\n"
     ]
    }
   ],
   "source": [
    "data=\"\"\"SpanDANA123@gmail.com,1,Spanadana,9645533245\n",
    "8765566354,2,Harith,Harith_23@yahoo.co.in\n",
    "Mounica,3,9786655345,Monica@gmail.org\n",
    "4,Pavani,8794466495,pavani@gmail.co.in1234\n",
    "\"\"\"\n",
    "import re\n",
    "print(re.findall(\"[a-z0-9_]+\",data,re.I))"
   ]
  },
  {
   "cell_type": "code",
   "execution_count": 42,
   "metadata": {},
   "outputs": [
    {
     "name": "stdout",
     "output_type": "stream",
     "text": [
      "['SpanDANA123@', 'Harith_23@', 'Monica@', 'pavani@']\n"
     ]
    }
   ],
   "source": [
    "data=\"\"\"SpanDANA123@gmail.com,1,Spanadana,9645533245\n",
    "8765566354,2,Harith,Harith_23@yahoo.co.in\n",
    "Mounica,3,9786655345,Monica@gmail.org\n",
    "4,Pavani,8794466495,pavani@gmail.co.in1234\n",
    "\"\"\"\n",
    "import re\n",
    "print(re.findall(\"[a-z0-9_]+@\",data,re.I))"
   ]
  },
  {
   "cell_type": "code",
   "execution_count": 43,
   "metadata": {},
   "outputs": [
    {
     "name": "stdout",
     "output_type": "stream",
     "text": [
      "['SpanDANA123@gmail', 'Harith_23@yahoo', 'Monica@gmail', 'pavani@gmail']\n"
     ]
    }
   ],
   "source": [
    "data=\"\"\"SpanDANA123@gmail.com,1,Spanadana,9645533245\n",
    "8765566354,2,Harith,Harith_23@yahoo.co.in\n",
    "Mounica,3,9786655345,Monica@gmail.org\n",
    "4,Pavani,8794466495,pavani@gmail.co.in1234\n",
    "\"\"\"\n",
    "import re\n",
    "print(re.findall(\"[a-z0-9_]+@[a-z]+\",data,re.I))"
   ]
  },
  {
   "cell_type": "code",
   "execution_count": 44,
   "metadata": {},
   "outputs": [
    {
     "name": "stdout",
     "output_type": "stream",
     "text": [
      "['SpanDANA123@gmail.', 'Harith_23@yahoo.', 'Monica@gmail.', 'pavani@gmail.']\n"
     ]
    }
   ],
   "source": [
    "data=\"\"\"SpanDANA123@gmail.com,1,Spanadana,9645533245\n",
    "8765566354,2,Harith,Harith_23@yahoo.co.in\n",
    "Mounica,3,9786655345,Monica@gmail.org\n",
    "4,Pavani,8794466495,pavani@gmail.co.in1234\n",
    "\"\"\"\n",
    "import re\n",
    "print(re.findall(\"[a-z0-9_]+@[a-z]+[.]\",data,re.I))"
   ]
  },
  {
   "cell_type": "code",
   "execution_count": 45,
   "metadata": {},
   "outputs": [
    {
     "name": "stdout",
     "output_type": "stream",
     "text": [
      "['SpanDANA123@gmail.com', 'Harith_23@yahoo.co.in', 'Monica@gmail.org', 'pavani@gmail.co.in']\n"
     ]
    }
   ],
   "source": [
    "data=\"\"\"SpanDANA123@gmail.com,1,Spanadana,9645533245\n",
    "8765566354,2,Harith,Harith_23@yahoo.co.in\n",
    "Mounica,3,9786655345,Monica@gmail.org\n",
    "4,Pavani,8794466495,pavani@gmail.co.in1234\n",
    "\"\"\"\n",
    "import re\n",
    "print(re.findall(\"[a-z0-9_]+@[a-z]+[.][.a-z]*\",data,re.I))"
   ]
  },
  {
   "cell_type": "code",
   "execution_count": 46,
   "metadata": {},
   "outputs": [
    {
     "name": "stdout",
     "output_type": "stream",
     "text": [
      "['SpanDANA123@gmail.com', 'Harith_23@yahoo.co', 'Monica@gmail.org', 'pavani@gmail.co']\n"
     ]
    }
   ],
   "source": [
    "data=\"\"\"SpanDANA123@gmail.com,1,Spanadana,9645533245\n",
    "8765566354,2,Harith,Harith_23@yahoo.co.in\n",
    "Mounica,3,9786655345,Monica@gmail.org\n",
    "4,Pavani,8794466495,pavani@gmail.co.in1234\n",
    "\"\"\"\n",
    "import re\n",
    "print(re.findall(\"[a-z0-9_]+@[a-z]+[.][a-z]+\",data,re.I))"
   ]
  },
  {
   "cell_type": "code",
   "execution_count": null,
   "metadata": {},
   "outputs": [],
   "source": []
  }
 ],
 "metadata": {
  "kernelspec": {
   "display_name": "Python 3",
   "language": "python",
   "name": "python3"
  },
  "language_info": {
   "codemirror_mode": {
    "name": "ipython",
    "version": 3
   },
   "file_extension": ".py",
   "mimetype": "text/x-python",
   "name": "python",
   "nbconvert_exporter": "python",
   "pygments_lexer": "ipython3",
   "version": "3.8.3"
  }
 },
 "nbformat": 4,
 "nbformat_minor": 4
}
