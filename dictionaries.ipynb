{
 "cells": [
  {
   "cell_type": "code",
   "execution_count": 1,
   "metadata": {},
   "outputs": [
    {
     "name": "stdout",
     "output_type": "stream",
     "text": [
      "[1, 2, 3, 4]\n"
     ]
    }
   ],
   "source": [
    "def fun(x):\n",
    "    res=[]\n",
    "    res.extend(range(1,x))\n",
    "    print(res)\n",
    "fun(5)"
   ]
  },
  {
   "cell_type": "code",
   "execution_count": 3,
   "metadata": {},
   "outputs": [
    {
     "name": "stdout",
     "output_type": "stream",
     "text": [
      "[1, 2, 3, 4, 3, 2, 1]\n"
     ]
    }
   ],
   "source": [
    "def fun(x):\n",
    "    res=[]\n",
    "    res.extend(range(1,x))\n",
    "    res.extend(range(x-2,0,-1))\n",
    "    print(res)\n",
    "fun(5)"
   ]
  },
  {
   "cell_type": "code",
   "execution_count": 5,
   "metadata": {},
   "outputs": [
    {
     "name": "stdout",
     "output_type": "stream",
     "text": [
      "[['a'], ['b'], ['c']]\n"
     ]
    }
   ],
   "source": [
    "def fun(x):\n",
    "    res=[]\n",
    "    for i in x:\n",
    "        res.append([i])\n",
    "    print(res)\n",
    "fun(\"abc\")"
   ]
  },
  {
   "cell_type": "code",
   "execution_count": 6,
   "metadata": {},
   "outputs": [
    {
     "name": "stdout",
     "output_type": "stream",
     "text": [
      "[['a'], ['b'], ['c']]\n"
     ]
    }
   ],
   "source": [
    "def fun(x):\n",
    "    res=[]\n",
    "    res.extend([[i] for i in x])\n",
    "    res.extend(res[:])\n",
    "    print(res)\n",
    "fun(\"abc\")"
   ]
  },
  {
   "cell_type": "code",
   "execution_count": 7,
   "metadata": {},
   "outputs": [
    {
     "name": "stdout",
     "output_type": "stream",
     "text": [
      "ab\n"
     ]
    }
   ],
   "source": [
    "s=\"abc\"\n",
    "#ab,bc\n",
    "print(s[:2])\n"
   ]
  },
  {
   "cell_type": "code",
   "execution_count": 8,
   "metadata": {},
   "outputs": [
    {
     "name": "stdout",
     "output_type": "stream",
     "text": [
      "bc\n"
     ]
    }
   ],
   "source": [
    "s=\"abc\"\n",
    "#ab,bc\n",
    "print(s[1:])\n"
   ]
  },
  {
   "cell_type": "code",
   "execution_count": 18,
   "metadata": {},
   "outputs": [
    {
     "name": "stdout",
     "output_type": "stream",
     "text": [
      "[['a'], ['b'], ['c'], 'ab', 'bc', 'c', ['abc'], ['bc'], ['c']]\n"
     ]
    }
   ],
   "source": [
    "s=\"abc\"\n",
    "res=[]\n",
    "for ind,val in enumerate(s):\n",
    "    res.append([s[ind:ind+1]])\n",
    "for ind,val in enumerate(s):\n",
    "    res.append(s[ind:ind+2])\n",
    "for ind,val in enumerate(s):\n",
    "    res.append([s[ind:ind+3]])\n",
    "print(res)"
   ]
  },
  {
   "cell_type": "code",
   "execution_count": 23,
   "metadata": {},
   "outputs": [
    {
     "name": "stdout",
     "output_type": "stream",
     "text": [
      "3\n",
      "[[], ['a'], ['a', 'b'], [], ['b'], ['b', 'c'], [], ['c'], ['c']]\n"
     ]
    }
   ],
   "source": [
    "s=\"abc\"\n",
    "res=[]\n",
    "c=0\n",
    "for ind,val in enumerate(s):#0:1,\n",
    "    for i in range(len(s)):#3\n",
    "        res.append(list(s[ind:i+c]))\n",
    "    c=c+1\n",
    "print(c)\n",
    "# for i in range(len(s)):#3\n",
    "#     res.append(list(s[ind+c:i]))\n",
    "# res.append([s])\n",
    "print(res)\n"
   ]
  },
  {
   "cell_type": "code",
   "execution_count": 25,
   "metadata": {},
   "outputs": [
    {
     "name": "stdout",
     "output_type": "stream",
     "text": [
      "[[], ['a'], ['a', 'b'], ['a', 'b', 'c'], [], ['b'], ['b', 'c'], ['b', 'c', 'd'], [], ['c'], ['c', 'd'], ['c', 'd'], [], ['d'], ['d'], ['d']]\n"
     ]
    }
   ],
   "source": [
    "s=\"abcd\"\n",
    "res=[]\n",
    "c=0\n",
    "for i in s:\n",
    "    \n",
    "for ind,val in enumerate(s):#0:1,\n",
    "    for i in range(len(s)):#3\n",
    "        res.append(list(s[ind:i+c]))\n",
    "    c=c+1\n",
    "print(res)\n"
   ]
  },
  {
   "cell_type": "code",
   "execution_count": 28,
   "metadata": {},
   "outputs": [
    {
     "name": "stdout",
     "output_type": "stream",
     "text": [
      "[['a'], ['b'], ['c'], ['a', 'b'], ['b', 'c'], ['c'], ['a', 'b', 'c'], ['b', 'c'], ['c']]\n"
     ]
    }
   ],
   "source": [
    "s=\"abcd\"\n",
    "#a,b,c,d,ab,bc,cd,da,abc,bcd,dab,abcd\n",
    "s=\"abc\"\n",
    "res=[]\n",
    "for ind,val in enumerate(s):\n",
    "    res.append(list(s[ind:ind+1]))\n",
    "for ind,val in enumerate(s):\n",
    "    res.append(list(s[ind:ind+2]))\n",
    "for ind,val in enumerate(s):\n",
    "    res.append(list(s[ind:ind+3]))\n",
    "print(res)\n"
   ]
  },
  {
   "cell_type": "code",
   "execution_count": 34,
   "metadata": {},
   "outputs": [
    {
     "name": "stdout",
     "output_type": "stream",
     "text": [
      "[['a'], ['b'], ['c']]\n"
     ]
    }
   ],
   "source": [
    "# for ind,val in enumerate(s):\n",
    "#     res.append(list(s[ind:ind+1]))\n",
    "# for ind,val in enumerate(s):\n",
    "#     res.append(list(s[ind:ind+2]))\n",
    "res=[]\n",
    "for ind,val in enumerate(s):\n",
    "    for ind1 in range(len(s)):\n",
    "        ind=ind+1\n",
    "        res.append(list(s[ind1:ind]))\n",
    "    print(res)\n",
    "    break"
   ]
  },
  {
   "cell_type": "code",
   "execution_count": 38,
   "metadata": {},
   "outputs": [
    {
     "name": "stdout",
     "output_type": "stream",
     "text": [
      "[['a'], ['b'], ['c'], ['a', 'b'], ['b', 'c'], ['a', 'b', 'c']]\n"
     ]
    }
   ],
   "source": [
    "# for ind,val in enumerate(s):\n",
    "#     res.append(list(s[ind:ind+1]))\n",
    "# for ind,val in enumerate(s):\n",
    "#     res.append(list(s[ind:ind+2]))\n",
    "res=[]\n",
    "for ind,val in enumerate(s):#1\n",
    "    for ind1 in range(len(s)-ind):\n",
    "        ind=ind+1\n",
    "        res.append(list(s[ind1:ind]))\n",
    "print(res)\n",
    "    "
   ]
  },
  {
   "cell_type": "code",
   "execution_count": 50,
   "metadata": {},
   "outputs": [
    {
     "name": "stdout",
     "output_type": "stream",
     "text": [
      "[['a'], ['b'], ['c'], ['d'], ['a', 'b'], ['b', 'c'], ['c', 'd'], 'da', ['a', 'b', 'c'], ['b', 'c', 'd'], 'cab', ['a', 'b', 'c', 'd'], 'babc']\n"
     ]
    }
   ],
   "source": [
    "s=\"abcd\"\n",
    "res=[]\n",
    "c=0\n",
    "for ind,val in enumerate(s):#\n",
    "    for ind1 in range(len(s)-ind):\n",
    "        ind=ind+1\n",
    "        res.append(list(s[ind1:ind]))\n",
    "    #ind=2,ind1=3\n",
    "    if c!=0:\n",
    "        res.append(s[ind1+1]+s[0:c])\n",
    "    c=c+1\n",
    "print(res)\n",
    "    "
   ]
  },
  {
   "cell_type": "code",
   "execution_count": null,
   "metadata": {},
   "outputs": [],
   "source": []
  }
 ],
 "metadata": {
  "kernelspec": {
   "display_name": "Python 3",
   "language": "python",
   "name": "python3"
  },
  "language_info": {
   "codemirror_mode": {
    "name": "ipython",
    "version": 3
   },
   "file_extension": ".py",
   "mimetype": "text/x-python",
   "name": "python",
   "nbconvert_exporter": "python",
   "pygments_lexer": "ipython3",
   "version": "3.8.3"
  }
 },
 "nbformat": 4,
 "nbformat_minor": 4
}
