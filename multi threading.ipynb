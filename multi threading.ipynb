{
 "cells": [
  {
   "cell_type": "code",
   "execution_count": 2,
   "metadata": {},
   "outputs": [
    {
     "name": "stdout",
     "output_type": "stream",
     "text": [
      "vm creation done\n",
      "vm creation done\n",
      "vm creation done\n",
      "3.024197578430176\n"
     ]
    }
   ],
   "source": [
    "from time import time, sleep\n",
    "def create_vm(server,vm_details):\n",
    "    sleep(1)\n",
    "    print(\"vm creation done\")\n",
    "\n",
    "t1=time()\n",
    "servers = [\"192.168.125.1\",\"192.168.125.2\",\"192.168.125.3\"]\n",
    "for server in  servers:\n",
    "    vm_details = {\"name\":\"windows_12_vm\",\"os\":\"windows12\",\"harddis\":500,\"ram\":12,\"cores\":4}\n",
    "    create_vm(server,vm_details)\n",
    "print(time()-t1)\n",
    "    "
   ]
  },
  {
   "cell_type": "code",
   "execution_count": 3,
   "metadata": {},
   "outputs": [
    {
     "name": "stdout",
     "output_type": "stream",
     "text": [
      "vm creation done\n",
      "vm creation done\n",
      "vm creation done\n",
      "vm creation done\n",
      "vm creation done\n",
      "5.035052537918091\n"
     ]
    }
   ],
   "source": [
    "from time import time, sleep\n",
    "def create_vm(server,vm_details):\n",
    "    sleep(1)\n",
    "    print(\"vm creation done\")\n",
    "\n",
    "t1=time()\n",
    "servers = [\"192.168.125.1\",\"192.168.125.2\",\"192.168.125.3\",\"192.168.125.2\",\"192.168.125.3\"]\n",
    "for server in  servers:\n",
    "    vm_details = {\"name\":\"windows_12_vm\",\"os\":\"windows12\",\"harddis\":500,\"ram\":12,\"cores\":4}\n",
    "    create_vm(server,vm_details)\n",
    "print(time()-t1)\n",
    "    "
   ]
  },
  {
   "cell_type": "code",
   "execution_count": 7,
   "metadata": {},
   "outputs": [
    {
     "name": "stdout",
     "output_type": "stream",
     "text": [
      "0.005985736846923828\n",
      "vm creation done\n",
      "vm creation done\n",
      "vm creation donevm creation donevm creation done\n",
      "\n",
      "\n"
     ]
    }
   ],
   "source": [
    "from time import time, sleep\n",
    "from threading import Thread\n",
    "def create_vm(server,vm_details):\n",
    "    sleep(1)\n",
    "    print(\"vm creation done\")\n",
    "\n",
    "t1=time()\n",
    "servers = [\"192.168.125.1\",\"192.168.125.2\",\"192.168.125.3\",\"192.168.125.2\",\"192.168.125.3\"]\n",
    "for server in  servers:\n",
    "    vm_details = {\"name\":\"windows_12_vm\",\"os\":\"windows12\",\"harddis\":500,\"ram\":12,\"cores\":4}\n",
    "    thread1 = Thread(target=create_vm, args=(server,vm_details))\n",
    "    thread1.start()\n",
    "print(time()-t1)\n",
    "    "
   ]
  },
  {
   "cell_type": "code",
   "execution_count": 8,
   "metadata": {},
   "outputs": [
    {
     "name": "stdout",
     "output_type": "stream",
     "text": [
      "vm creation donevm creation donevm creation done\n",
      "vm creation done\n",
      "\n",
      "\n",
      "vm creation done\n",
      "1.1115703582763672\n"
     ]
    }
   ],
   "source": [
    "from time import time, sleep\n",
    "from threading import Thread\n",
    "def create_vm(server,vm_details):\n",
    "    sleep(1)\n",
    "    print(\"vm creation done\")\n",
    "\n",
    "t1=time()\n",
    "servers = [\"192.168.125.1\",\"192.168.125.2\",\"192.168.125.3\",\"192.168.125.2\",\"192.168.125.3\"]\n",
    "threads = []\n",
    "for server in  servers:\n",
    "    vm_details = {\"name\":\"windows_12_vm\",\"os\":\"windows12\",\"harddis\":500,\"ram\":12,\"cores\":4}\n",
    "    thread1 = Thread(target=create_vm, args=(server,vm_details))\n",
    "    threads.append(thread1)\n",
    "    thread1.start()\n",
    "for thr in threads:\n",
    "    while thr.is_alive():\n",
    "        continue\n",
    "    print(\"done\")\n",
    "print(time()-t1)\n",
    "    "
   ]
  },
  {
   "cell_type": "code",
   "execution_count": null,
   "metadata": {},
   "outputs": [],
   "source": []
  }
 ],
 "metadata": {
  "kernelspec": {
   "display_name": "Python 3",
   "language": "python",
   "name": "python3"
  },
  "language_info": {
   "codemirror_mode": {
    "name": "ipython",
    "version": 3
   },
   "file_extension": ".py",
   "mimetype": "text/x-python",
   "name": "python",
   "nbconvert_exporter": "python",
   "pygments_lexer": "ipython3",
   "version": "3.8.3"
  }
 },
 "nbformat": 4,
 "nbformat_minor": 4
}
