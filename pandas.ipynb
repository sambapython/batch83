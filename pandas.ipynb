{
 "cells": [
  {
   "cell_type": "code",
   "execution_count": 1,
   "metadata": {},
   "outputs": [],
   "source": [
    "#data frame"
   ]
  },
  {
   "cell_type": "code",
   "execution_count": 3,
   "metadata": {},
   "outputs": [],
   "source": [
    "data=[{\"date\":\"2020-01-01\",\"cost\":23000},{\"date\":\"2020-01-02\",\"cost\":23415}]"
   ]
  },
  {
   "cell_type": "code",
   "execution_count": 7,
   "metadata": {},
   "outputs": [
    {
     "name": "stdout",
     "output_type": "stream",
     "text": [
      "[{'date': datetime.date(1969, 12, 31), 'cost': '35.2'}, {'date': datetime.date(1970, 1, 30), 'cost': '34.99'}, {'date': datetime.date(1970, 2, 27), 'cost': '35.02'}, {'date': datetime.date(1970, 3, 31), 'cost': '35.3'}, {'date': datetime.date(1970, 4, 30), 'cost': '35.85'}, {'date': datetime.date(1970, 5, 29), 'cost': '35.45'}, {'date': datetime.date(1970, 6, 30), 'cost': '35.49'}, {'date': datetime.date(1970, 7, 31), 'cost': '35.3'}, {'date': datetime.date(1970, 8, 31), 'cost': '35.8'}, {'date': datetime.date(1970, 9, 30), 'cost': '36.4'}, {'date': datetime.date(1970, 10, 30), 'cost': '37.25'}, {'date': datetime.date(1970, 11, 30), 'cost': '37.54'}, {'date': datetime.date(1970, 12, 31), 'cost': '37.38'}, {'date': datetime.date(1971, 1, 29), 'cost': '38.05'}, {'date': datetime.date(1971, 2, 26), 'cost': '38.8'}, {'date': datetime.date(1971, 3, 31), 'cost': '38.88'}, {'date': datetime.date(1971, 4, 30), 'cost': '39.7'}, {'date': datetime.date(1971, 5, 31), 'cost': '40.84'}, {'date': datetime.date(1971, 6, 30), 'cost': '40.1'}, {'date': datetime.date(1971, 7, 30), 'cost': '42.4'}, {'date': datetime.date(1971, 8, 31), 'cost': '40.65'}, {'date': datetime.date(1971, 9, 30), 'cost': '42.6'}, {'date': datetime.date(1971, 10, 29), 'cost': '42.34'}, {'date': datetime.date(1971, 11, 30), 'cost': '43.6'}, {'date': datetime.date(1971, 12, 31), 'cost': '43.55'}, {'date': datetime.date(1972, 1, 31), 'cost': '47.15'}, {'date': datetime.date(1972, 2, 29), 'cost': '48.2'}, {'date': datetime.date(1972, 3, 31), 'cost': '48.38'}, {'date': datetime.date(1972, 4, 28), 'cost': '49.6'}, {'date': datetime.date(1972, 5, 31), 'cost': '59.45'}, {'date': datetime.date(1972, 6, 30), 'cost': '64.65'}, {'date': datetime.date(1972, 7, 31), 'cost': '68.3'}, {'date': datetime.date(1972, 8, 31), 'cost': '66.88'}, {'date': datetime.date(1972, 9, 29), 'cost': '64.2'}, {'date': datetime.date(1972, 10, 31), 'cost': '64.39'}, {'date': datetime.date(1972, 11, 30), 'cost': '63.6'}, {'date': datetime.date(1972, 12, 29), 'cost': '64.9'}, {'date': datetime.date(1973, 1, 31), 'cost': '66'}, {'date': datetime.date(1973, 2, 28), 'cost': '85'}, {'date': datetime.date(1973, 3, 30), 'cost': '90'}, {'date': datetime.date(1973, 4, 30), 'cost': '90.72'}, {'date': datetime.date(1973, 5, 31), 'cost': '114.75'}, {'date': datetime.date(1973, 6, 29), 'cost': '123.25'}, {'date': datetime.date(1973, 7, 31), 'cost': '115.6'}, {'date': datetime.date(1973, 8, 31), 'cost': '103.5'}, {'date': datetime.date(1973, 9, 28), 'cost': '100'}, {'date': datetime.date(1973, 10, 31), 'cost': '98'}, {'date': datetime.date(1973, 11, 30), 'cost': '101'}, {'date': datetime.date(1973, 12, 31), 'cost': '112.25'}, {'date': datetime.date(1974, 1, 31), 'cost': '132.5'}, {'date': datetime.date(1974, 2, 28), 'cost': '162.5'}, {'date': datetime.date(1974, 3, 29), 'cost': '173'}, {'date': datetime.date(1974, 4, 30), 'cost': '169.25'}, {'date': datetime.date(1974, 5, 31), 'cost': '156.75'}, {'date': datetime.date(1974, 6, 28), 'cost': '144.25'}, {'date': datetime.date(1974, 7, 31), 'cost': '156'}, {'date': datetime.date(1974, 8, 30), 'cost': '156'}, {'date': datetime.date(1974, 9, 30), 'cost': '151.25'}, {'date': datetime.date(1974, 10, 31), 'cost': '167'}, {'date': datetime.date(1974, 11, 29), 'cost': '184'}, {'date': datetime.date(1974, 12, 31), 'cost': '186.5'}, {'date': datetime.date(1975, 1, 31), 'cost': '175.8'}, {'date': datetime.date(1975, 2, 28), 'cost': '181.75'}, {'date': datetime.date(1975, 3, 31), 'cost': '177.25'}, {'date': datetime.date(1975, 4, 30), 'cost': '167'}, {'date': datetime.date(1975, 5, 30), 'cost': '167'}, {'date': datetime.date(1975, 6, 30), 'cost': '166.25'}, {'date': datetime.date(1975, 7, 31), 'cost': '166.7'}, {'date': datetime.date(1975, 8, 29), 'cost': '159.8'}, {'date': datetime.date(1975, 9, 30), 'cost': '141.25'}, {'date': datetime.date(1975, 10, 31), 'cost': '142.9'}, {'date': datetime.date(1975, 11, 28), 'cost': '138.15'}, {'date': datetime.date(1975, 12, 31), 'cost': '140.25'}, {'date': datetime.date(1976, 1, 30), 'cost': '128.15'}, {'date': datetime.date(1976, 2, 27), 'cost': '132.3'}, {'date': datetime.date(1976, 3, 31), 'cost': '129.6'}, {'date': datetime.date(1976, 4, 30), 'cost': '128.4'}, {'date': datetime.date(1976, 5, 31), 'cost': '125.5'}, {'date': datetime.date(1976, 6, 30), 'cost': '123.8'}, {'date': datetime.date(1976, 7, 30), 'cost': '112.5'}, {'date': datetime.date(1976, 8, 31), 'cost': '104'}, {'date': datetime.date(1976, 9, 30), 'cost': '116'}, {'date': datetime.date(1976, 10, 29), 'cost': '123.15'}, {'date': datetime.date(1976, 11, 30), 'cost': '130.25'}, {'date': datetime.date(1976, 12, 31), 'cost': '134.5'}, {'date': datetime.date(1977, 1, 31), 'cost': '132.3'}, {'date': datetime.date(1977, 2, 28), 'cost': '142.75'}, {'date': datetime.date(1977, 3, 31), 'cost': '148.9'}, {'date': datetime.date(1977, 4, 29), 'cost': '147.25'}, {'date': datetime.date(1977, 5, 31), 'cost': '142.95'}, {'date': datetime.date(1977, 6, 30), 'cost': '143'}, {'date': datetime.date(1977, 7, 29), 'cost': '144.1'}, {'date': datetime.date(1977, 8, 31), 'cost': '146'}, {'date': datetime.date(1977, 9, 30), 'cost': '154.05'}, {'date': datetime.date(1977, 10, 31), 'cost': '161.5'}, {'date': datetime.date(1977, 11, 30), 'cost': '160.05'}, {'date': datetime.date(1977, 12, 30), 'cost': '164.95'}, {'date': datetime.date(1978, 1, 31), 'cost': '175.75'}, {'date': datetime.date(1978, 2, 28), 'cost': '182.25'}, {'date': datetime.date(1978, 3, 31), 'cost': '181.6'}, {'date': datetime.date(1978, 4, 28), 'cost': '170.85'}, {'date': datetime.date(1978, 5, 31), 'cost': '184.15'}, {'date': datetime.date(1978, 6, 30), 'cost': '183.05'}, {'date': datetime.date(1978, 7, 31), 'cost': '200.25'}, {'date': datetime.date(1978, 8, 31), 'cost': '208.7'}, {'date': datetime.date(1978, 9, 29), 'cost': '217.1'}, {'date': datetime.date(1978, 10, 31), 'cost': '242.6'}, {'date': datetime.date(1978, 11, 30), 'cost': '193.4'}, {'date': datetime.date(1978, 12, 29), 'cost': '226'}, {'date': datetime.date(1979, 1, 31), 'cost': '233.7'}, {'date': datetime.date(1979, 2, 28), 'cost': '251.3'}, {'date': datetime.date(1979, 3, 30), 'cost': '240.1'}, {'date': datetime.date(1979, 4, 30), 'cost': '245.3'}, {'date': datetime.date(1979, 5, 31), 'cost': '274.6'}, {'date': datetime.date(1979, 6, 29), 'cost': '277.5'}, {'date': datetime.date(1979, 7, 31), 'cost': '296.45'}, {'date': datetime.date(1979, 8, 31), 'cost': '315.1'}, {'date': datetime.date(1979, 9, 28), 'cost': '397.25'}, {'date': datetime.date(1979, 10, 31), 'cost': '382'}, {'date': datetime.date(1979, 11, 30), 'cost': '415.65'}, {'date': datetime.date(1979, 12, 31), 'cost': '512'}, {'date': datetime.date(1980, 1, 31), 'cost': '653'}, {'date': datetime.date(1980, 2, 29), 'cost': '637'}, {'date': datetime.date(1980, 3, 31), 'cost': '494.5'}, {'date': datetime.date(1980, 4, 30), 'cost': '518'}, {'date': datetime.date(1980, 5, 30), 'cost': '535.5'}, {'date': datetime.date(1980, 6, 30), 'cost': '653.5'}, {'date': datetime.date(1980, 7, 31), 'cost': '614.25'}, {'date': datetime.date(1980, 8, 29), 'cost': '631.25'}, {'date': datetime.date(1980, 9, 30), 'cost': '666.75'}, {'date': datetime.date(1980, 10, 31), 'cost': '629'}, {'date': datetime.date(1980, 11, 28), 'cost': '619.75'}, {'date': datetime.date(1980, 12, 31), 'cost': '589.75'}, {'date': datetime.date(1981, 1, 30), 'cost': '506.5'}, {'date': datetime.date(1981, 2, 27), 'cost': '489'}, {'date': datetime.date(1981, 3, 31), 'cost': '513.75'}, {'date': datetime.date(1981, 4, 30), 'cost': '482.75'}, {'date': datetime.date(1981, 5, 29), 'cost': '479.25'}, {'date': datetime.date(1981, 6, 30), 'cost': '426'}, {'date': datetime.date(1981, 7, 31), 'cost': '406'}, {'date': datetime.date(1981, 8, 31), 'cost': '425'}, {'date': datetime.date(1981, 9, 30), 'cost': '428.75'}, {'date': datetime.date(1981, 10, 30), 'cost': '427'}, {'date': datetime.date(1981, 11, 30), 'cost': '414.5'}, {'date': datetime.date(1981, 12, 31), 'cost': '397.5'}, {'date': datetime.date(1982, 1, 29), 'cost': '387'}, {'date': datetime.date(1982, 2, 26), 'cost': '362.6'}, {'date': datetime.date(1982, 3, 31), 'cost': '320'}, {'date': datetime.date(1982, 4, 30), 'cost': '361.25'}, {'date': datetime.date(1982, 5, 31), 'cost': '325.25'}, {'date': datetime.date(1982, 6, 30), 'cost': '317.5'}, {'date': datetime.date(1982, 7, 30), 'cost': '342.9'}, {'date': datetime.date(1982, 8, 31), 'cost': '411.5'}, {'date': datetime.date(1982, 9, 30), 'cost': '397'}, {'date': datetime.date(1982, 10, 29), 'cost': '423.25'}, {'date': datetime.date(1982, 11, 30), 'cost': '436'}, {'date': datetime.date(1982, 12, 31), 'cost': '456.9'}, {'date': datetime.date(1983, 1, 31), 'cost': '499.5'}, {'date': datetime.date(1983, 2, 28), 'cost': '408.5'}, {'date': datetime.date(1983, 3, 31), 'cost': '414.75'}, {'date': datetime.date(1983, 4, 29), 'cost': '429.25'}, {'date': datetime.date(1983, 5, 31), 'cost': '437.5'}, {'date': datetime.date(1983, 6, 30), 'cost': '416'}, {'date': datetime.date(1983, 7, 29), 'cost': '422'}, {'date': datetime.date(1983, 8, 31), 'cost': '414.25'}, {'date': datetime.date(1983, 9, 30), 'cost': '405'}, {'date': datetime.date(1983, 10, 31), 'cost': '382'}, {'date': datetime.date(1983, 11, 30), 'cost': '405'}, {'date': datetime.date(1983, 12, 30), 'cost': '382.4'}, {'date': datetime.date(1984, 1, 31), 'cost': '373.75'}, {'date': datetime.date(1984, 2, 29), 'cost': '394.25'}, {'date': datetime.date(1984, 3, 30), 'cost': '388.5'}, {'date': datetime.date(1984, 4, 30), 'cost': '375.8'}, {'date': datetime.date(1984, 5, 31), 'cost': '384.25'}, {'date': datetime.date(1984, 6, 29), 'cost': '373.05'}, {'date': datetime.date(1984, 7, 31), 'cost': '342.35'}, {'date': datetime.date(1984, 8, 31), 'cost': '348.25'}, {'date': datetime.date(1984, 9, 28), 'cost': '343.75'}, {'date': datetime.date(1984, 10, 31), 'cost': '333.5'}, {'date': datetime.date(1984, 11, 30), 'cost': '329'}, {'date': datetime.date(1984, 12, 31), 'cost': '308.3'}, {'date': datetime.date(1985, 1, 31), 'cost': '306.65'}, {'date': datetime.date(1985, 2, 28), 'cost': '287.75'}, {'date': datetime.date(1985, 3, 29), 'cost': '329.25'}, {'date': datetime.date(1985, 4, 30), 'cost': '321.35'}, {'date': datetime.date(1985, 5, 31), 'cost': '314'}, {'date': datetime.date(1985, 6, 28), 'cost': '317.75'}, {'date': datetime.date(1985, 7, 31), 'cost': '327.5'}, {'date': datetime.date(1985, 8, 30), 'cost': '333.25'}, {'date': datetime.date(1985, 9, 30), 'cost': '325.75'}, {'date': datetime.date(1985, 10, 31), 'cost': '325.1'}, {'date': datetime.date(1985, 11, 29), 'cost': '325.3'}, {'date': datetime.date(1985, 12, 31), 'cost': '326.8'}, {'date': datetime.date(1986, 1, 31), 'cost': '350.5'}, {'date': datetime.date(1986, 2, 28), 'cost': '338.15'}, {'date': datetime.date(1986, 3, 31), 'cost': '344'}, {'date': datetime.date(1986, 4, 30), 'cost': '345.75'}, {'date': datetime.date(1986, 5, 30), 'cost': '343.2'}, {'date': datetime.date(1986, 6, 30), 'cost': '346.75'}, {'date': datetime.date(1986, 7, 31), 'cost': '357.5'}, {'date': datetime.date(1986, 8, 29), 'cost': '384.7'}, {'date': datetime.date(1986, 9, 30), 'cost': '423.2'}, {'date': datetime.date(1986, 10, 31), 'cost': '401'}, {'date': datetime.date(1986, 11, 28), 'cost': '389.5'}, {'date': datetime.date(1986, 12, 31), 'cost': '388.75'}, {'date': datetime.date(1987, 1, 30), 'cost': '400.5'}, {'date': datetime.date(1987, 2, 27), 'cost': '405.85'}, {'date': datetime.date(1987, 3, 31), 'cost': '421'}, {'date': datetime.date(1987, 4, 30), 'cost': '453.25'}, {'date': datetime.date(1987, 5, 29), 'cost': '451'}, {'date': datetime.date(1987, 6, 30), 'cost': '447.3'}, {'date': datetime.date(1987, 7, 31), 'cost': '462.5'}, {'date': datetime.date(1987, 8, 31), 'cost': '453.4'}, {'date': datetime.date(1987, 9, 30), 'cost': '459.5'}, {'date': datetime.date(1987, 10, 30), 'cost': '468.8'}, {'date': datetime.date(1987, 11, 30), 'cost': '492.5'}, {'date': datetime.date(1987, 12, 31), 'cost': '484.1'}, {'date': datetime.date(1988, 1, 29), 'cost': '458'}, {'date': datetime.date(1988, 2, 29), 'cost': '426.15'}, {'date': datetime.date(1988, 3, 31), 'cost': '456.95'}, {'date': datetime.date(1988, 4, 29), 'cost': '449'}, {'date': datetime.date(1988, 5, 31), 'cost': '455.5'}, {'date': datetime.date(1988, 6, 30), 'cost': '436.55'}, {'date': datetime.date(1988, 7, 29), 'cost': '436.8'}, {'date': datetime.date(1988, 8, 31), 'cost': '427.75'}, {'date': datetime.date(1988, 9, 30), 'cost': '396.7'}, {'date': datetime.date(1988, 10, 31), 'cost': '412.4'}, {'date': datetime.date(1988, 11, 30), 'cost': '422.6'}, {'date': datetime.date(1988, 12, 30), 'cost': '410.25'}, {'date': datetime.date(1989, 1, 31), 'cost': '394'}, {'date': datetime.date(1989, 2, 28), 'cost': '387'}, {'date': datetime.date(1989, 3, 31), 'cost': '383.2'}, {'date': datetime.date(1989, 4, 28), 'cost': '377.55'}, {'date': datetime.date(1989, 5, 31), 'cost': '361.8'}, {'date': datetime.date(1989, 6, 30), 'cost': '373'}, {'date': datetime.date(1989, 7, 31), 'cost': '368.3'}, {'date': datetime.date(1989, 8, 31), 'cost': '359.8'}, {'date': datetime.date(1989, 9, 29), 'cost': '366.5'}, {'date': datetime.date(1989, 10, 31), 'cost': '375.3'}, {'date': datetime.date(1989, 11, 30), 'cost': '408.15'}, {'date': datetime.date(1989, 12, 29), 'cost': '398.6'}, {'date': datetime.date(1990, 1, 31), 'cost': '415.05'}, {'date': datetime.date(1990, 2, 28), 'cost': '407.7'}, {'date': datetime.date(1990, 3, 30), 'cost': '368.5'}, {'date': datetime.date(1990, 4, 30), 'cost': '367.75'}, {'date': datetime.date(1990, 5, 31), 'cost': '363.05'}, {'date': datetime.date(1990, 6, 29), 'cost': '352.2'}, {'date': datetime.date(1990, 7, 31), 'cost': '372.3'}, {'date': datetime.date(1990, 8, 31), 'cost': '387.75'}, {'date': datetime.date(1990, 9, 28), 'cost': '408.4'}, {'date': datetime.date(1990, 10, 31), 'cost': '379.5'}, {'date': datetime.date(1990, 11, 30), 'cost': '384.85'}, {'date': datetime.date(1990, 12, 31), 'cost': '386.2'}, {'date': datetime.date(1991, 1, 31), 'cost': '366'}, {'date': datetime.date(1991, 2, 28), 'cost': '362.7'}, {'date': datetime.date(1991, 3, 29), 'cost': '355.65'}, {'date': datetime.date(1991, 4, 30), 'cost': '357.75'}, {'date': datetime.date(1991, 5, 31), 'cost': '360.4'}, {'date': datetime.date(1991, 6, 28), 'cost': '368.35'}, {'date': datetime.date(1991, 7, 31), 'cost': '362.85'}, {'date': datetime.date(1991, 8, 30), 'cost': '347.4'}, {'date': datetime.date(1991, 9, 30), 'cost': '354.9'}, {'date': datetime.date(1991, 10, 31), 'cost': '357.45'}, {'date': datetime.date(1991, 11, 29), 'cost': '366.3'}, {'date': datetime.date(1991, 12, 31), 'cost': '353.15'}, {'date': datetime.date(1992, 1, 31), 'cost': '354.1'}, {'date': datetime.date(1992, 2, 28), 'cost': '353.1'}, {'date': datetime.date(1992, 3, 31), 'cost': '341.7'}, {'date': datetime.date(1992, 4, 30), 'cost': '336.35'}, {'date': datetime.date(1992, 5, 29), 'cost': '337.5'}, {'date': datetime.date(1992, 6, 30), 'cost': '343.4'}, {'date': datetime.date(1992, 7, 31), 'cost': '357.85'}, {'date': datetime.date(1992, 8, 31), 'cost': '340'}, {'date': datetime.date(1992, 9, 30), 'cost': '349'}, {'date': datetime.date(1992, 10, 30), 'cost': '339.25'}, {'date': datetime.date(1992, 11, 30), 'cost': '334.2'}, {'date': datetime.date(1992, 12, 31), 'cost': '332.9'}, {'date': datetime.date(1993, 1, 29), 'cost': '330.45'}, {'date': datetime.date(1993, 2, 26), 'cost': '327.6'}, {'date': datetime.date(1993, 3, 31), 'cost': '337.8'}, {'date': datetime.date(1993, 4, 30), 'cost': '354.3'}, {'date': datetime.date(1993, 5, 31), 'cost': '377.45'}, {'date': datetime.date(1993, 6, 30), 'cost': '378.45'}, {'date': datetime.date(1993, 7, 30), 'cost': '401.75'}, {'date': datetime.date(1993, 8, 31), 'cost': '371.55'}, {'date': datetime.date(1993, 9, 30), 'cost': '355.5'}, {'date': datetime.date(1993, 10, 29), 'cost': '369.6'}, {'date': datetime.date(1993, 11, 30), 'cost': '370.9'}, {'date': datetime.date(1993, 12, 31), 'cost': '391.75'}, {'date': datetime.date(1994, 1, 31), 'cost': '377.9'}, {'date': datetime.date(1994, 2, 28), 'cost': '381.55'}, {'date': datetime.date(1994, 3, 31), 'cost': '389.2'}, {'date': datetime.date(1994, 4, 29), 'cost': '376.45'}, {'date': datetime.date(1994, 5, 31), 'cost': '387.6'}, {'date': datetime.date(1994, 6, 30), 'cost': '388.25'}, {'date': datetime.date(1994, 7, 29), 'cost': '384'}, {'date': datetime.date(1994, 8, 31), 'cost': '385.75'}, {'date': datetime.date(1994, 9, 30), 'cost': '394.85'}, {'date': datetime.date(1994, 10, 31), 'cost': '383.85'}, {'date': datetime.date(1994, 11, 30), 'cost': '383.1'}, {'date': datetime.date(1994, 12, 30), 'cost': '383.25'}, {'date': datetime.date(1995, 1, 31), 'cost': '374.9'}, {'date': datetime.date(1995, 2, 28), 'cost': '376.4'}, {'date': datetime.date(1995, 3, 31), 'cost': '392'}, {'date': datetime.date(1995, 4, 28), 'cost': '389.75'}, {'date': datetime.date(1995, 5, 31), 'cost': '384.3'}, {'date': datetime.date(1995, 6, 30), 'cost': '387.05'}, {'date': datetime.date(1995, 7, 31), 'cost': '383.35'}, {'date': datetime.date(1995, 8, 31), 'cost': '382.35'}, {'date': datetime.date(1995, 9, 29), 'cost': '384'}, {'date': datetime.date(1995, 10, 31), 'cost': '382.65'}, {'date': datetime.date(1995, 11, 30), 'cost': '387.8'}, {'date': datetime.date(1995, 12, 29), 'cost': '387'}, {'date': datetime.date(1996, 1, 31), 'cost': '405.55'}, {'date': datetime.date(1996, 2, 29), 'cost': '400.65'}, {'date': datetime.date(1996, 3, 29), 'cost': '396.35'}, {'date': datetime.date(1996, 4, 30), 'cost': '391.3'}, {'date': datetime.date(1996, 5, 31), 'cost': '390.55'}, {'date': datetime.date(1996, 6, 28), 'cost': '382'}, {'date': datetime.date(1996, 7, 31), 'cost': '385.3'}, {'date': datetime.date(1996, 8, 30), 'cost': '386.45'}, {'date': datetime.date(1996, 9, 30), 'cost': '379'}, {'date': datetime.date(1996, 10, 31), 'cost': '379.5'}, {'date': datetime.date(1996, 11, 29), 'cost': '371.3'}, {'date': datetime.date(1996, 12, 31), 'cost': '369.25'}, {'date': datetime.date(1997, 1, 31), 'cost': '345.5'}, {'date': datetime.date(1997, 2, 28), 'cost': '358.6'}, {'date': datetime.date(1997, 3, 31), 'cost': '348.15'}, {'date': datetime.date(1997, 4, 30), 'cost': '340.15'}, {'date': datetime.date(1997, 5, 30), 'cost': '345.6'}, {'date': datetime.date(1997, 6, 30), 'cost': '334.55'}, {'date': datetime.date(1997, 7, 31), 'cost': '326.35'}, {'date': datetime.date(1997, 8, 29), 'cost': '325.35'}, {'date': datetime.date(1997, 9, 30), 'cost': '332.1'}, {'date': datetime.date(1997, 10, 31), 'cost': '311.4'}, {'date': datetime.date(1997, 11, 28), 'cost': '296.8'}, {'date': datetime.date(1997, 12, 31), 'cost': '290.2'}, {'date': datetime.date(1998, 1, 30), 'cost': '304.85'}, {'date': datetime.date(1998, 2, 27), 'cost': '297.4'}, {'date': datetime.date(1998, 3, 31), 'cost': '301'}, {'date': datetime.date(1998, 4, 30), 'cost': '310.7'}, {'date': datetime.date(1998, 5, 29), 'cost': '293.6'}, {'date': datetime.date(1998, 6, 30), 'cost': '296.3'}, {'date': datetime.date(1998, 7, 31), 'cost': '288.85'}, {'date': datetime.date(1998, 8, 31), 'cost': '273.4'}, {'date': datetime.date(1998, 9, 30), 'cost': '293.85'}, {'date': datetime.date(1998, 10, 30), 'cost': '292.3'}, {'date': datetime.date(1998, 11, 30), 'cost': '294.7'}, {'date': datetime.date(1998, 12, 31), 'cost': '287.8'}, {'date': datetime.date(1999, 1, 29), 'cost': '285.4'}, {'date': datetime.date(1999, 2, 26), 'cost': '287.05'}, {'date': datetime.date(1999, 3, 31), 'cost': '279.45'}, {'date': datetime.date(1999, 4, 30), 'cost': '286.6'}, {'date': datetime.date(1999, 5, 31), 'cost': '268.6'}, {'date': datetime.date(1999, 6, 30), 'cost': '261'}, {'date': datetime.date(1999, 7, 30), 'cost': '255.6'}, {'date': datetime.date(1999, 8, 31), 'cost': '254.8'}, {'date': datetime.date(1999, 9, 30), 'cost': '299'}, {'date': datetime.date(1999, 10, 29), 'cost': '299.1'}, {'date': datetime.date(1999, 11, 30), 'cost': '291.35'}, {'date': datetime.date(1999, 12, 31), 'cost': '290.25'}, {'date': datetime.date(2000, 1, 31), 'cost': '283.3'}, {'date': datetime.date(2000, 2, 29), 'cost': '293.65'}, {'date': datetime.date(2000, 3, 31), 'cost': '276.75'}, {'date': datetime.date(2000, 4, 28), 'cost': '275.05'}, {'date': datetime.date(2000, 5, 31), 'cost': '272.25'}, {'date': datetime.date(2000, 6, 30), 'cost': '288.15'}, {'date': datetime.date(2000, 7, 31), 'cost': '276.75'}, {'date': datetime.date(2000, 8, 31), 'cost': '277'}, {'date': datetime.date(2000, 9, 29), 'cost': '273.65'}, {'date': datetime.date(2000, 10, 31), 'cost': '264.5'}, {'date': datetime.date(2000, 11, 30), 'cost': '269.1'}, {'date': datetime.date(2000, 12, 29), 'cost': '274.45'}, {'date': datetime.date(2001, 1, 31), 'cost': '264.5'}, {'date': datetime.date(2001, 2, 28), 'cost': '266.7'}, {'date': datetime.date(2001, 3, 30), 'cost': '257.7'}, {'date': datetime.date(2001, 4, 30), 'cost': '263.15'}, {'date': datetime.date(2001, 5, 31), 'cost': '267.5'}, {'date': datetime.date(2001, 6, 29), 'cost': '270.6'}, {'date': datetime.date(2001, 7, 31), 'cost': '265.9'}, {'date': datetime.date(2001, 8, 31), 'cost': '273'}, {'date': datetime.date(2001, 9, 28), 'cost': '293.1'}, {'date': datetime.date(2001, 10, 31), 'cost': '278.75'}, {'date': datetime.date(2001, 11, 30), 'cost': '275.5'}, {'date': datetime.date(2001, 12, 31), 'cost': '276.5'}, {'date': datetime.date(2002, 1, 31), 'cost': '282.3'}, {'date': datetime.date(2002, 2, 28), 'cost': '296.85'}, {'date': datetime.date(2002, 3, 29), 'cost': '301.4'}, {'date': datetime.date(2002, 4, 30), 'cost': '308.2'}, {'date': datetime.date(2002, 5, 31), 'cost': '326.6'}, {'date': datetime.date(2002, 6, 28), 'cost': '318.5'}, {'date': datetime.date(2002, 7, 31), 'cost': '304.65'}, {'date': datetime.date(2002, 8, 30), 'cost': '312.8'}, {'date': datetime.date(2002, 9, 30), 'cost': '323.7'}, {'date': datetime.date(2002, 10, 31), 'cost': '316.9'}, {'date': datetime.date(2002, 11, 29), 'cost': '319.05'}, {'date': datetime.date(2002, 12, 31), 'cost': '347.2'}, {'date': datetime.date(2003, 1, 31), 'cost': '367.5'}, {'date': datetime.date(2003, 2, 28), 'cost': '347.45'}, {'date': datetime.date(2003, 3, 31), 'cost': '334.85'}, {'date': datetime.date(2003, 4, 30), 'cost': '336.75'}, {'date': datetime.date(2003, 5, 30), 'cost': '361.4'}, {'date': datetime.date(2003, 6, 30), 'cost': '346'}, {'date': datetime.date(2003, 7, 31), 'cost': '354.75'}, {'date': datetime.date(2003, 8, 29), 'cost': '375.6'}, {'date': datetime.date(2003, 9, 30), 'cost': '388'}, {'date': datetime.date(2003, 10, 31), 'cost': '386.25'}, {'date': datetime.date(2003, 11, 28), 'cost': '398.35'}, {'date': datetime.date(2003, 12, 31), 'cost': '416.25'}, {'date': datetime.date(2004, 1, 30), 'cost': '399.75'}, {'date': datetime.date(2004, 2, 27), 'cost': '395.85'}, {'date': datetime.date(2004, 3, 31), 'cost': '423.7'}, {'date': datetime.date(2004, 4, 30), 'cost': '388.5'}, {'date': datetime.date(2004, 5, 31), 'cost': '393.25'}, {'date': datetime.date(2004, 6, 30), 'cost': '395.8'}, {'date': datetime.date(2004, 7, 30), 'cost': '391.4'}, {'date': datetime.date(2004, 8, 31), 'cost': '407.25'}, {'date': datetime.date(2004, 9, 30), 'cost': '415.65'}, {'date': datetime.date(2004, 10, 29), 'cost': '425.55'}, {'date': datetime.date(2004, 11, 30), 'cost': '453.4'}, {'date': datetime.date(2004, 12, 31), 'cost': '435.6'}, {'date': datetime.date(2005, 1, 31), 'cost': '422.15'}, {'date': datetime.date(2005, 2, 28), 'cost': '435.45'}, {'date': datetime.date(2005, 3, 31), 'cost': '427.5'}, {'date': datetime.date(2005, 4, 29), 'cost': '435.7'}, {'date': datetime.date(2005, 5, 31), 'cost': '414.45'}, {'date': datetime.date(2005, 6, 30), 'cost': '437.1'}, {'date': datetime.date(2005, 7, 29), 'cost': '429'}, {'date': datetime.date(2005, 8, 31), 'cost': '433.25'}, {'date': datetime.date(2005, 9, 30), 'cost': '473.25'}, {'date': datetime.date(2005, 10, 31), 'cost': '470.75'}, {'date': datetime.date(2005, 11, 30), 'cost': '495.65'}, {'date': datetime.date(2005, 12, 30), 'cost': '513'}, {'date': datetime.date(2006, 1, 31), 'cost': '568.75'}, {'date': datetime.date(2006, 2, 28), 'cost': '556'}, {'date': datetime.date(2006, 3, 31), 'cost': '582'}, {'date': datetime.date(2006, 4, 28), 'cost': '644'}, {'date': datetime.date(2006, 5, 31), 'cost': '653'}, {'date': datetime.date(2006, 6, 30), 'cost': '613.5'}, {'date': datetime.date(2006, 7, 31), 'cost': '632.5'}, {'date': datetime.date(2006, 8, 31), 'cost': '623.5'}, {'date': datetime.date(2006, 9, 29), 'cost': '599.25'}, {'date': datetime.date(2006, 10, 31), 'cost': '603.75'}, {'date': datetime.date(2006, 11, 30), 'cost': '646.7'}, {'date': datetime.date(2006, 12, 29), 'cost': '632'}, {'date': datetime.date(2007, 1, 31), 'cost': '650.5'}, {'date': datetime.date(2007, 2, 28), 'cost': '664.2'}, {'date': datetime.date(2007, 3, 30), 'cost': '661.75'}, {'date': datetime.date(2007, 4, 30), 'cost': '677'}, {'date': datetime.date(2007, 5, 31), 'cost': '659.1'}, {'date': datetime.date(2007, 6, 29), 'cost': '650.5'}, {'date': datetime.date(2007, 7, 31), 'cost': '665.5'}, {'date': datetime.date(2007, 8, 31), 'cost': '672'}, {'date': datetime.date(2007, 9, 28), 'cost': '743'}, {'date': datetime.date(2007, 10, 31), 'cost': '789.5'}, {'date': datetime.date(2007, 11, 30), 'cost': '783.5'}, {'date': datetime.date(2007, 12, 31), 'cost': '833.75'}, {'date': datetime.date(2008, 1, 31), 'cost': '923.25'}, {'date': datetime.date(2008, 2, 29), 'cost': '971.5'}, {'date': datetime.date(2008, 3, 31), 'cost': '933.5'}, {'date': datetime.date(2008, 4, 30), 'cost': '871'}, {'date': datetime.date(2008, 5, 30), 'cost': '885.75'}, {'date': datetime.date(2008, 6, 30), 'cost': '930.25'}, {'date': datetime.date(2008, 7, 31), 'cost': '918'}, {'date': datetime.date(2008, 8, 29), 'cost': '833'}, {'date': datetime.date(2008, 9, 30), 'cost': '884.5'}, {'date': datetime.date(2008, 10, 31), 'cost': '730.75'}, {'date': datetime.date(2008, 11, 28), 'cost': '814.5'}, {'date': datetime.date(2008, 12, 31), 'cost': '869.75'}, {'date': datetime.date(2009, 1, 30), 'cost': '919.5'}, {'date': datetime.date(2009, 2, 27), 'cost': '952'}, {'date': datetime.date(2009, 3, 31), 'cost': '916.5'}, {'date': datetime.date(2009, 4, 30), 'cost': '883.25'}, {'date': datetime.date(2009, 5, 29), 'cost': '975.5'}, {'date': datetime.date(2009, 6, 30), 'cost': '934.5'}, {'date': datetime.date(2009, 7, 31), 'cost': '939'}, {'date': datetime.date(2009, 8, 31), 'cost': '955.5'}, {'date': datetime.date(2009, 9, 30), 'cost': '995.75'}, {'date': datetime.date(2009, 10, 30), 'cost': '1040'}, {'date': datetime.date(2009, 11, 30), 'cost': '1175.75'}, {'date': datetime.date(2009, 12, 31), 'cost': '1087.5'}, {'date': datetime.date(2010, 1, 29), 'cost': '1078.5'}, {'date': datetime.date(2010, 2, 26), 'cost': '1108.25'}, {'date': datetime.date(2010, 3, 31), 'cost': '1115.5'}, {'date': datetime.date(2010, 4, 30), 'cost': '1179.25'}, {'date': datetime.date(2010, 5, 31), 'cost': '1207.5'}, {'date': datetime.date(2010, 6, 30), 'cost': '1244'}, {'date': datetime.date(2010, 7, 30), 'cost': '1169'}, {'date': datetime.date(2010, 8, 31), 'cost': '1246'}, {'date': datetime.date(2010, 9, 30), 'cost': '1307'}, {'date': datetime.date(2010, 10, 29), 'cost': '1346.75'}, {'date': datetime.date(2010, 11, 30), 'cost': '1383.5'}, {'date': datetime.date(2010, 12, 31), 'cost': '1405.5'}, {'date': datetime.date(2011, 1, 31), 'cost': '1327'}, {'date': datetime.date(2011, 2, 28), 'cost': '1411'}, {'date': datetime.date(2011, 3, 31), 'cost': '1439'}, {'date': datetime.date(2011, 4, 29), 'cost': '1535.5'}, {'date': datetime.date(2011, 5, 31), 'cost': '1536.5'}, {'date': datetime.date(2011, 6, 30), 'cost': '1505.5'}, {'date': datetime.date(2011, 7, 29), 'cost': '1628.5'}, {'date': datetime.date(2011, 8, 31), 'cost': '1813.5'}, {'date': datetime.date(2011, 9, 30), 'cost': '1620'}, {'date': datetime.date(2011, 10, 31), 'cost': '1722'}, {'date': datetime.date(2011, 11, 30), 'cost': '1746'}, {'date': datetime.date(2011, 12, 30), 'cost': '1531'}, {'date': datetime.date(2012, 1, 31), 'cost': '1744'}, {'date': datetime.date(2012, 2, 29), 'cost': '1770'}, {'date': datetime.date(2012, 3, 30), 'cost': '1662.5'}, {'date': datetime.date(2012, 4, 30), 'cost': '1651.25'}, {'date': datetime.date(2012, 5, 31), 'cost': '1558'}, {'date': datetime.date(2012, 6, 29), 'cost': '1598.5'}, {'date': datetime.date(2012, 7, 31), 'cost': '1622'}, {'date': datetime.date(2012, 8, 31), 'cost': '1648.5'}, {'date': datetime.date(2012, 9, 28), 'cost': '1776'}, {'date': datetime.date(2012, 10, 31), 'cost': '1719'}, {'date': datetime.date(2012, 11, 30), 'cost': '1726'}, {'date': datetime.date(2012, 12, 31), 'cost': '1657.5'}, {'date': datetime.date(2013, 1, 31), 'cost': '1664.75'}, {'date': datetime.date(2013, 2, 28), 'cost': '1588.5'}, {'date': datetime.date(2013, 3, 29), 'cost': '1598.25'}, {'date': datetime.date(2013, 4, 30), 'cost': '1469'}, {'date': datetime.date(2013, 5, 31), 'cost': '1394.5'}, {'date': datetime.date(2013, 6, 28), 'cost': '1192'}, {'date': datetime.date(2013, 7, 31), 'cost': '1314.5'}, {'date': datetime.date(2013, 8, 30), 'cost': '1394.75'}, {'date': datetime.date(2013, 9, 30), 'cost': '1326.5'}, {'date': datetime.date(2013, 10, 31), 'cost': '1324'}, {'date': datetime.date(2013, 11, 29), 'cost': '1253'}, {'date': datetime.date(2013, 12, 31), 'cost': '1204.5'}, {'date': datetime.date(2014, 1, 31), 'cost': '1251'}, {'date': datetime.date(2014, 2, 28), 'cost': '1326.5'}, {'date': datetime.date(2014, 3, 31), 'cost': '1291.75'}, {'date': datetime.date(2014, 4, 30), 'cost': '1288.5'}, {'date': datetime.date(2014, 5, 30), 'cost': '1250.5'}, {'date': datetime.date(2014, 6, 30), 'cost': '1315'}, {'date': datetime.date(2014, 7, 31), 'cost': '1285.25'}, {'date': datetime.date(2014, 8, 29), 'cost': '1285.75'}, {'date': datetime.date(2014, 9, 30), 'cost': '1216.5'}, {'date': datetime.date(2014, 10, 31), 'cost': '1164.25'}, {'date': datetime.date(2014, 11, 28), 'cost': '1182.75'}, {'date': datetime.date(2014, 12, 31), 'cost': '1206'}, {'date': datetime.date(2015, 1, 30), 'cost': '1260.25'}, {'date': datetime.date(2015, 2, 27), 'cost': '1214'}, {'date': datetime.date(2015, 3, 31), 'cost': '1187'}, {'date': datetime.date(2015, 4, 30), 'cost': '1180.25'}, {'date': datetime.date(2015, 5, 29), 'cost': '1191.4'}, {'date': datetime.date(2015, 6, 30), 'cost': '1171'}, {'date': datetime.date(2015, 7, 31), 'cost': '1098.4'}, {'date': datetime.date(2015, 8, 31), 'cost': '1135'}, {'date': datetime.date(2015, 9, 30), 'cost': '1114'}, {'date': datetime.date(2015, 10, 30), 'cost': '1142.35'}, {'date': datetime.date(2015, 11, 30), 'cost': '1061.9'}, {'date': datetime.date(2015, 12, 31), 'cost': '1060'}, {'date': datetime.date(2016, 1, 29), 'cost': '1111.8'}, {'date': datetime.date(2016, 2, 29), 'cost': '1234.9'}, {'date': datetime.date(2016, 3, 31), 'cost': '1237'}, {'date': datetime.date(2016, 4, 29), 'cost': '1285.65'}, {'date': datetime.date(2016, 5, 31), 'cost': '1212.1'}, {'date': datetime.date(2016, 6, 30), 'cost': '1320.75'}, {'date': datetime.date(2016, 7, 29), 'cost': '1342'}, {'date': datetime.date(2016, 8, 31), 'cost': '1309.25'}, {'date': datetime.date(2016, 9, 30), 'cost': '1322.5'}, {'date': datetime.date(2016, 10, 31), 'cost': '1272'}, {'date': datetime.date(2016, 11, 30), 'cost': '1178.1'}, {'date': datetime.date(2016, 12, 30), 'cost': '1145.9'}, {'date': datetime.date(2017, 1, 31), 'cost': '1212.8'}, {'date': datetime.date(2017, 2, 28), 'cost': '1255.6'}, {'date': datetime.date(2017, 3, 31), 'cost': '1244.85'}, {'date': datetime.date(2017, 4, 28), 'cost': '1266.45'}, {'date': datetime.date(2017, 5, 31), 'cost': '1266.2'}, {'date': datetime.date(2017, 6, 30), 'cost': '1242.25'}, {'date': datetime.date(2017, 7, 31), 'cost': '1267.55'}, {'date': datetime.date(2017, 8, 31), 'cost': '1311.75'}, {'date': datetime.date(2017, 9, 29), 'cost': '1283.1'}, {'date': datetime.date(2017, 10, 31), 'cost': '1270.15'}, {'date': datetime.date(2017, 11, 30), 'cost': '1280.2'}, {'date': datetime.date(2017, 12, 29), 'cost': '1291'}, {'date': datetime.date(2018, 1, 31), 'cost': '1345.05'}, {'date': datetime.date(2018, 2, 28), 'cost': '1317.85'}, {'date': datetime.date(2018, 3, 30), 'cost': '1323.85'}, {'date': datetime.date(2018, 4, 30), 'cost': '1313.2'}, {'date': datetime.date(2018, 5, 31), 'cost': '1305.35'}, {'date': datetime.date(2018, 6, 29), 'cost': '1250.45'}, {'date': datetime.date(2018, 7, 31), 'cost': '1220.95'}, {'date': datetime.date(2018, 8, 31), 'cost': '1202.45'}, {'date': datetime.date(2018, 9, 28), 'cost': '1187.25'}, {'date': datetime.date(2018, 10, 31), 'cost': '1214.95'}, {'date': datetime.date(2018, 11, 30), 'cost': '1217.55'}, {'date': datetime.date(2018, 12, 31), 'cost': '1279'}, {'date': datetime.date(2019, 1, 31), 'cost': '1323.25'}, {'date': datetime.date(2019, 2, 28), 'cost': '1319.15'}, {'date': datetime.date(2019, 3, 29), 'cost': '1295.4'}, {'date': datetime.date(2019, 4, 30), 'cost': '1282.3'}, {'date': datetime.date(2019, 5, 31), 'cost': '1295.55'}, {'date': datetime.date(2019, 6, 28), 'cost': '1409'}, {'date': datetime.date(2019, 7, 31), 'cost': '1427.55'}, {'date': datetime.date(2019, 8, 30), 'cost': '1528.4'}, {'date': datetime.date(2019, 9, 30), 'cost': '1485.3'}, {'date': datetime.date(2019, 10, 31), 'cost': '1510.95'}, {'date': datetime.date(2019, 11, 29), 'cost': '1460.15'}, {'date': datetime.date(2019, 12, 31), 'cost': '1514.75'}, {'date': datetime.date(2020, 1, 31), 'cost': '1584.2'}, {'date': datetime.date(2020, 2, 28), 'cost': '1609.85'}, {'date': datetime.date(2020, 3, 31), 'cost': '1608.95'}, {'date': datetime.date(2020, 4, 30), 'cost': '1702.75'}, {'date': datetime.date(2020, 5, 29), 'cost': '1728.7'}, {'date': datetime.date(2020, 6, 30), 'cost': '1768.1'}, {'date': datetime.date(2020, 7, 31), 'cost': '1964.9'}, {'date': datetime.date(2020, 8, 31), 'cost': '1957.35'}, {'date': datetime.date(2020, 9, 30), 'cost': '1886.9'}, {'date': datetime.date(2020, 10, 30), 'cost': '1881.85'}, {'date': datetime.date(2020, 11, 30), 'cost': '1762.55'}, {'date': datetime.date(2020, 12, 31), 'cost': '1887.6'}, {'date': datetime.date(2021, 1, 29), 'cost': '1863.8'}, {'date': datetime.date(2021, 2, 26), 'cost': '1742.85'}, {'date': datetime.date(2021, 3, 31), 'cost': '1691.05'}, {'date': datetime.date(2021, 4, 30), 'cost': '1767.65'}, {'date': datetime.date(2021, 5, 31), 'cost': '1899.95'}, {'date': datetime.date(2021, 6, 30), 'cost': '1763.15'}, {'date': datetime.date(2021, 7, 30), 'cost': '1825.75'}, {'date': datetime.date(2021, 8, 31), 'cost': '1814.85'}, {'date': datetime.date(2021, 9, 30), 'cost': '1742.8'}, {'date': datetime.date(2021, 10, 29), 'cost': '1769.15'}, {'date': datetime.date(2021, 11, 30), 'cost': '1804.4'}, {'date': datetime.date(2021, 12, 31), 'cost': '1805.85'}, {'date': datetime.date(2022, 1, 31), 'cost': '1795.25'}, {'date': datetime.date(2022, 2, 28), 'cost': '1909.85'}]\n"
     ]
    }
   ],
   "source": [
    "\n",
    "from datetime import datetime\n",
    "f=open(\"gold-prices.csv\",\"r\")\n",
    "f.readline()\n",
    "data=[]\n",
    "for row in f:\n",
    "    date_str,money,*_=row.split(\",\")\n",
    "    date_date = datetime.strptime(date_str,\"%m/%d/%Y\").date()\n",
    "    data.append({\"date\":date_date,\"cost\":money})\n",
    "print(data)"
   ]
  },
  {
   "cell_type": "code",
   "execution_count": 8,
   "metadata": {},
   "outputs": [
    {
     "name": "stdout",
     "output_type": "stream",
     "text": [
      "[{'date': datetime.date(1969, 12, 31), 'cost': 35.2}, {'date': datetime.date(1970, 1, 30), 'cost': 34.99}, {'date': datetime.date(1970, 2, 27), 'cost': 35.02}, {'date': datetime.date(1970, 3, 31), 'cost': 35.3}, {'date': datetime.date(1970, 4, 30), 'cost': 35.85}, {'date': datetime.date(1970, 5, 29), 'cost': 35.45}, {'date': datetime.date(1970, 6, 30), 'cost': 35.49}, {'date': datetime.date(1970, 7, 31), 'cost': 35.3}, {'date': datetime.date(1970, 8, 31), 'cost': 35.8}, {'date': datetime.date(1970, 9, 30), 'cost': 36.4}, {'date': datetime.date(1970, 10, 30), 'cost': 37.25}, {'date': datetime.date(1970, 11, 30), 'cost': 37.54}, {'date': datetime.date(1970, 12, 31), 'cost': 37.38}, {'date': datetime.date(1971, 1, 29), 'cost': 38.05}, {'date': datetime.date(1971, 2, 26), 'cost': 38.8}, {'date': datetime.date(1971, 3, 31), 'cost': 38.88}, {'date': datetime.date(1971, 4, 30), 'cost': 39.7}, {'date': datetime.date(1971, 5, 31), 'cost': 40.84}, {'date': datetime.date(1971, 6, 30), 'cost': 40.1}, {'date': datetime.date(1971, 7, 30), 'cost': 42.4}, {'date': datetime.date(1971, 8, 31), 'cost': 40.65}, {'date': datetime.date(1971, 9, 30), 'cost': 42.6}, {'date': datetime.date(1971, 10, 29), 'cost': 42.34}, {'date': datetime.date(1971, 11, 30), 'cost': 43.6}, {'date': datetime.date(1971, 12, 31), 'cost': 43.55}, {'date': datetime.date(1972, 1, 31), 'cost': 47.15}, {'date': datetime.date(1972, 2, 29), 'cost': 48.2}, {'date': datetime.date(1972, 3, 31), 'cost': 48.38}, {'date': datetime.date(1972, 4, 28), 'cost': 49.6}, {'date': datetime.date(1972, 5, 31), 'cost': 59.45}, {'date': datetime.date(1972, 6, 30), 'cost': 64.65}, {'date': datetime.date(1972, 7, 31), 'cost': 68.3}, {'date': datetime.date(1972, 8, 31), 'cost': 66.88}, {'date': datetime.date(1972, 9, 29), 'cost': 64.2}, {'date': datetime.date(1972, 10, 31), 'cost': 64.39}, {'date': datetime.date(1972, 11, 30), 'cost': 63.6}, {'date': datetime.date(1972, 12, 29), 'cost': 64.9}, {'date': datetime.date(1973, 1, 31), 'cost': 66.0}, {'date': datetime.date(1973, 2, 28), 'cost': 85.0}, {'date': datetime.date(1973, 3, 30), 'cost': 90.0}, {'date': datetime.date(1973, 4, 30), 'cost': 90.72}, {'date': datetime.date(1973, 5, 31), 'cost': 114.75}, {'date': datetime.date(1973, 6, 29), 'cost': 123.25}, {'date': datetime.date(1973, 7, 31), 'cost': 115.6}, {'date': datetime.date(1973, 8, 31), 'cost': 103.5}, {'date': datetime.date(1973, 9, 28), 'cost': 100.0}, {'date': datetime.date(1973, 10, 31), 'cost': 98.0}, {'date': datetime.date(1973, 11, 30), 'cost': 101.0}, {'date': datetime.date(1973, 12, 31), 'cost': 112.25}, {'date': datetime.date(1974, 1, 31), 'cost': 132.5}, {'date': datetime.date(1974, 2, 28), 'cost': 162.5}, {'date': datetime.date(1974, 3, 29), 'cost': 173.0}, {'date': datetime.date(1974, 4, 30), 'cost': 169.25}, {'date': datetime.date(1974, 5, 31), 'cost': 156.75}, {'date': datetime.date(1974, 6, 28), 'cost': 144.25}, {'date': datetime.date(1974, 7, 31), 'cost': 156.0}, {'date': datetime.date(1974, 8, 30), 'cost': 156.0}, {'date': datetime.date(1974, 9, 30), 'cost': 151.25}, {'date': datetime.date(1974, 10, 31), 'cost': 167.0}, {'date': datetime.date(1974, 11, 29), 'cost': 184.0}, {'date': datetime.date(1974, 12, 31), 'cost': 186.5}, {'date': datetime.date(1975, 1, 31), 'cost': 175.8}, {'date': datetime.date(1975, 2, 28), 'cost': 181.75}, {'date': datetime.date(1975, 3, 31), 'cost': 177.25}, {'date': datetime.date(1975, 4, 30), 'cost': 167.0}, {'date': datetime.date(1975, 5, 30), 'cost': 167.0}, {'date': datetime.date(1975, 6, 30), 'cost': 166.25}, {'date': datetime.date(1975, 7, 31), 'cost': 166.7}, {'date': datetime.date(1975, 8, 29), 'cost': 159.8}, {'date': datetime.date(1975, 9, 30), 'cost': 141.25}, {'date': datetime.date(1975, 10, 31), 'cost': 142.9}, {'date': datetime.date(1975, 11, 28), 'cost': 138.15}, {'date': datetime.date(1975, 12, 31), 'cost': 140.25}, {'date': datetime.date(1976, 1, 30), 'cost': 128.15}, {'date': datetime.date(1976, 2, 27), 'cost': 132.3}, {'date': datetime.date(1976, 3, 31), 'cost': 129.6}, {'date': datetime.date(1976, 4, 30), 'cost': 128.4}, {'date': datetime.date(1976, 5, 31), 'cost': 125.5}, {'date': datetime.date(1976, 6, 30), 'cost': 123.8}, {'date': datetime.date(1976, 7, 30), 'cost': 112.5}, {'date': datetime.date(1976, 8, 31), 'cost': 104.0}, {'date': datetime.date(1976, 9, 30), 'cost': 116.0}, {'date': datetime.date(1976, 10, 29), 'cost': 123.15}, {'date': datetime.date(1976, 11, 30), 'cost': 130.25}, {'date': datetime.date(1976, 12, 31), 'cost': 134.5}, {'date': datetime.date(1977, 1, 31), 'cost': 132.3}, {'date': datetime.date(1977, 2, 28), 'cost': 142.75}, {'date': datetime.date(1977, 3, 31), 'cost': 148.9}, {'date': datetime.date(1977, 4, 29), 'cost': 147.25}, {'date': datetime.date(1977, 5, 31), 'cost': 142.95}, {'date': datetime.date(1977, 6, 30), 'cost': 143.0}, {'date': datetime.date(1977, 7, 29), 'cost': 144.1}, {'date': datetime.date(1977, 8, 31), 'cost': 146.0}, {'date': datetime.date(1977, 9, 30), 'cost': 154.05}, {'date': datetime.date(1977, 10, 31), 'cost': 161.5}, {'date': datetime.date(1977, 11, 30), 'cost': 160.05}, {'date': datetime.date(1977, 12, 30), 'cost': 164.95}, {'date': datetime.date(1978, 1, 31), 'cost': 175.75}, {'date': datetime.date(1978, 2, 28), 'cost': 182.25}, {'date': datetime.date(1978, 3, 31), 'cost': 181.6}, {'date': datetime.date(1978, 4, 28), 'cost': 170.85}, {'date': datetime.date(1978, 5, 31), 'cost': 184.15}, {'date': datetime.date(1978, 6, 30), 'cost': 183.05}, {'date': datetime.date(1978, 7, 31), 'cost': 200.25}, {'date': datetime.date(1978, 8, 31), 'cost': 208.7}, {'date': datetime.date(1978, 9, 29), 'cost': 217.1}, {'date': datetime.date(1978, 10, 31), 'cost': 242.6}, {'date': datetime.date(1978, 11, 30), 'cost': 193.4}, {'date': datetime.date(1978, 12, 29), 'cost': 226.0}, {'date': datetime.date(1979, 1, 31), 'cost': 233.7}, {'date': datetime.date(1979, 2, 28), 'cost': 251.3}, {'date': datetime.date(1979, 3, 30), 'cost': 240.1}, {'date': datetime.date(1979, 4, 30), 'cost': 245.3}, {'date': datetime.date(1979, 5, 31), 'cost': 274.6}, {'date': datetime.date(1979, 6, 29), 'cost': 277.5}, {'date': datetime.date(1979, 7, 31), 'cost': 296.45}, {'date': datetime.date(1979, 8, 31), 'cost': 315.1}, {'date': datetime.date(1979, 9, 28), 'cost': 397.25}, {'date': datetime.date(1979, 10, 31), 'cost': 382.0}, {'date': datetime.date(1979, 11, 30), 'cost': 415.65}, {'date': datetime.date(1979, 12, 31), 'cost': 512.0}, {'date': datetime.date(1980, 1, 31), 'cost': 653.0}, {'date': datetime.date(1980, 2, 29), 'cost': 637.0}, {'date': datetime.date(1980, 3, 31), 'cost': 494.5}, {'date': datetime.date(1980, 4, 30), 'cost': 518.0}, {'date': datetime.date(1980, 5, 30), 'cost': 535.5}, {'date': datetime.date(1980, 6, 30), 'cost': 653.5}, {'date': datetime.date(1980, 7, 31), 'cost': 614.25}, {'date': datetime.date(1980, 8, 29), 'cost': 631.25}, {'date': datetime.date(1980, 9, 30), 'cost': 666.75}, {'date': datetime.date(1980, 10, 31), 'cost': 629.0}, {'date': datetime.date(1980, 11, 28), 'cost': 619.75}, {'date': datetime.date(1980, 12, 31), 'cost': 589.75}, {'date': datetime.date(1981, 1, 30), 'cost': 506.5}, {'date': datetime.date(1981, 2, 27), 'cost': 489.0}, {'date': datetime.date(1981, 3, 31), 'cost': 513.75}, {'date': datetime.date(1981, 4, 30), 'cost': 482.75}, {'date': datetime.date(1981, 5, 29), 'cost': 479.25}, {'date': datetime.date(1981, 6, 30), 'cost': 426.0}, {'date': datetime.date(1981, 7, 31), 'cost': 406.0}, {'date': datetime.date(1981, 8, 31), 'cost': 425.0}, {'date': datetime.date(1981, 9, 30), 'cost': 428.75}, {'date': datetime.date(1981, 10, 30), 'cost': 427.0}, {'date': datetime.date(1981, 11, 30), 'cost': 414.5}, {'date': datetime.date(1981, 12, 31), 'cost': 397.5}, {'date': datetime.date(1982, 1, 29), 'cost': 387.0}, {'date': datetime.date(1982, 2, 26), 'cost': 362.6}, {'date': datetime.date(1982, 3, 31), 'cost': 320.0}, {'date': datetime.date(1982, 4, 30), 'cost': 361.25}, {'date': datetime.date(1982, 5, 31), 'cost': 325.25}, {'date': datetime.date(1982, 6, 30), 'cost': 317.5}, {'date': datetime.date(1982, 7, 30), 'cost': 342.9}, {'date': datetime.date(1982, 8, 31), 'cost': 411.5}, {'date': datetime.date(1982, 9, 30), 'cost': 397.0}, {'date': datetime.date(1982, 10, 29), 'cost': 423.25}, {'date': datetime.date(1982, 11, 30), 'cost': 436.0}, {'date': datetime.date(1982, 12, 31), 'cost': 456.9}, {'date': datetime.date(1983, 1, 31), 'cost': 499.5}, {'date': datetime.date(1983, 2, 28), 'cost': 408.5}, {'date': datetime.date(1983, 3, 31), 'cost': 414.75}, {'date': datetime.date(1983, 4, 29), 'cost': 429.25}, {'date': datetime.date(1983, 5, 31), 'cost': 437.5}, {'date': datetime.date(1983, 6, 30), 'cost': 416.0}, {'date': datetime.date(1983, 7, 29), 'cost': 422.0}, {'date': datetime.date(1983, 8, 31), 'cost': 414.25}, {'date': datetime.date(1983, 9, 30), 'cost': 405.0}, {'date': datetime.date(1983, 10, 31), 'cost': 382.0}, {'date': datetime.date(1983, 11, 30), 'cost': 405.0}, {'date': datetime.date(1983, 12, 30), 'cost': 382.4}, {'date': datetime.date(1984, 1, 31), 'cost': 373.75}, {'date': datetime.date(1984, 2, 29), 'cost': 394.25}, {'date': datetime.date(1984, 3, 30), 'cost': 388.5}, {'date': datetime.date(1984, 4, 30), 'cost': 375.8}, {'date': datetime.date(1984, 5, 31), 'cost': 384.25}, {'date': datetime.date(1984, 6, 29), 'cost': 373.05}, {'date': datetime.date(1984, 7, 31), 'cost': 342.35}, {'date': datetime.date(1984, 8, 31), 'cost': 348.25}, {'date': datetime.date(1984, 9, 28), 'cost': 343.75}, {'date': datetime.date(1984, 10, 31), 'cost': 333.5}, {'date': datetime.date(1984, 11, 30), 'cost': 329.0}, {'date': datetime.date(1984, 12, 31), 'cost': 308.3}, {'date': datetime.date(1985, 1, 31), 'cost': 306.65}, {'date': datetime.date(1985, 2, 28), 'cost': 287.75}, {'date': datetime.date(1985, 3, 29), 'cost': 329.25}, {'date': datetime.date(1985, 4, 30), 'cost': 321.35}, {'date': datetime.date(1985, 5, 31), 'cost': 314.0}, {'date': datetime.date(1985, 6, 28), 'cost': 317.75}, {'date': datetime.date(1985, 7, 31), 'cost': 327.5}, {'date': datetime.date(1985, 8, 30), 'cost': 333.25}, {'date': datetime.date(1985, 9, 30), 'cost': 325.75}, {'date': datetime.date(1985, 10, 31), 'cost': 325.1}, {'date': datetime.date(1985, 11, 29), 'cost': 325.3}, {'date': datetime.date(1985, 12, 31), 'cost': 326.8}, {'date': datetime.date(1986, 1, 31), 'cost': 350.5}, {'date': datetime.date(1986, 2, 28), 'cost': 338.15}, {'date': datetime.date(1986, 3, 31), 'cost': 344.0}, {'date': datetime.date(1986, 4, 30), 'cost': 345.75}, {'date': datetime.date(1986, 5, 30), 'cost': 343.2}, {'date': datetime.date(1986, 6, 30), 'cost': 346.75}, {'date': datetime.date(1986, 7, 31), 'cost': 357.5}, {'date': datetime.date(1986, 8, 29), 'cost': 384.7}, {'date': datetime.date(1986, 9, 30), 'cost': 423.2}, {'date': datetime.date(1986, 10, 31), 'cost': 401.0}, {'date': datetime.date(1986, 11, 28), 'cost': 389.5}, {'date': datetime.date(1986, 12, 31), 'cost': 388.75}, {'date': datetime.date(1987, 1, 30), 'cost': 400.5}, {'date': datetime.date(1987, 2, 27), 'cost': 405.85}, {'date': datetime.date(1987, 3, 31), 'cost': 421.0}, {'date': datetime.date(1987, 4, 30), 'cost': 453.25}, {'date': datetime.date(1987, 5, 29), 'cost': 451.0}, {'date': datetime.date(1987, 6, 30), 'cost': 447.3}, {'date': datetime.date(1987, 7, 31), 'cost': 462.5}, {'date': datetime.date(1987, 8, 31), 'cost': 453.4}, {'date': datetime.date(1987, 9, 30), 'cost': 459.5}, {'date': datetime.date(1987, 10, 30), 'cost': 468.8}, {'date': datetime.date(1987, 11, 30), 'cost': 492.5}, {'date': datetime.date(1987, 12, 31), 'cost': 484.1}, {'date': datetime.date(1988, 1, 29), 'cost': 458.0}, {'date': datetime.date(1988, 2, 29), 'cost': 426.15}, {'date': datetime.date(1988, 3, 31), 'cost': 456.95}, {'date': datetime.date(1988, 4, 29), 'cost': 449.0}, {'date': datetime.date(1988, 5, 31), 'cost': 455.5}, {'date': datetime.date(1988, 6, 30), 'cost': 436.55}, {'date': datetime.date(1988, 7, 29), 'cost': 436.8}, {'date': datetime.date(1988, 8, 31), 'cost': 427.75}, {'date': datetime.date(1988, 9, 30), 'cost': 396.7}, {'date': datetime.date(1988, 10, 31), 'cost': 412.4}, {'date': datetime.date(1988, 11, 30), 'cost': 422.6}, {'date': datetime.date(1988, 12, 30), 'cost': 410.25}, {'date': datetime.date(1989, 1, 31), 'cost': 394.0}, {'date': datetime.date(1989, 2, 28), 'cost': 387.0}, {'date': datetime.date(1989, 3, 31), 'cost': 383.2}, {'date': datetime.date(1989, 4, 28), 'cost': 377.55}, {'date': datetime.date(1989, 5, 31), 'cost': 361.8}, {'date': datetime.date(1989, 6, 30), 'cost': 373.0}, {'date': datetime.date(1989, 7, 31), 'cost': 368.3}, {'date': datetime.date(1989, 8, 31), 'cost': 359.8}, {'date': datetime.date(1989, 9, 29), 'cost': 366.5}, {'date': datetime.date(1989, 10, 31), 'cost': 375.3}, {'date': datetime.date(1989, 11, 30), 'cost': 408.15}, {'date': datetime.date(1989, 12, 29), 'cost': 398.6}, {'date': datetime.date(1990, 1, 31), 'cost': 415.05}, {'date': datetime.date(1990, 2, 28), 'cost': 407.7}, {'date': datetime.date(1990, 3, 30), 'cost': 368.5}, {'date': datetime.date(1990, 4, 30), 'cost': 367.75}, {'date': datetime.date(1990, 5, 31), 'cost': 363.05}, {'date': datetime.date(1990, 6, 29), 'cost': 352.2}, {'date': datetime.date(1990, 7, 31), 'cost': 372.3}, {'date': datetime.date(1990, 8, 31), 'cost': 387.75}, {'date': datetime.date(1990, 9, 28), 'cost': 408.4}, {'date': datetime.date(1990, 10, 31), 'cost': 379.5}, {'date': datetime.date(1990, 11, 30), 'cost': 384.85}, {'date': datetime.date(1990, 12, 31), 'cost': 386.2}, {'date': datetime.date(1991, 1, 31), 'cost': 366.0}, {'date': datetime.date(1991, 2, 28), 'cost': 362.7}, {'date': datetime.date(1991, 3, 29), 'cost': 355.65}, {'date': datetime.date(1991, 4, 30), 'cost': 357.75}, {'date': datetime.date(1991, 5, 31), 'cost': 360.4}, {'date': datetime.date(1991, 6, 28), 'cost': 368.35}, {'date': datetime.date(1991, 7, 31), 'cost': 362.85}, {'date': datetime.date(1991, 8, 30), 'cost': 347.4}, {'date': datetime.date(1991, 9, 30), 'cost': 354.9}, {'date': datetime.date(1991, 10, 31), 'cost': 357.45}, {'date': datetime.date(1991, 11, 29), 'cost': 366.3}, {'date': datetime.date(1991, 12, 31), 'cost': 353.15}, {'date': datetime.date(1992, 1, 31), 'cost': 354.1}, {'date': datetime.date(1992, 2, 28), 'cost': 353.1}, {'date': datetime.date(1992, 3, 31), 'cost': 341.7}, {'date': datetime.date(1992, 4, 30), 'cost': 336.35}, {'date': datetime.date(1992, 5, 29), 'cost': 337.5}, {'date': datetime.date(1992, 6, 30), 'cost': 343.4}, {'date': datetime.date(1992, 7, 31), 'cost': 357.85}, {'date': datetime.date(1992, 8, 31), 'cost': 340.0}, {'date': datetime.date(1992, 9, 30), 'cost': 349.0}, {'date': datetime.date(1992, 10, 30), 'cost': 339.25}, {'date': datetime.date(1992, 11, 30), 'cost': 334.2}, {'date': datetime.date(1992, 12, 31), 'cost': 332.9}, {'date': datetime.date(1993, 1, 29), 'cost': 330.45}, {'date': datetime.date(1993, 2, 26), 'cost': 327.6}, {'date': datetime.date(1993, 3, 31), 'cost': 337.8}, {'date': datetime.date(1993, 4, 30), 'cost': 354.3}, {'date': datetime.date(1993, 5, 31), 'cost': 377.45}, {'date': datetime.date(1993, 6, 30), 'cost': 378.45}, {'date': datetime.date(1993, 7, 30), 'cost': 401.75}, {'date': datetime.date(1993, 8, 31), 'cost': 371.55}, {'date': datetime.date(1993, 9, 30), 'cost': 355.5}, {'date': datetime.date(1993, 10, 29), 'cost': 369.6}, {'date': datetime.date(1993, 11, 30), 'cost': 370.9}, {'date': datetime.date(1993, 12, 31), 'cost': 391.75}, {'date': datetime.date(1994, 1, 31), 'cost': 377.9}, {'date': datetime.date(1994, 2, 28), 'cost': 381.55}, {'date': datetime.date(1994, 3, 31), 'cost': 389.2}, {'date': datetime.date(1994, 4, 29), 'cost': 376.45}, {'date': datetime.date(1994, 5, 31), 'cost': 387.6}, {'date': datetime.date(1994, 6, 30), 'cost': 388.25}, {'date': datetime.date(1994, 7, 29), 'cost': 384.0}, {'date': datetime.date(1994, 8, 31), 'cost': 385.75}, {'date': datetime.date(1994, 9, 30), 'cost': 394.85}, {'date': datetime.date(1994, 10, 31), 'cost': 383.85}, {'date': datetime.date(1994, 11, 30), 'cost': 383.1}, {'date': datetime.date(1994, 12, 30), 'cost': 383.25}, {'date': datetime.date(1995, 1, 31), 'cost': 374.9}, {'date': datetime.date(1995, 2, 28), 'cost': 376.4}, {'date': datetime.date(1995, 3, 31), 'cost': 392.0}, {'date': datetime.date(1995, 4, 28), 'cost': 389.75}, {'date': datetime.date(1995, 5, 31), 'cost': 384.3}, {'date': datetime.date(1995, 6, 30), 'cost': 387.05}, {'date': datetime.date(1995, 7, 31), 'cost': 383.35}, {'date': datetime.date(1995, 8, 31), 'cost': 382.35}, {'date': datetime.date(1995, 9, 29), 'cost': 384.0}, {'date': datetime.date(1995, 10, 31), 'cost': 382.65}, {'date': datetime.date(1995, 11, 30), 'cost': 387.8}, {'date': datetime.date(1995, 12, 29), 'cost': 387.0}, {'date': datetime.date(1996, 1, 31), 'cost': 405.55}, {'date': datetime.date(1996, 2, 29), 'cost': 400.65}, {'date': datetime.date(1996, 3, 29), 'cost': 396.35}, {'date': datetime.date(1996, 4, 30), 'cost': 391.3}, {'date': datetime.date(1996, 5, 31), 'cost': 390.55}, {'date': datetime.date(1996, 6, 28), 'cost': 382.0}, {'date': datetime.date(1996, 7, 31), 'cost': 385.3}, {'date': datetime.date(1996, 8, 30), 'cost': 386.45}, {'date': datetime.date(1996, 9, 30), 'cost': 379.0}, {'date': datetime.date(1996, 10, 31), 'cost': 379.5}, {'date': datetime.date(1996, 11, 29), 'cost': 371.3}, {'date': datetime.date(1996, 12, 31), 'cost': 369.25}, {'date': datetime.date(1997, 1, 31), 'cost': 345.5}, {'date': datetime.date(1997, 2, 28), 'cost': 358.6}, {'date': datetime.date(1997, 3, 31), 'cost': 348.15}, {'date': datetime.date(1997, 4, 30), 'cost': 340.15}, {'date': datetime.date(1997, 5, 30), 'cost': 345.6}, {'date': datetime.date(1997, 6, 30), 'cost': 334.55}, {'date': datetime.date(1997, 7, 31), 'cost': 326.35}, {'date': datetime.date(1997, 8, 29), 'cost': 325.35}, {'date': datetime.date(1997, 9, 30), 'cost': 332.1}, {'date': datetime.date(1997, 10, 31), 'cost': 311.4}, {'date': datetime.date(1997, 11, 28), 'cost': 296.8}, {'date': datetime.date(1997, 12, 31), 'cost': 290.2}, {'date': datetime.date(1998, 1, 30), 'cost': 304.85}, {'date': datetime.date(1998, 2, 27), 'cost': 297.4}, {'date': datetime.date(1998, 3, 31), 'cost': 301.0}, {'date': datetime.date(1998, 4, 30), 'cost': 310.7}, {'date': datetime.date(1998, 5, 29), 'cost': 293.6}, {'date': datetime.date(1998, 6, 30), 'cost': 296.3}, {'date': datetime.date(1998, 7, 31), 'cost': 288.85}, {'date': datetime.date(1998, 8, 31), 'cost': 273.4}, {'date': datetime.date(1998, 9, 30), 'cost': 293.85}, {'date': datetime.date(1998, 10, 30), 'cost': 292.3}, {'date': datetime.date(1998, 11, 30), 'cost': 294.7}, {'date': datetime.date(1998, 12, 31), 'cost': 287.8}, {'date': datetime.date(1999, 1, 29), 'cost': 285.4}, {'date': datetime.date(1999, 2, 26), 'cost': 287.05}, {'date': datetime.date(1999, 3, 31), 'cost': 279.45}, {'date': datetime.date(1999, 4, 30), 'cost': 286.6}, {'date': datetime.date(1999, 5, 31), 'cost': 268.6}, {'date': datetime.date(1999, 6, 30), 'cost': 261.0}, {'date': datetime.date(1999, 7, 30), 'cost': 255.6}, {'date': datetime.date(1999, 8, 31), 'cost': 254.8}, {'date': datetime.date(1999, 9, 30), 'cost': 299.0}, {'date': datetime.date(1999, 10, 29), 'cost': 299.1}, {'date': datetime.date(1999, 11, 30), 'cost': 291.35}, {'date': datetime.date(1999, 12, 31), 'cost': 290.25}, {'date': datetime.date(2000, 1, 31), 'cost': 283.3}, {'date': datetime.date(2000, 2, 29), 'cost': 293.65}, {'date': datetime.date(2000, 3, 31), 'cost': 276.75}, {'date': datetime.date(2000, 4, 28), 'cost': 275.05}, {'date': datetime.date(2000, 5, 31), 'cost': 272.25}, {'date': datetime.date(2000, 6, 30), 'cost': 288.15}, {'date': datetime.date(2000, 7, 31), 'cost': 276.75}, {'date': datetime.date(2000, 8, 31), 'cost': 277.0}, {'date': datetime.date(2000, 9, 29), 'cost': 273.65}, {'date': datetime.date(2000, 10, 31), 'cost': 264.5}, {'date': datetime.date(2000, 11, 30), 'cost': 269.1}, {'date': datetime.date(2000, 12, 29), 'cost': 274.45}, {'date': datetime.date(2001, 1, 31), 'cost': 264.5}, {'date': datetime.date(2001, 2, 28), 'cost': 266.7}, {'date': datetime.date(2001, 3, 30), 'cost': 257.7}, {'date': datetime.date(2001, 4, 30), 'cost': 263.15}, {'date': datetime.date(2001, 5, 31), 'cost': 267.5}, {'date': datetime.date(2001, 6, 29), 'cost': 270.6}, {'date': datetime.date(2001, 7, 31), 'cost': 265.9}, {'date': datetime.date(2001, 8, 31), 'cost': 273.0}, {'date': datetime.date(2001, 9, 28), 'cost': 293.1}, {'date': datetime.date(2001, 10, 31), 'cost': 278.75}, {'date': datetime.date(2001, 11, 30), 'cost': 275.5}, {'date': datetime.date(2001, 12, 31), 'cost': 276.5}, {'date': datetime.date(2002, 1, 31), 'cost': 282.3}, {'date': datetime.date(2002, 2, 28), 'cost': 296.85}, {'date': datetime.date(2002, 3, 29), 'cost': 301.4}, {'date': datetime.date(2002, 4, 30), 'cost': 308.2}, {'date': datetime.date(2002, 5, 31), 'cost': 326.6}, {'date': datetime.date(2002, 6, 28), 'cost': 318.5}, {'date': datetime.date(2002, 7, 31), 'cost': 304.65}, {'date': datetime.date(2002, 8, 30), 'cost': 312.8}, {'date': datetime.date(2002, 9, 30), 'cost': 323.7}, {'date': datetime.date(2002, 10, 31), 'cost': 316.9}, {'date': datetime.date(2002, 11, 29), 'cost': 319.05}, {'date': datetime.date(2002, 12, 31), 'cost': 347.2}, {'date': datetime.date(2003, 1, 31), 'cost': 367.5}, {'date': datetime.date(2003, 2, 28), 'cost': 347.45}, {'date': datetime.date(2003, 3, 31), 'cost': 334.85}, {'date': datetime.date(2003, 4, 30), 'cost': 336.75}, {'date': datetime.date(2003, 5, 30), 'cost': 361.4}, {'date': datetime.date(2003, 6, 30), 'cost': 346.0}, {'date': datetime.date(2003, 7, 31), 'cost': 354.75}, {'date': datetime.date(2003, 8, 29), 'cost': 375.6}, {'date': datetime.date(2003, 9, 30), 'cost': 388.0}, {'date': datetime.date(2003, 10, 31), 'cost': 386.25}, {'date': datetime.date(2003, 11, 28), 'cost': 398.35}, {'date': datetime.date(2003, 12, 31), 'cost': 416.25}, {'date': datetime.date(2004, 1, 30), 'cost': 399.75}, {'date': datetime.date(2004, 2, 27), 'cost': 395.85}, {'date': datetime.date(2004, 3, 31), 'cost': 423.7}, {'date': datetime.date(2004, 4, 30), 'cost': 388.5}, {'date': datetime.date(2004, 5, 31), 'cost': 393.25}, {'date': datetime.date(2004, 6, 30), 'cost': 395.8}, {'date': datetime.date(2004, 7, 30), 'cost': 391.4}, {'date': datetime.date(2004, 8, 31), 'cost': 407.25}, {'date': datetime.date(2004, 9, 30), 'cost': 415.65}, {'date': datetime.date(2004, 10, 29), 'cost': 425.55}, {'date': datetime.date(2004, 11, 30), 'cost': 453.4}, {'date': datetime.date(2004, 12, 31), 'cost': 435.6}, {'date': datetime.date(2005, 1, 31), 'cost': 422.15}, {'date': datetime.date(2005, 2, 28), 'cost': 435.45}, {'date': datetime.date(2005, 3, 31), 'cost': 427.5}, {'date': datetime.date(2005, 4, 29), 'cost': 435.7}, {'date': datetime.date(2005, 5, 31), 'cost': 414.45}, {'date': datetime.date(2005, 6, 30), 'cost': 437.1}, {'date': datetime.date(2005, 7, 29), 'cost': 429.0}, {'date': datetime.date(2005, 8, 31), 'cost': 433.25}, {'date': datetime.date(2005, 9, 30), 'cost': 473.25}, {'date': datetime.date(2005, 10, 31), 'cost': 470.75}, {'date': datetime.date(2005, 11, 30), 'cost': 495.65}, {'date': datetime.date(2005, 12, 30), 'cost': 513.0}, {'date': datetime.date(2006, 1, 31), 'cost': 568.75}, {'date': datetime.date(2006, 2, 28), 'cost': 556.0}, {'date': datetime.date(2006, 3, 31), 'cost': 582.0}, {'date': datetime.date(2006, 4, 28), 'cost': 644.0}, {'date': datetime.date(2006, 5, 31), 'cost': 653.0}, {'date': datetime.date(2006, 6, 30), 'cost': 613.5}, {'date': datetime.date(2006, 7, 31), 'cost': 632.5}, {'date': datetime.date(2006, 8, 31), 'cost': 623.5}, {'date': datetime.date(2006, 9, 29), 'cost': 599.25}, {'date': datetime.date(2006, 10, 31), 'cost': 603.75}, {'date': datetime.date(2006, 11, 30), 'cost': 646.7}, {'date': datetime.date(2006, 12, 29), 'cost': 632.0}, {'date': datetime.date(2007, 1, 31), 'cost': 650.5}, {'date': datetime.date(2007, 2, 28), 'cost': 664.2}, {'date': datetime.date(2007, 3, 30), 'cost': 661.75}, {'date': datetime.date(2007, 4, 30), 'cost': 677.0}, {'date': datetime.date(2007, 5, 31), 'cost': 659.1}, {'date': datetime.date(2007, 6, 29), 'cost': 650.5}, {'date': datetime.date(2007, 7, 31), 'cost': 665.5}, {'date': datetime.date(2007, 8, 31), 'cost': 672.0}, {'date': datetime.date(2007, 9, 28), 'cost': 743.0}, {'date': datetime.date(2007, 10, 31), 'cost': 789.5}, {'date': datetime.date(2007, 11, 30), 'cost': 783.5}, {'date': datetime.date(2007, 12, 31), 'cost': 833.75}, {'date': datetime.date(2008, 1, 31), 'cost': 923.25}, {'date': datetime.date(2008, 2, 29), 'cost': 971.5}, {'date': datetime.date(2008, 3, 31), 'cost': 933.5}, {'date': datetime.date(2008, 4, 30), 'cost': 871.0}, {'date': datetime.date(2008, 5, 30), 'cost': 885.75}, {'date': datetime.date(2008, 6, 30), 'cost': 930.25}, {'date': datetime.date(2008, 7, 31), 'cost': 918.0}, {'date': datetime.date(2008, 8, 29), 'cost': 833.0}, {'date': datetime.date(2008, 9, 30), 'cost': 884.5}, {'date': datetime.date(2008, 10, 31), 'cost': 730.75}, {'date': datetime.date(2008, 11, 28), 'cost': 814.5}, {'date': datetime.date(2008, 12, 31), 'cost': 869.75}, {'date': datetime.date(2009, 1, 30), 'cost': 919.5}, {'date': datetime.date(2009, 2, 27), 'cost': 952.0}, {'date': datetime.date(2009, 3, 31), 'cost': 916.5}, {'date': datetime.date(2009, 4, 30), 'cost': 883.25}, {'date': datetime.date(2009, 5, 29), 'cost': 975.5}, {'date': datetime.date(2009, 6, 30), 'cost': 934.5}, {'date': datetime.date(2009, 7, 31), 'cost': 939.0}, {'date': datetime.date(2009, 8, 31), 'cost': 955.5}, {'date': datetime.date(2009, 9, 30), 'cost': 995.75}, {'date': datetime.date(2009, 10, 30), 'cost': 1040.0}, {'date': datetime.date(2009, 11, 30), 'cost': 1175.75}, {'date': datetime.date(2009, 12, 31), 'cost': 1087.5}, {'date': datetime.date(2010, 1, 29), 'cost': 1078.5}, {'date': datetime.date(2010, 2, 26), 'cost': 1108.25}, {'date': datetime.date(2010, 3, 31), 'cost': 1115.5}, {'date': datetime.date(2010, 4, 30), 'cost': 1179.25}, {'date': datetime.date(2010, 5, 31), 'cost': 1207.5}, {'date': datetime.date(2010, 6, 30), 'cost': 1244.0}, {'date': datetime.date(2010, 7, 30), 'cost': 1169.0}, {'date': datetime.date(2010, 8, 31), 'cost': 1246.0}, {'date': datetime.date(2010, 9, 30), 'cost': 1307.0}, {'date': datetime.date(2010, 10, 29), 'cost': 1346.75}, {'date': datetime.date(2010, 11, 30), 'cost': 1383.5}, {'date': datetime.date(2010, 12, 31), 'cost': 1405.5}, {'date': datetime.date(2011, 1, 31), 'cost': 1327.0}, {'date': datetime.date(2011, 2, 28), 'cost': 1411.0}, {'date': datetime.date(2011, 3, 31), 'cost': 1439.0}, {'date': datetime.date(2011, 4, 29), 'cost': 1535.5}, {'date': datetime.date(2011, 5, 31), 'cost': 1536.5}, {'date': datetime.date(2011, 6, 30), 'cost': 1505.5}, {'date': datetime.date(2011, 7, 29), 'cost': 1628.5}, {'date': datetime.date(2011, 8, 31), 'cost': 1813.5}, {'date': datetime.date(2011, 9, 30), 'cost': 1620.0}, {'date': datetime.date(2011, 10, 31), 'cost': 1722.0}, {'date': datetime.date(2011, 11, 30), 'cost': 1746.0}, {'date': datetime.date(2011, 12, 30), 'cost': 1531.0}, {'date': datetime.date(2012, 1, 31), 'cost': 1744.0}, {'date': datetime.date(2012, 2, 29), 'cost': 1770.0}, {'date': datetime.date(2012, 3, 30), 'cost': 1662.5}, {'date': datetime.date(2012, 4, 30), 'cost': 1651.25}, {'date': datetime.date(2012, 5, 31), 'cost': 1558.0}, {'date': datetime.date(2012, 6, 29), 'cost': 1598.5}, {'date': datetime.date(2012, 7, 31), 'cost': 1622.0}, {'date': datetime.date(2012, 8, 31), 'cost': 1648.5}, {'date': datetime.date(2012, 9, 28), 'cost': 1776.0}, {'date': datetime.date(2012, 10, 31), 'cost': 1719.0}, {'date': datetime.date(2012, 11, 30), 'cost': 1726.0}, {'date': datetime.date(2012, 12, 31), 'cost': 1657.5}, {'date': datetime.date(2013, 1, 31), 'cost': 1664.75}, {'date': datetime.date(2013, 2, 28), 'cost': 1588.5}, {'date': datetime.date(2013, 3, 29), 'cost': 1598.25}, {'date': datetime.date(2013, 4, 30), 'cost': 1469.0}, {'date': datetime.date(2013, 5, 31), 'cost': 1394.5}, {'date': datetime.date(2013, 6, 28), 'cost': 1192.0}, {'date': datetime.date(2013, 7, 31), 'cost': 1314.5}, {'date': datetime.date(2013, 8, 30), 'cost': 1394.75}, {'date': datetime.date(2013, 9, 30), 'cost': 1326.5}, {'date': datetime.date(2013, 10, 31), 'cost': 1324.0}, {'date': datetime.date(2013, 11, 29), 'cost': 1253.0}, {'date': datetime.date(2013, 12, 31), 'cost': 1204.5}, {'date': datetime.date(2014, 1, 31), 'cost': 1251.0}, {'date': datetime.date(2014, 2, 28), 'cost': 1326.5}, {'date': datetime.date(2014, 3, 31), 'cost': 1291.75}, {'date': datetime.date(2014, 4, 30), 'cost': 1288.5}, {'date': datetime.date(2014, 5, 30), 'cost': 1250.5}, {'date': datetime.date(2014, 6, 30), 'cost': 1315.0}, {'date': datetime.date(2014, 7, 31), 'cost': 1285.25}, {'date': datetime.date(2014, 8, 29), 'cost': 1285.75}, {'date': datetime.date(2014, 9, 30), 'cost': 1216.5}, {'date': datetime.date(2014, 10, 31), 'cost': 1164.25}, {'date': datetime.date(2014, 11, 28), 'cost': 1182.75}, {'date': datetime.date(2014, 12, 31), 'cost': 1206.0}, {'date': datetime.date(2015, 1, 30), 'cost': 1260.25}, {'date': datetime.date(2015, 2, 27), 'cost': 1214.0}, {'date': datetime.date(2015, 3, 31), 'cost': 1187.0}, {'date': datetime.date(2015, 4, 30), 'cost': 1180.25}, {'date': datetime.date(2015, 5, 29), 'cost': 1191.4}, {'date': datetime.date(2015, 6, 30), 'cost': 1171.0}, {'date': datetime.date(2015, 7, 31), 'cost': 1098.4}, {'date': datetime.date(2015, 8, 31), 'cost': 1135.0}, {'date': datetime.date(2015, 9, 30), 'cost': 1114.0}, {'date': datetime.date(2015, 10, 30), 'cost': 1142.35}, {'date': datetime.date(2015, 11, 30), 'cost': 1061.9}, {'date': datetime.date(2015, 12, 31), 'cost': 1060.0}, {'date': datetime.date(2016, 1, 29), 'cost': 1111.8}, {'date': datetime.date(2016, 2, 29), 'cost': 1234.9}, {'date': datetime.date(2016, 3, 31), 'cost': 1237.0}, {'date': datetime.date(2016, 4, 29), 'cost': 1285.65}, {'date': datetime.date(2016, 5, 31), 'cost': 1212.1}, {'date': datetime.date(2016, 6, 30), 'cost': 1320.75}, {'date': datetime.date(2016, 7, 29), 'cost': 1342.0}, {'date': datetime.date(2016, 8, 31), 'cost': 1309.25}, {'date': datetime.date(2016, 9, 30), 'cost': 1322.5}, {'date': datetime.date(2016, 10, 31), 'cost': 1272.0}, {'date': datetime.date(2016, 11, 30), 'cost': 1178.1}, {'date': datetime.date(2016, 12, 30), 'cost': 1145.9}, {'date': datetime.date(2017, 1, 31), 'cost': 1212.8}, {'date': datetime.date(2017, 2, 28), 'cost': 1255.6}, {'date': datetime.date(2017, 3, 31), 'cost': 1244.85}, {'date': datetime.date(2017, 4, 28), 'cost': 1266.45}, {'date': datetime.date(2017, 5, 31), 'cost': 1266.2}, {'date': datetime.date(2017, 6, 30), 'cost': 1242.25}, {'date': datetime.date(2017, 7, 31), 'cost': 1267.55}, {'date': datetime.date(2017, 8, 31), 'cost': 1311.75}, {'date': datetime.date(2017, 9, 29), 'cost': 1283.1}, {'date': datetime.date(2017, 10, 31), 'cost': 1270.15}, {'date': datetime.date(2017, 11, 30), 'cost': 1280.2}, {'date': datetime.date(2017, 12, 29), 'cost': 1291.0}, {'date': datetime.date(2018, 1, 31), 'cost': 1345.05}, {'date': datetime.date(2018, 2, 28), 'cost': 1317.85}, {'date': datetime.date(2018, 3, 30), 'cost': 1323.85}, {'date': datetime.date(2018, 4, 30), 'cost': 1313.2}, {'date': datetime.date(2018, 5, 31), 'cost': 1305.35}, {'date': datetime.date(2018, 6, 29), 'cost': 1250.45}, {'date': datetime.date(2018, 7, 31), 'cost': 1220.95}, {'date': datetime.date(2018, 8, 31), 'cost': 1202.45}, {'date': datetime.date(2018, 9, 28), 'cost': 1187.25}, {'date': datetime.date(2018, 10, 31), 'cost': 1214.95}, {'date': datetime.date(2018, 11, 30), 'cost': 1217.55}, {'date': datetime.date(2018, 12, 31), 'cost': 1279.0}, {'date': datetime.date(2019, 1, 31), 'cost': 1323.25}, {'date': datetime.date(2019, 2, 28), 'cost': 1319.15}, {'date': datetime.date(2019, 3, 29), 'cost': 1295.4}, {'date': datetime.date(2019, 4, 30), 'cost': 1282.3}, {'date': datetime.date(2019, 5, 31), 'cost': 1295.55}, {'date': datetime.date(2019, 6, 28), 'cost': 1409.0}, {'date': datetime.date(2019, 7, 31), 'cost': 1427.55}, {'date': datetime.date(2019, 8, 30), 'cost': 1528.4}, {'date': datetime.date(2019, 9, 30), 'cost': 1485.3}, {'date': datetime.date(2019, 10, 31), 'cost': 1510.95}, {'date': datetime.date(2019, 11, 29), 'cost': 1460.15}, {'date': datetime.date(2019, 12, 31), 'cost': 1514.75}, {'date': datetime.date(2020, 1, 31), 'cost': 1584.2}, {'date': datetime.date(2020, 2, 28), 'cost': 1609.85}, {'date': datetime.date(2020, 3, 31), 'cost': 1608.95}, {'date': datetime.date(2020, 4, 30), 'cost': 1702.75}, {'date': datetime.date(2020, 5, 29), 'cost': 1728.7}, {'date': datetime.date(2020, 6, 30), 'cost': 1768.1}, {'date': datetime.date(2020, 7, 31), 'cost': 1964.9}, {'date': datetime.date(2020, 8, 31), 'cost': 1957.35}, {'date': datetime.date(2020, 9, 30), 'cost': 1886.9}, {'date': datetime.date(2020, 10, 30), 'cost': 1881.85}, {'date': datetime.date(2020, 11, 30), 'cost': 1762.55}, {'date': datetime.date(2020, 12, 31), 'cost': 1887.6}, {'date': datetime.date(2021, 1, 29), 'cost': 1863.8}, {'date': datetime.date(2021, 2, 26), 'cost': 1742.85}, {'date': datetime.date(2021, 3, 31), 'cost': 1691.05}, {'date': datetime.date(2021, 4, 30), 'cost': 1767.65}, {'date': datetime.date(2021, 5, 31), 'cost': 1899.95}, {'date': datetime.date(2021, 6, 30), 'cost': 1763.15}, {'date': datetime.date(2021, 7, 30), 'cost': 1825.75}, {'date': datetime.date(2021, 8, 31), 'cost': 1814.85}, {'date': datetime.date(2021, 9, 30), 'cost': 1742.8}, {'date': datetime.date(2021, 10, 29), 'cost': 1769.15}, {'date': datetime.date(2021, 11, 30), 'cost': 1804.4}, {'date': datetime.date(2021, 12, 31), 'cost': 1805.85}, {'date': datetime.date(2022, 1, 31), 'cost': 1795.25}, {'date': datetime.date(2022, 2, 28), 'cost': 1909.85}]\n"
     ]
    }
   ],
   "source": [
    "\n",
    "from datetime import datetime\n",
    "f=open(\"gold-prices.csv\",\"r\")\n",
    "f.readline()\n",
    "data=[]\n",
    "for row in f:\n",
    "    date_str,money,*_=row.split(\",\")\n",
    "    date_date = datetime.strptime(date_str,\"%m/%d/%Y\").date()\n",
    "    data.append({\"date\":date_date,\"cost\":float(money)})\n",
    "print(data)"
   ]
  },
  {
   "cell_type": "code",
   "execution_count": 10,
   "metadata": {},
   "outputs": [
    {
     "name": "stdout",
     "output_type": "stream",
     "text": [
      "[{'date': datetime.date(2020, 7, 31), 'cost': 1964.9}, {'date': datetime.date(2020, 8, 31), 'cost': 1957.35}, {'date': datetime.date(2022, 2, 28), 'cost': 1909.85}, {'date': datetime.date(2021, 5, 31), 'cost': 1899.95}, {'date': datetime.date(2020, 12, 31), 'cost': 1887.6}, {'date': datetime.date(2020, 9, 30), 'cost': 1886.9}, {'date': datetime.date(2020, 10, 30), 'cost': 1881.85}, {'date': datetime.date(2021, 1, 29), 'cost': 1863.8}, {'date': datetime.date(2021, 7, 30), 'cost': 1825.75}, {'date': datetime.date(2021, 8, 31), 'cost': 1814.85}, {'date': datetime.date(2011, 8, 31), 'cost': 1813.5}, {'date': datetime.date(2021, 12, 31), 'cost': 1805.85}, {'date': datetime.date(2021, 11, 30), 'cost': 1804.4}, {'date': datetime.date(2022, 1, 31), 'cost': 1795.25}, {'date': datetime.date(2012, 9, 28), 'cost': 1776.0}, {'date': datetime.date(2012, 2, 29), 'cost': 1770.0}, {'date': datetime.date(2021, 10, 29), 'cost': 1769.15}, {'date': datetime.date(2020, 6, 30), 'cost': 1768.1}, {'date': datetime.date(2021, 4, 30), 'cost': 1767.65}, {'date': datetime.date(2021, 6, 30), 'cost': 1763.15}, {'date': datetime.date(2020, 11, 30), 'cost': 1762.55}, {'date': datetime.date(2011, 11, 30), 'cost': 1746.0}, {'date': datetime.date(2012, 1, 31), 'cost': 1744.0}, {'date': datetime.date(2021, 2, 26), 'cost': 1742.85}, {'date': datetime.date(2021, 9, 30), 'cost': 1742.8}, {'date': datetime.date(2020, 5, 29), 'cost': 1728.7}, {'date': datetime.date(2012, 11, 30), 'cost': 1726.0}, {'date': datetime.date(2011, 10, 31), 'cost': 1722.0}, {'date': datetime.date(2012, 10, 31), 'cost': 1719.0}, {'date': datetime.date(2020, 4, 30), 'cost': 1702.75}, {'date': datetime.date(2021, 3, 31), 'cost': 1691.05}, {'date': datetime.date(2013, 1, 31), 'cost': 1664.75}, {'date': datetime.date(2012, 3, 30), 'cost': 1662.5}, {'date': datetime.date(2012, 12, 31), 'cost': 1657.5}, {'date': datetime.date(2012, 4, 30), 'cost': 1651.25}, {'date': datetime.date(2012, 8, 31), 'cost': 1648.5}, {'date': datetime.date(2011, 7, 29), 'cost': 1628.5}, {'date': datetime.date(2012, 7, 31), 'cost': 1622.0}, {'date': datetime.date(2011, 9, 30), 'cost': 1620.0}, {'date': datetime.date(2020, 2, 28), 'cost': 1609.85}, {'date': datetime.date(2020, 3, 31), 'cost': 1608.95}, {'date': datetime.date(2012, 6, 29), 'cost': 1598.5}, {'date': datetime.date(2013, 3, 29), 'cost': 1598.25}, {'date': datetime.date(2013, 2, 28), 'cost': 1588.5}, {'date': datetime.date(2020, 1, 31), 'cost': 1584.2}, {'date': datetime.date(2012, 5, 31), 'cost': 1558.0}, {'date': datetime.date(2011, 5, 31), 'cost': 1536.5}, {'date': datetime.date(2011, 4, 29), 'cost': 1535.5}, {'date': datetime.date(2011, 12, 30), 'cost': 1531.0}, {'date': datetime.date(2019, 8, 30), 'cost': 1528.4}, {'date': datetime.date(2019, 12, 31), 'cost': 1514.75}, {'date': datetime.date(2019, 10, 31), 'cost': 1510.95}, {'date': datetime.date(2011, 6, 30), 'cost': 1505.5}, {'date': datetime.date(2019, 9, 30), 'cost': 1485.3}, {'date': datetime.date(2013, 4, 30), 'cost': 1469.0}, {'date': datetime.date(2019, 11, 29), 'cost': 1460.15}, {'date': datetime.date(2011, 3, 31), 'cost': 1439.0}, {'date': datetime.date(2019, 7, 31), 'cost': 1427.55}, {'date': datetime.date(2011, 2, 28), 'cost': 1411.0}, {'date': datetime.date(2019, 6, 28), 'cost': 1409.0}, {'date': datetime.date(2010, 12, 31), 'cost': 1405.5}, {'date': datetime.date(2013, 8, 30), 'cost': 1394.75}, {'date': datetime.date(2013, 5, 31), 'cost': 1394.5}, {'date': datetime.date(2010, 11, 30), 'cost': 1383.5}, {'date': datetime.date(2010, 10, 29), 'cost': 1346.75}, {'date': datetime.date(2018, 1, 31), 'cost': 1345.05}, {'date': datetime.date(2016, 7, 29), 'cost': 1342.0}, {'date': datetime.date(2011, 1, 31), 'cost': 1327.0}, {'date': datetime.date(2013, 9, 30), 'cost': 1326.5}, {'date': datetime.date(2014, 2, 28), 'cost': 1326.5}, {'date': datetime.date(2013, 10, 31), 'cost': 1324.0}, {'date': datetime.date(2018, 3, 30), 'cost': 1323.85}, {'date': datetime.date(2019, 1, 31), 'cost': 1323.25}, {'date': datetime.date(2016, 9, 30), 'cost': 1322.5}, {'date': datetime.date(2016, 6, 30), 'cost': 1320.75}, {'date': datetime.date(2019, 2, 28), 'cost': 1319.15}, {'date': datetime.date(2018, 2, 28), 'cost': 1317.85}, {'date': datetime.date(2014, 6, 30), 'cost': 1315.0}, {'date': datetime.date(2013, 7, 31), 'cost': 1314.5}, {'date': datetime.date(2018, 4, 30), 'cost': 1313.2}, {'date': datetime.date(2017, 8, 31), 'cost': 1311.75}, {'date': datetime.date(2016, 8, 31), 'cost': 1309.25}, {'date': datetime.date(2010, 9, 30), 'cost': 1307.0}, {'date': datetime.date(2018, 5, 31), 'cost': 1305.35}, {'date': datetime.date(2019, 5, 31), 'cost': 1295.55}, {'date': datetime.date(2019, 3, 29), 'cost': 1295.4}, {'date': datetime.date(2014, 3, 31), 'cost': 1291.75}, {'date': datetime.date(2017, 12, 29), 'cost': 1291.0}, {'date': datetime.date(2014, 4, 30), 'cost': 1288.5}, {'date': datetime.date(2014, 8, 29), 'cost': 1285.75}, {'date': datetime.date(2016, 4, 29), 'cost': 1285.65}, {'date': datetime.date(2014, 7, 31), 'cost': 1285.25}, {'date': datetime.date(2017, 9, 29), 'cost': 1283.1}, {'date': datetime.date(2019, 4, 30), 'cost': 1282.3}, {'date': datetime.date(2017, 11, 30), 'cost': 1280.2}, {'date': datetime.date(2018, 12, 31), 'cost': 1279.0}, {'date': datetime.date(2016, 10, 31), 'cost': 1272.0}, {'date': datetime.date(2017, 10, 31), 'cost': 1270.15}, {'date': datetime.date(2017, 7, 31), 'cost': 1267.55}, {'date': datetime.date(2017, 4, 28), 'cost': 1266.45}, {'date': datetime.date(2017, 5, 31), 'cost': 1266.2}, {'date': datetime.date(2015, 1, 30), 'cost': 1260.25}, {'date': datetime.date(2017, 2, 28), 'cost': 1255.6}, {'date': datetime.date(2013, 11, 29), 'cost': 1253.0}, {'date': datetime.date(2014, 1, 31), 'cost': 1251.0}, {'date': datetime.date(2014, 5, 30), 'cost': 1250.5}, {'date': datetime.date(2018, 6, 29), 'cost': 1250.45}, {'date': datetime.date(2010, 8, 31), 'cost': 1246.0}, {'date': datetime.date(2017, 3, 31), 'cost': 1244.85}, {'date': datetime.date(2010, 6, 30), 'cost': 1244.0}, {'date': datetime.date(2017, 6, 30), 'cost': 1242.25}, {'date': datetime.date(2016, 3, 31), 'cost': 1237.0}, {'date': datetime.date(2016, 2, 29), 'cost': 1234.9}, {'date': datetime.date(2018, 7, 31), 'cost': 1220.95}, {'date': datetime.date(2018, 11, 30), 'cost': 1217.55}, {'date': datetime.date(2014, 9, 30), 'cost': 1216.5}, {'date': datetime.date(2018, 10, 31), 'cost': 1214.95}, {'date': datetime.date(2015, 2, 27), 'cost': 1214.0}, {'date': datetime.date(2017, 1, 31), 'cost': 1212.8}, {'date': datetime.date(2016, 5, 31), 'cost': 1212.1}, {'date': datetime.date(2010, 5, 31), 'cost': 1207.5}, {'date': datetime.date(2014, 12, 31), 'cost': 1206.0}, {'date': datetime.date(2013, 12, 31), 'cost': 1204.5}, {'date': datetime.date(2018, 8, 31), 'cost': 1202.45}, {'date': datetime.date(2013, 6, 28), 'cost': 1192.0}, {'date': datetime.date(2015, 5, 29), 'cost': 1191.4}, {'date': datetime.date(2018, 9, 28), 'cost': 1187.25}, {'date': datetime.date(2015, 3, 31), 'cost': 1187.0}, {'date': datetime.date(2014, 11, 28), 'cost': 1182.75}, {'date': datetime.date(2015, 4, 30), 'cost': 1180.25}, {'date': datetime.date(2010, 4, 30), 'cost': 1179.25}, {'date': datetime.date(2016, 11, 30), 'cost': 1178.1}, {'date': datetime.date(2009, 11, 30), 'cost': 1175.75}, {'date': datetime.date(2015, 6, 30), 'cost': 1171.0}, {'date': datetime.date(2010, 7, 30), 'cost': 1169.0}, {'date': datetime.date(2014, 10, 31), 'cost': 1164.25}, {'date': datetime.date(2016, 12, 30), 'cost': 1145.9}, {'date': datetime.date(2015, 10, 30), 'cost': 1142.35}, {'date': datetime.date(2015, 8, 31), 'cost': 1135.0}, {'date': datetime.date(2010, 3, 31), 'cost': 1115.5}, {'date': datetime.date(2015, 9, 30), 'cost': 1114.0}, {'date': datetime.date(2016, 1, 29), 'cost': 1111.8}, {'date': datetime.date(2010, 2, 26), 'cost': 1108.25}, {'date': datetime.date(2015, 7, 31), 'cost': 1098.4}, {'date': datetime.date(2009, 12, 31), 'cost': 1087.5}, {'date': datetime.date(2010, 1, 29), 'cost': 1078.5}, {'date': datetime.date(2015, 11, 30), 'cost': 1061.9}, {'date': datetime.date(2015, 12, 31), 'cost': 1060.0}, {'date': datetime.date(2009, 10, 30), 'cost': 1040.0}, {'date': datetime.date(2009, 9, 30), 'cost': 995.75}, {'date': datetime.date(2009, 5, 29), 'cost': 975.5}, {'date': datetime.date(2008, 2, 29), 'cost': 971.5}, {'date': datetime.date(2009, 8, 31), 'cost': 955.5}, {'date': datetime.date(2009, 2, 27), 'cost': 952.0}, {'date': datetime.date(2009, 7, 31), 'cost': 939.0}, {'date': datetime.date(2009, 6, 30), 'cost': 934.5}, {'date': datetime.date(2008, 3, 31), 'cost': 933.5}, {'date': datetime.date(2008, 6, 30), 'cost': 930.25}, {'date': datetime.date(2008, 1, 31), 'cost': 923.25}, {'date': datetime.date(2009, 1, 30), 'cost': 919.5}, {'date': datetime.date(2008, 7, 31), 'cost': 918.0}, {'date': datetime.date(2009, 3, 31), 'cost': 916.5}, {'date': datetime.date(2008, 5, 30), 'cost': 885.75}, {'date': datetime.date(2008, 9, 30), 'cost': 884.5}, {'date': datetime.date(2009, 4, 30), 'cost': 883.25}, {'date': datetime.date(2008, 4, 30), 'cost': 871.0}, {'date': datetime.date(2008, 12, 31), 'cost': 869.75}, {'date': datetime.date(2007, 12, 31), 'cost': 833.75}, {'date': datetime.date(2008, 8, 29), 'cost': 833.0}, {'date': datetime.date(2008, 11, 28), 'cost': 814.5}, {'date': datetime.date(2007, 10, 31), 'cost': 789.5}, {'date': datetime.date(2007, 11, 30), 'cost': 783.5}, {'date': datetime.date(2007, 9, 28), 'cost': 743.0}, {'date': datetime.date(2008, 10, 31), 'cost': 730.75}, {'date': datetime.date(2007, 4, 30), 'cost': 677.0}, {'date': datetime.date(2007, 8, 31), 'cost': 672.0}, {'date': datetime.date(1980, 9, 30), 'cost': 666.75}, {'date': datetime.date(2007, 7, 31), 'cost': 665.5}, {'date': datetime.date(2007, 2, 28), 'cost': 664.2}, {'date': datetime.date(2007, 3, 30), 'cost': 661.75}, {'date': datetime.date(2007, 5, 31), 'cost': 659.1}, {'date': datetime.date(1980, 6, 30), 'cost': 653.5}, {'date': datetime.date(1980, 1, 31), 'cost': 653.0}, {'date': datetime.date(2006, 5, 31), 'cost': 653.0}, {'date': datetime.date(2007, 1, 31), 'cost': 650.5}, {'date': datetime.date(2007, 6, 29), 'cost': 650.5}, {'date': datetime.date(2006, 11, 30), 'cost': 646.7}, {'date': datetime.date(2006, 4, 28), 'cost': 644.0}, {'date': datetime.date(1980, 2, 29), 'cost': 637.0}, {'date': datetime.date(2006, 7, 31), 'cost': 632.5}, {'date': datetime.date(2006, 12, 29), 'cost': 632.0}, {'date': datetime.date(1980, 8, 29), 'cost': 631.25}, {'date': datetime.date(1980, 10, 31), 'cost': 629.0}, {'date': datetime.date(2006, 8, 31), 'cost': 623.5}, {'date': datetime.date(1980, 11, 28), 'cost': 619.75}, {'date': datetime.date(1980, 7, 31), 'cost': 614.25}, {'date': datetime.date(2006, 6, 30), 'cost': 613.5}, {'date': datetime.date(2006, 10, 31), 'cost': 603.75}, {'date': datetime.date(2006, 9, 29), 'cost': 599.25}, {'date': datetime.date(1980, 12, 31), 'cost': 589.75}, {'date': datetime.date(2006, 3, 31), 'cost': 582.0}, {'date': datetime.date(2006, 1, 31), 'cost': 568.75}, {'date': datetime.date(2006, 2, 28), 'cost': 556.0}, {'date': datetime.date(1980, 5, 30), 'cost': 535.5}, {'date': datetime.date(1980, 4, 30), 'cost': 518.0}, {'date': datetime.date(1981, 3, 31), 'cost': 513.75}, {'date': datetime.date(2005, 12, 30), 'cost': 513.0}, {'date': datetime.date(1979, 12, 31), 'cost': 512.0}, {'date': datetime.date(1981, 1, 30), 'cost': 506.5}, {'date': datetime.date(1983, 1, 31), 'cost': 499.5}, {'date': datetime.date(2005, 11, 30), 'cost': 495.65}, {'date': datetime.date(1980, 3, 31), 'cost': 494.5}, {'date': datetime.date(1987, 11, 30), 'cost': 492.5}, {'date': datetime.date(1981, 2, 27), 'cost': 489.0}, {'date': datetime.date(1987, 12, 31), 'cost': 484.1}, {'date': datetime.date(1981, 4, 30), 'cost': 482.75}, {'date': datetime.date(1981, 5, 29), 'cost': 479.25}, {'date': datetime.date(2005, 9, 30), 'cost': 473.25}, {'date': datetime.date(2005, 10, 31), 'cost': 470.75}, {'date': datetime.date(1987, 10, 30), 'cost': 468.8}, {'date': datetime.date(1987, 7, 31), 'cost': 462.5}, {'date': datetime.date(1987, 9, 30), 'cost': 459.5}, {'date': datetime.date(1988, 1, 29), 'cost': 458.0}, {'date': datetime.date(1988, 3, 31), 'cost': 456.95}, {'date': datetime.date(1982, 12, 31), 'cost': 456.9}, {'date': datetime.date(1988, 5, 31), 'cost': 455.5}, {'date': datetime.date(1987, 8, 31), 'cost': 453.4}, {'date': datetime.date(2004, 11, 30), 'cost': 453.4}, {'date': datetime.date(1987, 4, 30), 'cost': 453.25}, {'date': datetime.date(1987, 5, 29), 'cost': 451.0}, {'date': datetime.date(1988, 4, 29), 'cost': 449.0}, {'date': datetime.date(1987, 6, 30), 'cost': 447.3}, {'date': datetime.date(1983, 5, 31), 'cost': 437.5}, {'date': datetime.date(2005, 6, 30), 'cost': 437.1}, {'date': datetime.date(1988, 7, 29), 'cost': 436.8}, {'date': datetime.date(1988, 6, 30), 'cost': 436.55}, {'date': datetime.date(1982, 11, 30), 'cost': 436.0}, {'date': datetime.date(2005, 4, 29), 'cost': 435.7}, {'date': datetime.date(2004, 12, 31), 'cost': 435.6}, {'date': datetime.date(2005, 2, 28), 'cost': 435.45}, {'date': datetime.date(2005, 8, 31), 'cost': 433.25}, {'date': datetime.date(1983, 4, 29), 'cost': 429.25}, {'date': datetime.date(2005, 7, 29), 'cost': 429.0}, {'date': datetime.date(1981, 9, 30), 'cost': 428.75}, {'date': datetime.date(1988, 8, 31), 'cost': 427.75}, {'date': datetime.date(2005, 3, 31), 'cost': 427.5}, {'date': datetime.date(1981, 10, 30), 'cost': 427.0}, {'date': datetime.date(1988, 2, 29), 'cost': 426.15}, {'date': datetime.date(1981, 6, 30), 'cost': 426.0}, {'date': datetime.date(2004, 10, 29), 'cost': 425.55}, {'date': datetime.date(1981, 8, 31), 'cost': 425.0}, {'date': datetime.date(2004, 3, 31), 'cost': 423.7}, {'date': datetime.date(1982, 10, 29), 'cost': 423.25}, {'date': datetime.date(1986, 9, 30), 'cost': 423.2}, {'date': datetime.date(1988, 11, 30), 'cost': 422.6}, {'date': datetime.date(2005, 1, 31), 'cost': 422.15}, {'date': datetime.date(1983, 7, 29), 'cost': 422.0}, {'date': datetime.date(1987, 3, 31), 'cost': 421.0}, {'date': datetime.date(2003, 12, 31), 'cost': 416.25}, {'date': datetime.date(1983, 6, 30), 'cost': 416.0}, {'date': datetime.date(1979, 11, 30), 'cost': 415.65}, {'date': datetime.date(2004, 9, 30), 'cost': 415.65}, {'date': datetime.date(1990, 1, 31), 'cost': 415.05}, {'date': datetime.date(1983, 3, 31), 'cost': 414.75}, {'date': datetime.date(1981, 11, 30), 'cost': 414.5}, {'date': datetime.date(2005, 5, 31), 'cost': 414.45}, {'date': datetime.date(1983, 8, 31), 'cost': 414.25}, {'date': datetime.date(1988, 10, 31), 'cost': 412.4}, {'date': datetime.date(1982, 8, 31), 'cost': 411.5}, {'date': datetime.date(1988, 12, 30), 'cost': 410.25}, {'date': datetime.date(1983, 2, 28), 'cost': 408.5}, {'date': datetime.date(1990, 9, 28), 'cost': 408.4}, {'date': datetime.date(1989, 11, 30), 'cost': 408.15}, {'date': datetime.date(1990, 2, 28), 'cost': 407.7}, {'date': datetime.date(2004, 8, 31), 'cost': 407.25}, {'date': datetime.date(1981, 7, 31), 'cost': 406.0}, {'date': datetime.date(1987, 2, 27), 'cost': 405.85}, {'date': datetime.date(1996, 1, 31), 'cost': 405.55}, {'date': datetime.date(1983, 9, 30), 'cost': 405.0}, {'date': datetime.date(1983, 11, 30), 'cost': 405.0}, {'date': datetime.date(1993, 7, 30), 'cost': 401.75}, {'date': datetime.date(1986, 10, 31), 'cost': 401.0}, {'date': datetime.date(1996, 2, 29), 'cost': 400.65}, {'date': datetime.date(1987, 1, 30), 'cost': 400.5}, {'date': datetime.date(2004, 1, 30), 'cost': 399.75}, {'date': datetime.date(1989, 12, 29), 'cost': 398.6}, {'date': datetime.date(2003, 11, 28), 'cost': 398.35}, {'date': datetime.date(1981, 12, 31), 'cost': 397.5}, {'date': datetime.date(1979, 9, 28), 'cost': 397.25}, {'date': datetime.date(1982, 9, 30), 'cost': 397.0}, {'date': datetime.date(1988, 9, 30), 'cost': 396.7}, {'date': datetime.date(1996, 3, 29), 'cost': 396.35}, {'date': datetime.date(2004, 2, 27), 'cost': 395.85}, {'date': datetime.date(2004, 6, 30), 'cost': 395.8}, {'date': datetime.date(1994, 9, 30), 'cost': 394.85}, {'date': datetime.date(1984, 2, 29), 'cost': 394.25}, {'date': datetime.date(1989, 1, 31), 'cost': 394.0}, {'date': datetime.date(2004, 5, 31), 'cost': 393.25}, {'date': datetime.date(1995, 3, 31), 'cost': 392.0}, {'date': datetime.date(1993, 12, 31), 'cost': 391.75}, {'date': datetime.date(2004, 7, 30), 'cost': 391.4}, {'date': datetime.date(1996, 4, 30), 'cost': 391.3}, {'date': datetime.date(1996, 5, 31), 'cost': 390.55}, {'date': datetime.date(1995, 4, 28), 'cost': 389.75}, {'date': datetime.date(1986, 11, 28), 'cost': 389.5}, {'date': datetime.date(1994, 3, 31), 'cost': 389.2}, {'date': datetime.date(1986, 12, 31), 'cost': 388.75}, {'date': datetime.date(1984, 3, 30), 'cost': 388.5}, {'date': datetime.date(2004, 4, 30), 'cost': 388.5}, {'date': datetime.date(1994, 6, 30), 'cost': 388.25}, {'date': datetime.date(2003, 9, 30), 'cost': 388.0}, {'date': datetime.date(1995, 11, 30), 'cost': 387.8}, {'date': datetime.date(1990, 8, 31), 'cost': 387.75}, {'date': datetime.date(1994, 5, 31), 'cost': 387.6}, {'date': datetime.date(1995, 6, 30), 'cost': 387.05}, {'date': datetime.date(1982, 1, 29), 'cost': 387.0}, {'date': datetime.date(1989, 2, 28), 'cost': 387.0}, {'date': datetime.date(1995, 12, 29), 'cost': 387.0}, {'date': datetime.date(1996, 8, 30), 'cost': 386.45}, {'date': datetime.date(2003, 10, 31), 'cost': 386.25}, {'date': datetime.date(1990, 12, 31), 'cost': 386.2}, {'date': datetime.date(1994, 8, 31), 'cost': 385.75}, {'date': datetime.date(1996, 7, 31), 'cost': 385.3}, {'date': datetime.date(1990, 11, 30), 'cost': 384.85}, {'date': datetime.date(1986, 8, 29), 'cost': 384.7}, {'date': datetime.date(1995, 5, 31), 'cost': 384.3}, {'date': datetime.date(1984, 5, 31), 'cost': 384.25}, {'date': datetime.date(1994, 7, 29), 'cost': 384.0}, {'date': datetime.date(1995, 9, 29), 'cost': 384.0}, {'date': datetime.date(1994, 10, 31), 'cost': 383.85}, {'date': datetime.date(1995, 7, 31), 'cost': 383.35}, {'date': datetime.date(1994, 12, 30), 'cost': 383.25}, {'date': datetime.date(1989, 3, 31), 'cost': 383.2}, {'date': datetime.date(1994, 11, 30), 'cost': 383.1}, {'date': datetime.date(1995, 10, 31), 'cost': 382.65}, {'date': datetime.date(1983, 12, 30), 'cost': 382.4}, {'date': datetime.date(1995, 8, 31), 'cost': 382.35}, {'date': datetime.date(1979, 10, 31), 'cost': 382.0}, {'date': datetime.date(1983, 10, 31), 'cost': 382.0}, {'date': datetime.date(1996, 6, 28), 'cost': 382.0}, {'date': datetime.date(1994, 2, 28), 'cost': 381.55}, {'date': datetime.date(1990, 10, 31), 'cost': 379.5}, {'date': datetime.date(1996, 10, 31), 'cost': 379.5}, {'date': datetime.date(1996, 9, 30), 'cost': 379.0}, {'date': datetime.date(1993, 6, 30), 'cost': 378.45}, {'date': datetime.date(1994, 1, 31), 'cost': 377.9}, {'date': datetime.date(1989, 4, 28), 'cost': 377.55}, {'date': datetime.date(1993, 5, 31), 'cost': 377.45}, {'date': datetime.date(1994, 4, 29), 'cost': 376.45}, {'date': datetime.date(1995, 2, 28), 'cost': 376.4}, {'date': datetime.date(1984, 4, 30), 'cost': 375.8}, {'date': datetime.date(2003, 8, 29), 'cost': 375.6}, {'date': datetime.date(1989, 10, 31), 'cost': 375.3}, {'date': datetime.date(1995, 1, 31), 'cost': 374.9}, {'date': datetime.date(1984, 1, 31), 'cost': 373.75}, {'date': datetime.date(1984, 6, 29), 'cost': 373.05}, {'date': datetime.date(1989, 6, 30), 'cost': 373.0}, {'date': datetime.date(1990, 7, 31), 'cost': 372.3}, {'date': datetime.date(1993, 8, 31), 'cost': 371.55}, {'date': datetime.date(1996, 11, 29), 'cost': 371.3}, {'date': datetime.date(1993, 11, 30), 'cost': 370.9}, {'date': datetime.date(1993, 10, 29), 'cost': 369.6}, {'date': datetime.date(1996, 12, 31), 'cost': 369.25}, {'date': datetime.date(1990, 3, 30), 'cost': 368.5}, {'date': datetime.date(1991, 6, 28), 'cost': 368.35}, {'date': datetime.date(1989, 7, 31), 'cost': 368.3}, {'date': datetime.date(1990, 4, 30), 'cost': 367.75}, {'date': datetime.date(2003, 1, 31), 'cost': 367.5}, {'date': datetime.date(1989, 9, 29), 'cost': 366.5}, {'date': datetime.date(1991, 11, 29), 'cost': 366.3}, {'date': datetime.date(1991, 1, 31), 'cost': 366.0}, {'date': datetime.date(1990, 5, 31), 'cost': 363.05}, {'date': datetime.date(1991, 7, 31), 'cost': 362.85}, {'date': datetime.date(1991, 2, 28), 'cost': 362.7}, {'date': datetime.date(1982, 2, 26), 'cost': 362.6}, {'date': datetime.date(1989, 5, 31), 'cost': 361.8}, {'date': datetime.date(2003, 5, 30), 'cost': 361.4}, {'date': datetime.date(1982, 4, 30), 'cost': 361.25}, {'date': datetime.date(1991, 5, 31), 'cost': 360.4}, {'date': datetime.date(1989, 8, 31), 'cost': 359.8}, {'date': datetime.date(1997, 2, 28), 'cost': 358.6}, {'date': datetime.date(1992, 7, 31), 'cost': 357.85}, {'date': datetime.date(1991, 4, 30), 'cost': 357.75}, {'date': datetime.date(1986, 7, 31), 'cost': 357.5}, {'date': datetime.date(1991, 10, 31), 'cost': 357.45}, {'date': datetime.date(1991, 3, 29), 'cost': 355.65}, {'date': datetime.date(1993, 9, 30), 'cost': 355.5}, {'date': datetime.date(1991, 9, 30), 'cost': 354.9}, {'date': datetime.date(2003, 7, 31), 'cost': 354.75}, {'date': datetime.date(1993, 4, 30), 'cost': 354.3}, {'date': datetime.date(1992, 1, 31), 'cost': 354.1}, {'date': datetime.date(1991, 12, 31), 'cost': 353.15}, {'date': datetime.date(1992, 2, 28), 'cost': 353.1}, {'date': datetime.date(1990, 6, 29), 'cost': 352.2}, {'date': datetime.date(1986, 1, 31), 'cost': 350.5}, {'date': datetime.date(1992, 9, 30), 'cost': 349.0}, {'date': datetime.date(1984, 8, 31), 'cost': 348.25}, {'date': datetime.date(1997, 3, 31), 'cost': 348.15}, {'date': datetime.date(2003, 2, 28), 'cost': 347.45}, {'date': datetime.date(1991, 8, 30), 'cost': 347.4}, {'date': datetime.date(2002, 12, 31), 'cost': 347.2}, {'date': datetime.date(1986, 6, 30), 'cost': 346.75}, {'date': datetime.date(2003, 6, 30), 'cost': 346.0}, {'date': datetime.date(1986, 4, 30), 'cost': 345.75}, {'date': datetime.date(1997, 5, 30), 'cost': 345.6}, {'date': datetime.date(1997, 1, 31), 'cost': 345.5}, {'date': datetime.date(1986, 3, 31), 'cost': 344.0}, {'date': datetime.date(1984, 9, 28), 'cost': 343.75}, {'date': datetime.date(1992, 6, 30), 'cost': 343.4}, {'date': datetime.date(1986, 5, 30), 'cost': 343.2}, {'date': datetime.date(1982, 7, 30), 'cost': 342.9}, {'date': datetime.date(1984, 7, 31), 'cost': 342.35}, {'date': datetime.date(1992, 3, 31), 'cost': 341.7}, {'date': datetime.date(1997, 4, 30), 'cost': 340.15}, {'date': datetime.date(1992, 8, 31), 'cost': 340.0}, {'date': datetime.date(1992, 10, 30), 'cost': 339.25}, {'date': datetime.date(1986, 2, 28), 'cost': 338.15}, {'date': datetime.date(1993, 3, 31), 'cost': 337.8}, {'date': datetime.date(1992, 5, 29), 'cost': 337.5}, {'date': datetime.date(2003, 4, 30), 'cost': 336.75}, {'date': datetime.date(1992, 4, 30), 'cost': 336.35}, {'date': datetime.date(2003, 3, 31), 'cost': 334.85}, {'date': datetime.date(1997, 6, 30), 'cost': 334.55}, {'date': datetime.date(1992, 11, 30), 'cost': 334.2}, {'date': datetime.date(1984, 10, 31), 'cost': 333.5}, {'date': datetime.date(1985, 8, 30), 'cost': 333.25}, {'date': datetime.date(1992, 12, 31), 'cost': 332.9}, {'date': datetime.date(1997, 9, 30), 'cost': 332.1}, {'date': datetime.date(1993, 1, 29), 'cost': 330.45}, {'date': datetime.date(1985, 3, 29), 'cost': 329.25}, {'date': datetime.date(1984, 11, 30), 'cost': 329.0}, {'date': datetime.date(1993, 2, 26), 'cost': 327.6}, {'date': datetime.date(1985, 7, 31), 'cost': 327.5}, {'date': datetime.date(1985, 12, 31), 'cost': 326.8}, {'date': datetime.date(2002, 5, 31), 'cost': 326.6}, {'date': datetime.date(1997, 7, 31), 'cost': 326.35}, {'date': datetime.date(1985, 9, 30), 'cost': 325.75}, {'date': datetime.date(1997, 8, 29), 'cost': 325.35}, {'date': datetime.date(1985, 11, 29), 'cost': 325.3}, {'date': datetime.date(1982, 5, 31), 'cost': 325.25}, {'date': datetime.date(1985, 10, 31), 'cost': 325.1}, {'date': datetime.date(2002, 9, 30), 'cost': 323.7}, {'date': datetime.date(1985, 4, 30), 'cost': 321.35}, {'date': datetime.date(1982, 3, 31), 'cost': 320.0}, {'date': datetime.date(2002, 11, 29), 'cost': 319.05}, {'date': datetime.date(2002, 6, 28), 'cost': 318.5}, {'date': datetime.date(1985, 6, 28), 'cost': 317.75}, {'date': datetime.date(1982, 6, 30), 'cost': 317.5}, {'date': datetime.date(2002, 10, 31), 'cost': 316.9}, {'date': datetime.date(1979, 8, 31), 'cost': 315.1}, {'date': datetime.date(1985, 5, 31), 'cost': 314.0}, {'date': datetime.date(2002, 8, 30), 'cost': 312.8}, {'date': datetime.date(1997, 10, 31), 'cost': 311.4}, {'date': datetime.date(1998, 4, 30), 'cost': 310.7}, {'date': datetime.date(1984, 12, 31), 'cost': 308.3}, {'date': datetime.date(2002, 4, 30), 'cost': 308.2}, {'date': datetime.date(1985, 1, 31), 'cost': 306.65}, {'date': datetime.date(1998, 1, 30), 'cost': 304.85}, {'date': datetime.date(2002, 7, 31), 'cost': 304.65}, {'date': datetime.date(2002, 3, 29), 'cost': 301.4}, {'date': datetime.date(1998, 3, 31), 'cost': 301.0}, {'date': datetime.date(1999, 10, 29), 'cost': 299.1}, {'date': datetime.date(1999, 9, 30), 'cost': 299.0}, {'date': datetime.date(1998, 2, 27), 'cost': 297.4}, {'date': datetime.date(2002, 2, 28), 'cost': 296.85}, {'date': datetime.date(1997, 11, 28), 'cost': 296.8}, {'date': datetime.date(1979, 7, 31), 'cost': 296.45}, {'date': datetime.date(1998, 6, 30), 'cost': 296.3}, {'date': datetime.date(1998, 11, 30), 'cost': 294.7}, {'date': datetime.date(1998, 9, 30), 'cost': 293.85}, {'date': datetime.date(2000, 2, 29), 'cost': 293.65}, {'date': datetime.date(1998, 5, 29), 'cost': 293.6}, {'date': datetime.date(2001, 9, 28), 'cost': 293.1}, {'date': datetime.date(1998, 10, 30), 'cost': 292.3}, {'date': datetime.date(1999, 11, 30), 'cost': 291.35}, {'date': datetime.date(1999, 12, 31), 'cost': 290.25}, {'date': datetime.date(1997, 12, 31), 'cost': 290.2}, {'date': datetime.date(1998, 7, 31), 'cost': 288.85}, {'date': datetime.date(2000, 6, 30), 'cost': 288.15}, {'date': datetime.date(1998, 12, 31), 'cost': 287.8}, {'date': datetime.date(1985, 2, 28), 'cost': 287.75}, {'date': datetime.date(1999, 2, 26), 'cost': 287.05}, {'date': datetime.date(1999, 4, 30), 'cost': 286.6}, {'date': datetime.date(1999, 1, 29), 'cost': 285.4}, {'date': datetime.date(2000, 1, 31), 'cost': 283.3}, {'date': datetime.date(2002, 1, 31), 'cost': 282.3}, {'date': datetime.date(1999, 3, 31), 'cost': 279.45}, {'date': datetime.date(2001, 10, 31), 'cost': 278.75}, {'date': datetime.date(1979, 6, 29), 'cost': 277.5}, {'date': datetime.date(2000, 8, 31), 'cost': 277.0}, {'date': datetime.date(2000, 3, 31), 'cost': 276.75}, {'date': datetime.date(2000, 7, 31), 'cost': 276.75}, {'date': datetime.date(2001, 12, 31), 'cost': 276.5}, {'date': datetime.date(2001, 11, 30), 'cost': 275.5}, {'date': datetime.date(2000, 4, 28), 'cost': 275.05}, {'date': datetime.date(1979, 5, 31), 'cost': 274.6}, {'date': datetime.date(2000, 12, 29), 'cost': 274.45}, {'date': datetime.date(2000, 9, 29), 'cost': 273.65}, {'date': datetime.date(1998, 8, 31), 'cost': 273.4}, {'date': datetime.date(2001, 8, 31), 'cost': 273.0}, {'date': datetime.date(2000, 5, 31), 'cost': 272.25}, {'date': datetime.date(2001, 6, 29), 'cost': 270.6}, {'date': datetime.date(2000, 11, 30), 'cost': 269.1}, {'date': datetime.date(1999, 5, 31), 'cost': 268.6}, {'date': datetime.date(2001, 5, 31), 'cost': 267.5}, {'date': datetime.date(2001, 2, 28), 'cost': 266.7}, {'date': datetime.date(2001, 7, 31), 'cost': 265.9}, {'date': datetime.date(2000, 10, 31), 'cost': 264.5}, {'date': datetime.date(2001, 1, 31), 'cost': 264.5}, {'date': datetime.date(2001, 4, 30), 'cost': 263.15}, {'date': datetime.date(1999, 6, 30), 'cost': 261.0}, {'date': datetime.date(2001, 3, 30), 'cost': 257.7}, {'date': datetime.date(1999, 7, 30), 'cost': 255.6}, {'date': datetime.date(1999, 8, 31), 'cost': 254.8}, {'date': datetime.date(1979, 2, 28), 'cost': 251.3}, {'date': datetime.date(1979, 4, 30), 'cost': 245.3}, {'date': datetime.date(1978, 10, 31), 'cost': 242.6}, {'date': datetime.date(1979, 3, 30), 'cost': 240.1}, {'date': datetime.date(1979, 1, 31), 'cost': 233.7}, {'date': datetime.date(1978, 12, 29), 'cost': 226.0}, {'date': datetime.date(1978, 9, 29), 'cost': 217.1}, {'date': datetime.date(1978, 8, 31), 'cost': 208.7}, {'date': datetime.date(1978, 7, 31), 'cost': 200.25}, {'date': datetime.date(1978, 11, 30), 'cost': 193.4}, {'date': datetime.date(1974, 12, 31), 'cost': 186.5}, {'date': datetime.date(1978, 5, 31), 'cost': 184.15}, {'date': datetime.date(1974, 11, 29), 'cost': 184.0}, {'date': datetime.date(1978, 6, 30), 'cost': 183.05}, {'date': datetime.date(1978, 2, 28), 'cost': 182.25}, {'date': datetime.date(1975, 2, 28), 'cost': 181.75}, {'date': datetime.date(1978, 3, 31), 'cost': 181.6}, {'date': datetime.date(1975, 3, 31), 'cost': 177.25}, {'date': datetime.date(1975, 1, 31), 'cost': 175.8}, {'date': datetime.date(1978, 1, 31), 'cost': 175.75}, {'date': datetime.date(1974, 3, 29), 'cost': 173.0}, {'date': datetime.date(1978, 4, 28), 'cost': 170.85}, {'date': datetime.date(1974, 4, 30), 'cost': 169.25}, {'date': datetime.date(1974, 10, 31), 'cost': 167.0}, {'date': datetime.date(1975, 4, 30), 'cost': 167.0}, {'date': datetime.date(1975, 5, 30), 'cost': 167.0}, {'date': datetime.date(1975, 7, 31), 'cost': 166.7}, {'date': datetime.date(1975, 6, 30), 'cost': 166.25}, {'date': datetime.date(1977, 12, 30), 'cost': 164.95}, {'date': datetime.date(1974, 2, 28), 'cost': 162.5}, {'date': datetime.date(1977, 10, 31), 'cost': 161.5}, {'date': datetime.date(1977, 11, 30), 'cost': 160.05}, {'date': datetime.date(1975, 8, 29), 'cost': 159.8}, {'date': datetime.date(1974, 5, 31), 'cost': 156.75}, {'date': datetime.date(1974, 7, 31), 'cost': 156.0}, {'date': datetime.date(1974, 8, 30), 'cost': 156.0}, {'date': datetime.date(1977, 9, 30), 'cost': 154.05}, {'date': datetime.date(1974, 9, 30), 'cost': 151.25}, {'date': datetime.date(1977, 3, 31), 'cost': 148.9}, {'date': datetime.date(1977, 4, 29), 'cost': 147.25}, {'date': datetime.date(1977, 8, 31), 'cost': 146.0}, {'date': datetime.date(1974, 6, 28), 'cost': 144.25}, {'date': datetime.date(1977, 7, 29), 'cost': 144.1}, {'date': datetime.date(1977, 6, 30), 'cost': 143.0}, {'date': datetime.date(1977, 5, 31), 'cost': 142.95}, {'date': datetime.date(1975, 10, 31), 'cost': 142.9}, {'date': datetime.date(1977, 2, 28), 'cost': 142.75}, {'date': datetime.date(1975, 9, 30), 'cost': 141.25}, {'date': datetime.date(1975, 12, 31), 'cost': 140.25}, {'date': datetime.date(1975, 11, 28), 'cost': 138.15}, {'date': datetime.date(1976, 12, 31), 'cost': 134.5}, {'date': datetime.date(1974, 1, 31), 'cost': 132.5}, {'date': datetime.date(1976, 2, 27), 'cost': 132.3}, {'date': datetime.date(1977, 1, 31), 'cost': 132.3}, {'date': datetime.date(1976, 11, 30), 'cost': 130.25}, {'date': datetime.date(1976, 3, 31), 'cost': 129.6}, {'date': datetime.date(1976, 4, 30), 'cost': 128.4}, {'date': datetime.date(1976, 1, 30), 'cost': 128.15}, {'date': datetime.date(1976, 5, 31), 'cost': 125.5}, {'date': datetime.date(1976, 6, 30), 'cost': 123.8}, {'date': datetime.date(1973, 6, 29), 'cost': 123.25}, {'date': datetime.date(1976, 10, 29), 'cost': 123.15}, {'date': datetime.date(1976, 9, 30), 'cost': 116.0}, {'date': datetime.date(1973, 7, 31), 'cost': 115.6}, {'date': datetime.date(1973, 5, 31), 'cost': 114.75}, {'date': datetime.date(1976, 7, 30), 'cost': 112.5}, {'date': datetime.date(1973, 12, 31), 'cost': 112.25}, {'date': datetime.date(1976, 8, 31), 'cost': 104.0}, {'date': datetime.date(1973, 8, 31), 'cost': 103.5}, {'date': datetime.date(1973, 11, 30), 'cost': 101.0}, {'date': datetime.date(1973, 9, 28), 'cost': 100.0}, {'date': datetime.date(1973, 10, 31), 'cost': 98.0}, {'date': datetime.date(1973, 4, 30), 'cost': 90.72}, {'date': datetime.date(1973, 3, 30), 'cost': 90.0}, {'date': datetime.date(1973, 2, 28), 'cost': 85.0}, {'date': datetime.date(1972, 7, 31), 'cost': 68.3}, {'date': datetime.date(1972, 8, 31), 'cost': 66.88}, {'date': datetime.date(1973, 1, 31), 'cost': 66.0}, {'date': datetime.date(1972, 12, 29), 'cost': 64.9}, {'date': datetime.date(1972, 6, 30), 'cost': 64.65}, {'date': datetime.date(1972, 10, 31), 'cost': 64.39}, {'date': datetime.date(1972, 9, 29), 'cost': 64.2}, {'date': datetime.date(1972, 11, 30), 'cost': 63.6}, {'date': datetime.date(1972, 5, 31), 'cost': 59.45}, {'date': datetime.date(1972, 4, 28), 'cost': 49.6}, {'date': datetime.date(1972, 3, 31), 'cost': 48.38}, {'date': datetime.date(1972, 2, 29), 'cost': 48.2}, {'date': datetime.date(1972, 1, 31), 'cost': 47.15}, {'date': datetime.date(1971, 11, 30), 'cost': 43.6}, {'date': datetime.date(1971, 12, 31), 'cost': 43.55}, {'date': datetime.date(1971, 9, 30), 'cost': 42.6}, {'date': datetime.date(1971, 7, 30), 'cost': 42.4}, {'date': datetime.date(1971, 10, 29), 'cost': 42.34}, {'date': datetime.date(1971, 5, 31), 'cost': 40.84}, {'date': datetime.date(1971, 8, 31), 'cost': 40.65}, {'date': datetime.date(1971, 6, 30), 'cost': 40.1}, {'date': datetime.date(1971, 4, 30), 'cost': 39.7}, {'date': datetime.date(1971, 3, 31), 'cost': 38.88}, {'date': datetime.date(1971, 2, 26), 'cost': 38.8}, {'date': datetime.date(1971, 1, 29), 'cost': 38.05}, {'date': datetime.date(1970, 11, 30), 'cost': 37.54}, {'date': datetime.date(1970, 12, 31), 'cost': 37.38}, {'date': datetime.date(1970, 10, 30), 'cost': 37.25}, {'date': datetime.date(1970, 9, 30), 'cost': 36.4}, {'date': datetime.date(1970, 4, 30), 'cost': 35.85}, {'date': datetime.date(1970, 8, 31), 'cost': 35.8}, {'date': datetime.date(1970, 6, 30), 'cost': 35.49}, {'date': datetime.date(1970, 5, 29), 'cost': 35.45}, {'date': datetime.date(1970, 3, 31), 'cost': 35.3}, {'date': datetime.date(1970, 7, 31), 'cost': 35.3}, {'date': datetime.date(1969, 12, 31), 'cost': 35.2}, {'date': datetime.date(1970, 2, 27), 'cost': 35.02}, {'date': datetime.date(1970, 1, 30), 'cost': 34.99}]\n"
     ]
    }
   ],
   "source": [
    "\n",
    "from datetime import datetime\n",
    "f=open(\"gold-prices.csv\",\"r\")\n",
    "f.readline()\n",
    "data=[]\n",
    "for row in f:\n",
    "    date_str,money,*_=row.split(\",\")\n",
    "    date_date = datetime.strptime(date_str,\"%m/%d/%Y\").date()\n",
    "    data.append({\"date\":date_date,\"cost\":float(money)})\n",
    "data.sort(key=lambda x:x.get(\"cost\"), reverse=True)\n",
    "print(data)"
   ]
  },
  {
   "cell_type": "code",
   "execution_count": 11,
   "metadata": {},
   "outputs": [
    {
     "name": "stdout",
     "output_type": "stream",
     "text": [
      "[{'date': datetime.date(2020, 7, 31), 'cost': 1964.9}, {'date': datetime.date(2020, 8, 31), 'cost': 1957.35}, {'date': datetime.date(2022, 2, 28), 'cost': 1909.85}, {'date': datetime.date(2021, 5, 31), 'cost': 1899.95}, {'date': datetime.date(2020, 12, 31), 'cost': 1887.6}, {'date': datetime.date(2020, 9, 30), 'cost': 1886.9}, {'date': datetime.date(2020, 10, 30), 'cost': 1881.85}, {'date': datetime.date(2021, 1, 29), 'cost': 1863.8}, {'date': datetime.date(2021, 7, 30), 'cost': 1825.75}, {'date': datetime.date(2021, 8, 31), 'cost': 1814.85}]\n"
     ]
    }
   ],
   "source": [
    "\n",
    "from datetime import datetime\n",
    "f=open(\"gold-prices.csv\",\"r\")\n",
    "f.readline()\n",
    "data=[]\n",
    "for row in f:\n",
    "    date_str,money,*_=row.split(\",\")\n",
    "    date_date = datetime.strptime(date_str,\"%m/%d/%Y\").date()\n",
    "    data.append({\"date\":date_date,\"cost\":float(money)})\n",
    "data.sort(key=lambda x:x.get(\"cost\"), reverse=True)\n",
    "print(data[:10])"
   ]
  },
  {
   "cell_type": "code",
   "execution_count": 12,
   "metadata": {},
   "outputs": [],
   "source": [
    "import pandas as pd"
   ]
  },
  {
   "cell_type": "code",
   "execution_count": 14,
   "metadata": {},
   "outputs": [],
   "source": [
    "df=pd.DataFrame(data)"
   ]
  },
  {
   "cell_type": "code",
   "execution_count": 15,
   "metadata": {},
   "outputs": [
    {
     "name": "stdout",
     "output_type": "stream",
     "text": [
      "           date     cost\n",
      "0    2020-07-31  1964.90\n",
      "1    2020-08-31  1957.35\n",
      "2    2022-02-28  1909.85\n",
      "3    2021-05-31  1899.95\n",
      "4    2020-12-31  1887.60\n",
      "..          ...      ...\n",
      "622  1970-03-31    35.30\n",
      "623  1970-07-31    35.30\n",
      "624  1969-12-31    35.20\n",
      "625  1970-02-27    35.02\n",
      "626  1970-01-30    34.99\n",
      "\n",
      "[627 rows x 2 columns]\n"
     ]
    }
   ],
   "source": [
    "print(df)"
   ]
  },
  {
   "cell_type": "code",
   "execution_count": 16,
   "metadata": {},
   "outputs": [
    {
     "name": "stdout",
     "output_type": "stream",
     "text": [
      "0      1964.90\n",
      "1      1957.35\n",
      "2      1909.85\n",
      "3      1899.95\n",
      "4      1887.60\n",
      "        ...   \n",
      "622      35.30\n",
      "623      35.30\n",
      "624      35.20\n",
      "625      35.02\n",
      "626      34.99\n",
      "Name: cost, Length: 627, dtype: float64\n"
     ]
    }
   ],
   "source": [
    "print(df.cost)"
   ]
  },
  {
   "cell_type": "code",
   "execution_count": 17,
   "metadata": {},
   "outputs": [
    {
     "data": {
      "text/plain": [
       "605.2442583732056"
      ]
     },
     "execution_count": 17,
     "metadata": {},
     "output_type": "execute_result"
    }
   ],
   "source": [
    "df.cost.mean()"
   ]
  },
  {
   "cell_type": "code",
   "execution_count": 18,
   "metadata": {},
   "outputs": [
    {
     "data": {
      "text/html": [
       "<div>\n",
       "<style scoped>\n",
       "    .dataframe tbody tr th:only-of-type {\n",
       "        vertical-align: middle;\n",
       "    }\n",
       "\n",
       "    .dataframe tbody tr th {\n",
       "        vertical-align: top;\n",
       "    }\n",
       "\n",
       "    .dataframe thead th {\n",
       "        text-align: right;\n",
       "    }\n",
       "</style>\n",
       "<table border=\"1\" class=\"dataframe\">\n",
       "  <thead>\n",
       "    <tr style=\"text-align: right;\">\n",
       "      <th></th>\n",
       "      <th>cost</th>\n",
       "    </tr>\n",
       "    <tr>\n",
       "      <th>date</th>\n",
       "      <th></th>\n",
       "    </tr>\n",
       "  </thead>\n",
       "  <tbody>\n",
       "    <tr>\n",
       "      <th>1969-12-31</th>\n",
       "      <td>35.20</td>\n",
       "    </tr>\n",
       "    <tr>\n",
       "      <th>1970-01-30</th>\n",
       "      <td>34.99</td>\n",
       "    </tr>\n",
       "    <tr>\n",
       "      <th>1970-02-27</th>\n",
       "      <td>35.02</td>\n",
       "    </tr>\n",
       "    <tr>\n",
       "      <th>1970-03-31</th>\n",
       "      <td>35.30</td>\n",
       "    </tr>\n",
       "    <tr>\n",
       "      <th>1970-04-30</th>\n",
       "      <td>35.85</td>\n",
       "    </tr>\n",
       "    <tr>\n",
       "      <th>...</th>\n",
       "      <td>...</td>\n",
       "    </tr>\n",
       "    <tr>\n",
       "      <th>2021-10-29</th>\n",
       "      <td>1769.15</td>\n",
       "    </tr>\n",
       "    <tr>\n",
       "      <th>2021-11-30</th>\n",
       "      <td>1804.40</td>\n",
       "    </tr>\n",
       "    <tr>\n",
       "      <th>2021-12-31</th>\n",
       "      <td>1805.85</td>\n",
       "    </tr>\n",
       "    <tr>\n",
       "      <th>2022-01-31</th>\n",
       "      <td>1795.25</td>\n",
       "    </tr>\n",
       "    <tr>\n",
       "      <th>2022-02-28</th>\n",
       "      <td>1909.85</td>\n",
       "    </tr>\n",
       "  </tbody>\n",
       "</table>\n",
       "<p>627 rows × 1 columns</p>\n",
       "</div>"
      ],
      "text/plain": [
       "               cost\n",
       "date               \n",
       "1969-12-31    35.20\n",
       "1970-01-30    34.99\n",
       "1970-02-27    35.02\n",
       "1970-03-31    35.30\n",
       "1970-04-30    35.85\n",
       "...             ...\n",
       "2021-10-29  1769.15\n",
       "2021-11-30  1804.40\n",
       "2021-12-31  1805.85\n",
       "2022-01-31  1795.25\n",
       "2022-02-28  1909.85\n",
       "\n",
       "[627 rows x 1 columns]"
      ]
     },
     "execution_count": 18,
     "metadata": {},
     "output_type": "execute_result"
    }
   ],
   "source": [
    "df.groupby(\"date\").mean()"
   ]
  },
  {
   "cell_type": "code",
   "execution_count": 19,
   "metadata": {},
   "outputs": [
    {
     "name": "stdout",
     "output_type": "stream",
     "text": [
      "           date     cost\n",
      "0    2020-07-31  1964.90\n",
      "1    2020-08-31  1957.35\n",
      "2    2022-02-28  1909.85\n",
      "3    2021-05-31  1899.95\n",
      "4    2020-12-31  1887.60\n",
      "..          ...      ...\n",
      "622  1970-03-31    35.30\n",
      "623  1970-07-31    35.30\n",
      "624  1969-12-31    35.20\n",
      "625  1970-02-27    35.02\n",
      "626  1970-01-30    34.99\n",
      "\n",
      "[627 rows x 2 columns]\n"
     ]
    }
   ],
   "source": [
    "print(df)"
   ]
  },
  {
   "cell_type": "code",
   "execution_count": 20,
   "metadata": {},
   "outputs": [
    {
     "data": {
      "text/html": [
       "<div>\n",
       "<style scoped>\n",
       "    .dataframe tbody tr th:only-of-type {\n",
       "        vertical-align: middle;\n",
       "    }\n",
       "\n",
       "    .dataframe tbody tr th {\n",
       "        vertical-align: top;\n",
       "    }\n",
       "\n",
       "    .dataframe thead th {\n",
       "        text-align: right;\n",
       "    }\n",
       "</style>\n",
       "<table border=\"1\" class=\"dataframe\">\n",
       "  <thead>\n",
       "    <tr style=\"text-align: right;\">\n",
       "      <th></th>\n",
       "      <th>date</th>\n",
       "      <th>cost</th>\n",
       "    </tr>\n",
       "  </thead>\n",
       "  <tbody>\n",
       "    <tr>\n",
       "      <th>0</th>\n",
       "      <td>2020-07-31</td>\n",
       "      <td>1964.90</td>\n",
       "    </tr>\n",
       "    <tr>\n",
       "      <th>1</th>\n",
       "      <td>2020-08-31</td>\n",
       "      <td>1957.35</td>\n",
       "    </tr>\n",
       "    <tr>\n",
       "      <th>2</th>\n",
       "      <td>2022-02-28</td>\n",
       "      <td>1909.85</td>\n",
       "    </tr>\n",
       "    <tr>\n",
       "      <th>3</th>\n",
       "      <td>2021-05-31</td>\n",
       "      <td>1899.95</td>\n",
       "    </tr>\n",
       "    <tr>\n",
       "      <th>4</th>\n",
       "      <td>2020-12-31</td>\n",
       "      <td>1887.60</td>\n",
       "    </tr>\n",
       "    <tr>\n",
       "      <th>5</th>\n",
       "      <td>2020-09-30</td>\n",
       "      <td>1886.90</td>\n",
       "    </tr>\n",
       "    <tr>\n",
       "      <th>6</th>\n",
       "      <td>2020-10-30</td>\n",
       "      <td>1881.85</td>\n",
       "    </tr>\n",
       "    <tr>\n",
       "      <th>7</th>\n",
       "      <td>2021-01-29</td>\n",
       "      <td>1863.80</td>\n",
       "    </tr>\n",
       "    <tr>\n",
       "      <th>8</th>\n",
       "      <td>2021-07-30</td>\n",
       "      <td>1825.75</td>\n",
       "    </tr>\n",
       "    <tr>\n",
       "      <th>9</th>\n",
       "      <td>2021-08-31</td>\n",
       "      <td>1814.85</td>\n",
       "    </tr>\n",
       "  </tbody>\n",
       "</table>\n",
       "</div>"
      ],
      "text/plain": [
       "         date     cost\n",
       "0  2020-07-31  1964.90\n",
       "1  2020-08-31  1957.35\n",
       "2  2022-02-28  1909.85\n",
       "3  2021-05-31  1899.95\n",
       "4  2020-12-31  1887.60\n",
       "5  2020-09-30  1886.90\n",
       "6  2020-10-30  1881.85\n",
       "7  2021-01-29  1863.80\n",
       "8  2021-07-30  1825.75\n",
       "9  2021-08-31  1814.85"
      ]
     },
     "execution_count": 20,
     "metadata": {},
     "output_type": "execute_result"
    }
   ],
   "source": [
    "df.head(10)"
   ]
  },
  {
   "cell_type": "code",
   "execution_count": 23,
   "metadata": {},
   "outputs": [
    {
     "data": {
      "text/html": [
       "<div>\n",
       "<style scoped>\n",
       "    .dataframe tbody tr th:only-of-type {\n",
       "        vertical-align: middle;\n",
       "    }\n",
       "\n",
       "    .dataframe tbody tr th {\n",
       "        vertical-align: top;\n",
       "    }\n",
       "\n",
       "    .dataframe thead th {\n",
       "        text-align: right;\n",
       "    }\n",
       "</style>\n",
       "<table border=\"1\" class=\"dataframe\">\n",
       "  <thead>\n",
       "    <tr style=\"text-align: right;\">\n",
       "      <th></th>\n",
       "      <th>date</th>\n",
       "      <th>cost</th>\n",
       "    </tr>\n",
       "  </thead>\n",
       "  <tbody>\n",
       "    <tr>\n",
       "      <th>626</th>\n",
       "      <td>1970-01-30</td>\n",
       "      <td>34.99</td>\n",
       "    </tr>\n",
       "    <tr>\n",
       "      <th>625</th>\n",
       "      <td>1970-02-27</td>\n",
       "      <td>35.02</td>\n",
       "    </tr>\n",
       "    <tr>\n",
       "      <th>624</th>\n",
       "      <td>1969-12-31</td>\n",
       "      <td>35.20</td>\n",
       "    </tr>\n",
       "    <tr>\n",
       "      <th>623</th>\n",
       "      <td>1970-07-31</td>\n",
       "      <td>35.30</td>\n",
       "    </tr>\n",
       "    <tr>\n",
       "      <th>622</th>\n",
       "      <td>1970-03-31</td>\n",
       "      <td>35.30</td>\n",
       "    </tr>\n",
       "    <tr>\n",
       "      <th>...</th>\n",
       "      <td>...</td>\n",
       "      <td>...</td>\n",
       "    </tr>\n",
       "    <tr>\n",
       "      <th>4</th>\n",
       "      <td>2020-12-31</td>\n",
       "      <td>1887.60</td>\n",
       "    </tr>\n",
       "    <tr>\n",
       "      <th>3</th>\n",
       "      <td>2021-05-31</td>\n",
       "      <td>1899.95</td>\n",
       "    </tr>\n",
       "    <tr>\n",
       "      <th>2</th>\n",
       "      <td>2022-02-28</td>\n",
       "      <td>1909.85</td>\n",
       "    </tr>\n",
       "    <tr>\n",
       "      <th>1</th>\n",
       "      <td>2020-08-31</td>\n",
       "      <td>1957.35</td>\n",
       "    </tr>\n",
       "    <tr>\n",
       "      <th>0</th>\n",
       "      <td>2020-07-31</td>\n",
       "      <td>1964.90</td>\n",
       "    </tr>\n",
       "  </tbody>\n",
       "</table>\n",
       "<p>627 rows × 2 columns</p>\n",
       "</div>"
      ],
      "text/plain": [
       "           date     cost\n",
       "626  1970-01-30    34.99\n",
       "625  1970-02-27    35.02\n",
       "624  1969-12-31    35.20\n",
       "623  1970-07-31    35.30\n",
       "622  1970-03-31    35.30\n",
       "..          ...      ...\n",
       "4    2020-12-31  1887.60\n",
       "3    2021-05-31  1899.95\n",
       "2    2022-02-28  1909.85\n",
       "1    2020-08-31  1957.35\n",
       "0    2020-07-31  1964.90\n",
       "\n",
       "[627 rows x 2 columns]"
      ]
     },
     "execution_count": 23,
     "metadata": {},
     "output_type": "execute_result"
    }
   ],
   "source": [
    "df.sort_values(by=\"cost\")"
   ]
  },
  {
   "cell_type": "code",
   "execution_count": 25,
   "metadata": {},
   "outputs": [
    {
     "data": {
      "text/html": [
       "<div>\n",
       "<style scoped>\n",
       "    .dataframe tbody tr th:only-of-type {\n",
       "        vertical-align: middle;\n",
       "    }\n",
       "\n",
       "    .dataframe tbody tr th {\n",
       "        vertical-align: top;\n",
       "    }\n",
       "\n",
       "    .dataframe thead th {\n",
       "        text-align: right;\n",
       "    }\n",
       "</style>\n",
       "<table border=\"1\" class=\"dataframe\">\n",
       "  <thead>\n",
       "    <tr style=\"text-align: right;\">\n",
       "      <th></th>\n",
       "      <th>date</th>\n",
       "      <th>cost</th>\n",
       "    </tr>\n",
       "  </thead>\n",
       "  <tbody>\n",
       "    <tr>\n",
       "      <th>0</th>\n",
       "      <td>2020-07-31</td>\n",
       "      <td>1964.90</td>\n",
       "    </tr>\n",
       "    <tr>\n",
       "      <th>1</th>\n",
       "      <td>2020-08-31</td>\n",
       "      <td>1957.35</td>\n",
       "    </tr>\n",
       "    <tr>\n",
       "      <th>2</th>\n",
       "      <td>2022-02-28</td>\n",
       "      <td>1909.85</td>\n",
       "    </tr>\n",
       "    <tr>\n",
       "      <th>3</th>\n",
       "      <td>2021-05-31</td>\n",
       "      <td>1899.95</td>\n",
       "    </tr>\n",
       "    <tr>\n",
       "      <th>4</th>\n",
       "      <td>2020-12-31</td>\n",
       "      <td>1887.60</td>\n",
       "    </tr>\n",
       "    <tr>\n",
       "      <th>...</th>\n",
       "      <td>...</td>\n",
       "      <td>...</td>\n",
       "    </tr>\n",
       "    <tr>\n",
       "      <th>622</th>\n",
       "      <td>1970-03-31</td>\n",
       "      <td>35.30</td>\n",
       "    </tr>\n",
       "    <tr>\n",
       "      <th>623</th>\n",
       "      <td>1970-07-31</td>\n",
       "      <td>35.30</td>\n",
       "    </tr>\n",
       "    <tr>\n",
       "      <th>624</th>\n",
       "      <td>1969-12-31</td>\n",
       "      <td>35.20</td>\n",
       "    </tr>\n",
       "    <tr>\n",
       "      <th>625</th>\n",
       "      <td>1970-02-27</td>\n",
       "      <td>35.02</td>\n",
       "    </tr>\n",
       "    <tr>\n",
       "      <th>626</th>\n",
       "      <td>1970-01-30</td>\n",
       "      <td>34.99</td>\n",
       "    </tr>\n",
       "  </tbody>\n",
       "</table>\n",
       "<p>627 rows × 2 columns</p>\n",
       "</div>"
      ],
      "text/plain": [
       "           date     cost\n",
       "0    2020-07-31  1964.90\n",
       "1    2020-08-31  1957.35\n",
       "2    2022-02-28  1909.85\n",
       "3    2021-05-31  1899.95\n",
       "4    2020-12-31  1887.60\n",
       "..          ...      ...\n",
       "622  1970-03-31    35.30\n",
       "623  1970-07-31    35.30\n",
       "624  1969-12-31    35.20\n",
       "625  1970-02-27    35.02\n",
       "626  1970-01-30    34.99\n",
       "\n",
       "[627 rows x 2 columns]"
      ]
     },
     "execution_count": 25,
     "metadata": {},
     "output_type": "execute_result"
    }
   ],
   "source": [
    "df.sort_values(by=\"cost\",ascending=False)"
   ]
  },
  {
   "cell_type": "code",
   "execution_count": 26,
   "metadata": {},
   "outputs": [
    {
     "data": {
      "text/html": [
       "<div>\n",
       "<style scoped>\n",
       "    .dataframe tbody tr th:only-of-type {\n",
       "        vertical-align: middle;\n",
       "    }\n",
       "\n",
       "    .dataframe tbody tr th {\n",
       "        vertical-align: top;\n",
       "    }\n",
       "\n",
       "    .dataframe thead th {\n",
       "        text-align: right;\n",
       "    }\n",
       "</style>\n",
       "<table border=\"1\" class=\"dataframe\">\n",
       "  <thead>\n",
       "    <tr style=\"text-align: right;\">\n",
       "      <th></th>\n",
       "      <th>date</th>\n",
       "      <th>cost</th>\n",
       "    </tr>\n",
       "  </thead>\n",
       "  <tbody>\n",
       "    <tr>\n",
       "      <th>0</th>\n",
       "      <td>2020-07-31</td>\n",
       "      <td>1964.90</td>\n",
       "    </tr>\n",
       "    <tr>\n",
       "      <th>1</th>\n",
       "      <td>2020-08-31</td>\n",
       "      <td>1957.35</td>\n",
       "    </tr>\n",
       "    <tr>\n",
       "      <th>2</th>\n",
       "      <td>2022-02-28</td>\n",
       "      <td>1909.85</td>\n",
       "    </tr>\n",
       "    <tr>\n",
       "      <th>3</th>\n",
       "      <td>2021-05-31</td>\n",
       "      <td>1899.95</td>\n",
       "    </tr>\n",
       "    <tr>\n",
       "      <th>4</th>\n",
       "      <td>2020-12-31</td>\n",
       "      <td>1887.60</td>\n",
       "    </tr>\n",
       "    <tr>\n",
       "      <th>5</th>\n",
       "      <td>2020-09-30</td>\n",
       "      <td>1886.90</td>\n",
       "    </tr>\n",
       "    <tr>\n",
       "      <th>6</th>\n",
       "      <td>2020-10-30</td>\n",
       "      <td>1881.85</td>\n",
       "    </tr>\n",
       "    <tr>\n",
       "      <th>7</th>\n",
       "      <td>2021-01-29</td>\n",
       "      <td>1863.80</td>\n",
       "    </tr>\n",
       "    <tr>\n",
       "      <th>8</th>\n",
       "      <td>2021-07-30</td>\n",
       "      <td>1825.75</td>\n",
       "    </tr>\n",
       "    <tr>\n",
       "      <th>9</th>\n",
       "      <td>2021-08-31</td>\n",
       "      <td>1814.85</td>\n",
       "    </tr>\n",
       "  </tbody>\n",
       "</table>\n",
       "</div>"
      ],
      "text/plain": [
       "         date     cost\n",
       "0  2020-07-31  1964.90\n",
       "1  2020-08-31  1957.35\n",
       "2  2022-02-28  1909.85\n",
       "3  2021-05-31  1899.95\n",
       "4  2020-12-31  1887.60\n",
       "5  2020-09-30  1886.90\n",
       "6  2020-10-30  1881.85\n",
       "7  2021-01-29  1863.80\n",
       "8  2021-07-30  1825.75\n",
       "9  2021-08-31  1814.85"
      ]
     },
     "execution_count": 26,
     "metadata": {},
     "output_type": "execute_result"
    }
   ],
   "source": [
    "df.sort_values(by=\"cost\",ascending=False).head(10)"
   ]
  },
  {
   "cell_type": "code",
   "execution_count": 27,
   "metadata": {},
   "outputs": [
    {
     "data": {
      "text/plain": [
       "<AxesSubplot:>"
      ]
     },
     "execution_count": 27,
     "metadata": {},
     "output_type": "execute_result"
    },
    {
     "data": {
      "image/png": "[encoded data removed]",
      "text/plain": [
       "<Figure size 432x288 with 1 Axes>"
      ]
     },
     "metadata": {
      "needs_background": "light"
     },
     "output_type": "display_data"
    }
   ],
   "source": [
    "df.sort_values(by=\"cost\",ascending=False).head(10).plot(kind=\"bar\")"
   ]
  },
  {
   "cell_type": "code",
   "execution_count": 28,
   "metadata": {},
   "outputs": [
    {
     "name": "stdout",
     "output_type": "stream",
     "text": [
      "Object `plot` not found.\n"
     ]
    }
   ],
   "source": [
    "df.sort_values(by=\"cost\",ascending=False).head(10).plot?"
   ]
  },
  {
   "cell_type": "code",
   "execution_count": 30,
   "metadata": {},
   "outputs": [
    {
     "data": {
      "text/plain": [
       "<AxesSubplot:xlabel='date'>"
      ]
     },
     "execution_count": 30,
     "metadata": {},
     "output_type": "execute_result"
    },
    {
     "data": {
      "image/png": "[encoded data removed]",
      "text/plain": [
       "<Figure size 432x288 with 1 Axes>"
      ]
     },
     "metadata": {
      "needs_background": "light"
     },
     "output_type": "display_data"
    }
   ],
   "source": [
    "df.sort_values(by=\"cost\",ascending=False).head(10).plot(x=\"date\",kind=\"bar\")"
   ]
  },
  {
   "cell_type": "code",
   "execution_count": 31,
   "metadata": {},
   "outputs": [
    {
     "ename": "AttributeError",
     "evalue": "'AxesSubplot' object has no attribute 'saveFig'",
     "output_type": "error",
     "traceback": [
      "\u001b[1;31m---------------------------------------------------------------------------\u001b[0m",
      "\u001b[1;31mAttributeError\u001b[0m                            Traceback (most recent call last)",
      "\u001b[1;32m<ipython-input-31-9a10b17c8164>\u001b[0m in \u001b[0;36m<module>\u001b[1;34m\u001b[0m\n\u001b[1;32m----> 1\u001b[1;33m \u001b[0mdf\u001b[0m\u001b[1;33m.\u001b[0m\u001b[0msort_values\u001b[0m\u001b[1;33m(\u001b[0m\u001b[0mby\u001b[0m\u001b[1;33m=\u001b[0m\u001b[1;34m\"cost\"\u001b[0m\u001b[1;33m,\u001b[0m\u001b[0mascending\u001b[0m\u001b[1;33m=\u001b[0m\u001b[1;32mFalse\u001b[0m\u001b[1;33m)\u001b[0m\u001b[1;33m.\u001b[0m\u001b[0mhead\u001b[0m\u001b[1;33m(\u001b[0m\u001b[1;36m10\u001b[0m\u001b[1;33m)\u001b[0m\u001b[1;33m.\u001b[0m\u001b[0mplot\u001b[0m\u001b[1;33m(\u001b[0m\u001b[0mx\u001b[0m\u001b[1;33m=\u001b[0m\u001b[1;34m\"date\"\u001b[0m\u001b[1;33m,\u001b[0m\u001b[0mkind\u001b[0m\u001b[1;33m=\u001b[0m\u001b[1;34m\"bar\"\u001b[0m\u001b[1;33m)\u001b[0m\u001b[1;33m.\u001b[0m\u001b[0msaveFig\u001b[0m\u001b[1;33m(\u001b[0m\u001b[1;34m\"sdf\"\u001b[0m\u001b[1;33m)\u001b[0m\u001b[1;33m\u001b[0m\u001b[1;33m\u001b[0m\u001b[0m\n\u001b[0m",
      "\u001b[1;31mAttributeError\u001b[0m: 'AxesSubplot' object has no attribute 'saveFig'"
     ]
    },
    {
     "data": {
      "image/png": "[encoded data removed]",
      "text/plain": [
       "<Figure size 432x288 with 1 Axes>"
      ]
     },
     "metadata": {
      "needs_background": "light"
     },
     "output_type": "display_data"
    }
   ],
   "source": [
    "df.sort_values(by=\"cost\",ascending=False).head(10).plot(x=\"date\",kind=\"bar\")"
   ]
  },
  {
   "cell_type": "code",
   "execution_count": 32,
   "metadata": {},
   "outputs": [
    {
     "data": {
      "image/png": "[encoded data removed]",
      "text/plain": [
       "<Figure size 432x288 with 1 Axes>"
      ]
     },
     "metadata": {
      "needs_background": "light"
     },
     "output_type": "display_data"
    }
   ],
   "source": [
    "plt = df.sort_values(by=\"cost\",ascending=False).head(10).plot(x=\"date\",kind=\"line\")"
   ]
  },
  {
   "cell_type": "code",
   "execution_count": 33,
   "metadata": {},
   "outputs": [
    {
     "name": "stdout",
     "output_type": "stream",
     "text": [
      "['__class__', '__delattr__', '__dict__', '__dir__', '__doc__', '__eq__', '__format__', '__ge__', '__getattribute__', '__getstate__', '__gt__', '__hash__', '__init__', '__init_subclass__', '__le__', '__lt__', '__module__', '__ne__', '__new__', '__reduce__', '__reduce_ex__', '__repr__', '__setattr__', '__setstate__', '__sizeof__', '__str__', '__subclasshook__', '__weakref__', '_add_text', '_adjustable', '_agg_filter', '_alias_map', '_alpha', '_anchor', '_animated', '_aspect', '_autoscaleXon', '_autoscaleYon', '_autotitlepos', '_axes', '_axes_class', '_axes_locator', '_axisbelow', '_box_aspect', '_callbacks', '_check_no_units', '_clipon', '_clippath', '_colorbars', '_contains', '_convert_dx', '_current_image', '_default_contains', '_facecolor', '_fill_between_x_or_y', '_frameon', '_gci', '_gen_axes_patch', '_gen_axes_spines', '_get_axis_list', '_get_axis_map', '_get_clipping_extent_bbox', '_get_lines', '_get_patches_for_fill', '_get_view', '_gid', '_gridOn', '_in_layout', '_init_axis', '_label', '_left_title', '_make_twin_axes', '_mouseover', '_mouseover_set', '_navigate', '_navigate_mode', '_originalPosition', '_parse_scatter_color_args', '_path_effects', '_pcolorargs', '_picker', '_position', '_process_unit_info', '_projection_init', '_quiver_units', '_rasterization_zorder', '_rasterized', '_remove_legend', '_remove_method', '_request_autoscale_view', '_right_title', '_sci', '_set_alpha_for_array', '_set_artist_props', '_set_gc_clip', '_set_lim_and_transforms', '_set_position', '_set_title_offset_trans', '_set_view', '_set_view_from_bbox', '_shared_x_axes', '_shared_y_axes', '_sharex', '_sharey', '_sketch', '_snap', '_stale', '_stale_viewlim_x', '_stale_viewlim_y', '_sticky_edges', '_subplotspec', '_tight', '_transform', '_transformSet', '_twinned_axes', '_unit_change_handler', '_unstale_viewLim', '_update_image_limits', '_update_line_limits', '_update_patch_limits', '_update_title_position', '_update_transScale', '_url', '_use_sticky_edges', '_validate_converted_limits', '_viewLim', '_visible', '_xaxis_transform', '_xmargin', '_yaxis_transform', '_ymargin', 'acorr', 'add_artist', 'add_callback', 'add_child_axes', 'add_collection', 'add_container', 'add_image', 'add_line', 'add_patch', 'add_table', 'angle_spectrum', 'annotate', 'apply_aspect', 'arrow', 'artists', 'autoscale', 'autoscale_view', 'axes', 'axhline', 'axhspan', 'axis', 'axison', 'axline', 'axvline', 'axvspan', 'bar', 'bar_label', 'barbs', 'barh', 'bbox', 'boxplot', 'broken_barh', 'bxp', 'callbacks', 'can_pan', 'can_zoom', 'change_geometry', 'child_axes', 'cla', 'clabel', 'clear', 'clipbox', 'cohere', 'collections', 'containers', 'contains', 'contains_point', 'contour', 'contourf', 'convert_xunits', 'convert_yunits', 'csd', 'dataLim', 'drag_pan', 'draw', 'draw_artist', 'end_pan', 'errorbar', 'eventplot', 'figbox', 'figure', 'fill', 'fill_between', 'fill_betweenx', 'findobj', 'fmt_xdata', 'fmt_ydata', 'format_coord', 'format_cursor_data', 'format_xdata', 'format_ydata', 'get_adjustable', 'get_agg_filter', 'get_alpha', 'get_anchor', 'get_animated', 'get_aspect', 'get_autoscale_on', 'get_autoscalex_on', 'get_autoscaley_on', 'get_axes_locator', 'get_axisbelow', 'get_box_aspect', 'get_children', 'get_clip_box', 'get_clip_on', 'get_clip_path', 'get_contains', 'get_cursor_data', 'get_data_ratio', 'get_default_bbox_extra_artists', 'get_facecolor', 'get_fc', 'get_figure', 'get_frame_on', 'get_geometry', 'get_gid', 'get_gridspec', 'get_images', 'get_in_layout', 'get_label', 'get_legend', 'get_legend_handles_labels', 'get_lines', 'get_navigate', 'get_navigate_mode', 'get_path_effects', 'get_picker', 'get_position', 'get_rasterization_zorder', 'get_rasterized', 'get_renderer_cache', 'get_shared_x_axes', 'get_shared_y_axes', 'get_sketch_params', 'get_snap', 'get_subplotspec', 'get_tightbbox', 'get_title', 'get_transform', 'get_transformed_clip_path_and_affine', 'get_url', 'get_visible', 'get_window_extent', 'get_xaxis', 'get_xaxis_text1_transform', 'get_xaxis_text2_transform', 'get_xaxis_transform', 'get_xbound', 'get_xgridlines', 'get_xlabel', 'get_xlim', 'get_xmajorticklabels', 'get_xminorticklabels', 'get_xscale', 'get_xticklabels', 'get_xticklines', 'get_xticks', 'get_yaxis', 'get_yaxis_text1_transform', 'get_yaxis_text2_transform', 'get_yaxis_transform', 'get_ybound', 'get_ygridlines', 'get_ylabel', 'get_ylim', 'get_ymajorticklabels', 'get_yminorticklabels', 'get_yscale', 'get_yticklabels', 'get_yticklines', 'get_yticks', 'get_zorder', 'grid', 'has_data', 'have_units', 'hexbin', 'hist', 'hist2d', 'hlines', 'ignore_existing_data_limits', 'images', 'imshow', 'in_axes', 'indicate_inset', 'indicate_inset_zoom', 'inset_axes', 'invert_xaxis', 'invert_yaxis', 'is_first_col', 'is_first_row', 'is_last_col', 'is_last_row', 'is_transform_set', 'label_outer', 'legend', 'legend_', 'lines', 'locator_params', 'loglog', 'magnitude_spectrum', 'margins', 'matshow', 'minorticks_off', 'minorticks_on', 'mouseover', 'name', 'numCols', 'numRows', 'patch', 'patches', 'pchanged', 'pcolor', 'pcolorfast', 'pcolormesh', 'phase_spectrum', 'pick', 'pickable', 'pie', 'plot', 'plot_date', 'properties', 'psd', 'quiver', 'quiverkey', 'redraw_in_frame', 'relim', 'remove', 'remove_callback', 'reset_position', 'scatter', 'secondary_xaxis', 'secondary_yaxis', 'semilogx', 'semilogy', 'set', 'set_adjustable', 'set_agg_filter', 'set_alpha', 'set_anchor', 'set_animated', 'set_aspect', 'set_autoscale_on', 'set_autoscalex_on', 'set_autoscaley_on', 'set_axes_locator', 'set_axis_off', 'set_axis_on', 'set_axisbelow', 'set_box_aspect', 'set_clip_box', 'set_clip_on', 'set_clip_path', 'set_contains', 'set_facecolor', 'set_fc', 'set_figure', 'set_frame_on', 'set_gid', 'set_in_layout', 'set_label', 'set_navigate', 'set_navigate_mode', 'set_path_effects', 'set_picker', 'set_position', 'set_prop_cycle', 'set_rasterization_zorder', 'set_rasterized', 'set_sketch_params', 'set_snap', 'set_subplotspec', 'set_title', 'set_transform', 'set_url', 'set_visible', 'set_xbound', 'set_xlabel', 'set_xlim', 'set_xmargin', 'set_xscale', 'set_xticklabels', 'set_xticks', 'set_ybound', 'set_ylabel', 'set_ylim', 'set_ymargin', 'set_yscale', 'set_yticklabels', 'set_yticks', 'set_zorder', 'sharex', 'sharey', 'specgram', 'spines', 'spy', 'stackplot', 'stairs', 'stale', 'stale_callback', 'start_pan', 'stem', 'step', 'sticky_edges', 'streamplot', 'table', 'tables', 'text', 'texts', 'tick_params', 'ticklabel_format', 'title', 'titleOffsetTrans', 'transAxes', 'transData', 'transLimits', 'transScale', 'tricontour', 'tricontourf', 'tripcolor', 'triplot', 'twinx', 'twiny', 'update', 'update_datalim', 'update_datalim_bounds', 'update_from', 'update_params', 'use_sticky_edges', 'viewLim', 'violin', 'violinplot', 'vlines', 'xaxis', 'xaxis_date', 'xaxis_inverted', 'xcorr', 'yaxis', 'yaxis_date', 'yaxis_inverted', 'zorder']\n"
     ]
    }
   ],
   "source": [
    "print(dir(plt))"
   ]
  },
  {
   "cell_type": "code",
   "execution_count": 34,
   "metadata": {},
   "outputs": [],
   "source": [
    "df=pd.read_csv(\"gold-prices.csv\")"
   ]
  },
  {
   "cell_type": "code",
   "execution_count": 35,
   "metadata": {},
   "outputs": [
    {
     "name": "stdout",
     "output_type": "stream",
     "text": [
      "           Name  US dollar     Euro  Pound sterling  Japanese yen\n",
      "0    12/31/1969      35.20    22.24           14.66      12592.44\n",
      "1     1/30/1970      34.99    23.20           14.54      12496.35\n",
      "2     2/27/1970      35.02    23.26           14.55      12529.95\n",
      "3     3/31/1970      35.30    23.42           14.67      12627.65\n",
      "4     4/30/1970      35.85    23.79           14.93      12858.36\n",
      "..          ...        ...      ...             ...           ...\n",
      "622  10/29/2021    1769.15  1528.75         1290.64     201727.32\n",
      "623  11/30/2021    1804.40  1603.06         1363.87     204880.59\n",
      "624  12/31/2021    1805.85  1587.98         1333.27     207952.67\n",
      "625   1/31/2022    1795.25  1601.47         1338.09     206857.68\n",
      "626   2/28/2022    1909.85  1700.37         1423.40     219966.99\n",
      "\n",
      "[627 rows x 5 columns]\n"
     ]
    }
   ],
   "source": [
    "print(df)"
   ]
  },
  {
   "cell_type": "code",
   "execution_count": 36,
   "metadata": {},
   "outputs": [
    {
     "data": {
      "text/plain": [
       "0      12/31/1969\n",
       "1       1/30/1970\n",
       "2       2/27/1970\n",
       "3       3/31/1970\n",
       "4       4/30/1970\n",
       "          ...    \n",
       "622    10/29/2021\n",
       "623    11/30/2021\n",
       "624    12/31/2021\n",
       "625     1/31/2022\n",
       "626     2/28/2022\n",
       "Name: Name, Length: 627, dtype: object"
      ]
     },
     "execution_count": 36,
     "metadata": {},
     "output_type": "execute_result"
    }
   ],
   "source": [
    "df.Name"
   ]
  },
  {
   "cell_type": "code",
   "execution_count": 39,
   "metadata": {},
   "outputs": [],
   "source": [
    "from datetime import datetime\n",
    "df[\"date\"]=[datetime.strptime(i, \"%m/%d/%Y\") for i in df.Name]"
   ]
  },
  {
   "cell_type": "code",
   "execution_count": 40,
   "metadata": {},
   "outputs": [
    {
     "data": {
      "text/html": [
       "<div>\n",
       "<style scoped>\n",
       "    .dataframe tbody tr th:only-of-type {\n",
       "        vertical-align: middle;\n",
       "    }\n",
       "\n",
       "    .dataframe tbody tr th {\n",
       "        vertical-align: top;\n",
       "    }\n",
       "\n",
       "    .dataframe thead th {\n",
       "        text-align: right;\n",
       "    }\n",
       "</style>\n",
       "<table border=\"1\" class=\"dataframe\">\n",
       "  <thead>\n",
       "    <tr style=\"text-align: right;\">\n",
       "      <th></th>\n",
       "      <th>Name</th>\n",
       "      <th>US dollar</th>\n",
       "      <th>Euro</th>\n",
       "      <th>Pound sterling</th>\n",
       "      <th>Japanese yen</th>\n",
       "      <th>date</th>\n",
       "    </tr>\n",
       "  </thead>\n",
       "  <tbody>\n",
       "    <tr>\n",
       "      <th>0</th>\n",
       "      <td>12/31/1969</td>\n",
       "      <td>35.20</td>\n",
       "      <td>22.24</td>\n",
       "      <td>14.66</td>\n",
       "      <td>12592.44</td>\n",
       "      <td>1969-12-31</td>\n",
       "    </tr>\n",
       "    <tr>\n",
       "      <th>1</th>\n",
       "      <td>1/30/1970</td>\n",
       "      <td>34.99</td>\n",
       "      <td>23.20</td>\n",
       "      <td>14.54</td>\n",
       "      <td>12496.35</td>\n",
       "      <td>1970-01-30</td>\n",
       "    </tr>\n",
       "    <tr>\n",
       "      <th>2</th>\n",
       "      <td>2/27/1970</td>\n",
       "      <td>35.02</td>\n",
       "      <td>23.26</td>\n",
       "      <td>14.55</td>\n",
       "      <td>12529.95</td>\n",
       "      <td>1970-02-27</td>\n",
       "    </tr>\n",
       "    <tr>\n",
       "      <th>3</th>\n",
       "      <td>3/31/1970</td>\n",
       "      <td>35.30</td>\n",
       "      <td>23.42</td>\n",
       "      <td>14.67</td>\n",
       "      <td>12627.65</td>\n",
       "      <td>1970-03-31</td>\n",
       "    </tr>\n",
       "    <tr>\n",
       "      <th>4</th>\n",
       "      <td>4/30/1970</td>\n",
       "      <td>35.85</td>\n",
       "      <td>23.79</td>\n",
       "      <td>14.93</td>\n",
       "      <td>12858.36</td>\n",
       "      <td>1970-04-30</td>\n",
       "    </tr>\n",
       "    <tr>\n",
       "      <th>...</th>\n",
       "      <td>...</td>\n",
       "      <td>...</td>\n",
       "      <td>...</td>\n",
       "      <td>...</td>\n",
       "      <td>...</td>\n",
       "      <td>...</td>\n",
       "    </tr>\n",
       "    <tr>\n",
       "      <th>622</th>\n",
       "      <td>10/29/2021</td>\n",
       "      <td>1769.15</td>\n",
       "      <td>1528.75</td>\n",
       "      <td>1290.64</td>\n",
       "      <td>201727.32</td>\n",
       "      <td>2021-10-29</td>\n",
       "    </tr>\n",
       "    <tr>\n",
       "      <th>623</th>\n",
       "      <td>11/30/2021</td>\n",
       "      <td>1804.40</td>\n",
       "      <td>1603.06</td>\n",
       "      <td>1363.87</td>\n",
       "      <td>204880.59</td>\n",
       "      <td>2021-11-30</td>\n",
       "    </tr>\n",
       "    <tr>\n",
       "      <th>624</th>\n",
       "      <td>12/31/2021</td>\n",
       "      <td>1805.85</td>\n",
       "      <td>1587.98</td>\n",
       "      <td>1333.27</td>\n",
       "      <td>207952.67</td>\n",
       "      <td>2021-12-31</td>\n",
       "    </tr>\n",
       "    <tr>\n",
       "      <th>625</th>\n",
       "      <td>1/31/2022</td>\n",
       "      <td>1795.25</td>\n",
       "      <td>1601.47</td>\n",
       "      <td>1338.09</td>\n",
       "      <td>206857.68</td>\n",
       "      <td>2022-01-31</td>\n",
       "    </tr>\n",
       "    <tr>\n",
       "      <th>626</th>\n",
       "      <td>2/28/2022</td>\n",
       "      <td>1909.85</td>\n",
       "      <td>1700.37</td>\n",
       "      <td>1423.40</td>\n",
       "      <td>219966.99</td>\n",
       "      <td>2022-02-28</td>\n",
       "    </tr>\n",
       "  </tbody>\n",
       "</table>\n",
       "<p>627 rows × 6 columns</p>\n",
       "</div>"
      ],
      "text/plain": [
       "           Name  US dollar     Euro  Pound sterling  Japanese yen       date\n",
       "0    12/31/1969      35.20    22.24           14.66      12592.44 1969-12-31\n",
       "1     1/30/1970      34.99    23.20           14.54      12496.35 1970-01-30\n",
       "2     2/27/1970      35.02    23.26           14.55      12529.95 1970-02-27\n",
       "3     3/31/1970      35.30    23.42           14.67      12627.65 1970-03-31\n",
       "4     4/30/1970      35.85    23.79           14.93      12858.36 1970-04-30\n",
       "..          ...        ...      ...             ...           ...        ...\n",
       "622  10/29/2021    1769.15  1528.75         1290.64     201727.32 2021-10-29\n",
       "623  11/30/2021    1804.40  1603.06         1363.87     204880.59 2021-11-30\n",
       "624  12/31/2021    1805.85  1587.98         1333.27     207952.67 2021-12-31\n",
       "625   1/31/2022    1795.25  1601.47         1338.09     206857.68 2022-01-31\n",
       "626   2/28/2022    1909.85  1700.37         1423.40     219966.99 2022-02-28\n",
       "\n",
       "[627 rows x 6 columns]"
      ]
     },
     "execution_count": 40,
     "metadata": {},
     "output_type": "execute_result"
    }
   ],
   "source": [
    "df"
   ]
  },
  {
   "cell_type": "code",
   "execution_count": 43,
   "metadata": {},
   "outputs": [
    {
     "data": {
      "text/html": [
       "<div>\n",
       "<style scoped>\n",
       "    .dataframe tbody tr th:only-of-type {\n",
       "        vertical-align: middle;\n",
       "    }\n",
       "\n",
       "    .dataframe tbody tr th {\n",
       "        vertical-align: top;\n",
       "    }\n",
       "\n",
       "    .dataframe thead th {\n",
       "        text-align: right;\n",
       "    }\n",
       "</style>\n",
       "<table border=\"1\" class=\"dataframe\">\n",
       "  <thead>\n",
       "    <tr style=\"text-align: right;\">\n",
       "      <th></th>\n",
       "      <th>US dollar</th>\n",
       "      <th>Euro</th>\n",
       "      <th>Pound sterling</th>\n",
       "      <th>Japanese yen</th>\n",
       "      <th>date</th>\n",
       "    </tr>\n",
       "  </thead>\n",
       "  <tbody>\n",
       "    <tr>\n",
       "      <th>0</th>\n",
       "      <td>35.20</td>\n",
       "      <td>22.24</td>\n",
       "      <td>14.66</td>\n",
       "      <td>12592.44</td>\n",
       "      <td>1969-12-31</td>\n",
       "    </tr>\n",
       "    <tr>\n",
       "      <th>1</th>\n",
       "      <td>34.99</td>\n",
       "      <td>23.20</td>\n",
       "      <td>14.54</td>\n",
       "      <td>12496.35</td>\n",
       "      <td>1970-01-30</td>\n",
       "    </tr>\n",
       "    <tr>\n",
       "      <th>2</th>\n",
       "      <td>35.02</td>\n",
       "      <td>23.26</td>\n",
       "      <td>14.55</td>\n",
       "      <td>12529.95</td>\n",
       "      <td>1970-02-27</td>\n",
       "    </tr>\n",
       "    <tr>\n",
       "      <th>3</th>\n",
       "      <td>35.30</td>\n",
       "      <td>23.42</td>\n",
       "      <td>14.67</td>\n",
       "      <td>12627.65</td>\n",
       "      <td>1970-03-31</td>\n",
       "    </tr>\n",
       "    <tr>\n",
       "      <th>4</th>\n",
       "      <td>35.85</td>\n",
       "      <td>23.79</td>\n",
       "      <td>14.93</td>\n",
       "      <td>12858.36</td>\n",
       "      <td>1970-04-30</td>\n",
       "    </tr>\n",
       "    <tr>\n",
       "      <th>...</th>\n",
       "      <td>...</td>\n",
       "      <td>...</td>\n",
       "      <td>...</td>\n",
       "      <td>...</td>\n",
       "      <td>...</td>\n",
       "    </tr>\n",
       "    <tr>\n",
       "      <th>622</th>\n",
       "      <td>1769.15</td>\n",
       "      <td>1528.75</td>\n",
       "      <td>1290.64</td>\n",
       "      <td>201727.32</td>\n",
       "      <td>2021-10-29</td>\n",
       "    </tr>\n",
       "    <tr>\n",
       "      <th>623</th>\n",
       "      <td>1804.40</td>\n",
       "      <td>1603.06</td>\n",
       "      <td>1363.87</td>\n",
       "      <td>204880.59</td>\n",
       "      <td>2021-11-30</td>\n",
       "    </tr>\n",
       "    <tr>\n",
       "      <th>624</th>\n",
       "      <td>1805.85</td>\n",
       "      <td>1587.98</td>\n",
       "      <td>1333.27</td>\n",
       "      <td>207952.67</td>\n",
       "      <td>2021-12-31</td>\n",
       "    </tr>\n",
       "    <tr>\n",
       "      <th>625</th>\n",
       "      <td>1795.25</td>\n",
       "      <td>1601.47</td>\n",
       "      <td>1338.09</td>\n",
       "      <td>206857.68</td>\n",
       "      <td>2022-01-31</td>\n",
       "    </tr>\n",
       "    <tr>\n",
       "      <th>626</th>\n",
       "      <td>1909.85</td>\n",
       "      <td>1700.37</td>\n",
       "      <td>1423.40</td>\n",
       "      <td>219966.99</td>\n",
       "      <td>2022-02-28</td>\n",
       "    </tr>\n",
       "  </tbody>\n",
       "</table>\n",
       "<p>627 rows × 5 columns</p>\n",
       "</div>"
      ],
      "text/plain": [
       "     US dollar     Euro  Pound sterling  Japanese yen       date\n",
       "0        35.20    22.24           14.66      12592.44 1969-12-31\n",
       "1        34.99    23.20           14.54      12496.35 1970-01-30\n",
       "2        35.02    23.26           14.55      12529.95 1970-02-27\n",
       "3        35.30    23.42           14.67      12627.65 1970-03-31\n",
       "4        35.85    23.79           14.93      12858.36 1970-04-30\n",
       "..         ...      ...             ...           ...        ...\n",
       "622    1769.15  1528.75         1290.64     201727.32 2021-10-29\n",
       "623    1804.40  1603.06         1363.87     204880.59 2021-11-30\n",
       "624    1805.85  1587.98         1333.27     207952.67 2021-12-31\n",
       "625    1795.25  1601.47         1338.09     206857.68 2022-01-31\n",
       "626    1909.85  1700.37         1423.40     219966.99 2022-02-28\n",
       "\n",
       "[627 rows x 5 columns]"
      ]
     },
     "execution_count": 43,
     "metadata": {},
     "output_type": "execute_result"
    }
   ],
   "source": [
    "df.drop(\"Name\", axis=1)"
   ]
  },
  {
   "cell_type": "code",
   "execution_count": 44,
   "metadata": {},
   "outputs": [
    {
     "name": "stdout",
     "output_type": "stream",
     "text": [
      "           Name  US dollar     Euro  Pound sterling  Japanese yen       date\n",
      "0    12/31/1969      35.20    22.24           14.66      12592.44 1969-12-31\n",
      "1     1/30/1970      34.99    23.20           14.54      12496.35 1970-01-30\n",
      "2     2/27/1970      35.02    23.26           14.55      12529.95 1970-02-27\n",
      "3     3/31/1970      35.30    23.42           14.67      12627.65 1970-03-31\n",
      "4     4/30/1970      35.85    23.79           14.93      12858.36 1970-04-30\n",
      "..          ...        ...      ...             ...           ...        ...\n",
      "622  10/29/2021    1769.15  1528.75         1290.64     201727.32 2021-10-29\n",
      "623  11/30/2021    1804.40  1603.06         1363.87     204880.59 2021-11-30\n",
      "624  12/31/2021    1805.85  1587.98         1333.27     207952.67 2021-12-31\n",
      "625   1/31/2022    1795.25  1601.47         1338.09     206857.68 2022-01-31\n",
      "626   2/28/2022    1909.85  1700.37         1423.40     219966.99 2022-02-28\n",
      "\n",
      "[627 rows x 6 columns]\n"
     ]
    }
   ],
   "source": [
    "print(df)"
   ]
  },
  {
   "cell_type": "code",
   "execution_count": 45,
   "metadata": {},
   "outputs": [],
   "source": [
    "df1 = df.drop(\"Name\", axis=1)"
   ]
  },
  {
   "cell_type": "code",
   "execution_count": 46,
   "metadata": {},
   "outputs": [
    {
     "name": "stdout",
     "output_type": "stream",
     "text": [
      "Index(['US dollar', 'Euro', 'Pound sterling', 'Japanese yen', 'date'], dtype='object')\n"
     ]
    }
   ],
   "source": [
    "print(df1.columns)"
   ]
  },
  {
   "cell_type": "code",
   "execution_count": 47,
   "metadata": {},
   "outputs": [
    {
     "name": "stdout",
     "output_type": "stream",
     "text": [
      "Index(['Name', 'US dollar', 'Euro', 'Pound sterling', 'Japanese yen', 'date'], dtype='object')\n"
     ]
    }
   ],
   "source": [
    "print(df.columns)"
   ]
  },
  {
   "cell_type": "code",
   "execution_count": 48,
   "metadata": {},
   "outputs": [],
   "source": [
    "df1 = df.drop?"
   ]
  },
  {
   "cell_type": "code",
   "execution_count": null,
   "metadata": {},
   "outputs": [],
   "source": [
    "df1 = df.drop"
   ]
  },
  {
   "cell_type": "code",
   "execution_count": 49,
   "metadata": {},
   "outputs": [],
   "source": [
    "df1 = df.drop(\"Name\", axis=1, inplace=True)"
   ]
  },
  {
   "cell_type": "code",
   "execution_count": 50,
   "metadata": {},
   "outputs": [
    {
     "name": "stdout",
     "output_type": "stream",
     "text": [
      "None\n"
     ]
    }
   ],
   "source": [
    "print(df1)"
   ]
  },
  {
   "cell_type": "code",
   "execution_count": 52,
   "metadata": {},
   "outputs": [
    {
     "name": "stdout",
     "output_type": "stream",
     "text": [
      "Index(['US dollar', 'Euro', 'Pound sterling', 'Japanese yen', 'date'], dtype='object')\n"
     ]
    }
   ],
   "source": [
    "print(df.columns)"
   ]
  },
  {
   "cell_type": "code",
   "execution_count": 53,
   "metadata": {},
   "outputs": [
    {
     "name": "stdout",
     "output_type": "stream",
     "text": [
      "0     1969-12-31\n",
      "1     1970-01-30\n",
      "2     1970-02-27\n",
      "3     1970-03-31\n",
      "4     1970-04-30\n",
      "         ...    \n",
      "622   2021-10-29\n",
      "623   2021-11-30\n",
      "624   2021-12-31\n",
      "625   2022-01-31\n",
      "626   2022-02-28\n",
      "Name: date, Length: 627, dtype: datetime64[ns]\n"
     ]
    }
   ],
   "source": [
    "print(df.date)"
   ]
  },
  {
   "cell_type": "code",
   "execution_count": 54,
   "metadata": {},
   "outputs": [
    {
     "data": {
      "text/plain": [
       "pandas.core.series.Series"
      ]
     },
     "execution_count": 54,
     "metadata": {},
     "output_type": "execute_result"
    }
   ],
   "source": [
    "type(df.date)"
   ]
  },
  {
   "cell_type": "code",
   "execution_count": null,
   "metadata": {},
   "outputs": [],
   "source": []
  }
 ],
 "metadata": {
  "kernelspec": {
   "display_name": "Python 3",
   "language": "python",
   "name": "python3"
  },
  "language_info": {
   "codemirror_mode": {
    "name": "ipython",
    "version": 3
   },
   "file_extension": ".py",
   "mimetype": "text/x-python",
   "name": "python",
   "nbconvert_exporter": "python",
   "pygments_lexer": "ipython3",
   "version": "3.8.3"
  }
 },
 "nbformat": 4,
 "nbformat_minor": 4
}
