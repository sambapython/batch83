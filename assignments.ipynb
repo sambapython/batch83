{
 "cells": [
  {
   "cell_type": "code",
   "execution_count": 1,
   "metadata": {},
   "outputs": [
    {
     "name": "stdout",
     "output_type": "stream",
     "text": [
      "Enter number of people:200\n",
      "Number of seats per bus:50\n",
      "4.0\n"
     ]
    }
   ],
   "source": [
    "number_people=int(input(\"Enter number of people:\"))\n",
    "number_seats_per_bus = int(input(\"Number of seats per bus:\"))\n",
    "print(number_people/number_seats_per_bus)"
   ]
  },
  {
   "cell_type": "code",
   "execution_count": 2,
   "metadata": {},
   "outputs": [
    {
     "name": "stdout",
     "output_type": "stream",
     "text": [
      "Enter number of people:245\n",
      "Number of seats per bus:50\n",
      "4.9\n"
     ]
    }
   ],
   "source": [
    "number_people=int(input(\"Enter number of people:\"))\n",
    "number_seats_per_bus = int(input(\"Number of seats per bus:\"))\n",
    "print(number_people/number_seats_per_bus)"
   ]
  },
  {
   "cell_type": "code",
   "execution_count": 3,
   "metadata": {},
   "outputs": [
    {
     "data": {
      "text/plain": [
       "4"
      ]
     },
     "execution_count": 3,
     "metadata": {},
     "output_type": "execute_result"
    }
   ],
   "source": [
    "round(4.3)"
   ]
  },
  {
   "cell_type": "code",
   "execution_count": 4,
   "metadata": {},
   "outputs": [],
   "source": [
    "import math"
   ]
  },
  {
   "cell_type": "code",
   "execution_count": 5,
   "metadata": {},
   "outputs": [
    {
     "data": {
      "text/plain": [
       "3"
      ]
     },
     "execution_count": 5,
     "metadata": {},
     "output_type": "execute_result"
    }
   ],
   "source": [
    "math.floor(3.1)"
   ]
  },
  {
   "cell_type": "code",
   "execution_count": 6,
   "metadata": {},
   "outputs": [
    {
     "data": {
      "text/plain": [
       "4"
      ]
     },
     "execution_count": 6,
     "metadata": {},
     "output_type": "execute_result"
    }
   ],
   "source": [
    "math.ceil(3.1)"
   ]
  },
  {
   "cell_type": "code",
   "execution_count": 7,
   "metadata": {},
   "outputs": [
    {
     "data": {
      "text/plain": [
       "3"
      ]
     },
     "execution_count": 7,
     "metadata": {},
     "output_type": "execute_result"
    }
   ],
   "source": [
    "math.ceil(3.0)"
   ]
  },
  {
   "cell_type": "code",
   "execution_count": 8,
   "metadata": {},
   "outputs": [
    {
     "data": {
      "text/plain": [
       "4"
      ]
     },
     "execution_count": 8,
     "metadata": {},
     "output_type": "execute_result"
    }
   ],
   "source": [
    "math.ceil(3.2)"
   ]
  },
  {
   "cell_type": "code",
   "execution_count": 9,
   "metadata": {},
   "outputs": [
    {
     "data": {
      "text/plain": [
       "4"
      ]
     },
     "execution_count": 9,
     "metadata": {},
     "output_type": "execute_result"
    }
   ],
   "source": [
    "math.ceil(3.8)"
   ]
  },
  {
   "cell_type": "code",
   "execution_count": 10,
   "metadata": {},
   "outputs": [
    {
     "name": "stdout",
     "output_type": "stream",
     "text": [
      "Enter number of people:245\n",
      "Number of seats per bus:50\n",
      "5\n"
     ]
    }
   ],
   "source": [
    "import math\n",
    "number_people=int(input(\"Enter number of people:\"))\n",
    "number_seats_per_bus = int(input(\"Number of seats per bus:\"))\n",
    "print(math.ceil(number_people/number_seats_per_bus))"
   ]
  },
  {
   "cell_type": "code",
   "execution_count": null,
   "metadata": {},
   "outputs": [],
   "source": [
    "10% is"
   ]
  },
  {
   "cell_type": "code",
   "execution_count": 11,
   "metadata": {},
   "outputs": [
    {
     "data": {
      "text/plain": [
       "True"
      ]
     },
     "execution_count": 11,
     "metadata": {},
     "output_type": "execute_result"
    }
   ],
   "source": [
    "10+20 in [30,40,50,60]"
   ]
  },
  {
   "cell_type": "code",
   "execution_count": 12,
   "metadata": {},
   "outputs": [
    {
     "ename": "SyntaxError",
     "evalue": "invalid syntax (<ipython-input-12-c7d8c22b2bda>, line 1)",
     "output_type": "error",
     "traceback": [
      "\u001b[1;36m  File \u001b[1;32m\"<ipython-input-12-c7d8c22b2bda>\"\u001b[1;36m, line \u001b[1;32m1\u001b[0m\n\u001b[1;33m    10+ in [30,40,50,60]\u001b[0m\n\u001b[1;37m        ^\u001b[0m\n\u001b[1;31mSyntaxError\u001b[0m\u001b[1;31m:\u001b[0m invalid syntax\n"
     ]
    }
   ],
   "source": [
    "10+ in [30,40,50,60]"
   ]
  },
  {
   "cell_type": "code",
   "execution_count": 13,
   "metadata": {},
   "outputs": [
    {
     "data": {
      "text/plain": [
       "5.0"
      ]
     },
     "execution_count": 13,
     "metadata": {},
     "output_type": "execute_result"
    }
   ],
   "source": [
    "\"\"\"\n",
    "x1,x2,x3,x4\n",
    "l=[x1,x2,x3,x4]\n",
    "n=len(l)\n",
    "mean=sum(l)/n\n",
    "res=((x1-mean)**2+(x2-mean)**2+(x3-mean)**2+(x4-mean)**2)/(n-1)\n",
    "variance=sqrt(re)\n",
    "\"\"\"\n",
    "25**0.5\n"
   ]
  },
  {
   "cell_type": "code",
   "execution_count": 14,
   "metadata": {},
   "outputs": [
    {
     "name": "stdout",
     "output_type": "stream",
     "text": [
      "6.708203932499369\n"
     ]
    }
   ],
   "source": [
    "res=45\n",
    "print(res**0.5)"
   ]
  },
  {
   "cell_type": "code",
   "execution_count": 15,
   "metadata": {},
   "outputs": [],
   "source": [
    "import math"
   ]
  },
  {
   "cell_type": "code",
   "execution_count": 16,
   "metadata": {},
   "outputs": [
    {
     "data": {
      "text/plain": [
       "2.0"
      ]
     },
     "execution_count": 16,
     "metadata": {},
     "output_type": "execute_result"
    }
   ],
   "source": [
    "math.sqrt(4)"
   ]
  },
  {
   "cell_type": "code",
   "execution_count": 17,
   "metadata": {},
   "outputs": [
    {
     "name": "stdout",
     "output_type": "stream",
     "text": [
      "10 20 30\n"
     ]
    }
   ],
   "source": [
    "a,b,c=10,20,30\n",
    "print(a,b,c)"
   ]
  },
  {
   "cell_type": "code",
   "execution_count": 19,
   "metadata": {},
   "outputs": [
    {
     "name": "stdout",
     "output_type": "stream",
     "text": [
      "enter x1:1\n",
      "enter x2:2\n",
      "enter x3:3\n",
      "enter x4:4\n",
      "1.6666666666666667\n",
      "1.2909944487358056\n"
     ]
    }
   ],
   "source": [
    "x1,x2,x3,x4=float(input(\"enter x1:\")),float(input(\"enter x2:\")),float(input(\"enter x3:\")),float(input(\"enter x4:\"))\n",
    "elements = [x1,x2,x3,x4]\n",
    "n=len(elements)\n",
    "mean=sum(elements)/len(elements)\n",
    "variance=((x1-mean)**2+(x2-mean)**2+(x3-mean)**2+(x4-mean)**2)/(n-1)\n",
    "std=res**0.5\n",
    "print(variance)\n",
    "print(std)\n"
   ]
  },
  {
   "cell_type": "code",
   "execution_count": null,
   "metadata": {},
   "outputs": [],
   "source": [
    "import math\n",
    "x=int(input(\"Enter number of people:\"))\n",
    "y = int(input(\"Number of seats per bus:\"))\n",
    "print(math.ceil(x/y))"
   ]
  },
  {
   "cell_type": "code",
   "execution_count": 20,
   "metadata": {},
   "outputs": [],
   "source": [
    "number_of_days_per_week = 7"
   ]
  },
  {
   "cell_type": "code",
   "execution_count": 21,
   "metadata": {},
   "outputs": [
    {
     "name": "stdout",
     "output_type": "stream",
     "text": [
      "Enter name:apple\n",
      "apple\n"
     ]
    }
   ],
   "source": [
    "name=input(\"Enter name:\")\n",
    "print(name)"
   ]
  },
  {
   "cell_type": "code",
   "execution_count": 22,
   "metadata": {},
   "outputs": [
    {
     "name": "stdout",
     "output_type": "stream",
     "text": [
      "Enter name:orange\n",
      "orange\n"
     ]
    }
   ],
   "source": [
    "product_name=input(\"Enter name:\")\n",
    "print(product_name)"
   ]
  },
  {
   "cell_type": "code",
   "execution_count": null,
   "metadata": {},
   "outputs": [],
   "source": [
    "#number_of_days_per_week\n",
    "#product_name"
   ]
  },
  {
   "cell_type": "code",
   "execution_count": null,
   "metadata": {},
   "outputs": [],
   "source": [
    "NUMBER_OF_DAYS_PER_WEEK=7\n",
    "product_name=input(\"Enter name:\")\n",
    "#NUMBER_OF_DAYS_PER_WEEK\n",
    "#product_name"
   ]
  },
  {
   "cell_type": "code",
   "execution_count": 23,
   "metadata": {},
   "outputs": [
    {
     "ename": "SyntaxError",
     "evalue": "invalid syntax (<ipython-input-23-3a0aecfbf788>, line 1)",
     "output_type": "error",
     "traceback": [
      "\u001b[1;36m  File \u001b[1;32m\"<ipython-input-23-3a0aecfbf788>\"\u001b[1;36m, line \u001b[1;32m1\u001b[0m\n\u001b[1;33m    product$name=\"apple\"\u001b[0m\n\u001b[1;37m           ^\u001b[0m\n\u001b[1;31mSyntaxError\u001b[0m\u001b[1;31m:\u001b[0m invalid syntax\n"
     ]
    }
   ],
   "source": [
    "product$name=\"apple\""
   ]
  },
  {
   "cell_type": "code",
   "execution_count": 24,
   "metadata": {},
   "outputs": [
    {
     "name": "stdout",
     "output_type": "stream",
     "text": [
      "123\n"
     ]
    }
   ],
   "source": [
    "p1=123\n",
    "print(p1)"
   ]
  },
  {
   "cell_type": "code",
   "execution_count": 25,
   "metadata": {},
   "outputs": [
    {
     "ename": "SyntaxError",
     "evalue": "invalid syntax (<ipython-input-25-e2aa8543a4bc>, line 1)",
     "output_type": "error",
     "traceback": [
      "\u001b[1;36m  File \u001b[1;32m\"<ipython-input-25-e2aa8543a4bc>\"\u001b[1;36m, line \u001b[1;32m1\u001b[0m\n\u001b[1;33m    1product_name=\"apple\"\u001b[0m\n\u001b[1;37m     ^\u001b[0m\n\u001b[1;31mSyntaxError\u001b[0m\u001b[1;31m:\u001b[0m invalid syntax\n"
     ]
    }
   ],
   "source": [
    "1product_name=\"apple\""
   ]
  },
  {
   "cell_type": "code",
   "execution_count": 26,
   "metadata": {},
   "outputs": [],
   "source": [
    "product1_name=\"apple\""
   ]
  },
  {
   "cell_type": "code",
   "execution_count": 27,
   "metadata": {},
   "outputs": [],
   "source": [
    "product1_name1=\"apple\""
   ]
  },
  {
   "cell_type": "code",
   "execution_count": 28,
   "metadata": {},
   "outputs": [],
   "source": [
    "_product1_name1=\"apple\""
   ]
  },
  {
   "cell_type": "code",
   "execution_count": 29,
   "metadata": {},
   "outputs": [],
   "source": [
    "#you could not use the reserved words as variable name"
   ]
  },
  {
   "cell_type": "code",
   "execution_count": 30,
   "metadata": {},
   "outputs": [],
   "source": [
    "import keyword"
   ]
  },
  {
   "cell_type": "code",
   "execution_count": 32,
   "metadata": {},
   "outputs": [
    {
     "name": "stdout",
     "output_type": "stream",
     "text": [
      "['False', 'None', 'True', 'and', 'as', 'assert', 'async', 'await', 'break', 'class', 'continue', 'def', 'del', 'elif', 'else', 'except', 'finally', 'for', 'from', 'global', 'if', 'import', 'in', 'is', 'lambda', 'nonlocal', 'not', 'or', 'pass', 'raise', 'return', 'try', 'while', 'with', 'yield']\n"
     ]
    }
   ],
   "source": [
    "print(keyword.kwlist)"
   ]
  },
  {
   "cell_type": "code",
   "execution_count": 33,
   "metadata": {},
   "outputs": [
    {
     "ename": "SyntaxError",
     "evalue": "invalid syntax (<ipython-input-33-769b787c9fe2>, line 1)",
     "output_type": "error",
     "traceback": [
      "\u001b[1;36m  File \u001b[1;32m\"<ipython-input-33-769b787c9fe2>\"\u001b[1;36m, line \u001b[1;32m1\u001b[0m\n\u001b[1;33m    try=1234\u001b[0m\n\u001b[1;37m       ^\u001b[0m\n\u001b[1;31mSyntaxError\u001b[0m\u001b[1;31m:\u001b[0m invalid syntax\n"
     ]
    }
   ],
   "source": [
    "try=1234\n",
    "print(try)"
   ]
  },
  {
   "cell_type": "code",
   "execution_count": 35,
   "metadata": {},
   "outputs": [
    {
     "data": {
      "text/plain": [
       "10"
      ]
     },
     "execution_count": 35,
     "metadata": {},
     "output_type": "execute_result"
    }
   ],
   "source": [
    "sum([1,2,3,4])"
   ]
  },
  {
   "cell_type": "code",
   "execution_count": 36,
   "metadata": {},
   "outputs": [
    {
     "name": "stdout",
     "output_type": "stream",
     "text": [
      "20\n"
     ]
    }
   ],
   "source": [
    "sum=20\n",
    "print(sum)"
   ]
  },
  {
   "cell_type": "code",
   "execution_count": 37,
   "metadata": {},
   "outputs": [
    {
     "ename": "TypeError",
     "evalue": "'int' object is not callable",
     "output_type": "error",
     "traceback": [
      "\u001b[1;31m---------------------------------------------------------------------------\u001b[0m",
      "\u001b[1;31mTypeError\u001b[0m                                 Traceback (most recent call last)",
      "\u001b[1;32m<ipython-input-37-b00a85a50b66>\u001b[0m in \u001b[0;36m<module>\u001b[1;34m\u001b[0m\n\u001b[1;32m----> 1\u001b[1;33m \u001b[0msum\u001b[0m\u001b[1;33m(\u001b[0m\u001b[1;33m[\u001b[0m\u001b[1;36m1\u001b[0m\u001b[1;33m,\u001b[0m\u001b[1;36m2\u001b[0m\u001b[1;33m,\u001b[0m\u001b[1;36m3\u001b[0m\u001b[1;33m,\u001b[0m\u001b[1;36m4\u001b[0m\u001b[1;33m]\u001b[0m\u001b[1;33m)\u001b[0m\u001b[1;33m\u001b[0m\u001b[1;33m\u001b[0m\u001b[0m\n\u001b[0m",
      "\u001b[1;31mTypeError\u001b[0m: 'int' object is not callable"
     ]
    }
   ],
   "source": [
    "sum([1,2,3,4])"
   ]
  },
  {
   "cell_type": "code",
   "execution_count": 1,
   "metadata": {},
   "outputs": [
    {
     "name": "stdout",
     "output_type": "stream",
     "text": [
      "2³\n"
     ]
    }
   ],
   "source": [
    "\"\"\"\n",
    "take base and exponent value from the user and print like in mathematics:\n",
    "  example: base=2, exponent=3: 23\n",
    "Use: 2\\u00b3\n",
    "\"\"\"\n",
    "print(\"2\\u00b3\")\n",
    "\n",
    "\n"
   ]
  },
  {
   "cell_type": "code",
   "execution_count": 2,
   "metadata": {},
   "outputs": [
    {
     "name": "stdout",
     "output_type": "stream",
     "text": [
      "4µ\n"
     ]
    }
   ],
   "source": [
    "print(\"4\\u00b5\")"
   ]
  },
  {
   "cell_type": "code",
   "execution_count": 3,
   "metadata": {},
   "outputs": [
    {
     "name": "stdout",
     "output_type": "stream",
     "text": [
      "µ\n"
     ]
    }
   ],
   "source": [
    "print(\"\\u00b5\")"
   ]
  },
  {
   "cell_type": "code",
   "execution_count": 1,
   "metadata": {},
   "outputs": [
    {
     "name": "stdout",
     "output_type": "stream",
     "text": [
      "20\n"
     ]
    }
   ],
   "source": [
    "a=10 and 20\n",
    "print(a)"
   ]
  },
  {
   "cell_type": "code",
   "execution_count": 2,
   "metadata": {},
   "outputs": [
    {
     "name": "stdout",
     "output_type": "stream",
     "text": [
      "0\n"
     ]
    }
   ],
   "source": [
    "a=0 and 20\n",
    "print(a)"
   ]
  },
  {
   "cell_type": "code",
   "execution_count": 3,
   "metadata": {},
   "outputs": [
    {
     "name": "stdout",
     "output_type": "stream",
     "text": [
      "20\n"
     ]
    }
   ],
   "source": [
    "a=0 or 20\n",
    "print(a)"
   ]
  },
  {
   "cell_type": "code",
   "execution_count": 4,
   "metadata": {},
   "outputs": [
    {
     "name": "stdout",
     "output_type": "stream",
     "text": [
      "10\n"
     ]
    }
   ],
   "source": [
    "a=10 or 20\n",
    "print(a)"
   ]
  },
  {
   "cell_type": "code",
   "execution_count": 5,
   "metadata": {},
   "outputs": [
    {
     "name": "stdout",
     "output_type": "stream",
     "text": [
      "ten\n"
     ]
    }
   ],
   "source": [
    "x=10\n",
    "res=\"ten\" if x==10 else \"not ten\"\n",
    "print(res)"
   ]
  },
  {
   "cell_type": "code",
   "execution_count": 6,
   "metadata": {},
   "outputs": [
    {
     "name": "stdout",
     "output_type": "stream",
     "text": [
      "not ten\n"
     ]
    }
   ],
   "source": [
    "x=100\n",
    "res=\"ten\" if x==10 else \"not ten\"\n",
    "print(res)"
   ]
  },
  {
   "cell_type": "code",
   "execution_count": 7,
   "metadata": {},
   "outputs": [
    {
     "name": "stdout",
     "output_type": "stream",
     "text": [
      "not ten\n"
     ]
    }
   ],
   "source": [
    "res = 11 and \"not ten\"\n",
    "print(res)"
   ]
  },
  {
   "cell_type": "code",
   "execution_count": 8,
   "metadata": {},
   "outputs": [
    {
     "name": "stdout",
     "output_type": "stream",
     "text": [
      "not ten\n"
     ]
    }
   ],
   "source": [
    "res = \"not ten\" or 11\n",
    "print(res)"
   ]
  },
  {
   "cell_type": "code",
   "execution_count": 9,
   "metadata": {},
   "outputs": [
    {
     "name": "stdout",
     "output_type": "stream",
     "text": [
      "ten\n"
     ]
    }
   ],
   "source": [
    "res = 10 and \"ten\"\n",
    "print(res)"
   ]
  },
  {
   "cell_type": "code",
   "execution_count": 10,
   "metadata": {},
   "outputs": [
    {
     "name": "stdout",
     "output_type": "stream",
     "text": [
      "ten\n"
     ]
    }
   ],
   "source": [
    "res = \"ten\" or 10\n",
    "print(res)"
   ]
  },
  {
   "cell_type": "code",
   "execution_count": 1,
   "metadata": {},
   "outputs": [
    {
     "name": "stdout",
     "output_type": "stream",
     "text": [
      "10\n",
      "1000\n",
      "145\n"
     ]
    }
   ],
   "source": [
    "x=10\n",
    "y=1000\n",
    "z=145\n",
    "print(x)\n",
    "print(y)\n",
    "print(z)"
   ]
  },
  {
   "cell_type": "code",
   "execution_count": 2,
   "metadata": {},
   "outputs": [
    {
     "name": "stdout",
     "output_type": "stream",
     "text": [
      "['$%^', '789', '%$^', 'def6', '45', ',#$', 'abc123']\n"
     ]
    }
   ],
   "source": [
    "#Input: abc123,#$45def6%$^789$%^, output: $%^987%$^6fed54,#$321cba\n",
    "l=[\"abc123\",\",#$\",\"45\",\"def6\",\"%$^\",\"789\",\"$%^\"]\n",
    "l.reverse()\n",
    "print(l)\n",
    "# inp = \"abc123,#$45def6%$^789$%^\"\n",
    "# inp_l = []\n",
    "# sub = \"\"\n",
    "# for i in inp:\n",
    "#     if i.isalnum():\n",
    "#         sub=sub+i\n",
    "        \n",
    "#     else:\n",
    "#         # i is special symbols\n",
    "#         inp_l.append(sub)\n",
    "#         sub=\"\"\n",
    "#         sub=sub+i\n",
    "    "
   ]
  },
  {
   "cell_type": "code",
   "execution_count": 4,
   "metadata": {},
   "outputs": [
    {
     "name": "stdout",
     "output_type": "stream",
     "text": [
      "$%^987%$^6fed54,#$321cba\n",
      "['$%^', '789', '%$^', 'def6', '45', ',#$', 'abc123']\n"
     ]
    }
   ],
   "source": [
    "#Input: abc123,#$45def6%$^789$%^, output: $%^987%$^6fed54,#$321cba\n",
    "l=[\"abc123\",\",#$\",\"45\",\"def6\",\"%$^\",\"789\",\"$%^\"]\n",
    "l.reverse()\n",
    "res=\"\"\n",
    "for i in l:\n",
    "    if i.isalnum():\n",
    "        res=res+i[::-1]\n",
    "    else:\n",
    "        res=res+i\n",
    "print(res)\n",
    "print(l)\n",
    "# inp = \"abc123,#$45def6%$^789$%^\"\n",
    "# inp_l = []\n",
    "# sub = \"\"\n",
    "# for i in inp:\n",
    "#     if i.isalnum():\n",
    "#         sub=sub+i\n",
    "        \n",
    "#     else:\n",
    "#         # i is special symbols\n",
    "#         inp_l.append(sub)\n",
    "#         sub=\"\"\n",
    "#         sub=sub+i\n",
    "    "
   ]
  },
  {
   "cell_type": "code",
   "execution_count": 5,
   "metadata": {},
   "outputs": [
    {
     "name": "stdout",
     "output_type": "stream",
     "text": [
      "['abc123', '', '45def6', '', '789', '']\n"
     ]
    }
   ],
   "source": [
    "inp = \"abc123,#$45def6%$^789$%^\"\n",
    "inp_l = []\n",
    "sub = \"\"\n",
    "is_spcial_sub=False\n",
    "is_alpha_sub=False\n",
    "for i in inp:\n",
    "    if i.isalnum():\n",
    "        sub=sub+i\n",
    "    else:\n",
    "        if sub:\n",
    "            inp_l.append(sub)\n",
    "            sub=\"\"\n",
    "            inp_l.append(sub)\n",
    "print(inp_l)\n",
    "    "
   ]
  },
  {
   "cell_type": "code",
   "execution_count": 8,
   "metadata": {},
   "outputs": [
    {
     "name": "stdout",
     "output_type": "stream",
     "text": [
      "['abc123', '45def6', '789', '']\n",
      "[',#$', '%$^', '$%^']\n"
     ]
    }
   ],
   "source": [
    "inp = \"abc123,#$45def6%$^789$%^\"\n",
    "inp_l = []\n",
    "sub = \"\"\n",
    "alnum_inp_l=[]\n",
    "for i in inp:\n",
    "    if i.isalnum():\n",
    "        sub=sub+i\n",
    "    else:\n",
    "        if sub:\n",
    "            alnum_inp_l.append(sub)\n",
    "            sub=\"\"\n",
    "alnum_inp_l.append(sub)\n",
    "special_inp_l=[]\n",
    "print(alnum_inp_l)\n",
    "for i in inp:\n",
    "    if not i.isalnum():\n",
    "        sub=sub+i\n",
    "    else:\n",
    "        if sub:\n",
    "            special_inp_l.append(sub)\n",
    "            sub=\"\"\n",
    "special_inp_l.append(sub)\n",
    "print(special_inp_l)\n",
    "    "
   ]
  },
  {
   "cell_type": "code",
   "execution_count": 9,
   "metadata": {},
   "outputs": [
    {
     "name": "stdout",
     "output_type": "stream",
     "text": [
      "['abc123', '45def6', '789', '']\n",
      "[',#$', '%$^', '$%^']\n",
      "abc123\n",
      "45def6\n",
      "789\n",
      "\n"
     ]
    }
   ],
   "source": [
    "inp = \"abc123,#$45def6%$^789$%^\"\n",
    "inp_l = []\n",
    "sub = \"\"\n",
    "alnum_inp_l=[]\n",
    "for i in inp:\n",
    "    if i.isalnum():\n",
    "        sub=sub+i\n",
    "    else:\n",
    "        if sub:\n",
    "            alnum_inp_l.append(sub)\n",
    "            sub=\"\"\n",
    "alnum_inp_l.append(sub)\n",
    "special_inp_l=[]\n",
    "print(alnum_inp_l)\n",
    "for i in inp:\n",
    "    if not i.isalnum():\n",
    "        sub=sub+i\n",
    "    else:\n",
    "        if sub:\n",
    "            special_inp_l.append(sub)\n",
    "            sub=\"\"\n",
    "special_inp_l.append(sub)\n",
    "print(special_inp_l)\n",
    "pre_res=[]\n",
    "for i in alnum_inp_l:\n",
    "    print(i)"
   ]
  },
  {
   "cell_type": "code",
   "execution_count": 10,
   "metadata": {},
   "outputs": [
    {
     "name": "stdout",
     "output_type": "stream",
     "text": [
      "['abc123', '45def6', '789', '']\n",
      "[',#$', '%$^', '$%^']\n",
      "(0, 'abc123')\n",
      "(1, '45def6')\n",
      "(2, '789')\n",
      "(3, '')\n"
     ]
    }
   ],
   "source": [
    "inp = \"abc123,#$45def6%$^789$%^\"\n",
    "inp_l = []\n",
    "sub = \"\"\n",
    "alnum_inp_l=[]\n",
    "for i in inp:\n",
    "    if i.isalnum():\n",
    "        sub=sub+i\n",
    "    else:\n",
    "        if sub:\n",
    "            alnum_inp_l.append(sub)\n",
    "            sub=\"\"\n",
    "alnum_inp_l.append(sub)\n",
    "special_inp_l=[]\n",
    "print(alnum_inp_l)\n",
    "for i in inp:\n",
    "    if not i.isalnum():\n",
    "        sub=sub+i\n",
    "    else:\n",
    "        if sub:\n",
    "            special_inp_l.append(sub)\n",
    "            sub=\"\"\n",
    "special_inp_l.append(sub)\n",
    "print(special_inp_l)\n",
    "pre_res=[]\n",
    "for i in enumerate(alnum_inp_l):\n",
    "    print(i)"
   ]
  },
  {
   "cell_type": "code",
   "execution_count": 11,
   "metadata": {},
   "outputs": [
    {
     "name": "stdout",
     "output_type": "stream",
     "text": [
      "['abc123', '45def6', '789', '']\n",
      "[',#$', '%$^', '$%^']\n",
      "0 abc123\n",
      "1 45def6\n",
      "2 789\n",
      "3 \n"
     ]
    }
   ],
   "source": [
    "inp = \"abc123,#$45def6%$^789$%^\"\n",
    "inp_l = []\n",
    "sub = \"\"\n",
    "alnum_inp_l=[]\n",
    "for i in inp:\n",
    "    if i.isalnum():\n",
    "        sub=sub+i\n",
    "    else:\n",
    "        if sub:\n",
    "            alnum_inp_l.append(sub)\n",
    "            sub=\"\"\n",
    "alnum_inp_l.append(sub)\n",
    "special_inp_l=[]\n",
    "print(alnum_inp_l)\n",
    "for i in inp:\n",
    "    if not i.isalnum():\n",
    "        sub=sub+i\n",
    "    else:\n",
    "        if sub:\n",
    "            special_inp_l.append(sub)\n",
    "            sub=\"\"\n",
    "special_inp_l.append(sub)\n",
    "print(special_inp_l)\n",
    "pre_res=[]\n",
    "for ind,elem in enumerate(alnum_inp_l):\n",
    "    print(ind, elem)"
   ]
  },
  {
   "cell_type": "code",
   "execution_count": 12,
   "metadata": {},
   "outputs": [
    {
     "name": "stdout",
     "output_type": "stream",
     "text": [
      "['abc123', '45def6', '789', '']\n",
      "[',#$', '%$^', '$%^']\n",
      "0 abc123 ,#$\n",
      "1 45def6 %$^\n",
      "2 789 $%^\n"
     ]
    },
    {
     "ename": "IndexError",
     "evalue": "list index out of range",
     "output_type": "error",
     "traceback": [
      "\u001b[1;31m---------------------------------------------------------------------------\u001b[0m",
      "\u001b[1;31mIndexError\u001b[0m                                Traceback (most recent call last)",
      "\u001b[1;32m<ipython-input-12-4285ff4577bf>\u001b[0m in \u001b[0;36m<module>\u001b[1;34m\u001b[0m\n\u001b[0;32m     24\u001b[0m \u001b[0mpre_res\u001b[0m\u001b[1;33m=\u001b[0m\u001b[1;33m[\u001b[0m\u001b[1;33m]\u001b[0m\u001b[1;33m\u001b[0m\u001b[1;33m\u001b[0m\u001b[0m\n\u001b[0;32m     25\u001b[0m \u001b[1;32mfor\u001b[0m \u001b[0mind\u001b[0m\u001b[1;33m,\u001b[0m\u001b[0melem\u001b[0m \u001b[1;32min\u001b[0m \u001b[0menumerate\u001b[0m\u001b[1;33m(\u001b[0m\u001b[0malnum_inp_l\u001b[0m\u001b[1;33m)\u001b[0m\u001b[1;33m:\u001b[0m\u001b[1;33m\u001b[0m\u001b[1;33m\u001b[0m\u001b[0m\n\u001b[1;32m---> 26\u001b[1;33m     \u001b[0mprint\u001b[0m\u001b[1;33m(\u001b[0m\u001b[0mind\u001b[0m\u001b[1;33m,\u001b[0m \u001b[0melem\u001b[0m\u001b[1;33m,\u001b[0m \u001b[0mspecial_inp_l\u001b[0m\u001b[1;33m[\u001b[0m\u001b[0mind\u001b[0m\u001b[1;33m]\u001b[0m\u001b[1;33m)\u001b[0m\u001b[1;33m\u001b[0m\u001b[1;33m\u001b[0m\u001b[0m\n\u001b[0m",
      "\u001b[1;31mIndexError\u001b[0m: list index out of range"
     ]
    }
   ],
   "source": [
    "inp = \"abc123,#$45def6%$^789$%^\"\n",
    "inp_l = []\n",
    "sub = \"\"\n",
    "alnum_inp_l=[]\n",
    "for i in inp:\n",
    "    if i.isalnum():\n",
    "        sub=sub+i\n",
    "    else:\n",
    "        if sub:\n",
    "            alnum_inp_l.append(sub)\n",
    "            sub=\"\"\n",
    "alnum_inp_l.append(sub)\n",
    "special_inp_l=[]\n",
    "print(alnum_inp_l)\n",
    "for i in inp:\n",
    "    if not i.isalnum():\n",
    "        sub=sub+i\n",
    "    else:\n",
    "        if sub:\n",
    "            special_inp_l.append(sub)\n",
    "            sub=\"\"\n",
    "special_inp_l.append(sub)\n",
    "print(special_inp_l)\n",
    "pre_res=[]\n",
    "for ind,elem in enumerate(alnum_inp_l):\n",
    "    print(ind, elem, special_inp_l[ind])"
   ]
  },
  {
   "cell_type": "code",
   "execution_count": 14,
   "metadata": {},
   "outputs": [
    {
     "name": "stdout",
     "output_type": "stream",
     "text": [
      "['abc123', '45def6', '789', '']\n",
      "[',#$', '%$^', '$%^']\n",
      "['abc123', ',#$', '45def6', '%$^', '789', '$%^', '']\n"
     ]
    }
   ],
   "source": [
    "inp = \"abc123,#$45def6%$^789$%^\"\n",
    "inp_l = []\n",
    "sub = \"\"\n",
    "alnum_inp_l=[]\n",
    "for i in inp:\n",
    "    if i.isalnum():\n",
    "        sub=sub+i\n",
    "    else:\n",
    "        if sub:\n",
    "            alnum_inp_l.append(sub)\n",
    "            sub=\"\"\n",
    "alnum_inp_l.append(sub)\n",
    "special_inp_l=[]\n",
    "print(alnum_inp_l)\n",
    "for i in inp:\n",
    "    if not i.isalnum():\n",
    "        sub=sub+i\n",
    "    else:\n",
    "        if sub:\n",
    "            special_inp_l.append(sub)\n",
    "            sub=\"\"\n",
    "special_inp_l.append(sub)\n",
    "print(special_inp_l)\n",
    "pre_res=[]\n",
    "for ind,elem in enumerate(alnum_inp_l):\n",
    "    pre_res.append(elem)\n",
    "    if ind in range(len(special_inp_l)):\n",
    "        pre_res.append(special_inp_l[ind])\n",
    "print(pre_res)"
   ]
  },
  {
   "cell_type": "code",
   "execution_count": 16,
   "metadata": {},
   "outputs": [
    {
     "name": "stdout",
     "output_type": "stream",
     "text": [
      "['abc123', '45def6', '789', '']\n",
      "[',#$', '%$^', '$%^']\n",
      "None\n",
      "['', '$%^', '789', '%$^', '45def6', ',#$', 'abc123']\n"
     ]
    }
   ],
   "source": [
    "inp = \"abc123,#$45def6%$^789$%^\"\n",
    "inp_l = []\n",
    "sub = \"\"\n",
    "alnum_inp_l=[]\n",
    "for i in inp:\n",
    "    if i.isalnum():\n",
    "        sub=sub+i\n",
    "    else:\n",
    "        if sub:\n",
    "            alnum_inp_l.append(sub)\n",
    "            sub=\"\"\n",
    "alnum_inp_l.append(sub)\n",
    "special_inp_l=[]\n",
    "print(alnum_inp_l)\n",
    "for i in inp:\n",
    "    if not i.isalnum():\n",
    "        sub=sub+i\n",
    "    else:\n",
    "        if sub:\n",
    "            special_inp_l.append(sub)\n",
    "            sub=\"\"\n",
    "special_inp_l.append(sub)\n",
    "print(special_inp_l)\n",
    "pre_res=[]\n",
    "for ind,elem in enumerate(alnum_inp_l):\n",
    "    pre_res.append(elem)\n",
    "    if ind in range(len(special_inp_l)):\n",
    "        pre_res.append(special_inp_l[ind])\n",
    "print(pre_res.reverse())\n",
    "print(pre_res)"
   ]
  },
  {
   "cell_type": "code",
   "execution_count": 17,
   "metadata": {},
   "outputs": [
    {
     "name": "stdout",
     "output_type": "stream",
     "text": [
      "['abc123', '45def6', '789', '']\n",
      "[',#$', '%$^', '$%^']\n",
      "None\n",
      "$%^987%$^6fed54,#$321cba\n"
     ]
    }
   ],
   "source": [
    "inp = \"abc123,#$45def6%$^789$%^\"\n",
    "inp_l = []\n",
    "sub = \"\"\n",
    "alnum_inp_l=[]\n",
    "for i in inp:\n",
    "    if i.isalnum():\n",
    "        sub=sub+i\n",
    "    else:\n",
    "        if sub:\n",
    "            alnum_inp_l.append(sub)\n",
    "            sub=\"\"\n",
    "alnum_inp_l.append(sub)\n",
    "special_inp_l=[]\n",
    "print(alnum_inp_l)\n",
    "for i in inp:\n",
    "    if not i.isalnum():\n",
    "        sub=sub+i\n",
    "    else:\n",
    "        if sub:\n",
    "            special_inp_l.append(sub)\n",
    "            sub=\"\"\n",
    "special_inp_l.append(sub)\n",
    "print(special_inp_l)\n",
    "pre_res=[]\n",
    "for ind,elem in enumerate(alnum_inp_l):\n",
    "    pre_res.append(elem)\n",
    "    if ind in range(len(special_inp_l)):\n",
    "        pre_res.append(special_inp_l[ind])\n",
    "print(pre_res.reverse())\n",
    "res=[]\n",
    "for i in pre_res:\n",
    "    if i.isalnum():\n",
    "        res.append(i[::-1])\n",
    "    else:\n",
    "        res.append(i)\n",
    "print(\"\".join(res))"
   ]
  },
  {
   "cell_type": "code",
   "execution_count": 18,
   "metadata": {},
   "outputs": [
    {
     "name": "stdout",
     "output_type": "stream",
     "text": [
      "['abc123', '45def6', '789', '']\n",
      "[',#$', '%$^', '$%^']\n",
      "None\n",
      "$%^987%$^6fed54,#$321cba\n"
     ]
    }
   ],
   "source": [
    "inp = \"abc123,#$45def6%$^789$%^\"\n",
    "inp_l = []\n",
    "sub = \"\"\n",
    "alnum_inp_l=[]\n",
    "for i in inp:\n",
    "    if i.isalnum():\n",
    "        sub=sub+i\n",
    "    else:\n",
    "        if sub:\n",
    "            alnum_inp_l.append(sub)\n",
    "            sub=\"\"\n",
    "alnum_inp_l.append(sub)\n",
    "special_inp_l=[]\n",
    "print(alnum_inp_l)\n",
    "for i in inp:\n",
    "    if not i.isalnum():\n",
    "        sub=sub+i\n",
    "    else:\n",
    "        if sub:\n",
    "            special_inp_l.append(sub)\n",
    "            sub=\"\"\n",
    "special_inp_l.append(sub)\n",
    "print(special_inp_l)\n",
    "pre_res=[]\n",
    "for ind,elem in enumerate(alnum_inp_l):\n",
    "    pre_res.append(elem)\n",
    "    if ind in range(len(special_inp_l)):\n",
    "        pre_res.append(special_inp_l[ind])\n",
    "print(pre_res.reverse())\n",
    "res=[]\n",
    "for i in pre_res:\n",
    "    if i.isalnum():\n",
    "        res.append(i[::-1])\n",
    "    else:\n",
    "        res.append(i)\n",
    "print(\"\".join(res))"
   ]
  },
  {
   "cell_type": "code",
   "execution_count": 20,
   "metadata": {},
   "outputs": [
    {
     "name": "stdout",
     "output_type": "stream",
     "text": [
      "321,#$654%$^987$%^\n"
     ]
    }
   ],
   "source": [
    "inp = \"123,#$456%$^789$%^\"\n",
    "res=\"\"\n",
    "pre_res=[]\n",
    "sub = \"\"\n",
    "for i in inp:\n",
    "    if i.isalnum():\n",
    "        sub=sub+i\n",
    "    else:\n",
    "        if sub:\n",
    "            res=res+sub[::-1]\n",
    "        res=res+i\n",
    "        sub=\"\"\n",
    "print(res)"
   ]
  },
  {
   "cell_type": "code",
   "execution_count": null,
   "metadata": {},
   "outputs": [],
   "source": []
  }
 ],
 "metadata": {
  "kernelspec": {
   "display_name": "Python 3",
   "language": "python",
   "name": "python3"
  },
  "language_info": {
   "codemirror_mode": {
    "name": "ipython",
    "version": 3
   },
   "file_extension": ".py",
   "mimetype": "text/x-python",
   "name": "python",
   "nbconvert_exporter": "python",
   "pygments_lexer": "ipython3",
   "version": "3.8.3"
  }
 },
 "nbformat": 4,
 "nbformat_minor": 4
}
